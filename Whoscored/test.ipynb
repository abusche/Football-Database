{
 "cells": [
  {
   "cell_type": "code",
   "execution_count": 77,
   "metadata": {},
   "outputs": [],
   "source": [
    "import pandas as pd\n",
    "\n",
    "num = 20\n",
    "order = 'asc'\n",
    "\n",
    "path = \"urls/clean/\"\n",
    "all_matches = pd.read_csv(f\"{path}links.csv\")\n",
    "all_not_availables = pd.read_csv(f\"{path}not_availables.csv\")\n",
    "try:\n",
    "    all_errors = pd.read_csv(f\"{path}errors.csv\")\n",
    "except:\n",
    "    all_errors = pd.DataFrame(columns=[\"link\"])\n",
    "\n",
    "ma = max([int(all_matches[\"num_lien\"].max()), float(all_not_availables[\"num_lien\"].max())])\n",
    "mi = min([int(all_matches[\"num_lien\"].min()), float(all_not_availables[\"num_lien\"].min())])\n",
    "\n",
    "number_list = []\n",
    "if order == \"asc\":\n",
    "    number_list = list(range(ma + 1, ma + num + 1))\n",
    "if order == \"desc\":\n",
    "    number_list = list(range(mi - num, mi))"
   ]
  },
  {
   "cell_type": "code",
   "execution_count": 78,
   "metadata": {},
   "outputs": [
    {
     "data": {
      "text/plain": [
       "[1828020,\n",
       " 1828021,\n",
       " 1828022,\n",
       " 1828023,\n",
       " 1828024,\n",
       " 1828025,\n",
       " 1828026,\n",
       " 1828027,\n",
       " 1828028,\n",
       " 1828029,\n",
       " 1828030,\n",
       " 1828031,\n",
       " 1828032,\n",
       " 1828033,\n",
       " 1828034,\n",
       " 1828035,\n",
       " 1828036,\n",
       " 1828037,\n",
       " 1828038,\n",
       " 1828039]"
      ]
     },
     "execution_count": 78,
     "metadata": {},
     "output_type": "execute_result"
    }
   ],
   "source": [
    "number_list"
   ]
  },
  {
   "cell_type": "code",
   "execution_count": 79,
   "metadata": {},
   "outputs": [
    {
     "data": {
      "text/plain": [
       "['https://fr.whoscored.com/matches/1828020',\n",
       " 'https://fr.whoscored.com/matches/1828021',\n",
       " 'https://fr.whoscored.com/matches/1828022',\n",
       " 'https://fr.whoscored.com/matches/1828023',\n",
       " 'https://fr.whoscored.com/matches/1828024',\n",
       " 'https://fr.whoscored.com/matches/1828025',\n",
       " 'https://fr.whoscored.com/matches/1828026',\n",
       " 'https://fr.whoscored.com/matches/1828027',\n",
       " 'https://fr.whoscored.com/matches/1828028',\n",
       " 'https://fr.whoscored.com/matches/1828029',\n",
       " 'https://fr.whoscored.com/matches/1828030',\n",
       " 'https://fr.whoscored.com/matches/1828031',\n",
       " 'https://fr.whoscored.com/matches/1828032',\n",
       " 'https://fr.whoscored.com/matches/1828033',\n",
       " 'https://fr.whoscored.com/matches/1828034',\n",
       " 'https://fr.whoscored.com/matches/1828035',\n",
       " 'https://fr.whoscored.com/matches/1828036',\n",
       " 'https://fr.whoscored.com/matches/1828037',\n",
       " 'https://fr.whoscored.com/matches/1828038',\n",
       " 'https://fr.whoscored.com/matches/1828039']"
      ]
     },
     "execution_count": 79,
     "metadata": {},
     "output_type": "execute_result"
    }
   ],
   "source": [
    "pre_links = [f\"https://fr.whoscored.com/matches/{el}\" for el in number_list]\n",
    "pre_links"
   ]
  }
 ],
 "metadata": {
  "kernelspec": {
   "display_name": ".venv",
   "language": "python",
   "name": "python3"
  },
  "language_info": {
   "codemirror_mode": {
    "name": "ipython",
    "version": 3
   },
   "file_extension": ".py",
   "mimetype": "text/x-python",
   "name": "python",
   "nbconvert_exporter": "python",
   "pygments_lexer": "ipython3",
   "version": "3.12.4"
  }
 },
 "nbformat": 4,
 "nbformat_minor": 2
}
