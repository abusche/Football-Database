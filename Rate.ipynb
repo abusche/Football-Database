{
 "cells": [
  {
   "cell_type": "code",
   "execution_count": 35,
   "metadata": {},
   "outputs": [
    {
     "name": "stdout",
     "output_type": "stream",
     "text": [
      "Extraction des liens...\n",
      "\n"
     ]
    },
    {
     "name": "stderr",
     "output_type": "stream",
     "text": [
      "100%|██████████| 15/15 [02:05<00:00,  8.38s/it]\n"
     ]
    },
    {
     "name": "stdout",
     "output_type": "stream",
     "text": [
      "Chargement de la base de données...\n",
      " \n",
      "Extraction terminée en  4.52 minutes\n"
     ]
    }
   ],
   "source": [
    "from match_functions import get_match_database\n",
    "data = get_match_database('2025-03-01', '2025-03-15', leagues = [\"Ligue 1\"], save = True, add = False)"
   ]
  },
  {
   "cell_type": "code",
   "execution_count": 38,
   "metadata": {},
   "outputs": [
    {
     "name": "stdout",
     "output_type": "stream",
     "text": [
      "Data\n"
     ]
    },
    {
     "data": {
      "text/html": [
       "<table id=\"itables_360a7ba1_ae9f_4b53_a5a0_893770f073e3\" class=\"display nowrap\" data-quarto-disable-processing=\"true\" style=\"table-layout:auto;width:auto;margin:auto;caption-side:bottom\">\n",
       "<thead>\n",
       "    <tr style=\"text-align: right;\">\n",
       "      \n",
       "      <th>Championnat</th>\n",
       "      <th>Journée</th>\n",
       "      <th>Saison</th>\n",
       "      <th>Equipe1</th>\n",
       "      <th>Equipe2</th>\n",
       "      <th>Score1</th>\n",
       "      <th>Score2</th>\n",
       "      <th>xG1</th>\n",
       "      <th>xG2</th>\n",
       "      <th>Possession1</th>\n",
       "      <th>Possession2</th>\n",
       "      <th>Passes1</th>\n",
       "      <th>Passes réussies1</th>\n",
       "      <th>% Passes réussies1</th>\n",
       "      <th>Passes2</th>\n",
       "      <th>Passes réussies2</th>\n",
       "      <th>% Passes réussies2</th>\n",
       "      <th>Tirs1</th>\n",
       "      <th>Tirs cadrés1</th>\n",
       "      <th>% Tirs cadrés1</th>\n",
       "      <th>Tirs2</th>\n",
       "      <th>Tirs cadrés2</th>\n",
       "      <th>% Tirs cadrés2</th>\n",
       "      <th>Arrêts possibles1</th>\n",
       "      <th>Arrêts1</th>\n",
       "      <th>% Arrêts1</th>\n",
       "      <th>Arrêts possibles2</th>\n",
       "      <th>Arrêts2</th>\n",
       "      <th>% Arrêts2</th>\n",
       "      <th>Fautes1</th>\n",
       "      <th>Fautes2</th>\n",
       "      <th>Corners1</th>\n",
       "      <th>Corners2</th>\n",
       "      <th>Centres1</th>\n",
       "      <th>Centres2</th>\n",
       "      <th>Touches1</th>\n",
       "      <th>Touches2</th>\n",
       "      <th>Tacles1</th>\n",
       "      <th>Tacles2</th>\n",
       "      <th>Interceptions1</th>\n",
       "      <th>Interceptions2</th>\n",
       "      <th>Duels aériens gagnés1</th>\n",
       "      <th>Duels aériens gagnés2</th>\n",
       "      <th>Dégagements1</th>\n",
       "      <th>Dégagements2</th>\n",
       "      <th>Hors-jeux1</th>\n",
       "      <th>Hors-jeux2</th>\n",
       "      <th>Dégagements au six mètres1</th>\n",
       "      <th>Dégagements au six mètres2</th>\n",
       "      <th>Rentrée de touche1</th>\n",
       "      <th>Rentrée de touche2</th>\n",
       "      <th>Longs ballons1</th>\n",
       "      <th>Longs ballons2</th>\n",
       "      <th>Cartons jaunes1</th>\n",
       "      <th>Cartons jaunes2</th>\n",
       "      <th>Cartons rouges1</th>\n",
       "      <th>Cartons rouges2</th>\n",
       "      <th>Date</th>\n",
       "      <th>Heure</th>\n",
       "      <th>Arbitre</th>\n",
       "      <th>Affluence</th>\n",
       "      <th>Stade</th>\n",
       "      <th>Entraineur1</th>\n",
       "      <th>Entraineur2</th>\n",
       "      <th>Dispositif1</th>\n",
       "      <th>Dispositif2</th>\n",
       "      <th>Composition1</th>\n",
       "      <th>Composition2</th>\n",
       "    </tr>\n",
       "  </thead><tbody><tr>\n",
       "<td style=\"vertical-align:middle; text-align:left\">\n",
       "<a href=https://mwouts.github.io/itables/><svg class=\"main-svg\" xmlns=\"http://www.w3.org/2000/svg\" xmlns:xlink=\"http://www.w3.org/1999/xlink\"\n",
       "width=\"64\" viewBox=\"0 0 500 400\" style=\"font-family: 'Droid Sans', sans-serif;\">\n",
       "    <g style=\"fill:#d9d7fc\">\n",
       "        <path d=\"M100,400H500V357H100Z\" />\n",
       "        <path d=\"M100,300H400V257H100Z\" />\n",
       "        <path d=\"M0,200H400V157H0Z\" />\n",
       "        <path d=\"M100,100H500V57H100Z\" />\n",
       "        <path d=\"M100,350H500V307H100Z\" />\n",
       "        <path d=\"M100,250H400V207H100Z\" />\n",
       "        <path d=\"M0,150H400V107H0Z\" />\n",
       "        <path d=\"M100,50H500V7H100Z\" />\n",
       "    </g>\n",
       "    <g style=\"fill:#1a1366;stroke:#1a1366;\">\n",
       "   <rect x=\"100\" y=\"7\" width=\"400\" height=\"43\">\n",
       "    <animate\n",
       "      attributeName=\"width\"\n",
       "      values=\"0;400;0\"\n",
       "      dur=\"5s\"\n",
       "      repeatCount=\"indefinite\" />\n",
       "      <animate\n",
       "      attributeName=\"x\"\n",
       "      values=\"100;100;500\"\n",
       "      dur=\"5s\"\n",
       "      repeatCount=\"indefinite\" />\n",
       "  </rect>\n",
       "        <rect x=\"0\" y=\"107\" width=\"400\" height=\"43\">\n",
       "    <animate\n",
       "      attributeName=\"width\"\n",
       "      values=\"0;400;0\"\n",
       "      dur=\"3.5s\"\n",
       "      repeatCount=\"indefinite\" />\n",
       "    <animate\n",
       "      attributeName=\"x\"\n",
       "      values=\"0;0;400\"\n",
       "      dur=\"3.5s\"\n",
       "      repeatCount=\"indefinite\" />\n",
       "  </rect>\n",
       "        <rect x=\"100\" y=\"207\" width=\"300\" height=\"43\">\n",
       "    <animate\n",
       "      attributeName=\"width\"\n",
       "      values=\"0;300;0\"\n",
       "      dur=\"3s\"\n",
       "      repeatCount=\"indefinite\" />\n",
       "    <animate\n",
       "      attributeName=\"x\"\n",
       "      values=\"100;100;400\"\n",
       "      dur=\"3s\"\n",
       "      repeatCount=\"indefinite\" />\n",
       "  </rect>\n",
       "        <rect x=\"100\" y=\"307\" width=\"400\" height=\"43\">\n",
       "    <animate\n",
       "      attributeName=\"width\"\n",
       "      values=\"0;400;0\"\n",
       "      dur=\"4s\"\n",
       "      repeatCount=\"indefinite\" />\n",
       "      <animate\n",
       "      attributeName=\"x\"\n",
       "      values=\"100;100;500\"\n",
       "      dur=\"4s\"\n",
       "      repeatCount=\"indefinite\" />\n",
       "  </rect>\n",
       "        <g style=\"fill:transparent;stroke-width:8; stroke-linejoin:round\" rx=\"5\">\n",
       "            <g transform=\"translate(45 50) rotate(-45)\">\n",
       "                <circle r=\"33\" cx=\"0\" cy=\"0\" />\n",
       "                <rect x=\"-8\" y=\"32\" width=\"16\" height=\"30\" />\n",
       "            </g>\n",
       "\n",
       "            <g transform=\"translate(450 152)\">\n",
       "                <polyline points=\"-15,-20 -35,-20 -35,40 25,40 25,20\" />\n",
       "                <rect x=\"-15\" y=\"-40\" width=\"60\" height=\"60\" />\n",
       "            </g>\n",
       "\n",
       "            <g transform=\"translate(50 352)\">\n",
       "                <polygon points=\"-35,-5 0,-40 35,-5\" />\n",
       "                <polygon points=\"-35,10 0,45 35,10\" />\n",
       "            </g>\n",
       "\n",
       "            <g transform=\"translate(75 250)\">\n",
       "                <polyline points=\"-30,30 -60,0 -30,-30\" />\n",
       "                <polyline points=\"0,30 -30,0 0,-30\" />\n",
       "            </g>\n",
       "\n",
       "            <g transform=\"translate(425 250) rotate(180)\">\n",
       "                <polyline points=\"-30,30 -60,0 -30,-30\" />\n",
       "                <polyline points=\"0,30 -30,0 0,-30\" />\n",
       "            </g>\n",
       "        </g>\n",
       "    </g>\n",
       "</svg>\n",
       "</a>\n",
       "Loading ITables v2.2.5 from the internet...\n",
       "(need <a href=https://mwouts.github.io/itables/troubleshooting.html>help</a>?)</td>\n",
       "</tr></tbody>\n",
       "</table>\n",
       "<link href=\"https://www.unpkg.com/dt_for_itables@2.0.13/dt_bundle.css\" rel=\"stylesheet\">\n",
       "<script type=\"module\">\n",
       "    import {DataTable, jQuery as $} from 'https://www.unpkg.com/dt_for_itables@2.0.13/dt_bundle.js';\n",
       "\n",
       "    document.querySelectorAll(\"#itables_360a7ba1_ae9f_4b53_a5a0_893770f073e3:not(.dataTable)\").forEach(table => {\n",
       "        if (!(table instanceof HTMLTableElement))\n",
       "            return;\n",
       "\n",
       "        // Define the table data\n",
       "        const data = [[\"Ligue 1\", \"Journ\\u00e9e 24\", \"2024/2025\", \"Saint-\\u00c9tienne\", \"Nice\", 1, 3, 0.9, 1.8, 0.62, 0.38, 629, 729, 0.86, 356, 451, 0.79, 3, 12, 0.25, 9, 16, 0.56, 7, 9, 0.78, 2, 3, 0.67, 10, 11, 3, 4, 15, 19, 857, 578, 18, 17, 8, 16, 7, 13, 26, 24, 0, 2, 9, 8, 24, 20, 38, 54, 2, 1, 0, 0, \"01/03/2025\", \"17:00\", \"J\\u00e9r\\u00f4me Brisard\", \"NaN\", \"Stade Geoffroy-Guichard\", \"Eirik Horneland\", \"Franck Haise\", \"4-2-3-1\", \"3-4-3\", \"[Gautier Larsonneur, Mickael Nade, Benjamin Bouchouari, Irvin Cardona, Florian Tardieu, L\\u00e9o P\\u00e9trot, Dylan Batubinsika, Zuriko Davitashvili, Yvann Macon, Aimen Moueffek, Lucas Stassin, Brice Maubleu, Yunis Abdelhamid, Dennis Appiah, Maxime Bernauer, Louis Mouton, Pierre Cornud, Augustine Boakye, Lamine Fomba, Djylian N'Guessan]\", \"[Marcin Bu\\u0142ka, Dante, Pablo Rosario, Ga\\u00ebtan Laborde, Mohamed Ali Cho, Melvin Bard, Baptiste Santamaria, Evann Guessand, Youssouf Ndayishimiye, Mo\\u00efse Bombito, Jonathan Clauss, Maxime Dup\\u00e9, Ali Abdi, Mohamed Abdelmoneim, Hicham Boudaoui, Jeremie Boga, Sofiane Diop, Badredine Bouanani, Tom Louchet, Antoine Mendy]\"], [\"Ligue 1\", \"Journ\\u00e9e 24\", \"2024/2025\", \"Lens\", \"Le Havre\", 3, 4, 1.9, 1.5, 0.69, 0.31, 560, 649, 0.86, 222, 290, 0.77, 6, 19, 0.32, 3, 7, 0.43, 0, 3, 0.0, 4, 6, 0.67, 12, 11, 9, 2, 31, 15, 741, 417, 18, 15, 4, 8, 17, 18, 20, 43, 2, 2, 2, 6, 16, 6, 42, 44, 2, 2, 0, 0, \"01/03/2025\", \"19:00\", \"J\\u00e9r\\u00e9mie Pignard\", \"NaN\", \"Stade Bollaert-Delelis\", \"Will Still\", \"Didier Digard\", \"5-3-2\", \"4-4-2\", \"[Mathew Ryan, Ruben Aguilar, Deiver Machado, Florian Sotoca, Facundo Medina, Malang Sarr, Anass Zaroury, Wesley Sa\\u00efd, Neil El Aynaoui, Jonathan Gradit, Adrien Thomasson, Herv\\u00e9 Koffi, Angelo Fulgini, Hamzat Ojediran, Andy Diouf, Goduine Koyalipou, Nampalys Mendy, Juma Bah, Tom Pouilly, Rayan Fofana]\", \"[Mathieu Gorgelin, Gautier Lloris, Etienne Youte Kinkoue, Lo\\u00efc Nego, Josu\\u00e9 Casimir, Andr\\u00e9 Ayew, Mahamadou Diawara, Issa Soumar\\u00e9, Abdoulaye Tour\\u00e9, Fod\\u00e9 Ballo-Tour\\u00e9, Koka, Arthur Desmas, Math\\u00e9o Bodmer, Yanis Zouaoui, Rassoul Ndiaye, Antoine Joujou, Alois Confais, Timothee Pembele, Isma\\u00efl Bouneb, Ilyes Housni]\"], [\"Ligue 1\", \"Journ\\u00e9e 24\", \"2024/2025\", \"Paris Saint-Germain\", \"Lille\", 4, 1, 3.4, 1.1, 0.58, 0.42, 622, 691, 0.9, 423, 501, 0.84, 11, 26, 0.42, 2, 6, 0.33, 1, 2, 0.5, 7, 11, 0.64, 6, 10, 9, 3, 20, 9, 801, 606, 13, 21, 12, 10, 7, 6, 13, 17, 3, 0, 4, 9, 17, 11, 42, 52, 0, 2, 0, 0, \"01/03/2025\", \"21:05\", \"Fran\\u00e7ois Letexier\", \"NaN\", \"Parc des Princes\", \"Luis Enrique\", \"Bruno G\\u00e9n\\u00e9sio\", \"4-3-3\", \"4-2-3-1\", \"[Gianluigi Donnarumma, Achraf Hakimi, Marquinhos, Fabi\\u00e1n Ruiz Pe\\u00f1a, Gon\\u00e7alo Ramos, Ousmane Demb\\u00e9l\\u00e9, D\\u00e9sir\\u00e9 Dou\\u00e9, Nuno Mendes, Bradley Barcola, Lucas Beraldo, Jo\\u00e3o Neves, Matvei Safonov, Presnel Kimpembe, Khvicha Kvaratskhelia, Vitinha, Lee Kang-in, Lucas Hern\\u00e1ndez, Senny Mayulu, Warren Za\\u00efre-Emery, Willian Pacho]\", \"[Lucas Chevalier, Alexsandro Ribeiro, Gabriel Gudmundsson, Nabil Bentaleb, Angel Gomes, Thomas Meunier, Ngal'Ayel Mukau, Bafod\\u00e9 Diakit\\u00e9, Mitchel Bakker, Benjamin Andr\\u00e9, Chuba Akpom, Vito Mannone, A\\u00efssa Mandi, H\\u00e1kon Arnar Haraldsson, Jonathan David, R\\u00e9my Cabella, Andr\\u00e9 Gomes, Ethan Mbapp\\u00e9, Ismaily, Ayyoub Bouaddi]\"], [\"Ligue 1\", \"Journ\\u00e9e 24\", \"2024/2025\", \"Lyon\", \"Brest\", 2, 1, 1.3, 2.0, 0.66, 0.34, 576, 653, 0.88, 251, 342, 0.73, 4, 10, 0.4, 4, 14, 0.29, 4, 4, 1.0, 2, 4, 0.5, 16, 12, 2, 5, 12, 17, 761, 449, 13, 19, 4, 6, 11, 15, 26, 19, 0, 2, 7, 9, 22, 12, 47, 70, 2, 1, 0, 0, \"02/03/2025\", \"15:00\", \"Beno\\u00eet Millot\", \"NaN\", \"Groupama Stadium\", \"Paulo Fonseca\", \"Eric Roy\", \"4-2-3-1\", \"4-4-1-1\", \"[Lucas Perri, Corentin Tolisso, Alexandre Lacazette, Tanner Tessmann, Rayan Cherki, Moussa Niakhate, Sael Kumbedi, Clinton Mata, Thiago Almada, Georges Mikautadze, Ainsley Maitland-Niles, R\\u00e9my Descamps, Paul Akouokou, Jordan Veretout, Malick Fofana, Warmed Omari, Nemanja Mati\\u0107, T\\u00e9o Barisic, Ernest Nuamah, Duje \\u0106aleta-Car]\", \"[Marco Bizot, Brendan Chardonnet, Kenny Lala, Hugo Magnetti, Abdallah Sima, Ludovic Ajorque, Pierre Lees-Melou, Massadio Ha\\u00efdara, Julien Le Cardinal, Mathias Pereira Lage, Mahdi Camara, Gr\\u00e9goire Coudert, Abdoulaye Niakhate Ndiaye, Kamory Doumbia, Luc Zogb\\u00e9, Jordan Amavi, Jonas Martin, Ibrahim Kant\\u00e9, S\\u00e9rign\\u00e9 Diop]\"], [\"Ligue 1\", \"Journ\\u00e9e 24\", \"2024/2025\", \"Auxerre\", \"Strasbourg\", 0, 1, 2.2, 1.4, 0.45, 0.55, 369, 466, 0.79, 485, 576, 0.84, 5, 14, 0.36, 3, 6, 0.5, 2, 3, 0.67, 5, 5, 1.0, 10, 10, 5, 3, 26, 10, 575, 696, 19, 19, 8, 1, 15, 9, 25, 34, 2, 2, 2, 10, 16, 27, 75, 54, 1, 3, 0, 1, \"02/03/2025\", \"17:15\", \"Mathieu Vernice\", \"NaN\", \"Stade de l'Abb\\u00e9 Deschamps\", \"Christophe P\\u00e9lissier\", \"Liam Rosenior\", \"3-4-3\", \"3-4-3\", \"[Donovan L\\u00e9on, Gabriel Osho, Jubal, Theo Bair, Ga\\u00ebtan Perrin, Gideon Mensah, Ki-Jana Hoever, Hamed Junior Traor\\u00e8, K\\u00e9vin Danois, Elisha Owusu, Cl\\u00e9ment Akpa, Th\\u00e9o De Percin, Fredrik Oppegard, Lassine Sinayoko, Assane Diouss\\u00e9, Florian Ay\\u00e9, Sinaly Diomande, Paul Joly, Ado Onaiwu, Han-Noah Massengo]\", \"[\\u0110or\\u0111e Petrovi\\u0107, F\\u00e9lix Lemar\\u00e9chal, Andrey Santos, Emanuel Emegha, Sebastian Nanasi, Habib Diarra, Guela Dou\\u00e9, Mamadou Sarr, Dilane Bakwa, Isma\\u00ebl Doukour\\u00e9, Valent\\u00edn Barco, Karl-Johan Johnsson, Abakar Sylla, Diego Moreira, Sekou Mara, \\u00d3scar Perea, Samuel Amo-Ameyaw, Samir El Mourabet, Guimissongui Ouattara, Eduard Sobol]\"], [\"Ligue 1\", \"Journ\\u00e9e 24\", \"2024/2025\", \"Montpellier\", \"Rennes\", 0, 4, 1.6, 2.4, 0.46, 0.54, 284, 394, 0.72, 380, 469, 0.81, 5, 16, 0.31, 7, 14, 0.5, 3, 7, 0.43, 5, 5, 1.0, 15, 15, 6, 5, 33, 16, 498, 587, 11, 15, 7, 9, 15, 18, 21, 39, 6, 0, 5, 12, 11, 12, 70, 61, 2, 1, 0, 0, \"02/03/2025\", \"17:15\", \"Florent Batta\", \"NaN\", \"Stade de la Mosson-Mondial 98\", \"Jean-Louis Gasset\", \"Habib Beye\", \"5-3-2\", \"3-5-2\", \"[Benjamin Lecomte, Bamo Me\\u00eft\\u00e9, Boubakar Kouyat\\u00e9, Modibo Sagnan, Andy Delort, Wahbi Khazri, T\\u00e9ji Savanier, Jordan Ferri, Joris Chotard, Th\\u00e9o Sainte-Luce, Enzo Tchato, Dimitry Bertaud, Nicolas Pays, Rabby Nzingoula, Khalil Fayad, Junior Ndiaye, Th\\u00e9o Chennahi, Simon Cara, Yael Mouanga, Falaye Sacko]\", \"[Brice Samba, Adrien Truffert, Lilian Brassier, Seko Fofana, Arnaud Kalimuendo, Ludovic Blas, Jordan James, Lorenz Assignon, Anthony Rouault, Djaoui Ciss\\u00e9, J\\u00e9r\\u00e9my Jacquet, Steve Mandanda, Azor Matusiwa, Kyogo Furuhashi, Musa Al-Taamari, Mahamadou Nagida, Kazeem Olaigbe, Ayanda Sishuba, Hans Hateboer, Isma\\u00ebl Kon\\u00e9]\"], [\"Ligue 1\", \"Journ\\u00e9e 24\", \"2024/2025\", \"Angers\", \"Toulouse\", 0, 4, 0.4, 3.5, 0.46, 0.54, 317, 410, 0.77, 380, 481, 0.79, 1, 5, 0.2, 13, 19, 0.68, 9, 13, 0.69, 1, 1, 1.0, 13, 9, 4, 9, 17, 25, 539, 596, 17, 19, 16, 8, 11, 17, 34, 25, 1, 2, 6, 2, 14, 22, 60, 48, 3, 3, 0, 0, \"02/03/2025\", \"17:15\", \"Jeremy Stinat\", \"NaN\", \"Stade Raymond Kopa\", \"Alexandre Dujeux\", \"Carles Mart\\u00ednez\", \"4-2-3-1\", \"3-4-3\", \"[Yahia Fofana, Jean-Eudes Aholou, Himad Abdelli, Yassin Belkhdim, Zinedine Ferhat, Jordan Lefort, Abdoulaye Bamba, Florent Hanin, Lilian Raolisoa, Farid El Melali, Bamba Dieng, Melvin Zinga, Carlens Arcus, Jacques Ekomie, Marius Courcoul, Ibrahima Niane, Pierrick Capelle, Justin-No\\u00ebl Kalumba, Emmanuel Biumla, Amine Moussaoui]\", \"[Kjetil Haug, Mark McKenzie, Charlie Cresswell, Vincent Sierro, Frank Magri, Aron D\\u00f8nnum, Gabriel Suazo, Djibril Sidib\\u00e9, Rafik Messali, Cristian C\\u00e1sseres Jr., Shavy Babicka, Mathys Niflore, \\u00dcmit Akdag, Yann Gboho, Waren Kamanzi, Miha Zajc, Jaydee Canvot, Noah Edjouma, Edhy Zuliani, Mathis Saka]\"], [\"Ligue 1\", \"Journ\\u00e9e 24\", \"2024/2025\", \"Marseille\", \"Nantes\", 2, 0, 2.1, 0.8, 0.74, 0.26, 745, 830, 0.9, 204, 286, 0.71, 5, 21, 0.24, 2, 8, 0.25, 2, 2, 1.0, 3, 5, 0.6, 14, 15, 3, 2, 12, 10, 948, 409, 15, 25, 8, 14, 13, 14, 16, 19, 3, 2, 8, 10, 18, 12, 45, 57, 1, 2, 0, 0, \"02/03/2025\", \"20:45\", \"St\\u00e9phanie Frappart\", \"NaN\", \"Orange V\\u00e9lodrome\", \"Roberto De Zerbi\", \"Antoine Kombouar\\u00e9\", \"3-4-3\", \"5-4-1\", \"[Ger\\u00f3nimo Rulli, Quentin Merlin, Leonardo Balerdi, Amine Gouiri, Mason Greenwood, Geoffrey Kondogbia, Isma\\u00ebl Bennacer, Pierre H\\u00f8jbjerg, Adrien Rabiot, Luis Henrique, Michael Amir Murillo, Jeffrey De Lange, Luiz Felipe, Neal Maupay, Amine Harit, Jon Rowe, Valentin Rongier, Bilal Nadir, Pol Lirola, Amar Dedi\\u0107]\", \"[Anthony Lopes, Nicolas Pallois, Pedro Chirivella, Johann Lepenant, Marcus Coco, Francis Coquelin, Jean-Charles Castelletto, Saidou Sow, Moses Simon, Matthis Abline, Louis Leroux, Patrik Carlgren, Douglas, Meschak Elia, Sorba Thomas, Florent Mollet, Mostafa Mohamed, Dehmaine Assoumani, Bahereba Guirassy, Kelvin Amian]\"], [\"Ligue 1\", \"Journ\\u00e9e 25\", \"2024/2025\", \"Toulouse\", \"Monaco\", 1, 1, 0.6, 2.4, 0.5, 0.5, 354, 457, 0.77, 351, 452, 0.78, 3, 8, 0.38, 3, 13, 0.23, 2, 3, 0.67, 2, 3, 0.67, 16, 17, 3, 5, 17, 11, 591, 570, 17, 18, 8, 7, 8, 15, 28, 28, 1, 3, 7, 7, 24, 20, 57, 70, 1, 3, 0, 0, \"07/03/2025\", \"20:45\", \"Marc Bollengier\", \"NaN\", \"Stadium de Toulouse\", \"Carles Mart\\u00ednez\", \"Adi H\\u00fctter\", \"3-4-3\", \"4-2-3-1\", \"[Kjetil Haug, Mark McKenzie, Charlie Cresswell, Vincent Sierro, Frank Magri, Aron D\\u00f8nnum, Gabriel Suazo, Djibril Sidib\\u00e9, Rafik Messali, Jaydee Canvot, Shavy Babicka, Mathys Niflore, \\u00dcmit Akdag, Yann Gboho, Waren Kamanzi, Miha Zajc, Dayann Methalie, Noah Edjouma, Edhy Zuliani, Mathis Saka]\", \"[Rados\\u0142aw Majecki, Vanderson, Thilo Kehrer, Almoatasem Al Musrati, Maghnes Akliouche, Caio Henrique Oliveira Silva, Christian Mawissa, Mika Biereth, Lamine Camara, Takumi Minamino, Breel Embolo, Philipp K\\u00f6hn, Eliesse Ben Seghir, Wilfried Singo, Kassoum Ouattara, George Ilenikhena, Mohammed Salisu, Kr\\u00e9pin Diatta, Mamadou Coulibaly, Lucas Michal]\"], [\"Ligue 1\", \"Journ\\u00e9e 25\", \"2024/2025\", \"Rennes\", \"Paris Saint-Germain\", 1, 4, 1.6, 3.8, 0.32, 0.68, 274, 349, 0.79, 654, 729, 0.9, 3, 13, 0.23, 9, 19, 0.47, 5, 9, 0.56, 2, 3, 0.67, 11, 6, 3, 2, 12, 13, 463, 851, 21, 25, 20, 13, 10, 2, 18, 20, 1, 0, 11, 2, 23, 24, 51, 45, 2, 3, 0, 0, \"08/03/2025\", \"17:00\", \"Mathieu Vernice\", \"NaN\", \"Roazhon Park\", \"Habib Beye\", \"Luis Enrique\", \"3-4-3\", \"4-3-3\", \"[Brice Samba, Adrien Truffert, Lilian Brassier, Arnaud Kalimuendo, Ludovic Blas, Jordan James, Lorenz Assignon, Anthony Rouault, Mohamed Meit\\u00e9, Isma\\u00ebl Kon\\u00e9, J\\u00e9r\\u00e9my Jacquet, Steve Mandanda, Christopher Wooh, Azor Matusiwa, Kyogo Furuhashi, Seko Fofana, Musa Al-Taamari, Mahamadou Nagida, Ayanda Sishuba, Hans Hateboer]\", \"[Matvei Safonov, Gon\\u00e7alo Ramos, D\\u00e9sir\\u00e9 Dou\\u00e9, Lee Kang-in, Lucas Hern\\u00e1ndez, Senny Mayulu, Bradley Barcola, Warren Za\\u00efre-Emery, Lucas Beraldo, Willian Pacho, Jo\\u00e3o Neves, Gianluigi Donnarumma, Achraf Hakimi, Presnel Kimpembe, Khvicha Kvaratskhelia, Fabi\\u00e1n Ruiz Pe\\u00f1a, Ousmane Demb\\u00e9l\\u00e9, Vitinha, Nuno Mendes, Ibrahim Mbaye]\"], [\"Ligue 1\", \"Journ\\u00e9e 25\", \"2024/2025\", \"Lille\", \"Montpellier\", 1, 0, 1.5, 0.3, 0.76, 0.24, 715, 804, 0.89, 190, 259, 0.73, 7, 18, 0.39, 3, 10, 0.3, 3, 3, 1.0, 6, 7, 0.86, 11, 12, 7, 1, 19, 6, 904, 383, 18, 17, 7, 9, 13, 10, 9, 28, 0, 2, 9, 7, 18, 15, 41, 54, 2, 3, 0, 0, \"08/03/2025\", \"19:00\", \"J\\u00e9r\\u00e9mie Pignard\", \"NaN\", \"Decathlon Arena - Stade Pierre-Mauroy\", \"Bruno G\\u00e9n\\u00e9sio\", \"Jean-Louis Gasset\", \"4-3-3\", \"5-4-1\", \"[Lucas Chevalier, Alexsandro Ribeiro, H\\u00e1kon Arnar Haraldsson, Jonathan David, R\\u00e9my Cabella, Thomas Meunier, Bafod\\u00e9 Diakit\\u00e9, Mitchel Bakker, Benjamin Andr\\u00e9, Andr\\u00e9 Gomes, Ayyoub Bouaddi, Vito Mannone, A\\u00efssa Mandi, Gabriel Gudmundsson, Nabil Bentaleb, Angel Gomes, Ngal'Ayel Mukau, Matias Fernandez-Pardo, Chuba Akpom, Ismaily]\", \"[Benjamin Lecomte, Boubakar Kouyat\\u00e9, Modibo Sagnan, Andy Delort, T\\u00e9ji Savanier, Joris Chotard, Th\\u00e9o Sainte-Luce, Rabby Nzingoula, Yael Mouanga, Tanguy Coulibaly, Falaye Sacko, Dimitry Bertaud, Bamo Me\\u00eft\\u00e9, Wahbi Khazri, Jordan Ferri, Othmane Maamma, Nicolas Pays, Junior Ndiaye, Th\\u00e9o Chennahi, Wilfried Ndollo]\"], [\"Ligue 1\", \"Journ\\u00e9e 25\", \"2024/2025\", \"Marseille\", \"Lens\", 0, 1, 1.0, 0.9, 0.75, 0.25, 811, 912, 0.89, 212, 299, 0.71, 6, 15, 0.4, 2, 3, 0.67, 1, 2, 0.5, 6, 6, 1.0, 15, 12, 7, 0, 28, 1, 1013, 439, 20, 30, 11, 17, 11, 13, 8, 40, 0, 2, 2, 10, 21, 15, 38, 52, 3, 1, 0, 0, \"08/03/2025\", \"21:05\", \"Thomas L\\u00e9onard\", \"NaN\", \"Orange V\\u00e9lodrome\", \"Roberto De Zerbi\", \"Will Still\", \"3-4-3\", \"5-4-1\", \"[Ger\\u00f3nimo Rulli, Quentin Merlin, Leonardo Balerdi, Amine Gouiri, Geoffrey Kondogbia, Valentin Rongier, Isma\\u00ebl Bennacer, Pierre H\\u00f8jbjerg, Adrien Rabiot, Bilal Nadir, Amar Dedi\\u0107, Jeffrey De Lange, Luiz Felipe, Ulisses Garcia, Neal Maupay, Mason Greenwood, Jon Rowe, Pol Lirola, Luis Henrique, Darryl Bakola]\", \"[Mathew Ryan, Ruben Aguilar, Deiver Machado, Florian Sotoca, Andy Diouf, Malang Sarr, Wesley Sa\\u00efd, Neil El Aynaoui, Jonathan Gradit, Nampalys Mendy, Juma Bah, Adam Delplace, Nidal Celik, Hamzat Ojediran, Goduine Koyalipou, Anass Zaroury, Jeremy Agbonifo, Souleymane Sagnan, Tom Pouilly, Rayan Fofana]\"], [\"Ligue 1\", \"Journ\\u00e9e 25\", \"2024/2025\", \"Brest\", \"Angers\", 2, 0, 3.5, 0.4, 0.5, 0.5, 393, 481, 0.82, 389, 479, 0.81, 7, 19, 0.37, 1, 7, 0.14, 1, 1, 1.0, 5, 7, 0.71, 14, 8, 6, 6, 27, 27, 589, 587, 17, 14, 5, 5, 13, 10, 36, 33, 1, 4, 7, 6, 20, 22, 52, 65, 1, 1, 0, 0, \"09/03/2025\", \"15:00\", \"Abdelatif Kherradji\", \"14612\", \"Stade Francis-Le Bl\\u00e9\", \"Eric Roy\", \"Alexandre Dujeux\", \"4-4-1-1\", \"4-2-3-1\", \"[Marco Bizot, Brendan Chardonnet, Kenny Lala, Hugo Magnetti, Abdallah Sima, Ludovic Ajorque, Pierre Lees-Melou, Massadio Ha\\u00efdara, Julien Le Cardinal, Mathias Pereira Lage, Mahdi Camara, Gr\\u00e9goire Coudert, Abdoulaye Niakhate Ndiaye, Edimilson Fernandes, Kamory Doumbia, Luc Zogb\\u00e9, Romain Faivre, Jordan Amavi, Jonas Martin, S\\u00e9rign\\u00e9 Diop]\", \"[Yahia Fofana, Carlens Arcus, Jean-Eudes Aholou, Himad Abdelli, Jim Allevinah, Esteban Lepaul, Jordan Lefort, Emmanuel Biumla, Florent Hanin, Lilian Raolisoa, Haris Belkebla, Melvin Zinga, Jacques Ekomie, Marius Courcoul, Ibrahima Niane, Yassin Belkhdim, Pierrick Capelle, Zinedine Ferhat, Abdoulaye Bamba, Farid El Melali]\"], [\"Ligue 1\", \"Journ\\u00e9e 25\", \"2024/2025\", \"Nantes\", \"Strasbourg\", 0, 1, 0.8, 1.0, 0.4, 0.6, 321, 405, 0.79, 519, 606, 0.86, 2, 11, 0.18, 1, 9, 0.11, 0, 1, 0.0, 2, 2, 1.0, 12, 17, 3, 9, 25, 30, 508, 700, 15, 10, 6, 4, 7, 11, 24, 22, 1, 1, 6, 8, 21, 15, 73, 45, 1, 1, 0, 0, \"09/03/2025\", \"17:15\", \"Hakim Ben El Hadj Salem\", \"NaN\", \"Stade de la Beaujoire - Louis Fonteneau\", \"Antoine Kombouar\\u00e9\", \"Liam Rosenior\", \"5-3-2\", \"3-4-3\", \"[Anthony Lopes, Nicolas Pallois, Douglas, Johann Lepenant, Marcus Coco, Jean-Charles Castelletto, Sorba Thomas, Mostafa Mohamed, Matthis Abline, Louis Leroux, Kelvin Amian, Patrik Carlgren, Nicolas Cozza, Pedro Chirivella, Meschak Elia, Florent Mollet, Moses Simon, Dehmaine Assoumani, Bahereba Guirassy, S\\u00e9kou Doucoure]\", \"[\\u0110or\\u0111e Petrovi\\u0107, F\\u00e9lix Lemar\\u00e9chal, Diego Moreira, Andrey Santos, Emanuel Emegha, Sebastian Nanasi, Guela Dou\\u00e9, Mamadou Sarr, Dilane Bakwa, Isma\\u00ebl Doukour\\u00e9, Valent\\u00edn Barco, Karl-Johan Johnsson, Sekou Mara, Pape Daouda Diongue, \\u00d3scar Perea, Samuel Amo-Ameyaw, Amadou Ciss\\u00e9, Sacha Lung, Samir El Mourabet, Eduard Sobol]\"], [\"Ligue 1\", \"Journ\\u00e9e 25\", \"2024/2025\", \"Reims\", \"Auxerre\", 0, 2, 1.4, 2.1, 0.57, 0.43, 389, 476, 0.82, 279, 361, 0.77, 4, 17, 0.24, 9, 13, 0.69, 7, 9, 0.78, 4, 4, 1.0, 9, 13, 6, 12, 19, 17, 605, 496, 28, 27, 5, 11, 8, 17, 24, 33, 2, 1, 7, 12, 19, 15, 62, 65, 1, 1, 0, 0, \"09/03/2025\", \"17:15\", \"Romain Lissorgue\", \"NaN\", \"Stade Auguste-Delaune\", \"Samba Diawara\", \"Christophe P\\u00e9lissier\", \"4-2-3-1\", \"5-4-1\", \"[Yehvann Diouf, Joseph Okumu, Hiroki Sekine, Valentin Atangana Edoa, Junya Ito, Teddy Teuma, Keito Nakamura, Sergio Akieme, Oumar Diakit\\u00e9, Mory Gbane, John Joe, Ludovic Butelle, C\\u00e9dric Kipr\\u00e9, Aur\\u00e9lio Buta, Malcolm Jeng, Nhoa Sangui, Mamadou Diakhon, Amadou Kon\\u00e9, Hafiz Ibrahim, Ange Martial Tia]\", \"[Donovan L\\u00e9on, Gabriel Osho, Jubal, Theo Bair, Ga\\u00ebtan Perrin, Gideon Mensah, Ki-Jana Hoever, Hamed Junior Traor\\u00e8, K\\u00e9vin Danois, Elisha Owusu, Cl\\u00e9ment Akpa, Th\\u00e9o De Percin, Fredrik Oppegard, Lassine Sinayoko, Assane Diouss\\u00e9, Florian Ay\\u00e9, Sinaly Diomande, Paul Joly, Ado Onaiwu, Han-Noah Massengo]\"], [\"Ligue 1\", \"Journ\\u00e9e 25\", \"2024/2025\", \"Le Havre\", \"Saint-\\u00c9tienne\", 1, 1, 2.0, 1.5, 0.46, 0.54, 304, 404, 0.75, 375, 465, 0.81, 5, 12, 0.42, 2, 12, 0.17, 1, 2, 0.5, 4, 5, 0.8, 9, 17, 5, 6, 31, 23, 533, 607, 16, 10, 7, 9, 18, 10, 25, 37, 0, 2, 7, 7, 13, 17, 66, 49, 2, 3, 0, 0, \"09/03/2025\", \"17:15\", \"Cl\\u00e9ment Turpin\", \"NaN\", \"Stade Oc\\u00e9ane\", \"Didier Digard\", \"Eirik Horneland\", \"4-2-3-1\", \"4-2-3-1\", \"[Mathieu Gorgelin, Gautier Lloris, Etienne Youte Kinkoue, Lo\\u00efc Nego, Yassine Kechta, Josu\\u00e9 Casimir, Mahamadou Diawara, Issa Soumar\\u00e9, Abdoulaye Tour\\u00e9, Fod\\u00e9 Ballo-Tour\\u00e9, Koka, Arthur Desmas, Daler Kuzyaev, Yanis Zouaoui, Rassoul Ndiaye, Antoine Joujou, Alois Confais, Andr\\u00e9 Ayew, Timothee Pembele, Ilyes Housni]\", \"[Gautier Larsonneur, Mickael Nade, Pierre Ekwah Elimby, Benjamin Bouchouari, Irvin Cardona, Maxime Bernauer, L\\u00e9o P\\u00e9trot, Zuriko Davitashvili, Yvann Macon, Aimen Moueffek, Lucas Stassin, Brice Maubleu, Yunis Abdelhamid, Dennis Appiah, Ibrahim Sissoko, Florian Tardieu, Louis Mouton, Pierre Cornud, Augustine Boakye, Lamine Fomba]\"], [\"Ligue 1\", \"Journ\\u00e9e 25\", \"2024/2025\", \"Nice\", \"Lyon\", 0, 2, 1.4, 1.1, 0.37, 0.63, 342, 427, 0.8, 621, 714, 0.87, 3, 18, 0.17, 5, 8, 0.62, 3, 5, 0.6, 3, 3, 1.0, 12, 11, 9, 2, 19, 10, 550, 819, 14, 16, 6, 8, 7, 5, 16, 28, 0, 0, 4, 8, 17, 18, 41, 70, 1, 2, 0, 0, \"09/03/2025\", \"20:45\", \"Beno\\u00eet Bastien\", \"NaN\", \"Allianz Riviera\", \"Franck Haise\", \"Paulo Fonseca\", \"3-4-3\", \"4-2-3-1\", \"[Marcin Bu\\u0142ka, Dante, Hicham Boudaoui, Ga\\u00ebtan Laborde, Mohamed Ali Cho, Melvin Bard, Baptiste Santamaria, Evann Guessand, Youssouf Ndayishimiye, Mo\\u00efse Bombito, Jonathan Clauss, Maxime Dup\\u00e9, Ali Abdi, Mohamed Abdelmoneim, Jeremie Boga, Pablo Rosario, Sofiane Diop, Youssoufa Moukoko, Badredine Bouanani, Tom Louchet]\", \"[Lucas Perri, Nicol\\u00e1s Tagliafico, Corentin Tolisso, Alexandre Lacazette, Malick Fofana, Tanner Tessmann, Moussa Niakhate, Sael Kumbedi, Clinton Mata, Thiago Almada, Nemanja Mati\\u0107, R\\u00e9my Descamps, Paul Akouokou, Jordan Veretout, Abner, Rayan Cherki, Ernest Nuamah, Duje \\u0106aleta-Car, Georges Mikautadze, Ainsley Maitland-Niles]\"], [\"Ligue 1\", \"Journ\\u00e9e 26\", \"2024/2025\", \"Nice\", \"Auxerre\", 1, 1, 2.0, 0.7, 0.51, 0.49, 394, 479, 0.82, 361, 454, 0.8, 6, 20, 0.3, 4, 10, 0.4, 3, 4, 0.75, 5, 6, 0.83, 14, 18, 7, 3, 15, 13, 613, 578, 17, 19, 13, 7, 17, 11, 22, 22, 2, 0, 4, 14, 22, 18, 54, 63, 1, 3, 1, 0, \"14/03/2025\", \"20:45\", \"Abdelatif Kherradji\", \"NaN\", \"Allianz Riviera\", \"Franck Haise\", \"Christophe P\\u00e9lissier\", \"3-4-3\", \"5-4-1\", \"[Marcin Bu\\u0142ka, Dante, Hicham Boudaoui, Sofiane Diop, Tom Louchet, Ga\\u00ebtan Laborde, Melvin Bard, Baptiste Santamaria, Evann Guessand, Youssouf Ndayishimiye, Mo\\u00efse Bombito, Maxime Dup\\u00e9, Ali Abdi, Mohamed Abdelmoneim, Jeremie Boga, Pablo Rosario, Youssoufa Moukoko, Badredine Bouanani, Mohamed Ali Cho, Antoine Mendy]\", \"[Donovan L\\u00e9on, Gabriel Osho, Jubal, Theo Bair, Ga\\u00ebtan Perrin, Gideon Mensah, Sinaly Diomande, Ki-Jana Hoever, Hamed Junior Traor\\u00e8, K\\u00e9vin Danois, Elisha Owusu, Th\\u00e9o De Percin, Fredrik Oppegard, Lassine Sinayoko, Assane Diouss\\u00e9, Florian Ay\\u00e9, Paul Joly, Marvyn Muzungu, Ado Onaiwu, Han-Noah Massengo]\"], [\"Ligue 1\", \"Journ\\u00e9e 26\", \"2024/2025\", \"Nantes\", \"Lille\", 1, 0, 1.2, 1.3, 0.32, 0.68, 254, 329, 0.77, 627, 703, 0.89, 2, 10, 0.2, 3, 13, 0.23, 3, 3, 1.0, 1, 2, 0.5, 9, 15, 3, 5, 17, 16, 432, 801, 16, 20, 10, 10, 9, 8, 25, 19, 0, 2, 9, 4, 7, 20, 59, 52, 2, 3, 1, 0, \"15/03/2025\", \"17:00\", \"Beno\\u00eet Millot\", \"NaN\", \"Stade de la Beaujoire - Louis Fonteneau\", \"Antoine Kombouar\\u00e9\", \"Bruno G\\u00e9n\\u00e9sio\", \"4-3-3\", \"4-2-3-1\", \"[Anthony Lopes, Nicolas Cozza, Pedro Chirivella, Douglas, Marcus Coco, Jean-Charles Castelletto, Sorba Thomas, Saidou Sow, Moses Simon, Matthis Abline, Louis Leroux, Patrik Carlgren, Nicolas Pallois, Johann Lepenant, Francis Coquelin, Meschak Elia, Florent Mollet, Mostafa Mohamed, Bahereba Guirassy, S\\u00e9kou Doucoure]\", \"[Lucas Chevalier, A\\u00efssa Mandi, Alexsandro Ribeiro, Gabriel Gudmundsson, H\\u00e1kon Arnar Haraldsson, Jonathan David, Osame Sahraoui, Bafod\\u00e9 Diakit\\u00e9, Mitchel Bakker, Benjamin Andr\\u00e9, Andr\\u00e9 Gomes, Vito Mannone, Nabil Bentaleb, Angel Gomes, R\\u00e9my Cabella, Ngal'Ayel Mukau, Matias Fernandez-Pardo, Chuba Akpom, Ismaily, Ayyoub Bouaddi]\"], [\"Ligue 1\", \"Journ\\u00e9e 26\", \"2024/2025\", \"Angers\", \"Monaco\", 0, 2, 0.5, 2.0, 0.44, 0.56, 359, 461, 0.78, 484, 595, 0.81, 2, 6, 0.33, 4, 15, 0.27, 3, 4, 0.75, 2, 2, 1.0, 12, 11, 0, 9, 14, 31, 591, 708, 21, 22, 15, 7, 11, 10, 38, 18, 1, 0, 8, 5, 13, 12, 53, 53, 1, 2, 0, 0, \"15/03/2025\", \"19:00\", \"Willy Delajod\", \"NaN\", \"Stade Raymond Kopa\", \"Alexandre Dujeux\", \"Adi H\\u00fctter\", \"4-2-3-1\", \"4-2-3-1\", \"[Yahia Fofana, Carlens Arcus, Himad Abdelli, Yassin Belkhdim, Jim Allevinah, Esteban Lepaul, Zinedine Ferhat, Jordan Lefort, Abdoulaye Bamba, Florent Hanin, Haris Belkebla, Melvin Zinga, Jacques Ekomie, Marius Courcoul, Ibrahima Niane, Zin\\u00e9dine Ould Khaled, Pierrick Capelle, Justin-No\\u00ebl Kalumba, Farid El Melali, Bamba Dieng]\", \"[Philipp K\\u00f6hn, Vanderson, Thilo Kehrer, Denis Zakaria, Eliesse Ben Seghir, Almoatasem Al Musrati, Maghnes Akliouche, Caio Henrique Oliveira Silva, Mika Biereth, Wilfried Singo, Takumi Minamino, Rados\\u0142aw Majecki, Christian Mawissa, Lamine Camara, George Ilenikhena, Mohammed Salisu, Kr\\u00e9pin Diatta, Mamadou Coulibaly, Breel Embolo, Lucas Michal]\"], [\"Ligue 1\", \"Journ\\u00e9e 26\", \"2024/2025\", \"Lens\", \"Rennes\", 1, 0, 0.7, 0.6, 0.45, 0.55, 357, 468, 0.76, 449, 561, 0.8, 4, 9, 0.44, 5, 12, 0.42, 5, 5, 1.0, 3, 4, 0.75, 17, 14, 5, 4, 14, 22, 611, 681, 28, 21, 21, 9, 18, 26, 25, 24, 4, 0, 3, 4, 14, 16, 49, 70, 1, 1, 0, 0, \"15/03/2025\", \"21:05\", \"St\\u00e9phanie Frappart\", \"38182\", \"Stade Bollaert-Delelis\", \"Will Still\", \"Habib Beye\", \"3-4-3\", \"3-5-2\", \"[Mathew Ryan, Ruben Aguilar, Deiver Machado, Florian Sotoca, Facundo Medina, Wesley Sa\\u00efd, Neil El Aynaoui, Jonathan Gradit, Jeremy Agbonifo, Nampalys Mendy, Juma Bah, Herv\\u00e9 Koffi, M'Bala Nzola, Andy Diouf, Goduine Koyalipou, Malang Sarr, Anass Zaroury, Adrien Thomasson, Tom Pouilly, Rayan Fofana]\", \"[Brice Samba, Adrien Truffert, Azor Matusiwa, Arnaud Kalimuendo, Mikayil Ngor Faye, Jordan James, Lorenz Assignon, Anthony Rouault, Djaoui Ciss\\u00e9, Mohamed Meit\\u00e9, J\\u00e9r\\u00e9my Jacquet, Steve Mandanda, Christopher Wooh, Kyogo Furuhashi, Mahamadou Nagida, Kazeem Olaigbe, Ayanda Sishuba, Naouirou Ahamada, Hans Hateboer, Isma\\u00ebl Kon\\u00e9]\"]];\n",
       "\n",
       "        // Define the dt_args\n",
       "        let dt_args = {\"layout\": {\"topStart\": \"pageLength\", \"topEnd\": \"search\", \"bottomStart\": \"info\", \"bottomEnd\": \"paging\"}, \"order\": [], \"warn_on_selected_rows_not_rendered\": true};\n",
       "        dt_args[\"data\"] = data;\n",
       "\n",
       "        \n",
       "        new DataTable(table, dt_args);\n",
       "    });\n",
       "</script>\n"
      ],
      "text/plain": [
       "<IPython.core.display.HTML object>"
      ]
     },
     "metadata": {},
     "output_type": "display_data"
    }
   ],
   "source": [
    "import ace_tools_open as tools\n",
    "tools.display_dataframe_to_user(\"Data\", data)"
   ]
  },
  {
   "cell_type": "markdown",
   "metadata": {},
   "source": [
    "# Links Whoscored"
   ]
  },
  {
   "cell_type": "code",
   "execution_count": null,
   "metadata": {},
   "outputs": [],
   "source": [
    "import re\n",
    "import pandas as pd\n",
    "from selenium import webdriver\n",
    "from selenium.webdriver.firefox.service import Service\n",
    "from webdriver_manager.firefox import GeckoDriverManager\n",
    "from selenium.webdriver.firefox.options import Options\n",
    "from selenium.webdriver.common.by import By\n",
    "from selenium.webdriver.support.ui import WebDriverWait\n",
    "from selenium.webdriver.support import expected_conditions as EC\n",
    "from bs4 import BeautifulSoup\n",
    "from datetime import datetime\n",
    "from tqdm import tqdm\n",
    "import time\n",
    "\n",
    "\n",
    "def get_link(soup):\n",
    "    code = soup.find_all(\"a\")\n",
    "    for c in code:\n",
    "        if \"Centre du Match\" in c.text:\n",
    "            if c.get(\"href\") != \"#\":\n",
    "                link = c.get(\"href\")\n",
    "            else:\n",
    "                link = \"None\"\n",
    "            break\n",
    "\n",
    "    return link\n",
    "\n",
    "\n",
    "def whoscored_link_traitement(df):\n",
    "    pattern = r\"/matches/(?P<num_lien>\\d+)/live/(?P<pays>[^-]+)-(?P<ligue>[^-]+-\\S+)-(?P<annee>\\d{4}-\\d{4})-(?P<equipes>.+)\"\n",
    "\n",
    "    df_extracted = df[\"link\"].str.extract(pattern)\n",
    "    df_extracted = df.join(df_extracted)\n",
    "    df_extracted['num_lien'] = df_extracted['link'].str.split(\"/\").str[2]\n",
    "    df_extracted[\"num_lien\"] = pd.to_numeric(df_extracted[\"num_lien\"], errors=\"coerce\")\n",
    "    return df_extracted\n",
    "\n",
    "\n",
    "def whoscored_not_available_error_traitement(df):\n",
    "    df['num_lien'] = df['link'].str.split(\"/\").str[4]\n",
    "    df[\"num_lien\"] = pd.to_numeric(df[\"num_lien\"], errors=\"coerce\")\n",
    "    return df\n",
    "\n",
    "\n",
    "def get_link_whoscored(range_down, range_up, new):\n",
    "\n",
    "    path = \"Whoscored/urls/raw/\"\n",
    "\n",
    "    number_list = list(range(range_down, range_up))\n",
    "    pre_links = []\n",
    "    for el in number_list:\n",
    "        pre_links.append(\"https://fr.whoscored.com/matches/\" + f\"{el}\")\n",
    "\n",
    "    if new == False:\n",
    "        all_matches = pd.read_csv(f\"{path}links.csv\")\n",
    "        try:\n",
    "            all_errors = pd.read_csv(f\"{path}errors.csv\")\n",
    "        except:\n",
    "            all_errors = pd.DataFrame()\n",
    "        all_not_availables = pd.read_csv(f\"{path}not_availables.csv\")\n",
    "\n",
    "    else:\n",
    "        all_matches = pd.DataFrame()\n",
    "        all_not_availables = pd.DataFrame()\n",
    "        all_errors = pd.DataFrame()\n",
    "\n",
    "    links = []\n",
    "    errors = []\n",
    "    not_availables = []\n",
    "\n",
    "    i = 0\n",
    "    j = 0\n",
    "    k = 0\n",
    "\n",
    "    options = Options()\n",
    "    options.add_argument(\"--headless\")  # Mode headless activé\n",
    "    options.add_argument(\"--disable-gpu\")\n",
    "    options.add_argument(\"--no-sandbox\")\n",
    "\n",
    "    service = Service(GeckoDriverManager().install())\n",
    "    driver = webdriver.Firefox(service=service, options=options)\n",
    "\n",
    "    try:\n",
    "        for pre_link in tqdm(pre_links):\n",
    "            try:\n",
    "                driver.get(pre_link)\n",
    "                html = driver.page_source\n",
    "                soup = BeautifulSoup(html, \"html.parser\")\n",
    "                link = get_link(soup)\n",
    "                if link == \"None\":\n",
    "                    not_availables.append(pre_link)\n",
    "                    j+=1\n",
    "                else:\n",
    "                    links.append(link)\n",
    "                    i+=1\n",
    "\n",
    "                if i % 10 == 0:\n",
    "                    # Link\n",
    "                    matches = pd.DataFrame(links, columns=[\"link\"])\n",
    "                    all_matches = pd.concat([all_matches, matches])\n",
    "                    all_matches.to_csv(f\"{path}links.csv\", index=False)\n",
    "                    i = 0\n",
    "                    links = []\n",
    "\n",
    "                if j % 10 == 0:\n",
    "                    # not_available\n",
    "                    not_availables = pd.DataFrame(not_availables, columns=[\"link\"])\n",
    "                    all_not_availables = pd.concat([all_not_availables, not_availables])\n",
    "                    all_not_availables.to_csv(f\"{path}not_availables.csv\", index=False)\n",
    "                    j=0\n",
    "                    not_availables = []\n",
    "\n",
    "            except Exception as e:\n",
    "                print(f\"❌ Erreur lors de la récupération de la page : {e}\")\n",
    "                errors.append(pre_link)\n",
    "                k += 1\n",
    "            \n",
    "            if k % 1 == 0:\n",
    "                #error\n",
    "                errors = pd.DataFrame(errors, columns=[\"link\"])\n",
    "                all_errors = pd.concat([all_errors, errors])\n",
    "                all_errors.to_csv(f\"{path}errors.csv\", index=False)\n",
    "                j=0\n",
    "                errors = []\n",
    "            \n",
    "        matches = pd.DataFrame(links, columns=[\"link\"])\n",
    "        not_availables = pd.DataFrame(not_availables, columns=[\"link\"])\n",
    "        errors = pd.DataFrame(errors, columns=[\"link\"])\n",
    "\n",
    "        all_matches = pd.concat([all_matches, matches])\n",
    "        all_errors = pd.concat([all_errors, errors])\n",
    "        all_not_availables = pd.concat([all_not_availables, not_availables])\n",
    "\n",
    "        all_matches.to_csv(f\"{path}links.csv\", index=False)\n",
    "        all_errors.to_csv(f\"{path}errors.csv\", index=False)\n",
    "        all_not_availables.to_csv(f\"{path}not_availables.csv\", index=False)\n",
    "\n",
    "    finally:\n",
    "        driver.quit()\n",
    "\n",
    "    # Clean part\n",
    "    all_matches = whoscored_link_traitement(pd.read_csv(f\"{path}links.csv\"))\n",
    "    all_not_availables = whoscored_not_available_error_traitement(pd.read_csv(f\"{path}not_availables.csv\"))\n",
    "    all_errors = whoscored_not_available_error_traitement(pd.read_csv(f\"{path}errors.csv\"))\n",
    "\n",
    "    all_matches.to_csv(\"Whoscored/urls/clean/links.csv\", index=False)\n",
    "    all_errors.to_csv(\"Whoscored/urls/clean/errors.csv\", index=False)\n",
    "    all_not_availables.to_csv(\"Whoscored/urls/clean/not_availables.csv\", index=False)\n"
   ]
  },
  {
   "cell_type": "code",
   "execution_count": null,
   "metadata": {},
   "outputs": [
    {
     "name": "stderr",
     "output_type": "stream",
     "text": [
      " 10%|▉         | 996/10001 [21:10<24:31:06,  9.80s/it]"
     ]
    },
    {
     "name": "stdout",
     "output_type": "stream",
     "text": [
      "❌ Erreur lors de la récupération de la page : cannot access local variable 'link' where it is not associated with a value\n"
     ]
    },
    {
     "name": "stderr",
     "output_type": "stream",
     "text": [
      " 10%|▉         | 1000/10001 [21:26<12:31:14,  5.01s/it]"
     ]
    },
    {
     "name": "stdout",
     "output_type": "stream",
     "text": [
      "❌ Erreur lors de la récupération de la page : cannot access local variable 'link' where it is not associated with a value\n",
      "❌ Erreur lors de la récupération de la page : cannot access local variable 'link' where it is not associated with a value\n",
      "❌ Erreur lors de la récupération de la page : cannot access local variable 'link' where it is not associated with a value\n",
      "❌ Erreur lors de la récupération de la page : cannot access local variable 'link' where it is not associated with a value\n",
      "❌ Erreur lors de la récupération de la page : cannot access local variable 'link' where it is not associated with a value\n"
     ]
    },
    {
     "name": "stderr",
     "output_type": "stream",
     "text": [
      " 10%|█         | 1006/10001 [21:26<4:18:55,  1.73s/it] "
     ]
    },
    {
     "name": "stdout",
     "output_type": "stream",
     "text": [
      "❌ Erreur lors de la récupération de la page : cannot access local variable 'link' where it is not associated with a value\n",
      "❌ Erreur lors de la récupération de la page : cannot access local variable 'link' where it is not associated with a value\n",
      "❌ Erreur lors de la récupération de la page : cannot access local variable 'link' where it is not associated with a value\n",
      "❌ Erreur lors de la récupération de la page : cannot access local variable 'link' where it is not associated with a value\n",
      "❌ Erreur lors de la récupération de la page : cannot access local variable 'link' where it is not associated with a value\n"
     ]
    },
    {
     "name": "stderr",
     "output_type": "stream",
     "text": [
      " 10%|█         | 1011/10001 [21:26<2:03:15,  1.22it/s]"
     ]
    },
    {
     "name": "stdout",
     "output_type": "stream",
     "text": [
      "❌ Erreur lors de la récupération de la page : cannot access local variable 'link' where it is not associated with a value\n",
      "❌ Erreur lors de la récupération de la page : cannot access local variable 'link' where it is not associated with a value\n",
      "❌ Erreur lors de la récupération de la page : cannot access local variable 'link' where it is not associated with a value\n",
      "❌ Erreur lors de la récupération de la page : cannot access local variable 'link' where it is not associated with a value\n",
      "❌ Erreur lors de la récupération de la page : cannot access local variable 'link' where it is not associated with a value\n"
     ]
    },
    {
     "name": "stderr",
     "output_type": "stream",
     "text": [
      " 10%|█         | 1014/10001 [21:26<1:23:05,  1.80it/s]"
     ]
    },
    {
     "name": "stdout",
     "output_type": "stream",
     "text": [
      "❌ Erreur lors de la récupération de la page : cannot access local variable 'link' where it is not associated with a value\n",
      "❌ Erreur lors de la récupération de la page : cannot access local variable 'link' where it is not associated with a value\n",
      "❌ Erreur lors de la récupération de la page : cannot access local variable 'link' where it is not associated with a value\n",
      "❌ Erreur lors de la récupération de la page : cannot access local variable 'link' where it is not associated with a value\n",
      "❌ Erreur lors de la récupération de la page : cannot access local variable 'link' where it is not associated with a value\n"
     ]
    },
    {
     "name": "stderr",
     "output_type": "stream",
     "text": [
      " 10%|█         | 1020/10001 [21:26<41:33,  3.60it/s]  "
     ]
    },
    {
     "name": "stdout",
     "output_type": "stream",
     "text": [
      "❌ Erreur lors de la récupération de la page : cannot access local variable 'link' where it is not associated with a value\n",
      "❌ Erreur lors de la récupération de la page : cannot access local variable 'link' where it is not associated with a value\n",
      "❌ Erreur lors de la récupération de la page : cannot access local variable 'link' where it is not associated with a value\n",
      "❌ Erreur lors de la récupération de la page : cannot access local variable 'link' where it is not associated with a value\n",
      "❌ Erreur lors de la récupération de la page : cannot access local variable 'link' where it is not associated with a value\n"
     ]
    },
    {
     "name": "stderr",
     "output_type": "stream",
     "text": [
      " 10%|█         | 1023/10001 [21:27<30:37,  4.89it/s]"
     ]
    },
    {
     "name": "stdout",
     "output_type": "stream",
     "text": [
      "❌ Erreur lors de la récupération de la page : cannot access local variable 'link' where it is not associated with a value\n",
      "❌ Erreur lors de la récupération de la page : cannot access local variable 'link' where it is not associated with a value\n",
      "❌ Erreur lors de la récupération de la page : cannot access local variable 'link' where it is not associated with a value\n",
      "❌ Erreur lors de la récupération de la page : cannot access local variable 'link' where it is not associated with a value\n",
      "❌ Erreur lors de la récupération de la page : cannot access local variable 'link' where it is not associated with a value\n"
     ]
    },
    {
     "name": "stderr",
     "output_type": "stream",
     "text": [
      " 10%|█         | 1029/10001 [21:27<18:16,  8.18it/s]"
     ]
    },
    {
     "name": "stdout",
     "output_type": "stream",
     "text": [
      "❌ Erreur lors de la récupération de la page : cannot access local variable 'link' where it is not associated with a value\n",
      "❌ Erreur lors de la récupération de la page : cannot access local variable 'link' where it is not associated with a value\n",
      "❌ Erreur lors de la récupération de la page : cannot access local variable 'link' where it is not associated with a value\n",
      "❌ Erreur lors de la récupération de la page : cannot access local variable 'link' where it is not associated with a value\n",
      "❌ Erreur lors de la récupération de la page : cannot access local variable 'link' where it is not associated with a value\n"
     ]
    },
    {
     "name": "stderr",
     "output_type": "stream",
     "text": [
      " 10%|█         | 1035/10001 [21:27<12:18, 12.15it/s]"
     ]
    },
    {
     "name": "stdout",
     "output_type": "stream",
     "text": [
      "❌ Erreur lors de la récupération de la page : cannot access local variable 'link' where it is not associated with a value\n",
      "❌ Erreur lors de la récupération de la page : cannot access local variable 'link' where it is not associated with a value\n",
      "❌ Erreur lors de la récupération de la page : cannot access local variable 'link' where it is not associated with a value\n",
      "❌ Erreur lors de la récupération de la page : cannot access local variable 'link' where it is not associated with a value\n",
      "❌ Erreur lors de la récupération de la page : cannot access local variable 'link' where it is not associated with a value\n"
     ]
    },
    {
     "name": "stderr",
     "output_type": "stream",
     "text": [
      " 10%|█         | 1041/10001 [21:27<09:20, 16.00it/s]"
     ]
    },
    {
     "name": "stdout",
     "output_type": "stream",
     "text": [
      "❌ Erreur lors de la récupération de la page : cannot access local variable 'link' where it is not associated with a value\n",
      "❌ Erreur lors de la récupération de la page : cannot access local variable 'link' where it is not associated with a value\n",
      "❌ Erreur lors de la récupération de la page : cannot access local variable 'link' where it is not associated with a value\n",
      "❌ Erreur lors de la récupération de la page : cannot access local variable 'link' where it is not associated with a value\n",
      "❌ Erreur lors de la récupération de la page : cannot access local variable 'link' where it is not associated with a value\n"
     ]
    },
    {
     "name": "stderr",
     "output_type": "stream",
     "text": [
      " 10%|█         | 1044/10001 [21:27<08:26, 17.68it/s]"
     ]
    },
    {
     "name": "stdout",
     "output_type": "stream",
     "text": [
      "❌ Erreur lors de la récupération de la page : cannot access local variable 'link' where it is not associated with a value\n",
      "❌ Erreur lors de la récupération de la page : cannot access local variable 'link' where it is not associated with a value\n",
      "❌ Erreur lors de la récupération de la page : cannot access local variable 'link' where it is not associated with a value\n",
      "❌ Erreur lors de la récupération de la page : cannot access local variable 'link' where it is not associated with a value\n",
      "❌ Erreur lors de la récupération de la page : cannot access local variable 'link' where it is not associated with a value\n"
     ]
    },
    {
     "name": "stderr",
     "output_type": "stream",
     "text": [
      " 10%|█         | 1050/10001 [21:28<07:42, 19.36it/s]"
     ]
    },
    {
     "name": "stdout",
     "output_type": "stream",
     "text": [
      "❌ Erreur lors de la récupération de la page : cannot access local variable 'link' where it is not associated with a value\n",
      "❌ Erreur lors de la récupération de la page : cannot access local variable 'link' where it is not associated with a value\n",
      "❌ Erreur lors de la récupération de la page : cannot access local variable 'link' where it is not associated with a value\n",
      "❌ Erreur lors de la récupération de la page : cannot access local variable 'link' where it is not associated with a value\n",
      "❌ Erreur lors de la récupération de la page : cannot access local variable 'link' where it is not associated with a value\n"
     ]
    },
    {
     "name": "stderr",
     "output_type": "stream",
     "text": [
      " 11%|█         | 1056/10001 [21:28<07:03, 21.14it/s]"
     ]
    },
    {
     "name": "stdout",
     "output_type": "stream",
     "text": [
      "❌ Erreur lors de la récupération de la page : cannot access local variable 'link' where it is not associated with a value\n",
      "❌ Erreur lors de la récupération de la page : cannot access local variable 'link' where it is not associated with a value\n",
      "❌ Erreur lors de la récupération de la page : cannot access local variable 'link' where it is not associated with a value\n",
      "❌ Erreur lors de la récupération de la page : cannot access local variable 'link' where it is not associated with a value\n",
      "❌ Erreur lors de la récupération de la page : cannot access local variable 'link' where it is not associated with a value\n"
     ]
    },
    {
     "name": "stderr",
     "output_type": "stream",
     "text": [
      " 11%|█         | 1059/10001 [21:28<06:55, 21.54it/s]"
     ]
    },
    {
     "name": "stdout",
     "output_type": "stream",
     "text": [
      "❌ Erreur lors de la récupération de la page : cannot access local variable 'link' where it is not associated with a value\n",
      "❌ Erreur lors de la récupération de la page : cannot access local variable 'link' where it is not associated with a value\n",
      "❌ Erreur lors de la récupération de la page : cannot access local variable 'link' where it is not associated with a value\n",
      "❌ Erreur lors de la récupération de la page : cannot access local variable 'link' where it is not associated with a value\n",
      "❌ Erreur lors de la récupération de la page : cannot access local variable 'link' where it is not associated with a value\n"
     ]
    },
    {
     "name": "stderr",
     "output_type": "stream",
     "text": [
      " 11%|█         | 1065/10001 [21:28<06:52, 21.65it/s]"
     ]
    },
    {
     "name": "stdout",
     "output_type": "stream",
     "text": [
      "❌ Erreur lors de la récupération de la page : cannot access local variable 'link' where it is not associated with a value\n",
      "❌ Erreur lors de la récupération de la page : cannot access local variable 'link' where it is not associated with a value\n",
      "❌ Erreur lors de la récupération de la page : cannot access local variable 'link' where it is not associated with a value\n",
      "❌ Erreur lors de la récupération de la page : cannot access local variable 'link' where it is not associated with a value\n",
      "❌ Erreur lors de la récupération de la page : cannot access local variable 'link' where it is not associated with a value\n"
     ]
    },
    {
     "name": "stderr",
     "output_type": "stream",
     "text": [
      " 11%|█         | 1068/10001 [21:29<06:52, 21.65it/s]"
     ]
    },
    {
     "name": "stdout",
     "output_type": "stream",
     "text": [
      "❌ Erreur lors de la récupération de la page : cannot access local variable 'link' where it is not associated with a value\n",
      "❌ Erreur lors de la récupération de la page : cannot access local variable 'link' where it is not associated with a value\n",
      "❌ Erreur lors de la récupération de la page : cannot access local variable 'link' where it is not associated with a value\n",
      "❌ Erreur lors de la récupération de la page : cannot access local variable 'link' where it is not associated with a value\n",
      "❌ Erreur lors de la récupération de la page : cannot access local variable 'link' where it is not associated with a value\n"
     ]
    },
    {
     "name": "stderr",
     "output_type": "stream",
     "text": [
      " 11%|█         | 1074/10001 [21:29<07:18, 20.38it/s]"
     ]
    },
    {
     "name": "stdout",
     "output_type": "stream",
     "text": [
      "❌ Erreur lors de la récupération de la page : cannot access local variable 'link' where it is not associated with a value\n",
      "❌ Erreur lors de la récupération de la page : cannot access local variable 'link' where it is not associated with a value\n",
      "❌ Erreur lors de la récupération de la page : cannot access local variable 'link' where it is not associated with a value\n",
      "❌ Erreur lors de la récupération de la page : cannot access local variable 'link' where it is not associated with a value\n"
     ]
    },
    {
     "name": "stderr",
     "output_type": "stream",
     "text": [
      " 11%|█         | 1080/10001 [21:29<06:55, 21.46it/s]"
     ]
    },
    {
     "name": "stdout",
     "output_type": "stream",
     "text": [
      "❌ Erreur lors de la récupération de la page : cannot access local variable 'link' where it is not associated with a value\n",
      "❌ Erreur lors de la récupération de la page : cannot access local variable 'link' where it is not associated with a value\n",
      "❌ Erreur lors de la récupération de la page : cannot access local variable 'link' where it is not associated with a value\n",
      "❌ Erreur lors de la récupération de la page : cannot access local variable 'link' where it is not associated with a value\n",
      "❌ Erreur lors de la récupération de la page : cannot access local variable 'link' where it is not associated with a value\n"
     ]
    },
    {
     "name": "stderr",
     "output_type": "stream",
     "text": [
      " 11%|█         | 1083/10001 [21:29<06:56, 21.40it/s]"
     ]
    },
    {
     "name": "stdout",
     "output_type": "stream",
     "text": [
      "❌ Erreur lors de la récupération de la page : cannot access local variable 'link' where it is not associated with a value\n",
      "❌ Erreur lors de la récupération de la page : cannot access local variable 'link' where it is not associated with a value\n",
      "❌ Erreur lors de la récupération de la page : cannot access local variable 'link' where it is not associated with a value\n",
      "❌ Erreur lors de la récupération de la page : cannot access local variable 'link' where it is not associated with a value\n",
      "❌ Erreur lors de la récupération de la page : cannot access local variable 'link' where it is not associated with a value\n"
     ]
    },
    {
     "name": "stderr",
     "output_type": "stream",
     "text": [
      " 11%|█         | 1089/10001 [21:30<06:49, 21.75it/s]"
     ]
    },
    {
     "name": "stdout",
     "output_type": "stream",
     "text": [
      "❌ Erreur lors de la récupération de la page : cannot access local variable 'link' where it is not associated with a value\n",
      "❌ Erreur lors de la récupération de la page : cannot access local variable 'link' where it is not associated with a value\n",
      "❌ Erreur lors de la récupération de la page : cannot access local variable 'link' where it is not associated with a value\n",
      "❌ Erreur lors de la récupération de la page : cannot access local variable 'link' where it is not associated with a value\n",
      "❌ Erreur lors de la récupération de la page : cannot access local variable 'link' where it is not associated with a value\n"
     ]
    },
    {
     "name": "stderr",
     "output_type": "stream",
     "text": [
      " 11%|█         | 1092/10001 [21:30<06:41, 22.20it/s]"
     ]
    },
    {
     "name": "stdout",
     "output_type": "stream",
     "text": [
      "❌ Erreur lors de la récupération de la page : cannot access local variable 'link' where it is not associated with a value\n",
      "❌ Erreur lors de la récupération de la page : cannot access local variable 'link' where it is not associated with a value\n",
      "❌ Erreur lors de la récupération de la page : cannot access local variable 'link' where it is not associated with a value\n",
      "❌ Erreur lors de la récupération de la page : cannot access local variable 'link' where it is not associated with a value\n",
      "❌ Erreur lors de la récupération de la page : cannot access local variable 'link' where it is not associated with a value\n"
     ]
    },
    {
     "name": "stderr",
     "output_type": "stream",
     "text": [
      " 11%|█         | 1098/10001 [21:30<06:40, 22.23it/s]"
     ]
    },
    {
     "name": "stdout",
     "output_type": "stream",
     "text": [
      "❌ Erreur lors de la récupération de la page : cannot access local variable 'link' where it is not associated with a value\n",
      "❌ Erreur lors de la récupération de la page : cannot access local variable 'link' where it is not associated with a value\n",
      "❌ Erreur lors de la récupération de la page : cannot access local variable 'link' where it is not associated with a value\n",
      "❌ Erreur lors de la récupération de la page : cannot access local variable 'link' where it is not associated with a value\n"
     ]
    },
    {
     "name": "stderr",
     "output_type": "stream",
     "text": [
      " 11%|█         | 1104/10001 [21:30<06:33, 22.63it/s]"
     ]
    },
    {
     "name": "stdout",
     "output_type": "stream",
     "text": [
      "❌ Erreur lors de la récupération de la page : cannot access local variable 'link' where it is not associated with a value\n",
      "❌ Erreur lors de la récupération de la page : cannot access local variable 'link' where it is not associated with a value\n",
      "❌ Erreur lors de la récupération de la page : cannot access local variable 'link' where it is not associated with a value\n",
      "❌ Erreur lors de la récupération de la page : cannot access local variable 'link' where it is not associated with a value\n",
      "❌ Erreur lors de la récupération de la page : cannot access local variable 'link' where it is not associated with a value\n"
     ]
    },
    {
     "name": "stderr",
     "output_type": "stream",
     "text": [
      " 11%|█         | 1107/10001 [21:30<06:33, 22.59it/s]"
     ]
    },
    {
     "name": "stdout",
     "output_type": "stream",
     "text": [
      "❌ Erreur lors de la récupération de la page : cannot access local variable 'link' where it is not associated with a value\n",
      "❌ Erreur lors de la récupération de la page : cannot access local variable 'link' where it is not associated with a value\n",
      "❌ Erreur lors de la récupération de la page : cannot access local variable 'link' where it is not associated with a value\n"
     ]
    },
    {
     "name": "stderr",
     "output_type": "stream",
     "text": [
      " 11%|█         | 1110/10001 [21:31<07:18, 20.28it/s]"
     ]
    },
    {
     "name": "stdout",
     "output_type": "stream",
     "text": [
      "❌ Erreur lors de la récupération de la page : cannot access local variable 'link' where it is not associated with a value\n",
      "❌ Erreur lors de la récupération de la page : cannot access local variable 'link' where it is not associated with a value\n",
      "❌ Erreur lors de la récupération de la page : cannot access local variable 'link' where it is not associated with a value\n",
      "❌ Erreur lors de la récupération de la page : cannot access local variable 'link' where it is not associated with a value\n"
     ]
    },
    {
     "name": "stderr",
     "output_type": "stream",
     "text": [
      " 11%|█         | 1113/10001 [21:31<08:34, 17.29it/s]"
     ]
    },
    {
     "name": "stdout",
     "output_type": "stream",
     "text": [
      "❌ Erreur lors de la récupération de la page : cannot access local variable 'link' where it is not associated with a value\n",
      "❌ Erreur lors de la récupération de la page : cannot access local variable 'link' where it is not associated with a value\n",
      "❌ Erreur lors de la récupération de la page : cannot access local variable 'link' where it is not associated with a value\n",
      "❌ Erreur lors de la récupération de la page : cannot access local variable 'link' where it is not associated with a value\n",
      "❌ Erreur lors de la récupération de la page : cannot access local variable 'link' where it is not associated with a value\n"
     ]
    },
    {
     "name": "stderr",
     "output_type": "stream",
     "text": [
      " 11%|█         | 1119/10001 [21:31<07:29, 19.75it/s]"
     ]
    },
    {
     "name": "stdout",
     "output_type": "stream",
     "text": [
      "❌ Erreur lors de la récupération de la page : cannot access local variable 'link' where it is not associated with a value\n",
      "❌ Erreur lors de la récupération de la page : cannot access local variable 'link' where it is not associated with a value\n",
      "❌ Erreur lors de la récupération de la page : cannot access local variable 'link' where it is not associated with a value\n",
      "❌ Erreur lors de la récupération de la page : cannot access local variable 'link' where it is not associated with a value\n",
      "❌ Erreur lors de la récupération de la page : cannot access local variable 'link' where it is not associated with a value\n"
     ]
    },
    {
     "name": "stderr",
     "output_type": "stream",
     "text": [
      " 11%|█         | 1125/10001 [21:31<07:18, 20.22it/s]"
     ]
    },
    {
     "name": "stdout",
     "output_type": "stream",
     "text": [
      "❌ Erreur lors de la récupération de la page : cannot access local variable 'link' where it is not associated with a value\n",
      "❌ Erreur lors de la récupération de la page : cannot access local variable 'link' where it is not associated with a value\n",
      "❌ Erreur lors de la récupération de la page : cannot access local variable 'link' where it is not associated with a value\n",
      "❌ Erreur lors de la récupération de la page : cannot access local variable 'link' where it is not associated with a value\n",
      "❌ Erreur lors de la récupération de la page : cannot access local variable 'link' where it is not associated with a value\n"
     ]
    },
    {
     "name": "stderr",
     "output_type": "stream",
     "text": [
      " 11%|█▏        | 1128/10001 [21:31<07:06, 20.79it/s]"
     ]
    },
    {
     "name": "stdout",
     "output_type": "stream",
     "text": [
      "❌ Erreur lors de la récupération de la page : cannot access local variable 'link' where it is not associated with a value\n",
      "❌ Erreur lors de la récupération de la page : cannot access local variable 'link' where it is not associated with a value\n",
      "❌ Erreur lors de la récupération de la page : cannot access local variable 'link' where it is not associated with a value\n",
      "❌ Erreur lors de la récupération de la page : cannot access local variable 'link' where it is not associated with a value\n",
      "❌ Erreur lors de la récupération de la page : cannot access local variable 'link' where it is not associated with a value\n"
     ]
    },
    {
     "name": "stderr",
     "output_type": "stream",
     "text": [
      " 11%|█▏        | 1134/10001 [21:32<06:47, 21.75it/s]"
     ]
    },
    {
     "name": "stdout",
     "output_type": "stream",
     "text": [
      "❌ Erreur lors de la récupération de la page : cannot access local variable 'link' where it is not associated with a value\n",
      "❌ Erreur lors de la récupération de la page : cannot access local variable 'link' where it is not associated with a value\n",
      "❌ Erreur lors de la récupération de la page : cannot access local variable 'link' where it is not associated with a value\n",
      "❌ Erreur lors de la récupération de la page : cannot access local variable 'link' where it is not associated with a value\n",
      "❌ Erreur lors de la récupération de la page : cannot access local variable 'link' where it is not associated with a value\n"
     ]
    },
    {
     "name": "stderr",
     "output_type": "stream",
     "text": [
      " 11%|█▏        | 1140/10001 [21:32<06:43, 21.97it/s]"
     ]
    },
    {
     "name": "stdout",
     "output_type": "stream",
     "text": [
      "❌ Erreur lors de la récupération de la page : cannot access local variable 'link' where it is not associated with a value\n",
      "❌ Erreur lors de la récupération de la page : cannot access local variable 'link' where it is not associated with a value\n",
      "❌ Erreur lors de la récupération de la page : cannot access local variable 'link' where it is not associated with a value\n",
      "❌ Erreur lors de la récupération de la page : cannot access local variable 'link' where it is not associated with a value\n",
      "❌ Erreur lors de la récupération de la page : cannot access local variable 'link' where it is not associated with a value\n"
     ]
    },
    {
     "name": "stderr",
     "output_type": "stream",
     "text": [
      " 11%|█▏        | 1143/10001 [21:32<06:53, 21.44it/s]"
     ]
    },
    {
     "name": "stdout",
     "output_type": "stream",
     "text": [
      "❌ Erreur lors de la récupération de la page : cannot access local variable 'link' where it is not associated with a value\n",
      "❌ Erreur lors de la récupération de la page : cannot access local variable 'link' where it is not associated with a value\n",
      "❌ Erreur lors de la récupération de la page : cannot access local variable 'link' where it is not associated with a value\n",
      "❌ Erreur lors de la récupération de la page : cannot access local variable 'link' where it is not associated with a value\n",
      "❌ Erreur lors de la récupération de la page : cannot access local variable 'link' where it is not associated with a value\n"
     ]
    },
    {
     "name": "stderr",
     "output_type": "stream",
     "text": [
      " 11%|█▏        | 1149/10001 [21:32<06:38, 22.24it/s]"
     ]
    },
    {
     "name": "stdout",
     "output_type": "stream",
     "text": [
      "❌ Erreur lors de la récupération de la page : cannot access local variable 'link' where it is not associated with a value\n",
      "❌ Erreur lors de la récupération de la page : cannot access local variable 'link' where it is not associated with a value\n",
      "❌ Erreur lors de la récupération de la page : cannot access local variable 'link' where it is not associated with a value\n",
      "❌ Erreur lors de la récupération de la page : cannot access local variable 'link' where it is not associated with a value\n",
      "❌ Erreur lors de la récupération de la page : cannot access local variable 'link' where it is not associated with a value\n"
     ]
    },
    {
     "name": "stderr",
     "output_type": "stream",
     "text": [
      " 12%|█▏        | 1155/10001 [21:33<06:27, 22.81it/s]"
     ]
    },
    {
     "name": "stdout",
     "output_type": "stream",
     "text": [
      "❌ Erreur lors de la récupération de la page : cannot access local variable 'link' where it is not associated with a value\n",
      "❌ Erreur lors de la récupération de la page : cannot access local variable 'link' where it is not associated with a value\n",
      "❌ Erreur lors de la récupération de la page : cannot access local variable 'link' where it is not associated with a value\n",
      "❌ Erreur lors de la récupération de la page : cannot access local variable 'link' where it is not associated with a value\n",
      "❌ Erreur lors de la récupération de la page : cannot access local variable 'link' where it is not associated with a value\n"
     ]
    },
    {
     "name": "stderr",
     "output_type": "stream",
     "text": [
      " 12%|█▏        | 1158/10001 [21:33<06:35, 22.38it/s]"
     ]
    },
    {
     "name": "stdout",
     "output_type": "stream",
     "text": [
      "❌ Erreur lors de la récupération de la page : cannot access local variable 'link' where it is not associated with a value\n",
      "❌ Erreur lors de la récupération de la page : cannot access local variable 'link' where it is not associated with a value\n",
      "❌ Erreur lors de la récupération de la page : cannot access local variable 'link' where it is not associated with a value\n",
      "❌ Erreur lors de la récupération de la page : cannot access local variable 'link' where it is not associated with a value\n",
      "❌ Erreur lors de la récupération de la page : cannot access local variable 'link' where it is not associated with a value\n"
     ]
    },
    {
     "name": "stderr",
     "output_type": "stream",
     "text": [
      " 12%|█▏        | 1164/10001 [21:33<07:08, 20.63it/s]"
     ]
    },
    {
     "name": "stdout",
     "output_type": "stream",
     "text": [
      "❌ Erreur lors de la récupération de la page : cannot access local variable 'link' where it is not associated with a value\n",
      "❌ Erreur lors de la récupération de la page : cannot access local variable 'link' where it is not associated with a value\n",
      "❌ Erreur lors de la récupération de la page : cannot access local variable 'link' where it is not associated with a value\n",
      "❌ Erreur lors de la récupération de la page : cannot access local variable 'link' where it is not associated with a value\n",
      "❌ Erreur lors de la récupération de la page : cannot access local variable 'link' where it is not associated with a value\n"
     ]
    },
    {
     "name": "stderr",
     "output_type": "stream",
     "text": [
      " 12%|█▏        | 1170/10001 [21:33<06:57, 21.17it/s]"
     ]
    },
    {
     "name": "stdout",
     "output_type": "stream",
     "text": [
      "❌ Erreur lors de la récupération de la page : cannot access local variable 'link' where it is not associated with a value\n",
      "❌ Erreur lors de la récupération de la page : cannot access local variable 'link' where it is not associated with a value\n",
      "❌ Erreur lors de la récupération de la page : cannot access local variable 'link' where it is not associated with a value\n",
      "❌ Erreur lors de la récupération de la page : cannot access local variable 'link' where it is not associated with a value\n",
      "❌ Erreur lors de la récupération de la page : cannot access local variable 'link' where it is not associated with a value\n"
     ]
    },
    {
     "name": "stderr",
     "output_type": "stream",
     "text": [
      " 12%|█▏        | 1173/10001 [21:34<06:52, 21.38it/s]"
     ]
    },
    {
     "name": "stdout",
     "output_type": "stream",
     "text": [
      "❌ Erreur lors de la récupération de la page : cannot access local variable 'link' where it is not associated with a value\n",
      "❌ Erreur lors de la récupération de la page : cannot access local variable 'link' where it is not associated with a value\n",
      "❌ Erreur lors de la récupération de la page : cannot access local variable 'link' where it is not associated with a value\n",
      "❌ Erreur lors de la récupération de la page : cannot access local variable 'link' where it is not associated with a value\n",
      "❌ Erreur lors de la récupération de la page : cannot access local variable 'link' where it is not associated with a value\n"
     ]
    },
    {
     "name": "stderr",
     "output_type": "stream",
     "text": [
      " 12%|█▏        | 1179/10001 [21:34<06:54, 21.27it/s]"
     ]
    },
    {
     "name": "stdout",
     "output_type": "stream",
     "text": [
      "❌ Erreur lors de la récupération de la page : cannot access local variable 'link' where it is not associated with a value\n",
      "❌ Erreur lors de la récupération de la page : cannot access local variable 'link' where it is not associated with a value\n",
      "❌ Erreur lors de la récupération de la page : cannot access local variable 'link' where it is not associated with a value\n",
      "❌ Erreur lors de la récupération de la page : cannot access local variable 'link' where it is not associated with a value\n"
     ]
    },
    {
     "name": "stderr",
     "output_type": "stream",
     "text": [
      " 12%|█▏        | 1182/10001 [21:34<06:49, 21.54it/s]"
     ]
    },
    {
     "name": "stdout",
     "output_type": "stream",
     "text": [
      "❌ Erreur lors de la récupération de la page : cannot access local variable 'link' where it is not associated with a value\n",
      "❌ Erreur lors de la récupération de la page : cannot access local variable 'link' where it is not associated with a value\n",
      "❌ Erreur lors de la récupération de la page : cannot access local variable 'link' where it is not associated with a value\n",
      "❌ Erreur lors de la récupération de la page : cannot access local variable 'link' where it is not associated with a value\n",
      "❌ Erreur lors de la récupération de la page : cannot access local variable 'link' where it is not associated with a value\n"
     ]
    },
    {
     "name": "stderr",
     "output_type": "stream",
     "text": [
      " 12%|█▏        | 1188/10001 [21:34<06:34, 22.32it/s]"
     ]
    },
    {
     "name": "stdout",
     "output_type": "stream",
     "text": [
      "❌ Erreur lors de la récupération de la page : cannot access local variable 'link' where it is not associated with a value\n",
      "❌ Erreur lors de la récupération de la page : cannot access local variable 'link' where it is not associated with a value\n",
      "❌ Erreur lors de la récupération de la page : cannot access local variable 'link' where it is not associated with a value\n",
      "❌ Erreur lors de la récupération de la page : cannot access local variable 'link' where it is not associated with a value\n",
      "❌ Erreur lors de la récupération de la page : cannot access local variable 'link' where it is not associated with a value\n"
     ]
    },
    {
     "name": "stderr",
     "output_type": "stream",
     "text": [
      " 12%|█▏        | 1194/10001 [21:34<06:37, 22.17it/s]"
     ]
    },
    {
     "name": "stdout",
     "output_type": "stream",
     "text": [
      "❌ Erreur lors de la récupération de la page : cannot access local variable 'link' where it is not associated with a value\n",
      "❌ Erreur lors de la récupération de la page : cannot access local variable 'link' where it is not associated with a value\n",
      "❌ Erreur lors de la récupération de la page : cannot access local variable 'link' where it is not associated with a value\n",
      "❌ Erreur lors de la récupération de la page : cannot access local variable 'link' where it is not associated with a value\n",
      "❌ Erreur lors de la récupération de la page : cannot access local variable 'link' where it is not associated with a value\n"
     ]
    },
    {
     "name": "stderr",
     "output_type": "stream",
     "text": [
      " 12%|█▏        | 1200/10001 [21:35<06:24, 22.88it/s]"
     ]
    },
    {
     "name": "stdout",
     "output_type": "stream",
     "text": [
      "❌ Erreur lors de la récupération de la page : cannot access local variable 'link' where it is not associated with a value\n",
      "❌ Erreur lors de la récupération de la page : cannot access local variable 'link' where it is not associated with a value\n",
      "❌ Erreur lors de la récupération de la page : cannot access local variable 'link' where it is not associated with a value\n",
      "❌ Erreur lors de la récupération de la page : cannot access local variable 'link' where it is not associated with a value\n",
      "❌ Erreur lors de la récupération de la page : cannot access local variable 'link' where it is not associated with a value\n"
     ]
    },
    {
     "name": "stderr",
     "output_type": "stream",
     "text": [
      " 12%|█▏        | 1203/10001 [21:35<06:19, 23.19it/s]"
     ]
    },
    {
     "name": "stdout",
     "output_type": "stream",
     "text": [
      "❌ Erreur lors de la récupération de la page : cannot access local variable 'link' where it is not associated with a value\n",
      "❌ Erreur lors de la récupération de la page : cannot access local variable 'link' where it is not associated with a value\n",
      "❌ Erreur lors de la récupération de la page : cannot access local variable 'link' where it is not associated with a value\n",
      "❌ Erreur lors de la récupération de la page : cannot access local variable 'link' where it is not associated with a value\n",
      "❌ Erreur lors de la récupération de la page : cannot access local variable 'link' where it is not associated with a value\n"
     ]
    },
    {
     "name": "stderr",
     "output_type": "stream",
     "text": [
      " 12%|█▏        | 1209/10001 [21:35<06:22, 22.96it/s]"
     ]
    },
    {
     "name": "stdout",
     "output_type": "stream",
     "text": [
      "❌ Erreur lors de la récupération de la page : cannot access local variable 'link' where it is not associated with a value\n",
      "❌ Erreur lors de la récupération de la page : cannot access local variable 'link' where it is not associated with a value\n",
      "❌ Erreur lors de la récupération de la page : cannot access local variable 'link' where it is not associated with a value\n",
      "❌ Erreur lors de la récupération de la page : cannot access local variable 'link' where it is not associated with a value\n",
      "❌ Erreur lors de la récupération de la page : cannot access local variable 'link' where it is not associated with a value\n",
      "❌ Erreur lors de la récupération de la page : cannot access local variable 'link' where it is not associated with a value\n"
     ]
    },
    {
     "name": "stderr",
     "output_type": "stream",
     "text": [
      " 12%|█▏        | 1215/10001 [21:35<06:11, 23.66it/s]"
     ]
    },
    {
     "name": "stdout",
     "output_type": "stream",
     "text": [
      "❌ Erreur lors de la récupération de la page : cannot access local variable 'link' where it is not associated with a value\n",
      "❌ Erreur lors de la récupération de la page : cannot access local variable 'link' where it is not associated with a value\n",
      "❌ Erreur lors de la récupération de la page : cannot access local variable 'link' where it is not associated with a value\n",
      "❌ Erreur lors de la récupération de la page : cannot access local variable 'link' where it is not associated with a value\n",
      "❌ Erreur lors de la récupération de la page : cannot access local variable 'link' where it is not associated with a value\n"
     ]
    },
    {
     "name": "stderr",
     "output_type": "stream",
     "text": [
      " 12%|█▏        | 1221/10001 [21:36<06:12, 23.54it/s]"
     ]
    },
    {
     "name": "stdout",
     "output_type": "stream",
     "text": [
      "❌ Erreur lors de la récupération de la page : cannot access local variable 'link' where it is not associated with a value\n",
      "❌ Erreur lors de la récupération de la page : cannot access local variable 'link' where it is not associated with a value\n",
      "❌ Erreur lors de la récupération de la page : cannot access local variable 'link' where it is not associated with a value\n",
      "❌ Erreur lors de la récupération de la page : cannot access local variable 'link' where it is not associated with a value\n",
      "❌ Erreur lors de la récupération de la page : cannot access local variable 'link' where it is not associated with a value\n"
     ]
    },
    {
     "name": "stderr",
     "output_type": "stream",
     "text": [
      " 12%|█▏        | 1224/10001 [21:36<06:17, 23.28it/s]"
     ]
    },
    {
     "name": "stdout",
     "output_type": "stream",
     "text": [
      "❌ Erreur lors de la récupération de la page : cannot access local variable 'link' where it is not associated with a value\n",
      "❌ Erreur lors de la récupération de la page : cannot access local variable 'link' where it is not associated with a value\n",
      "❌ Erreur lors de la récupération de la page : cannot access local variable 'link' where it is not associated with a value\n",
      "❌ Erreur lors de la récupération de la page : cannot access local variable 'link' where it is not associated with a value\n"
     ]
    },
    {
     "name": "stderr",
     "output_type": "stream",
     "text": [
      " 12%|█▏        | 1227/10001 [21:36<06:22, 22.96it/s]"
     ]
    },
    {
     "name": "stdout",
     "output_type": "stream",
     "text": [
      "❌ Erreur lors de la récupération de la page : cannot access local variable 'link' where it is not associated with a value\n",
      "❌ Erreur lors de la récupération de la page : cannot access local variable 'link' where it is not associated with a value\n",
      "❌ Erreur lors de la récupération de la page : cannot access local variable 'link' where it is not associated with a value\n",
      "❌ Erreur lors de la récupération de la page : cannot access local variable 'link' where it is not associated with a value\n"
     ]
    },
    {
     "name": "stderr",
     "output_type": "stream",
     "text": [
      " 12%|█▏        | 1233/10001 [21:36<07:23, 19.75it/s]"
     ]
    },
    {
     "name": "stdout",
     "output_type": "stream",
     "text": [
      "❌ Erreur lors de la récupération de la page : cannot access local variable 'link' where it is not associated with a value\n",
      "❌ Erreur lors de la récupération de la page : cannot access local variable 'link' where it is not associated with a value\n",
      "❌ Erreur lors de la récupération de la page : cannot access local variable 'link' where it is not associated with a value\n",
      "❌ Erreur lors de la récupération de la page : cannot access local variable 'link' where it is not associated with a value\n",
      "❌ Erreur lors de la récupération de la page : cannot access local variable 'link' where it is not associated with a value\n"
     ]
    },
    {
     "name": "stderr",
     "output_type": "stream",
     "text": [
      " 12%|█▏        | 1236/10001 [21:36<07:11, 20.30it/s]"
     ]
    },
    {
     "name": "stdout",
     "output_type": "stream",
     "text": [
      "❌ Erreur lors de la récupération de la page : cannot access local variable 'link' where it is not associated with a value\n",
      "❌ Erreur lors de la récupération de la page : cannot access local variable 'link' where it is not associated with a value\n",
      "❌ Erreur lors de la récupération de la page : cannot access local variable 'link' where it is not associated with a value\n",
      "❌ Erreur lors de la récupération de la page : cannot access local variable 'link' where it is not associated with a value\n",
      "❌ Erreur lors de la récupération de la page : cannot access local variable 'link' where it is not associated with a value\n"
     ]
    },
    {
     "name": "stderr",
     "output_type": "stream",
     "text": [
      " 12%|█▏        | 1242/10001 [21:37<06:51, 21.27it/s]"
     ]
    },
    {
     "name": "stdout",
     "output_type": "stream",
     "text": [
      "❌ Erreur lors de la récupération de la page : cannot access local variable 'link' where it is not associated with a value\n",
      "❌ Erreur lors de la récupération de la page : cannot access local variable 'link' where it is not associated with a value\n",
      "❌ Erreur lors de la récupération de la page : cannot access local variable 'link' where it is not associated with a value\n",
      "❌ Erreur lors de la récupération de la page : cannot access local variable 'link' where it is not associated with a value\n",
      "❌ Erreur lors de la récupération de la page : cannot access local variable 'link' where it is not associated with a value\n"
     ]
    },
    {
     "name": "stderr",
     "output_type": "stream",
     "text": [
      " 12%|█▏        | 1245/10001 [21:37<06:54, 21.11it/s]"
     ]
    },
    {
     "name": "stdout",
     "output_type": "stream",
     "text": [
      "❌ Erreur lors de la récupération de la page : cannot access local variable 'link' where it is not associated with a value\n",
      "❌ Erreur lors de la récupération de la page : cannot access local variable 'link' where it is not associated with a value\n",
      "❌ Erreur lors de la récupération de la page : cannot access local variable 'link' where it is not associated with a value\n",
      "❌ Erreur lors de la récupération de la page : cannot access local variable 'link' where it is not associated with a value\n"
     ]
    },
    {
     "name": "stderr",
     "output_type": "stream",
     "text": [
      " 13%|█▎        | 1251/10001 [21:37<06:54, 21.10it/s]"
     ]
    },
    {
     "name": "stdout",
     "output_type": "stream",
     "text": [
      "❌ Erreur lors de la récupération de la page : cannot access local variable 'link' where it is not associated with a value\n",
      "❌ Erreur lors de la récupération de la page : cannot access local variable 'link' where it is not associated with a value\n",
      "❌ Erreur lors de la récupération de la page : cannot access local variable 'link' where it is not associated with a value\n",
      "❌ Erreur lors de la récupération de la page : cannot access local variable 'link' where it is not associated with a value\n",
      "❌ Erreur lors de la récupération de la page : cannot access local variable 'link' where it is not associated with a value\n"
     ]
    },
    {
     "name": "stderr",
     "output_type": "stream",
     "text": [
      " 13%|█▎        | 1257/10001 [21:37<06:43, 21.67it/s]"
     ]
    },
    {
     "name": "stdout",
     "output_type": "stream",
     "text": [
      "❌ Erreur lors de la récupération de la page : cannot access local variable 'link' where it is not associated with a value\n",
      "❌ Erreur lors de la récupération de la page : cannot access local variable 'link' where it is not associated with a value\n",
      "❌ Erreur lors de la récupération de la page : cannot access local variable 'link' where it is not associated with a value\n",
      "❌ Erreur lors de la récupération de la page : cannot access local variable 'link' where it is not associated with a value\n",
      "❌ Erreur lors de la récupération de la page : cannot access local variable 'link' where it is not associated with a value\n"
     ]
    },
    {
     "name": "stderr",
     "output_type": "stream",
     "text": [
      " 13%|█▎        | 1260/10001 [21:38<06:46, 21.51it/s]"
     ]
    },
    {
     "name": "stdout",
     "output_type": "stream",
     "text": [
      "❌ Erreur lors de la récupération de la page : cannot access local variable 'link' where it is not associated with a value\n",
      "❌ Erreur lors de la récupération de la page : cannot access local variable 'link' where it is not associated with a value\n",
      "❌ Erreur lors de la récupération de la page : cannot access local variable 'link' where it is not associated with a value\n",
      "❌ Erreur lors de la récupération de la page : cannot access local variable 'link' where it is not associated with a value\n",
      "❌ Erreur lors de la récupération de la page : cannot access local variable 'link' where it is not associated with a value\n"
     ]
    },
    {
     "name": "stderr",
     "output_type": "stream",
     "text": [
      " 13%|█▎        | 1266/10001 [21:38<06:34, 22.14it/s]"
     ]
    },
    {
     "name": "stdout",
     "output_type": "stream",
     "text": [
      "❌ Erreur lors de la récupération de la page : cannot access local variable 'link' where it is not associated with a value\n",
      "❌ Erreur lors de la récupération de la page : cannot access local variable 'link' where it is not associated with a value\n",
      "❌ Erreur lors de la récupération de la page : cannot access local variable 'link' where it is not associated with a value\n",
      "❌ Erreur lors de la récupération de la page : cannot access local variable 'link' where it is not associated with a value\n",
      "❌ Erreur lors de la récupération de la page : cannot access local variable 'link' where it is not associated with a value\n"
     ]
    },
    {
     "name": "stderr",
     "output_type": "stream",
     "text": [
      " 13%|█▎        | 1272/10001 [21:38<06:38, 21.90it/s]"
     ]
    },
    {
     "name": "stdout",
     "output_type": "stream",
     "text": [
      "❌ Erreur lors de la récupération de la page : cannot access local variable 'link' where it is not associated with a value\n",
      "❌ Erreur lors de la récupération de la page : cannot access local variable 'link' where it is not associated with a value\n",
      "❌ Erreur lors de la récupération de la page : cannot access local variable 'link' where it is not associated with a value\n",
      "❌ Erreur lors de la récupération de la page : cannot access local variable 'link' where it is not associated with a value\n",
      "❌ Erreur lors de la récupération de la page : cannot access local variable 'link' where it is not associated with a value\n"
     ]
    },
    {
     "name": "stderr",
     "output_type": "stream",
     "text": [
      " 13%|█▎        | 1275/10001 [21:38<06:36, 22.03it/s]"
     ]
    },
    {
     "name": "stdout",
     "output_type": "stream",
     "text": [
      "❌ Erreur lors de la récupération de la page : cannot access local variable 'link' where it is not associated with a value\n",
      "❌ Erreur lors de la récupération de la page : cannot access local variable 'link' where it is not associated with a value\n",
      "❌ Erreur lors de la récupération de la page : cannot access local variable 'link' where it is not associated with a value\n",
      "❌ Erreur lors de la récupération de la page : cannot access local variable 'link' where it is not associated with a value\n",
      "❌ Erreur lors de la récupération de la page : cannot access local variable 'link' where it is not associated with a value\n"
     ]
    },
    {
     "name": "stderr",
     "output_type": "stream",
     "text": [
      " 13%|█▎        | 1281/10001 [21:38<06:24, 22.67it/s]"
     ]
    },
    {
     "name": "stdout",
     "output_type": "stream",
     "text": [
      "❌ Erreur lors de la récupération de la page : cannot access local variable 'link' where it is not associated with a value\n",
      "❌ Erreur lors de la récupération de la page : cannot access local variable 'link' where it is not associated with a value\n",
      "❌ Erreur lors de la récupération de la page : cannot access local variable 'link' where it is not associated with a value\n",
      "❌ Erreur lors de la récupération de la page : cannot access local variable 'link' where it is not associated with a value\n",
      "❌ Erreur lors de la récupération de la page : cannot access local variable 'link' where it is not associated with a value\n"
     ]
    },
    {
     "name": "stderr",
     "output_type": "stream",
     "text": [
      " 13%|█▎        | 1287/10001 [21:39<06:22, 22.81it/s]"
     ]
    },
    {
     "name": "stdout",
     "output_type": "stream",
     "text": [
      "❌ Erreur lors de la récupération de la page : cannot access local variable 'link' where it is not associated with a value\n",
      "❌ Erreur lors de la récupération de la page : cannot access local variable 'link' where it is not associated with a value\n",
      "❌ Erreur lors de la récupération de la page : cannot access local variable 'link' where it is not associated with a value\n",
      "❌ Erreur lors de la récupération de la page : cannot access local variable 'link' where it is not associated with a value\n",
      "❌ Erreur lors de la récupération de la page : cannot access local variable 'link' where it is not associated with a value\n"
     ]
    },
    {
     "name": "stderr",
     "output_type": "stream",
     "text": [
      " 13%|█▎        | 1293/10001 [21:39<06:13, 23.28it/s]"
     ]
    },
    {
     "name": "stdout",
     "output_type": "stream",
     "text": [
      "❌ Erreur lors de la récupération de la page : cannot access local variable 'link' where it is not associated with a value\n",
      "❌ Erreur lors de la récupération de la page : cannot access local variable 'link' where it is not associated with a value\n",
      "❌ Erreur lors de la récupération de la page : cannot access local variable 'link' where it is not associated with a value\n",
      "❌ Erreur lors de la récupération de la page : cannot access local variable 'link' where it is not associated with a value\n",
      "❌ Erreur lors de la récupération de la page : cannot access local variable 'link' where it is not associated with a value\n"
     ]
    },
    {
     "name": "stderr",
     "output_type": "stream",
     "text": [
      " 13%|█▎        | 1296/10001 [21:39<06:28, 22.42it/s]"
     ]
    },
    {
     "name": "stdout",
     "output_type": "stream",
     "text": [
      "❌ Erreur lors de la récupération de la page : cannot access local variable 'link' where it is not associated with a value\n",
      "❌ Erreur lors de la récupération de la page : cannot access local variable 'link' where it is not associated with a value\n",
      "❌ Erreur lors de la récupération de la page : cannot access local variable 'link' where it is not associated with a value\n",
      "❌ Erreur lors de la récupération de la page : cannot access local variable 'link' where it is not associated with a value\n",
      "❌ Erreur lors de la récupération de la page : cannot access local variable 'link' where it is not associated with a value\n"
     ]
    },
    {
     "name": "stderr",
     "output_type": "stream",
     "text": [
      " 13%|█▎        | 1302/10001 [21:39<06:28, 22.40it/s]"
     ]
    },
    {
     "name": "stdout",
     "output_type": "stream",
     "text": [
      "❌ Erreur lors de la récupération de la page : cannot access local variable 'link' where it is not associated with a value\n",
      "❌ Erreur lors de la récupération de la page : cannot access local variable 'link' where it is not associated with a value\n",
      "❌ Erreur lors de la récupération de la page : cannot access local variable 'link' where it is not associated with a value\n",
      "❌ Erreur lors de la récupération de la page : cannot access local variable 'link' where it is not associated with a value\n",
      "❌ Erreur lors de la récupération de la page : cannot access local variable 'link' where it is not associated with a value\n"
     ]
    },
    {
     "name": "stderr",
     "output_type": "stream",
     "text": [
      " 13%|█▎        | 1305/10001 [21:40<06:29, 22.30it/s]"
     ]
    },
    {
     "name": "stdout",
     "output_type": "stream",
     "text": [
      "❌ Erreur lors de la récupération de la page : cannot access local variable 'link' where it is not associated with a value\n",
      "❌ Erreur lors de la récupération de la page : cannot access local variable 'link' where it is not associated with a value\n",
      "❌ Erreur lors de la récupération de la page : cannot access local variable 'link' where it is not associated with a value\n",
      "❌ Erreur lors de la récupération de la page : cannot access local variable 'link' where it is not associated with a value\n",
      "❌ Erreur lors de la récupération de la page : cannot access local variable 'link' where it is not associated with a value\n"
     ]
    },
    {
     "name": "stderr",
     "output_type": "stream",
     "text": [
      " 13%|█▎        | 1311/10001 [21:40<06:38, 21.80it/s]"
     ]
    },
    {
     "name": "stdout",
     "output_type": "stream",
     "text": [
      "❌ Erreur lors de la récupération de la page : cannot access local variable 'link' where it is not associated with a value\n",
      "❌ Erreur lors de la récupération de la page : cannot access local variable 'link' where it is not associated with a value\n",
      "❌ Erreur lors de la récupération de la page : cannot access local variable 'link' where it is not associated with a value\n",
      "❌ Erreur lors de la récupération de la page : cannot access local variable 'link' where it is not associated with a value\n",
      "❌ Erreur lors de la récupération de la page : cannot access local variable 'link' where it is not associated with a value\n"
     ]
    },
    {
     "name": "stderr",
     "output_type": "stream",
     "text": [
      " 13%|█▎        | 1317/10001 [21:40<06:34, 22.02it/s]"
     ]
    },
    {
     "name": "stdout",
     "output_type": "stream",
     "text": [
      "❌ Erreur lors de la récupération de la page : cannot access local variable 'link' where it is not associated with a value\n",
      "❌ Erreur lors de la récupération de la page : cannot access local variable 'link' where it is not associated with a value\n",
      "❌ Erreur lors de la récupération de la page : cannot access local variable 'link' where it is not associated with a value\n",
      "❌ Erreur lors de la récupération de la page : cannot access local variable 'link' where it is not associated with a value\n",
      "❌ Erreur lors de la récupération de la page : cannot access local variable 'link' where it is not associated with a value\n"
     ]
    },
    {
     "name": "stderr",
     "output_type": "stream",
     "text": [
      " 13%|█▎        | 1320/10001 [21:40<06:23, 22.62it/s]"
     ]
    },
    {
     "name": "stdout",
     "output_type": "stream",
     "text": [
      "❌ Erreur lors de la récupération de la page : cannot access local variable 'link' where it is not associated with a value\n",
      "❌ Erreur lors de la récupération de la page : cannot access local variable 'link' where it is not associated with a value\n",
      "❌ Erreur lors de la récupération de la page : cannot access local variable 'link' where it is not associated with a value\n",
      "❌ Erreur lors de la récupération de la page : cannot access local variable 'link' where it is not associated with a value\n",
      "❌ Erreur lors de la récupération de la page : cannot access local variable 'link' where it is not associated with a value\n"
     ]
    },
    {
     "name": "stderr",
     "output_type": "stream",
     "text": [
      " 13%|█▎        | 1326/10001 [21:41<07:04, 20.45it/s]"
     ]
    },
    {
     "name": "stdout",
     "output_type": "stream",
     "text": [
      "❌ Erreur lors de la récupération de la page : cannot access local variable 'link' where it is not associated with a value\n",
      "❌ Erreur lors de la récupération de la page : cannot access local variable 'link' where it is not associated with a value\n",
      "❌ Erreur lors de la récupération de la page : cannot access local variable 'link' where it is not associated with a value\n",
      "❌ Erreur lors de la récupération de la page : cannot access local variable 'link' where it is not associated with a value\n",
      "❌ Erreur lors de la récupération de la page : cannot access local variable 'link' where it is not associated with a value\n"
     ]
    },
    {
     "name": "stderr",
     "output_type": "stream",
     "text": [
      " 13%|█▎        | 1332/10001 [21:41<06:51, 21.05it/s]"
     ]
    },
    {
     "name": "stdout",
     "output_type": "stream",
     "text": [
      "❌ Erreur lors de la récupération de la page : cannot access local variable 'link' where it is not associated with a value\n",
      "❌ Erreur lors de la récupération de la page : cannot access local variable 'link' where it is not associated with a value\n",
      "❌ Erreur lors de la récupération de la page : cannot access local variable 'link' where it is not associated with a value\n",
      "❌ Erreur lors de la récupération de la page : cannot access local variable 'link' where it is not associated with a value\n",
      "❌ Erreur lors de la récupération de la page : cannot access local variable 'link' where it is not associated with a value\n"
     ]
    },
    {
     "name": "stderr",
     "output_type": "stream",
     "text": [
      " 13%|█▎        | 1335/10001 [21:41<06:50, 21.10it/s]"
     ]
    },
    {
     "name": "stdout",
     "output_type": "stream",
     "text": [
      "❌ Erreur lors de la récupération de la page : cannot access local variable 'link' where it is not associated with a value\n",
      "❌ Erreur lors de la récupération de la page : cannot access local variable 'link' where it is not associated with a value\n",
      "❌ Erreur lors de la récupération de la page : cannot access local variable 'link' where it is not associated with a value\n",
      "❌ Erreur lors de la récupération de la page : cannot access local variable 'link' where it is not associated with a value\n",
      "❌ Erreur lors de la récupération de la page : cannot access local variable 'link' where it is not associated with a value\n"
     ]
    },
    {
     "name": "stderr",
     "output_type": "stream",
     "text": [
      " 13%|█▎        | 1341/10001 [21:41<06:41, 21.54it/s]"
     ]
    },
    {
     "name": "stdout",
     "output_type": "stream",
     "text": [
      "❌ Erreur lors de la récupération de la page : cannot access local variable 'link' where it is not associated with a value\n",
      "❌ Erreur lors de la récupération de la page : cannot access local variable 'link' where it is not associated with a value\n",
      "❌ Erreur lors de la récupération de la page : cannot access local variable 'link' where it is not associated with a value\n",
      "❌ Erreur lors de la récupération de la page : cannot access local variable 'link' where it is not associated with a value\n",
      "❌ Erreur lors de la récupération de la page : cannot access local variable 'link' where it is not associated with a value\n"
     ]
    },
    {
     "name": "stderr",
     "output_type": "stream",
     "text": [
      " 13%|█▎        | 1347/10001 [21:41<06:38, 21.69it/s]"
     ]
    },
    {
     "name": "stdout",
     "output_type": "stream",
     "text": [
      "❌ Erreur lors de la récupération de la page : cannot access local variable 'link' where it is not associated with a value\n",
      "❌ Erreur lors de la récupération de la page : cannot access local variable 'link' where it is not associated with a value\n",
      "❌ Erreur lors de la récupération de la page : cannot access local variable 'link' where it is not associated with a value\n",
      "❌ Erreur lors de la récupération de la page : cannot access local variable 'link' where it is not associated with a value\n",
      "❌ Erreur lors de la récupération de la page : cannot access local variable 'link' where it is not associated with a value\n"
     ]
    },
    {
     "name": "stderr",
     "output_type": "stream",
     "text": [
      " 13%|█▎        | 1350/10001 [21:42<06:40, 21.61it/s]"
     ]
    },
    {
     "name": "stdout",
     "output_type": "stream",
     "text": [
      "❌ Erreur lors de la récupération de la page : cannot access local variable 'link' where it is not associated with a value\n",
      "❌ Erreur lors de la récupération de la page : cannot access local variable 'link' where it is not associated with a value\n",
      "❌ Erreur lors de la récupération de la page : cannot access local variable 'link' where it is not associated with a value\n",
      "❌ Erreur lors de la récupération de la page : cannot access local variable 'link' where it is not associated with a value\n",
      "❌ Erreur lors de la récupération de la page : cannot access local variable 'link' where it is not associated with a value\n"
     ]
    },
    {
     "name": "stderr",
     "output_type": "stream",
     "text": [
      " 14%|█▎        | 1356/10001 [21:42<06:48, 21.14it/s]"
     ]
    },
    {
     "name": "stdout",
     "output_type": "stream",
     "text": [
      "❌ Erreur lors de la récupération de la page : cannot access local variable 'link' where it is not associated with a value\n",
      "❌ Erreur lors de la récupération de la page : cannot access local variable 'link' where it is not associated with a value\n",
      "❌ Erreur lors de la récupération de la page : cannot access local variable 'link' where it is not associated with a value\n",
      "❌ Erreur lors de la récupération de la page : cannot access local variable 'link' where it is not associated with a value\n",
      "❌ Erreur lors de la récupération de la page : cannot access local variable 'link' where it is not associated with a value\n"
     ]
    },
    {
     "name": "stderr",
     "output_type": "stream",
     "text": [
      " 14%|█▎        | 1362/10001 [21:42<06:34, 21.88it/s]"
     ]
    },
    {
     "name": "stdout",
     "output_type": "stream",
     "text": [
      "❌ Erreur lors de la récupération de la page : cannot access local variable 'link' where it is not associated with a value\n",
      "❌ Erreur lors de la récupération de la page : cannot access local variable 'link' where it is not associated with a value\n",
      "❌ Erreur lors de la récupération de la page : cannot access local variable 'link' where it is not associated with a value\n",
      "❌ Erreur lors de la récupération de la page : cannot access local variable 'link' where it is not associated with a value\n",
      "❌ Erreur lors de la récupération de la page : cannot access local variable 'link' where it is not associated with a value\n"
     ]
    },
    {
     "name": "stderr",
     "output_type": "stream",
     "text": [
      " 14%|█▎        | 1368/10001 [21:42<06:21, 22.63it/s]"
     ]
    },
    {
     "name": "stdout",
     "output_type": "stream",
     "text": [
      "❌ Erreur lors de la récupération de la page : cannot access local variable 'link' where it is not associated with a value\n",
      "❌ Erreur lors de la récupération de la page : cannot access local variable 'link' where it is not associated with a value\n",
      "❌ Erreur lors de la récupération de la page : cannot access local variable 'link' where it is not associated with a value\n",
      "❌ Erreur lors de la récupération de la page : cannot access local variable 'link' where it is not associated with a value\n",
      "❌ Erreur lors de la récupération de la page : cannot access local variable 'link' where it is not associated with a value\n"
     ]
    },
    {
     "name": "stderr",
     "output_type": "stream",
     "text": [
      " 14%|█▎        | 1371/10001 [21:43<06:17, 22.84it/s]"
     ]
    },
    {
     "name": "stdout",
     "output_type": "stream",
     "text": [
      "❌ Erreur lors de la récupération de la page : cannot access local variable 'link' where it is not associated with a value\n",
      "❌ Erreur lors de la récupération de la page : cannot access local variable 'link' where it is not associated with a value\n",
      "❌ Erreur lors de la récupération de la page : cannot access local variable 'link' where it is not associated with a value\n",
      "❌ Erreur lors de la récupération de la page : cannot access local variable 'link' where it is not associated with a value\n",
      "❌ Erreur lors de la récupération de la page : cannot access local variable 'link' where it is not associated with a value\n",
      "❌ Erreur lors de la récupération de la page : cannot access local variable 'link' where it is not associated with a value\n"
     ]
    },
    {
     "name": "stderr",
     "output_type": "stream",
     "text": [
      " 14%|█▍        | 1377/10001 [21:43<06:17, 22.86it/s]"
     ]
    },
    {
     "name": "stdout",
     "output_type": "stream",
     "text": [
      "❌ Erreur lors de la récupération de la page : cannot access local variable 'link' where it is not associated with a value\n",
      "❌ Erreur lors de la récupération de la page : cannot access local variable 'link' where it is not associated with a value\n",
      "❌ Erreur lors de la récupération de la page : cannot access local variable 'link' where it is not associated with a value\n",
      "❌ Erreur lors de la récupération de la page : cannot access local variable 'link' where it is not associated with a value\n",
      "❌ Erreur lors de la récupération de la page : cannot access local variable 'link' where it is not associated with a value\n"
     ]
    },
    {
     "name": "stderr",
     "output_type": "stream",
     "text": [
      " 14%|█▍        | 1383/10001 [21:43<06:34, 21.85it/s]"
     ]
    },
    {
     "name": "stdout",
     "output_type": "stream",
     "text": [
      "❌ Erreur lors de la récupération de la page : cannot access local variable 'link' where it is not associated with a value\n",
      "❌ Erreur lors de la récupération de la page : cannot access local variable 'link' where it is not associated with a value\n",
      "❌ Erreur lors de la récupération de la page : cannot access local variable 'link' where it is not associated with a value\n",
      "❌ Erreur lors de la récupération de la page : cannot access local variable 'link' where it is not associated with a value\n",
      "❌ Erreur lors de la récupération de la page : cannot access local variable 'link' where it is not associated with a value\n"
     ]
    },
    {
     "name": "stderr",
     "output_type": "stream",
     "text": [
      " 14%|█▍        | 1386/10001 [21:43<06:23, 22.44it/s]"
     ]
    },
    {
     "name": "stdout",
     "output_type": "stream",
     "text": [
      "❌ Erreur lors de la récupération de la page : cannot access local variable 'link' where it is not associated with a value\n",
      "❌ Erreur lors de la récupération de la page : cannot access local variable 'link' where it is not associated with a value\n",
      "❌ Erreur lors de la récupération de la page : cannot access local variable 'link' where it is not associated with a value\n",
      "❌ Erreur lors de la récupération de la page : cannot access local variable 'link' where it is not associated with a value\n",
      "❌ Erreur lors de la récupération de la page : cannot access local variable 'link' where it is not associated with a value\n"
     ]
    },
    {
     "name": "stderr",
     "output_type": "stream",
     "text": [
      " 14%|█▍        | 1392/10001 [21:44<06:21, 22.58it/s]"
     ]
    },
    {
     "name": "stdout",
     "output_type": "stream",
     "text": [
      "❌ Erreur lors de la récupération de la page : cannot access local variable 'link' where it is not associated with a value\n",
      "❌ Erreur lors de la récupération de la page : cannot access local variable 'link' where it is not associated with a value\n",
      "❌ Erreur lors de la récupération de la page : cannot access local variable 'link' where it is not associated with a value\n",
      "❌ Erreur lors de la récupération de la page : cannot access local variable 'link' where it is not associated with a value\n",
      "❌ Erreur lors de la récupération de la page : cannot access local variable 'link' where it is not associated with a value\n"
     ]
    },
    {
     "name": "stderr",
     "output_type": "stream",
     "text": [
      " 14%|█▍        | 1398/10001 [21:44<06:28, 22.14it/s]"
     ]
    },
    {
     "name": "stdout",
     "output_type": "stream",
     "text": [
      "❌ Erreur lors de la récupération de la page : cannot access local variable 'link' where it is not associated with a value\n",
      "❌ Erreur lors de la récupération de la page : cannot access local variable 'link' where it is not associated with a value\n",
      "❌ Erreur lors de la récupération de la page : cannot access local variable 'link' where it is not associated with a value\n",
      "❌ Erreur lors de la récupération de la page : cannot access local variable 'link' where it is not associated with a value\n",
      "❌ Erreur lors de la récupération de la page : cannot access local variable 'link' where it is not associated with a value\n"
     ]
    },
    {
     "name": "stderr",
     "output_type": "stream",
     "text": [
      " 14%|█▍        | 1401/10001 [21:44<06:19, 22.68it/s]"
     ]
    },
    {
     "name": "stdout",
     "output_type": "stream",
     "text": [
      "❌ Erreur lors de la récupération de la page : cannot access local variable 'link' where it is not associated with a value\n",
      "❌ Erreur lors de la récupération de la page : cannot access local variable 'link' where it is not associated with a value\n",
      "❌ Erreur lors de la récupération de la page : cannot access local variable 'link' where it is not associated with a value\n",
      "❌ Erreur lors de la récupération de la page : cannot access local variable 'link' where it is not associated with a value\n",
      "❌ Erreur lors de la récupération de la page : cannot access local variable 'link' where it is not associated with a value\n"
     ]
    },
    {
     "name": "stderr",
     "output_type": "stream",
     "text": [
      " 14%|█▍        | 1407/10001 [21:44<06:29, 22.07it/s]"
     ]
    },
    {
     "name": "stdout",
     "output_type": "stream",
     "text": [
      "❌ Erreur lors de la récupération de la page : cannot access local variable 'link' where it is not associated with a value\n",
      "❌ Erreur lors de la récupération de la page : cannot access local variable 'link' where it is not associated with a value\n",
      "❌ Erreur lors de la récupération de la page : cannot access local variable 'link' where it is not associated with a value\n",
      "❌ Erreur lors de la récupération de la page : cannot access local variable 'link' where it is not associated with a value\n",
      "❌ Erreur lors de la récupération de la page : cannot access local variable 'link' where it is not associated with a value\n"
     ]
    },
    {
     "name": "stderr",
     "output_type": "stream",
     "text": [
      " 14%|█▍        | 1413/10001 [21:44<06:25, 22.29it/s]"
     ]
    },
    {
     "name": "stdout",
     "output_type": "stream",
     "text": [
      "❌ Erreur lors de la récupération de la page : cannot access local variable 'link' where it is not associated with a value\n",
      "❌ Erreur lors de la récupération de la page : cannot access local variable 'link' where it is not associated with a value\n",
      "❌ Erreur lors de la récupération de la page : cannot access local variable 'link' where it is not associated with a value\n",
      "❌ Erreur lors de la récupération de la page : cannot access local variable 'link' where it is not associated with a value\n",
      "❌ Erreur lors de la récupération de la page : cannot access local variable 'link' where it is not associated with a value\n"
     ]
    },
    {
     "name": "stderr",
     "output_type": "stream",
     "text": [
      " 14%|█▍        | 1416/10001 [21:45<06:32, 21.88it/s]"
     ]
    },
    {
     "name": "stdout",
     "output_type": "stream",
     "text": [
      "❌ Erreur lors de la récupération de la page : cannot access local variable 'link' where it is not associated with a value\n",
      "❌ Erreur lors de la récupération de la page : cannot access local variable 'link' where it is not associated with a value\n",
      "❌ Erreur lors de la récupération de la page : cannot access local variable 'link' where it is not associated with a value\n",
      "❌ Erreur lors de la récupération de la page : cannot access local variable 'link' where it is not associated with a value\n",
      "❌ Erreur lors de la récupération de la page : cannot access local variable 'link' where it is not associated with a value\n"
     ]
    },
    {
     "name": "stderr",
     "output_type": "stream",
     "text": [
      " 14%|█▍        | 1422/10001 [21:45<06:23, 22.38it/s]"
     ]
    },
    {
     "name": "stdout",
     "output_type": "stream",
     "text": [
      "❌ Erreur lors de la récupération de la page : cannot access local variable 'link' where it is not associated with a value\n",
      "❌ Erreur lors de la récupération de la page : cannot access local variable 'link' where it is not associated with a value\n",
      "❌ Erreur lors de la récupération de la page : cannot access local variable 'link' where it is not associated with a value\n",
      "❌ Erreur lors de la récupération de la page : cannot access local variable 'link' where it is not associated with a value\n",
      "❌ Erreur lors de la récupération de la page : cannot access local variable 'link' where it is not associated with a value\n"
     ]
    },
    {
     "name": "stderr",
     "output_type": "stream",
     "text": [
      " 14%|█▍        | 1428/10001 [21:45<06:40, 21.40it/s]"
     ]
    },
    {
     "name": "stdout",
     "output_type": "stream",
     "text": [
      "❌ Erreur lors de la récupération de la page : cannot access local variable 'link' where it is not associated with a value\n",
      "❌ Erreur lors de la récupération de la page : cannot access local variable 'link' where it is not associated with a value\n",
      "❌ Erreur lors de la récupération de la page : cannot access local variable 'link' where it is not associated with a value\n",
      "❌ Erreur lors de la récupération de la page : cannot access local variable 'link' where it is not associated with a value\n",
      "❌ Erreur lors de la récupération de la page : cannot access local variable 'link' where it is not associated with a value\n"
     ]
    },
    {
     "name": "stderr",
     "output_type": "stream",
     "text": [
      " 14%|█▍        | 1431/10001 [21:45<06:34, 21.73it/s]"
     ]
    },
    {
     "name": "stdout",
     "output_type": "stream",
     "text": [
      "❌ Erreur lors de la récupération de la page : cannot access local variable 'link' where it is not associated with a value\n",
      "❌ Erreur lors de la récupération de la page : cannot access local variable 'link' where it is not associated with a value\n",
      "❌ Erreur lors de la récupération de la page : cannot access local variable 'link' where it is not associated with a value\n",
      "❌ Erreur lors de la récupération de la page : cannot access local variable 'link' where it is not associated with a value\n",
      "❌ Erreur lors de la récupération de la page : cannot access local variable 'link' where it is not associated with a value\n"
     ]
    },
    {
     "name": "stderr",
     "output_type": "stream",
     "text": [
      " 14%|█▍        | 1437/10001 [21:46<06:27, 22.11it/s]"
     ]
    },
    {
     "name": "stdout",
     "output_type": "stream",
     "text": [
      "❌ Erreur lors de la récupération de la page : cannot access local variable 'link' where it is not associated with a value\n",
      "❌ Erreur lors de la récupération de la page : cannot access local variable 'link' where it is not associated with a value\n",
      "❌ Erreur lors de la récupération de la page : cannot access local variable 'link' where it is not associated with a value\n",
      "❌ Erreur lors de la récupération de la page : cannot access local variable 'link' where it is not associated with a value\n"
     ]
    },
    {
     "name": "stderr",
     "output_type": "stream",
     "text": [
      " 14%|█▍        | 1440/10001 [21:46<06:27, 22.09it/s]"
     ]
    },
    {
     "name": "stdout",
     "output_type": "stream",
     "text": [
      "❌ Erreur lors de la récupération de la page : cannot access local variable 'link' where it is not associated with a value\n",
      "❌ Erreur lors de la récupération de la page : cannot access local variable 'link' where it is not associated with a value\n",
      "❌ Erreur lors de la récupération de la page : cannot access local variable 'link' where it is not associated with a value\n",
      "❌ Erreur lors de la récupération de la page : cannot access local variable 'link' where it is not associated with a value\n",
      "❌ Erreur lors de la récupération de la page : cannot access local variable 'link' where it is not associated with a value\n"
     ]
    },
    {
     "name": "stderr",
     "output_type": "stream",
     "text": [
      " 14%|█▍        | 1446/10001 [21:46<07:08, 19.98it/s]"
     ]
    },
    {
     "name": "stdout",
     "output_type": "stream",
     "text": [
      "❌ Erreur lors de la récupération de la page : cannot access local variable 'link' where it is not associated with a value\n",
      "❌ Erreur lors de la récupération de la page : cannot access local variable 'link' where it is not associated with a value\n",
      "❌ Erreur lors de la récupération de la page : cannot access local variable 'link' where it is not associated with a value\n",
      "❌ Erreur lors de la récupération de la page : cannot access local variable 'link' where it is not associated with a value\n"
     ]
    },
    {
     "name": "stderr",
     "output_type": "stream",
     "text": [
      " 14%|█▍        | 1449/10001 [21:46<07:00, 20.35it/s]"
     ]
    },
    {
     "name": "stdout",
     "output_type": "stream",
     "text": [
      "❌ Erreur lors de la récupération de la page : cannot access local variable 'link' where it is not associated with a value\n",
      "❌ Erreur lors de la récupération de la page : cannot access local variable 'link' where it is not associated with a value\n",
      "❌ Erreur lors de la récupération de la page : cannot access local variable 'link' where it is not associated with a value\n",
      "❌ Erreur lors de la récupération de la page : cannot access local variable 'link' where it is not associated with a value\n",
      "❌ Erreur lors de la récupération de la page : cannot access local variable 'link' where it is not associated with a value\n"
     ]
    },
    {
     "name": "stderr",
     "output_type": "stream",
     "text": [
      " 15%|█▍        | 1455/10001 [21:46<06:41, 21.28it/s]"
     ]
    },
    {
     "name": "stdout",
     "output_type": "stream",
     "text": [
      "❌ Erreur lors de la récupération de la page : cannot access local variable 'link' where it is not associated with a value\n",
      "❌ Erreur lors de la récupération de la page : cannot access local variable 'link' where it is not associated with a value\n",
      "❌ Erreur lors de la récupération de la page : cannot access local variable 'link' where it is not associated with a value\n",
      "❌ Erreur lors de la récupération de la page : cannot access local variable 'link' where it is not associated with a value\n",
      "❌ Erreur lors de la récupération de la page : cannot access local variable 'link' where it is not associated with a value\n"
     ]
    },
    {
     "name": "stderr",
     "output_type": "stream",
     "text": [
      " 15%|█▍        | 1461/10001 [21:47<06:33, 21.73it/s]"
     ]
    },
    {
     "name": "stdout",
     "output_type": "stream",
     "text": [
      "❌ Erreur lors de la récupération de la page : cannot access local variable 'link' where it is not associated with a value\n",
      "❌ Erreur lors de la récupération de la page : cannot access local variable 'link' where it is not associated with a value\n",
      "❌ Erreur lors de la récupération de la page : cannot access local variable 'link' where it is not associated with a value\n",
      "❌ Erreur lors de la récupération de la page : cannot access local variable 'link' where it is not associated with a value\n",
      "❌ Erreur lors de la récupération de la page : cannot access local variable 'link' where it is not associated with a value\n"
     ]
    },
    {
     "name": "stderr",
     "output_type": "stream",
     "text": [
      " 15%|█▍        | 1464/10001 [21:47<06:27, 22.03it/s]"
     ]
    },
    {
     "name": "stdout",
     "output_type": "stream",
     "text": [
      "❌ Erreur lors de la récupération de la page : cannot access local variable 'link' where it is not associated with a value\n",
      "❌ Erreur lors de la récupération de la page : cannot access local variable 'link' where it is not associated with a value\n",
      "❌ Erreur lors de la récupération de la page : cannot access local variable 'link' where it is not associated with a value\n",
      "❌ Erreur lors de la récupération de la page : cannot access local variable 'link' where it is not associated with a value\n",
      "❌ Erreur lors de la récupération de la page : cannot access local variable 'link' where it is not associated with a value\n"
     ]
    },
    {
     "name": "stderr",
     "output_type": "stream",
     "text": [
      " 15%|█▍        | 1470/10001 [21:47<06:44, 21.06it/s]"
     ]
    },
    {
     "name": "stdout",
     "output_type": "stream",
     "text": [
      "❌ Erreur lors de la récupération de la page : cannot access local variable 'link' where it is not associated with a value\n",
      "❌ Erreur lors de la récupération de la page : cannot access local variable 'link' where it is not associated with a value\n",
      "❌ Erreur lors de la récupération de la page : cannot access local variable 'link' where it is not associated with a value\n",
      "❌ Erreur lors de la récupération de la page : cannot access local variable 'link' where it is not associated with a value\n",
      "❌ Erreur lors de la récupération de la page : cannot access local variable 'link' where it is not associated with a value\n"
     ]
    },
    {
     "name": "stderr",
     "output_type": "stream",
     "text": [
      " 15%|█▍        | 1476/10001 [21:47<06:49, 20.84it/s]"
     ]
    },
    {
     "name": "stdout",
     "output_type": "stream",
     "text": [
      "❌ Erreur lors de la récupération de la page : cannot access local variable 'link' where it is not associated with a value\n",
      "❌ Erreur lors de la récupération de la page : cannot access local variable 'link' where it is not associated with a value\n",
      "❌ Erreur lors de la récupération de la page : cannot access local variable 'link' where it is not associated with a value\n",
      "❌ Erreur lors de la récupération de la page : cannot access local variable 'link' where it is not associated with a value\n",
      "❌ Erreur lors de la récupération de la page : cannot access local variable 'link' where it is not associated with a value\n"
     ]
    },
    {
     "name": "stderr",
     "output_type": "stream",
     "text": [
      " 15%|█▍        | 1479/10001 [21:48<06:32, 21.74it/s]"
     ]
    },
    {
     "name": "stdout",
     "output_type": "stream",
     "text": [
      "❌ Erreur lors de la récupération de la page : cannot access local variable 'link' where it is not associated with a value\n",
      "❌ Erreur lors de la récupération de la page : cannot access local variable 'link' where it is not associated with a value\n",
      "❌ Erreur lors de la récupération de la page : cannot access local variable 'link' where it is not associated with a value\n",
      "❌ Erreur lors de la récupération de la page : cannot access local variable 'link' where it is not associated with a value\n",
      "❌ Erreur lors de la récupération de la page : cannot access local variable 'link' where it is not associated with a value\n"
     ]
    },
    {
     "name": "stderr",
     "output_type": "stream",
     "text": [
      " 15%|█▍        | 1485/10001 [21:48<06:25, 22.08it/s]"
     ]
    },
    {
     "name": "stdout",
     "output_type": "stream",
     "text": [
      "❌ Erreur lors de la récupération de la page : cannot access local variable 'link' where it is not associated with a value\n",
      "❌ Erreur lors de la récupération de la page : cannot access local variable 'link' where it is not associated with a value\n",
      "❌ Erreur lors de la récupération de la page : cannot access local variable 'link' where it is not associated with a value\n",
      "❌ Erreur lors de la récupération de la page : cannot access local variable 'link' where it is not associated with a value\n",
      "❌ Erreur lors de la récupération de la page : cannot access local variable 'link' where it is not associated with a value\n"
     ]
    },
    {
     "name": "stderr",
     "output_type": "stream",
     "text": [
      " 15%|█▍        | 1491/10001 [21:48<06:25, 22.06it/s]"
     ]
    },
    {
     "name": "stdout",
     "output_type": "stream",
     "text": [
      "❌ Erreur lors de la récupération de la page : cannot access local variable 'link' where it is not associated with a value\n",
      "❌ Erreur lors de la récupération de la page : cannot access local variable 'link' where it is not associated with a value\n",
      "❌ Erreur lors de la récupération de la page : cannot access local variable 'link' where it is not associated with a value\n",
      "❌ Erreur lors de la récupération de la page : cannot access local variable 'link' where it is not associated with a value\n",
      "❌ Erreur lors de la récupération de la page : cannot access local variable 'link' where it is not associated with a value\n"
     ]
    },
    {
     "name": "stderr",
     "output_type": "stream",
     "text": [
      " 15%|█▍        | 1494/10001 [21:48<06:37, 21.42it/s]"
     ]
    },
    {
     "name": "stdout",
     "output_type": "stream",
     "text": [
      "❌ Erreur lors de la récupération de la page : cannot access local variable 'link' where it is not associated with a value\n",
      "❌ Erreur lors de la récupération de la page : cannot access local variable 'link' where it is not associated with a value\n",
      "❌ Erreur lors de la récupération de la page : cannot access local variable 'link' where it is not associated with a value\n",
      "❌ Erreur lors de la récupération de la page : cannot access local variable 'link' where it is not associated with a value\n",
      "❌ Erreur lors de la récupération de la page : cannot access local variable 'link' where it is not associated with a value\n"
     ]
    },
    {
     "name": "stderr",
     "output_type": "stream",
     "text": [
      " 15%|█▍        | 1500/10001 [21:49<06:41, 21.15it/s]"
     ]
    },
    {
     "name": "stdout",
     "output_type": "stream",
     "text": [
      "❌ Erreur lors de la récupération de la page : cannot access local variable 'link' where it is not associated with a value\n",
      "❌ Erreur lors de la récupération de la page : cannot access local variable 'link' where it is not associated with a value\n",
      "❌ Erreur lors de la récupération de la page : cannot access local variable 'link' where it is not associated with a value\n",
      "❌ Erreur lors de la récupération de la page : cannot access local variable 'link' where it is not associated with a value\n",
      "❌ Erreur lors de la récupération de la page : cannot access local variable 'link' where it is not associated with a value\n"
     ]
    },
    {
     "name": "stderr",
     "output_type": "stream",
     "text": [
      " 15%|█▌        | 1506/10001 [21:49<06:43, 21.03it/s]"
     ]
    },
    {
     "name": "stdout",
     "output_type": "stream",
     "text": [
      "❌ Erreur lors de la récupération de la page : cannot access local variable 'link' where it is not associated with a value\n",
      "❌ Erreur lors de la récupération de la page : cannot access local variable 'link' where it is not associated with a value\n",
      "❌ Erreur lors de la récupération de la page : cannot access local variable 'link' where it is not associated with a value\n",
      "❌ Erreur lors de la récupération de la page : cannot access local variable 'link' where it is not associated with a value\n",
      "❌ Erreur lors de la récupération de la page : cannot access local variable 'link' where it is not associated with a value\n",
      "❌ Erreur lors de la récupération de la page : cannot access local variable 'link' where it is not associated with a value\n"
     ]
    },
    {
     "name": "stderr",
     "output_type": "stream",
     "text": [
      " 15%|█▌        | 1509/10001 [22:19<7:11:24,  3.05s/it]"
     ]
    },
    {
     "name": "stdout",
     "output_type": "stream",
     "text": [
      "❌ Erreur lors de la récupération de la page : cannot access local variable 'link' where it is not associated with a value\n"
     ]
    },
    {
     "name": "stderr",
     "output_type": "stream",
     "text": [
      " 15%|█▌        | 1510/10001 [22:34<10:43:50,  4.55s/it]"
     ]
    },
    {
     "name": "stdout",
     "output_type": "stream",
     "text": [
      "❌ Erreur lors de la récupération de la page : cannot access local variable 'link' where it is not associated with a value\n"
     ]
    },
    {
     "name": "stderr",
     "output_type": "stream",
     "text": [
      " 15%|█▌        | 1513/10001 [22:49<10:08:47,  4.30s/it]"
     ]
    },
    {
     "name": "stdout",
     "output_type": "stream",
     "text": [
      "❌ Erreur lors de la récupération de la page : cannot access local variable 'link' where it is not associated with a value\n",
      "❌ Erreur lors de la récupération de la page : cannot access local variable 'link' where it is not associated with a value\n",
      "❌ Erreur lors de la récupération de la page : cannot access local variable 'link' where it is not associated with a value\n",
      "❌ Erreur lors de la récupération de la page : cannot access local variable 'link' where it is not associated with a value\n"
     ]
    },
    {
     "name": "stderr",
     "output_type": "stream",
     "text": [
      " 15%|█▌        | 1518/10001 [22:49<4:22:27,  1.86s/it] "
     ]
    },
    {
     "name": "stdout",
     "output_type": "stream",
     "text": [
      "❌ Erreur lors de la récupération de la page : cannot access local variable 'link' where it is not associated with a value\n",
      "❌ Erreur lors de la récupération de la page : cannot access local variable 'link' where it is not associated with a value\n",
      "❌ Erreur lors de la récupération de la page : cannot access local variable 'link' where it is not associated with a value\n",
      "❌ Erreur lors de la récupération de la page : cannot access local variable 'link' where it is not associated with a value\n",
      "❌ Erreur lors de la récupération de la page : cannot access local variable 'link' where it is not associated with a value\n"
     ]
    },
    {
     "name": "stderr",
     "output_type": "stream",
     "text": [
      " 15%|█▌        | 1521/10001 [22:50<2:50:29,  1.21s/it]"
     ]
    },
    {
     "name": "stdout",
     "output_type": "stream",
     "text": [
      "❌ Erreur lors de la récupération de la page : cannot access local variable 'link' where it is not associated with a value\n",
      "❌ Erreur lors de la récupération de la page : cannot access local variable 'link' where it is not associated with a value\n",
      "❌ Erreur lors de la récupération de la page : cannot access local variable 'link' where it is not associated with a value\n"
     ]
    },
    {
     "name": "stderr",
     "output_type": "stream",
     "text": [
      " 15%|█▌        | 1523/10001 [23:20<11:09:00,  4.73s/it]"
     ]
    },
    {
     "name": "stdout",
     "output_type": "stream",
     "text": [
      "❌ Erreur lors de la récupération de la page : cannot access local variable 'link' where it is not associated with a value\n"
     ]
    },
    {
     "name": "stderr",
     "output_type": "stream",
     "text": [
      " 15%|█▌        | 1527/10001 [23:35<9:00:57,  3.83s/it] "
     ]
    },
    {
     "name": "stdout",
     "output_type": "stream",
     "text": [
      "❌ Erreur lors de la récupération de la page : cannot access local variable 'link' where it is not associated with a value\n",
      "❌ Erreur lors de la récupération de la page : cannot access local variable 'link' where it is not associated with a value\n",
      "❌ Erreur lors de la récupération de la page : cannot access local variable 'link' where it is not associated with a value\n",
      "❌ Erreur lors de la récupération de la page : cannot access local variable 'link' where it is not associated with a value\n",
      "❌ Erreur lors de la récupération de la page : cannot access local variable 'link' where it is not associated with a value\n"
     ]
    },
    {
     "name": "stderr",
     "output_type": "stream",
     "text": [
      " 15%|█▌        | 1533/10001 [23:35<3:50:47,  1.64s/it]"
     ]
    },
    {
     "name": "stdout",
     "output_type": "stream",
     "text": [
      "❌ Erreur lors de la récupération de la page : cannot access local variable 'link' where it is not associated with a value\n",
      "❌ Erreur lors de la récupération de la page : cannot access local variable 'link' where it is not associated with a value\n",
      "❌ Erreur lors de la récupération de la page : cannot access local variable 'link' where it is not associated with a value\n",
      "❌ Erreur lors de la récupération de la page : cannot access local variable 'link' where it is not associated with a value\n",
      "❌ Erreur lors de la récupération de la page : cannot access local variable 'link' where it is not associated with a value\n"
     ]
    },
    {
     "name": "stderr",
     "output_type": "stream",
     "text": [
      " 15%|█▌        | 1536/10001 [23:35<2:37:11,  1.11s/it]"
     ]
    },
    {
     "name": "stdout",
     "output_type": "stream",
     "text": [
      "❌ Erreur lors de la récupération de la page : cannot access local variable 'link' where it is not associated with a value\n",
      "❌ Erreur lors de la récupération de la page : cannot access local variable 'link' where it is not associated with a value\n",
      "❌ Erreur lors de la récupération de la page : cannot access local variable 'link' where it is not associated with a value\n",
      "❌ Erreur lors de la récupération de la page : cannot access local variable 'link' where it is not associated with a value\n",
      "❌ Erreur lors de la récupération de la page : cannot access local variable 'link' where it is not associated with a value\n"
     ]
    },
    {
     "name": "stderr",
     "output_type": "stream",
     "text": [
      " 15%|█▌        | 1542/10001 [23:36<1:17:00,  1.83it/s]"
     ]
    },
    {
     "name": "stdout",
     "output_type": "stream",
     "text": [
      "❌ Erreur lors de la récupération de la page : cannot access local variable 'link' where it is not associated with a value\n",
      "❌ Erreur lors de la récupération de la page : cannot access local variable 'link' where it is not associated with a value\n",
      "❌ Erreur lors de la récupération de la page : cannot access local variable 'link' where it is not associated with a value\n",
      "❌ Erreur lors de la récupération de la page : cannot access local variable 'link' where it is not associated with a value\n",
      "❌ Erreur lors de la récupération de la page : cannot access local variable 'link' where it is not associated with a value\n"
     ]
    },
    {
     "name": "stderr",
     "output_type": "stream",
     "text": [
      " 15%|█▌        | 1545/10001 [23:36<55:20,  2.55it/s]  "
     ]
    },
    {
     "name": "stdout",
     "output_type": "stream",
     "text": [
      "❌ Erreur lors de la récupération de la page : cannot access local variable 'link' where it is not associated with a value\n",
      "❌ Erreur lors de la récupération de la page : cannot access local variable 'link' where it is not associated with a value\n",
      "❌ Erreur lors de la récupération de la page : cannot access local variable 'link' where it is not associated with a value\n",
      "❌ Erreur lors de la récupération de la page : cannot access local variable 'link' where it is not associated with a value\n",
      "❌ Erreur lors de la récupération de la page : cannot access local variable 'link' where it is not associated with a value\n"
     ]
    },
    {
     "name": "stderr",
     "output_type": "stream",
     "text": [
      " 16%|█▌        | 1551/10001 [23:36<30:00,  4.69it/s]"
     ]
    },
    {
     "name": "stdout",
     "output_type": "stream",
     "text": [
      "❌ Erreur lors de la récupération de la page : cannot access local variable 'link' where it is not associated with a value\n",
      "❌ Erreur lors de la récupération de la page : cannot access local variable 'link' where it is not associated with a value\n",
      "❌ Erreur lors de la récupération de la page : cannot access local variable 'link' where it is not associated with a value\n",
      "❌ Erreur lors de la récupération de la page : cannot access local variable 'link' where it is not associated with a value\n"
     ]
    },
    {
     "name": "stderr",
     "output_type": "stream",
     "text": [
      " 16%|█▌        | 1554/10001 [23:36<23:33,  5.98it/s]"
     ]
    },
    {
     "name": "stdout",
     "output_type": "stream",
     "text": [
      "❌ Erreur lors de la récupération de la page : cannot access local variable 'link' where it is not associated with a value\n",
      "❌ Erreur lors de la récupération de la page : cannot access local variable 'link' where it is not associated with a value\n",
      "❌ Erreur lors de la récupération de la page : cannot access local variable 'link' where it is not associated with a value\n",
      "❌ Erreur lors de la récupération de la page : cannot access local variable 'link' where it is not associated with a value\n",
      "❌ Erreur lors de la récupération de la page : cannot access local variable 'link' where it is not associated with a value\n"
     ]
    },
    {
     "name": "stderr",
     "output_type": "stream",
     "text": [
      " 16%|█▌        | 1560/10001 [23:36<14:46,  9.52it/s]"
     ]
    },
    {
     "name": "stdout",
     "output_type": "stream",
     "text": [
      "❌ Erreur lors de la récupération de la page : cannot access local variable 'link' where it is not associated with a value\n",
      "❌ Erreur lors de la récupération de la page : cannot access local variable 'link' where it is not associated with a value\n",
      "❌ Erreur lors de la récupération de la page : cannot access local variable 'link' where it is not associated with a value\n",
      "❌ Erreur lors de la récupération de la page : cannot access local variable 'link' where it is not associated with a value\n"
     ]
    },
    {
     "name": "stderr",
     "output_type": "stream",
     "text": [
      " 16%|█▌        | 1563/10001 [23:37<12:16, 11.46it/s]"
     ]
    },
    {
     "name": "stdout",
     "output_type": "stream",
     "text": [
      "❌ Erreur lors de la récupération de la page : cannot access local variable 'link' where it is not associated with a value\n",
      "❌ Erreur lors de la récupération de la page : cannot access local variable 'link' where it is not associated with a value\n",
      "❌ Erreur lors de la récupération de la page : cannot access local variable 'link' where it is not associated with a value\n",
      "❌ Erreur lors de la récupération de la page : cannot access local variable 'link' where it is not associated with a value\n",
      "❌ Erreur lors de la récupération de la page : cannot access local variable 'link' where it is not associated with a value\n"
     ]
    },
    {
     "name": "stderr",
     "output_type": "stream",
     "text": [
      " 16%|█▌        | 1569/10001 [23:37<09:57, 14.11it/s]"
     ]
    },
    {
     "name": "stdout",
     "output_type": "stream",
     "text": [
      "❌ Erreur lors de la récupération de la page : cannot access local variable 'link' where it is not associated with a value\n",
      "❌ Erreur lors de la récupération de la page : cannot access local variable 'link' where it is not associated with a value\n",
      "❌ Erreur lors de la récupération de la page : cannot access local variable 'link' where it is not associated with a value\n",
      "❌ Erreur lors de la récupération de la page : cannot access local variable 'link' where it is not associated with a value\n"
     ]
    },
    {
     "name": "stderr",
     "output_type": "stream",
     "text": [
      " 16%|█▌        | 1572/10001 [23:37<08:55, 15.74it/s]"
     ]
    },
    {
     "name": "stdout",
     "output_type": "stream",
     "text": [
      "❌ Erreur lors de la récupération de la page : cannot access local variable 'link' where it is not associated with a value\n",
      "❌ Erreur lors de la récupération de la page : cannot access local variable 'link' where it is not associated with a value\n",
      "❌ Erreur lors de la récupération de la page : cannot access local variable 'link' where it is not associated with a value\n",
      "❌ Erreur lors de la récupération de la page : cannot access local variable 'link' where it is not associated with a value\n",
      "❌ Erreur lors de la récupération de la page : cannot access local variable 'link' where it is not associated with a value\n"
     ]
    },
    {
     "name": "stderr",
     "output_type": "stream",
     "text": [
      " 16%|█▌        | 1578/10001 [23:37<07:31, 18.65it/s]"
     ]
    },
    {
     "name": "stdout",
     "output_type": "stream",
     "text": [
      "❌ Erreur lors de la récupération de la page : cannot access local variable 'link' where it is not associated with a value\n",
      "❌ Erreur lors de la récupération de la page : cannot access local variable 'link' where it is not associated with a value\n",
      "❌ Erreur lors de la récupération de la page : cannot access local variable 'link' where it is not associated with a value\n",
      "❌ Erreur lors de la récupération de la page : cannot access local variable 'link' where it is not associated with a value\n",
      "❌ Erreur lors de la récupération de la page : cannot access local variable 'link' where it is not associated with a value\n"
     ]
    },
    {
     "name": "stderr",
     "output_type": "stream",
     "text": [
      " 16%|█▌        | 1584/10001 [23:38<06:53, 20.37it/s]"
     ]
    },
    {
     "name": "stdout",
     "output_type": "stream",
     "text": [
      "❌ Erreur lors de la récupération de la page : cannot access local variable 'link' where it is not associated with a value\n",
      "❌ Erreur lors de la récupération de la page : cannot access local variable 'link' where it is not associated with a value\n",
      "❌ Erreur lors de la récupération de la page : cannot access local variable 'link' where it is not associated with a value\n",
      "❌ Erreur lors de la récupération de la page : cannot access local variable 'link' where it is not associated with a value\n",
      "❌ Erreur lors de la récupération de la page : cannot access local variable 'link' where it is not associated with a value\n"
     ]
    },
    {
     "name": "stderr",
     "output_type": "stream",
     "text": [
      " 16%|█▌        | 1587/10001 [23:38<06:44, 20.80it/s]"
     ]
    },
    {
     "name": "stdout",
     "output_type": "stream",
     "text": [
      "❌ Erreur lors de la récupération de la page : cannot access local variable 'link' where it is not associated with a value\n",
      "❌ Erreur lors de la récupération de la page : cannot access local variable 'link' where it is not associated with a value\n",
      "❌ Erreur lors de la récupération de la page : cannot access local variable 'link' where it is not associated with a value\n",
      "❌ Erreur lors de la récupération de la page : cannot access local variable 'link' where it is not associated with a value\n",
      "❌ Erreur lors de la récupération de la page : cannot access local variable 'link' where it is not associated with a value\n"
     ]
    },
    {
     "name": "stderr",
     "output_type": "stream",
     "text": [
      " 16%|█▌        | 1593/10001 [23:38<06:30, 21.56it/s]"
     ]
    },
    {
     "name": "stdout",
     "output_type": "stream",
     "text": [
      "❌ Erreur lors de la récupération de la page : cannot access local variable 'link' where it is not associated with a value\n",
      "❌ Erreur lors de la récupération de la page : cannot access local variable 'link' where it is not associated with a value\n",
      "❌ Erreur lors de la récupération de la page : cannot access local variable 'link' where it is not associated with a value\n",
      "❌ Erreur lors de la récupération de la page : cannot access local variable 'link' where it is not associated with a value\n"
     ]
    },
    {
     "name": "stderr",
     "output_type": "stream",
     "text": [
      " 16%|█▌        | 1596/10001 [23:38<06:31, 21.46it/s]"
     ]
    },
    {
     "name": "stdout",
     "output_type": "stream",
     "text": [
      "❌ Erreur lors de la récupération de la page : cannot access local variable 'link' where it is not associated with a value\n",
      "❌ Erreur lors de la récupération de la page : cannot access local variable 'link' where it is not associated with a value\n",
      "❌ Erreur lors de la récupération de la page : cannot access local variable 'link' where it is not associated with a value\n",
      "❌ Erreur lors de la récupération de la page : cannot access local variable 'link' where it is not associated with a value\n",
      "❌ Erreur lors de la récupération de la page : cannot access local variable 'link' where it is not associated with a value\n"
     ]
    },
    {
     "name": "stderr",
     "output_type": "stream",
     "text": [
      " 16%|█▌        | 1602/10001 [23:38<06:30, 21.51it/s]"
     ]
    },
    {
     "name": "stdout",
     "output_type": "stream",
     "text": [
      "❌ Erreur lors de la récupération de la page : cannot access local variable 'link' where it is not associated with a value\n",
      "❌ Erreur lors de la récupération de la page : cannot access local variable 'link' where it is not associated with a value\n",
      "❌ Erreur lors de la récupération de la page : cannot access local variable 'link' where it is not associated with a value\n",
      "❌ Erreur lors de la récupération de la page : cannot access local variable 'link' where it is not associated with a value\n",
      "❌ Erreur lors de la récupération de la page : cannot access local variable 'link' where it is not associated with a value\n"
     ]
    },
    {
     "name": "stderr",
     "output_type": "stream",
     "text": [
      " 16%|█▌        | 1608/10001 [23:39<06:30, 21.52it/s]"
     ]
    },
    {
     "name": "stdout",
     "output_type": "stream",
     "text": [
      "❌ Erreur lors de la récupération de la page : cannot access local variable 'link' where it is not associated with a value\n",
      "❌ Erreur lors de la récupération de la page : cannot access local variable 'link' where it is not associated with a value\n",
      "❌ Erreur lors de la récupération de la page : cannot access local variable 'link' where it is not associated with a value\n",
      "❌ Erreur lors de la récupération de la page : cannot access local variable 'link' where it is not associated with a value\n"
     ]
    },
    {
     "name": "stderr",
     "output_type": "stream",
     "text": [
      " 16%|█▌        | 1611/10001 [23:39<06:42, 20.82it/s]"
     ]
    },
    {
     "name": "stdout",
     "output_type": "stream",
     "text": [
      "❌ Erreur lors de la récupération de la page : cannot access local variable 'link' where it is not associated with a value\n",
      "❌ Erreur lors de la récupération de la page : cannot access local variable 'link' where it is not associated with a value\n",
      "❌ Erreur lors de la récupération de la page : cannot access local variable 'link' where it is not associated with a value\n",
      "❌ Erreur lors de la récupération de la page : cannot access local variable 'link' where it is not associated with a value\n",
      "❌ Erreur lors de la récupération de la page : cannot access local variable 'link' where it is not associated with a value\n"
     ]
    },
    {
     "name": "stderr",
     "output_type": "stream",
     "text": [
      " 16%|█▌        | 1617/10001 [23:39<06:35, 21.18it/s]"
     ]
    },
    {
     "name": "stdout",
     "output_type": "stream",
     "text": [
      "❌ Erreur lors de la récupération de la page : cannot access local variable 'link' where it is not associated with a value\n",
      "❌ Erreur lors de la récupération de la page : cannot access local variable 'link' where it is not associated with a value\n",
      "❌ Erreur lors de la récupération de la page : cannot access local variable 'link' where it is not associated with a value\n",
      "❌ Erreur lors de la récupération de la page : cannot access local variable 'link' where it is not associated with a value\n",
      "❌ Erreur lors de la récupération de la page : cannot access local variable 'link' where it is not associated with a value\n"
     ]
    },
    {
     "name": "stderr",
     "output_type": "stream",
     "text": [
      " 16%|█▌        | 1620/10001 [23:39<06:56, 20.10it/s]"
     ]
    },
    {
     "name": "stdout",
     "output_type": "stream",
     "text": [
      "❌ Erreur lors de la récupération de la page : cannot access local variable 'link' where it is not associated with a value\n",
      "❌ Erreur lors de la récupération de la page : cannot access local variable 'link' where it is not associated with a value\n",
      "❌ Erreur lors de la récupération de la page : cannot access local variable 'link' where it is not associated with a value\n",
      "❌ Erreur lors de la récupération de la page : cannot access local variable 'link' where it is not associated with a value\n",
      "❌ Erreur lors de la récupération de la page : cannot access local variable 'link' where it is not associated with a value\n"
     ]
    },
    {
     "name": "stderr",
     "output_type": "stream",
     "text": [
      " 16%|█▋        | 1626/10001 [23:40<06:31, 21.37it/s]"
     ]
    },
    {
     "name": "stdout",
     "output_type": "stream",
     "text": [
      "❌ Erreur lors de la récupération de la page : cannot access local variable 'link' where it is not associated with a value\n",
      "❌ Erreur lors de la récupération de la page : cannot access local variable 'link' where it is not associated with a value\n",
      "❌ Erreur lors de la récupération de la page : cannot access local variable 'link' where it is not associated with a value\n",
      "❌ Erreur lors de la récupération de la page : cannot access local variable 'link' where it is not associated with a value\n",
      "❌ Erreur lors de la récupération de la page : cannot access local variable 'link' where it is not associated with a value\n"
     ]
    },
    {
     "name": "stderr",
     "output_type": "stream",
     "text": [
      " 16%|█▋        | 1632/10001 [23:40<06:29, 21.47it/s]"
     ]
    },
    {
     "name": "stdout",
     "output_type": "stream",
     "text": [
      "❌ Erreur lors de la récupération de la page : cannot access local variable 'link' where it is not associated with a value\n",
      "❌ Erreur lors de la récupération de la page : cannot access local variable 'link' where it is not associated with a value\n",
      "❌ Erreur lors de la récupération de la page : cannot access local variable 'link' where it is not associated with a value\n",
      "❌ Erreur lors de la récupération de la page : cannot access local variable 'link' where it is not associated with a value\n",
      "❌ Erreur lors de la récupération de la page : cannot access local variable 'link' where it is not associated with a value\n"
     ]
    },
    {
     "name": "stderr",
     "output_type": "stream",
     "text": [
      " 16%|█▋        | 1635/10001 [23:40<06:33, 21.27it/s]"
     ]
    },
    {
     "name": "stdout",
     "output_type": "stream",
     "text": [
      "❌ Erreur lors de la récupération de la page : cannot access local variable 'link' where it is not associated with a value\n",
      "❌ Erreur lors de la récupération de la page : cannot access local variable 'link' where it is not associated with a value\n",
      "❌ Erreur lors de la récupération de la page : cannot access local variable 'link' where it is not associated with a value\n",
      "❌ Erreur lors de la récupération de la page : cannot access local variable 'link' where it is not associated with a value\n",
      "❌ Erreur lors de la récupération de la page : cannot access local variable 'link' where it is not associated with a value\n"
     ]
    },
    {
     "name": "stderr",
     "output_type": "stream",
     "text": [
      " 16%|█▋        | 1641/10001 [23:40<06:20, 21.95it/s]"
     ]
    },
    {
     "name": "stdout",
     "output_type": "stream",
     "text": [
      "❌ Erreur lors de la récupération de la page : cannot access local variable 'link' where it is not associated with a value\n",
      "❌ Erreur lors de la récupération de la page : cannot access local variable 'link' where it is not associated with a value\n",
      "❌ Erreur lors de la récupération de la page : cannot access local variable 'link' where it is not associated with a value\n",
      "❌ Erreur lors de la récupération de la page : cannot access local variable 'link' where it is not associated with a value\n",
      "❌ Erreur lors de la récupération de la page : cannot access local variable 'link' where it is not associated with a value\n"
     ]
    },
    {
     "name": "stderr",
     "output_type": "stream",
     "text": [
      " 16%|█▋        | 1647/10001 [23:41<06:38, 20.94it/s]"
     ]
    },
    {
     "name": "stdout",
     "output_type": "stream",
     "text": [
      "❌ Erreur lors de la récupération de la page : cannot access local variable 'link' where it is not associated with a value\n",
      "❌ Erreur lors de la récupération de la page : cannot access local variable 'link' where it is not associated with a value\n",
      "❌ Erreur lors de la récupération de la page : cannot access local variable 'link' where it is not associated with a value\n",
      "❌ Erreur lors de la récupération de la page : cannot access local variable 'link' where it is not associated with a value\n",
      "❌ Erreur lors de la récupération de la page : cannot access local variable 'link' where it is not associated with a value\n"
     ]
    },
    {
     "name": "stderr",
     "output_type": "stream",
     "text": [
      " 16%|█▋        | 1650/10001 [23:41<06:36, 21.09it/s]"
     ]
    },
    {
     "name": "stdout",
     "output_type": "stream",
     "text": [
      "❌ Erreur lors de la récupération de la page : cannot access local variable 'link' where it is not associated with a value\n",
      "❌ Erreur lors de la récupération de la page : cannot access local variable 'link' where it is not associated with a value\n",
      "❌ Erreur lors de la récupération de la page : cannot access local variable 'link' where it is not associated with a value\n",
      "❌ Erreur lors de la récupération de la page : cannot access local variable 'link' where it is not associated with a value\n",
      "❌ Erreur lors de la récupération de la page : cannot access local variable 'link' where it is not associated with a value\n"
     ]
    },
    {
     "name": "stderr",
     "output_type": "stream",
     "text": [
      " 17%|█▋        | 1656/10001 [23:41<06:45, 20.57it/s]"
     ]
    },
    {
     "name": "stdout",
     "output_type": "stream",
     "text": [
      "❌ Erreur lors de la récupération de la page : cannot access local variable 'link' where it is not associated with a value\n",
      "❌ Erreur lors de la récupération de la page : cannot access local variable 'link' where it is not associated with a value\n",
      "❌ Erreur lors de la récupération de la page : cannot access local variable 'link' where it is not associated with a value\n",
      "❌ Erreur lors de la récupération de la page : cannot access local variable 'link' where it is not associated with a value\n",
      "❌ Erreur lors de la récupération de la page : cannot access local variable 'link' where it is not associated with a value\n"
     ]
    },
    {
     "name": "stderr",
     "output_type": "stream",
     "text": [
      " 17%|█▋        | 1662/10001 [23:41<06:34, 21.13it/s]"
     ]
    },
    {
     "name": "stdout",
     "output_type": "stream",
     "text": [
      "❌ Erreur lors de la récupération de la page : cannot access local variable 'link' where it is not associated with a value\n",
      "❌ Erreur lors de la récupération de la page : cannot access local variable 'link' where it is not associated with a value\n",
      "❌ Erreur lors de la récupération de la page : cannot access local variable 'link' where it is not associated with a value\n",
      "❌ Erreur lors de la récupération de la page : cannot access local variable 'link' where it is not associated with a value\n",
      "❌ Erreur lors de la récupération de la page : cannot access local variable 'link' where it is not associated with a value\n"
     ]
    },
    {
     "name": "stderr",
     "output_type": "stream",
     "text": [
      " 17%|█▋        | 1665/10001 [23:41<06:47, 20.44it/s]"
     ]
    },
    {
     "name": "stdout",
     "output_type": "stream",
     "text": [
      "❌ Erreur lors de la récupération de la page : cannot access local variable 'link' where it is not associated with a value\n",
      "❌ Erreur lors de la récupération de la page : cannot access local variable 'link' where it is not associated with a value\n",
      "❌ Erreur lors de la récupération de la page : cannot access local variable 'link' where it is not associated with a value\n",
      "❌ Erreur lors de la récupération de la page : cannot access local variable 'link' where it is not associated with a value\n",
      "❌ Erreur lors de la récupération de la page : cannot access local variable 'link' where it is not associated with a value\n"
     ]
    },
    {
     "name": "stderr",
     "output_type": "stream",
     "text": [
      " 17%|█▋        | 1671/10001 [23:42<06:29, 21.38it/s]"
     ]
    },
    {
     "name": "stdout",
     "output_type": "stream",
     "text": [
      "❌ Erreur lors de la récupération de la page : cannot access local variable 'link' where it is not associated with a value\n",
      "❌ Erreur lors de la récupération de la page : cannot access local variable 'link' where it is not associated with a value\n",
      "❌ Erreur lors de la récupération de la page : cannot access local variable 'link' where it is not associated with a value\n",
      "❌ Erreur lors de la récupération de la page : cannot access local variable 'link' where it is not associated with a value\n",
      "❌ Erreur lors de la récupération de la page : cannot access local variable 'link' where it is not associated with a value\n"
     ]
    },
    {
     "name": "stderr",
     "output_type": "stream",
     "text": [
      " 17%|█▋        | 1677/10001 [23:42<06:20, 21.86it/s]"
     ]
    },
    {
     "name": "stdout",
     "output_type": "stream",
     "text": [
      "❌ Erreur lors de la récupération de la page : cannot access local variable 'link' where it is not associated with a value\n",
      "❌ Erreur lors de la récupération de la page : cannot access local variable 'link' where it is not associated with a value\n",
      "❌ Erreur lors de la récupération de la page : cannot access local variable 'link' where it is not associated with a value\n",
      "❌ Erreur lors de la récupération de la page : cannot access local variable 'link' where it is not associated with a value\n",
      "❌ Erreur lors de la récupération de la page : cannot access local variable 'link' where it is not associated with a value\n"
     ]
    },
    {
     "name": "stderr",
     "output_type": "stream",
     "text": [
      " 17%|█▋        | 1680/10001 [23:42<06:11, 22.38it/s]"
     ]
    },
    {
     "name": "stdout",
     "output_type": "stream",
     "text": [
      "❌ Erreur lors de la récupération de la page : cannot access local variable 'link' where it is not associated with a value\n",
      "❌ Erreur lors de la récupération de la page : cannot access local variable 'link' where it is not associated with a value\n",
      "❌ Erreur lors de la récupération de la page : cannot access local variable 'link' where it is not associated with a value\n",
      "❌ Erreur lors de la récupération de la page : cannot access local variable 'link' where it is not associated with a value\n",
      "❌ Erreur lors de la récupération de la page : cannot access local variable 'link' where it is not associated with a value\n"
     ]
    },
    {
     "name": "stderr",
     "output_type": "stream",
     "text": [
      " 17%|█▋        | 1686/10001 [23:42<06:24, 21.62it/s]"
     ]
    },
    {
     "name": "stdout",
     "output_type": "stream",
     "text": [
      "❌ Erreur lors de la récupération de la page : cannot access local variable 'link' where it is not associated with a value\n",
      "❌ Erreur lors de la récupération de la page : cannot access local variable 'link' where it is not associated with a value\n",
      "❌ Erreur lors de la récupération de la page : cannot access local variable 'link' where it is not associated with a value\n",
      "❌ Erreur lors de la récupération de la page : cannot access local variable 'link' where it is not associated with a value\n",
      "❌ Erreur lors de la récupération de la page : cannot access local variable 'link' where it is not associated with a value\n"
     ]
    },
    {
     "name": "stderr",
     "output_type": "stream",
     "text": [
      " 17%|█▋        | 1692/10001 [23:43<06:13, 22.22it/s]"
     ]
    },
    {
     "name": "stdout",
     "output_type": "stream",
     "text": [
      "❌ Erreur lors de la récupération de la page : cannot access local variable 'link' where it is not associated with a value\n",
      "❌ Erreur lors de la récupération de la page : cannot access local variable 'link' where it is not associated with a value\n",
      "❌ Erreur lors de la récupération de la page : cannot access local variable 'link' where it is not associated with a value\n",
      "❌ Erreur lors de la récupération de la page : cannot access local variable 'link' where it is not associated with a value\n",
      "❌ Erreur lors de la récupération de la page : cannot access local variable 'link' where it is not associated with a value\n"
     ]
    },
    {
     "name": "stderr",
     "output_type": "stream",
     "text": [
      " 17%|█▋        | 1695/10001 [23:43<06:23, 21.66it/s]"
     ]
    },
    {
     "name": "stdout",
     "output_type": "stream",
     "text": [
      "❌ Erreur lors de la récupération de la page : cannot access local variable 'link' where it is not associated with a value\n",
      "❌ Erreur lors de la récupération de la page : cannot access local variable 'link' where it is not associated with a value\n",
      "❌ Erreur lors de la récupération de la page : cannot access local variable 'link' where it is not associated with a value\n",
      "❌ Erreur lors de la récupération de la page : cannot access local variable 'link' where it is not associated with a value\n",
      "❌ Erreur lors de la récupération de la page : cannot access local variable 'link' where it is not associated with a value\n"
     ]
    },
    {
     "name": "stderr",
     "output_type": "stream",
     "text": [
      " 17%|█▋        | 1701/10001 [23:43<06:28, 21.39it/s]"
     ]
    },
    {
     "name": "stdout",
     "output_type": "stream",
     "text": [
      "❌ Erreur lors de la récupération de la page : cannot access local variable 'link' where it is not associated with a value\n",
      "❌ Erreur lors de la récupération de la page : cannot access local variable 'link' where it is not associated with a value\n",
      "❌ Erreur lors de la récupération de la page : cannot access local variable 'link' where it is not associated with a value\n",
      "❌ Erreur lors de la récupération de la page : cannot access local variable 'link' where it is not associated with a value\n",
      "❌ Erreur lors de la récupération de la page : cannot access local variable 'link' where it is not associated with a value\n"
     ]
    },
    {
     "name": "stderr",
     "output_type": "stream",
     "text": [
      " 17%|█▋        | 1707/10001 [23:43<06:18, 21.89it/s]"
     ]
    },
    {
     "name": "stdout",
     "output_type": "stream",
     "text": [
      "❌ Erreur lors de la récupération de la page : cannot access local variable 'link' where it is not associated with a value\n",
      "❌ Erreur lors de la récupération de la page : cannot access local variable 'link' where it is not associated with a value\n",
      "❌ Erreur lors de la récupération de la page : cannot access local variable 'link' where it is not associated with a value\n",
      "❌ Erreur lors de la récupération de la page : cannot access local variable 'link' where it is not associated with a value\n",
      "❌ Erreur lors de la récupération de la page : cannot access local variable 'link' where it is not associated with a value\n"
     ]
    },
    {
     "name": "stderr",
     "output_type": "stream",
     "text": [
      " 17%|█▋        | 1713/10001 [23:44<06:12, 22.26it/s]"
     ]
    },
    {
     "name": "stdout",
     "output_type": "stream",
     "text": [
      "❌ Erreur lors de la récupération de la page : cannot access local variable 'link' where it is not associated with a value\n",
      "❌ Erreur lors de la récupération de la page : cannot access local variable 'link' where it is not associated with a value\n",
      "❌ Erreur lors de la récupération de la page : cannot access local variable 'link' where it is not associated with a value\n",
      "❌ Erreur lors de la récupération de la page : cannot access local variable 'link' where it is not associated with a value\n",
      "❌ Erreur lors de la récupération de la page : cannot access local variable 'link' where it is not associated with a value\n"
     ]
    },
    {
     "name": "stderr",
     "output_type": "stream",
     "text": [
      " 17%|█▋        | 1716/10001 [23:44<06:26, 21.44it/s]"
     ]
    },
    {
     "name": "stdout",
     "output_type": "stream",
     "text": [
      "❌ Erreur lors de la récupération de la page : cannot access local variable 'link' where it is not associated with a value\n",
      "❌ Erreur lors de la récupération de la page : cannot access local variable 'link' where it is not associated with a value\n",
      "❌ Erreur lors de la récupération de la page : cannot access local variable 'link' where it is not associated with a value\n",
      "❌ Erreur lors de la récupération de la page : cannot access local variable 'link' where it is not associated with a value\n",
      "❌ Erreur lors de la récupération de la page : cannot access local variable 'link' where it is not associated with a value\n"
     ]
    },
    {
     "name": "stderr",
     "output_type": "stream",
     "text": [
      " 17%|█▋        | 1722/10001 [23:44<06:22, 21.62it/s]"
     ]
    },
    {
     "name": "stdout",
     "output_type": "stream",
     "text": [
      "❌ Erreur lors de la récupération de la page : cannot access local variable 'link' where it is not associated with a value\n",
      "❌ Erreur lors de la récupération de la page : cannot access local variable 'link' where it is not associated with a value\n",
      "❌ Erreur lors de la récupération de la page : cannot access local variable 'link' where it is not associated with a value\n",
      "❌ Erreur lors de la récupération de la page : cannot access local variable 'link' where it is not associated with a value\n",
      "❌ Erreur lors de la récupération de la page : cannot access local variable 'link' where it is not associated with a value\n"
     ]
    },
    {
     "name": "stderr",
     "output_type": "stream",
     "text": [
      " 17%|█▋        | 1725/10001 [23:44<06:39, 20.70it/s]"
     ]
    },
    {
     "name": "stdout",
     "output_type": "stream",
     "text": [
      "❌ Erreur lors de la récupération de la page : cannot access local variable 'link' where it is not associated with a value\n",
      "❌ Erreur lors de la récupération de la page : cannot access local variable 'link' where it is not associated with a value\n",
      "❌ Erreur lors de la récupération de la page : cannot access local variable 'link' where it is not associated with a value\n",
      "❌ Erreur lors de la récupération de la page : cannot access local variable 'link' where it is not associated with a value\n",
      "❌ Erreur lors de la récupération de la page : cannot access local variable 'link' where it is not associated with a value\n"
     ]
    },
    {
     "name": "stderr",
     "output_type": "stream",
     "text": [
      " 17%|█▋        | 1731/10001 [23:44<06:27, 21.32it/s]"
     ]
    },
    {
     "name": "stdout",
     "output_type": "stream",
     "text": [
      "❌ Erreur lors de la récupération de la page : cannot access local variable 'link' where it is not associated with a value\n",
      "❌ Erreur lors de la récupération de la page : cannot access local variable 'link' where it is not associated with a value\n",
      "❌ Erreur lors de la récupération de la page : cannot access local variable 'link' where it is not associated with a value\n",
      "❌ Erreur lors de la récupération de la page : cannot access local variable 'link' where it is not associated with a value\n",
      "❌ Erreur lors de la récupération de la page : cannot access local variable 'link' where it is not associated with a value\n"
     ]
    },
    {
     "name": "stderr",
     "output_type": "stream",
     "text": [
      " 17%|█▋        | 1737/10001 [23:45<06:20, 21.73it/s]"
     ]
    },
    {
     "name": "stdout",
     "output_type": "stream",
     "text": [
      "❌ Erreur lors de la récupération de la page : cannot access local variable 'link' where it is not associated with a value\n",
      "❌ Erreur lors de la récupération de la page : cannot access local variable 'link' where it is not associated with a value\n",
      "❌ Erreur lors de la récupération de la page : cannot access local variable 'link' where it is not associated with a value\n",
      "❌ Erreur lors de la récupération de la page : cannot access local variable 'link' where it is not associated with a value\n",
      "❌ Erreur lors de la récupération de la page : cannot access local variable 'link' where it is not associated with a value\n"
     ]
    },
    {
     "name": "stderr",
     "output_type": "stream",
     "text": [
      " 17%|█▋        | 1740/10001 [23:45<06:46, 20.34it/s]"
     ]
    },
    {
     "name": "stdout",
     "output_type": "stream",
     "text": [
      "❌ Erreur lors de la récupération de la page : cannot access local variable 'link' where it is not associated with a value\n",
      "❌ Erreur lors de la récupération de la page : cannot access local variable 'link' where it is not associated with a value\n",
      "❌ Erreur lors de la récupération de la page : cannot access local variable 'link' where it is not associated with a value\n",
      "❌ Erreur lors de la récupération de la page : cannot access local variable 'link' where it is not associated with a value\n"
     ]
    },
    {
     "name": "stderr",
     "output_type": "stream",
     "text": [
      " 17%|█▋        | 1746/10001 [23:45<06:43, 20.47it/s]"
     ]
    },
    {
     "name": "stdout",
     "output_type": "stream",
     "text": [
      "❌ Erreur lors de la récupération de la page : cannot access local variable 'link' where it is not associated with a value\n",
      "❌ Erreur lors de la récupération de la page : cannot access local variable 'link' where it is not associated with a value\n",
      "❌ Erreur lors de la récupération de la page : cannot access local variable 'link' where it is not associated with a value\n",
      "❌ Erreur lors de la récupération de la page : cannot access local variable 'link' where it is not associated with a value\n",
      "❌ Erreur lors de la récupération de la page : cannot access local variable 'link' where it is not associated with a value\n"
     ]
    },
    {
     "name": "stderr",
     "output_type": "stream",
     "text": [
      " 17%|█▋        | 1749/10001 [23:45<06:35, 20.86it/s]"
     ]
    },
    {
     "name": "stdout",
     "output_type": "stream",
     "text": [
      "❌ Erreur lors de la récupération de la page : cannot access local variable 'link' where it is not associated with a value\n",
      "❌ Erreur lors de la récupération de la page : cannot access local variable 'link' where it is not associated with a value\n",
      "❌ Erreur lors de la récupération de la page : cannot access local variable 'link' where it is not associated with a value\n",
      "❌ Erreur lors de la récupération de la page : cannot access local variable 'link' where it is not associated with a value\n",
      "❌ Erreur lors de la récupération de la page : cannot access local variable 'link' where it is not associated with a value\n"
     ]
    },
    {
     "name": "stderr",
     "output_type": "stream",
     "text": [
      " 18%|█▊        | 1755/10001 [23:46<06:26, 21.32it/s]"
     ]
    },
    {
     "name": "stdout",
     "output_type": "stream",
     "text": [
      "❌ Erreur lors de la récupération de la page : cannot access local variable 'link' where it is not associated with a value\n",
      "❌ Erreur lors de la récupération de la page : cannot access local variable 'link' where it is not associated with a value\n",
      "❌ Erreur lors de la récupération de la page : cannot access local variable 'link' where it is not associated with a value\n",
      "❌ Erreur lors de la récupération de la page : cannot access local variable 'link' where it is not associated with a value\n",
      "❌ Erreur lors de la récupération de la page : cannot access local variable 'link' where it is not associated with a value\n"
     ]
    },
    {
     "name": "stderr",
     "output_type": "stream",
     "text": [
      " 18%|█▊        | 1761/10001 [23:46<06:42, 20.48it/s]"
     ]
    },
    {
     "name": "stdout",
     "output_type": "stream",
     "text": [
      "❌ Erreur lors de la récupération de la page : cannot access local variable 'link' where it is not associated with a value\n",
      "❌ Erreur lors de la récupération de la page : cannot access local variable 'link' where it is not associated with a value\n",
      "❌ Erreur lors de la récupération de la page : cannot access local variable 'link' where it is not associated with a value\n",
      "❌ Erreur lors de la récupération de la page : cannot access local variable 'link' where it is not associated with a value\n",
      "❌ Erreur lors de la récupération de la page : cannot access local variable 'link' where it is not associated with a value\n"
     ]
    },
    {
     "name": "stderr",
     "output_type": "stream",
     "text": [
      " 18%|█▊        | 1764/10001 [23:46<06:32, 20.96it/s]"
     ]
    },
    {
     "name": "stdout",
     "output_type": "stream",
     "text": [
      "❌ Erreur lors de la récupération de la page : cannot access local variable 'link' where it is not associated with a value\n",
      "❌ Erreur lors de la récupération de la page : cannot access local variable 'link' where it is not associated with a value\n",
      "❌ Erreur lors de la récupération de la page : cannot access local variable 'link' where it is not associated with a value\n",
      "❌ Erreur lors de la récupération de la page : cannot access local variable 'link' where it is not associated with a value\n",
      "❌ Erreur lors de la récupération de la page : cannot access local variable 'link' where it is not associated with a value\n"
     ]
    },
    {
     "name": "stderr",
     "output_type": "stream",
     "text": [
      " 18%|█▊        | 1770/10001 [23:46<06:17, 21.80it/s]"
     ]
    },
    {
     "name": "stdout",
     "output_type": "stream",
     "text": [
      "❌ Erreur lors de la récupération de la page : cannot access local variable 'link' where it is not associated with a value\n",
      "❌ Erreur lors de la récupération de la page : cannot access local variable 'link' where it is not associated with a value\n",
      "❌ Erreur lors de la récupération de la page : cannot access local variable 'link' where it is not associated with a value\n",
      "❌ Erreur lors de la récupération de la page : cannot access local variable 'link' where it is not associated with a value\n",
      "❌ Erreur lors de la récupération de la page : cannot access local variable 'link' where it is not associated with a value\n"
     ]
    },
    {
     "name": "stderr",
     "output_type": "stream",
     "text": [
      " 18%|█▊        | 1776/10001 [23:47<06:14, 21.95it/s]"
     ]
    },
    {
     "name": "stdout",
     "output_type": "stream",
     "text": [
      "❌ Erreur lors de la récupération de la page : cannot access local variable 'link' where it is not associated with a value\n",
      "❌ Erreur lors de la récupération de la page : cannot access local variable 'link' where it is not associated with a value\n",
      "❌ Erreur lors de la récupération de la page : cannot access local variable 'link' where it is not associated with a value\n",
      "❌ Erreur lors de la récupération de la page : cannot access local variable 'link' where it is not associated with a value\n",
      "❌ Erreur lors de la récupération de la page : cannot access local variable 'link' where it is not associated with a value\n",
      "❌ Erreur lors de la récupération de la page : cannot access local variable 'link' where it is not associated with a value\n"
     ]
    },
    {
     "name": "stderr",
     "output_type": "stream",
     "text": [
      " 18%|█▊        | 1782/10001 [23:47<06:18, 21.73it/s]"
     ]
    },
    {
     "name": "stdout",
     "output_type": "stream",
     "text": [
      "❌ Erreur lors de la récupération de la page : cannot access local variable 'link' where it is not associated with a value\n",
      "❌ Erreur lors de la récupération de la page : cannot access local variable 'link' where it is not associated with a value\n",
      "❌ Erreur lors de la récupération de la page : cannot access local variable 'link' where it is not associated with a value\n",
      "❌ Erreur lors de la récupération de la page : cannot access local variable 'link' where it is not associated with a value\n",
      "❌ Erreur lors de la récupération de la page : cannot access local variable 'link' where it is not associated with a value\n"
     ]
    },
    {
     "name": "stderr",
     "output_type": "stream",
     "text": [
      " 18%|█▊        | 1785/10001 [23:47<06:25, 21.30it/s]"
     ]
    },
    {
     "name": "stdout",
     "output_type": "stream",
     "text": [
      "❌ Erreur lors de la récupération de la page : cannot access local variable 'link' where it is not associated with a value\n",
      "❌ Erreur lors de la récupération de la page : cannot access local variable 'link' where it is not associated with a value\n",
      "❌ Erreur lors de la récupération de la page : cannot access local variable 'link' where it is not associated with a value\n",
      "❌ Erreur lors de la récupération de la page : cannot access local variable 'link' where it is not associated with a value\n",
      "❌ Erreur lors de la récupération de la page : cannot access local variable 'link' where it is not associated with a value\n"
     ]
    },
    {
     "name": "stderr",
     "output_type": "stream",
     "text": [
      " 18%|█▊        | 1791/10001 [23:47<06:28, 21.15it/s]"
     ]
    },
    {
     "name": "stdout",
     "output_type": "stream",
     "text": [
      "❌ Erreur lors de la récupération de la page : cannot access local variable 'link' where it is not associated with a value\n",
      "❌ Erreur lors de la récupération de la page : cannot access local variable 'link' where it is not associated with a value\n",
      "❌ Erreur lors de la récupération de la page : cannot access local variable 'link' where it is not associated with a value\n",
      "❌ Erreur lors de la récupération de la page : cannot access local variable 'link' where it is not associated with a value\n",
      "❌ Erreur lors de la récupération de la page : cannot access local variable 'link' where it is not associated with a value\n"
     ]
    },
    {
     "name": "stderr",
     "output_type": "stream",
     "text": [
      " 18%|█▊        | 1797/10001 [23:48<06:24, 21.34it/s]"
     ]
    },
    {
     "name": "stdout",
     "output_type": "stream",
     "text": [
      "❌ Erreur lors de la récupération de la page : cannot access local variable 'link' where it is not associated with a value\n",
      "❌ Erreur lors de la récupération de la page : cannot access local variable 'link' where it is not associated with a value\n",
      "❌ Erreur lors de la récupération de la page : cannot access local variable 'link' where it is not associated with a value\n",
      "❌ Erreur lors de la récupération de la page : cannot access local variable 'link' where it is not associated with a value\n",
      "❌ Erreur lors de la récupération de la page : cannot access local variable 'link' where it is not associated with a value\n"
     ]
    },
    {
     "name": "stderr",
     "output_type": "stream",
     "text": [
      " 18%|█▊        | 1800/10001 [23:48<06:16, 21.81it/s]"
     ]
    },
    {
     "name": "stdout",
     "output_type": "stream",
     "text": [
      "❌ Erreur lors de la récupération de la page : cannot access local variable 'link' where it is not associated with a value\n",
      "❌ Erreur lors de la récupération de la page : cannot access local variable 'link' where it is not associated with a value\n",
      "❌ Erreur lors de la récupération de la page : cannot access local variable 'link' where it is not associated with a value\n",
      "❌ Erreur lors de la récupération de la page : cannot access local variable 'link' where it is not associated with a value\n",
      "❌ Erreur lors de la récupération de la page : cannot access local variable 'link' where it is not associated with a value\n"
     ]
    },
    {
     "name": "stderr",
     "output_type": "stream",
     "text": [
      " 18%|█▊        | 1806/10001 [23:48<06:11, 22.06it/s]"
     ]
    },
    {
     "name": "stdout",
     "output_type": "stream",
     "text": [
      "❌ Erreur lors de la récupération de la page : cannot access local variable 'link' where it is not associated with a value\n",
      "❌ Erreur lors de la récupération de la page : cannot access local variable 'link' where it is not associated with a value\n",
      "❌ Erreur lors de la récupération de la page : cannot access local variable 'link' where it is not associated with a value\n",
      "❌ Erreur lors de la récupération de la page : cannot access local variable 'link' where it is not associated with a value\n",
      "❌ Erreur lors de la récupération de la page : cannot access local variable 'link' where it is not associated with a value\n"
     ]
    },
    {
     "name": "stderr",
     "output_type": "stream",
     "text": [
      " 18%|█▊        | 1812/10001 [23:48<06:15, 21.81it/s]"
     ]
    },
    {
     "name": "stdout",
     "output_type": "stream",
     "text": [
      "❌ Erreur lors de la récupération de la page : cannot access local variable 'link' where it is not associated with a value\n",
      "❌ Erreur lors de la récupération de la page : cannot access local variable 'link' where it is not associated with a value\n",
      "❌ Erreur lors de la récupération de la page : cannot access local variable 'link' where it is not associated with a value\n",
      "❌ Erreur lors de la récupération de la page : cannot access local variable 'link' where it is not associated with a value\n",
      "❌ Erreur lors de la récupération de la page : cannot access local variable 'link' where it is not associated with a value\n"
     ]
    },
    {
     "name": "stderr",
     "output_type": "stream",
     "text": [
      " 18%|█▊        | 1815/10001 [23:48<06:15, 21.80it/s]"
     ]
    },
    {
     "name": "stdout",
     "output_type": "stream",
     "text": [
      "❌ Erreur lors de la récupération de la page : cannot access local variable 'link' where it is not associated with a value\n",
      "❌ Erreur lors de la récupération de la page : cannot access local variable 'link' where it is not associated with a value\n",
      "❌ Erreur lors de la récupération de la page : cannot access local variable 'link' where it is not associated with a value\n",
      "❌ Erreur lors de la récupération de la page : cannot access local variable 'link' where it is not associated with a value\n",
      "❌ Erreur lors de la récupération de la page : cannot access local variable 'link' where it is not associated with a value\n"
     ]
    },
    {
     "name": "stderr",
     "output_type": "stream",
     "text": [
      " 18%|█▊        | 1821/10001 [23:49<06:15, 21.80it/s]"
     ]
    },
    {
     "name": "stdout",
     "output_type": "stream",
     "text": [
      "❌ Erreur lors de la récupération de la page : cannot access local variable 'link' where it is not associated with a value\n",
      "❌ Erreur lors de la récupération de la page : cannot access local variable 'link' where it is not associated with a value\n",
      "❌ Erreur lors de la récupération de la page : cannot access local variable 'link' where it is not associated with a value\n",
      "❌ Erreur lors de la récupération de la page : cannot access local variable 'link' where it is not associated with a value\n",
      "❌ Erreur lors de la récupération de la page : cannot access local variable 'link' where it is not associated with a value\n"
     ]
    },
    {
     "name": "stderr",
     "output_type": "stream",
     "text": [
      " 18%|█▊        | 1827/10001 [23:49<06:30, 20.91it/s]"
     ]
    },
    {
     "name": "stdout",
     "output_type": "stream",
     "text": [
      "❌ Erreur lors de la récupération de la page : cannot access local variable 'link' where it is not associated with a value\n",
      "❌ Erreur lors de la récupération de la page : cannot access local variable 'link' where it is not associated with a value\n",
      "❌ Erreur lors de la récupération de la page : cannot access local variable 'link' where it is not associated with a value\n",
      "❌ Erreur lors de la récupération de la page : cannot access local variable 'link' where it is not associated with a value\n"
     ]
    },
    {
     "name": "stderr",
     "output_type": "stream",
     "text": [
      " 18%|█▊        | 1830/10001 [23:49<06:23, 21.30it/s]"
     ]
    },
    {
     "name": "stdout",
     "output_type": "stream",
     "text": [
      "❌ Erreur lors de la récupération de la page : cannot access local variable 'link' where it is not associated with a value\n",
      "❌ Erreur lors de la récupération de la page : cannot access local variable 'link' where it is not associated with a value\n",
      "❌ Erreur lors de la récupération de la page : cannot access local variable 'link' where it is not associated with a value\n",
      "❌ Erreur lors de la récupération de la page : cannot access local variable 'link' where it is not associated with a value\n",
      "❌ Erreur lors de la récupération de la page : cannot access local variable 'link' where it is not associated with a value\n"
     ]
    },
    {
     "name": "stderr",
     "output_type": "stream",
     "text": [
      " 18%|█▊        | 1833/10001 [23:49<06:22, 21.38it/s]"
     ]
    },
    {
     "name": "stdout",
     "output_type": "stream",
     "text": [
      "❌ Erreur lors de la récupération de la page : cannot access local variable 'link' where it is not associated with a value\n",
      "❌ Erreur lors de la récupération de la page : cannot access local variable 'link' where it is not associated with a value\n",
      "❌ Erreur lors de la récupération de la page : cannot access local variable 'link' where it is not associated with a value\n",
      "❌ Erreur lors de la récupération de la page : cannot access local variable 'link' where it is not associated with a value\n"
     ]
    },
    {
     "name": "stderr",
     "output_type": "stream",
     "text": [
      " 18%|█▊        | 1839/10001 [23:50<06:43, 20.22it/s]"
     ]
    },
    {
     "name": "stdout",
     "output_type": "stream",
     "text": [
      "❌ Erreur lors de la récupération de la page : cannot access local variable 'link' where it is not associated with a value\n",
      "❌ Erreur lors de la récupération de la page : cannot access local variable 'link' where it is not associated with a value\n",
      "❌ Erreur lors de la récupération de la page : cannot access local variable 'link' where it is not associated with a value\n",
      "❌ Erreur lors de la récupération de la page : cannot access local variable 'link' where it is not associated with a value\n",
      "❌ Erreur lors de la récupération de la page : cannot access local variable 'link' where it is not associated with a value\n"
     ]
    },
    {
     "name": "stderr",
     "output_type": "stream",
     "text": [
      " 18%|█▊        | 1845/10001 [23:50<06:39, 20.40it/s]"
     ]
    },
    {
     "name": "stdout",
     "output_type": "stream",
     "text": [
      "❌ Erreur lors de la récupération de la page : cannot access local variable 'link' where it is not associated with a value\n",
      "❌ Erreur lors de la récupération de la page : cannot access local variable 'link' where it is not associated with a value\n",
      "❌ Erreur lors de la récupération de la page : cannot access local variable 'link' where it is not associated with a value\n",
      "❌ Erreur lors de la récupération de la page : cannot access local variable 'link' where it is not associated with a value\n",
      "❌ Erreur lors de la récupération de la page : cannot access local variable 'link' where it is not associated with a value\n"
     ]
    },
    {
     "name": "stderr",
     "output_type": "stream",
     "text": [
      " 18%|█▊        | 1847/10001 [24:20<7:39:36,  3.38s/it]"
     ]
    },
    {
     "name": "stdout",
     "output_type": "stream",
     "text": [
      "❌ Erreur lors de la récupération de la page : cannot access local variable 'link' where it is not associated with a value\n"
     ]
    },
    {
     "name": "stderr",
     "output_type": "stream",
     "text": [
      " 18%|█▊        | 1848/10001 [24:50<15:56:11,  7.04s/it]"
     ]
    },
    {
     "name": "stdout",
     "output_type": "stream",
     "text": [
      "❌ Erreur lors de la récupération de la page : cannot access local variable 'link' where it is not associated with a value\n",
      "❌ Erreur lors de la récupération de la page : cannot access local variable 'link' where it is not associated with a value\n"
     ]
    },
    {
     "name": "stderr",
     "output_type": "stream",
     "text": [
      " 18%|█▊        | 1850/10001 [25:20<21:02:24,  9.29s/it]"
     ]
    },
    {
     "name": "stdout",
     "output_type": "stream",
     "text": [
      "❌ Erreur lors de la récupération de la page : cannot access local variable 'link' where it is not associated with a value\n",
      "❌ Erreur lors de la récupération de la page : cannot access local variable 'link' where it is not associated with a value\n"
     ]
    },
    {
     "name": "stderr",
     "output_type": "stream",
     "text": [
      " 19%|█▊        | 1852/10001 [25:50<24:46:45, 10.95s/it]"
     ]
    },
    {
     "name": "stdout",
     "output_type": "stream",
     "text": [
      "❌ Erreur lors de la récupération de la page : cannot access local variable 'link' where it is not associated with a value\n"
     ]
    },
    {
     "name": "stderr",
     "output_type": "stream",
     "text": [
      " 19%|█▊        | 1855/10001 [26:05<17:47:14,  7.86s/it]"
     ]
    },
    {
     "name": "stdout",
     "output_type": "stream",
     "text": [
      "❌ Erreur lors de la récupération de la page : cannot access local variable 'link' where it is not associated with a value\n",
      "❌ Erreur lors de la récupération de la page : cannot access local variable 'link' where it is not associated with a value\n",
      "❌ Erreur lors de la récupération de la page : cannot access local variable 'link' where it is not associated with a value\n",
      "❌ Erreur lors de la récupération de la page : cannot access local variable 'link' where it is not associated with a value\n"
     ]
    },
    {
     "name": "stderr",
     "output_type": "stream",
     "text": [
      " 19%|█▊        | 1858/10001 [26:06<10:30:01,  4.64s/it]"
     ]
    },
    {
     "name": "stdout",
     "output_type": "stream",
     "text": [
      "❌ Erreur lors de la récupération de la page : cannot access local variable 'link' where it is not associated with a value\n",
      "❌ Erreur lors de la récupération de la page : cannot access local variable 'link' where it is not associated with a value\n"
     ]
    },
    {
     "name": "stderr",
     "output_type": "stream",
     "text": [
      " 19%|█▊        | 1859/10001 [26:36<19:55:35,  8.81s/it]"
     ]
    },
    {
     "name": "stdout",
     "output_type": "stream",
     "text": [
      "❌ Erreur lors de la récupération de la page : cannot access local variable 'link' where it is not associated with a value\n"
     ]
    },
    {
     "name": "stderr",
     "output_type": "stream",
     "text": [
      " 19%|█▊        | 1860/10001 [27:06<29:02:57, 12.85s/it]"
     ]
    },
    {
     "name": "stdout",
     "output_type": "stream",
     "text": [
      "❌ Erreur lors de la récupération de la page : cannot access local variable 'link' where it is not associated with a value\n"
     ]
    },
    {
     "name": "stderr",
     "output_type": "stream",
     "text": [
      " 19%|█▊        | 1861/10001 [27:36<37:21:02, 16.52s/it]"
     ]
    },
    {
     "name": "stdout",
     "output_type": "stream",
     "text": [
      "❌ Erreur lors de la récupération de la page : cannot access local variable 'link' where it is not associated with a value\n"
     ]
    },
    {
     "name": "stderr",
     "output_type": "stream",
     "text": [
      " 19%|█▊        | 1864/10001 [27:51<21:58:32,  9.72s/it]"
     ]
    },
    {
     "name": "stdout",
     "output_type": "stream",
     "text": [
      "❌ Erreur lors de la récupération de la page : cannot access local variable 'link' where it is not associated with a value\n",
      "❌ Erreur lors de la récupération de la page : cannot access local variable 'link' where it is not associated with a value\n",
      "❌ Erreur lors de la récupération de la page : cannot access local variable 'link' where it is not associated with a value\n",
      "❌ Erreur lors de la récupération de la page : cannot access local variable 'link' where it is not associated with a value\n",
      "❌ Erreur lors de la récupération de la page : cannot access local variable 'link' where it is not associated with a value\n"
     ]
    },
    {
     "name": "stderr",
     "output_type": "stream",
     "text": [
      " 19%|█▊        | 1867/10001 [27:51<11:52:23,  5.25s/it]"
     ]
    },
    {
     "name": "stdout",
     "output_type": "stream",
     "text": [
      "❌ Erreur lors de la récupération de la page : cannot access local variable 'link' where it is not associated with a value\n",
      "❌ Erreur lors de la récupération de la page : cannot access local variable 'link' where it is not associated with a value\n"
     ]
    },
    {
     "name": "stderr",
     "output_type": "stream",
     "text": [
      " 19%|█▊        | 1869/10001 [28:21<18:37:27,  8.24s/it]"
     ]
    },
    {
     "name": "stdout",
     "output_type": "stream",
     "text": [
      "❌ Erreur lors de la récupération de la page : cannot access local variable 'link' where it is not associated with a value\n"
     ]
    },
    {
     "name": "stderr",
     "output_type": "stream",
     "text": [
      " 19%|█▊        | 1870/10001 [28:51<27:26:39, 12.15s/it]"
     ]
    },
    {
     "name": "stdout",
     "output_type": "stream",
     "text": [
      "❌ Erreur lors de la récupération de la page : cannot access local variable 'link' where it is not associated with a value\n"
     ]
    },
    {
     "name": "stderr",
     "output_type": "stream",
     "text": [
      " 38%|███▊      | 3791/10001 [1:10:49<1:56:01,  1.12s/it]\n"
     ]
    }
   ],
   "source": [
    "get_link_whoscored(1820000, 1830001, True)"
   ]
  },
  {
   "cell_type": "code",
   "execution_count": null,
   "metadata": {},
   "outputs": [
    {
     "name": "stdout",
     "output_type": "stream",
     "text": [
      "Intervalle des données : 1820000 1830000\n",
      "Maximum : 1830000\n",
      "Nombre d'observation : 9986\n",
      "\n",
      "\n",
      "Links :\n"
     ]
    },
    {
     "data": {
      "text/html": [
       "<table id=\"itables_bc0fb574_163e_4b2a_9cfc_b6e6b76d6e17\" class=\"display nowrap\" data-quarto-disable-processing=\"true\" style=\"table-layout:auto;width:auto;margin:auto;caption-side:bottom\">\n",
       "<thead>\n",
       "    <tr style=\"text-align: right;\">\n",
       "      \n",
       "      <th>link</th>\n",
       "      <th>num_lien</th>\n",
       "      <th>pays</th>\n",
       "      <th>ligue</th>\n",
       "      <th>annee</th>\n",
       "      <th>equipes</th>\n",
       "    </tr>\n",
       "  </thead><tbody><tr>\n",
       "<td style=\"vertical-align:middle; text-align:left\">\n",
       "<a href=https://mwouts.github.io/itables/><svg class=\"main-svg\" xmlns=\"http://www.w3.org/2000/svg\" xmlns:xlink=\"http://www.w3.org/1999/xlink\"\n",
       "width=\"64\" viewBox=\"0 0 500 400\" style=\"font-family: 'Droid Sans', sans-serif;\">\n",
       "    <g style=\"fill:#d9d7fc\">\n",
       "        <path d=\"M100,400H500V357H100Z\" />\n",
       "        <path d=\"M100,300H400V257H100Z\" />\n",
       "        <path d=\"M0,200H400V157H0Z\" />\n",
       "        <path d=\"M100,100H500V57H100Z\" />\n",
       "        <path d=\"M100,350H500V307H100Z\" />\n",
       "        <path d=\"M100,250H400V207H100Z\" />\n",
       "        <path d=\"M0,150H400V107H0Z\" />\n",
       "        <path d=\"M100,50H500V7H100Z\" />\n",
       "    </g>\n",
       "    <g style=\"fill:#1a1366;stroke:#1a1366;\">\n",
       "   <rect x=\"100\" y=\"7\" width=\"400\" height=\"43\">\n",
       "    <animate\n",
       "      attributeName=\"width\"\n",
       "      values=\"0;400;0\"\n",
       "      dur=\"5s\"\n",
       "      repeatCount=\"indefinite\" />\n",
       "      <animate\n",
       "      attributeName=\"x\"\n",
       "      values=\"100;100;500\"\n",
       "      dur=\"5s\"\n",
       "      repeatCount=\"indefinite\" />\n",
       "  </rect>\n",
       "        <rect x=\"0\" y=\"107\" width=\"400\" height=\"43\">\n",
       "    <animate\n",
       "      attributeName=\"width\"\n",
       "      values=\"0;400;0\"\n",
       "      dur=\"3.5s\"\n",
       "      repeatCount=\"indefinite\" />\n",
       "    <animate\n",
       "      attributeName=\"x\"\n",
       "      values=\"0;0;400\"\n",
       "      dur=\"3.5s\"\n",
       "      repeatCount=\"indefinite\" />\n",
       "  </rect>\n",
       "        <rect x=\"100\" y=\"207\" width=\"300\" height=\"43\">\n",
       "    <animate\n",
       "      attributeName=\"width\"\n",
       "      values=\"0;300;0\"\n",
       "      dur=\"3s\"\n",
       "      repeatCount=\"indefinite\" />\n",
       "    <animate\n",
       "      attributeName=\"x\"\n",
       "      values=\"100;100;400\"\n",
       "      dur=\"3s\"\n",
       "      repeatCount=\"indefinite\" />\n",
       "  </rect>\n",
       "        <rect x=\"100\" y=\"307\" width=\"400\" height=\"43\">\n",
       "    <animate\n",
       "      attributeName=\"width\"\n",
       "      values=\"0;400;0\"\n",
       "      dur=\"4s\"\n",
       "      repeatCount=\"indefinite\" />\n",
       "      <animate\n",
       "      attributeName=\"x\"\n",
       "      values=\"100;100;500\"\n",
       "      dur=\"4s\"\n",
       "      repeatCount=\"indefinite\" />\n",
       "  </rect>\n",
       "        <g style=\"fill:transparent;stroke-width:8; stroke-linejoin:round\" rx=\"5\">\n",
       "            <g transform=\"translate(45 50) rotate(-45)\">\n",
       "                <circle r=\"33\" cx=\"0\" cy=\"0\" />\n",
       "                <rect x=\"-8\" y=\"32\" width=\"16\" height=\"30\" />\n",
       "            </g>\n",
       "\n",
       "            <g transform=\"translate(450 152)\">\n",
       "                <polyline points=\"-15,-20 -35,-20 -35,40 25,40 25,20\" />\n",
       "                <rect x=\"-15\" y=\"-40\" width=\"60\" height=\"60\" />\n",
       "            </g>\n",
       "\n",
       "            <g transform=\"translate(50 352)\">\n",
       "                <polygon points=\"-35,-5 0,-40 35,-5\" />\n",
       "                <polygon points=\"-35,10 0,45 35,10\" />\n",
       "            </g>\n",
       "\n",
       "            <g transform=\"translate(75 250)\">\n",
       "                <polyline points=\"-30,30 -60,0 -30,-30\" />\n",
       "                <polyline points=\"0,30 -30,0 0,-30\" />\n",
       "            </g>\n",
       "\n",
       "            <g transform=\"translate(425 250) rotate(180)\">\n",
       "                <polyline points=\"-30,30 -60,0 -30,-30\" />\n",
       "                <polyline points=\"0,30 -30,0 0,-30\" />\n",
       "            </g>\n",
       "        </g>\n",
       "    </g>\n",
       "</svg>\n",
       "</a>\n",
       "Loading ITables v2.2.5 from the internet...\n",
       "(need <a href=https://mwouts.github.io/itables/troubleshooting.html>help</a>?)</td>\n",
       "</tr></tbody>\n",
       "</table>\n",
       "<link href=\"https://www.unpkg.com/dt_for_itables@2.0.13/dt_bundle.css\" rel=\"stylesheet\">\n",
       "<script type=\"module\">\n",
       "    import {DataTable, jQuery as $} from 'https://www.unpkg.com/dt_for_itables@2.0.13/dt_bundle.js';\n",
       "\n",
       "    document.querySelectorAll(\"#itables_bc0fb574_163e_4b2a_9cfc_b6e6b76d6e17:not(.dataTable)\").forEach(table => {\n",
       "        if (!(table instanceof HTMLTableElement))\n",
       "            return;\n",
       "\n",
       "        // Define the table data\n",
       "        const data = [[\"/matches/1820000/live/pologne-i-liga-2024-2025-gks-tychy-znicz-pruszkow\", 1820000, \"pologne\", \"i-liga\", \"2024-2025\", \"gks-tychy-znicz-pruszkow\"], [\"/matches/1820001/live/pologne-i-liga-2024-2025-wisla-plock-wisla-krakow\", 1820001, \"pologne\", \"i-liga\", \"2024-2025\", \"wisla-plock-wisla-krakow\"], [\"/matches/1820002/live/pologne-i-liga-2024-2025-termalica-nieciecza-arka-gdynia\", 1820002, \"pologne\", \"i-liga\", \"2024-2025\", \"termalica-nieciecza-arka-gdynia\"], [\"/matches/1820003/live/pologne-i-liga-2024-2025-kotwica-kolobrzeg-znicz-pruszkow\", 1820003, \"pologne\", \"i-liga\", \"2024-2025\", \"kotwica-kolobrzeg-znicz-pruszkow\"], [\"/matches/1820005/live/pologne-i-liga-2024-2025-miedz-legnica-wisla-krakow\", 1820005, \"pologne\", \"i-liga\", \"2024-2025\", \"miedz-legnica-wisla-krakow\"], [\"/matches/1820007/live/pologne-i-liga-2024-2025-gornik-leczna-arka-gdynia\", 1820007, \"pologne\", \"i-liga\", \"2024-2025\", \"gornik-leczna-arka-gdynia\"], [\"/matches/1820009/live/pologne-i-liga-2024-2025-gornik-leczna-ruch-chorzow\", 1820009, \"pologne\", \"i-liga\", \"2024-2025\", \"gornik-leczna-ruch-chorzow\"], [\"/matches/1820011/live/pologne-i-liga-2024-2025-arka-gdynia-miedz-legnica\", 1820011, \"pologne\", \"i-liga\", \"2024-2025\", \"arka-gdynia-miedz-legnica\"], [\"/matches/1820013/live/pologne-i-liga-2024-2025-wisla-krakow-kotwica-kolobrzeg\", 1820013, \"pologne\", \"i-liga\", \"2024-2025\", \"wisla-krakow-kotwica-kolobrzeg\"], [\"/matches/1820015/live/pologne-i-liga-2024-2025-pogon-siedlce-stal-stalowa-wola\", 1820015, \"pologne\", \"i-liga\", \"2024-2025\", \"pogon-siedlce-stal-stalowa-wola\"], [\"/matches/1820017/live/pologne-i-liga-2024-2025-stal-rzeszow-chrobry-glogow\", 1820017, \"pologne\", \"i-liga\", \"2024-2025\", \"stal-rzeszow-chrobry-glogow\"], [\"/matches/1820019/live/pologne-i-liga-2024-2025-stal-stalowa-wola-odra-opole\", 1820019, \"pologne\", \"i-liga\", \"2024-2025\", \"stal-stalowa-wola-odra-opole\"], [\"/matches/1820021/live/pologne-i-liga-2024-2025-gks-tychy-pogon-siedlce\", 1820021, \"pologne\", \"i-liga\", \"2024-2025\", \"gks-tychy-pogon-siedlce\"], [\"/matches/1820023/live/pologne-i-liga-2024-2025-wisla-plock-termalica-nieciecza\", 1820023, \"pologne\", \"i-liga\", \"2024-2025\", \"wisla-plock-termalica-nieciecza\"], [\"/matches/1820025/live/pologne-i-liga-2024-2025-ruch-chorzow-wisla-plock\", 1820025, \"pologne\", \"i-liga\", \"2024-2025\", \"ruch-chorzow-wisla-plock\"], [\"/matches/1820027/live/pologne-i-liga-2024-2025-termalica-nieciecza-gks-tychy\", 1820027, \"pologne\", \"i-liga\", \"2024-2025\", \"termalica-nieciecza-gks-tychy\"], [\"/matches/1820044/live/pologne-i-liga-2024-2025-ruch-chorzow-wisla-krakow\", 1820044, \"pologne\", \"i-liga\", \"2024-2025\", \"ruch-chorzow-wisla-krakow\"], [\"/matches/1820045/live/pologne-i-liga-2024-2025-wisla-krakow-znicz-pruszkow\", 1820045, \"pologne\", \"i-liga\", \"2024-2025\", \"wisla-krakow-znicz-pruszkow\"], [\"/matches/1820046/live/pologne-i-liga-2024-2025-arka-gdynia-polonia-warszawa\", 1820046, \"pologne\", \"i-liga\", \"2024-2025\", \"arka-gdynia-polonia-warszawa\"], [\"/matches/1820047/live/pologne-i-liga-2024-2025-gornik-leczna-lks-lodz\", 1820047, \"pologne\", \"i-liga\", \"2024-2025\", \"gornik-leczna-lks-lodz\"], [\"/matches/1820048/live/pologne-i-liga-2024-2025-miedz-legnica-stal-rzeszow\", 1820048, \"pologne\", \"i-liga\", \"2024-2025\", \"miedz-legnica-stal-rzeszow\"], [\"/matches/1820049/live/pologne-i-liga-2024-2025-kotwica-kolobrzeg-stal-stalowa-wola\", 1820049, \"pologne\", \"i-liga\", \"2024-2025\", \"kotwica-kolobrzeg-stal-stalowa-wola\"], [\"/matches/1820050/live/pologne-i-liga-2024-2025-warta-poznan-gks-tychy\", 1820050, \"pologne\", \"i-liga\", \"2024-2025\", \"warta-poznan-gks-tychy\"], [\"/matches/1820051/live/pologne-i-liga-2024-2025-chrobry-glogow-wisla-plock\", 1820051, \"pologne\", \"i-liga\", \"2024-2025\", \"chrobry-glogow-wisla-plock\"], [\"/matches/1820052/live/pologne-i-liga-2024-2025-odra-opole-termalica-nieciecza\", 1820052, \"pologne\", \"i-liga\", \"2024-2025\", \"odra-opole-termalica-nieciecza\"], [\"/matches/1820053/live/pologne-i-liga-2024-2025-pogon-siedlce-ruch-chorzow\", 1820053, \"pologne\", \"i-liga\", \"2024-2025\", \"pogon-siedlce-ruch-chorzow\"], [\"/matches/1820054/live/pologne-i-liga-2024-2025-pogon-siedlce-odra-opole\", 1820054, \"pologne\", \"i-liga\", \"2024-2025\", \"pogon-siedlce-odra-opole\"], [\"/matches/1820055/live/pologne-i-liga-2024-2025-termalica-nieciecza-chrobry-glogow\", 1820055, \"pologne\", \"i-liga\", \"2024-2025\", \"termalica-nieciecza-chrobry-glogow\"], [\"/matches/1820056/live/pologne-i-liga-2024-2025-wisla-plock-warta-poznan\", 1820056, \"pologne\", \"i-liga\", \"2024-2025\", \"wisla-plock-warta-poznan\"], [\"/matches/1820057/live/pologne-i-liga-2024-2025-znicz-pruszkow-arka-gdynia\", 1820057, \"pologne\", \"i-liga\", \"2024-2025\", \"znicz-pruszkow-arka-gdynia\"], [\"/matches/1820058/live/pologne-i-liga-2024-2025-polonia-warszawa-gornik-leczna\", 1820058, \"pologne\", \"i-liga\", \"2024-2025\", \"polonia-warszawa-gornik-leczna\"], [\"/matches/1820059/live/pologne-i-liga-2024-2025-lks-lodz-miedz-legnica\", 1820059, \"pologne\", \"i-liga\", \"2024-2025\", \"lks-lodz-miedz-legnica\"], [\"/matches/1820060/live/pologne-i-liga-2024-2025-stal-rzeszow-kotwica-kolobrzeg\", 1820060, \"pologne\", \"i-liga\", \"2024-2025\", \"stal-rzeszow-kotwica-kolobrzeg\"], [\"/matches/1820061/live/pologne-i-liga-2024-2025-stal-stalowa-wola-warta-poznan\", 1820061, \"pologne\", \"i-liga\", \"2024-2025\", \"stal-stalowa-wola-warta-poznan\"], [\"/matches/1820062/live/pologne-i-liga-2024-2025-gks-tychy-chrobry-glogow\", 1820062, \"pologne\", \"i-liga\", \"2024-2025\", \"gks-tychy-chrobry-glogow\"], [\"/matches/1820063/live/pologne-i-liga-2024-2025-wisla-plock-odra-opole\", 1820063, \"pologne\", \"i-liga\", \"2024-2025\", \"wisla-plock-odra-opole\"], [\"/matches/1820064/live/pologne-i-liga-2024-2025-termalica-nieciecza-pogon-siedlce\", 1820064, \"pologne\", \"i-liga\", \"2024-2025\", \"termalica-nieciecza-pogon-siedlce\"], [\"/matches/1820065/live/pologne-i-liga-2024-2025-ruch-chorzow-termalica-nieciecza\", 1820065, \"pologne\", \"i-liga\", \"2024-2025\", \"ruch-chorzow-termalica-nieciecza\"], [\"/matches/1820066/live/pologne-i-liga-2024-2025-znicz-pruszkow-warta-poznan\", 1820066, \"pologne\", \"i-liga\", \"2024-2025\", \"znicz-pruszkow-warta-poznan\"], [\"/matches/1820068/live/pologne-i-liga-2024-2025-chrobry-glogow-lks-lodz\", 1820068, \"pologne\", \"i-liga\", \"2024-2025\", \"chrobry-glogow-lks-lodz\"], [\"/matches/1820069/live/pologne-i-liga-2024-2025-warta-poznan-polonia-warszawa\", 1820069, \"pologne\", \"i-liga\", \"2024-2025\", \"warta-poznan-polonia-warszawa\"], [\"/matches/1820070/live/pologne-i-liga-2024-2025-polonia-warszawa-chrobry-glogow\", 1820070, \"pologne\", \"i-liga\", \"2024-2025\", \"polonia-warszawa-chrobry-glogow\"], [\"/matches/1820071/live/pologne-i-liga-2024-2025-lks-lodz-odra-opole\", 1820071, \"pologne\", \"i-liga\", \"2024-2025\", \"lks-lodz-odra-opole\"], [\"/matches/1820074/live/pologne-i-liga-2024-2025-znicz-pruszkow-miedz-legnica\", 1820074, \"pologne\", \"i-liga\", \"2024-2025\", \"znicz-pruszkow-miedz-legnica\"], [\"/matches/1820075/live/pologne-i-liga-2024-2025-odra-opole-gks-tychy\", 1820075, \"pologne\", \"i-liga\", \"2024-2025\", \"odra-opole-gks-tychy\"], [\"/matches/1820076/live/pologne-i-liga-2024-2025-chrobry-glogow-stal-stalowa-wola\", 1820076, \"pologne\", \"i-liga\", \"2024-2025\", \"chrobry-glogow-stal-stalowa-wola\"], [\"/matches/1820077/live/pologne-i-liga-2024-2025-warta-poznan-stal-rzeszow\", 1820077, \"pologne\", \"i-liga\", \"2024-2025\", \"warta-poznan-stal-rzeszow\"], [\"/matches/1820078/live/pologne-i-liga-2024-2025-kotwica-kolobrzeg-lks-lodz\", 1820078, \"pologne\", \"i-liga\", \"2024-2025\", \"kotwica-kolobrzeg-lks-lodz\"], [\"/matches/1820079/live/pologne-i-liga-2024-2025-miedz-legnica-polonia-warszawa\", 1820079, \"pologne\", \"i-liga\", \"2024-2025\", \"miedz-legnica-polonia-warszawa\"], [\"/matches/1820080/live/pologne-i-liga-2024-2025-gornik-leczna-znicz-pruszkow\", 1820080, \"pologne\", \"i-liga\", \"2024-2025\", \"gornik-leczna-znicz-pruszkow\"], [\"/matches/1820081/live/pologne-i-liga-2024-2025-arka-gdynia-wisla-krakow\", 1820081, \"pologne\", \"i-liga\", \"2024-2025\", \"arka-gdynia-wisla-krakow\"], [\"/matches/1820082/live/pologne-i-liga-2024-2025-ruch-chorzow-arka-gdynia\", 1820082, \"pologne\", \"i-liga\", \"2024-2025\", \"ruch-chorzow-arka-gdynia\"], [\"/matches/1820083/live/pologne-i-liga-2024-2025-wisla-krakow-gornik-leczna\", 1820083, \"pologne\", \"i-liga\", \"2024-2025\", \"wisla-krakow-gornik-leczna\"], [\"/matches/1820084/live/pologne-i-liga-2024-2025-pogon-siedlce-wisla-plock\", 1820084, \"pologne\", \"i-liga\", \"2024-2025\", \"pogon-siedlce-wisla-plock\"], [\"/matches/1820085/live/pologne-i-liga-2024-2025-polonia-warszawa-kotwica-kolobrzeg\", 1820085, \"pologne\", \"i-liga\", \"2024-2025\", \"polonia-warszawa-kotwica-kolobrzeg\"], [\"/matches/1820086/live/pologne-i-liga-2024-2025-lks-lodz-warta-poznan\", 1820086, \"pologne\", \"i-liga\", \"2024-2025\", \"lks-lodz-warta-poznan\"], [\"/matches/1820137/live/bulgarie-a-pfg-2024-2025-cherno-more-varna-cska-1948\", 1820137, \"bulgarie\", \"a-pfg\", \"2024-2025\", \"cherno-more-varna-cska-1948\"], [\"/matches/1820138/live/bulgarie-a-pfg-2024-2025-septemvri-sofia-beroe\", 1820138, \"bulgarie\", \"a-pfg\", \"2024-2025\", \"septemvri-sofia-beroe\"], [\"/matches/1820139/live/bulgarie-a-pfg-2024-2025-pfc-lokomotiv-sofia-1929-levski-sofia\", 1820139, \"bulgarie\", \"a-pfg\", \"2024-2025\", \"pfc-lokomotiv-sofia-1929-levski-sofia\"], [\"/matches/1820140/live/bulgarie-a-pfg-2024-2025-botev-vratsa-botev-plovdiv\", 1820140, \"bulgarie\", \"a-pfg\", \"2024-2025\", \"botev-vratsa-botev-plovdiv\"], [\"/matches/1820141/live/bulgarie-a-pfg-2024-2025-lokomotiv-plovdiv-arda-kardzhali\", 1820141, \"bulgarie\", \"a-pfg\", \"2024-2025\", \"lokomotiv-plovdiv-arda-kardzhali\"], [\"/matches/1820142/live/bulgarie-a-pfg-2024-2025-krumovgrad-slavia-sofia\", 1820142, \"bulgarie\", \"a-pfg\", \"2024-2025\", \"krumovgrad-slavia-sofia\"], [\"/matches/1820143/live/bulgarie-a-pfg-2024-2025-ludogorets-razgrad-cska-sofia\", 1820143, \"bulgarie\", \"a-pfg\", \"2024-2025\", \"ludogorets-razgrad-cska-sofia\"], [\"/matches/1820144/live/bulgarie-a-pfg-2024-2025-hebar-spartak-varna\", 1820144, \"bulgarie\", \"a-pfg\", \"2024-2025\", \"hebar-spartak-varna\"], [\"/matches/1820145/live/bulgarie-a-pfg-2024-2025-cska-1948-spartak-varna\", 1820145, \"bulgarie\", \"a-pfg\", \"2024-2025\", \"cska-1948-spartak-varna\"], [\"/matches/1820146/live/bulgarie-a-pfg-2024-2025-cska-sofia-hebar\", 1820146, \"bulgarie\", \"a-pfg\", \"2024-2025\", \"cska-sofia-hebar\"], [\"/matches/1820147/live/bulgarie-a-pfg-2024-2025-septemvri-sofia-cska-1948\", 1820147, \"bulgarie\", \"a-pfg\", \"2024-2025\", \"septemvri-sofia-cska-1948\"], [\"/matches/1820148/live/bulgarie-a-pfg-2024-2025-slavia-sofia-ludogorets-razgrad\", 1820148, \"bulgarie\", \"a-pfg\", \"2024-2025\", \"slavia-sofia-ludogorets-razgrad\"], [\"/matches/1820149/live/bulgarie-a-pfg-2024-2025-pfc-lokomotiv-sofia-1929-cherno-more-varna\", 1820149, \"bulgarie\", \"a-pfg\", \"2024-2025\", \"pfc-lokomotiv-sofia-1929-cherno-more-varna\"], [\"/matches/1820150/live/bulgarie-a-pfg-2024-2025-botev-vratsa-beroe\", 1820150, \"bulgarie\", \"a-pfg\", \"2024-2025\", \"botev-vratsa-beroe\"], [\"/matches/1820151/live/bulgarie-a-pfg-2024-2025-arda-kardzhali-krumovgrad\", 1820151, \"bulgarie\", \"a-pfg\", \"2024-2025\", \"arda-kardzhali-krumovgrad\"], [\"/matches/1820152/live/bulgarie-a-pfg-2024-2025-lokomotiv-plovdiv-levski-sofia\", 1820152, \"bulgarie\", \"a-pfg\", \"2024-2025\", \"lokomotiv-plovdiv-levski-sofia\"], [\"/matches/1820153/live/bulgarie-a-pfg-2024-2025-botev-plovdiv-lokomotiv-plovdiv\", 1820153, \"bulgarie\", \"a-pfg\", \"2024-2025\", \"botev-plovdiv-lokomotiv-plovdiv\"], [\"/matches/1820154/live/bulgarie-a-pfg-2024-2025-ludogorets-razgrad-arda-kardzhali\", 1820154, \"bulgarie\", \"a-pfg\", \"2024-2025\", \"ludogorets-razgrad-arda-kardzhali\"], [\"/matches/1820155/live/bulgarie-a-pfg-2024-2025-levski-sofia-botev-vratsa\", 1820155, \"bulgarie\", \"a-pfg\", \"2024-2025\", \"levski-sofia-botev-vratsa\"], [\"/matches/1820156/live/bulgarie-a-pfg-2024-2025-hebar-slavia-sofia\", 1820156, \"bulgarie\", \"a-pfg\", \"2024-2025\", \"hebar-slavia-sofia\"], [\"/matches/1820157/live/bulgarie-a-pfg-2024-2025-beroe-pfc-lokomotiv-sofia-1929\", 1820157, \"bulgarie\", \"a-pfg\", \"2024-2025\", \"beroe-pfc-lokomotiv-sofia-1929\"], [\"/matches/1820158/live/bulgarie-a-pfg-2024-2025-spartak-varna-cska-sofia\", 1820158, \"bulgarie\", \"a-pfg\", \"2024-2025\", \"spartak-varna-cska-sofia\"], [\"/matches/1820159/live/bulgarie-a-pfg-2024-2025-cherno-more-varna-septemvri-sofia\", 1820159, \"bulgarie\", \"a-pfg\", \"2024-2025\", \"cherno-more-varna-septemvri-sofia\"], [\"/matches/1820160/live/bulgarie-a-pfg-2024-2025-cska-1948-cska-sofia\", 1820160, \"bulgarie\", \"a-pfg\", \"2024-2025\", \"cska-1948-cska-sofia\"], [\"/matches/1820161/live/bulgarie-a-pfg-2024-2025-slavia-sofia-spartak-varna\", 1820161, \"bulgarie\", \"a-pfg\", \"2024-2025\", \"slavia-sofia-spartak-varna\"], [\"/matches/1820162/live/bulgarie-a-pfg-2024-2025-arda-kardzhali-hebar\", 1820162, \"bulgarie\", \"a-pfg\", \"2024-2025\", \"arda-kardzhali-hebar\"], [\"/matches/1820163/live/bulgarie-a-pfg-2024-2025-botev-plovdiv-ludogorets-razgrad\", 1820163, \"bulgarie\", \"a-pfg\", \"2024-2025\", \"botev-plovdiv-ludogorets-razgrad\"], [\"/matches/1820164/live/bulgarie-a-pfg-2024-2025-levski-sofia-krumovgrad\", 1820164, \"bulgarie\", \"a-pfg\", \"2024-2025\", \"levski-sofia-krumovgrad\"], [\"/matches/1820165/live/bulgarie-a-pfg-2024-2025-beroe-lokomotiv-plovdiv\", 1820165, \"bulgarie\", \"a-pfg\", \"2024-2025\", \"beroe-lokomotiv-plovdiv\"], [\"/matches/1820166/live/bulgarie-a-pfg-2024-2025-krumovgrad-botev-plovdiv\", 1820166, \"bulgarie\", \"a-pfg\", \"2024-2025\", \"krumovgrad-botev-plovdiv\"], [\"/matches/1820167/live/bulgarie-a-pfg-2024-2025-cherno-more-varna-botev-vratsa\", 1820167, \"bulgarie\", \"a-pfg\", \"2024-2025\", \"cherno-more-varna-botev-vratsa\"], [\"/matches/1820168/live/bulgarie-a-pfg-2024-2025-septemvri-sofia-pfc-lokomotiv-sofia-1929\", 1820168, \"bulgarie\", \"a-pfg\", \"2024-2025\", \"septemvri-sofia-pfc-lokomotiv-sofia-1929\"], [\"/matches/1820169/live/bulgarie-a-pfg-2024-2025-pfc-lokomotiv-sofia-1929-cska-1948\", 1820169, \"bulgarie\", \"a-pfg\", \"2024-2025\", \"pfc-lokomotiv-sofia-1929-cska-1948\"], [\"/matches/1820170/live/bulgarie-a-pfg-2024-2025-botev-vratsa-septemvri-sofia\", 1820170, \"bulgarie\", \"a-pfg\", \"2024-2025\", \"botev-vratsa-septemvri-sofia\"], [\"/matches/1820171/live/bulgarie-a-pfg-2024-2025-lokomotiv-plovdiv-cherno-more-varna\", 1820171, \"bulgarie\", \"a-pfg\", \"2024-2025\", \"lokomotiv-plovdiv-cherno-more-varna\"], [\"/matches/1820172/live/bulgarie-a-pfg-2024-2025-krumovgrad-beroe\", 1820172, \"bulgarie\", \"a-pfg\", \"2024-2025\", \"krumovgrad-beroe\"], [\"/matches/1820173/live/bulgarie-a-pfg-2024-2025-ludogorets-razgrad-levski-sofia\", 1820173, \"bulgarie\", \"a-pfg\", \"2024-2025\", \"ludogorets-razgrad-levski-sofia\"], [\"/matches/1820174/live/bulgarie-a-pfg-2024-2025-hebar-botev-plovdiv\", 1820174, \"bulgarie\", \"a-pfg\", \"2024-2025\", \"hebar-botev-plovdiv\"], [\"/matches/1820175/live/bulgarie-a-pfg-2024-2025-spartak-varna-arda-kardzhali\", 1820175, \"bulgarie\", \"a-pfg\", \"2024-2025\", \"spartak-varna-arda-kardzhali\"], [\"/matches/1820176/live/bulgarie-a-pfg-2024-2025-cska-sofia-slavia-sofia\", 1820176, \"bulgarie\", \"a-pfg\", \"2024-2025\", \"cska-sofia-slavia-sofia\"], [\"/matches/1820177/live/bulgarie-a-pfg-2024-2025-cska-1948-slavia-sofia\", 1820177, \"bulgarie\", \"a-pfg\", \"2024-2025\", \"cska-1948-slavia-sofia\"], [\"/matches/1820178/live/bulgarie-a-pfg-2024-2025-arda-kardzhali-cska-sofia\", 1820178, \"bulgarie\", \"a-pfg\", \"2024-2025\", \"arda-kardzhali-cska-sofia\"], [\"/matches/1820179/live/bulgarie-a-pfg-2024-2025-botev-plovdiv-spartak-varna\", 1820179, \"bulgarie\", \"a-pfg\", \"2024-2025\", \"botev-plovdiv-spartak-varna\"], [\"/matches/1820180/live/bulgarie-a-pfg-2024-2025-beroe-ludogorets-razgrad\", 1820180, \"bulgarie\", \"a-pfg\", \"2024-2025\", \"beroe-ludogorets-razgrad\"], [\"/matches/1820181/live/bulgarie-a-pfg-2024-2025-cherno-more-varna-krumovgrad\", 1820181, \"bulgarie\", \"a-pfg\", \"2024-2025\", \"cherno-more-varna-krumovgrad\"], [\"/matches/1820182/live/bulgarie-a-pfg-2024-2025-levski-sofia-hebar\", 1820182, \"bulgarie\", \"a-pfg\", \"2024-2025\", \"levski-sofia-hebar\"], [\"/matches/1820183/live/bulgarie-a-pfg-2024-2025-septemvri-sofia-lokomotiv-plovdiv\", 1820183, \"bulgarie\", \"a-pfg\", \"2024-2025\", \"septemvri-sofia-lokomotiv-plovdiv\"], [\"/matches/1820184/live/bulgarie-a-pfg-2024-2025-pfc-lokomotiv-sofia-1929-botev-vratsa\", 1820184, \"bulgarie\", \"a-pfg\", \"2024-2025\", \"pfc-lokomotiv-sofia-1929-botev-vratsa\"], [\"/matches/1820185/live/bulgarie-a-pfg-2024-2025-cska-sofia-botev-plovdiv\", 1820185, \"bulgarie\", \"a-pfg\", \"2024-2025\", \"cska-sofia-botev-plovdiv\"], [\"/matches/1820186/live/bulgarie-a-pfg-2024-2025-cherno-more-varna-hebar\", 1820186, \"bulgarie\", \"a-pfg\", \"2024-2025\", \"cherno-more-varna-hebar\"], [\"/matches/1820187/live/bulgarie-a-pfg-2024-2025-spartak-varna-cherno-more-varna\", 1820187, \"bulgarie\", \"a-pfg\", \"2024-2025\", \"spartak-varna-cherno-more-varna\"], [\"/matches/1820188/live/bulgarie-a-pfg-2024-2025-botev-vratsa-cska-1948\", 1820188, \"bulgarie\", \"a-pfg\", \"2024-2025\", \"botev-vratsa-cska-1948\"], [\"/matches/1820189/live/bulgarie-a-pfg-2024-2025-lokomotiv-plovdiv-pfc-lokomotiv-sofia-1929\", 1820189, \"bulgarie\", \"a-pfg\", \"2024-2025\", \"lokomotiv-plovdiv-pfc-lokomotiv-sofia-1929\"], [\"/matches/1820190/live/bulgarie-a-pfg-2024-2025-krumovgrad-septemvri-sofia\", 1820190, \"bulgarie\", \"a-pfg\", \"2024-2025\", \"krumovgrad-septemvri-sofia\"], [\"/matches/1820191/live/bulgarie-a-pfg-2024-2025-ludogorets-razgrad-cherno-more-varna\", 1820191, \"bulgarie\", \"a-pfg\", \"2024-2025\", \"ludogorets-razgrad-cherno-more-varna\"], [\"/matches/1820192/live/bulgarie-a-pfg-2024-2025-hebar-beroe\", 1820192, \"bulgarie\", \"a-pfg\", \"2024-2025\", \"hebar-beroe\"], [\"/matches/1820193/live/bulgarie-a-pfg-2024-2025-spartak-varna-levski-sofia\", 1820193, \"bulgarie\", \"a-pfg\", \"2024-2025\", \"spartak-varna-levski-sofia\"], [\"/matches/1820194/live/bulgarie-a-pfg-2024-2025-slavia-sofia-arda-kardzhali\", 1820194, \"bulgarie\", \"a-pfg\", \"2024-2025\", \"slavia-sofia-arda-kardzhali\"], [\"/matches/1820195/live/bulgarie-a-pfg-2024-2025-cska-1948-arda-kardzhali\", 1820195, \"bulgarie\", \"a-pfg\", \"2024-2025\", \"cska-1948-arda-kardzhali\"], [\"/matches/1820196/live/bulgarie-a-pfg-2024-2025-botev-plovdiv-slavia-sofia\", 1820196, \"bulgarie\", \"a-pfg\", \"2024-2025\", \"botev-plovdiv-slavia-sofia\"], [\"/matches/1820197/live/bulgarie-a-pfg-2024-2025-levski-sofia-cska-sofia\", 1820197, \"bulgarie\", \"a-pfg\", \"2024-2025\", \"levski-sofia-cska-sofia\"], [\"/matches/1820198/live/bulgarie-a-pfg-2024-2025-beroe-spartak-varna\", 1820198, \"bulgarie\", \"a-pfg\", \"2024-2025\", \"beroe-spartak-varna\"], [\"/matches/1820199/live/bulgarie-a-pfg-2024-2025-septemvri-sofia-ludogorets-razgrad\", 1820199, \"bulgarie\", \"a-pfg\", \"2024-2025\", \"septemvri-sofia-ludogorets-razgrad\"], [\"/matches/1820200/live/bulgarie-a-pfg-2024-2025-pfc-lokomotiv-sofia-1929-krumovgrad\", 1820200, \"bulgarie\", \"a-pfg\", \"2024-2025\", \"pfc-lokomotiv-sofia-1929-krumovgrad\"], [\"/matches/1820201/live/bulgarie-a-pfg-2024-2025-botev-vratsa-lokomotiv-plovdiv\", 1820201, \"bulgarie\", \"a-pfg\", \"2024-2025\", \"botev-vratsa-lokomotiv-plovdiv\"], [\"/matches/1820202/live/bulgarie-a-pfg-2024-2025-lokomotiv-plovdiv-cska-1948\", 1820202, \"bulgarie\", \"a-pfg\", \"2024-2025\", \"lokomotiv-plovdiv-cska-1948\"], [\"/matches/1820203/live/bulgarie-a-pfg-2024-2025-krumovgrad-botev-vratsa\", 1820203, \"bulgarie\", \"a-pfg\", \"2024-2025\", \"krumovgrad-botev-vratsa\"], [\"/matches/1820204/live/bulgarie-a-pfg-2024-2025-ludogorets-razgrad-pfc-lokomotiv-sofia-1929\", 1820204, \"bulgarie\", \"a-pfg\", \"2024-2025\", \"ludogorets-razgrad-pfc-lokomotiv-sofia-1929\"], [\"/matches/1820205/live/bulgarie-a-pfg-2024-2025-hebar-septemvri-sofia\", 1820205, \"bulgarie\", \"a-pfg\", \"2024-2025\", \"hebar-septemvri-sofia\"], [\"/matches/1820206/live/bulgarie-a-pfg-2024-2025-cska-sofia-beroe\", 1820206, \"bulgarie\", \"a-pfg\", \"2024-2025\", \"cska-sofia-beroe\"], [\"/matches/1820207/live/bulgarie-a-pfg-2024-2025-slavia-sofia-levski-sofia\", 1820207, \"bulgarie\", \"a-pfg\", \"2024-2025\", \"slavia-sofia-levski-sofia\"], [\"/matches/1820208/live/bulgarie-a-pfg-2024-2025-arda-kardzhali-botev-plovdiv\", 1820208, \"bulgarie\", \"a-pfg\", \"2024-2025\", \"arda-kardzhali-botev-plovdiv\"], [\"/matches/1820209/live/bulgarie-a-pfg-2024-2025-cska-1948-botev-plovdiv\", 1820209, \"bulgarie\", \"a-pfg\", \"2024-2025\", \"cska-1948-botev-plovdiv\"], [\"/matches/1820210/live/bulgarie-a-pfg-2024-2025-levski-sofia-arda-kardzhali\", 1820210, \"bulgarie\", \"a-pfg\", \"2024-2025\", \"levski-sofia-arda-kardzhali\"], [\"/matches/1820211/live/bulgarie-a-pfg-2024-2025-beroe-slavia-sofia\", 1820211, \"bulgarie\", \"a-pfg\", \"2024-2025\", \"beroe-slavia-sofia\"], [\"/matches/1820212/live/bulgarie-a-pfg-2024-2025-cherno-more-varna-cska-sofia\", 1820212, \"bulgarie\", \"a-pfg\", \"2024-2025\", \"cherno-more-varna-cska-sofia\"], [\"/matches/1820213/live/bulgarie-a-pfg-2024-2025-septemvri-sofia-spartak-varna\", 1820213, \"bulgarie\", \"a-pfg\", \"2024-2025\", \"septemvri-sofia-spartak-varna\"], [\"/matches/1820214/live/bulgarie-a-pfg-2024-2025-pfc-lokomotiv-sofia-1929-hebar\", 1820214, \"bulgarie\", \"a-pfg\", \"2024-2025\", \"pfc-lokomotiv-sofia-1929-hebar\"], [\"/matches/1820215/live/bulgarie-a-pfg-2024-2025-botev-vratsa-ludogorets-razgrad\", 1820215, \"bulgarie\", \"a-pfg\", \"2024-2025\", \"botev-vratsa-ludogorets-razgrad\"], [\"/matches/1820216/live/bulgarie-a-pfg-2024-2025-lokomotiv-plovdiv-krumovgrad\", 1820216, \"bulgarie\", \"a-pfg\", \"2024-2025\", \"lokomotiv-plovdiv-krumovgrad\"], [\"/matches/1820217/live/bulgarie-a-pfg-2024-2025-krumovgrad-cska-1948\", 1820217, \"bulgarie\", \"a-pfg\", \"2024-2025\", \"krumovgrad-cska-1948\"], [\"/matches/1820218/live/bulgarie-a-pfg-2024-2025-ludogorets-razgrad-lokomotiv-plovdiv\", 1820218, \"bulgarie\", \"a-pfg\", \"2024-2025\", \"ludogorets-razgrad-lokomotiv-plovdiv\"], [\"/matches/1820219/live/bulgarie-a-pfg-2024-2025-hebar-botev-vratsa\", 1820219, \"bulgarie\", \"a-pfg\", \"2024-2025\", \"hebar-botev-vratsa\"], [\"/matches/1820220/live/bulgarie-a-pfg-2024-2025-spartak-varna-pfc-lokomotiv-sofia-1929\", 1820220, \"bulgarie\", \"a-pfg\", \"2024-2025\", \"spartak-varna-pfc-lokomotiv-sofia-1929\"], [\"/matches/1820221/live/bulgarie-a-pfg-2024-2025-cska-sofia-septemvri-sofia\", 1820221, \"bulgarie\", \"a-pfg\", \"2024-2025\", \"cska-sofia-septemvri-sofia\"], [\"/matches/1820222/live/bulgarie-a-pfg-2024-2025-slavia-sofia-cherno-more-varna\", 1820222, \"bulgarie\", \"a-pfg\", \"2024-2025\", \"slavia-sofia-cherno-more-varna\"], [\"/matches/1820223/live/bulgarie-a-pfg-2024-2025-arda-kardzhali-beroe\", 1820223, \"bulgarie\", \"a-pfg\", \"2024-2025\", \"arda-kardzhali-beroe\"], [\"/matches/1820224/live/bulgarie-a-pfg-2024-2025-botev-plovdiv-levski-sofia\", 1820224, \"bulgarie\", \"a-pfg\", \"2024-2025\", \"botev-plovdiv-levski-sofia\"], [\"/matches/1820225/live/bulgarie-a-pfg-2024-2025-pfc-lokomotiv-sofia-1929-ludogorets-razgrad\", 1820225, \"bulgarie\", \"a-pfg\", \"2024-2025\", \"pfc-lokomotiv-sofia-1929-ludogorets-razgrad\"], [\"/matches/1820226/live/bulgarie-a-pfg-2024-2025-cska-1948-lokomotiv-plovdiv\", 1820226, \"bulgarie\", \"a-pfg\", \"2024-2025\", \"cska-1948-lokomotiv-plovdiv\"], [\"/matches/1820227/live/bulgarie-a-pfg-2024-2025-cska-1948-levski-sofia\", 1820227, \"bulgarie\", \"a-pfg\", \"2024-2025\", \"cska-1948-levski-sofia\"], [\"/matches/1820228/live/bulgarie-a-pfg-2024-2025-septemvri-sofia-hebar\", 1820228, \"bulgarie\", \"a-pfg\", \"2024-2025\", \"septemvri-sofia-hebar\"], [\"/matches/1820229/live/bulgarie-a-pfg-2024-2025-botev-vratsa-krumovgrad\", 1820229, \"bulgarie\", \"a-pfg\", \"2024-2025\", \"botev-vratsa-krumovgrad\"], [\"/matches/1820230/live/bulgarie-a-pfg-2024-2025-slavia-sofia-lokomotiv-plovdiv\", 1820230, \"bulgarie\", \"a-pfg\", \"2024-2025\", \"slavia-sofia-lokomotiv-plovdiv\"], [\"/matches/1820231/live/bulgarie-a-pfg-2024-2025-beroe-botev-plovdiv\", 1820231, \"bulgarie\", \"a-pfg\", \"2024-2025\", \"beroe-botev-plovdiv\"], [\"/matches/1820232/live/bulgarie-a-pfg-2024-2025-pfc-lokomotiv-sofia-1929-septemvri-sofia\", 1820232, \"bulgarie\", \"a-pfg\", \"2024-2025\", \"pfc-lokomotiv-sofia-1929-septemvri-sofia\"], [\"/matches/1820233/live/bulgarie-a-pfg-2024-2025-arda-kardzhali-botev-vratsa\", 1820233, \"bulgarie\", \"a-pfg\", \"2024-2025\", \"arda-kardzhali-botev-vratsa\"], [\"/matches/1820234/live/bulgarie-a-pfg-2024-2025-cherno-more-varna-arda-kardzhali\", 1820234, \"bulgarie\", \"a-pfg\", \"2024-2025\", \"cherno-more-varna-arda-kardzhali\"], [\"/matches/1820235/live/bulgarie-a-pfg-2024-2025-cska-1948-pfc-lokomotiv-sofia-1929\", 1820235, \"bulgarie\", \"a-pfg\", \"2024-2025\", \"cska-1948-pfc-lokomotiv-sofia-1929\"], [\"/matches/1820236/live/bulgarie-a-pfg-2024-2025-septemvri-sofia-botev-vratsa\", 1820236, \"bulgarie\", \"a-pfg\", \"2024-2025\", \"septemvri-sofia-botev-vratsa\"], [\"/matches/1820237/live/bulgarie-a-pfg-2024-2025-septemvri-sofia-slavia-sofia\", 1820237, \"bulgarie\", \"a-pfg\", \"2024-2025\", \"septemvri-sofia-slavia-sofia\"], [\"/matches/1820238/live/bulgarie-a-pfg-2024-2025-botev-plovdiv-pfc-lokomotiv-sofia-1929\", 1820238, \"bulgarie\", \"a-pfg\", \"2024-2025\", \"botev-plovdiv-pfc-lokomotiv-sofia-1929\"], [\"/matches/1820239/live/bulgarie-a-pfg-2024-2025-cherno-more-varna-lokomotiv-plovdiv\", 1820239, \"bulgarie\", \"a-pfg\", \"2024-2025\", \"cherno-more-varna-lokomotiv-plovdiv\"], [\"/matches/1820240/live/bulgarie-a-pfg-2024-2025-pfc-lokomotiv-sofia-1929-cska-sofia\", 1820240, \"bulgarie\", \"a-pfg\", \"2024-2025\", \"pfc-lokomotiv-sofia-1929-cska-sofia\"], [\"/matches/1820241/live/bulgarie-a-pfg-2024-2025-levski-sofia-septemvri-sofia\", 1820241, \"bulgarie\", \"a-pfg\", \"2024-2025\", \"levski-sofia-septemvri-sofia\"], [\"/matches/1820242/live/bulgarie-a-pfg-2024-2025-botev-vratsa-spartak-varna\", 1820242, \"bulgarie\", \"a-pfg\", \"2024-2025\", \"botev-vratsa-spartak-varna\"], [\"/matches/1820243/live/bulgarie-a-pfg-2024-2025-beroe-krumovgrad\", 1820243, \"bulgarie\", \"a-pfg\", \"2024-2025\", \"beroe-krumovgrad\"], [\"/matches/1820244/live/bulgarie-a-pfg-2024-2025-lokomotiv-plovdiv-hebar\", 1820244, \"bulgarie\", \"a-pfg\", \"2024-2025\", \"lokomotiv-plovdiv-hebar\"], [\"/matches/1820245/live/bulgarie-a-pfg-2024-2025-beroe-cherno-more-varna\", 1820245, \"bulgarie\", \"a-pfg\", \"2024-2025\", \"beroe-cherno-more-varna\"], [\"/matches/1820246/live/bulgarie-a-pfg-2024-2025-levski-sofia-ludogorets-razgrad\", 1820246, \"bulgarie\", \"a-pfg\", \"2024-2025\", \"levski-sofia-ludogorets-razgrad\"], [\"/matches/1820247/live/bulgarie-a-pfg-2024-2025-krumovgrad-ludogorets-razgrad\", 1820247, \"bulgarie\", \"a-pfg\", \"2024-2025\", \"krumovgrad-ludogorets-razgrad\"], [\"/matches/1820248/live/bulgarie-a-pfg-2024-2025-cska-1948-cherno-more-varna\", 1820248, \"bulgarie\", \"a-pfg\", \"2024-2025\", \"cska-1948-cherno-more-varna\"], [\"/matches/1820249/live/bulgarie-a-pfg-2024-2025-ludogorets-razgrad-cska-1948\", 1820249, \"bulgarie\", \"a-pfg\", \"2024-2025\", \"ludogorets-razgrad-cska-1948\"], [\"/matches/1820250/live/bulgarie-a-pfg-2024-2025-beroe-septemvri-sofia\", 1820250, \"bulgarie\", \"a-pfg\", \"2024-2025\", \"beroe-septemvri-sofia\"], [\"/matches/1820251/live/bulgarie-a-pfg-2024-2025-hebar-krumovgrad\", 1820251, \"bulgarie\", \"a-pfg\", \"2024-2025\", \"hebar-krumovgrad\"], [\"/matches/1820252/live/bulgarie-a-pfg-2024-2025-botev-plovdiv-hebar\", 1820252, \"bulgarie\", \"a-pfg\", \"2024-2025\", \"botev-plovdiv-hebar\"], [\"/matches/1820253/live/bulgarie-a-pfg-2024-2025-levski-sofia-pfc-lokomotiv-sofia-1929\", 1820253, \"bulgarie\", \"a-pfg\", \"2024-2025\", \"levski-sofia-pfc-lokomotiv-sofia-1929\"], [\"/matches/1820254/live/bulgarie-a-pfg-2024-2025-arda-kardzhali-spartak-varna\", 1820254, \"bulgarie\", \"a-pfg\", \"2024-2025\", \"arda-kardzhali-spartak-varna\"], [\"/matches/1820255/live/bulgarie-a-pfg-2024-2025-spartak-varna-lokomotiv-plovdiv\", 1820255, \"bulgarie\", \"a-pfg\", \"2024-2025\", \"spartak-varna-lokomotiv-plovdiv\"], [\"/matches/1820256/live/bulgarie-a-pfg-2024-2025-slavia-sofia-cska-sofia\", 1820256, \"bulgarie\", \"a-pfg\", \"2024-2025\", \"slavia-sofia-cska-sofia\"], [\"/matches/1820257/live/bulgarie-a-pfg-2024-2025-botev-plovdiv-botev-vratsa\", 1820257, \"bulgarie\", \"a-pfg\", \"2024-2025\", \"botev-plovdiv-botev-vratsa\"], [\"/matches/1820258/live/bulgarie-a-pfg-2024-2025-cska-sofia-botev-vratsa\", 1820258, \"bulgarie\", \"a-pfg\", \"2024-2025\", \"cska-sofia-botev-vratsa\"], [\"/matches/1820259/live/bulgarie-a-pfg-2024-2025-arda-kardzhali-lokomotiv-plovdiv\", 1820259, \"bulgarie\", \"a-pfg\", \"2024-2025\", \"arda-kardzhali-lokomotiv-plovdiv\"], [\"/matches/1820260/live/bulgarie-a-pfg-2024-2025-slavia-sofia-pfc-lokomotiv-sofia-1929\", 1820260, \"bulgarie\", \"a-pfg\", \"2024-2025\", \"slavia-sofia-pfc-lokomotiv-sofia-1929\"], [\"/matches/1820261/live/bulgarie-a-pfg-2024-2025-slavia-sofia-krumovgrad\", 1820261, \"bulgarie\", \"a-pfg\", \"2024-2025\", \"slavia-sofia-krumovgrad\"], [\"/matches/1820262/live/bulgarie-a-pfg-2024-2025-arda-kardzhali-septemvri-sofia\", 1820262, \"bulgarie\", \"a-pfg\", \"2024-2025\", \"arda-kardzhali-septemvri-sofia\"], [\"/matches/1820263/live/bulgarie-a-pfg-2024-2025-cska-sofia-ludogorets-razgrad\", 1820263, \"bulgarie\", \"a-pfg\", \"2024-2025\", \"cska-sofia-ludogorets-razgrad\"], [\"/matches/1820264/live/bulgarie-a-pfg-2024-2025-botev-plovdiv-cherno-more-varna\", 1820264, \"bulgarie\", \"a-pfg\", \"2024-2025\", \"botev-plovdiv-cherno-more-varna\"], [\"/matches/1820265/live/bulgarie-a-pfg-2024-2025-spartak-varna-hebar\", 1820265, \"bulgarie\", \"a-pfg\", \"2024-2025\", \"spartak-varna-hebar\"], [\"/matches/1820266/live/bulgarie-a-pfg-2024-2025-levski-sofia-beroe\", 1820266, \"bulgarie\", \"a-pfg\", \"2024-2025\", \"levski-sofia-beroe\"], [\"/matches/1820267/live/bulgarie-a-pfg-2024-2025-spartak-varna-ludogorets-razgrad\", 1820267, \"bulgarie\", \"a-pfg\", \"2024-2025\", \"spartak-varna-ludogorets-razgrad\"], [\"/matches/1820268/live/bulgarie-a-pfg-2024-2025-hebar-cska-1948\", 1820268, \"bulgarie\", \"a-pfg\", \"2024-2025\", \"hebar-cska-1948\"], [\"/matches/1820269/live/bulgarie-a-pfg-2024-2025-ludogorets-razgrad-hebar\", 1820269, \"bulgarie\", \"a-pfg\", \"2024-2025\", \"ludogorets-razgrad-hebar\"], [\"/matches/1820270/live/bulgarie-a-pfg-2024-2025-krumovgrad-spartak-varna\", 1820270, \"bulgarie\", \"a-pfg\", \"2024-2025\", \"krumovgrad-spartak-varna\"], [\"/matches/1820271/live/bulgarie-a-pfg-2024-2025-lokomotiv-plovdiv-cska-sofia\", 1820271, \"bulgarie\", \"a-pfg\", \"2024-2025\", \"lokomotiv-plovdiv-cska-sofia\"], [\"/matches/1820272/live/bulgarie-a-pfg-2024-2025-botev-vratsa-slavia-sofia\", 1820272, \"bulgarie\", \"a-pfg\", \"2024-2025\", \"botev-vratsa-slavia-sofia\"], [\"/matches/1820281/live/bulgarie-a-pfg-2024-2025-septemvri-sofia-botev-plovdiv\", 1820281, \"bulgarie\", \"a-pfg\", \"2024-2025\", \"septemvri-sofia-botev-plovdiv\"], [\"/matches/1820282/live/bulgarie-a-pfg-2024-2025-cska-1948-beroe\", 1820282, \"bulgarie\", \"a-pfg\", \"2024-2025\", \"cska-1948-beroe\"], [\"/matches/1820283/live/bulgarie-a-pfg-2024-2025-pfc-lokomotiv-sofia-1929-arda-kardzhali\", 1820283, \"bulgarie\", \"a-pfg\", \"2024-2025\", \"pfc-lokomotiv-sofia-1929-arda-kardzhali\"], [\"/matches/1820284/live/bulgarie-a-pfg-2024-2025-cherno-more-varna-levski-sofia\", 1820284, \"bulgarie\", \"a-pfg\", \"2024-2025\", \"cherno-more-varna-levski-sofia\"], [\"/matches/1820301/live/bulgarie-a-pfg-2024-2025-krumovgrad-lokomotiv-plovdiv\", 1820301, \"bulgarie\", \"a-pfg\", \"2024-2025\", \"krumovgrad-lokomotiv-plovdiv\"], [\"/matches/1820302/live/bulgarie-a-pfg-2024-2025-ludogorets-razgrad-botev-vratsa\", 1820302, \"bulgarie\", \"a-pfg\", \"2024-2025\", \"ludogorets-razgrad-botev-vratsa\"], [\"/matches/1820303/live/bulgarie-a-pfg-2024-2025-hebar-pfc-lokomotiv-sofia-1929\", 1820303, \"bulgarie\", \"a-pfg\", \"2024-2025\", \"hebar-pfc-lokomotiv-sofia-1929\"], [\"/matches/1820304/live/bulgarie-a-pfg-2024-2025-spartak-varna-septemvri-sofia\", 1820304, \"bulgarie\", \"a-pfg\", \"2024-2025\", \"spartak-varna-septemvri-sofia\"], [\"/matches/1820305/live/bulgarie-a-pfg-2024-2025-slavia-sofia-beroe\", 1820305, \"bulgarie\", \"a-pfg\", \"2024-2025\", \"slavia-sofia-beroe\"], [\"/matches/1820306/live/bulgarie-a-pfg-2024-2025-cska-sofia-cherno-more-varna\", 1820306, \"bulgarie\", \"a-pfg\", \"2024-2025\", \"cska-sofia-cherno-more-varna\"], [\"/matches/1820307/live/bulgarie-a-pfg-2024-2025-arda-kardzhali-levski-sofia\", 1820307, \"bulgarie\", \"a-pfg\", \"2024-2025\", \"arda-kardzhali-levski-sofia\"], [\"/matches/1820308/live/bulgarie-a-pfg-2024-2025-botev-plovdiv-cska-1948\", 1820308, \"bulgarie\", \"a-pfg\", \"2024-2025\", \"botev-plovdiv-cska-1948\"], [\"/matches/1820312/live/bulgarie-a-pfg-2024-2025-slavia-sofia-septemvri-sofia\", 1820312, \"bulgarie\", \"a-pfg\", \"2024-2025\", \"slavia-sofia-septemvri-sofia\"], [\"/matches/1820314/live/bulgarie-a-pfg-2024-2025-spartak-varna-botev-vratsa\", 1820314, \"bulgarie\", \"a-pfg\", \"2024-2025\", \"spartak-varna-botev-vratsa\"], [\"/matches/1820317/live/bulgarie-a-pfg-2024-2025-levski-sofia-slavia-sofia\", 1820317, \"bulgarie\", \"a-pfg\", \"2024-2025\", \"levski-sofia-slavia-sofia\"], [\"/matches/1820318/live/bulgarie-a-pfg-2024-2025-cska-1948-krumovgrad\", 1820318, \"bulgarie\", \"a-pfg\", \"2024-2025\", \"cska-1948-krumovgrad\"], [\"/matches/1820319/live/bulgarie-a-pfg-2024-2025-beroe-cska-sofia\", 1820319, \"bulgarie\", \"a-pfg\", \"2024-2025\", \"beroe-cska-sofia\"], [\"/matches/1820320/live/bulgarie-a-pfg-2024-2025-botev-plovdiv-arda-kardzhali\", 1820320, \"bulgarie\", \"a-pfg\", \"2024-2025\", \"botev-plovdiv-arda-kardzhali\"], [\"/matches/1820321/live/bulgarie-a-pfg-2024-2025-lokomotiv-plovdiv-ludogorets-razgrad\", 1820321, \"bulgarie\", \"a-pfg\", \"2024-2025\", \"lokomotiv-plovdiv-ludogorets-razgrad\"], [\"/matches/1820322/live/bulgarie-a-pfg-2024-2025-botev-vratsa-hebar\", 1820322, \"bulgarie\", \"a-pfg\", \"2024-2025\", \"botev-vratsa-hebar\"], [\"/matches/1820323/live/bulgarie-a-pfg-2024-2025-pfc-lokomotiv-sofia-1929-spartak-varna\", 1820323, \"bulgarie\", \"a-pfg\", \"2024-2025\", \"pfc-lokomotiv-sofia-1929-spartak-varna\"], [\"/matches/1820324/live/bulgarie-a-pfg-2024-2025-septemvri-sofia-cska-sofia\", 1820324, \"bulgarie\", \"a-pfg\", \"2024-2025\", \"septemvri-sofia-cska-sofia\"], [\"/matches/1820325/live/bulgarie-a-pfg-2024-2025-cherno-more-varna-slavia-sofia\", 1820325, \"bulgarie\", \"a-pfg\", \"2024-2025\", \"cherno-more-varna-slavia-sofia\"], [\"/matches/1820326/live/bulgarie-a-pfg-2024-2025-beroe-arda-kardzhali\", 1820326, \"bulgarie\", \"a-pfg\", \"2024-2025\", \"beroe-arda-kardzhali\"], [\"/matches/1820327/live/bulgarie-a-pfg-2024-2025-levski-sofia-botev-plovdiv\", 1820327, \"bulgarie\", \"a-pfg\", \"2024-2025\", \"levski-sofia-botev-plovdiv\"], [\"/matches/1820328/live/bulgarie-a-pfg-2024-2025-cherno-more-varna-spartak-varna\", 1820328, \"bulgarie\", \"a-pfg\", \"2024-2025\", \"cherno-more-varna-spartak-varna\"], [\"/matches/1820329/live/bulgarie-a-pfg-2024-2025-spartak-varna-cska-1948\", 1820329, \"bulgarie\", \"a-pfg\", \"2024-2025\", \"spartak-varna-cska-1948\"], [\"/matches/1820330/live/bulgarie-a-pfg-2024-2025-hebar-cska-sofia\", 1820330, \"bulgarie\", \"a-pfg\", \"2024-2025\", \"hebar-cska-sofia\"], [\"/matches/1820331/live/bulgarie-a-pfg-2024-2025-ludogorets-razgrad-slavia-sofia\", 1820331, \"bulgarie\", \"a-pfg\", \"2024-2025\", \"ludogorets-razgrad-slavia-sofia\"], [\"/matches/1820332/live/bulgarie-a-pfg-2024-2025-lokomotiv-plovdiv-botev-plovdiv\", 1820332, \"bulgarie\", \"a-pfg\", \"2024-2025\", \"lokomotiv-plovdiv-botev-plovdiv\"], [\"/matches/1820333/live/bulgarie-a-pfg-2024-2025-botev-vratsa-levski-sofia\", 1820333, \"bulgarie\", \"a-pfg\", \"2024-2025\", \"botev-vratsa-levski-sofia\"], [\"/matches/1820334/live/bulgarie-a-pfg-2024-2025-pfc-lokomotiv-sofia-1929-beroe\", 1820334, \"bulgarie\", \"a-pfg\", \"2024-2025\", \"pfc-lokomotiv-sofia-1929-beroe\"], [\"/matches/1820335/live/bulgarie-a-pfg-2024-2025-septemvri-sofia-cherno-more-varna\", 1820335, \"bulgarie\", \"a-pfg\", \"2024-2025\", \"septemvri-sofia-cherno-more-varna\"], [\"/matches/1820336/live/bulgarie-a-pfg-2024-2025-cska-sofia-krumovgrad\", 1820336, \"bulgarie\", \"a-pfg\", \"2024-2025\", \"cska-sofia-krumovgrad\"], [\"/matches/1820337/live/bulgarie-a-pfg-2024-2025-cska-1948-septemvri-sofia\", 1820337, \"bulgarie\", \"a-pfg\", \"2024-2025\", \"cska-1948-septemvri-sofia\"], [\"/matches/1820338/live/bulgarie-a-pfg-2024-2025-cherno-more-varna-pfc-lokomotiv-sofia-1929\", 1820338, \"bulgarie\", \"a-pfg\", \"2024-2025\", \"cherno-more-varna-pfc-lokomotiv-sofia-1929\"], [\"/matches/1820339/live/bulgarie-a-pfg-2024-2025-beroe-botev-vratsa\", 1820339, \"bulgarie\", \"a-pfg\", \"2024-2025\", \"beroe-botev-vratsa\"], [\"/matches/1820340/live/bulgarie-a-pfg-2024-2025-levski-sofia-lokomotiv-plovdiv\", 1820340, \"bulgarie\", \"a-pfg\", \"2024-2025\", \"levski-sofia-lokomotiv-plovdiv\"], [\"/matches/1820341/live/bulgarie-a-pfg-2024-2025-botev-plovdiv-krumovgrad\", 1820341, \"bulgarie\", \"a-pfg\", \"2024-2025\", \"botev-plovdiv-krumovgrad\"], [\"/matches/1820342/live/bulgarie-a-pfg-2024-2025-arda-kardzhali-ludogorets-razgrad\", 1820342, \"bulgarie\", \"a-pfg\", \"2024-2025\", \"arda-kardzhali-ludogorets-razgrad\"], [\"/matches/1820343/live/bulgarie-a-pfg-2024-2025-slavia-sofia-hebar\", 1820343, \"bulgarie\", \"a-pfg\", \"2024-2025\", \"slavia-sofia-hebar\"], [\"/matches/1820344/live/bulgarie-a-pfg-2024-2025-krumovgrad-arda-kardzhali\", 1820344, \"bulgarie\", \"a-pfg\", \"2024-2025\", \"krumovgrad-arda-kardzhali\"], [\"/matches/1820345/live/bulgarie-a-pfg-2024-2025-cska-sofia-spartak-varna\", 1820345, \"bulgarie\", \"a-pfg\", \"2024-2025\", \"cska-sofia-spartak-varna\"], [\"/matches/1820346/live/bulgarie-a-pfg-2024-2025-cska-sofia-cska-1948\", 1820346, \"bulgarie\", \"a-pfg\", \"2024-2025\", \"cska-sofia-cska-1948\"], [\"/matches/1820347/live/bulgarie-a-pfg-2024-2025-spartak-varna-slavia-sofia\", 1820347, \"bulgarie\", \"a-pfg\", \"2024-2025\", \"spartak-varna-slavia-sofia\"], [\"/matches/1820348/live/bulgarie-a-pfg-2024-2025-hebar-arda-kardzhali\", 1820348, \"bulgarie\", \"a-pfg\", \"2024-2025\", \"hebar-arda-kardzhali\"], [\"/matches/1820349/live/bulgarie-a-pfg-2024-2025-ludogorets-razgrad-botev-plovdiv\", 1820349, \"bulgarie\", \"a-pfg\", \"2024-2025\", \"ludogorets-razgrad-botev-plovdiv\"], [\"/matches/1820350/live/bulgarie-a-pfg-2024-2025-krumovgrad-levski-sofia\", 1820350, \"bulgarie\", \"a-pfg\", \"2024-2025\", \"krumovgrad-levski-sofia\"], [\"/matches/1820351/live/bulgarie-a-pfg-2024-2025-lokomotiv-plovdiv-beroe\", 1820351, \"bulgarie\", \"a-pfg\", \"2024-2025\", \"lokomotiv-plovdiv-beroe\"], [\"/matches/1820352/live/bulgarie-a-pfg-2024-2025-botev-vratsa-cherno-more-varna\", 1820352, \"bulgarie\", \"a-pfg\", \"2024-2025\", \"botev-vratsa-cherno-more-varna\"], [\"/matches/1820353/live/bulgarie-a-pfg-2024-2025-lokomotiv-plovdiv-botev-vratsa\", 1820353, \"bulgarie\", \"a-pfg\", \"2024-2025\", \"lokomotiv-plovdiv-botev-vratsa\"], [\"/matches/1820354/live/bulgarie-a-pfg-2024-2025-krumovgrad-pfc-lokomotiv-sofia-1929\", 1820354, \"bulgarie\", \"a-pfg\", \"2024-2025\", \"krumovgrad-pfc-lokomotiv-sofia-1929\"], [\"/matches/1820355/live/bulgarie-a-pfg-2024-2025-hebar-cherno-more-varna\", 1820355, \"bulgarie\", \"a-pfg\", \"2024-2025\", \"hebar-cherno-more-varna\"], [\"/matches/1820356/live/bulgarie-a-pfg-2024-2025-ludogorets-razgrad-septemvri-sofia\", 1820356, \"bulgarie\", \"a-pfg\", \"2024-2025\", \"ludogorets-razgrad-septemvri-sofia\"], [\"/matches/1820357/live/bulgarie-a-pfg-2024-2025-cska-sofia-levski-sofia\", 1820357, \"bulgarie\", \"a-pfg\", \"2024-2025\", \"cska-sofia-levski-sofia\"], [\"/matches/1820358/live/bulgarie-a-pfg-2024-2025-spartak-varna-beroe\", 1820358, \"bulgarie\", \"a-pfg\", \"2024-2025\", \"spartak-varna-beroe\"], [\"/matches/1820359/live/bulgarie-a-pfg-2024-2025-arda-kardzhali-cska-1948\", 1820359, \"bulgarie\", \"a-pfg\", \"2024-2025\", \"arda-kardzhali-cska-1948\"], [\"/matches/1820360/live/bulgarie-a-pfg-2024-2025-slavia-sofia-botev-plovdiv\", 1820360, \"bulgarie\", \"a-pfg\", \"2024-2025\", \"slavia-sofia-botev-plovdiv\"], [\"/matches/1820361/live/bulgarie-a-pfg-2024-2025-arda-kardzhali-slavia-sofia\", 1820361, \"bulgarie\", \"a-pfg\", \"2024-2025\", \"arda-kardzhali-slavia-sofia\"], [\"/matches/1820362/live/bulgarie-a-pfg-2024-2025-levski-sofia-spartak-varna\", 1820362, \"bulgarie\", \"a-pfg\", \"2024-2025\", \"levski-sofia-spartak-varna\"], [\"/matches/1820363/live/bulgarie-a-pfg-2024-2025-botev-plovdiv-cska-sofia\", 1820363, \"bulgarie\", \"a-pfg\", \"2024-2025\", \"botev-plovdiv-cska-sofia\"], [\"/matches/1820364/live/bulgarie-a-pfg-2024-2025-beroe-hebar\", 1820364, \"bulgarie\", \"a-pfg\", \"2024-2025\", \"beroe-hebar\"], [\"/matches/1820365/live/bulgarie-a-pfg-2024-2025-cherno-more-varna-ludogorets-razgrad\", 1820365, \"bulgarie\", \"a-pfg\", \"2024-2025\", \"cherno-more-varna-ludogorets-razgrad\"], [\"/matches/1820366/live/bulgarie-a-pfg-2024-2025-cska-1948-botev-vratsa\", 1820366, \"bulgarie\", \"a-pfg\", \"2024-2025\", \"cska-1948-botev-vratsa\"], [\"/matches/1820367/live/bulgarie-a-pfg-2024-2025-septemvri-sofia-krumovgrad\", 1820367, \"bulgarie\", \"a-pfg\", \"2024-2025\", \"septemvri-sofia-krumovgrad\"], [\"/matches/1820368/live/bulgarie-a-pfg-2024-2025-pfc-lokomotiv-sofia-1929-lokomotiv-plovdiv\", 1820368, \"bulgarie\", \"a-pfg\", \"2024-2025\", \"pfc-lokomotiv-sofia-1929-lokomotiv-plovdiv\"], [\"/matches/1820369/live/bulgarie-a-pfg-2024-2025-lokomotiv-plovdiv-septemvri-sofia\", 1820369, \"bulgarie\", \"a-pfg\", \"2024-2025\", \"lokomotiv-plovdiv-septemvri-sofia\"], [\"/matches/1820370/live/bulgarie-a-pfg-2024-2025-botev-vratsa-pfc-lokomotiv-sofia-1929\", 1820370, \"bulgarie\", \"a-pfg\", \"2024-2025\", \"botev-vratsa-pfc-lokomotiv-sofia-1929\"], [\"/matches/1820371/live/bulgarie-a-pfg-2024-2025-ludogorets-razgrad-beroe\", 1820371, \"bulgarie\", \"a-pfg\", \"2024-2025\", \"ludogorets-razgrad-beroe\"], [\"/matches/1820372/live/bulgarie-a-pfg-2024-2025-krumovgrad-cherno-more-varna\", 1820372, \"bulgarie\", \"a-pfg\", \"2024-2025\", \"krumovgrad-cherno-more-varna\"], [\"/matches/1820373/live/bulgarie-a-pfg-2024-2025-hebar-levski-sofia\", 1820373, \"bulgarie\", \"a-pfg\", \"2024-2025\", \"hebar-levski-sofia\"], [\"/matches/1820374/live/bulgarie-a-pfg-2024-2025-spartak-varna-botev-plovdiv\", 1820374, \"bulgarie\", \"a-pfg\", \"2024-2025\", \"spartak-varna-botev-plovdiv\"], [\"/matches/1820375/live/bulgarie-a-pfg-2024-2025-cska-sofia-arda-kardzhali\", 1820375, \"bulgarie\", \"a-pfg\", \"2024-2025\", \"cska-sofia-arda-kardzhali\"], [\"/matches/1820376/live/bulgarie-a-pfg-2024-2025-slavia-sofia-cska-1948\", 1820376, \"bulgarie\", \"a-pfg\", \"2024-2025\", \"slavia-sofia-cska-1948\"], [\"/matches/1820377/live/bulgarie-b-pfg-2024-2025-sportist-svoge-pirin-blagoevgrad\", 1820377, \"bulgarie\", \"b-pfg\", \"2024-2025\", \"sportist-svoge-pirin-blagoevgrad\"], [\"/matches/1820378/live/bulgarie-b-pfg-2024-2025-etar-strumska-slava\", 1820378, \"bulgarie\", \"b-pfg\", \"2024-2025\", \"etar-strumska-slava\"], [\"/matches/1820379/live/bulgarie-b-pfg-2024-2025-spartak-pleven-dobrudzha-dobrich\", 1820379, \"bulgarie\", \"b-pfg\", \"2024-2025\", \"spartak-pleven-dobrudzha-dobrich\"], [\"/matches/1820380/live/bulgarie-b-pfg-2024-2025-nesebar-lovech\", 1820380, \"bulgarie\", \"b-pfg\", \"2024-2025\", \"nesebar-lovech\"], [\"/matches/1820381/live/bulgarie-b-pfg-2024-2025-ludogorets-razgrad-ii-dunav-ruse\", 1820381, \"bulgarie\", \"b-pfg\", \"2024-2025\", \"ludogorets-razgrad-ii-dunav-ruse\"], [\"/matches/1820382/live/bulgarie-b-pfg-2024-2025-pfc-cska-sofia-ii-sportist-svoge\", 1820382, \"bulgarie\", \"b-pfg\", \"2024-2025\", \"pfc-cska-sofia-ii-sportist-svoge\"], [\"/matches/1820383/live/bulgarie-b-pfg-2024-2025-montana-cska-1948-ii\", 1820383, \"bulgarie\", \"b-pfg\", \"2024-2025\", \"montana-cska-1948-ii\"], [\"/matches/1820384/live/bulgarie-b-pfg-2024-2025-yantra-lokomotiv-gorna-oryahovitsa\", 1820384, \"bulgarie\", \"b-pfg\", \"2024-2025\", \"yantra-lokomotiv-gorna-oryahovitsa\"], [\"/matches/1820385/live/bulgarie-b-pfg-2024-2025-lokomotiv-gorna-oryahovitsa-minyor-pernik\", 1820385, \"bulgarie\", \"b-pfg\", \"2024-2025\", \"lokomotiv-gorna-oryahovitsa-minyor-pernik\"], [\"/matches/1820386/live/bulgarie-b-pfg-2024-2025-minyor-pernik-marek-dupnitsa\", 1820386, \"bulgarie\", \"b-pfg\", \"2024-2025\", \"minyor-pernik-marek-dupnitsa\"], [\"/matches/1820387/live/bulgarie-b-pfg-2024-2025-belasitsa-petrich-etar\", 1820387, \"bulgarie\", \"b-pfg\", \"2024-2025\", \"belasitsa-petrich-etar\"], [\"/matches/1820388/live/bulgarie-b-pfg-2024-2025-strumska-slava-botev-plovdiv-ii\", 1820388, \"bulgarie\", \"b-pfg\", \"2024-2025\", \"strumska-slava-botev-plovdiv-ii\"], [\"/matches/1820389/live/bulgarie-b-pfg-2024-2025-cska-1948-ii-yantra\", 1820389, \"bulgarie\", \"b-pfg\", \"2024-2025\", \"cska-1948-ii-yantra\"], [\"/matches/1820390/live/bulgarie-b-pfg-2024-2025-pirin-blagoevgrad-botev-plovdiv-ii\", 1820390, \"bulgarie\", \"b-pfg\", \"2024-2025\", \"pirin-blagoevgrad-botev-plovdiv-ii\"], [\"/matches/1820391/live/bulgarie-b-pfg-2024-2025-dunav-ruse-montana\", 1820391, \"bulgarie\", \"b-pfg\", \"2024-2025\", \"dunav-ruse-montana\"], [\"/matches/1820392/live/bulgarie-b-pfg-2024-2025-cska-1948-ii-ludogorets-razgrad-ii\", 1820392, \"bulgarie\", \"b-pfg\", \"2024-2025\", \"cska-1948-ii-ludogorets-razgrad-ii\"], [\"/matches/1820393/live/bulgarie-b-pfg-2024-2025-dunav-ruse-nesebar\", 1820393, \"bulgarie\", \"b-pfg\", \"2024-2025\", \"dunav-ruse-nesebar\"], [\"/matches/1820394/live/bulgarie-b-pfg-2024-2025-marek-dupnitsa-belasitsa-petrich\", 1820394, \"bulgarie\", \"b-pfg\", \"2024-2025\", \"marek-dupnitsa-belasitsa-petrich\"], [\"/matches/1820395/live/bulgarie-b-pfg-2024-2025-lovech-spartak-pleven\", 1820395, \"bulgarie\", \"b-pfg\", \"2024-2025\", \"lovech-spartak-pleven\"], [\"/matches/1820396/live/bulgarie-b-pfg-2024-2025-dobrudzha-dobrich-pfc-cska-sofia-ii\", 1820396, \"bulgarie\", \"b-pfg\", \"2024-2025\", \"dobrudzha-dobrich-pfc-cska-sofia-ii\"], [\"/matches/1820397/live/bulgarie-b-pfg-2024-2025-lovech-ludogorets-razgrad-ii\", 1820397, \"bulgarie\", \"b-pfg\", \"2024-2025\", \"lovech-ludogorets-razgrad-ii\"], [\"/matches/1820398/live/bulgarie-b-pfg-2024-2025-dobrudzha-dobrich-nesebar\", 1820398, \"bulgarie\", \"b-pfg\", \"2024-2025\", \"dobrudzha-dobrich-nesebar\"], [\"/matches/1820399/live/bulgarie-b-pfg-2024-2025-sportist-svoge-fratria\", 1820399, \"bulgarie\", \"b-pfg\", \"2024-2025\", \"sportist-svoge-fratria\"], [\"/matches/1820400/live/bulgarie-b-pfg-2024-2025-fratria-pirin-blagoevgrad\", 1820400, \"bulgarie\", \"b-pfg\", \"2024-2025\", \"fratria-pirin-blagoevgrad\"], [\"/matches/1820401/live/bulgarie-b-pfg-2024-2025-sportist-svoge-spartak-pleven\", 1820401, \"bulgarie\", \"b-pfg\", \"2024-2025\", \"sportist-svoge-spartak-pleven\"], [\"/matches/1820402/live/bulgarie-b-pfg-2024-2025-fratria-pfc-cska-sofia-ii\", 1820402, \"bulgarie\", \"b-pfg\", \"2024-2025\", \"fratria-pfc-cska-sofia-ii\"], [\"/matches/1820403/live/bulgarie-b-pfg-2024-2025-etar-minyor-pernik\", 1820403, \"bulgarie\", \"b-pfg\", \"2024-2025\", \"etar-minyor-pernik\"], [\"/matches/1820404/live/bulgarie-b-pfg-2024-2025-spartak-pleven-dunav-ruse\", 1820404, \"bulgarie\", \"b-pfg\", \"2024-2025\", \"spartak-pleven-dunav-ruse\"], [\"/matches/1820405/live/bulgarie-b-pfg-2024-2025-nesebar-cska-1948-ii\", 1820405, \"bulgarie\", \"b-pfg\", \"2024-2025\", \"nesebar-cska-1948-ii\"], [\"/matches/1820406/live/bulgarie-b-pfg-2024-2025-ludogorets-razgrad-ii-lokomotiv-gorna-oryahovitsa\", 1820406, \"bulgarie\", \"b-pfg\", \"2024-2025\", \"ludogorets-razgrad-ii-lokomotiv-gorna-oryahovitsa\"], [\"/matches/1820407/live/bulgarie-b-pfg-2024-2025-montana-marek-dupnitsa\", 1820407, \"bulgarie\", \"b-pfg\", \"2024-2025\", \"montana-marek-dupnitsa\"], [\"/matches/1820408/live/bulgarie-b-pfg-2024-2025-yantra-etar\", 1820408, \"bulgarie\", \"b-pfg\", \"2024-2025\", \"yantra-etar\"], [\"/matches/1820409/live/bulgarie-b-pfg-2024-2025-minyor-pernik-botev-plovdiv-ii\", 1820409, \"bulgarie\", \"b-pfg\", \"2024-2025\", \"minyor-pernik-botev-plovdiv-ii\"], [\"/matches/1820410/live/bulgarie-b-pfg-2024-2025-belasitsa-petrich-strumska-slava\", 1820410, \"bulgarie\", \"b-pfg\", \"2024-2025\", \"belasitsa-petrich-strumska-slava\"], [\"/matches/1820411/live/bulgarie-b-pfg-2024-2025-pirin-blagoevgrad-strumska-slava\", 1820411, \"bulgarie\", \"b-pfg\", \"2024-2025\", \"pirin-blagoevgrad-strumska-slava\"], [\"/matches/1820412/live/bulgarie-b-pfg-2024-2025-botev-plovdiv-ii-belasitsa-petrich\", 1820412, \"bulgarie\", \"b-pfg\", \"2024-2025\", \"botev-plovdiv-ii-belasitsa-petrich\"], [\"/matches/1820413/live/bulgarie-b-pfg-2024-2025-pfc-cska-sofia-ii-lovech\", 1820413, \"bulgarie\", \"b-pfg\", \"2024-2025\", \"pfc-cska-sofia-ii-lovech\"], [\"/matches/1820414/live/bulgarie-b-pfg-2024-2025-marek-dupnitsa-yantra\", 1820414, \"bulgarie\", \"b-pfg\", \"2024-2025\", \"marek-dupnitsa-yantra\"], [\"/matches/1820415/live/bulgarie-b-pfg-2024-2025-lokomotiv-gorna-oryahovitsa-montana\", 1820415, \"bulgarie\", \"b-pfg\", \"2024-2025\", \"lokomotiv-gorna-oryahovitsa-montana\"], [\"/matches/1820416/live/bulgarie-b-pfg-2024-2025-etar-marek-dupnitsa\", 1820416, \"bulgarie\", \"b-pfg\", \"2024-2025\", \"etar-marek-dupnitsa\"], [\"/matches/1820417/live/bulgarie-b-pfg-2024-2025-spartak-pleven-pirin-blagoevgrad\", 1820417, \"bulgarie\", \"b-pfg\", \"2024-2025\", \"spartak-pleven-pirin-blagoevgrad\"], [\"/matches/1820418/live/bulgarie-b-pfg-2024-2025-nesebar-pfc-cska-sofia-ii\", 1820418, \"bulgarie\", \"b-pfg\", \"2024-2025\", \"nesebar-pfc-cska-sofia-ii\"], [\"/matches/1820419/live/bulgarie-b-pfg-2024-2025-ludogorets-razgrad-ii-fratria\", 1820419, \"bulgarie\", \"b-pfg\", \"2024-2025\", \"ludogorets-razgrad-ii-fratria\"], [\"/matches/1820420/live/bulgarie-b-pfg-2024-2025-montana-sportist-svoge\", 1820420, \"bulgarie\", \"b-pfg\", \"2024-2025\", \"montana-sportist-svoge\"], [\"/matches/1820421/live/bulgarie-b-pfg-2024-2025-yantra-dobrudzha-dobrich\", 1820421, \"bulgarie\", \"b-pfg\", \"2024-2025\", \"yantra-dobrudzha-dobrich\"], [\"/matches/1820422/live/bulgarie-b-pfg-2024-2025-minyor-pernik-lovech\", 1820422, \"bulgarie\", \"b-pfg\", \"2024-2025\", \"minyor-pernik-lovech\"], [\"/matches/1820423/live/bulgarie-b-pfg-2024-2025-belasitsa-petrich-dunav-ruse\", 1820423, \"bulgarie\", \"b-pfg\", \"2024-2025\", \"belasitsa-petrich-dunav-ruse\"], [\"/matches/1820424/live/bulgarie-b-pfg-2024-2025-strumska-slava-cska-1948-ii\", 1820424, \"bulgarie\", \"b-pfg\", \"2024-2025\", \"strumska-slava-cska-1948-ii\"], [\"/matches/1820425/live/bulgarie-b-pfg-2024-2025-botev-plovdiv-ii-lokomotiv-gorna-oryahovitsa\", 1820425, \"bulgarie\", \"b-pfg\", \"2024-2025\", \"botev-plovdiv-ii-lokomotiv-gorna-oryahovitsa\"], [\"/matches/1820426/live/bulgarie-b-pfg-2024-2025-dunav-ruse-strumska-slava\", 1820426, \"bulgarie\", \"b-pfg\", \"2024-2025\", \"dunav-ruse-strumska-slava\"], [\"/matches/1820427/live/bulgarie-b-pfg-2024-2025-lovech-belasitsa-petrich\", 1820427, \"bulgarie\", \"b-pfg\", \"2024-2025\", \"lovech-belasitsa-petrich\"], [\"/matches/1820428/live/bulgarie-b-pfg-2024-2025-dobrudzha-dobrich-minyor-pernik\", 1820428, \"bulgarie\", \"b-pfg\", \"2024-2025\", \"dobrudzha-dobrich-minyor-pernik\"], [\"/matches/1820429/live/bulgarie-b-pfg-2024-2025-sportist-svoge-yantra\", 1820429, \"bulgarie\", \"b-pfg\", \"2024-2025\", \"sportist-svoge-yantra\"], [\"/matches/1820430/live/bulgarie-b-pfg-2024-2025-fratria-montana\", 1820430, \"bulgarie\", \"b-pfg\", \"2024-2025\", \"fratria-montana\"], [\"/matches/1820431/live/bulgarie-b-pfg-2024-2025-ludogorets-razgrad-ii-spartak-pleven\", 1820431, \"bulgarie\", \"b-pfg\", \"2024-2025\", \"ludogorets-razgrad-ii-spartak-pleven\"], [\"/matches/1820432/live/bulgarie-b-pfg-2024-2025-etar-pfc-cska-sofia-ii\", 1820432, \"bulgarie\", \"b-pfg\", \"2024-2025\", \"etar-pfc-cska-sofia-ii\"], [\"/matches/1820433/live/bulgarie-b-pfg-2024-2025-spartak-pleven-strumska-slava\", 1820433, \"bulgarie\", \"b-pfg\", \"2024-2025\", \"spartak-pleven-strumska-slava\"], [\"/matches/1820434/live/bulgarie-b-pfg-2024-2025-nesebar-belasitsa-petrich\", 1820434, \"bulgarie\", \"b-pfg\", \"2024-2025\", \"nesebar-belasitsa-petrich\"], [\"/matches/1820435/live/bulgarie-b-pfg-2024-2025-ludogorets-razgrad-ii-minyor-pernik\", 1820435, \"bulgarie\", \"b-pfg\", \"2024-2025\", \"ludogorets-razgrad-ii-minyor-pernik\"], [\"/matches/1820436/live/bulgarie-b-pfg-2024-2025-yantra-pirin-blagoevgrad\", 1820436, \"bulgarie\", \"b-pfg\", \"2024-2025\", \"yantra-pirin-blagoevgrad\"], [\"/matches/1820437/live/bulgarie-b-pfg-2024-2025-etar-cska-1948-ii\", 1820437, \"bulgarie\", \"b-pfg\", \"2024-2025\", \"etar-cska-1948-ii\"], [\"/matches/1820438/live/bulgarie-b-pfg-2024-2025-minyor-pernik-montana\", 1820438, \"bulgarie\", \"b-pfg\", \"2024-2025\", \"minyor-pernik-montana\"], [\"/matches/1820439/live/bulgarie-b-pfg-2024-2025-belasitsa-petrich-ludogorets-razgrad-ii\", 1820439, \"bulgarie\", \"b-pfg\", \"2024-2025\", \"belasitsa-petrich-ludogorets-razgrad-ii\"], [\"/matches/1820440/live/bulgarie-b-pfg-2024-2025-strumska-slava-nesebar\", 1820440, \"bulgarie\", \"b-pfg\", \"2024-2025\", \"strumska-slava-nesebar\"], [\"/matches/1820441/live/bulgarie-b-pfg-2024-2025-botev-plovdiv-ii-spartak-pleven\", 1820441, \"bulgarie\", \"b-pfg\", \"2024-2025\", \"botev-plovdiv-ii-spartak-pleven\"], [\"/matches/1820442/live/bulgarie-b-pfg-2024-2025-pfc-cska-sofia-ii-botev-plovdiv-ii\", 1820442, \"bulgarie\", \"b-pfg\", \"2024-2025\", \"pfc-cska-sofia-ii-botev-plovdiv-ii\"], [\"/matches/1820443/live/bulgarie-b-pfg-2024-2025-marek-dupnitsa-fratria\", 1820443, \"bulgarie\", \"b-pfg\", \"2024-2025\", \"marek-dupnitsa-fratria\"], [\"/matches/1820444/live/bulgarie-b-pfg-2024-2025-pirin-blagoevgrad-lokomotiv-gorna-oryahovitsa\", 1820444, \"bulgarie\", \"b-pfg\", \"2024-2025\", \"pirin-blagoevgrad-lokomotiv-gorna-oryahovitsa\"], [\"/matches/1820445/live/bulgarie-b-pfg-2024-2025-lokomotiv-gorna-oryahovitsa-sportist-svoge\", 1820445, \"bulgarie\", \"b-pfg\", \"2024-2025\", \"lokomotiv-gorna-oryahovitsa-sportist-svoge\"], [\"/matches/1820446/live/bulgarie-b-pfg-2024-2025-marek-dupnitsa-lokomotiv-gorna-oryahovitsa\", 1820446, \"bulgarie\", \"b-pfg\", \"2024-2025\", \"marek-dupnitsa-lokomotiv-gorna-oryahovitsa\"], [\"/matches/1820447/live/bulgarie-b-pfg-2024-2025-cska-1948-ii-dobrudzha-dobrich\", 1820447, \"bulgarie\", \"b-pfg\", \"2024-2025\", \"cska-1948-ii-dobrudzha-dobrich\"], [\"/matches/1820448/live/bulgarie-b-pfg-2024-2025-botev-plovdiv-ii-dunav-ruse\", 1820448, \"bulgarie\", \"b-pfg\", \"2024-2025\", \"botev-plovdiv-ii-dunav-ruse\"], [\"/matches/1820449/live/bulgarie-b-pfg-2024-2025-dunav-ruse-lovech\", 1820449, \"bulgarie\", \"b-pfg\", \"2024-2025\", \"dunav-ruse-lovech\"], [\"/matches/1820450/live/bulgarie-b-pfg-2024-2025-pirin-blagoevgrad-lovech\", 1820450, \"bulgarie\", \"b-pfg\", \"2024-2025\", \"pirin-blagoevgrad-lovech\"], [\"/matches/1820451/live/bulgarie-b-pfg-2024-2025-dobrudzha-dobrich-dunav-ruse\", 1820451, \"bulgarie\", \"b-pfg\", \"2024-2025\", \"dobrudzha-dobrich-dunav-ruse\"], [\"/matches/1820452/live/bulgarie-b-pfg-2024-2025-sportist-svoge-cska-1948-ii\", 1820452, \"bulgarie\", \"b-pfg\", \"2024-2025\", \"sportist-svoge-cska-1948-ii\"], [\"/matches/1820453/live/bulgarie-b-pfg-2024-2025-fratria-lokomotiv-gorna-oryahovitsa\", 1820453, \"bulgarie\", \"b-pfg\", \"2024-2025\", \"fratria-lokomotiv-gorna-oryahovitsa\"], [\"/matches/1820454/live/bulgarie-b-pfg-2024-2025-etar-sportist-svoge\", 1820454, \"bulgarie\", \"b-pfg\", \"2024-2025\", \"etar-sportist-svoge\"], [\"/matches/1820455/live/bulgarie-b-pfg-2024-2025-spartak-pleven-minyor-pernik\", 1820455, \"bulgarie\", \"b-pfg\", \"2024-2025\", \"spartak-pleven-minyor-pernik\"], [\"/matches/1820456/live/bulgarie-b-pfg-2024-2025-nesebar-yantra\", 1820456, \"bulgarie\", \"b-pfg\", \"2024-2025\", \"nesebar-yantra\"], [\"/matches/1820457/live/bulgarie-b-pfg-2024-2025-ludogorets-razgrad-ii-montana\", 1820457, \"bulgarie\", \"b-pfg\", \"2024-2025\", \"ludogorets-razgrad-ii-montana\"], [\"/matches/1820458/live/bulgarie-b-pfg-2024-2025-montana-pirin-blagoevgrad\", 1820458, \"bulgarie\", \"b-pfg\", \"2024-2025\", \"montana-pirin-blagoevgrad\"], [\"/matches/1820459/live/bulgarie-b-pfg-2024-2025-yantra-ludogorets-razgrad-ii\", 1820459, \"bulgarie\", \"b-pfg\", \"2024-2025\", \"yantra-ludogorets-razgrad-ii\"], [\"/matches/1820460/live/bulgarie-b-pfg-2024-2025-pfc-cska-sofia-ii-belasitsa-petrich\", 1820460, \"bulgarie\", \"b-pfg\", \"2024-2025\", \"pfc-cska-sofia-ii-belasitsa-petrich\"], [\"/matches/1820461/live/bulgarie-b-pfg-2024-2025-fratria-dobrudzha-dobrich\", 1820461, \"bulgarie\", \"b-pfg\", \"2024-2025\", \"fratria-dobrudzha-dobrich\"], [\"/matches/1820462/live/bulgarie-b-pfg-2024-2025-pfc-cska-sofia-ii-spartak-pleven\", 1820462, \"bulgarie\", \"b-pfg\", \"2024-2025\", \"pfc-cska-sofia-ii-spartak-pleven\"], [\"/matches/1820463/live/bulgarie-b-pfg-2024-2025-pirin-blagoevgrad-marek-dupnitsa\", 1820463, \"bulgarie\", \"b-pfg\", \"2024-2025\", \"pirin-blagoevgrad-marek-dupnitsa\"], [\"/matches/1820464/live/bulgarie-b-pfg-2024-2025-lokomotiv-gorna-oryahovitsa-etar\", 1820464, \"bulgarie\", \"b-pfg\", \"2024-2025\", \"lokomotiv-gorna-oryahovitsa-etar\"], [\"/matches/1820465/live/bulgarie-b-pfg-2024-2025-cska-1948-ii-botev-plovdiv-ii\", 1820465, \"bulgarie\", \"b-pfg\", \"2024-2025\", \"cska-1948-ii-botev-plovdiv-ii\"], [\"/matches/1820466/live/bulgarie-b-pfg-2024-2025-pirin-blagoevgrad-etar\", 1820466, \"bulgarie\", \"b-pfg\", \"2024-2025\", \"pirin-blagoevgrad-etar\"], [\"/matches/1820467/live/bulgarie-b-pfg-2024-2025-spartak-pleven-fratria\", 1820467, \"bulgarie\", \"b-pfg\", \"2024-2025\", \"spartak-pleven-fratria\"], [\"/matches/1820468/live/bulgarie-b-pfg-2024-2025-nesebar-sportist-svoge\", 1820468, \"bulgarie\", \"b-pfg\", \"2024-2025\", \"nesebar-sportist-svoge\"], [\"/matches/1820469/live/bulgarie-b-pfg-2024-2025-ludogorets-razgrad-ii-dobrudzha-dobrich\", 1820469, \"bulgarie\", \"b-pfg\", \"2024-2025\", \"ludogorets-razgrad-ii-dobrudzha-dobrich\"], [\"/matches/1820470/live/bulgarie-b-pfg-2024-2025-montana-lovech\", 1820470, \"bulgarie\", \"b-pfg\", \"2024-2025\", \"montana-lovech\"], [\"/matches/1820471/live/bulgarie-b-pfg-2024-2025-yantra-dunav-ruse\", 1820471, \"bulgarie\", \"b-pfg\", \"2024-2025\", \"yantra-dunav-ruse\"], [\"/matches/1820472/live/bulgarie-b-pfg-2024-2025-minyor-pernik-cska-1948-ii\", 1820472, \"bulgarie\", \"b-pfg\", \"2024-2025\", \"minyor-pernik-cska-1948-ii\"], [\"/matches/1820473/live/bulgarie-b-pfg-2024-2025-belasitsa-petrich-lokomotiv-gorna-oryahovitsa\", 1820473, \"bulgarie\", \"b-pfg\", \"2024-2025\", \"belasitsa-petrich-lokomotiv-gorna-oryahovitsa\"], [\"/matches/1820474/live/bulgarie-b-pfg-2024-2025-strumska-slava-marek-dupnitsa\", 1820474, \"bulgarie\", \"b-pfg\", \"2024-2025\", \"strumska-slava-marek-dupnitsa\"], [\"/matches/1820475/live/bulgarie-b-pfg-2024-2025-botev-plovdiv-ii-etar\", 1820475, \"bulgarie\", \"b-pfg\", \"2024-2025\", \"botev-plovdiv-ii-etar\"], [\"/matches/1820476/live/bulgarie-b-pfg-2024-2025-pfc-cska-sofia-ii-pirin-blagoevgrad\", 1820476, \"bulgarie\", \"b-pfg\", \"2024-2025\", \"pfc-cska-sofia-ii-pirin-blagoevgrad\"], [\"/matches/1820477/live/bulgarie-b-pfg-2024-2025-marek-dupnitsa-botev-plovdiv-ii\", 1820477, \"bulgarie\", \"b-pfg\", \"2024-2025\", \"marek-dupnitsa-botev-plovdiv-ii\"], [\"/matches/1820478/live/bulgarie-b-pfg-2024-2025-lokomotiv-gorna-oryahovitsa-strumska-slava\", 1820478, \"bulgarie\", \"b-pfg\", \"2024-2025\", \"lokomotiv-gorna-oryahovitsa-strumska-slava\"], [\"/matches/1820479/live/bulgarie-b-pfg-2024-2025-cska-1948-ii-belasitsa-petrich\", 1820479, \"bulgarie\", \"b-pfg\", \"2024-2025\", \"cska-1948-ii-belasitsa-petrich\"], [\"/matches/1820480/live/bulgarie-b-pfg-2024-2025-dunav-ruse-minyor-pernik\", 1820480, \"bulgarie\", \"b-pfg\", \"2024-2025\", \"dunav-ruse-minyor-pernik\"], [\"/matches/1820481/live/bulgarie-b-pfg-2024-2025-lovech-yantra\", 1820481, \"bulgarie\", \"b-pfg\", \"2024-2025\", \"lovech-yantra\"], [\"/matches/1820482/live/bulgarie-b-pfg-2024-2025-dobrudzha-dobrich-montana\", 1820482, \"bulgarie\", \"b-pfg\", \"2024-2025\", \"dobrudzha-dobrich-montana\"], [\"/matches/1820483/live/bulgarie-b-pfg-2024-2025-sportist-svoge-ludogorets-razgrad-ii\", 1820483, \"bulgarie\", \"b-pfg\", \"2024-2025\", \"sportist-svoge-ludogorets-razgrad-ii\"], [\"/matches/1820484/live/bulgarie-b-pfg-2024-2025-fratria-nesebar\", 1820484, \"bulgarie\", \"b-pfg\", \"2024-2025\", \"fratria-nesebar\"], [\"/matches/1820485/live/bulgarie-b-pfg-2024-2025-pfc-cska-sofia-ii-yantra\", 1820485, \"bulgarie\", \"b-pfg\", \"2024-2025\", \"pfc-cska-sofia-ii-yantra\"], [\"/matches/1820486/live/bulgarie-b-pfg-2024-2025-fratria-minyor-pernik\", 1820486, \"bulgarie\", \"b-pfg\", \"2024-2025\", \"fratria-minyor-pernik\"], [\"/matches/1820487/live/bulgarie-b-pfg-2024-2025-sportist-svoge-belasitsa-petrich\", 1820487, \"bulgarie\", \"b-pfg\", \"2024-2025\", \"sportist-svoge-belasitsa-petrich\"], [\"/matches/1820488/live/bulgarie-b-pfg-2024-2025-dobrudzha-dobrich-strumska-slava\", 1820488, \"bulgarie\", \"b-pfg\", \"2024-2025\", \"dobrudzha-dobrich-strumska-slava\"], [\"/matches/1820489/live/bulgarie-b-pfg-2024-2025-lovech-botev-plovdiv-ii\", 1820489, \"bulgarie\", \"b-pfg\", \"2024-2025\", \"lovech-botev-plovdiv-ii\"], [\"/matches/1820490/live/bulgarie-b-pfg-2024-2025-dunav-ruse-etar\", 1820490, \"bulgarie\", \"b-pfg\", \"2024-2025\", \"dunav-ruse-etar\"], [\"/matches/1820491/live/bulgarie-b-pfg-2024-2025-cska-1948-ii-marek-dupnitsa\", 1820491, \"bulgarie\", \"b-pfg\", \"2024-2025\", \"cska-1948-ii-marek-dupnitsa\"], [\"/matches/1820492/live/bulgarie-b-pfg-2024-2025-pfc-cska-sofia-ii-ludogorets-razgrad-ii\", 1820492, \"bulgarie\", \"b-pfg\", \"2024-2025\", \"pfc-cska-sofia-ii-ludogorets-razgrad-ii\"], [\"/matches/1820493/live/bulgarie-b-pfg-2024-2025-strumska-slava-lovech\", 1820493, \"bulgarie\", \"b-pfg\", \"2024-2025\", \"strumska-slava-lovech\"], [\"/matches/1820494/live/bulgarie-b-pfg-2024-2025-belasitsa-petrich-dobrudzha-dobrich\", 1820494, \"bulgarie\", \"b-pfg\", \"2024-2025\", \"belasitsa-petrich-dobrudzha-dobrich\"], [\"/matches/1820495/live/bulgarie-b-pfg-2024-2025-minyor-pernik-sportist-svoge\", 1820495, \"bulgarie\", \"b-pfg\", \"2024-2025\", \"minyor-pernik-sportist-svoge\"], [\"/matches/1820496/live/bulgarie-b-pfg-2024-2025-yantra-fratria\", 1820496, \"bulgarie\", \"b-pfg\", \"2024-2025\", \"yantra-fratria\"], [\"/matches/1820497/live/bulgarie-b-pfg-2024-2025-montana-pfc-cska-sofia-ii\", 1820497, \"bulgarie\", \"b-pfg\", \"2024-2025\", \"montana-pfc-cska-sofia-ii\"], [\"/matches/1820498/live/bulgarie-b-pfg-2024-2025-nesebar-pirin-blagoevgrad\", 1820498, \"bulgarie\", \"b-pfg\", \"2024-2025\", \"nesebar-pirin-blagoevgrad\"], [\"/matches/1820499/live/bulgarie-b-pfg-2024-2025-spartak-pleven-nesebar\", 1820499, \"bulgarie\", \"b-pfg\", \"2024-2025\", \"spartak-pleven-nesebar\"], [\"/matches/1820500/live/bulgarie-b-pfg-2024-2025-etar-lovech\", 1820500, \"bulgarie\", \"b-pfg\", \"2024-2025\", \"etar-lovech\"], [\"/matches/1820501/live/bulgarie-b-pfg-2024-2025-fratria-strumska-slava\", 1820501, \"bulgarie\", \"b-pfg\", \"2024-2025\", \"fratria-strumska-slava\"], [\"/matches/1820502/live/bulgarie-b-pfg-2024-2025-sportist-svoge-botev-plovdiv-ii\", 1820502, \"bulgarie\", \"b-pfg\", \"2024-2025\", \"sportist-svoge-botev-plovdiv-ii\"], [\"/matches/1820503/live/bulgarie-b-pfg-2024-2025-dobrudzha-dobrich-etar\", 1820503, \"bulgarie\", \"b-pfg\", \"2024-2025\", \"dobrudzha-dobrich-etar\"], [\"/matches/1820504/live/bulgarie-b-pfg-2024-2025-lovech-marek-dupnitsa\", 1820504, \"bulgarie\", \"b-pfg\", \"2024-2025\", \"lovech-marek-dupnitsa\"], [\"/matches/1820505/live/bulgarie-b-pfg-2024-2025-dunav-ruse-lokomotiv-gorna-oryahovitsa\", 1820505, \"bulgarie\", \"b-pfg\", \"2024-2025\", \"dunav-ruse-lokomotiv-gorna-oryahovitsa\"], [\"/matches/1820506/live/bulgarie-b-pfg-2024-2025-pirin-blagoevgrad-cska-1948-ii\", 1820506, \"bulgarie\", \"b-pfg\", \"2024-2025\", \"pirin-blagoevgrad-cska-1948-ii\"], [\"/matches/1820507/live/bulgarie-b-pfg-2024-2025-lokomotiv-gorna-oryahovitsa-cska-1948-ii\", 1820507, \"bulgarie\", \"b-pfg\", \"2024-2025\", \"lokomotiv-gorna-oryahovitsa-cska-1948-ii\"], [\"/matches/1820508/live/bulgarie-b-pfg-2024-2025-marek-dupnitsa-dunav-ruse\", 1820508, \"bulgarie\", \"b-pfg\", \"2024-2025\", \"marek-dupnitsa-dunav-ruse\"], [\"/matches/1820509/live/bulgarie-b-pfg-2024-2025-spartak-pleven-montana\", 1820509, \"bulgarie\", \"b-pfg\", \"2024-2025\", \"spartak-pleven-montana\"], [\"/matches/1820510/live/bulgarie-b-pfg-2024-2025-botev-plovdiv-ii-dobrudzha-dobrich\", 1820510, \"bulgarie\", \"b-pfg\", \"2024-2025\", \"botev-plovdiv-ii-dobrudzha-dobrich\"], [\"/matches/1820511/live/bulgarie-b-pfg-2024-2025-strumska-slava-sportist-svoge\", 1820511, \"bulgarie\", \"b-pfg\", \"2024-2025\", \"strumska-slava-sportist-svoge\"], [\"/matches/1820512/live/bulgarie-b-pfg-2024-2025-belasitsa-petrich-fratria\", 1820512, \"bulgarie\", \"b-pfg\", \"2024-2025\", \"belasitsa-petrich-fratria\"], [\"/matches/1820513/live/bulgarie-b-pfg-2024-2025-minyor-pernik-pfc-cska-sofia-ii\", 1820513, \"bulgarie\", \"b-pfg\", \"2024-2025\", \"minyor-pernik-pfc-cska-sofia-ii\"], [\"/matches/1820514/live/bulgarie-b-pfg-2024-2025-yantra-spartak-pleven\", 1820514, \"bulgarie\", \"b-pfg\", \"2024-2025\", \"yantra-spartak-pleven\"], [\"/matches/1820515/live/bulgarie-b-pfg-2024-2025-montana-nesebar\", 1820515, \"bulgarie\", \"b-pfg\", \"2024-2025\", \"montana-nesebar\"], [\"/matches/1820516/live/bulgarie-b-pfg-2024-2025-ludogorets-razgrad-ii-pirin-blagoevgrad\", 1820516, \"bulgarie\", \"b-pfg\", \"2024-2025\", \"ludogorets-razgrad-ii-pirin-blagoevgrad\"], [\"/matches/1820517/live/bulgarie-b-pfg-2024-2025-nesebar-ludogorets-razgrad-ii\", 1820517, \"bulgarie\", \"b-pfg\", \"2024-2025\", \"nesebar-ludogorets-razgrad-ii\"], [\"/matches/1820518/live/bulgarie-b-pfg-2024-2025-dunav-ruse-ludogorets-razgrad-ii\", 1820518, \"bulgarie\", \"b-pfg\", \"2024-2025\", \"dunav-ruse-ludogorets-razgrad-ii\"], [\"/matches/1820519/live/bulgarie-b-pfg-2024-2025-nesebar-marek-dupnitsa\", 1820519, \"bulgarie\", \"b-pfg\", \"2024-2025\", \"nesebar-marek-dupnitsa\"], [\"/matches/1820520/live/bulgarie-b-pfg-2024-2025-etar-montana\", 1820520, \"bulgarie\", \"b-pfg\", \"2024-2025\", \"etar-montana\"], [\"/matches/1820521/live/bulgarie-b-pfg-2024-2025-lovech-nesebar\", 1820521, \"bulgarie\", \"b-pfg\", \"2024-2025\", \"lovech-nesebar\"], [\"/matches/1820522/live/bulgarie-b-pfg-2024-2025-dobrudzha-dobrich-spartak-pleven\", 1820522, \"bulgarie\", \"b-pfg\", \"2024-2025\", \"dobrudzha-dobrich-spartak-pleven\"], [\"/matches/1820523/live/bulgarie-b-pfg-2024-2025-sportist-svoge-pfc-cska-sofia-ii\", 1820523, \"bulgarie\", \"b-pfg\", \"2024-2025\", \"sportist-svoge-pfc-cska-sofia-ii\"], [\"/matches/1820524/live/bulgarie-b-pfg-2024-2025-pirin-blagoevgrad-fratria\", 1820524, \"bulgarie\", \"b-pfg\", \"2024-2025\", \"pirin-blagoevgrad-fratria\"], [\"/matches/1820525/live/bulgarie-b-pfg-2024-2025-ludogorets-razgrad-ii-etar\", 1820525, \"bulgarie\", \"b-pfg\", \"2024-2025\", \"ludogorets-razgrad-ii-etar\"], [\"/matches/1820526/live/bulgarie-b-pfg-2024-2025-fratria-sportist-svoge\", 1820526, \"bulgarie\", \"b-pfg\", \"2024-2025\", \"fratria-sportist-svoge\"], [\"/matches/1820527/live/bulgarie-b-pfg-2024-2025-spartak-pleven-lokomotiv-gorna-oryahovitsa\", 1820527, \"bulgarie\", \"b-pfg\", \"2024-2025\", \"spartak-pleven-lokomotiv-gorna-oryahovitsa\"], [\"/matches/1820528/live/bulgarie-b-pfg-2024-2025-montana-botev-plovdiv-ii\", 1820528, \"bulgarie\", \"b-pfg\", \"2024-2025\", \"montana-botev-plovdiv-ii\"], [\"/matches/1820529/live/bulgarie-b-pfg-2024-2025-pfc-cska-sofia-ii-dobrudzha-dobrich\", 1820529, \"bulgarie\", \"b-pfg\", \"2024-2025\", \"pfc-cska-sofia-ii-dobrudzha-dobrich\"], [\"/matches/1820530/live/bulgarie-b-pfg-2024-2025-yantra-strumska-slava\", 1820530, \"bulgarie\", \"b-pfg\", \"2024-2025\", \"yantra-strumska-slava\"], [\"/matches/1820531/live/bulgarie-b-pfg-2024-2025-minyor-pernik-belasitsa-petrich\", 1820531, \"bulgarie\", \"b-pfg\", \"2024-2025\", \"minyor-pernik-belasitsa-petrich\"], [\"/matches/1820532/live/bulgarie-b-pfg-2024-2025-belasitsa-petrich-pirin-blagoevgrad\", 1820532, \"bulgarie\", \"b-pfg\", \"2024-2025\", \"belasitsa-petrich-pirin-blagoevgrad\"], [\"/matches/1820533/live/bulgarie-b-pfg-2024-2025-lovech-fratria\", 1820533, \"bulgarie\", \"b-pfg\", \"2024-2025\", \"lovech-fratria\"], [\"/matches/1820534/live/bulgarie-b-pfg-2024-2025-spartak-pleven-lovech\", 1820534, \"bulgarie\", \"b-pfg\", \"2024-2025\", \"spartak-pleven-lovech\"], [\"/matches/1820535/live/bulgarie-b-pfg-2024-2025-etar-nesebar\", 1820535, \"bulgarie\", \"b-pfg\", \"2024-2025\", \"etar-nesebar\"], [\"/matches/1820536/live/bulgarie-b-pfg-2024-2025-spartak-pleven-etar\", 1820536, \"bulgarie\", \"b-pfg\", \"2024-2025\", \"spartak-pleven-etar\"], [\"/matches/1820537/live/bulgarie-b-pfg-2024-2025-nesebar-dunav-ruse\", 1820537, \"bulgarie\", \"b-pfg\", \"2024-2025\", \"nesebar-dunav-ruse\"], [\"/matches/1820538/live/bulgarie-b-pfg-2024-2025-strumska-slava-minyor-pernik\", 1820538, \"bulgarie\", \"b-pfg\", \"2024-2025\", \"strumska-slava-minyor-pernik\"], [\"/matches/1820539/live/bulgarie-b-pfg-2024-2025-montana-lokomotiv-gorna-oryahovitsa\", 1820539, \"bulgarie\", \"b-pfg\", \"2024-2025\", \"montana-lokomotiv-gorna-oryahovitsa\"], [\"/matches/1820540/live/bulgarie-b-pfg-2024-2025-botev-plovdiv-ii-yantra\", 1820540, \"bulgarie\", \"b-pfg\", \"2024-2025\", \"botev-plovdiv-ii-yantra\"], [\"/matches/1820541/live/bulgarie-b-pfg-2024-2025-yantra-marek-dupnitsa\", 1820541, \"bulgarie\", \"b-pfg\", \"2024-2025\", \"yantra-marek-dupnitsa\"], [\"/matches/1820542/live/bulgarie-b-pfg-2024-2025-nesebar-botev-plovdiv-ii\", 1820542, \"bulgarie\", \"b-pfg\", \"2024-2025\", \"nesebar-botev-plovdiv-ii\"], [\"/matches/1820543/live/bulgarie-b-pfg-2024-2025-pfc-cska-sofia-ii-cska-1948-ii\", 1820543, \"bulgarie\", \"b-pfg\", \"2024-2025\", \"pfc-cska-sofia-ii-cska-1948-ii\"], [\"/matches/1820544/live/bulgarie-b-pfg-2024-2025-ludogorets-razgrad-ii-cska-1948-ii\", 1820544, \"bulgarie\", \"b-pfg\", \"2024-2025\", \"ludogorets-razgrad-ii-cska-1948-ii\"], [\"/matches/1820545/live/bulgarie-b-pfg-2024-2025-marek-dupnitsa-ludogorets-razgrad-ii\", 1820545, \"bulgarie\", \"b-pfg\", \"2024-2025\", \"marek-dupnitsa-ludogorets-razgrad-ii\"], [\"/matches/1820546/live/bulgarie-b-pfg-2024-2025-lokomotiv-gorna-oryahovitsa-nesebar\", 1820546, \"bulgarie\", \"b-pfg\", \"2024-2025\", \"lokomotiv-gorna-oryahovitsa-nesebar\"], [\"/matches/1820547/live/bulgarie-b-pfg-2024-2025-ludogorets-razgrad-ii-strumska-slava\", 1820547, \"bulgarie\", \"b-pfg\", \"2024-2025\", \"ludogorets-razgrad-ii-strumska-slava\"], [\"/matches/1820548/live/bulgarie-b-pfg-2024-2025-montana-belasitsa-petrich\", 1820548, \"bulgarie\", \"b-pfg\", \"2024-2025\", \"montana-belasitsa-petrich\"], [\"/matches/1820549/live/bulgarie-b-pfg-2024-2025-cska-1948-ii-spartak-pleven\", 1820549, \"bulgarie\", \"b-pfg\", \"2024-2025\", \"cska-1948-ii-spartak-pleven\"], [\"/matches/1820550/live/bulgarie-b-pfg-2024-2025-dunav-ruse-pfc-cska-sofia-ii\", 1820550, \"bulgarie\", \"b-pfg\", \"2024-2025\", \"dunav-ruse-pfc-cska-sofia-ii\"], [\"/matches/1820551/live/bulgarie-b-pfg-2024-2025-yantra-minyor-pernik\", 1820551, \"bulgarie\", \"b-pfg\", \"2024-2025\", \"yantra-minyor-pernik\"], [\"/matches/1820552/live/bulgarie-b-pfg-2024-2025-dobrudzha-dobrich-sportist-svoge\", 1820552, \"bulgarie\", \"b-pfg\", \"2024-2025\", \"dobrudzha-dobrich-sportist-svoge\"], [\"/matches/1820553/live/bulgarie-b-pfg-2024-2025-pirin-blagoevgrad-sportist-svoge\", 1820553, \"bulgarie\", \"b-pfg\", \"2024-2025\", \"pirin-blagoevgrad-sportist-svoge\"], [\"/matches/1820554/live/bulgarie-b-pfg-2024-2025-minyor-pernik-pirin-blagoevgrad\", 1820554, \"bulgarie\", \"b-pfg\", \"2024-2025\", \"minyor-pernik-pirin-blagoevgrad\"], [\"/matches/1820555/live/bulgarie-b-pfg-2024-2025-belasitsa-petrich-yantra\", 1820555, \"bulgarie\", \"b-pfg\", \"2024-2025\", \"belasitsa-petrich-yantra\"], [\"/matches/1820556/live/bulgarie-b-pfg-2024-2025-strumska-slava-montana\", 1820556, \"bulgarie\", \"b-pfg\", \"2024-2025\", \"strumska-slava-montana\"], [\"/matches/1820557/live/bulgarie-b-pfg-2024-2025-botev-plovdiv-ii-ludogorets-razgrad-ii\", 1820557, \"bulgarie\", \"b-pfg\", \"2024-2025\", \"botev-plovdiv-ii-ludogorets-razgrad-ii\"], [\"/matches/1820558/live/bulgarie-b-pfg-2024-2025-dobrudzha-dobrich-fratria\", 1820558, \"bulgarie\", \"b-pfg\", \"2024-2025\", \"dobrudzha-dobrich-fratria\"], [\"/matches/1820559/live/bulgarie-b-pfg-2024-2025-pfc-cska-sofia-ii-marek-dupnitsa\", 1820559, \"bulgarie\", \"b-pfg\", \"2024-2025\", \"pfc-cska-sofia-ii-marek-dupnitsa\"], [\"/matches/1820560/live/bulgarie-b-pfg-2024-2025-cska-1948-ii-fratria\", 1820560, \"bulgarie\", \"b-pfg\", \"2024-2025\", \"cska-1948-ii-fratria\"], [\"/matches/1820561/live/bulgarie-b-pfg-2024-2025-dunav-ruse-sportist-svoge\", 1820561, \"bulgarie\", \"b-pfg\", \"2024-2025\", \"dunav-ruse-sportist-svoge\"], [\"/matches/1820562/live/bulgarie-b-pfg-2024-2025-marek-dupnitsa-spartak-pleven\", 1820562, \"bulgarie\", \"b-pfg\", \"2024-2025\", \"marek-dupnitsa-spartak-pleven\"], [\"/matches/1820563/live/bulgarie-b-pfg-2024-2025-lokomotiv-gorna-oryahovitsa-pfc-cska-sofia-ii\", 1820563, \"bulgarie\", \"b-pfg\", \"2024-2025\", \"lokomotiv-gorna-oryahovitsa-pfc-cska-sofia-ii\"], [\"/matches/1820564/live/bulgarie-b-pfg-2024-2025-lovech-dobrudzha-dobrich\", 1820564, \"bulgarie\", \"b-pfg\", \"2024-2025\", \"lovech-dobrudzha-dobrich\"], [\"/matches/1820565/live/bulgarie-b-pfg-2024-2025-pirin-blagoevgrad-dobrudzha-dobrich\", 1820565, \"bulgarie\", \"b-pfg\", \"2024-2025\", \"pirin-blagoevgrad-dobrudzha-dobrich\"], [\"/matches/1820566/live/bulgarie-b-pfg-2024-2025-sportist-svoge-lovech\", 1820566, \"bulgarie\", \"b-pfg\", \"2024-2025\", \"sportist-svoge-lovech\"], [\"/matches/1820567/live/bulgarie-b-pfg-2024-2025-fratria-dunav-ruse\", 1820567, \"bulgarie\", \"b-pfg\", \"2024-2025\", \"fratria-dunav-ruse\"], [\"/matches/1820568/live/bulgarie-b-pfg-2024-2025-dunav-ruse-spartak-pleven\", 1820568, \"bulgarie\", \"b-pfg\", \"2024-2025\", \"dunav-ruse-spartak-pleven\"], [\"/matches/1820569/live/bulgarie-b-pfg-2024-2025-marek-dupnitsa-minyor-pernik\", 1820569, \"bulgarie\", \"b-pfg\", \"2024-2025\", \"marek-dupnitsa-minyor-pernik\"], [\"/matches/1820570/live/bulgarie-b-pfg-2024-2025-lokomotiv-gorna-oryahovitsa-yantra\", 1820570, \"bulgarie\", \"b-pfg\", \"2024-2025\", \"lokomotiv-gorna-oryahovitsa-yantra\"], [\"/matches/1820571/live/bulgarie-b-pfg-2024-2025-cska-1948-ii-montana\", 1820571, \"bulgarie\", \"b-pfg\", \"2024-2025\", \"cska-1948-ii-montana\"], [\"/matches/1820572/live/bulgarie-b-pfg-2024-2025-lovech-pfc-cska-sofia-ii\", 1820572, \"bulgarie\", \"b-pfg\", \"2024-2025\", \"lovech-pfc-cska-sofia-ii\"], [\"/matches/1820573/live/bulgarie-b-pfg-2024-2025-cska-1948-ii-nesebar\", 1820573, \"bulgarie\", \"b-pfg\", \"2024-2025\", \"cska-1948-ii-nesebar\"], [\"/matches/1820574/live/bulgarie-b-pfg-2024-2025-lokomotiv-gorna-oryahovitsa-ludogorets-razgrad-ii\", 1820574, \"bulgarie\", \"b-pfg\", \"2024-2025\", \"lokomotiv-gorna-oryahovitsa-ludogorets-razgrad-ii\"], [\"/matches/1820575/live/bulgarie-b-pfg-2024-2025-marek-dupnitsa-montana\", 1820575, \"bulgarie\", \"b-pfg\", \"2024-2025\", \"marek-dupnitsa-montana\"], [\"/matches/1820576/live/bulgarie-b-pfg-2024-2025-etar-yantra\", 1820576, \"bulgarie\", \"b-pfg\", \"2024-2025\", \"etar-yantra\"], [\"/matches/1820577/live/bulgarie-b-pfg-2024-2025-botev-plovdiv-ii-minyor-pernik\", 1820577, \"bulgarie\", \"b-pfg\", \"2024-2025\", \"botev-plovdiv-ii-minyor-pernik\"], [\"/matches/1820578/live/bulgarie-b-pfg-2024-2025-strumska-slava-pirin-blagoevgrad\", 1820578, \"bulgarie\", \"b-pfg\", \"2024-2025\", \"strumska-slava-pirin-blagoevgrad\"], [\"/matches/1820579/live/bulgarie-b-pfg-2024-2025-belasitsa-petrich-botev-plovdiv-ii\", 1820579, \"bulgarie\", \"b-pfg\", \"2024-2025\", \"belasitsa-petrich-botev-plovdiv-ii\"], [\"/matches/1820580/live/bulgarie-b-pfg-2024-2025-minyor-pernik-etar\", 1820580, \"bulgarie\", \"b-pfg\", \"2024-2025\", \"minyor-pernik-etar\"], [\"/matches/1820581/live/bulgarie-b-pfg-2024-2025-strumska-slava-belasitsa-petrich\", 1820581, \"bulgarie\", \"b-pfg\", \"2024-2025\", \"strumska-slava-belasitsa-petrich\"], [\"/matches/1820582/live/bulgarie-b-pfg-2024-2025-pfc-cska-sofia-ii-fratria\", 1820582, \"bulgarie\", \"b-pfg\", \"2024-2025\", \"pfc-cska-sofia-ii-fratria\"], [\"/matches/1820583/live/bulgarie-b-pfg-2024-2025-spartak-pleven-sportist-svoge\", 1820583, \"bulgarie\", \"b-pfg\", \"2024-2025\", \"spartak-pleven-sportist-svoge\"], [\"/matches/1820584/live/bulgarie-b-pfg-2024-2025-nesebar-dobrudzha-dobrich\", 1820584, \"bulgarie\", \"b-pfg\", \"2024-2025\", \"nesebar-dobrudzha-dobrich\"], [\"/matches/1820585/live/bulgarie-b-pfg-2024-2025-ludogorets-razgrad-ii-lovech\", 1820585, \"bulgarie\", \"b-pfg\", \"2024-2025\", \"ludogorets-razgrad-ii-lovech\"], [\"/matches/1820586/live/bulgarie-b-pfg-2024-2025-montana-dunav-ruse\", 1820586, \"bulgarie\", \"b-pfg\", \"2024-2025\", \"montana-dunav-ruse\"], [\"/matches/1820587/live/bulgarie-b-pfg-2024-2025-yantra-cska-1948-ii\", 1820587, \"bulgarie\", \"b-pfg\", \"2024-2025\", \"yantra-cska-1948-ii\"], [\"/matches/1820588/live/bulgarie-b-pfg-2024-2025-minyor-pernik-lokomotiv-gorna-oryahovitsa\", 1820588, \"bulgarie\", \"b-pfg\", \"2024-2025\", \"minyor-pernik-lokomotiv-gorna-oryahovitsa\"], [\"/matches/1820589/live/bulgarie-b-pfg-2024-2025-belasitsa-petrich-marek-dupnitsa\", 1820589, \"bulgarie\", \"b-pfg\", \"2024-2025\", \"belasitsa-petrich-marek-dupnitsa\"], [\"/matches/1820590/live/bulgarie-b-pfg-2024-2025-strumska-slava-etar\", 1820590, \"bulgarie\", \"b-pfg\", \"2024-2025\", \"strumska-slava-etar\"], [\"/matches/1820591/live/bulgarie-b-pfg-2024-2025-botev-plovdiv-ii-pirin-blagoevgrad\", 1820591, \"bulgarie\", \"b-pfg\", \"2024-2025\", \"botev-plovdiv-ii-pirin-blagoevgrad\"], [\"/matches/1820592/live/bulgarie-b-pfg-2024-2025-botev-plovdiv-ii-strumska-slava\", 1820592, \"bulgarie\", \"b-pfg\", \"2024-2025\", \"botev-plovdiv-ii-strumska-slava\"], [\"/matches/1820593/live/bulgarie-b-pfg-2024-2025-etar-belasitsa-petrich\", 1820593, \"bulgarie\", \"b-pfg\", \"2024-2025\", \"etar-belasitsa-petrich\"], [\"/matches/1820594/live/bulgarie-b-pfg-2024-2025-montana-yantra\", 1820594, \"bulgarie\", \"b-pfg\", \"2024-2025\", \"montana-yantra\"], [\"/matches/1820595/live/bulgarie-b-pfg-2024-2025-minyor-pernik-nesebar\", 1820595, \"bulgarie\", \"b-pfg\", \"2024-2025\", \"minyor-pernik-nesebar\"], [\"/matches/1820596/live/bulgarie-b-pfg-2024-2025-belasitsa-petrich-spartak-pleven\", 1820596, \"bulgarie\", \"b-pfg\", \"2024-2025\", \"belasitsa-petrich-spartak-pleven\"], [\"/matches/1820597/live/bulgarie-b-pfg-2024-2025-strumska-slava-pfc-cska-sofia-ii\", 1820597, \"bulgarie\", \"b-pfg\", \"2024-2025\", \"strumska-slava-pfc-cska-sofia-ii\"], [\"/matches/1820598/live/bulgarie-b-pfg-2024-2025-botev-plovdiv-ii-fratria\", 1820598, \"bulgarie\", \"b-pfg\", \"2024-2025\", \"botev-plovdiv-ii-fratria\"], [\"/matches/1820599/live/bulgarie-b-pfg-2024-2025-marek-dupnitsa-dobrudzha-dobrich\", 1820599, \"bulgarie\", \"b-pfg\", \"2024-2025\", \"marek-dupnitsa-dobrudzha-dobrich\"], [\"/matches/1820600/live/bulgarie-b-pfg-2024-2025-lokomotiv-gorna-oryahovitsa-lovech\", 1820600, \"bulgarie\", \"b-pfg\", \"2024-2025\", \"lokomotiv-gorna-oryahovitsa-lovech\"], [\"/matches/1820601/live/bulgarie-b-pfg-2024-2025-cska-1948-ii-dunav-ruse\", 1820601, \"bulgarie\", \"b-pfg\", \"2024-2025\", \"cska-1948-ii-dunav-ruse\"], [\"/matches/1820602/live/bulgarie-b-pfg-2024-2025-pirin-blagoevgrad-dunav-ruse\", 1820602, \"bulgarie\", \"b-pfg\", \"2024-2025\", \"pirin-blagoevgrad-dunav-ruse\"], [\"/matches/1820603/live/bulgarie-b-pfg-2024-2025-lovech-cska-1948-ii\", 1820603, \"bulgarie\", \"b-pfg\", \"2024-2025\", \"lovech-cska-1948-ii\"], [\"/matches/1820604/live/bulgarie-b-pfg-2024-2025-dobrudzha-dobrich-lokomotiv-gorna-oryahovitsa\", 1820604, \"bulgarie\", \"b-pfg\", \"2024-2025\", \"dobrudzha-dobrich-lokomotiv-gorna-oryahovitsa\"], [\"/matches/1820605/live/bulgarie-b-pfg-2024-2025-sportist-svoge-marek-dupnitsa\", 1820605, \"bulgarie\", \"b-pfg\", \"2024-2025\", \"sportist-svoge-marek-dupnitsa\"], [\"/matches/1820606/live/bulgarie-b-pfg-2024-2025-fratria-etar\", 1820606, \"bulgarie\", \"b-pfg\", \"2024-2025\", \"fratria-etar\"], [\"/matches/1820607/live/bulgarie-b-pfg-2024-2025-etar-lokomotiv-gorna-oryahovitsa\", 1820607, \"bulgarie\", \"b-pfg\", \"2024-2025\", \"etar-lokomotiv-gorna-oryahovitsa\"], [\"/matches/1820608/live/bulgarie-b-pfg-2024-2025-botev-plovdiv-ii-cska-1948-ii\", 1820608, \"bulgarie\", \"b-pfg\", \"2024-2025\", \"botev-plovdiv-ii-cska-1948-ii\"], [\"/matches/1820609/live/bulgarie-b-pfg-2024-2025-strumska-slava-dunav-ruse\", 1820609, \"bulgarie\", \"b-pfg\", \"2024-2025\", \"strumska-slava-dunav-ruse\"], [\"/matches/1820610/live/bulgarie-b-pfg-2024-2025-marek-dupnitsa-etar\", 1820610, \"bulgarie\", \"b-pfg\", \"2024-2025\", \"marek-dupnitsa-etar\"], [\"/matches/1820611/live/bulgarie-b-pfg-2024-2025-belasitsa-petrich-lovech\", 1820611, \"bulgarie\", \"b-pfg\", \"2024-2025\", \"belasitsa-petrich-lovech\"], [\"/matches/1820612/live/bulgarie-b-pfg-2024-2025-minyor-pernik-dobrudzha-dobrich\", 1820612, \"bulgarie\", \"b-pfg\", \"2024-2025\", \"minyor-pernik-dobrudzha-dobrich\"], [\"/matches/1820613/live/bulgarie-b-pfg-2024-2025-pirin-blagoevgrad-spartak-pleven\", 1820613, \"bulgarie\", \"b-pfg\", \"2024-2025\", \"pirin-blagoevgrad-spartak-pleven\"], [\"/matches/1820614/live/bulgarie-b-pfg-2024-2025-pfc-cska-sofia-ii-nesebar\", 1820614, \"bulgarie\", \"b-pfg\", \"2024-2025\", \"pfc-cska-sofia-ii-nesebar\"], [\"/matches/1820615/live/bulgarie-b-pfg-2024-2025-yantra-sportist-svoge\", 1820615, \"bulgarie\", \"b-pfg\", \"2024-2025\", \"yantra-sportist-svoge\"], [\"/matches/1820616/live/bulgarie-b-pfg-2024-2025-fratria-ludogorets-razgrad-ii\", 1820616, \"bulgarie\", \"b-pfg\", \"2024-2025\", \"fratria-ludogorets-razgrad-ii\"], [\"/matches/1820617/live/bulgarie-b-pfg-2024-2025-sportist-svoge-montana\", 1820617, \"bulgarie\", \"b-pfg\", \"2024-2025\", \"sportist-svoge-montana\"], [\"/matches/1820618/live/bulgarie-b-pfg-2024-2025-dobrudzha-dobrich-yantra\", 1820618, \"bulgarie\", \"b-pfg\", \"2024-2025\", \"dobrudzha-dobrich-yantra\"], [\"/matches/1820619/live/bulgarie-b-pfg-2024-2025-lovech-minyor-pernik\", 1820619, \"bulgarie\", \"b-pfg\", \"2024-2025\", \"lovech-minyor-pernik\"], [\"/matches/1820620/live/bulgarie-b-pfg-2024-2025-dunav-ruse-belasitsa-petrich\", 1820620, \"bulgarie\", \"b-pfg\", \"2024-2025\", \"dunav-ruse-belasitsa-petrich\"], [\"/matches/1820621/live/bulgarie-b-pfg-2024-2025-montana-fratria\", 1820621, \"bulgarie\", \"b-pfg\", \"2024-2025\", \"montana-fratria\"], [\"/matches/1820622/live/bulgarie-b-pfg-2024-2025-cska-1948-ii-strumska-slava\", 1820622, \"bulgarie\", \"b-pfg\", \"2024-2025\", \"cska-1948-ii-strumska-slava\"], [\"/matches/1820623/live/bulgarie-b-pfg-2024-2025-lokomotiv-gorna-oryahovitsa-botev-plovdiv-ii\", 1820623, \"bulgarie\", \"b-pfg\", \"2024-2025\", \"lokomotiv-gorna-oryahovitsa-botev-plovdiv-ii\"], [\"/matches/1820624/live/bulgarie-b-pfg-2024-2025-lokomotiv-gorna-oryahovitsa-belasitsa-petrich\", 1820624, \"bulgarie\", \"b-pfg\", \"2024-2025\", \"lokomotiv-gorna-oryahovitsa-belasitsa-petrich\"], [\"/matches/1820625/live/bulgarie-b-pfg-2024-2025-marek-dupnitsa-strumska-slava\", 1820625, \"bulgarie\", \"b-pfg\", \"2024-2025\", \"marek-dupnitsa-strumska-slava\"], [\"/matches/1820626/live/bulgarie-b-pfg-2024-2025-spartak-pleven-pfc-cska-sofia-ii\", 1820626, \"bulgarie\", \"b-pfg\", \"2024-2025\", \"spartak-pleven-pfc-cska-sofia-ii\"], [\"/matches/1820627/live/bulgarie-b-pfg-2024-2025-etar-botev-plovdiv-ii\", 1820627, \"bulgarie\", \"b-pfg\", \"2024-2025\", \"etar-botev-plovdiv-ii\"], [\"/matches/1820628/live/bulgarie-b-pfg-2024-2025-marek-dupnitsa-pirin-blagoevgrad\", 1820628, \"bulgarie\", \"b-pfg\", \"2024-2025\", \"marek-dupnitsa-pirin-blagoevgrad\"], [\"/matches/1820629/live/bulgarie-b-pfg-2024-2025-etar-pirin-blagoevgrad\", 1820629, \"bulgarie\", \"b-pfg\", \"2024-2025\", \"etar-pirin-blagoevgrad\"], [\"/matches/1820630/live/bulgarie-b-pfg-2024-2025-fratria-spartak-pleven\", 1820630, \"bulgarie\", \"b-pfg\", \"2024-2025\", \"fratria-spartak-pleven\"], [\"/matches/1820631/live/bulgarie-b-pfg-2024-2025-sportist-svoge-nesebar\", 1820631, \"bulgarie\", \"b-pfg\", \"2024-2025\", \"sportist-svoge-nesebar\"], [\"/matches/1820632/live/bulgarie-b-pfg-2024-2025-dobrudzha-dobrich-ludogorets-razgrad-ii\", 1820632, \"bulgarie\", \"b-pfg\", \"2024-2025\", \"dobrudzha-dobrich-ludogorets-razgrad-ii\"], [\"/matches/1820633/live/bulgarie-b-pfg-2024-2025-lovech-montana\", 1820633, \"bulgarie\", \"b-pfg\", \"2024-2025\", \"lovech-montana\"], [\"/matches/1820634/live/bulgarie-b-pfg-2024-2025-dunav-ruse-yantra\", 1820634, \"bulgarie\", \"b-pfg\", \"2024-2025\", \"dunav-ruse-yantra\"], [\"/matches/1820635/live/bulgarie-b-pfg-2024-2025-cska-1948-ii-minyor-pernik\", 1820635, \"bulgarie\", \"b-pfg\", \"2024-2025\", \"cska-1948-ii-minyor-pernik\"], [\"/matches/1820636/live/bulgarie-b-pfg-2024-2025-pirin-blagoevgrad-pfc-cska-sofia-ii\", 1820636, \"bulgarie\", \"b-pfg\", \"2024-2025\", \"pirin-blagoevgrad-pfc-cska-sofia-ii\"], [\"/matches/1820637/live/bulgarie-b-pfg-2024-2025-botev-plovdiv-ii-marek-dupnitsa\", 1820637, \"bulgarie\", \"b-pfg\", \"2024-2025\", \"botev-plovdiv-ii-marek-dupnitsa\"], [\"/matches/1820638/live/bulgarie-b-pfg-2024-2025-strumska-slava-lokomotiv-gorna-oryahovitsa\", 1820638, \"bulgarie\", \"b-pfg\", \"2024-2025\", \"strumska-slava-lokomotiv-gorna-oryahovitsa\"], [\"/matches/1820639/live/bulgarie-b-pfg-2024-2025-belasitsa-petrich-cska-1948-ii\", 1820639, \"bulgarie\", \"b-pfg\", \"2024-2025\", \"belasitsa-petrich-cska-1948-ii\"], [\"/matches/1820640/live/bulgarie-b-pfg-2024-2025-minyor-pernik-dunav-ruse\", 1820640, \"bulgarie\", \"b-pfg\", \"2024-2025\", \"minyor-pernik-dunav-ruse\"], [\"/matches/1820641/live/bulgarie-b-pfg-2024-2025-yantra-lovech\", 1820641, \"bulgarie\", \"b-pfg\", \"2024-2025\", \"yantra-lovech\"], [\"/matches/1820642/live/bulgarie-b-pfg-2024-2025-montana-dobrudzha-dobrich\", 1820642, \"bulgarie\", \"b-pfg\", \"2024-2025\", \"montana-dobrudzha-dobrich\"], [\"/matches/1820643/live/bulgarie-b-pfg-2024-2025-ludogorets-razgrad-ii-sportist-svoge\", 1820643, \"bulgarie\", \"b-pfg\", \"2024-2025\", \"ludogorets-razgrad-ii-sportist-svoge\"], [\"/matches/1820644/live/bulgarie-b-pfg-2024-2025-nesebar-fratria\", 1820644, \"bulgarie\", \"b-pfg\", \"2024-2025\", \"nesebar-fratria\"], [\"/matches/1820648/live/bulgarie-b-pfg-2024-2025-nesebar-spartak-pleven\", 1820648, \"bulgarie\", \"b-pfg\", \"2024-2025\", \"nesebar-spartak-pleven\"], [\"/matches/1820654/live/bulgarie-b-pfg-2024-2025-pirin-blagoevgrad-nesebar\", 1820654, \"bulgarie\", \"b-pfg\", \"2024-2025\", \"pirin-blagoevgrad-nesebar\"], [\"/matches/1820656/live/bulgarie-b-pfg-2024-2025-spartak-pleven-ludogorets-razgrad-ii\", 1820656, \"bulgarie\", \"b-pfg\", \"2024-2025\", \"spartak-pleven-ludogorets-razgrad-ii\"], [\"/matches/1820657/live/bulgarie-b-pfg-2024-2025-cska-1948-ii-etar\", 1820657, \"bulgarie\", \"b-pfg\", \"2024-2025\", \"cska-1948-ii-etar\"], [\"/matches/1820658/live/bulgarie-b-pfg-2024-2025-pfc-cska-sofia-ii-montana\", 1820658, \"bulgarie\", \"b-pfg\", \"2024-2025\", \"pfc-cska-sofia-ii-montana\"], [\"/matches/1820659/live/bulgarie-b-pfg-2024-2025-ludogorets-razgrad-ii-pfc-cska-sofia-ii\", 1820659, \"bulgarie\", \"b-pfg\", \"2024-2025\", \"ludogorets-razgrad-ii-pfc-cska-sofia-ii\"], [\"/matches/1820671/live/bulgarie-b-pfg-2024-2025-fratria-yantra\", 1820671, \"bulgarie\", \"b-pfg\", \"2024-2025\", \"fratria-yantra\"], [\"/matches/1820672/live/bulgarie-b-pfg-2024-2025-sportist-svoge-minyor-pernik\", 1820672, \"bulgarie\", \"b-pfg\", \"2024-2025\", \"sportist-svoge-minyor-pernik\"], [\"/matches/1820673/live/bulgarie-b-pfg-2024-2025-dobrudzha-dobrich-belasitsa-petrich\", 1820673, \"bulgarie\", \"b-pfg\", \"2024-2025\", \"dobrudzha-dobrich-belasitsa-petrich\"], [\"/matches/1820674/live/bulgarie-b-pfg-2024-2025-lovech-strumska-slava\", 1820674, \"bulgarie\", \"b-pfg\", \"2024-2025\", \"lovech-strumska-slava\"], [\"/matches/1820675/live/bulgarie-b-pfg-2024-2025-dunav-ruse-botev-plovdiv-ii\", 1820675, \"bulgarie\", \"b-pfg\", \"2024-2025\", \"dunav-ruse-botev-plovdiv-ii\"], [\"/matches/1820676/live/bulgarie-b-pfg-2024-2025-lokomotiv-gorna-oryahovitsa-marek-dupnitsa\", 1820676, \"bulgarie\", \"b-pfg\", \"2024-2025\", \"lokomotiv-gorna-oryahovitsa-marek-dupnitsa\"], [\"/matches/1820757/live/am\\u00e9rique-centrale-et-du-nord-concacaf-league-2024-tauro-fc-diriangen-fc\", 1820757, \"NaN\", \"NaN\", \"NaN\", \"NaN\"], [\"/matches/1820758/live/am\\u00e9rique-centrale-et-du-nord-concacaf-league-2024-club-sport-herediano-fc-motagua\", 1820758, \"NaN\", \"NaN\", \"NaN\", \"NaN\"], [\"/matches/1820759/live/am\\u00e9rique-centrale-et-du-nord-concacaf-league-2024-comunicaciones-fc-alianza-fc\", 1820759, \"NaN\", \"NaN\", \"NaN\", \"NaN\"], [\"/matches/1820760/live/am\\u00e9rique-centrale-et-du-nord-concacaf-league-2024-comunicaciones-fc-cd-marathon\", 1820760, \"NaN\", \"NaN\", \"NaN\", \"NaN\"], [\"/matches/1820761/live/am\\u00e9rique-centrale-et-du-nord-concacaf-league-2024-cd-aguila-cd-olimpia\", 1820761, \"NaN\", \"NaN\", \"NaN\", \"NaN\"], [\"/matches/1820762/live/am\\u00e9rique-centrale-et-du-nord-concacaf-league-2024-independiente-de-la-chorrera-cd-aguila\", 1820762, \"NaN\", \"NaN\", \"NaN\", \"NaN\"], [\"/matches/1820763/live/am\\u00e9rique-centrale-et-du-nord-concacaf-league-2024-antigua-guatemala-cd-aguila\", 1820763, \"NaN\", \"NaN\", \"NaN\", \"NaN\"], [\"/matches/1820764/live/am\\u00e9rique-centrale-et-du-nord-concacaf-league-2024-antigua-guatemala-independiente-de-la-chorrera\", 1820764, \"NaN\", \"NaN\", \"NaN\", \"NaN\"], [\"/matches/1820765/live/am\\u00e9rique-centrale-et-du-nord-concacaf-league-2024-cd-olimpia-antigua-guatemala\", 1820765, \"NaN\", \"NaN\", \"NaN\", \"NaN\"], [\"/matches/1820766/live/am\\u00e9rique-centrale-et-du-nord-concacaf-league-2024-cd-olimpia-independiente-de-la-chorrera\", 1820766, \"NaN\", \"NaN\", \"NaN\", \"NaN\"], [\"/matches/1820767/live/am\\u00e9rique-centrale-et-du-nord-concacaf-league-2024-deportivo-saprissa-ad-guanacasteca\", 1820767, \"NaN\", \"NaN\", \"NaN\", \"NaN\"], [\"/matches/1820768/live/am\\u00e9rique-centrale-et-du-nord-concacaf-league-2024-managua-fc-deportivo-saprissa\", 1820768, \"NaN\", \"NaN\", \"NaN\", \"NaN\"], [\"/matches/1820769/live/am\\u00e9rique-centrale-et-du-nord-concacaf-league-2024-real-esteli-fc-managua-fc\", 1820769, \"NaN\", \"NaN\", \"NaN\", \"NaN\"], [\"/matches/1820770/live/am\\u00e9rique-centrale-et-du-nord-concacaf-league-2024-real-esteli-fc-deportivo-saprissa\", 1820770, \"NaN\", \"NaN\", \"NaN\", \"NaN\"], [\"/matches/1820771/live/am\\u00e9rique-centrale-et-du-nord-concacaf-league-2024-ad-guanacasteca-managua-fc\", 1820771, \"NaN\", \"NaN\", \"NaN\", \"NaN\"], [\"/matches/1820772/live/am\\u00e9rique-centrale-et-du-nord-concacaf-league-2024-managua-fc-csd-municipal\", 1820772, \"NaN\", \"NaN\", \"NaN\", \"NaN\"], [\"/matches/1820773/live/am\\u00e9rique-centrale-et-du-nord-concacaf-league-2024-csd-municipal-real-esteli-fc\", 1820773, \"NaN\", \"NaN\", \"NaN\", \"NaN\"], [\"/matches/1820774/live/am\\u00e9rique-centrale-et-du-nord-concacaf-league-2024-csd-municipal-ad-guanacasteca\", 1820774, \"NaN\", \"NaN\", \"NaN\", \"NaN\"], [\"/matches/1820775/live/am\\u00e9rique-centrale-et-du-nord-concacaf-league-2024-club-sport-herediano-tauro-fc\", 1820775, \"NaN\", \"NaN\", \"NaN\", \"NaN\"], [\"/matches/1820776/live/am\\u00e9rique-centrale-et-du-nord-concacaf-league-2024-diriangen-fc-club-sport-herediano\", 1820776, \"NaN\", \"NaN\", \"NaN\", \"NaN\"], [\"/matches/1820777/live/am\\u00e9rique-centrale-et-du-nord-concacaf-league-2024-fc-motagua-san-francisco-fc\", 1820777, \"NaN\", \"NaN\", \"NaN\", \"NaN\"], [\"/matches/1820778/live/am\\u00e9rique-centrale-et-du-nord-concacaf-league-2024-san-francisco-fc-diriangen-fc\", 1820778, \"NaN\", \"NaN\", \"NaN\", \"NaN\"], [\"/matches/1820779/live/am\\u00e9rique-centrale-et-du-nord-concacaf-league-2024-fc-motagua-tauro-fc\", 1820779, \"NaN\", \"NaN\", \"NaN\", \"NaN\"], [\"/matches/1820780/live/am\\u00e9rique-centrale-et-du-nord-concacaf-league-2024-san-francisco-fc-club-sport-herediano\", 1820780, \"NaN\", \"NaN\", \"NaN\", \"NaN\"], [\"/matches/1820781/live/am\\u00e9rique-centrale-et-du-nord-concacaf-league-2024-tauro-fc-san-francisco-fc\", 1820781, \"NaN\", \"NaN\", \"NaN\", \"NaN\"], [\"/matches/1820782/live/am\\u00e9rique-centrale-et-du-nord-concacaf-league-2024-diriangen-fc-fc-motagua\", 1820782, \"NaN\", \"NaN\", \"NaN\", \"NaN\"], [\"/matches/1820783/live/am\\u00e9rique-centrale-et-du-nord-concacaf-league-2024-firpo-comunicaciones-fc\", 1820783, \"NaN\", \"NaN\", \"NaN\", \"NaN\"], [\"/matches/1820784/live/am\\u00e9rique-centrale-et-du-nord-concacaf-league-2024-ld-alajuelense-cd-marathon\", 1820784, \"NaN\", \"NaN\", \"NaN\", \"NaN\"], [\"/matches/1820785/live/am\\u00e9rique-centrale-et-du-nord-concacaf-league-2024-firpo-ld-alajuelense\", 1820785, \"NaN\", \"NaN\", \"NaN\", \"NaN\"], [\"/matches/1820786/live/am\\u00e9rique-centrale-et-du-nord-concacaf-league-2024-alianza-fc-firpo\", 1820786, \"NaN\", \"NaN\", \"NaN\", \"NaN\"], [\"/matches/1820787/live/am\\u00e9rique-centrale-et-du-nord-concacaf-league-2024-alianza-fc-ld-alajuelense\", 1820787, \"NaN\", \"NaN\", \"NaN\", \"NaN\"], [\"/matches/1820788/live/am\\u00e9rique-centrale-et-du-nord-concacaf-league-2024-cd-marathon-firpo\", 1820788, \"NaN\", \"NaN\", \"NaN\", \"NaN\"], [\"/matches/1820789/live/am\\u00e9rique-centrale-et-du-nord-concacaf-league-2024-ld-alajuelense-comunicaciones-fc\", 1820789, \"NaN\", \"NaN\", \"NaN\", \"NaN\"], [\"/matches/1820790/live/am\\u00e9rique-centrale-et-du-nord-concacaf-league-2024-cd-marathon-alianza-fc\", 1820790, \"NaN\", \"NaN\", \"NaN\", \"NaN\"], [\"/matches/1820791/live/am\\u00e9rique-centrale-et-du-nord-concacaf-league-2024-ad-guanacasteca-real-esteli-fc\", 1820791, \"NaN\", \"NaN\", \"NaN\", \"NaN\"], [\"/matches/1820792/live/am\\u00e9rique-centrale-et-du-nord-concacaf-league-2024-deportivo-saprissa-csd-municipal\", 1820792, \"NaN\", \"NaN\", \"NaN\", \"NaN\"], [\"/matches/1820793/live/am\\u00e9rique-centrale-et-du-nord-concacaf-league-2024-cd-aguila-port-layola\", 1820793, \"NaN\", \"NaN\", \"NaN\", \"NaN\"], [\"/matches/1820794/live/am\\u00e9rique-centrale-et-du-nord-concacaf-league-2024-independiente-de-la-chorrera-port-layola\", 1820794, \"NaN\", \"NaN\", \"NaN\", \"NaN\"], [\"/matches/1820795/live/am\\u00e9rique-centrale-et-du-nord-concacaf-league-2024-port-layola-cd-olimpia\", 1820795, \"NaN\", \"NaN\", \"NaN\", \"NaN\"], [\"/matches/1820796/live/am\\u00e9rique-centrale-et-du-nord-concacaf-league-2024-port-layola-antigua-guatemala\", 1820796, \"NaN\", \"NaN\", \"NaN\", \"NaN\"], [\"/matches/1820797/live/p\\u00e9rou-segunda-division-2024-deportivo-llacuabamba-alianza-universidad\", 1820797, \"NaN\", \"NaN\", \"NaN\", \"NaN\"], [\"/matches/1820798/live/p\\u00e9rou-segunda-division-2024-pirata-fc-carlos-stein\", 1820798, \"NaN\", \"NaN\", \"NaN\", \"NaN\"], [\"/matches/1820799/live/p\\u00e9rou-segunda-division-2024-club-deportivo-moquegua-santos\", 1820799, \"NaN\", \"NaN\", \"NaN\", \"NaN\"], [\"/matches/1820800/live/espagne-segunda-divisi\\u00f3n-2023-2024-real-oviedo-espanyol\", 1820800, \"espagne\", \"segunda-divisi\\u00f3n\", \"2023-2024\", \"real-oviedo-espanyol\"], [\"/matches/1820801/live/espagne-segunda-divisi\\u00f3n-2023-2024-espanyol-real-oviedo\", 1820801, \"espagne\", \"segunda-divisi\\u00f3n\", \"2023-2024\", \"espanyol-real-oviedo\"], [\"/matches/1820802/live/islande-cup-2024-ka-akureyri-valur\", 1820802, \"NaN\", \"NaN\", \"NaN\", \"NaN\"], [\"/matches/1820803/live/islande-cup-2024-vikingur-reykjavik-stjarnan\", 1820803, \"NaN\", \"NaN\", \"NaN\", \"NaN\"], [\"/matches/1820804/live/international-club-friendlies-2024-luton-agf\", 1820804, \"NaN\", \"NaN\", \"NaN\", \"NaN\"], [\"/matches/1820805/live/international-club-friendlies-2024-silkeborg-fk-haugesund\", 1820805, \"NaN\", \"NaN\", \"NaN\", \"NaN\"], [\"/matches/1820806/live/international-club-friendlies-2024-fc-utrecht-silkeborg\", 1820806, \"NaN\", \"NaN\", \"NaN\", \"NaN\"], [\"/matches/1820807/live/international-club-friendlies-2024-pec-zwolle-silkeborg\", 1820807, \"NaN\", \"NaN\", \"NaN\", \"NaN\"], [\"/matches/1820808/live/p\\u00e9rou-segunda-division-2024-academia-cantolao-universidad-san-martin\", 1820808, \"NaN\", \"NaN\", \"NaN\", \"NaN\"], [\"/matches/1820809/live/p\\u00e9rou-segunda-division-2024-deportivo-coopsol-deportivo-municipal\", 1820809, \"NaN\", \"NaN\", \"NaN\", \"NaN\"], [\"/matches/1820810/live/p\\u00e9rou-segunda-division-2024-ayacucho-fc-binacional\", 1820810, \"NaN\", \"NaN\", \"NaN\", \"NaN\"], [\"/matches/1820812/live/international-club-friendlies-2024-fc-lugano-ac-bellinzona\", 1820812, \"NaN\", \"NaN\", \"NaN\", \"NaN\"], [\"/matches/1820813/live/international-club-friendlies-2024-fc-lugano-parma-calcio-1913\", 1820813, \"NaN\", \"NaN\", \"NaN\", \"NaN\"], [\"/matches/1820814/live/international-club-friendlies-2024-servette-fc-westerlo\", 1820814, \"NaN\", \"NaN\", \"NaN\", \"NaN\"], [\"/matches/1820815/live/international-club-friendlies-2024-fc-sion-braga\", 1820815, \"NaN\", \"NaN\", \"NaN\", \"NaN\"], [\"/matches/1820816/live/international-club-friendlies-2024-fc-winterthur-eintracht-braunschweig\", 1820816, \"NaN\", \"NaN\", \"NaN\", \"NaN\"], [\"/matches/1820818/live/international-club-friendlies-2024-1860-munich-strasbourg\", 1820818, \"international\", \"club-friendlies\", \"2024-1860\", \"munich-strasbourg\"], [\"/matches/1820819/live/international-club-friendlies-2024-mainz-05-preussen-muenster\", 1820819, \"NaN\", \"NaN\", \"NaN\", \"NaN\"], [\"/matches/1820820/live/international-club-friendlies-2024-mainz-05-montpellier\", 1820820, \"NaN\", \"NaN\", \"NaN\", \"NaN\"], [\"/matches/1820821/live/international-club-friendlies-2024-sk-austria-klagenfurt-treibach\", 1820821, \"NaN\", \"NaN\", \"NaN\", \"NaN\"], [\"/matches/1820822/live/international-club-friendlies-2024-sk-austria-klagenfurt-fc-hermagor\", 1820822, \"NaN\", \"NaN\", \"NaN\", \"NaN\"], [\"/matches/1820823/live/international-club-friendlies-2024-sk-austria-klagenfurt-tsc-backa-topola\", 1820823, \"NaN\", \"NaN\", \"NaN\", \"NaN\"], [\"/matches/1820824/live/international-club-friendlies-2024-sk-austria-klagenfurt-koper\", 1820824, \"NaN\", \"NaN\", \"NaN\", \"NaN\"], [\"/matches/1820825/live/international-club-friendlies-2024-sk-austria-klagenfurt-leoben\", 1820825, \"NaN\", \"NaN\", \"NaN\", \"NaN\"], [\"/matches/1820826/live/international-club-friendlies-2024-sk-austria-klagenfurt-rizespor\", 1820826, \"NaN\", \"NaN\", \"NaN\", \"NaN\"], [\"/matches/1820827/live/venezuela-segunda-division-2024-heroes-de-falcon-fc-real-frontera\", 1820827, \"NaN\", \"NaN\", \"NaN\", \"NaN\"], [\"/matches/1820828/live/venezuela-segunda-division-2024-academia-rey-atletico-el-vigia\", 1820828, \"NaN\", \"NaN\", \"NaN\", \"NaN\"], [\"/matches/1820829/live/venezuela-segunda-division-2024-yaracuyanos-fc-trujillanos-fc\", 1820829, \"NaN\", \"NaN\", \"NaN\", \"NaN\"], [\"/matches/1820830/live/venezuela-segunda-division-2024-urena-sc-aragua-fc\", 1820830, \"NaN\", \"NaN\", \"NaN\", \"NaN\"], [\"/matches/1820831/live/venezuela-segunda-division-2024-dynamo-de-puerto-la-cruz-deportivo-miranda\", 1820831, \"NaN\", \"NaN\", \"NaN\", \"NaN\"], [\"/matches/1820832/live/venezuela-segunda-division-2024-maritimo-deportivo-nueva-esparta\", 1820832, \"NaN\", \"NaN\", \"NaN\", \"NaN\"], [\"/matches/1820833/live/venezuela-segunda-division-2024-bolivar-sport-club-atletico-la-cruz\", 1820833, \"NaN\", \"NaN\", \"NaN\", \"NaN\"], [\"/matches/1820834/live/venezuela-segunda-division-2024-fundacion-aifi-anzoategui-fc\", 1820834, \"NaN\", \"NaN\", \"NaN\", \"NaN\"], [\"/matches/1820835/live/iran-hazfi-cup-2023-2024-mes-rafsanjan-sepahan\", 1820835, \"iran\", \"hazfi-cup\", \"2023-2024\", \"mes-rafsanjan-sepahan\"], [\"/matches/1820836/live/am\\u00e9rique-centrale-et-du-nord-cfu-club-champions-cup-2024-mount-pleasant-cavalier-sc\", 1820836, \"NaN\", \"NaN\", \"NaN\", \"NaN\"], [\"/matches/1820837/live/am\\u00e9rique-centrale-et-du-nord-cfu-club-champions-cup-2024-cibao-moca-fc\", 1820837, \"NaN\", \"NaN\", \"NaN\", \"NaN\"], [\"/matches/1820838/live/am\\u00e9rique-centrale-et-du-nord-cfu-club-champions-cup-2024-moca-fc-ac-port-of-spain\", 1820838, \"NaN\", \"NaN\", \"NaN\", \"NaN\"], [\"/matches/1820839/live/am\\u00e9rique-centrale-et-du-nord-cfu-club-champions-cup-2024-ac-port-of-spain-cibao\", 1820839, \"NaN\", \"NaN\", \"NaN\", \"NaN\"], [\"/matches/1820840/live/am\\u00e9rique-centrale-et-du-nord-cfu-club-champions-cup-2024-ouanaminthe-fc-ac-port-of-spain\", 1820840, \"NaN\", \"NaN\", \"NaN\", \"NaN\"], [\"/matches/1820841/live/am\\u00e9rique-centrale-et-du-nord-cfu-club-champions-cup-2024-moca-fc-ouanaminthe-fc\", 1820841, \"NaN\", \"NaN\", \"NaN\", \"NaN\"], [\"/matches/1820842/live/am\\u00e9rique-centrale-et-du-nord-cfu-club-champions-cup-2024-cibao-ouanaminthe-fc\", 1820842, \"NaN\", \"NaN\", \"NaN\", \"NaN\"], [\"/matches/1820843/live/am\\u00e9rique-centrale-et-du-nord-cfu-club-champions-cup-2024-real-hope-fa-police-fc\", 1820843, \"NaN\", \"NaN\", \"NaN\", \"NaN\"], [\"/matches/1820844/live/am\\u00e9rique-centrale-et-du-nord-cfu-club-champions-cup-2024-cavalier-sc-police-fc\", 1820844, \"NaN\", \"NaN\", \"NaN\", \"NaN\"], [\"/matches/1820845/live/am\\u00e9rique-centrale-et-du-nord-cfu-club-champions-cup-2024-cavalier-sc-real-hope-fa\", 1820845, \"NaN\", \"NaN\", \"NaN\", \"NaN\"], [\"/matches/1820846/live/am\\u00e9rique-centrale-et-du-nord-cfu-club-champions-cup-2024-police-fc-mount-pleasant\", 1820846, \"NaN\", \"NaN\", \"NaN\", \"NaN\"], [\"/matches/1820847/live/am\\u00e9rique-centrale-et-du-nord-cfu-club-champions-cup-2024-mount-pleasant-real-hope-fa\", 1820847, \"NaN\", \"NaN\", \"NaN\", \"NaN\"], [\"/matches/1820848/live/international-club-friendlies-2024-kalmar-ff-haecken\", 1820848, \"NaN\", \"NaN\", \"NaN\", \"NaN\"], [\"/matches/1820849/live/international-club-friendlies-2024-kalmar-ff-kolding-if\", 1820849, \"NaN\", \"NaN\", \"NaN\", \"NaN\"], [\"/matches/1820850/live/finlande-cup-2024-eif-hjk\", 1820850, \"NaN\", \"NaN\", \"NaN\", \"NaN\"], [\"/matches/1820851/live/finlande-cup-2024-haka-pk-35\", 1820851, \"NaN\", \"NaN\", \"NaN\", \"NaN\"], [\"/matches/1820852/live/finlande-cup-2024-fc-inter-turku-grifk\", 1820852, \"NaN\", \"NaN\", \"NaN\", \"NaN\"], [\"/matches/1820853/live/finlande-cup-2024-kpv-fc-lahti\", 1820853, \"NaN\", \"NaN\", \"NaN\", \"NaN\"], [\"/matches/1820854/live/finlande-cup-2024-pepo-lappeenranta-kups\", 1820854, \"NaN\", \"NaN\", \"NaN\", \"NaN\"], [\"/matches/1820855/live/finlande-cup-2024-sjk-vps\", 1820855, \"NaN\", \"NaN\", \"NaN\", \"NaN\"], [\"/matches/1820856/live/finlande-cup-2024-sjk-akatemia-tps\", 1820856, \"NaN\", \"NaN\", \"NaN\", \"NaN\"], [\"/matches/1820857/live/finlande-cup-2024-vjs-ac-oulu\", 1820857, \"NaN\", \"NaN\", \"NaN\", \"NaN\"], [\"/matches/1820858/live/international-club-friendlies-2024-salzburg-unterhaching\", 1820858, \"NaN\", \"NaN\", \"NaN\", \"NaN\"], [\"/matches/1820859/live/international-club-friendlies-2024-sv-kuchl-salzburg\", 1820859, \"NaN\", \"NaN\", \"NaN\", \"NaN\"], [\"/matches/1820860/live/international-club-friendlies-2024-salzburg-sparta-prague\", 1820860, \"NaN\", \"NaN\", \"NaN\", \"NaN\"], [\"/matches/1820861/live/international-club-friendlies-2024-salzburg-rijeka\", 1820861, \"NaN\", \"NaN\", \"NaN\", \"NaN\"], [\"/matches/1820862/live/international-club-friendlies-2024-royal-knokke-fc-club-brugge\", 1820862, \"NaN\", \"NaN\", \"NaN\", \"NaN\"], [\"/matches/1820863/live/international-club-friendlies-2024-club-brugge-aek-athens\", 1820863, \"NaN\", \"NaN\", \"NaN\", \"NaN\"], [\"/matches/1820864/live/international-club-friendlies-2024-club-brugge-fcv-dender-eh\", 1820864, \"NaN\", \"NaN\", \"NaN\", \"NaN\"], [\"/matches/1820865/live/international-club-friendlies-2024-club-brugge-norwich\", 1820865, \"NaN\", \"NaN\", \"NaN\", \"NaN\"], [\"/matches/1820866/live/international-club-friendlies-2024-cercle-bruges-aek-larnaca\", 1820866, \"NaN\", \"NaN\", \"NaN\", \"NaN\"], [\"/matches/1820867/live/international-club-friendlies-2024-monaco-cercle-bruges\", 1820867, \"NaN\", \"NaN\", \"NaN\", \"NaN\"], [\"/matches/1820868/live/danemark-1-division-2024-2025-b-93-kolding-if\", 1820868, \"danemark\", \"1-division\", \"2024-2025\", \"b-93-kolding-if\"], [\"/matches/1820869/live/danemark-1-division-2024-2025-hvidovre-hb-koege\", 1820869, \"danemark\", \"1-division\", \"2024-2025\", \"hvidovre-hb-koege\"], [\"/matches/1820870/live/danemark-1-division-2024-2025-esbjerg-fb-ob\", 1820870, \"danemark\", \"1-division\", \"2024-2025\", \"esbjerg-fb-ob\"], [\"/matches/1820871/live/danemark-1-division-2024-2025-ac-horsens-fredericia\", 1820871, \"danemark\", \"1-division\", \"2024-2025\", \"ac-horsens-fredericia\"], [\"/matches/1820872/live/danemark-1-division-2024-2025-hilleroed-hobro\", 1820872, \"danemark\", \"1-division\", \"2024-2025\", \"hilleroed-hobro\"], [\"/matches/1820873/live/danemark-1-division-2024-2025-hb-koege-ob\", 1820873, \"danemark\", \"1-division\", \"2024-2025\", \"hb-koege-ob\"], [\"/matches/1820874/live/danemark-1-division-2024-2025-hobro-esbjerg-fb\", 1820874, \"danemark\", \"1-division\", \"2024-2025\", \"hobro-esbjerg-fb\"], [\"/matches/1820875/live/danemark-1-division-2024-2025-esbjerg-fb-vendsyssel-ff\", 1820875, \"danemark\", \"1-division\", \"2024-2025\", \"esbjerg-fb-vendsyssel-ff\"], [\"/matches/1820876/live/danemark-1-division-2024-2025-hobro-hvidovre\", 1820876, \"danemark\", \"1-division\", \"2024-2025\", \"hobro-hvidovre\"], [\"/matches/1820877/live/danemark-1-division-2024-2025-hilleroed-hb-koege\", 1820877, \"danemark\", \"1-division\", \"2024-2025\", \"hilleroed-hb-koege\"], [\"/matches/1820878/live/danemark-1-division-2024-2025-b-93-ob\", 1820878, \"danemark\", \"1-division\", \"2024-2025\", \"b-93-ob\"], [\"/matches/1820879/live/danemark-1-division-2024-2025-ac-horsens-kolding-if\", 1820879, \"danemark\", \"1-division\", \"2024-2025\", \"ac-horsens-kolding-if\"], [\"/matches/1820880/live/danemark-1-division-2024-2025-fredericia-esbjerg-fb\", 1820880, \"danemark\", \"1-division\", \"2024-2025\", \"fredericia-esbjerg-fb\"], [\"/matches/1820881/live/danemark-1-division-2024-2025-hb-koege-ac-horsens\", 1820881, \"danemark\", \"1-division\", \"2024-2025\", \"hb-koege-ac-horsens\"], [\"/matches/1820882/live/danemark-1-division-2024-2025-ob-hilleroed\", 1820882, \"danemark\", \"1-division\", \"2024-2025\", \"ob-hilleroed\"], [\"/matches/1820883/live/danemark-1-division-2024-2025-vendsyssel-ff-kolding-if\", 1820883, \"danemark\", \"1-division\", \"2024-2025\", \"vendsyssel-ff-kolding-if\"], [\"/matches/1820884/live/danemark-1-division-2024-2025-ac-horsens-hilleroed\", 1820884, \"danemark\", \"1-division\", \"2024-2025\", \"ac-horsens-hilleroed\"], [\"/matches/1820885/live/danemark-1-division-2024-2025-hvidovre-b-93\", 1820885, \"danemark\", \"1-division\", \"2024-2025\", \"hvidovre-b-93\"], [\"/matches/1820886/live/danemark-1-division-2024-2025-esbjerg-fb-ac-horsens\", 1820886, \"danemark\", \"1-division\", \"2024-2025\", \"esbjerg-fb-ac-horsens\"], [\"/matches/1820887/live/danemark-1-division-2024-2025-ob-hvidovre\", 1820887, \"danemark\", \"1-division\", \"2024-2025\", \"ob-hvidovre\"], [\"/matches/1820888/live/danemark-1-division-2024-2025-kolding-if-fredericia\", 1820888, \"danemark\", \"1-division\", \"2024-2025\", \"kolding-if-fredericia\"], [\"/matches/1820889/live/danemark-1-division-2024-2025-hobro-hb-koege\", 1820889, \"danemark\", \"1-division\", \"2024-2025\", \"hobro-hb-koege\"], [\"/matches/1820890/live/danemark-1-division-2024-2025-b-93-vendsyssel-ff\", 1820890, \"danemark\", \"1-division\", \"2024-2025\", \"b-93-vendsyssel-ff\"], [\"/matches/1820891/live/danemark-1-division-2024-2025-fredericia-vendsyssel-ff\", 1820891, \"danemark\", \"1-division\", \"2024-2025\", \"fredericia-vendsyssel-ff\"], [\"/matches/1820892/live/danemark-1-division-2024-2025-kolding-if-hvidovre\", 1820892, \"danemark\", \"1-division\", \"2024-2025\", \"kolding-if-hvidovre\"], [\"/matches/1820893/live/danemark-1-division-2024-2025-kolding-if-ob\", 1820893, \"danemark\", \"1-division\", \"2024-2025\", \"kolding-if-ob\"], [\"/matches/1820894/live/danemark-1-division-2024-2025-fredericia-b-93\", 1820894, \"danemark\", \"1-division\", \"2024-2025\", \"fredericia-b-93\"], [\"/matches/1820895/live/danemark-1-division-2024-2025-ac-horsens-hobro\", 1820895, \"danemark\", \"1-division\", \"2024-2025\", \"ac-horsens-hobro\"], [\"/matches/1829164/live/espagne-segunda-divisi\\u00f3n-2024-2025-ferrol-real-oviedo\", 1829164, \"espagne\", \"segunda-divisi\\u00f3n\", \"2024-2025\", \"ferrol-real-oviedo\"], [\"/matches/1829165/live/espagne-segunda-divisi\\u00f3n-2024-2025-deportivo-la-coruna-real-zaragoza\", 1829165, \"espagne\", \"segunda-divisi\\u00f3n\", \"2024-2025\", \"deportivo-la-coruna-real-zaragoza\"], [\"/matches/1829166/live/espagne-segunda-divisi\\u00f3n-2024-2025-cordoba-tenerife\", 1829166, \"espagne\", \"segunda-divisi\\u00f3n\", \"2024-2025\", \"cordoba-tenerife\"], [\"/matches/1829167/live/espagne-segunda-divisi\\u00f3n-2024-2025-cartagena-sporting-gijon\", 1829167, \"espagne\", \"segunda-divisi\\u00f3n\", \"2024-2025\", \"cartagena-sporting-gijon\"], [\"/matches/1829168/live/espagne-segunda-divisi\\u00f3n-2024-2025-burgos-cf-eldense\", 1829168, \"espagne\", \"segunda-divisi\\u00f3n\", \"2024-2025\", \"burgos-cf-eldense\"], [\"/matches/1829169/live/espagne-segunda-divisi\\u00f3n-2024-2025-racing-santander-burgos-cf\", 1829169, \"espagne\", \"segunda-divisi\\u00f3n\", \"2024-2025\", \"racing-santander-burgos-cf\"], [\"/matches/1829170/live/espagne-segunda-divisi\\u00f3n-2024-2025-almeria-granada\", 1829170, \"espagne\", \"segunda-divisi\\u00f3n\", \"2024-2025\", \"almeria-granada\"], [\"/matches/1829171/live/espagne-segunda-divisi\\u00f3n-2024-2025-cd-mirandes-eldense\", 1829171, \"espagne\", \"segunda-divisi\\u00f3n\", \"2024-2025\", \"cd-mirandes-eldense\"], [\"/matches/1829172/live/espagne-segunda-divisi\\u00f3n-2024-2025-real-oviedo-cordoba\", 1829172, \"espagne\", \"segunda-divisi\\u00f3n\", \"2024-2025\", \"real-oviedo-cordoba\"], [\"/matches/1829173/live/espagne-segunda-divisi\\u00f3n-2024-2025-sporting-gijon-malaga\", 1829173, \"espagne\", \"segunda-divisi\\u00f3n\", \"2024-2025\", \"sporting-gijon-malaga\"], [\"/matches/1829174/live/espagne-segunda-divisi\\u00f3n-2024-2025-racing-santander-eldense\", 1829174, \"espagne\", \"segunda-divisi\\u00f3n\", \"2024-2025\", \"racing-santander-eldense\"], [\"/matches/1829175/live/espagne-segunda-divisi\\u00f3n-2024-2025-real-zaragoza-ferrol\", 1829175, \"espagne\", \"segunda-divisi\\u00f3n\", \"2024-2025\", \"real-zaragoza-ferrol\"], [\"/matches/1829176/live/espagne-segunda-divisi\\u00f3n-2024-2025-levante-sd-huesca\", 1829176, \"espagne\", \"segunda-divisi\\u00f3n\", \"2024-2025\", \"levante-sd-huesca\"], [\"/matches/1829177/live/espagne-segunda-divisi\\u00f3n-2024-2025-albacete-racing-santander\", 1829177, \"espagne\", \"segunda-divisi\\u00f3n\", \"2024-2025\", \"albacete-racing-santander\"], [\"/matches/1829178/live/espagne-segunda-divisi\\u00f3n-2024-2025-cadiz-levante\", 1829178, \"espagne\", \"segunda-divisi\\u00f3n\", \"2024-2025\", \"cadiz-levante\"], [\"/matches/1829179/live/espagne-segunda-divisi\\u00f3n-2024-2025-elche-real-zaragoza\", 1829179, \"espagne\", \"segunda-divisi\\u00f3n\", \"2024-2025\", \"elche-real-zaragoza\"], [\"/matches/1829180/live/espagne-segunda-divisi\\u00f3n-2024-2025-sd-huesca-cd-mirandes\", 1829180, \"espagne\", \"segunda-divisi\\u00f3n\", \"2024-2025\", \"sd-huesca-cd-mirandes\"], [\"/matches/1829181/live/espagne-segunda-divisi\\u00f3n-2024-2025-real-oviedo-sporting-gijon\", 1829181, \"espagne\", \"segunda-divisi\\u00f3n\", \"2024-2025\", \"real-oviedo-sporting-gijon\"], [\"/matches/1829182/live/espagne-segunda-divisi\\u00f3n-2024-2025-cordoba-almeria\", 1829182, \"espagne\", \"segunda-divisi\\u00f3n\", \"2024-2025\", \"cordoba-almeria\"], [\"/matches/1829183/live/espagne-segunda-divisi\\u00f3n-2024-2025-granada-burgos-cf\", 1829183, \"espagne\", \"segunda-divisi\\u00f3n\", \"2024-2025\", \"granada-burgos-cf\"], [\"/matches/1829184/live/espagne-segunda-divisi\\u00f3n-2024-2025-burgos-cf-tenerife\", 1829184, \"espagne\", \"segunda-divisi\\u00f3n\", \"2024-2025\", \"burgos-cf-tenerife\"], [\"/matches/1829185/live/espagne-segunda-divisi\\u00f3n-2024-2025-ferrol-cartagena\", 1829185, \"espagne\", \"segunda-divisi\\u00f3n\", \"2024-2025\", \"ferrol-cartagena\"], [\"/matches/1829186/live/espagne-segunda-divisi\\u00f3n-2024-2025-castellon-elche\", 1829186, \"espagne\", \"segunda-divisi\\u00f3n\", \"2024-2025\", \"castellon-elche\"], [\"/matches/1829187/live/espagne-segunda-divisi\\u00f3n-2024-2025-tenerife-castellon\", 1829187, \"espagne\", \"segunda-divisi\\u00f3n\", \"2024-2025\", \"tenerife-castellon\"], [\"/matches/1829188/live/espagne-segunda-divisi\\u00f3n-2024-2025-deportivo-la-coruna-cd-mirandes\", 1829188, \"espagne\", \"segunda-divisi\\u00f3n\", \"2024-2025\", \"deportivo-la-coruna-cd-mirandes\"], [\"/matches/1829189/live/espagne-segunda-divisi\\u00f3n-2024-2025-cordoba-eibar\", 1829189, \"espagne\", \"segunda-divisi\\u00f3n\", \"2024-2025\", \"cordoba-eibar\"], [\"/matches/1829190/live/espagne-segunda-divisi\\u00f3n-2024-2025-eibar-granada\", 1829190, \"espagne\", \"segunda-divisi\\u00f3n\", \"2024-2025\", \"eibar-granada\"], [\"/matches/1829191/live/espagne-segunda-divisi\\u00f3n-2024-2025-real-oviedo-granada\", 1829191, \"espagne\", \"segunda-divisi\\u00f3n\", \"2024-2025\", \"real-oviedo-granada\"], [\"/matches/1829192/live/espagne-segunda-divisi\\u00f3n-2024-2025-racing-santander-sd-huesca\", 1829192, \"espagne\", \"segunda-divisi\\u00f3n\", \"2024-2025\", \"racing-santander-sd-huesca\"], [\"/matches/1829193/live/espagne-segunda-divisi\\u00f3n-2024-2025-cartagena-albacete\", 1829193, \"espagne\", \"segunda-divisi\\u00f3n\", \"2024-2025\", \"cartagena-albacete\"], [\"/matches/1829194/live/espagne-segunda-divisi\\u00f3n-2024-2025-albacete-levante\", 1829194, \"espagne\", \"segunda-divisi\\u00f3n\", \"2024-2025\", \"albacete-levante\"], [\"/matches/1829195/live/espagne-segunda-divisi\\u00f3n-2024-2025-almeria-cadiz\", 1829195, \"espagne\", \"segunda-divisi\\u00f3n\", \"2024-2025\", \"almeria-cadiz\"], [\"/matches/1829196/live/espagne-segunda-divisi\\u00f3n-2024-2025-elche-racing-santander\", 1829196, \"espagne\", \"segunda-divisi\\u00f3n\", \"2024-2025\", \"elche-racing-santander\"], [\"/matches/1829197/live/espagne-segunda-divisi\\u00f3n-2024-2025-cadiz-albacete\", 1829197, \"espagne\", \"segunda-divisi\\u00f3n\", \"2024-2025\", \"cadiz-albacete\"], [\"/matches/1829198/live/espagne-segunda-divisi\\u00f3n-2024-2025-real-oviedo-castellon\", 1829198, \"espagne\", \"segunda-divisi\\u00f3n\", \"2024-2025\", \"real-oviedo-castellon\"], [\"/matches/1829199/live/espagne-segunda-divisi\\u00f3n-2024-2025-castellon-cartagena\", 1829199, \"espagne\", \"segunda-divisi\\u00f3n\", \"2024-2025\", \"castellon-cartagena\"], [\"/matches/1829200/live/espagne-segunda-divisi\\u00f3n-2024-2025-elche-tenerife\", 1829200, \"espagne\", \"segunda-divisi\\u00f3n\", \"2024-2025\", \"elche-tenerife\"], [\"/matches/1829201/live/espagne-segunda-divisi\\u00f3n-2024-2025-levante-cordoba\", 1829201, \"espagne\", \"segunda-divisi\\u00f3n\", \"2024-2025\", \"levante-cordoba\"], [\"/matches/1829202/live/espagne-segunda-divisi\\u00f3n-2024-2025-elche-eibar\", 1829202, \"espagne\", \"segunda-divisi\\u00f3n\", \"2024-2025\", \"elche-eibar\"], [\"/matches/1829203/live/espagne-segunda-divisi\\u00f3n-2024-2025-tenerife-deportivo-la-coruna\", 1829203, \"espagne\", \"segunda-divisi\\u00f3n\", \"2024-2025\", \"tenerife-deportivo-la-coruna\"], [\"/matches/1829204/live/espagne-segunda-divisi\\u00f3n-2024-2025-tenerife-eldense\", 1829204, \"espagne\", \"segunda-divisi\\u00f3n\", \"2024-2025\", \"tenerife-eldense\"], [\"/matches/1829205/live/espagne-segunda-divisi\\u00f3n-2024-2025-eldense-elche\", 1829205, \"espagne\", \"segunda-divisi\\u00f3n\", \"2024-2025\", \"eldense-elche\"], [\"/matches/1829206/live/espagne-segunda-divisi\\u00f3n-2024-2025-almeria-real-oviedo\", 1829206, \"espagne\", \"segunda-divisi\\u00f3n\", \"2024-2025\", \"almeria-real-oviedo\"], [\"/matches/1829207/live/espagne-segunda-divisi\\u00f3n-2024-2025-sporting-gijon-ferrol\", 1829207, \"espagne\", \"segunda-divisi\\u00f3n\", \"2024-2025\", \"sporting-gijon-ferrol\"], [\"/matches/1829208/live/espagne-segunda-divisi\\u00f3n-2024-2025-cartagena-cordoba\", 1829208, \"espagne\", \"segunda-divisi\\u00f3n\", \"2024-2025\", \"cartagena-cordoba\"], [\"/matches/1829209/live/espagne-segunda-divisi\\u00f3n-2024-2025-eibar-real-zaragoza\", 1829209, \"espagne\", \"segunda-divisi\\u00f3n\", \"2024-2025\", \"eibar-real-zaragoza\"], [\"/matches/1829210/live/espagne-segunda-divisi\\u00f3n-2024-2025-castellon-sd-huesca\", 1829210, \"espagne\", \"segunda-divisi\\u00f3n\", \"2024-2025\", \"castellon-sd-huesca\"], [\"/matches/1829211/live/espagne-segunda-divisi\\u00f3n-2024-2025-sd-huesca-tenerife\", 1829211, \"espagne\", \"segunda-divisi\\u00f3n\", \"2024-2025\", \"sd-huesca-tenerife\"], [\"/matches/1829212/live/espagne-segunda-divisi\\u00f3n-2024-2025-eldense-granada\", 1829212, \"espagne\", \"segunda-divisi\\u00f3n\", \"2024-2025\", \"eldense-granada\"], [\"/matches/1829213/live/espagne-segunda-divisi\\u00f3n-2024-2025-ferrol-almeria\", 1829213, \"espagne\", \"segunda-divisi\\u00f3n\", \"2024-2025\", \"ferrol-almeria\"], [\"/matches/1829214/live/espagne-segunda-divisi\\u00f3n-2024-2025-tenerife-albacete\", 1829214, \"espagne\", \"segunda-divisi\\u00f3n\", \"2024-2025\", \"tenerife-albacete\"], [\"/matches/1829215/live/espagne-segunda-divisi\\u00f3n-2024-2025-cadiz-burgos-cf\", 1829215, \"espagne\", \"segunda-divisi\\u00f3n\", \"2024-2025\", \"cadiz-burgos-cf\"], [\"/matches/1829216/live/espagne-segunda-divisi\\u00f3n-2024-2025-sporting-gijon-burgos-cf\", 1829216, \"espagne\", \"segunda-divisi\\u00f3n\", \"2024-2025\", \"sporting-gijon-burgos-cf\"], [\"/matches/1829217/live/espagne-segunda-divisi\\u00f3n-2024-2025-granada-cartagena\", 1829217, \"espagne\", \"segunda-divisi\\u00f3n\", \"2024-2025\", \"granada-cartagena\"], [\"/matches/1829218/live/espagne-segunda-divisi\\u00f3n-2024-2025-real-zaragoza-cadiz\", 1829218, \"espagne\", \"segunda-divisi\\u00f3n\", \"2024-2025\", \"real-zaragoza-cadiz\"], [\"/matches/1829219/live/espagne-segunda-divisi\\u00f3n-2024-2025-deportivo-la-coruna-castellon\", 1829219, \"espagne\", \"segunda-divisi\\u00f3n\", \"2024-2025\", \"deportivo-la-coruna-castellon\"], [\"/matches/1829220/live/espagne-segunda-divisi\\u00f3n-2024-2025-eibar-deportivo-la-coruna\", 1829220, \"espagne\", \"segunda-divisi\\u00f3n\", \"2024-2025\", \"eibar-deportivo-la-coruna\"], [\"/matches/1829221/live/espagne-segunda-divisi\\u00f3n-2024-2025-malaga-eldense\", 1829221, \"espagne\", \"segunda-divisi\\u00f3n\", \"2024-2025\", \"malaga-eldense\"], [\"/matches/1829222/live/espagne-segunda-divisi\\u00f3n-2024-2025-cd-mirandes-elche\", 1829222, \"espagne\", \"segunda-divisi\\u00f3n\", \"2024-2025\", \"cd-mirandes-elche\"], [\"/matches/1829223/live/espagne-segunda-divisi\\u00f3n-2024-2025-real-zaragoza-real-oviedo\", 1829223, \"espagne\", \"segunda-divisi\\u00f3n\", \"2024-2025\", \"real-zaragoza-real-oviedo\"], [\"/matches/1829224/live/espagne-segunda-divisi\\u00f3n-2024-2025-levante-ferrol\", 1829224, \"espagne\", \"segunda-divisi\\u00f3n\", \"2024-2025\", \"levante-ferrol\"], [\"/matches/1829225/live/espagne-segunda-divisi\\u00f3n-2024-2025-eldense-eibar\", 1829225, \"espagne\", \"segunda-divisi\\u00f3n\", \"2024-2025\", \"eldense-eibar\"], [\"/matches/1829226/live/espagne-segunda-divisi\\u00f3n-2024-2025-racing-santander-malaga\", 1829226, \"espagne\", \"segunda-divisi\\u00f3n\", \"2024-2025\", \"racing-santander-malaga\"], [\"/matches/1829227/live/espagne-segunda-divisi\\u00f3n-2024-2025-malaga-deportivo-la-coruna\", 1829227, \"espagne\", \"segunda-divisi\\u00f3n\", \"2024-2025\", \"malaga-deportivo-la-coruna\"], [\"/matches/1829228/live/espagne-segunda-divisi\\u00f3n-2024-2025-albacete-real-zaragoza\", 1829228, \"espagne\", \"segunda-divisi\\u00f3n\", \"2024-2025\", \"albacete-real-zaragoza\"], [\"/matches/1829229/live/espagne-segunda-divisi\\u00f3n-2024-2025-almeria-sd-huesca\", 1829229, \"espagne\", \"segunda-divisi\\u00f3n\", \"2024-2025\", \"almeria-sd-huesca\"], [\"/matches/1829230/live/espagne-segunda-divisi\\u00f3n-2024-2025-burgos-cf-racing-santander\", 1829230, \"espagne\", \"segunda-divisi\\u00f3n\", \"2024-2025\", \"burgos-cf-racing-santander\"], [\"/matches/1829231/live/espagne-segunda-divisi\\u00f3n-2024-2025-burgos-cf-deportivo-la-coruna\", 1829231, \"espagne\", \"segunda-divisi\\u00f3n\", \"2024-2025\", \"burgos-cf-deportivo-la-coruna\"], [\"/matches/1829232/live/espagne-segunda-divisi\\u00f3n-2024-2025-cadiz-cartagena\", 1829232, \"espagne\", \"segunda-divisi\\u00f3n\", \"2024-2025\", \"cadiz-cartagena\"], [\"/matches/1829233/live/espagne-segunda-divisi\\u00f3n-2024-2025-cartagena-real-oviedo\", 1829233, \"espagne\", \"segunda-divisi\\u00f3n\", \"2024-2025\", \"cartagena-real-oviedo\"], [\"/matches/1829234/live/espagne-segunda-divisi\\u00f3n-2024-2025-cordoba-sd-huesca\", 1829234, \"espagne\", \"segunda-divisi\\u00f3n\", \"2024-2025\", \"cordoba-sd-huesca\"], [\"/matches/1829235/live/espagne-segunda-divisi\\u00f3n-2024-2025-cd-mirandes-malaga\", 1829235, \"espagne\", \"segunda-divisi\\u00f3n\", \"2024-2025\", \"cd-mirandes-malaga\"], [\"/matches/1829236/live/espagne-segunda-divisi\\u00f3n-2024-2025-castellon-cordoba\", 1829236, \"espagne\", \"segunda-divisi\\u00f3n\", \"2024-2025\", \"castellon-cordoba\"], [\"/matches/1829237/live/espagne-segunda-divisi\\u00f3n-2024-2025-eibar-albacete\", 1829237, \"espagne\", \"segunda-divisi\\u00f3n\", \"2024-2025\", \"eibar-albacete\"], [\"/matches/1829238/live/espagne-segunda-divisi\\u00f3n-2024-2025-eldense-cadiz\", 1829238, \"espagne\", \"segunda-divisi\\u00f3n\", \"2024-2025\", \"eldense-cadiz\"], [\"/matches/1829239/live/espagne-segunda-divisi\\u00f3n-2024-2025-sporting-gijon-elche\", 1829239, \"espagne\", \"segunda-divisi\\u00f3n\", \"2024-2025\", \"sporting-gijon-elche\"], [\"/matches/1829240/live/espagne-segunda-divisi\\u00f3n-2024-2025-racing-santander-ferrol\", 1829240, \"espagne\", \"segunda-divisi\\u00f3n\", \"2024-2025\", \"racing-santander-ferrol\"], [\"/matches/1829241/live/espagne-segunda-divisi\\u00f3n-2024-2025-levante-granada\", 1829241, \"espagne\", \"segunda-divisi\\u00f3n\", \"2024-2025\", \"levante-granada\"], [\"/matches/1829242/live/espagne-segunda-divisi\\u00f3n-2024-2025-sd-huesca-cartagena\", 1829242, \"espagne\", \"segunda-divisi\\u00f3n\", \"2024-2025\", \"sd-huesca-cartagena\"], [\"/matches/1829243/live/espagne-segunda-divisi\\u00f3n-2024-2025-real-zaragoza-tenerife\", 1829243, \"espagne\", \"segunda-divisi\\u00f3n\", \"2024-2025\", \"real-zaragoza-tenerife\"], [\"/matches/1829244/live/espagne-segunda-divisi\\u00f3n-2024-2025-albacete-almeria\", 1829244, \"espagne\", \"segunda-divisi\\u00f3n\", \"2024-2025\", \"albacete-almeria\"], [\"/matches/1829245/live/espagne-segunda-divisi\\u00f3n-2024-2025-cadiz-cd-mirandes\", 1829245, \"espagne\", \"segunda-divisi\\u00f3n\", \"2024-2025\", \"cadiz-cd-mirandes\"], [\"/matches/1829246/live/espagne-segunda-divisi\\u00f3n-2024-2025-cordoba-racing-santander\", 1829246, \"espagne\", \"segunda-divisi\\u00f3n\", \"2024-2025\", \"cordoba-racing-santander\"], [\"/matches/1829247/live/espagne-segunda-divisi\\u00f3n-2024-2025-deportivo-la-coruna-levante\", 1829247, \"espagne\", \"segunda-divisi\\u00f3n\", \"2024-2025\", \"deportivo-la-coruna-levante\"], [\"/matches/1829248/live/espagne-segunda-divisi\\u00f3n-2024-2025-granada-sporting-gijon\", 1829248, \"espagne\", \"segunda-divisi\\u00f3n\", \"2024-2025\", \"granada-sporting-gijon\"], [\"/matches/1829249/live/espagne-segunda-divisi\\u00f3n-2024-2025-malaga-real-zaragoza\", 1829249, \"espagne\", \"segunda-divisi\\u00f3n\", \"2024-2025\", \"malaga-real-zaragoza\"], [\"/matches/1829250/live/espagne-segunda-divisi\\u00f3n-2024-2025-ferrol-burgos-cf\", 1829250, \"espagne\", \"segunda-divisi\\u00f3n\", \"2024-2025\", \"ferrol-burgos-cf\"], [\"/matches/1829251/live/espagne-segunda-divisi\\u00f3n-2024-2025-real-oviedo-albacete\", 1829251, \"espagne\", \"segunda-divisi\\u00f3n\", \"2024-2025\", \"real-oviedo-albacete\"], [\"/matches/1829252/live/espagne-segunda-divisi\\u00f3n-2024-2025-albacete-eldense\", 1829252, \"espagne\", \"segunda-divisi\\u00f3n\", \"2024-2025\", \"albacete-eldense\"], [\"/matches/1829253/live/espagne-segunda-divisi\\u00f3n-2024-2025-sd-huesca-granada\", 1829253, \"espagne\", \"segunda-divisi\\u00f3n\", \"2024-2025\", \"sd-huesca-granada\"], [\"/matches/1829254/live/espagne-segunda-divisi\\u00f3n-2024-2025-cd-mirandes-ferrol\", 1829254, \"espagne\", \"segunda-divisi\\u00f3n\", \"2024-2025\", \"cd-mirandes-ferrol\"], [\"/matches/1829255/live/espagne-segunda-divisi\\u00f3n-2024-2025-eldense-deportivo-la-coruna\", 1829255, \"espagne\", \"segunda-divisi\\u00f3n\", \"2024-2025\", \"eldense-deportivo-la-coruna\"], [\"/matches/1829256/live/espagne-segunda-divisi\\u00f3n-2024-2025-tenerife-cordoba\", 1829256, \"espagne\", \"segunda-divisi\\u00f3n\", \"2024-2025\", \"tenerife-cordoba\"], [\"/matches/1829257/live/espagne-segunda-divisi\\u00f3n-2024-2025-racing-santander-cadiz\", 1829257, \"espagne\", \"segunda-divisi\\u00f3n\", \"2024-2025\", \"racing-santander-cadiz\"], [\"/matches/1829258/live/espagne-segunda-divisi\\u00f3n-2024-2025-real-zaragoza-burgos-cf\", 1829258, \"espagne\", \"segunda-divisi\\u00f3n\", \"2024-2025\", \"real-zaragoza-burgos-cf\"], [\"/matches/1829259/live/espagne-segunda-divisi\\u00f3n-2024-2025-levante-sporting-gijon\", 1829259, \"espagne\", \"segunda-divisi\\u00f3n\", \"2024-2025\", \"levante-sporting-gijon\"], [\"/matches/1829260/live/espagne-segunda-divisi\\u00f3n-2024-2025-castellon-eibar\", 1829260, \"espagne\", \"segunda-divisi\\u00f3n\", \"2024-2025\", \"castellon-eibar\"], [\"/matches/1829261/live/espagne-segunda-divisi\\u00f3n-2024-2025-cartagena-malaga\", 1829261, \"espagne\", \"segunda-divisi\\u00f3n\", \"2024-2025\", \"cartagena-malaga\"], [\"/matches/1829262/live/espagne-segunda-divisi\\u00f3n-2024-2025-malaga-levante\", 1829262, \"espagne\", \"segunda-divisi\\u00f3n\", \"2024-2025\", \"malaga-levante\"], [\"/matches/1829263/live/espagne-segunda-divisi\\u00f3n-2024-2025-real-oviedo-eldense\", 1829263, \"espagne\", \"segunda-divisi\\u00f3n\", \"2024-2025\", \"real-oviedo-eldense\"], [\"/matches/1829264/live/espagne-segunda-divisi\\u00f3n-2024-2025-sporting-gijon-eibar\", 1829264, \"espagne\", \"segunda-divisi\\u00f3n\", \"2024-2025\", \"sporting-gijon-eibar\"], [\"/matches/1829265/live/espagne-segunda-divisi\\u00f3n-2024-2025-ferrol-castellon\", 1829265, \"espagne\", \"segunda-divisi\\u00f3n\", \"2024-2025\", \"ferrol-castellon\"], [\"/matches/1829266/live/espagne-segunda-divisi\\u00f3n-2024-2025-deportivo-la-coruna-almeria\", 1829266, \"espagne\", \"segunda-divisi\\u00f3n\", \"2024-2025\", \"deportivo-la-coruna-almeria\"], [\"/matches/1829267/live/espagne-segunda-divisi\\u00f3n-2024-2025-cartagena-eibar\", 1829267, \"espagne\", \"segunda-divisi\\u00f3n\", \"2024-2025\", \"cartagena-eibar\"], [\"/matches/1829268/live/espagne-segunda-divisi\\u00f3n-2024-2025-eldense-levante\", 1829268, \"espagne\", \"segunda-divisi\\u00f3n\", \"2024-2025\", \"eldense-levante\"], [\"/matches/1829269/live/espagne-segunda-divisi\\u00f3n-2024-2025-cordoba-granada\", 1829269, \"espagne\", \"segunda-divisi\\u00f3n\", \"2024-2025\", \"cordoba-granada\"], [\"/matches/1829270/live/espagne-segunda-divisi\\u00f3n-2024-2025-eibar-racing-santander\", 1829270, \"espagne\", \"segunda-divisi\\u00f3n\", \"2024-2025\", \"eibar-racing-santander\"], [\"/matches/1829271/live/espagne-segunda-divisi\\u00f3n-2024-2025-almeria-malaga\", 1829271, \"espagne\", \"segunda-divisi\\u00f3n\", \"2024-2025\", \"almeria-malaga\"], [\"/matches/1829272/live/espagne-segunda-divisi\\u00f3n-2024-2025-albacete-cadiz\", 1829272, \"espagne\", \"segunda-divisi\\u00f3n\", \"2024-2025\", \"albacete-cadiz\"], [\"/matches/1829273/live/espagne-segunda-divisi\\u00f3n-2024-2025-ferrol-cordoba\", 1829273, \"espagne\", \"segunda-divisi\\u00f3n\", \"2024-2025\", \"ferrol-cordoba\"], [\"/matches/1829274/live/espagne-segunda-divisi\\u00f3n-2024-2025-elche-cartagena\", 1829274, \"espagne\", \"segunda-divisi\\u00f3n\", \"2024-2025\", \"elche-cartagena\"], [\"/matches/1829275/live/espagne-segunda-divisi\\u00f3n-2024-2025-sporting-gijon-almeria\", 1829275, \"espagne\", \"segunda-divisi\\u00f3n\", \"2024-2025\", \"sporting-gijon-almeria\"], [\"/matches/1829276/live/espagne-segunda-divisi\\u00f3n-2024-2025-malaga-tenerife\", 1829276, \"espagne\", \"segunda-divisi\\u00f3n\", \"2024-2025\", \"malaga-tenerife\"], [\"/matches/1829277/live/espagne-segunda-divisi\\u00f3n-2024-2025-levante-cd-mirandes\", 1829277, \"espagne\", \"segunda-divisi\\u00f3n\", \"2024-2025\", \"levante-cd-mirandes\"], [\"/matches/1829278/live/espagne-segunda-divisi\\u00f3n-2024-2025-eibar-almeria\", 1829278, \"espagne\", \"segunda-divisi\\u00f3n\", \"2024-2025\", \"eibar-almeria\"], [\"/matches/1829279/live/espagne-segunda-divisi\\u00f3n-2024-2025-malaga-cadiz\", 1829279, \"espagne\", \"segunda-divisi\\u00f3n\", \"2024-2025\", \"malaga-cadiz\"], [\"/matches/1829280/live/espagne-segunda-divisi\\u00f3n-2024-2025-levante-cartagena\", 1829280, \"espagne\", \"segunda-divisi\\u00f3n\", \"2024-2025\", \"levante-cartagena\"], [\"/matches/1829281/live/espagne-segunda-divisi\\u00f3n-2024-2025-real-zaragoza-cordoba\", 1829281, \"espagne\", \"segunda-divisi\\u00f3n\", \"2024-2025\", \"real-zaragoza-cordoba\"], [\"/matches/1829282/live/espagne-segunda-divisi\\u00f3n-2024-2025-elche-castellon\", 1829282, \"espagne\", \"segunda-divisi\\u00f3n\", \"2024-2025\", \"elche-castellon\"], [\"/matches/1829283/live/espagne-segunda-divisi\\u00f3n-2024-2025-eibar-sd-huesca\", 1829283, \"espagne\", \"segunda-divisi\\u00f3n\", \"2024-2025\", \"eibar-sd-huesca\"], [\"/matches/1829284/live/espagne-segunda-divisi\\u00f3n-2024-2025-deportivo-la-coruna-cordoba\", 1829284, \"espagne\", \"segunda-divisi\\u00f3n\", \"2024-2025\", \"deportivo-la-coruna-cordoba\"], [\"/matches/1829285/live/espagne-segunda-divisi\\u00f3n-2024-2025-elche-eldense\", 1829285, \"espagne\", \"segunda-divisi\\u00f3n\", \"2024-2025\", \"elche-eldense\"], [\"/matches/1829286/live/espagne-segunda-divisi\\u00f3n-2024-2025-real-zaragoza-eldense\", 1829286, \"espagne\", \"segunda-divisi\\u00f3n\", \"2024-2025\", \"real-zaragoza-eldense\"], [\"/matches/1829287/live/espagne-segunda-divisi\\u00f3n-2024-2025-granada-real-oviedo\", 1829287, \"espagne\", \"segunda-divisi\\u00f3n\", \"2024-2025\", \"granada-real-oviedo\"], [\"/matches/1829288/live/espagne-segunda-divisi\\u00f3n-2024-2025-granada-ferrol\", 1829288, \"espagne\", \"segunda-divisi\\u00f3n\", \"2024-2025\", \"granada-ferrol\"], [\"/matches/1829289/live/espagne-segunda-divisi\\u00f3n-2024-2025-cd-mirandes-racing-santander\", 1829289, \"espagne\", \"segunda-divisi\\u00f3n\", \"2024-2025\", \"cd-mirandes-racing-santander\"], [\"/matches/1829290/live/espagne-segunda-divisi\\u00f3n-2024-2025-tenerife-sd-huesca\", 1829290, \"espagne\", \"segunda-divisi\\u00f3n\", \"2024-2025\", \"tenerife-sd-huesca\"], [\"/matches/1829291/live/espagne-segunda-divisi\\u00f3n-2024-2025-sporting-gijon-albacete\", 1829291, \"espagne\", \"segunda-divisi\\u00f3n\", \"2024-2025\", \"sporting-gijon-albacete\"], [\"/matches/1829292/live/espagne-segunda-divisi\\u00f3n-2024-2025-sporting-gijon-racing-santander\", 1829292, \"espagne\", \"segunda-divisi\\u00f3n\", \"2024-2025\", \"sporting-gijon-racing-santander\"], [\"/matches/1829293/live/espagne-segunda-divisi\\u00f3n-2024-2025-burgos-cf-almeria\", 1829293, \"espagne\", \"segunda-divisi\\u00f3n\", \"2024-2025\", \"burgos-cf-almeria\"], [\"/matches/1829294/live/espagne-segunda-divisi\\u00f3n-2024-2025-tenerife-cadiz\", 1829294, \"espagne\", \"segunda-divisi\\u00f3n\", \"2024-2025\", \"tenerife-cadiz\"], [\"/matches/1829295/live/espagne-segunda-divisi\\u00f3n-2024-2025-deportivo-la-coruna-cartagena\", 1829295, \"espagne\", \"segunda-divisi\\u00f3n\", \"2024-2025\", \"deportivo-la-coruna-cartagena\"], [\"/matches/1829296/live/espagne-segunda-divisi\\u00f3n-2024-2025-levante-castellon\", 1829296, \"espagne\", \"segunda-divisi\\u00f3n\", \"2024-2025\", \"levante-castellon\"], [\"/matches/1829297/live/espagne-segunda-divisi\\u00f3n-2024-2025-real-oviedo-elche\", 1829297, \"espagne\", \"segunda-divisi\\u00f3n\", \"2024-2025\", \"real-oviedo-elche\"], [\"/matches/1829298/live/espagne-segunda-divisi\\u00f3n-2024-2025-malaga-ferrol\", 1829298, \"espagne\", \"segunda-divisi\\u00f3n\", \"2024-2025\", \"malaga-ferrol\"], [\"/matches/1829299/live/espagne-segunda-divisi\\u00f3n-2024-2025-albacete-cd-mirandes\", 1829299, \"espagne\", \"segunda-divisi\\u00f3n\", \"2024-2025\", \"albacete-cd-mirandes\"], [\"/matches/1829300/live/espagne-segunda-divisi\\u00f3n-2024-2025-almeria-levante\", 1829300, \"espagne\", \"segunda-divisi\\u00f3n\", \"2024-2025\", \"almeria-levante\"], [\"/matches/1829301/live/espagne-segunda-divisi\\u00f3n-2024-2025-cadiz-eibar\", 1829301, \"espagne\", \"segunda-divisi\\u00f3n\", \"2024-2025\", \"cadiz-eibar\"], [\"/matches/1829302/live/espagne-segunda-divisi\\u00f3n-2024-2025-cartagena-castellon\", 1829302, \"espagne\", \"segunda-divisi\\u00f3n\", \"2024-2025\", \"cartagena-castellon\"], [\"/matches/1829303/live/espagne-segunda-divisi\\u00f3n-2024-2025-cordoba-elche\", 1829303, \"espagne\", \"segunda-divisi\\u00f3n\", \"2024-2025\", \"cordoba-elche\"], [\"/matches/1829304/live/espagne-segunda-divisi\\u00f3n-2024-2025-sd-huesca-sporting-gijon\", 1829304, \"espagne\", \"segunda-divisi\\u00f3n\", \"2024-2025\", \"sd-huesca-sporting-gijon\"], [\"/matches/1829305/live/espagne-segunda-divisi\\u00f3n-2024-2025-albacete-malaga\", 1829305, \"espagne\", \"segunda-divisi\\u00f3n\", \"2024-2025\", \"albacete-malaga\"], [\"/matches/1829306/live/espagne-segunda-divisi\\u00f3n-2024-2025-burgos-cf-albacete\", 1829306, \"espagne\", \"segunda-divisi\\u00f3n\", \"2024-2025\", \"burgos-cf-albacete\"], [\"/matches/1829307/live/espagne-segunda-divisi\\u00f3n-2024-2025-almeria-real-zaragoza\", 1829307, \"espagne\", \"segunda-divisi\\u00f3n\", \"2024-2025\", \"almeria-real-zaragoza\"], [\"/matches/1829308/live/espagne-segunda-divisi\\u00f3n-2024-2025-cadiz-granada\", 1829308, \"espagne\", \"segunda-divisi\\u00f3n\", \"2024-2025\", \"cadiz-granada\"], [\"/matches/1829309/live/espagne-segunda-divisi\\u00f3n-2024-2025-castellon-deportivo-la-coruna\", 1829309, \"espagne\", \"segunda-divisi\\u00f3n\", \"2024-2025\", \"castellon-deportivo-la-coruna\"], [\"/matches/1829310/live/espagne-segunda-divisi\\u00f3n-2024-2025-cordoba-sporting-gijon\", 1829310, \"espagne\", \"segunda-divisi\\u00f3n\", \"2024-2025\", \"cordoba-sporting-gijon\"], [\"/matches/1829311/live/espagne-segunda-divisi\\u00f3n-2024-2025-eldense-cd-mirandes\", 1829311, \"espagne\", \"segunda-divisi\\u00f3n\", \"2024-2025\", \"eldense-cd-mirandes\"], [\"/matches/1829312/live/espagne-segunda-divisi\\u00f3n-2024-2025-racing-santander-tenerife\", 1829312, \"espagne\", \"segunda-divisi\\u00f3n\", \"2024-2025\", \"racing-santander-tenerife\"], [\"/matches/1829322/live/espagne-segunda-divisi\\u00f3n-2024-2025-deportivo-la-coruna-sd-huesca\", 1829322, \"espagne\", \"segunda-divisi\\u00f3n\", \"2024-2025\", \"deportivo-la-coruna-sd-huesca\"], [\"/matches/1829323/live/espagne-segunda-divisi\\u00f3n-2024-2025-cadiz-castellon\", 1829323, \"espagne\", \"segunda-divisi\\u00f3n\", \"2024-2025\", \"cadiz-castellon\"], [\"/matches/1829324/live/espagne-segunda-divisi\\u00f3n-2024-2025-burgos-cf-real-oviedo\", 1829324, \"espagne\", \"segunda-divisi\\u00f3n\", \"2024-2025\", \"burgos-cf-real-oviedo\"], [\"/matches/1829325/live/espagne-segunda-divisi\\u00f3n-2024-2025-granada-cd-mirandes\", 1829325, \"espagne\", \"segunda-divisi\\u00f3n\", \"2024-2025\", \"granada-cd-mirandes\"], [\"/matches/1829326/live/espagne-segunda-divisi\\u00f3n-2024-2025-almeria-elche\", 1829326, \"espagne\", \"segunda-divisi\\u00f3n\", \"2024-2025\", \"almeria-elche\"], [\"/matches/1829327/live/espagne-segunda-divisi\\u00f3n-2024-2025-cd-mirandes-real-oviedo\", 1829327, \"espagne\", \"segunda-divisi\\u00f3n\", \"2024-2025\", \"cd-mirandes-real-oviedo\"], [\"/matches/1829328/live/espagne-segunda-divisi\\u00f3n-2024-2025-real-zaragoza-sporting-gijon\", 1829328, \"espagne\", \"segunda-divisi\\u00f3n\", \"2024-2025\", \"real-zaragoza-sporting-gijon\"], [\"/matches/1829329/live/espagne-segunda-divisi\\u00f3n-2024-2025-sd-huesca-ferrol\", 1829329, \"espagne\", \"segunda-divisi\\u00f3n\", \"2024-2025\", \"sd-huesca-ferrol\"], [\"/matches/1829330/live/espagne-segunda-divisi\\u00f3n-2024-2025-racing-santander-elche\", 1829330, \"espagne\", \"segunda-divisi\\u00f3n\", \"2024-2025\", \"racing-santander-elche\"], [\"/matches/1829331/live/espagne-segunda-divisi\\u00f3n-2024-2025-real-oviedo-deportivo-la-coruna\", 1829331, \"espagne\", \"segunda-divisi\\u00f3n\", \"2024-2025\", \"real-oviedo-deportivo-la-coruna\"], [\"/matches/1829332/live/espagne-segunda-divisi\\u00f3n-2024-2025-castellon-burgos-cf\", 1829332, \"espagne\", \"segunda-divisi\\u00f3n\", \"2024-2025\", \"castellon-burgos-cf\"], [\"/matches/1829333/live/espagne-segunda-divisi\\u00f3n-2024-2025-cd-mirandes-tenerife\", 1829333, \"espagne\", \"segunda-divisi\\u00f3n\", \"2024-2025\", \"cd-mirandes-tenerife\"], [\"/matches/1829334/live/espagne-segunda-divisi\\u00f3n-2024-2025-granada-real-zaragoza\", 1829334, \"espagne\", \"segunda-divisi\\u00f3n\", \"2024-2025\", \"granada-real-zaragoza\"], [\"/matches/1829367/live/espagne-segunda-divisi\\u00f3n-2024-2025-racing-santander-real-zaragoza\", 1829367, \"espagne\", \"segunda-divisi\\u00f3n\", \"2024-2025\", \"racing-santander-real-zaragoza\"], [\"/matches/1829368/live/espagne-segunda-divisi\\u00f3n-2024-2025-eldense-burgos-cf\", 1829368, \"espagne\", \"segunda-divisi\\u00f3n\", \"2024-2025\", \"eldense-burgos-cf\"], [\"/matches/1829369/live/espagne-segunda-divisi\\u00f3n-2024-2025-sd-huesca-levante\", 1829369, \"espagne\", \"segunda-divisi\\u00f3n\", \"2024-2025\", \"sd-huesca-levante\"], [\"/matches/1829370/live/espagne-segunda-divisi\\u00f3n-2024-2025-cartagena-burgos-cf\", 1829370, \"espagne\", \"segunda-divisi\\u00f3n\", \"2024-2025\", \"cartagena-burgos-cf\"], [\"/matches/1829371/live/espagne-segunda-divisi\\u00f3n-2024-2025-ferrol-eibar\", 1829371, \"espagne\", \"segunda-divisi\\u00f3n\", \"2024-2025\", \"ferrol-eibar\"], [\"/matches/1829384/live/espagne-segunda-divisi\\u00f3n-2024-2025-tenerife-granada\", 1829384, \"espagne\", \"segunda-divisi\\u00f3n\", \"2024-2025\", \"tenerife-granada\"], [\"/matches/1829385/live/espagne-segunda-divisi\\u00f3n-2024-2025-real-oviedo-malaga\", 1829385, \"espagne\", \"segunda-divisi\\u00f3n\", \"2024-2025\", \"real-oviedo-malaga\"], [\"/matches/1829393/live/espagne-segunda-divisi\\u00f3n-2024-2025-ferrol-deportivo-la-coruna\", 1829393, \"espagne\", \"segunda-divisi\\u00f3n\", \"2024-2025\", \"ferrol-deportivo-la-coruna\"], [\"/matches/1829433/live/international-european-championship-2024-france-belgium\", 1829433, \"NaN\", \"NaN\", \"NaN\", \"NaN\"], [\"/matches/1829434/live/international-european-championship-2024-england-slovakia\", 1829434, \"NaN\", \"NaN\", \"NaN\", \"NaN\"], [\"/matches/1829435/live/international-european-championship-2024-spain-georgia\", 1829435, \"NaN\", \"NaN\", \"NaN\", \"NaN\"], [\"/matches/1829436/live/international-european-championship-2024-portugal-slovenia\", 1829436, \"NaN\", \"NaN\", \"NaN\", \"NaN\"], [\"/matches/1829437/live/international-european-championship-2024-romania-netherlands\", 1829437, \"NaN\", \"NaN\", \"NaN\", \"NaN\"], [\"/matches/1829438/live/international-european-championship-2024-austria-turkiye\", 1829438, \"NaN\", \"NaN\", \"NaN\", \"NaN\"], [\"/matches/1829439/live/international-club-friendlies-2024-fc-copenhagen-hilleroed\", 1829439, \"NaN\", \"NaN\", \"NaN\", \"NaN\"], [\"/matches/1829440/live/international-club-friendlies-2024-wsg-tirol-fc-copenhagen\", 1829440, \"NaN\", \"NaN\", \"NaN\", \"NaN\"], [\"/matches/1829441/live/international-club-friendlies-2024-fc-copenhagen-soenderjyske-fodbold\", 1829441, \"NaN\", \"NaN\", \"NaN\", \"NaN\"], [\"/matches/1829442/live/international-club-friendlies-2024-viborg-arka-gdynia\", 1829442, \"NaN\", \"NaN\", \"NaN\", \"NaN\"], [\"/matches/1829443/live/guatemala-liga-nacional-2024-2025-deportivo-zacapa-xinabajul\", 1829443, \"guatemala\", \"liga-nacional\", \"2024-2025\", \"deportivo-zacapa-xinabajul\"], [\"/matches/1829444/live/guatemala-liga-nacional-2024-2025-comunicaciones-fc-deportivo-zacapa\", 1829444, \"guatemala\", \"liga-nacional\", \"2024-2025\", \"comunicaciones-fc-deportivo-zacapa\"], [\"/matches/1829445/live/guatemala-liga-nacional-2024-2025-deportivo-zacapa-coban-imperial\", 1829445, \"guatemala\", \"liga-nacional\", \"2024-2025\", \"deportivo-zacapa-coban-imperial\"], [\"/matches/1829446/live/guatemala-liga-nacional-2024-2025-antigua-guatemala-deportivo-zacapa\", 1829446, \"guatemala\", \"liga-nacional\", \"2024-2025\", \"antigua-guatemala-deportivo-zacapa\"], [\"/matches/1829447/live/guatemala-liga-nacional-2024-2025-deportivo-achuapa-deportivo-zacapa\", 1829447, \"guatemala\", \"liga-nacional\", \"2024-2025\", \"deportivo-achuapa-deportivo-zacapa\"], [\"/matches/1829448/live/guatemala-liga-nacional-2024-2025-deportivo-zacapa-deportivo-marquense\", 1829448, \"guatemala\", \"liga-nacional\", \"2024-2025\", \"deportivo-zacapa-deportivo-marquense\"], [\"/matches/1829449/live/guatemala-liga-nacional-2024-2025-csd-municipal-deportivo-zacapa\", 1829449, \"guatemala\", \"liga-nacional\", \"2024-2025\", \"csd-municipal-deportivo-zacapa\"], [\"/matches/1829450/live/guatemala-liga-nacional-2024-2025-deportivo-zacapa-deportivo-malacateco\", 1829450, \"guatemala\", \"liga-nacional\", \"2024-2025\", \"deportivo-zacapa-deportivo-malacateco\"], [\"/matches/1829451/live/guatemala-liga-nacional-2024-2025-club-xelaju-deportivo-zacapa\", 1829451, \"guatemala\", \"liga-nacional\", \"2024-2025\", \"club-xelaju-deportivo-zacapa\"], [\"/matches/1829452/live/guatemala-liga-nacional-2024-2025-deportivo-zacapa-deportivo-mixco\", 1829452, \"guatemala\", \"liga-nacional\", \"2024-2025\", \"deportivo-zacapa-deportivo-mixco\"], [\"/matches/1829453/live/guatemala-liga-nacional-2024-2025-deportivo-zacapa-guastatoya\", 1829453, \"guatemala\", \"liga-nacional\", \"2024-2025\", \"deportivo-zacapa-guastatoya\"], [\"/matches/1829454/live/guatemala-liga-nacional-2024-2025-xinabajul-deportivo-zacapa\", 1829454, \"guatemala\", \"liga-nacional\", \"2024-2025\", \"xinabajul-deportivo-zacapa\"], [\"/matches/1829455/live/guatemala-liga-nacional-2024-2025-deportivo-zacapa-comunicaciones-fc\", 1829455, \"guatemala\", \"liga-nacional\", \"2024-2025\", \"deportivo-zacapa-comunicaciones-fc\"], [\"/matches/1829456/live/guatemala-liga-nacional-2024-2025-coban-imperial-deportivo-zacapa\", 1829456, \"guatemala\", \"liga-nacional\", \"2024-2025\", \"coban-imperial-deportivo-zacapa\"], [\"/matches/1829457/live/guatemala-liga-nacional-2024-2025-deportivo-zacapa-antigua-guatemala\", 1829457, \"guatemala\", \"liga-nacional\", \"2024-2025\", \"deportivo-zacapa-antigua-guatemala\"], [\"/matches/1829458/live/\\u00e9cosse-league-one-2024-2025-cove-rangers-montrose\", 1829458, \"\\u00e9cosse\", \"league-one\", \"2024-2025\", \"cove-rangers-montrose\"], [\"/matches/1829459/live/\\u00e9cosse-league-one-2024-2025-arbroath-annan-athletic\", 1829459, \"\\u00e9cosse\", \"league-one\", \"2024-2025\", \"arbroath-annan-athletic\"], [\"/matches/1829460/live/\\u00e9cosse-league-one-2024-2025-dumbarton-kelty-hearts\", 1829460, \"\\u00e9cosse\", \"league-one\", \"2024-2025\", \"dumbarton-kelty-hearts\"], [\"/matches/1829461/live/\\u00e9cosse-league-one-2024-2025-inverness-queen-of-south\", 1829461, \"\\u00e9cosse\", \"league-one\", \"2024-2025\", \"inverness-queen-of-south\"], [\"/matches/1829462/live/\\u00e9cosse-league-one-2024-2025-stenhousemuir-annan-athletic\", 1829462, \"\\u00e9cosse\", \"league-one\", \"2024-2025\", \"stenhousemuir-annan-athletic\"], [\"/matches/1829463/live/\\u00e9cosse-league-one-2024-2025-alloa-athletic-inverness\", 1829463, \"\\u00e9cosse\", \"league-one\", \"2024-2025\", \"alloa-athletic-inverness\"], [\"/matches/1829464/live/\\u00e9cosse-league-one-2024-2025-arbroath-alloa-athletic\", 1829464, \"\\u00e9cosse\", \"league-one\", \"2024-2025\", \"arbroath-alloa-athletic\"], [\"/matches/1829465/live/\\u00e9cosse-league-one-2024-2025-alloa-athletic-stenhousemuir\", 1829465, \"\\u00e9cosse\", \"league-one\", \"2024-2025\", \"alloa-athletic-stenhousemuir\"], [\"/matches/1829466/live/\\u00e9cosse-league-one-2024-2025-cove-rangers-annan-athletic\", 1829466, \"\\u00e9cosse\", \"league-one\", \"2024-2025\", \"cove-rangers-annan-athletic\"], [\"/matches/1829467/live/\\u00e9cosse-league-one-2024-2025-inverness-dumbarton\", 1829467, \"\\u00e9cosse\", \"league-one\", \"2024-2025\", \"inverness-dumbarton\"], [\"/matches/1829468/live/\\u00e9cosse-league-one-2024-2025-montrose-kelty-hearts\", 1829468, \"\\u00e9cosse\", \"league-one\", \"2024-2025\", \"montrose-kelty-hearts\"], [\"/matches/1829469/live/\\u00e9cosse-league-one-2024-2025-stenhousemuir-arbroath\", 1829469, \"\\u00e9cosse\", \"league-one\", \"2024-2025\", \"stenhousemuir-arbroath\"], [\"/matches/1829470/live/\\u00e9cosse-league-one-2024-2025-annan-athletic-inverness\", 1829470, \"\\u00e9cosse\", \"league-one\", \"2024-2025\", \"annan-athletic-inverness\"], [\"/matches/1829471/live/\\u00e9cosse-league-one-2024-2025-arbroath-montrose\", 1829471, \"\\u00e9cosse\", \"league-one\", \"2024-2025\", \"arbroath-montrose\"], [\"/matches/1829472/live/\\u00e9cosse-league-one-2024-2025-dumbarton-alloa-athletic\", 1829472, \"\\u00e9cosse\", \"league-one\", \"2024-2025\", \"dumbarton-alloa-athletic\"], [\"/matches/1829473/live/\\u00e9cosse-league-one-2024-2025-kelty-hearts-stenhousemuir\", 1829473, \"\\u00e9cosse\", \"league-one\", \"2024-2025\", \"kelty-hearts-stenhousemuir\"], [\"/matches/1829474/live/\\u00e9cosse-league-one-2024-2025-queen-of-south-cove-rangers\", 1829474, \"\\u00e9cosse\", \"league-one\", \"2024-2025\", \"queen-of-south-cove-rangers\"], [\"/matches/1829475/live/\\u00e9cosse-league-one-2024-2025-alloa-athletic-queen-of-south\", 1829475, \"\\u00e9cosse\", \"league-one\", \"2024-2025\", \"alloa-athletic-queen-of-south\"], [\"/matches/1829476/live/\\u00e9cosse-league-one-2024-2025-arbroath-kelty-hearts\", 1829476, \"\\u00e9cosse\", \"league-one\", \"2024-2025\", \"arbroath-kelty-hearts\"], [\"/matches/1829477/live/\\u00e9cosse-league-one-2024-2025-cove-rangers-dumbarton\", 1829477, \"\\u00e9cosse\", \"league-one\", \"2024-2025\", \"cove-rangers-dumbarton\"], [\"/matches/1829478/live/\\u00e9cosse-league-one-2024-2025-inverness-montrose\", 1829478, \"\\u00e9cosse\", \"league-one\", \"2024-2025\", \"inverness-montrose\"], [\"/matches/1829479/live/\\u00e9cosse-league-one-2024-2025-queen-of-south-annan-athletic\", 1829479, \"\\u00e9cosse\", \"league-one\", \"2024-2025\", \"queen-of-south-annan-athletic\"], [\"/matches/1829480/live/\\u00e9cosse-league-one-2024-2025-annan-athletic-alloa-athletic\", 1829480, \"\\u00e9cosse\", \"league-one\", \"2024-2025\", \"annan-athletic-alloa-athletic\"], [\"/matches/1829481/live/\\u00e9cosse-league-one-2024-2025-dumbarton-arbroath\", 1829481, \"\\u00e9cosse\", \"league-one\", \"2024-2025\", \"dumbarton-arbroath\"], [\"/matches/1829482/live/\\u00e9cosse-league-one-2024-2025-kelty-hearts-inverness\", 1829482, \"\\u00e9cosse\", \"league-one\", \"2024-2025\", \"kelty-hearts-inverness\"], [\"/matches/1829483/live/\\u00e9cosse-league-one-2024-2025-montrose-queen-of-south\", 1829483, \"\\u00e9cosse\", \"league-one\", \"2024-2025\", \"montrose-queen-of-south\"], [\"/matches/1829484/live/\\u00e9cosse-league-one-2024-2025-stenhousemuir-cove-rangers\", 1829484, \"\\u00e9cosse\", \"league-one\", \"2024-2025\", \"stenhousemuir-cove-rangers\"], [\"/matches/1829485/live/\\u00e9cosse-league-one-2024-2025-alloa-athletic-kelty-hearts\", 1829485, \"\\u00e9cosse\", \"league-one\", \"2024-2025\", \"alloa-athletic-kelty-hearts\"], [\"/matches/1829486/live/\\u00e9cosse-league-one-2024-2025-annan-athletic-montrose\", 1829486, \"\\u00e9cosse\", \"league-one\", \"2024-2025\", \"annan-athletic-montrose\"], [\"/matches/1829487/live/\\u00e9cosse-league-one-2024-2025-annan-athletic-dumbarton\", 1829487, \"\\u00e9cosse\", \"league-one\", \"2024-2025\", \"annan-athletic-dumbarton\"], [\"/matches/1829488/live/\\u00e9cosse-league-one-2024-2025-alloa-athletic-cove-rangers\", 1829488, \"\\u00e9cosse\", \"league-one\", \"2024-2025\", \"alloa-athletic-cove-rangers\"], [\"/matches/1829489/live/\\u00e9cosse-league-one-2024-2025-kelty-hearts-cove-rangers\", 1829489, \"\\u00e9cosse\", \"league-one\", \"2024-2025\", \"kelty-hearts-cove-rangers\"], [\"/matches/1829490/live/\\u00e9cosse-league-one-2024-2025-arbroath-stenhousemuir\", 1829490, \"\\u00e9cosse\", \"league-one\", \"2024-2025\", \"arbroath-stenhousemuir\"], [\"/matches/1829491/live/\\u00e9cosse-league-one-2024-2025-montrose-stenhousemuir\", 1829491, \"\\u00e9cosse\", \"league-one\", \"2024-2025\", \"montrose-stenhousemuir\"], [\"/matches/1829492/live/\\u00e9cosse-league-one-2024-2025-alloa-athletic-annan-athletic\", 1829492, \"\\u00e9cosse\", \"league-one\", \"2024-2025\", \"alloa-athletic-annan-athletic\"], [\"/matches/1829493/live/\\u00e9cosse-league-one-2024-2025-queen-of-south-arbroath\", 1829493, \"\\u00e9cosse\", \"league-one\", \"2024-2025\", \"queen-of-south-arbroath\"], [\"/matches/1829494/live/\\u00e9cosse-league-one-2024-2025-stenhousemuir-kelty-hearts\", 1829494, \"\\u00e9cosse\", \"league-one\", \"2024-2025\", \"stenhousemuir-kelty-hearts\"], [\"/matches/1829495/live/\\u00e9cosse-league-one-2024-2025-dumbarton-montrose\", 1829495, \"\\u00e9cosse\", \"league-one\", \"2024-2025\", \"dumbarton-montrose\"], [\"/matches/1829496/live/\\u00e9cosse-league-one-2024-2025-montrose-cove-rangers\", 1829496, \"\\u00e9cosse\", \"league-one\", \"2024-2025\", \"montrose-cove-rangers\"], [\"/matches/1829497/live/\\u00e9cosse-league-one-2024-2025-inverness-cove-rangers\", 1829497, \"\\u00e9cosse\", \"league-one\", \"2024-2025\", \"inverness-cove-rangers\"], [\"/matches/1829498/live/\\u00e9cosse-league-one-2024-2025-dumbarton-inverness\", 1829498, \"\\u00e9cosse\", \"league-one\", \"2024-2025\", \"dumbarton-inverness\"], [\"/matches/1829499/live/\\u00e9cosse-league-one-2024-2025-stenhousemuir-queen-of-south\", 1829499, \"\\u00e9cosse\", \"league-one\", \"2024-2025\", \"stenhousemuir-queen-of-south\"], [\"/matches/1829500/live/\\u00e9cosse-league-one-2024-2025-annan-athletic-queen-of-south\", 1829500, \"\\u00e9cosse\", \"league-one\", \"2024-2025\", \"annan-athletic-queen-of-south\"], [\"/matches/1829501/live/\\u00e9cosse-league-one-2024-2025-cove-rangers-arbroath\", 1829501, \"\\u00e9cosse\", \"league-one\", \"2024-2025\", \"cove-rangers-arbroath\"], [\"/matches/1829502/live/\\u00e9cosse-league-one-2024-2025-alloa-athletic-arbroath\", 1829502, \"\\u00e9cosse\", \"league-one\", \"2024-2025\", \"alloa-athletic-arbroath\"], [\"/matches/1829503/live/\\u00e9cosse-league-one-2024-2025-inverness-stenhousemuir\", 1829503, \"\\u00e9cosse\", \"league-one\", \"2024-2025\", \"inverness-stenhousemuir\"], [\"/matches/1829504/live/\\u00e9cosse-league-one-2024-2025-kelty-hearts-montrose\", 1829504, \"\\u00e9cosse\", \"league-one\", \"2024-2025\", \"kelty-hearts-montrose\"], [\"/matches/1829505/live/\\u00e9cosse-league-one-2024-2025-kelty-hearts-annan-athletic\", 1829505, \"\\u00e9cosse\", \"league-one\", \"2024-2025\", \"kelty-hearts-annan-athletic\"], [\"/matches/1829506/live/\\u00e9cosse-league-one-2024-2025-inverness-annan-athletic\", 1829506, \"\\u00e9cosse\", \"league-one\", \"2024-2025\", \"inverness-annan-athletic\"], [\"/matches/1829507/live/\\u00e9cosse-league-one-2024-2025-montrose-alloa-athletic\", 1829507, \"\\u00e9cosse\", \"league-one\", \"2024-2025\", \"montrose-alloa-athletic\"], [\"/matches/1829508/live/\\u00e9cosse-league-one-2024-2025-cove-rangers-queen-of-south\", 1829508, \"\\u00e9cosse\", \"league-one\", \"2024-2025\", \"cove-rangers-queen-of-south\"], [\"/matches/1829509/live/\\u00e9cosse-league-one-2024-2025-queen-of-south-dumbarton\", 1829509, \"\\u00e9cosse\", \"league-one\", \"2024-2025\", \"queen-of-south-dumbarton\"], [\"/matches/1829510/live/\\u00e9cosse-league-one-2024-2025-arbroath-dumbarton\", 1829510, \"\\u00e9cosse\", \"league-one\", \"2024-2025\", \"arbroath-dumbarton\"], [\"/matches/1829511/live/\\u00e9cosse-league-one-2024-2025-queen-of-south-kelty-hearts\", 1829511, \"\\u00e9cosse\", \"league-one\", \"2024-2025\", \"queen-of-south-kelty-hearts\"], [\"/matches/1829512/live/\\u00e9cosse-league-one-2024-2025-dumbarton-stenhousemuir\", 1829512, \"\\u00e9cosse\", \"league-one\", \"2024-2025\", \"dumbarton-stenhousemuir\"], [\"/matches/1829513/live/\\u00e9cosse-league-one-2024-2025-arbroath-inverness\", 1829513, \"\\u00e9cosse\", \"league-one\", \"2024-2025\", \"arbroath-inverness\"], [\"/matches/1829514/live/\\u00e9cosse-league-one-2024-2025-stenhousemuir-alloa-athletic\", 1829514, \"\\u00e9cosse\", \"league-one\", \"2024-2025\", \"stenhousemuir-alloa-athletic\"], [\"/matches/1829515/live/\\u00e9cosse-league-one-2024-2025-stenhousemuir-montrose\", 1829515, \"\\u00e9cosse\", \"league-one\", \"2024-2025\", \"stenhousemuir-montrose\"], [\"/matches/1829516/live/\\u00e9cosse-league-one-2024-2025-alloa-athletic-dumbarton\", 1829516, \"\\u00e9cosse\", \"league-one\", \"2024-2025\", \"alloa-athletic-dumbarton\"], [\"/matches/1829517/live/\\u00e9cosse-league-one-2024-2025-cove-rangers-stenhousemuir\", 1829517, \"\\u00e9cosse\", \"league-one\", \"2024-2025\", \"cove-rangers-stenhousemuir\"], [\"/matches/1829518/live/\\u00e9cosse-league-one-2024-2025-inverness-alloa-athletic\", 1829518, \"\\u00e9cosse\", \"league-one\", \"2024-2025\", \"inverness-alloa-athletic\"], [\"/matches/1829519/live/\\u00e9cosse-league-one-2024-2025-dumbarton-queen-of-south\", 1829519, \"\\u00e9cosse\", \"league-one\", \"2024-2025\", \"dumbarton-queen-of-south\"], [\"/matches/1829520/live/\\u00e9cosse-league-one-2024-2025-arbroath-cove-rangers\", 1829520, \"\\u00e9cosse\", \"league-one\", \"2024-2025\", \"arbroath-cove-rangers\"], [\"/matches/1829521/live/\\u00e9cosse-league-one-2024-2025-annan-athletic-kelty-hearts\", 1829521, \"\\u00e9cosse\", \"league-one\", \"2024-2025\", \"annan-athletic-kelty-hearts\"], [\"/matches/1829522/live/\\u00e9cosse-league-one-2024-2025-queen-of-south-alloa-athletic\", 1829522, \"\\u00e9cosse\", \"league-one\", \"2024-2025\", \"queen-of-south-alloa-athletic\"], [\"/matches/1829523/live/\\u00e9cosse-league-one-2024-2025-montrose-arbroath\", 1829523, \"\\u00e9cosse\", \"league-one\", \"2024-2025\", \"montrose-arbroath\"], [\"/matches/1829524/live/\\u00e9cosse-league-one-2024-2025-kelty-hearts-dumbarton\", 1829524, \"\\u00e9cosse\", \"league-one\", \"2024-2025\", \"kelty-hearts-dumbarton\"], [\"/matches/1829525/live/\\u00e9cosse-league-one-2024-2025-cove-rangers-inverness\", 1829525, \"\\u00e9cosse\", \"league-one\", \"2024-2025\", \"cove-rangers-inverness\"], [\"/matches/1829526/live/\\u00e9cosse-league-one-2024-2025-annan-athletic-stenhousemuir\", 1829526, \"\\u00e9cosse\", \"league-one\", \"2024-2025\", \"annan-athletic-stenhousemuir\"], [\"/matches/1829527/live/\\u00e9cosse-league-one-2024-2025-queen-of-south-montrose\", 1829527, \"\\u00e9cosse\", \"league-one\", \"2024-2025\", \"queen-of-south-montrose\"], [\"/matches/1829528/live/\\u00e9cosse-league-one-2024-2025-inverness-kelty-hearts\", 1829528, \"\\u00e9cosse\", \"league-one\", \"2024-2025\", \"inverness-kelty-hearts\"], [\"/matches/1829529/live/\\u00e9cosse-league-one-2024-2025-dumbarton-cove-rangers\", 1829529, \"\\u00e9cosse\", \"league-one\", \"2024-2025\", \"dumbarton-cove-rangers\"], [\"/matches/1829530/live/\\u00e9cosse-league-one-2024-2025-inverness-annan-athletic\", 1829530, \"\\u00e9cosse\", \"league-one\", \"2024-2025\", \"inverness-annan-athletic\"], [\"/matches/1829531/live/\\u00e9cosse-league-one-2024-2025-kelty-hearts-montrose\", 1829531, \"\\u00e9cosse\", \"league-one\", \"2024-2025\", \"kelty-hearts-montrose\"], [\"/matches/1829532/live/\\u00e9cosse-league-one-2024-2025-kelty-hearts-arbroath\", 1829532, \"\\u00e9cosse\", \"league-one\", \"2024-2025\", \"kelty-hearts-arbroath\"], [\"/matches/1829533/live/\\u00e9cosse-league-one-2024-2025-montrose-annan-athletic\", 1829533, \"\\u00e9cosse\", \"league-one\", \"2024-2025\", \"montrose-annan-athletic\"], [\"/matches/1829534/live/\\u00e9cosse-league-one-2024-2025-queen-of-south-inverness\", 1829534, \"\\u00e9cosse\", \"league-one\", \"2024-2025\", \"queen-of-south-inverness\"], [\"/matches/1829535/live/\\u00e9cosse-league-one-2024-2025-annan-athletic-cove-rangers\", 1829535, \"\\u00e9cosse\", \"league-one\", \"2024-2025\", \"annan-athletic-cove-rangers\"], [\"/matches/1829536/live/\\u00e9cosse-league-one-2024-2025-arbroath-queen-of-south\", 1829536, \"\\u00e9cosse\", \"league-one\", \"2024-2025\", \"arbroath-queen-of-south\"], [\"/matches/1829537/live/\\u00e9cosse-league-one-2024-2025-kelty-hearts-alloa-athletic\", 1829537, \"\\u00e9cosse\", \"league-one\", \"2024-2025\", \"kelty-hearts-alloa-athletic\"], [\"/matches/1829538/live/\\u00e9cosse-league-one-2024-2025-montrose-inverness\", 1829538, \"\\u00e9cosse\", \"league-one\", \"2024-2025\", \"montrose-inverness\"], [\"/matches/1829539/live/\\u00e9cosse-league-one-2024-2025-stenhousemuir-dumbarton\", 1829539, \"\\u00e9cosse\", \"league-one\", \"2024-2025\", \"stenhousemuir-dumbarton\"], [\"/matches/1829540/live/\\u00e9cosse-league-one-2024-2025-cove-rangers-arbroath\", 1829540, \"\\u00e9cosse\", \"league-one\", \"2024-2025\", \"cove-rangers-arbroath\"], [\"/matches/1829541/live/\\u00e9cosse-league-one-2024-2025-annan-athletic-inverness\", 1829541, \"\\u00e9cosse\", \"league-one\", \"2024-2025\", \"annan-athletic-inverness\"], [\"/matches/1829542/live/\\u00e9cosse-league-one-2024-2025-cove-rangers-montrose\", 1829542, \"\\u00e9cosse\", \"league-one\", \"2024-2025\", \"cove-rangers-montrose\"], [\"/matches/1829543/live/\\u00e9cosse-league-one-2024-2025-dumbarton-arbroath\", 1829543, \"\\u00e9cosse\", \"league-one\", \"2024-2025\", \"dumbarton-arbroath\"], [\"/matches/1829544/live/\\u00e9cosse-league-one-2024-2025-kelty-hearts-stenhousemuir\", 1829544, \"\\u00e9cosse\", \"league-one\", \"2024-2025\", \"kelty-hearts-stenhousemuir\"], [\"/matches/1829545/live/\\u00e9cosse-league-one-2024-2025-alloa-athletic-inverness\", 1829545, \"\\u00e9cosse\", \"league-one\", \"2024-2025\", \"alloa-athletic-inverness\"], [\"/matches/1829546/live/\\u00e9cosse-league-one-2024-2025-annan-athletic-montrose\", 1829546, \"\\u00e9cosse\", \"league-one\", \"2024-2025\", \"annan-athletic-montrose\"], [\"/matches/1829547/live/\\u00e9cosse-league-one-2024-2025-arbroath-kelty-hearts\", 1829547, \"\\u00e9cosse\", \"league-one\", \"2024-2025\", \"arbroath-kelty-hearts\"], [\"/matches/1829548/live/\\u00e9cosse-league-one-2024-2025-queen-of-south-dumbarton\", 1829548, \"\\u00e9cosse\", \"league-one\", \"2024-2025\", \"queen-of-south-dumbarton\"], [\"/matches/1829549/live/\\u00e9cosse-league-one-2024-2025-stenhousemuir-cove-rangers\", 1829549, \"\\u00e9cosse\", \"league-one\", \"2024-2025\", \"stenhousemuir-cove-rangers\"], [\"/matches/1829550/live/\\u00e9cosse-league-one-2024-2025-alloa-athletic-queen-of-south\", 1829550, \"\\u00e9cosse\", \"league-one\", \"2024-2025\", \"alloa-athletic-queen-of-south\"], [\"/matches/1829551/live/\\u00e9cosse-league-one-2024-2025-dumbarton-alloa-athletic\", 1829551, \"\\u00e9cosse\", \"league-one\", \"2024-2025\", \"dumbarton-alloa-athletic\"], [\"/matches/1829552/live/\\u00e9cosse-league-one-2024-2025-inverness-queen-of-south\", 1829552, \"\\u00e9cosse\", \"league-one\", \"2024-2025\", \"inverness-queen-of-south\"], [\"/matches/1829553/live/\\u00e9cosse-league-one-2024-2025-kelty-hearts-annan-athletic\", 1829553, \"\\u00e9cosse\", \"league-one\", \"2024-2025\", \"kelty-hearts-annan-athletic\"], [\"/matches/1829554/live/\\u00e9cosse-league-one-2024-2025-montrose-stenhousemuir\", 1829554, \"\\u00e9cosse\", \"league-one\", \"2024-2025\", \"montrose-stenhousemuir\"], [\"/matches/1829555/live/\\u00e9cosse-league-one-2024-2025-annan-athletic-dumbarton\", 1829555, \"\\u00e9cosse\", \"league-one\", \"2024-2025\", \"annan-athletic-dumbarton\"], [\"/matches/1829556/live/\\u00e9cosse-league-one-2024-2025-arbroath-inverness\", 1829556, \"\\u00e9cosse\", \"league-one\", \"2024-2025\", \"arbroath-inverness\"], [\"/matches/1829557/live/\\u00e9cosse-league-one-2024-2025-kelty-hearts-cove-rangers\", 1829557, \"\\u00e9cosse\", \"league-one\", \"2024-2025\", \"kelty-hearts-cove-rangers\"], [\"/matches/1829558/live/\\u00e9cosse-league-one-2024-2025-montrose-alloa-athletic\", 1829558, \"\\u00e9cosse\", \"league-one\", \"2024-2025\", \"montrose-alloa-athletic\"], [\"/matches/1829559/live/\\u00e9cosse-league-one-2024-2025-stenhousemuir-queen-of-south\", 1829559, \"\\u00e9cosse\", \"league-one\", \"2024-2025\", \"stenhousemuir-queen-of-south\"], [\"/matches/1829560/live/\\u00e9cosse-league-one-2024-2025-alloa-athletic-stenhousemuir\", 1829560, \"\\u00e9cosse\", \"league-one\", \"2024-2025\", \"alloa-athletic-stenhousemuir\"], [\"/matches/1829561/live/\\u00e9cosse-league-one-2024-2025-cove-rangers-kelty-hearts\", 1829561, \"\\u00e9cosse\", \"league-one\", \"2024-2025\", \"cove-rangers-kelty-hearts\"], [\"/matches/1829562/live/\\u00e9cosse-league-one-2024-2025-dumbarton-annan-athletic\", 1829562, \"\\u00e9cosse\", \"league-one\", \"2024-2025\", \"dumbarton-annan-athletic\"], [\"/matches/1829563/live/\\u00e9cosse-league-one-2024-2025-inverness-arbroath\", 1829563, \"\\u00e9cosse\", \"league-one\", \"2024-2025\", \"inverness-arbroath\"], [\"/matches/1829564/live/\\u00e9cosse-league-one-2024-2025-queen-of-south-stenhousemuir\", 1829564, \"\\u00e9cosse\", \"league-one\", \"2024-2025\", \"queen-of-south-stenhousemuir\"], [\"/matches/1829565/live/\\u00e9cosse-league-one-2024-2025-annan-athletic-arbroath\", 1829565, \"\\u00e9cosse\", \"league-one\", \"2024-2025\", \"annan-athletic-arbroath\"], [\"/matches/1829566/live/\\u00e9cosse-league-one-2024-2025-cove-rangers-alloa-athletic\", 1829566, \"\\u00e9cosse\", \"league-one\", \"2024-2025\", \"cove-rangers-alloa-athletic\"], [\"/matches/1829567/live/\\u00e9cosse-league-one-2024-2025-kelty-hearts-queen-of-south\", 1829567, \"\\u00e9cosse\", \"league-one\", \"2024-2025\", \"kelty-hearts-queen-of-south\"], [\"/matches/1829568/live/\\u00e9cosse-league-one-2024-2025-montrose-dumbarton\", 1829568, \"\\u00e9cosse\", \"league-one\", \"2024-2025\", \"montrose-dumbarton\"], [\"/matches/1829569/live/\\u00e9cosse-league-one-2024-2025-stenhousemuir-inverness\", 1829569, \"\\u00e9cosse\", \"league-one\", \"2024-2025\", \"stenhousemuir-inverness\"], [\"/matches/1829570/live/\\u00e9cosse-league-one-2024-2025-alloa-athletic-montrose\", 1829570, \"\\u00e9cosse\", \"league-one\", \"2024-2025\", \"alloa-athletic-montrose\"], [\"/matches/1829571/live/\\u00e9cosse-league-one-2024-2025-arbroath-montrose\", 1829571, \"\\u00e9cosse\", \"league-one\", \"2024-2025\", \"arbroath-montrose\"], [\"/matches/1829572/live/\\u00e9cosse-league-one-2024-2025-dumbarton-kelty-hearts\", 1829572, \"\\u00e9cosse\", \"league-one\", \"2024-2025\", \"dumbarton-kelty-hearts\"], [\"/matches/1829573/live/\\u00e9cosse-league-one-2024-2025-inverness-cove-rangers\", 1829573, \"\\u00e9cosse\", \"league-one\", \"2024-2025\", \"inverness-cove-rangers\"], [\"/matches/1829574/live/\\u00e9cosse-league-one-2024-2025-queen-of-south-annan-athletic\", 1829574, \"\\u00e9cosse\", \"league-one\", \"2024-2025\", \"queen-of-south-annan-athletic\"], [\"/matches/1829575/live/\\u00e9cosse-league-one-2024-2025-arbroath-alloa-athletic\", 1829575, \"\\u00e9cosse\", \"league-one\", \"2024-2025\", \"arbroath-alloa-athletic\"], [\"/matches/1829576/live/\\u00e9cosse-league-one-2024-2025-inverness-dumbarton\", 1829576, \"\\u00e9cosse\", \"league-one\", \"2024-2025\", \"inverness-dumbarton\"], [\"/matches/1829577/live/\\u00e9cosse-league-one-2024-2025-montrose-kelty-hearts\", 1829577, \"\\u00e9cosse\", \"league-one\", \"2024-2025\", \"montrose-kelty-hearts\"], [\"/matches/1829578/live/\\u00e9cosse-league-one-2024-2025-queen-of-south-cove-rangers\", 1829578, \"\\u00e9cosse\", \"league-one\", \"2024-2025\", \"queen-of-south-cove-rangers\"], [\"/matches/1829579/live/\\u00e9cosse-league-one-2024-2025-stenhousemuir-annan-athletic\", 1829579, \"\\u00e9cosse\", \"league-one\", \"2024-2025\", \"stenhousemuir-annan-athletic\"], [\"/matches/1829580/live/\\u00e9cosse-league-one-2024-2025-queen-of-south-alloa-athletic\", 1829580, \"\\u00e9cosse\", \"league-one\", \"2024-2025\", \"queen-of-south-alloa-athletic\"], [\"/matches/1829581/live/\\u00e9cosse-league-one-2024-2025-stenhousemuir-kelty-hearts\", 1829581, \"\\u00e9cosse\", \"league-one\", \"2024-2025\", \"stenhousemuir-kelty-hearts\"], [\"/matches/1829582/live/\\u00e9cosse-championship-2024-2025-airdrieonians-raith-rovers\", 1829582, \"NaN\", \"NaN\", \"NaN\", \"NaN\"], [\"/matches/1829583/live/\\u00e9cosse-league-one-2024-2025-cove-rangers-stenhousemuir\", 1829583, \"\\u00e9cosse\", \"league-one\", \"2024-2025\", \"cove-rangers-stenhousemuir\"], [\"/matches/1829584/live/\\u00e9cosse-championship-2024-2025-livingston-raith-rovers\", 1829584, \"NaN\", \"NaN\", \"NaN\", \"NaN\"], [\"/matches/1829585/live/\\u00e9cosse-championship-2024-2025-hamilton-academical-greenock-morton\", 1829585, \"NaN\", \"NaN\", \"NaN\", \"NaN\"], [\"/matches/1829586/live/\\u00e9cosse-championship-2024-2025-falkirk-dunfermline\", 1829586, \"NaN\", \"NaN\", \"NaN\", \"NaN\"], [\"/matches/1829587/live/\\u00e9cosse-championship-2024-2025-airdrieonians-ayr\", 1829587, \"NaN\", \"NaN\", \"NaN\", \"NaN\"], [\"/matches/1829588/live/\\u00e9cosse-championship-2024-2025-raith-rovers-queen-s-park\", 1829588, \"NaN\", \"NaN\", \"NaN\", \"NaN\"], [\"/matches/1829589/live/\\u00e9cosse-championship-2024-2025-partick-thistle-airdrieonians\", 1829589, \"NaN\", \"NaN\", \"NaN\", \"NaN\"], [\"/matches/1829590/live/\\u00e9cosse-championship-2024-2025-hamilton-academical-falkirk\", 1829590, \"NaN\", \"NaN\", \"NaN\", \"NaN\"], [\"/matches/1829591/live/\\u00e9cosse-championship-2024-2025-dunfermline-greenock-morton\", 1829591, \"NaN\", \"NaN\", \"NaN\", \"NaN\"], [\"/matches/1829592/live/\\u00e9cosse-championship-2024-2025-ayr-livingston\", 1829592, \"NaN\", \"NaN\", \"NaN\", \"NaN\"], [\"/matches/1829593/live/\\u00e9cosse-championship-2024-2025-queen-s-park-hamilton-academical\", 1829593, \"NaN\", \"NaN\", \"NaN\", \"NaN\"], [\"/matches/1829614/live/\\u00e9cosse-league-one-2024-2025-alloa-athletic-dumbarton\", 1829614, \"\\u00e9cosse\", \"league-one\", \"2024-2025\", \"alloa-athletic-dumbarton\"], [\"/matches/1829615/live/\\u00e9cosse-league-one-2024-2025-montrose-cove-rangers\", 1829615, \"\\u00e9cosse\", \"league-one\", \"2024-2025\", \"montrose-cove-rangers\"], [\"/matches/1829616/live/\\u00e9cosse-league-one-2024-2025-dumbarton-queen-of-south\", 1829616, \"\\u00e9cosse\", \"league-one\", \"2024-2025\", \"dumbarton-queen-of-south\"], [\"/matches/1829617/live/\\u00e9cosse-league-one-2024-2025-inverness-alloa-athletic\", 1829617, \"\\u00e9cosse\", \"league-one\", \"2024-2025\", \"inverness-alloa-athletic\"], [\"/matches/1829618/live/\\u00e9cosse-league-one-2024-2025-kelty-hearts-arbroath\", 1829618, \"\\u00e9cosse\", \"league-one\", \"2024-2025\", \"kelty-hearts-arbroath\"], [\"/matches/1829619/live/\\u00e9cosse-league-one-2024-2025-montrose-annan-athletic\", 1829619, \"\\u00e9cosse\", \"league-one\", \"2024-2025\", \"montrose-annan-athletic\"], [\"/matches/1829620/live/\\u00e9cosse-league-one-2024-2025-arbroath-dumbarton\", 1829620, \"\\u00e9cosse\", \"league-one\", \"2024-2025\", \"arbroath-dumbarton\"], [\"/matches/1829621/live/\\u00e9cosse-league-one-2024-2025-annan-athletic-kelty-hearts\", 1829621, \"\\u00e9cosse\", \"league-one\", \"2024-2025\", \"annan-athletic-kelty-hearts\"], [\"/matches/1829622/live/\\u00e9cosse-league-one-2024-2025-arbroath-cove-rangers\", 1829622, \"\\u00e9cosse\", \"league-one\", \"2024-2025\", \"arbroath-cove-rangers\"], [\"/matches/1829623/live/\\u00e9cosse-league-one-2024-2025-queen-of-south-inverness\", 1829623, \"\\u00e9cosse\", \"league-one\", \"2024-2025\", \"queen-of-south-inverness\"], [\"/matches/1829624/live/\\u00e9cosse-league-one-2024-2025-stenhousemuir-montrose\", 1829624, \"\\u00e9cosse\", \"league-one\", \"2024-2025\", \"stenhousemuir-montrose\"], [\"/matches/1829630/live/\\u00e9cosse-league-one-2024-2025-alloa-athletic-cove-rangers\", 1829630, \"\\u00e9cosse\", \"league-one\", \"2024-2025\", \"alloa-athletic-cove-rangers\"], [\"/matches/1829631/live/\\u00e9cosse-league-one-2024-2025-cove-rangers-annan-athletic\", 1829631, \"\\u00e9cosse\", \"league-one\", \"2024-2025\", \"cove-rangers-annan-athletic\"], [\"/matches/1829632/live/\\u00e9cosse-league-one-2024-2025-dumbarton-montrose\", 1829632, \"\\u00e9cosse\", \"league-one\", \"2024-2025\", \"dumbarton-montrose\"], [\"/matches/1829633/live/\\u00e9cosse-league-one-2024-2025-inverness-stenhousemuir\", 1829633, \"\\u00e9cosse\", \"league-one\", \"2024-2025\", \"inverness-stenhousemuir\"], [\"/matches/1829634/live/\\u00e9cosse-league-one-2024-2025-queen-of-south-arbroath\", 1829634, \"\\u00e9cosse\", \"league-one\", \"2024-2025\", \"queen-of-south-arbroath\"], [\"/matches/1829635/live/\\u00e9cosse-league-one-2024-2025-annan-athletic-alloa-athletic\", 1829635, \"\\u00e9cosse\", \"league-one\", \"2024-2025\", \"annan-athletic-alloa-athletic\"], [\"/matches/1829636/live/\\u00e9cosse-league-one-2024-2025-cove-rangers-dumbarton\", 1829636, \"\\u00e9cosse\", \"league-one\", \"2024-2025\", \"cove-rangers-dumbarton\"], [\"/matches/1829637/live/\\u00e9cosse-league-one-2024-2025-kelty-hearts-inverness\", 1829637, \"\\u00e9cosse\", \"league-one\", \"2024-2025\", \"kelty-hearts-inverness\"], [\"/matches/1829638/live/\\u00e9cosse-league-one-2024-2025-montrose-queen-of-south\", 1829638, \"\\u00e9cosse\", \"league-one\", \"2024-2025\", \"montrose-queen-of-south\"], [\"/matches/1829639/live/\\u00e9cosse-league-one-2024-2025-stenhousemuir-arbroath\", 1829639, \"\\u00e9cosse\", \"league-one\", \"2024-2025\", \"stenhousemuir-arbroath\"], [\"/matches/1829640/live/\\u00e9cosse-league-one-2024-2025-alloa-athletic-kelty-hearts\", 1829640, \"\\u00e9cosse\", \"league-one\", \"2024-2025\", \"alloa-athletic-kelty-hearts\"], [\"/matches/1829641/live/\\u00e9cosse-league-one-2024-2025-arbroath-annan-athletic\", 1829641, \"\\u00e9cosse\", \"league-one\", \"2024-2025\", \"arbroath-annan-athletic\"], [\"/matches/1829642/live/\\u00e9cosse-league-one-2024-2025-dumbarton-stenhousemuir\", 1829642, \"\\u00e9cosse\", \"league-one\", \"2024-2025\", \"dumbarton-stenhousemuir\"], [\"/matches/1829643/live/\\u00e9cosse-league-one-2024-2025-inverness-montrose\", 1829643, \"\\u00e9cosse\", \"league-one\", \"2024-2025\", \"inverness-montrose\"], [\"/matches/1829644/live/\\u00e9cosse-league-one-2024-2025-queen-of-south-kelty-hearts\", 1829644, \"\\u00e9cosse\", \"league-one\", \"2024-2025\", \"queen-of-south-kelty-hearts\"], [\"/matches/1829645/live/\\u00e9cosse-league-one-2024-2025-alloa-athletic-arbroath\", 1829645, \"\\u00e9cosse\", \"league-one\", \"2024-2025\", \"alloa-athletic-arbroath\"], [\"/matches/1829646/live/\\u00e9cosse-league-one-2024-2025-annan-athletic-stenhousemuir\", 1829646, \"\\u00e9cosse\", \"league-one\", \"2024-2025\", \"annan-athletic-stenhousemuir\"], [\"/matches/1829647/live/\\u00e9cosse-league-one-2024-2025-cove-rangers-queen-of-south\", 1829647, \"\\u00e9cosse\", \"league-one\", \"2024-2025\", \"cove-rangers-queen-of-south\"], [\"/matches/1829648/live/\\u00e9cosse-league-one-2024-2025-dumbarton-inverness\", 1829648, \"\\u00e9cosse\", \"league-one\", \"2024-2025\", \"dumbarton-inverness\"], [\"/matches/1829649/live/\\u00e9cosse-championship-2024-2025-dunfermline-falkirk\", 1829649, \"NaN\", \"NaN\", \"NaN\", \"NaN\"], [\"/matches/1829650/live/\\u00e9cosse-championship-2024-2025-airdrieonians-dunfermline\", 1829650, \"NaN\", \"NaN\", \"NaN\", \"NaN\"], [\"/matches/1829651/live/\\u00e9cosse-championship-2024-2025-hamilton-academical-queen-s-park\", 1829651, \"NaN\", \"NaN\", \"NaN\", \"NaN\"], [\"/matches/1829652/live/\\u00e9cosse-championship-2024-2025-queen-s-park-partick-thistle\", 1829652, \"NaN\", \"NaN\", \"NaN\", \"NaN\"], [\"/matches/1829653/live/\\u00e9cosse-championship-2024-2025-livingston-partick-thistle\", 1829653, \"NaN\", \"NaN\", \"NaN\", \"NaN\"], [\"/matches/1829654/live/\\u00e9cosse-championship-2024-2025-partick-thistle-livingston\", 1829654, \"NaN\", \"NaN\", \"NaN\", \"NaN\"], [\"/matches/1829655/live/\\u00e9cosse-championship-2024-2025-raith-rovers-dunfermline\", 1829655, \"NaN\", \"NaN\", \"NaN\", \"NaN\"], [\"/matches/1829656/live/\\u00e9cosse-championship-2024-2025-greenock-morton-raith-rovers\", 1829656, \"NaN\", \"NaN\", \"NaN\", \"NaN\"], [\"/matches/1829657/live/\\u00e9cosse-championship-2024-2025-airdrieonians-partick-thistle\", 1829657, \"NaN\", \"NaN\", \"NaN\", \"NaN\"], [\"/matches/1829658/live/\\u00e9cosse-championship-2024-2025-falkirk-ayr\", 1829658, \"NaN\", \"NaN\", \"NaN\", \"NaN\"], [\"/matches/1829659/live/\\u00e9cosse-championship-2024-2025-falkirk-hamilton-academical\", 1829659, \"NaN\", \"NaN\", \"NaN\", \"NaN\"], [\"/matches/1829660/live/\\u00e9cosse-championship-2024-2025-ayr-hamilton-academical\", 1829660, \"NaN\", \"NaN\", \"NaN\", \"NaN\"], [\"/matches/1829661/live/\\u00e9cosse-championship-2024-2025-greenock-morton-dunfermline\", 1829661, \"NaN\", \"NaN\", \"NaN\", \"NaN\"], [\"/matches/1829662/live/\\u00e9cosse-championship-2024-2025-dunfermline-livingston\", 1829662, \"NaN\", \"NaN\", \"NaN\", \"NaN\"], [\"/matches/1829663/live/\\u00e9cosse-championship-2024-2025-livingston-ayr\", 1829663, \"NaN\", \"NaN\", \"NaN\", \"NaN\"], [\"/matches/1829664/live/\\u00e9cosse-championship-2024-2025-greenock-morton-queen-s-park\", 1829664, \"NaN\", \"NaN\", \"NaN\", \"NaN\"], [\"/matches/1829665/live/\\u00e9cosse-championship-2024-2025-queen-s-park-raith-rovers\", 1829665, \"NaN\", \"NaN\", \"NaN\", \"NaN\"], [\"/matches/1829666/live/\\u00e9cosse-championship-2024-2025-partick-thistle-falkirk\", 1829666, \"NaN\", \"NaN\", \"NaN\", \"NaN\"], [\"/matches/1829667/live/\\u00e9cosse-championship-2024-2025-ayr-greenock-morton\", 1829667, \"NaN\", \"NaN\", \"NaN\", \"NaN\"], [\"/matches/1829668/live/\\u00e9cosse-championship-2024-2025-raith-rovers-airdrieonians\", 1829668, \"NaN\", \"NaN\", \"NaN\", \"NaN\"], [\"/matches/1829669/live/\\u00e9cosse-championship-2024-2025-ayr-falkirk\", 1829669, \"NaN\", \"NaN\", \"NaN\", \"NaN\"], [\"/matches/1829670/live/\\u00e9cosse-championship-2024-2025-airdrieonians-hamilton-academical\", 1829670, \"NaN\", \"NaN\", \"NaN\", \"NaN\"], [\"/matches/1829671/live/\\u00e9cosse-championship-2024-2025-hamilton-academical-airdrieonians\", 1829671, \"NaN\", \"NaN\", \"NaN\", \"NaN\"], [\"/matches/1829672/live/\\u00e9cosse-championship-2024-2025-dunfermline-partick-thistle\", 1829672, \"NaN\", \"NaN\", \"NaN\", \"NaN\"], [\"/matches/1829673/live/\\u00e9cosse-championship-2024-2025-partick-thistle-queen-s-park\", 1829673, \"NaN\", \"NaN\", \"NaN\", \"NaN\"], [\"/matches/1829674/live/\\u00e9cosse-championship-2024-2025-falkirk-greenock-morton\", 1829674, \"NaN\", \"NaN\", \"NaN\", \"NaN\"], [\"/matches/1829675/live/\\u00e9cosse-championship-2024-2025-raith-rovers-livingston\", 1829675, \"NaN\", \"NaN\", \"NaN\", \"NaN\"], [\"/matches/1829676/live/\\u00e9cosse-championship-2024-2025-livingston-queen-s-park\", 1829676, \"NaN\", \"NaN\", \"NaN\", \"NaN\"], [\"/matches/1829677/live/\\u00e9cosse-championship-2024-2025-airdrieonians-falkirk\", 1829677, \"NaN\", \"NaN\", \"NaN\", \"NaN\"], [\"/matches/1829678/live/\\u00e9cosse-championship-2024-2025-raith-rovers-ayr\", 1829678, \"NaN\", \"NaN\", \"NaN\", \"NaN\"], [\"/matches/1829679/live/\\u00e9cosse-championship-2024-2025-ayr-raith-rovers\", 1829679, \"NaN\", \"NaN\", \"NaN\", \"NaN\"], [\"/matches/1829680/live/\\u00e9cosse-championship-2024-2025-falkirk-airdrieonians\", 1829680, \"NaN\", \"NaN\", \"NaN\", \"NaN\"], [\"/matches/1829681/live/\\u00e9cosse-championship-2024-2025-greenock-morton-hamilton-academical\", 1829681, \"NaN\", \"NaN\", \"NaN\", \"NaN\"], [\"/matches/1829682/live/\\u00e9cosse-championship-2024-2025-partick-thistle-dunfermline\", 1829682, \"NaN\", \"NaN\", \"NaN\", \"NaN\"], [\"/matches/1829683/live/\\u00e9cosse-championship-2024-2025-queen-s-park-livingston\", 1829683, \"NaN\", \"NaN\", \"NaN\", \"NaN\"], [\"/matches/1829684/live/\\u00e9cosse-championship-2024-2025-dunfermline-ayr\", 1829684, \"NaN\", \"NaN\", \"NaN\", \"NaN\"], [\"/matches/1829685/live/\\u00e9cosse-championship-2024-2025-dunfermline-airdrieonians\", 1829685, \"NaN\", \"NaN\", \"NaN\", \"NaN\"], [\"/matches/1829686/live/\\u00e9cosse-championship-2024-2025-livingston-falkirk\", 1829686, \"NaN\", \"NaN\", \"NaN\", \"NaN\"], [\"/matches/1829687/live/\\u00e9cosse-championship-2024-2025-partick-thistle-hamilton-academical\", 1829687, \"NaN\", \"NaN\", \"NaN\", \"NaN\"], [\"/matches/1829688/live/\\u00e9cosse-championship-2024-2025-raith-rovers-greenock-morton\", 1829688, \"NaN\", \"NaN\", \"NaN\", \"NaN\"], [\"/matches/1829689/live/\\u00e9cosse-championship-2024-2025-airdrieonians-livingston\", 1829689, \"NaN\", \"NaN\", \"NaN\", \"NaN\"], [\"/matches/1829690/live/\\u00e9cosse-championship-2024-2025-queen-s-park-livingston\", 1829690, \"NaN\", \"NaN\", \"NaN\", \"NaN\"], [\"/matches/1829691/live/\\u00e9cosse-championship-2024-2025-airdrieonians-falkirk\", 1829691, \"NaN\", \"NaN\", \"NaN\", \"NaN\"], [\"/matches/1829692/live/\\u00e9cosse-championship-2024-2025-raith-rovers-livingston\", 1829692, \"NaN\", \"NaN\", \"NaN\", \"NaN\"], [\"/matches/1829693/live/\\u00e9cosse-championship-2024-2025-partick-thistle-queen-s-park\", 1829693, \"NaN\", \"NaN\", \"NaN\", \"NaN\"], [\"/matches/1829694/live/\\u00e9cosse-championship-2024-2025-hamilton-academical-airdrieonians\", 1829694, \"NaN\", \"NaN\", \"NaN\", \"NaN\"], [\"/matches/1829695/live/\\u00e9cosse-championship-2024-2025-greenock-morton-falkirk\", 1829695, \"NaN\", \"NaN\", \"NaN\", \"NaN\"], [\"/matches/1829696/live/\\u00e9cosse-championship-2024-2025-dunfermline-ayr\", 1829696, \"NaN\", \"NaN\", \"NaN\", \"NaN\"], [\"/matches/1829697/live/\\u00e9cosse-championship-2024-2025-livingston-greenock-morton\", 1829697, \"NaN\", \"NaN\", \"NaN\", \"NaN\"], [\"/matches/1829698/live/\\u00e9cosse-championship-2024-2025-hamilton-academical-dunfermline\", 1829698, \"NaN\", \"NaN\", \"NaN\", \"NaN\"], [\"/matches/1829699/live/\\u00e9cosse-championship-2024-2025-falkirk-partick-thistle\", 1829699, \"NaN\", \"NaN\", \"NaN\", \"NaN\"], [\"/matches/1829700/live/\\u00e9cosse-championship-2024-2025-ayr-raith-rovers\", 1829700, \"NaN\", \"NaN\", \"NaN\", \"NaN\"], [\"/matches/1829701/live/\\u00e9cosse-championship-2024-2025-airdrieonians-queen-s-park\", 1829701, \"NaN\", \"NaN\", \"NaN\", \"NaN\"], [\"/matches/1829702/live/\\u00e9cosse-championship-2024-2025-raith-rovers-partick-thistle\", 1829702, \"NaN\", \"NaN\", \"NaN\", \"NaN\"], [\"/matches/1829703/live/\\u00e9cosse-championship-2024-2025-greenock-morton-hamilton-academical\", 1829703, \"NaN\", \"NaN\", \"NaN\", \"NaN\"], [\"/matches/1829704/live/\\u00e9cosse-championship-2024-2025-dunfermline-falkirk\", 1829704, \"NaN\", \"NaN\", \"NaN\", \"NaN\"], [\"/matches/1829705/live/\\u00e9cosse-championship-2024-2025-ayr-airdrieonians\", 1829705, \"NaN\", \"NaN\", \"NaN\", \"NaN\"], [\"/matches/1829706/live/\\u00e9cosse-championship-2024-2025-partick-thistle-greenock-morton\", 1829706, \"NaN\", \"NaN\", \"NaN\", \"NaN\"], [\"/matches/1829707/live/\\u00e9cosse-championship-2024-2025-livingston-dunfermline\", 1829707, \"NaN\", \"NaN\", \"NaN\", \"NaN\"], [\"/matches/1829708/live/\\u00e9cosse-championship-2024-2025-hamilton-academical-ayr\", 1829708, \"NaN\", \"NaN\", \"NaN\", \"NaN\"], [\"/matches/1829709/live/\\u00e9cosse-championship-2024-2025-ayr-partick-thistle\", 1829709, \"NaN\", \"NaN\", \"NaN\", \"NaN\"], [\"/matches/1829710/live/\\u00e9cosse-championship-2024-2025-raith-rovers-falkirk\", 1829710, \"NaN\", \"NaN\", \"NaN\", \"NaN\"], [\"/matches/1829711/live/\\u00e9cosse-championship-2024-2025-livingston-airdrieonians\", 1829711, \"NaN\", \"NaN\", \"NaN\", \"NaN\"], [\"/matches/1829712/live/\\u00e9cosse-championship-2024-2025-hamilton-academical-partick-thistle\", 1829712, \"NaN\", \"NaN\", \"NaN\", \"NaN\"], [\"/matches/1829713/live/\\u00e9cosse-championship-2024-2025-dunfermline-queen-s-park\", 1829713, \"NaN\", \"NaN\", \"NaN\", \"NaN\"], [\"/matches/1829714/live/\\u00e9cosse-championship-2024-2025-ayr-greenock-morton\", 1829714, \"NaN\", \"NaN\", \"NaN\", \"NaN\"], [\"/matches/1829715/live/\\u00e9cosse-championship-2024-2025-raith-rovers-hamilton-academical\", 1829715, \"NaN\", \"NaN\", \"NaN\", \"NaN\"], [\"/matches/1829716/live/\\u00e9cosse-championship-2024-2025-queen-s-park-ayr\", 1829716, \"NaN\", \"NaN\", \"NaN\", \"NaN\"], [\"/matches/1829717/live/\\u00e9cosse-championship-2024-2025-partick-thistle-dunfermline\", 1829717, \"NaN\", \"NaN\", \"NaN\", \"NaN\"], [\"/matches/1829718/live/\\u00e9cosse-championship-2024-2025-greenock-morton-airdrieonians\", 1829718, \"NaN\", \"NaN\", \"NaN\", \"NaN\"], [\"/matches/1829719/live/\\u00e9cosse-championship-2024-2025-falkirk-livingston\", 1829719, \"NaN\", \"NaN\", \"NaN\", \"NaN\"], [\"/matches/1829720/live/\\u00e9cosse-championship-2024-2025-queen-s-park-greenock-morton\", 1829720, \"NaN\", \"NaN\", \"NaN\", \"NaN\"], [\"/matches/1829721/live/\\u00e9cosse-championship-2024-2025-livingston-hamilton-academical\", 1829721, \"NaN\", \"NaN\", \"NaN\", \"NaN\"], [\"/matches/1829722/live/\\u00e9cosse-championship-2024-2025-dunfermline-raith-rovers\", 1829722, \"NaN\", \"NaN\", \"NaN\", \"NaN\"], [\"/matches/1829723/live/\\u00e9cosse-championship-2024-2025-greenock-morton-falkirk\", 1829723, \"NaN\", \"NaN\", \"NaN\", \"NaN\"], [\"/matches/1829724/live/\\u00e9cosse-championship-2024-2025-ayr-dunfermline\", 1829724, \"NaN\", \"NaN\", \"NaN\", \"NaN\"], [\"/matches/1829725/live/\\u00e9cosse-championship-2024-2025-dunfermline-greenock-morton\", 1829725, \"NaN\", \"NaN\", \"NaN\", \"NaN\"], [\"/matches/1829726/live/\\u00e9cosse-championship-2024-2025-partick-thistle-airdrieonians\", 1829726, \"NaN\", \"NaN\", \"NaN\", \"NaN\"], [\"/matches/1829727/live/\\u00e9cosse-championship-2024-2025-hamilton-academical-livingston\", 1829727, \"NaN\", \"NaN\", \"NaN\", \"NaN\"], [\"/matches/1829728/live/\\u00e9cosse-championship-2024-2025-ayr-airdrieonians\", 1829728, \"NaN\", \"NaN\", \"NaN\", \"NaN\"], [\"/matches/1829729/live/\\u00e9cosse-championship-2024-2025-raith-rovers-hamilton-academical\", 1829729, \"NaN\", \"NaN\", \"NaN\", \"NaN\"], [\"/matches/1829730/live/\\u00e9cosse-championship-2024-2025-partick-thistle-raith-rovers\", 1829730, \"NaN\", \"NaN\", \"NaN\", \"NaN\"], [\"/matches/1829731/live/\\u00e9cosse-championship-2024-2025-hamilton-academical-falkirk\", 1829731, \"NaN\", \"NaN\", \"NaN\", \"NaN\"], [\"/matches/1829732/live/\\u00e9cosse-championship-2024-2025-airdrieonians-raith-rovers\", 1829732, \"NaN\", \"NaN\", \"NaN\", \"NaN\"], [\"/matches/1829733/live/\\u00e9cosse-championship-2024-2025-queen-s-park-dunfermline\", 1829733, \"NaN\", \"NaN\", \"NaN\", \"NaN\"], [\"/matches/1829734/live/\\u00e9cosse-championship-2024-2025-partick-thistle-livingston\", 1829734, \"NaN\", \"NaN\", \"NaN\", \"NaN\"], [\"/matches/1829735/live/\\u00e9cosse-championship-2024-2025-falkirk-partick-thistle\", 1829735, \"NaN\", \"NaN\", \"NaN\", \"NaN\"], [\"/matches/1829736/live/\\u00e9cosse-championship-2024-2025-ayr-queen-s-park\", 1829736, \"NaN\", \"NaN\", \"NaN\", \"NaN\"], [\"/matches/1829737/live/\\u00e9cosse-championship-2024-2025-raith-rovers-queen-s-park\", 1829737, \"NaN\", \"NaN\", \"NaN\", \"NaN\"], [\"/matches/1829738/live/\\u00e9cosse-championship-2024-2025-greenock-morton-ayr\", 1829738, \"NaN\", \"NaN\", \"NaN\", \"NaN\"], [\"/matches/1829739/live/\\u00e9cosse-championship-2024-2025-airdrieonians-hamilton-academical\", 1829739, \"NaN\", \"NaN\", \"NaN\", \"NaN\"], [\"/matches/1829740/live/\\u00e9cosse-championship-2024-2025-greenock-morton-partick-thistle\", 1829740, \"NaN\", \"NaN\", \"NaN\", \"NaN\"], [\"/matches/1829741/live/\\u00e9cosse-championship-2024-2025-falkirk-dunfermline\", 1829741, \"NaN\", \"NaN\", \"NaN\", \"NaN\"], [\"/matches/1829742/live/\\u00e9cosse-championship-2024-2025-hamilton-academical-raith-rovers\", 1829742, \"NaN\", \"NaN\", \"NaN\", \"NaN\"], [\"/matches/1829743/live/\\u00e9cosse-championship-2024-2025-greenock-morton-ayr\", 1829743, \"NaN\", \"NaN\", \"NaN\", \"NaN\"], [\"/matches/1829744/live/\\u00e9cosse-championship-2024-2025-hamilton-academical-dunfermline\", 1829744, \"NaN\", \"NaN\", \"NaN\", \"NaN\"], [\"/matches/1829745/live/\\u00e9cosse-championship-2024-2025-queen-s-park-falkirk\", 1829745, \"NaN\", \"NaN\", \"NaN\", \"NaN\"], [\"/matches/1829746/live/\\u00e9cosse-championship-2024-2025-livingston-greenock-morton\", 1829746, \"NaN\", \"NaN\", \"NaN\", \"NaN\"], [\"/matches/1829747/live/\\u00e9cosse-championship-2024-2025-livingston-raith-rovers\", 1829747, \"NaN\", \"NaN\", \"NaN\", \"NaN\"], [\"/matches/1829748/live/\\u00e9cosse-championship-2024-2025-queen-s-park-ayr\", 1829748, \"NaN\", \"NaN\", \"NaN\", \"NaN\"], [\"/matches/1829749/live/\\u00e9cosse-championship-2024-2025-dunfermline-hamilton-academical\", 1829749, \"NaN\", \"NaN\", \"NaN\", \"NaN\"], [\"/matches/1829750/live/\\u00e9cosse-championship-2024-2025-queen-s-park-partick-thistle\", 1829750, \"NaN\", \"NaN\", \"NaN\", \"NaN\"], [\"/matches/1829751/live/\\u00e9cosse-championship-2024-2025-dunfermline-queen-s-park\", 1829751, \"NaN\", \"NaN\", \"NaN\", \"NaN\"], [\"/matches/1829752/live/\\u00e9cosse-championship-2024-2025-falkirk-raith-rovers\", 1829752, \"NaN\", \"NaN\", \"NaN\", \"NaN\"], [\"/matches/1829753/live/\\u00e9cosse-championship-2024-2025-dunfermline-raith-rovers\", 1829753, \"NaN\", \"NaN\", \"NaN\", \"NaN\"], [\"/matches/1829754/live/\\u00e9cosse-championship-2024-2025-greenock-morton-raith-rovers\", 1829754, \"NaN\", \"NaN\", \"NaN\", \"NaN\"], [\"/matches/1829755/live/\\u00e9cosse-championship-2024-2025-greenock-morton-livingston\", 1829755, \"NaN\", \"NaN\", \"NaN\", \"NaN\"], [\"/matches/1829756/live/\\u00e9cosse-championship-2024-2025-hamilton-academical-partick-thistle\", 1829756, \"NaN\", \"NaN\", \"NaN\", \"NaN\"], [\"/matches/1829757/live/\\u00e9cosse-championship-2024-2025-livingston-airdrieonians\", 1829757, \"NaN\", \"NaN\", \"NaN\", \"NaN\"], [\"/matches/1829758/live/\\u00e9cosse-championship-2024-2025-partick-thistle-ayr\", 1829758, \"NaN\", \"NaN\", \"NaN\", \"NaN\"], [\"/matches/1829759/live/\\u00e9cosse-championship-2024-2025-queen-s-park-airdrieonians\", 1829759, \"NaN\", \"NaN\", \"NaN\", \"NaN\"], [\"/matches/1829760/live/\\u00e9cosse-championship-2024-2025-airdrieonians-dunfermline\", 1829760, \"NaN\", \"NaN\", \"NaN\", \"NaN\"], [\"/matches/1829761/live/\\u00e9cosse-championship-2024-2025-airdrieonians-greenock-morton\", 1829761, \"NaN\", \"NaN\", \"NaN\", \"NaN\"], [\"/matches/1829762/live/\\u00e9cosse-championship-2024-2025-ayr-partick-thistle\", 1829762, \"NaN\", \"NaN\", \"NaN\", \"NaN\"], [\"/matches/1829763/live/\\u00e9cosse-championship-2024-2025-livingston-hamilton-academical\", 1829763, \"NaN\", \"NaN\", \"NaN\", \"NaN\"], [\"/matches/1829764/live/\\u00e9cosse-championship-2024-2025-queen-s-park-greenock-morton\", 1829764, \"NaN\", \"NaN\", \"NaN\", \"NaN\"], [\"/matches/1829765/live/\\u00e9cosse-championship-2024-2025-raith-rovers-falkirk\", 1829765, \"NaN\", \"NaN\", \"NaN\", \"NaN\"], [\"/matches/1829766/live/\\u00e9cosse-championship-2024-2025-airdrieonians-queen-s-park\", 1829766, \"NaN\", \"NaN\", \"NaN\", \"NaN\"], [\"/matches/1829767/live/\\u00e9cosse-championship-2024-2025-falkirk-queen-s-park\", 1829767, \"NaN\", \"NaN\", \"NaN\", \"NaN\"], [\"/matches/1829768/live/\\u00e9cosse-championship-2024-2025-falkirk-livingston\", 1829768, \"NaN\", \"NaN\", \"NaN\", \"NaN\"], [\"/matches/1829769/live/\\u00e9cosse-championship-2024-2025-hamilton-academical-ayr\", 1829769, \"NaN\", \"NaN\", \"NaN\", \"NaN\"], [\"/matches/1829770/live/\\u00e9cosse-championship-2024-2025-partick-thistle-greenock-morton\", 1829770, \"NaN\", \"NaN\", \"NaN\", \"NaN\"], [\"/matches/1829771/live/\\u00e9cosse-championship-2024-2025-falkirk-ayr\", 1829771, \"NaN\", \"NaN\", \"NaN\", \"NaN\"], [\"/matches/1829772/live/\\u00e9cosse-championship-2024-2025-greenock-morton-airdrieonians\", 1829772, \"NaN\", \"NaN\", \"NaN\", \"NaN\"], [\"/matches/1829773/live/\\u00e9cosse-championship-2024-2025-livingston-dunfermline\", 1829773, \"NaN\", \"NaN\", \"NaN\", \"NaN\"], [\"/matches/1829774/live/\\u00e9cosse-championship-2024-2025-queen-s-park-hamilton-academical\", 1829774, \"NaN\", \"NaN\", \"NaN\", \"NaN\"], [\"/matches/1829775/live/\\u00e9cosse-championship-2024-2025-raith-rovers-partick-thistle\", 1829775, \"NaN\", \"NaN\", \"NaN\", \"NaN\"], [\"/matches/1829776/live/\\u00e9cosse-championship-2024-2025-ayr-livingston\", 1829776, \"NaN\", \"NaN\", \"NaN\", \"NaN\"], [\"/matches/1829788/live/\\u00e9cosse-championship-2024-2025-airdrieonians-livingston\", 1829788, \"NaN\", \"NaN\", \"NaN\", \"NaN\"], [\"/matches/1829789/live/\\u00e9cosse-championship-2024-2025-hamilton-academical-greenock-morton\", 1829789, \"NaN\", \"NaN\", \"NaN\", \"NaN\"], [\"/matches/1829790/live/\\u00e9cosse-championship-2024-2025-partick-thistle-ayr\", 1829790, \"NaN\", \"NaN\", \"NaN\", \"NaN\"], [\"/matches/1829791/live/\\u00e9cosse-championship-2024-2025-queen-s-park-falkirk\", 1829791, \"NaN\", \"NaN\", \"NaN\", \"NaN\"], [\"/matches/1829799/live/\\u00e9cosse-championship-2024-2025-livingston-falkirk\", 1829799, \"NaN\", \"NaN\", \"NaN\", \"NaN\"], [\"/matches/1829800/live/\\u00e9cosse-championship-2024-2025-ayr-hamilton-academical\", 1829800, \"NaN\", \"NaN\", \"NaN\", \"NaN\"], [\"/matches/1829801/live/\\u00e9cosse-championship-2024-2025-dunfermline-livingston\", 1829801, \"NaN\", \"NaN\", \"NaN\", \"NaN\"], [\"/matches/1829802/live/\\u00e9cosse-championship-2024-2025-falkirk-airdrieonians\", 1829802, \"NaN\", \"NaN\", \"NaN\", \"NaN\"], [\"/matches/1829803/live/\\u00e9cosse-championship-2024-2025-greenock-morton-queen-s-park\", 1829803, \"NaN\", \"NaN\", \"NaN\", \"NaN\"], [\"/matches/1829804/live/\\u00e9cosse-championship-2024-2025-partick-thistle-raith-rovers\", 1829804, \"NaN\", \"NaN\", \"NaN\", \"NaN\"], [\"/matches/1829805/live/\\u00e9cosse-championship-2024-2025-ayr-dunfermline\", 1829805, \"NaN\", \"NaN\", \"NaN\", \"NaN\"], [\"/matches/1829806/live/\\u00e9cosse-championship-2024-2025-greenock-morton-partick-thistle\", 1829806, \"NaN\", \"NaN\", \"NaN\", \"NaN\"], [\"/matches/1829807/live/\\u00e9cosse-championship-2024-2025-hamilton-academical-raith-rovers\", 1829807, \"NaN\", \"NaN\", \"NaN\", \"NaN\"], [\"/matches/1829808/live/\\u00e9cosse-championship-2024-2025-raith-rovers-dunfermline\", 1829808, \"NaN\", \"NaN\", \"NaN\", \"NaN\"], [\"/matches/1829809/live/\\u00e9cosse-championship-2024-2025-queen-s-park-airdrieonians\", 1829809, \"NaN\", \"NaN\", \"NaN\", \"NaN\"], [\"/matches/1829817/live/\\u00e9cosse-premiership-2024-2025-dundee-fc-aberdeen\", 1829817, \"NaN\", \"NaN\", \"NaN\", \"NaN\"], [\"/matches/1829818/live/\\u00e9cosse-premiership-2024-2025-dundee-fc-hearts\", 1829818, \"NaN\", \"NaN\", \"NaN\", \"NaN\"], [\"/matches/1829819/live/\\u00e9cosse-premiership-2024-2025-kilmarnock-hibernian\", 1829819, \"NaN\", \"NaN\", \"NaN\", \"NaN\"], [\"/matches/1829820/live/\\u00e9cosse-premiership-2024-2025-hearts-ross-county\", 1829820, \"NaN\", \"NaN\", \"NaN\", \"NaN\"], [\"/matches/1829821/live/\\u00e9cosse-premiership-2024-2025-st-mirren-hibernian\", 1829821, \"NaN\", \"NaN\", \"NaN\", \"NaN\"], [\"/matches/1829822/live/\\u00e9cosse-premiership-2024-2025-ross-county-aberdeen\", 1829822, \"NaN\", \"NaN\", \"NaN\", \"NaN\"], [\"/matches/1829823/live/\\u00e9cosse-premiership-2024-2025-st-johnstone-aberdeen\", 1829823, \"NaN\", \"NaN\", \"NaN\", \"NaN\"], [\"/matches/1829824/live/\\u00e9cosse-premiership-2024-2025-st-johnstone-motherwell\", 1829824, \"NaN\", \"NaN\", \"NaN\", \"NaN\"], [\"/matches/1829825/live/\\u00e9cosse-premiership-2024-2025-aberdeen-st-mirren\", 1829825, \"NaN\", \"NaN\", \"NaN\", \"NaN\"], [\"/matches/1829826/live/\\u00e9cosse-premiership-2024-2025-aberdeen-motherwell\", 1829826, \"NaN\", \"NaN\", \"NaN\", \"NaN\"], [\"/matches/1829827/live/\\u00e9cosse-premiership-2024-2025-kilmarnock-st-johnstone\", 1829827, \"NaN\", \"NaN\", \"NaN\", \"NaN\"], [\"/matches/1829828/live/\\u00e9cosse-premiership-2024-2025-celtic-hearts\", 1829828, \"NaN\", \"NaN\", \"NaN\", \"NaN\"], [\"/matches/1829829/live/\\u00e9cosse-premiership-2024-2025-rangers-motherwell\", 1829829, \"NaN\", \"NaN\", \"NaN\", \"NaN\"], [\"/matches/1829830/live/\\u00e9cosse-premiership-2024-2025-dundee-united-rangers\", 1829830, \"NaN\", \"NaN\", \"NaN\", \"NaN\"], [\"/matches/1829831/live/\\u00e9cosse-premiership-2024-2025-ross-county-dundee-united\", 1829831, \"NaN\", \"NaN\", \"NaN\", \"NaN\"], [\"/matches/1829832/live/\\u00e9cosse-premiership-2024-2025-hibernian-st-johnstone\", 1829832, \"NaN\", \"NaN\", \"NaN\", \"NaN\"], [\"/matches/1829833/live/\\u00e9cosse-premiership-2024-2025-hibernian-celtic\", 1829833, \"NaN\", \"NaN\", \"NaN\", \"NaN\"], [\"/matches/1829834/live/\\u00e9cosse-premiership-2024-2025-ross-county-dundee-fc\", 1829834, \"NaN\", \"NaN\", \"NaN\", \"NaN\"], [\"/matches/1829835/live/\\u00e9cosse-premiership-2024-2025-aberdeen-kilmarnock\", 1829835, \"NaN\", \"NaN\", \"NaN\", \"NaN\"], [\"/matches/1829836/live/\\u00e9cosse-premiership-2024-2025-st-mirren-kilmarnock\", 1829836, \"NaN\", \"NaN\", \"NaN\", \"NaN\"], [\"/matches/1829837/live/\\u00e9cosse-premiership-2024-2025-dundee-united-st-johnstone\", 1829837, \"NaN\", \"NaN\", \"NaN\", \"NaN\"], [\"/matches/1829838/live/\\u00e9cosse-premiership-2024-2025-hearts-dundee-united\", 1829838, \"NaN\", \"NaN\", \"NaN\", \"NaN\"], [\"/matches/1829839/live/\\u00e9cosse-premiership-2024-2025-hibernian-dundee-fc\", 1829839, \"NaN\", \"NaN\", \"NaN\", \"NaN\"], [\"/matches/1829840/live/\\u00e9cosse-premiership-2024-2025-kilmarnock-dundee-united\", 1829840, \"NaN\", \"NaN\", \"NaN\", \"NaN\"], [\"/matches/1829841/live/\\u00e9cosse-premiership-2024-2025-motherwell-hearts\", 1829841, \"NaN\", \"NaN\", \"NaN\", \"NaN\"], [\"/matches/1829842/live/\\u00e9cosse-premiership-2024-2025-motherwell-st-mirren\", 1829842, \"NaN\", \"NaN\", \"NaN\", \"NaN\"], [\"/matches/1829843/live/\\u00e9cosse-premiership-2024-2025-rangers-ross-county\", 1829843, \"NaN\", \"NaN\", \"NaN\", \"NaN\"], [\"/matches/1829844/live/\\u00e9cosse-premiership-2024-2025-rangers-hibernian\", 1829844, \"NaN\", \"NaN\", \"NaN\", \"NaN\"], [\"/matches/1829845/live/\\u00e9cosse-premiership-2024-2025-st-johnstone-celtic\", 1829845, \"NaN\", \"NaN\", \"NaN\", \"NaN\"], [\"/matches/1829846/live/\\u00e9cosse-premiership-2024-2025-aberdeen-hearts\", 1829846, \"NaN\", \"NaN\", \"NaN\", \"NaN\"], [\"/matches/1829847/live/\\u00e9cosse-premiership-2024-2025-dundee-fc-kilmarnock\", 1829847, \"NaN\", \"NaN\", \"NaN\", \"NaN\"], [\"/matches/1829848/live/\\u00e9cosse-premiership-2024-2025-hibernian-motherwell\", 1829848, \"NaN\", \"NaN\", \"NaN\", \"NaN\"], [\"/matches/1829849/live/\\u00e9cosse-premiership-2024-2025-rangers-st-johnstone\", 1829849, \"NaN\", \"NaN\", \"NaN\", \"NaN\"], [\"/matches/1829850/live/\\u00e9cosse-premiership-2024-2025-motherwell-ross-county\", 1829850, \"NaN\", \"NaN\", \"NaN\", \"NaN\"], [\"/matches/1829851/live/\\u00e9cosse-premiership-2024-2025-dundee-united-dundee-fc\", 1829851, \"NaN\", \"NaN\", \"NaN\", \"NaN\"], [\"/matches/1829852/live/\\u00e9cosse-premiership-2024-2025-celtic-kilmarnock\", 1829852, \"NaN\", \"NaN\", \"NaN\", \"NaN\"], [\"/matches/1829853/live/\\u00e9cosse-premiership-2024-2025-hearts-rangers\", 1829853, \"NaN\", \"NaN\", \"NaN\", \"NaN\"], [\"/matches/1829854/live/\\u00e9cosse-premiership-2024-2025-st-mirren-celtic\", 1829854, \"NaN\", \"NaN\", \"NaN\", \"NaN\"], [\"/matches/1829855/live/\\u00e9cosse-premiership-2024-2025-celtic-rangers\", 1829855, \"NaN\", \"NaN\", \"NaN\", \"NaN\"], [\"/matches/1829856/live/\\u00e9cosse-premiership-2024-2025-dundee-fc-st-mirren\", 1829856, \"NaN\", \"NaN\", \"NaN\", \"NaN\"], [\"/matches/1829857/live/\\u00e9cosse-premiership-2024-2025-motherwell-st-johnstone\", 1829857, \"NaN\", \"NaN\", \"NaN\", \"NaN\"], [\"/matches/1829858/live/\\u00e9cosse-premiership-2024-2025-st-johnstone-dundee-united\", 1829858, \"NaN\", \"NaN\", \"NaN\", \"NaN\"], [\"/matches/1829859/live/\\u00e9cosse-premiership-2024-2025-rangers-dundee-fc\", 1829859, \"NaN\", \"NaN\", \"NaN\", \"NaN\"], [\"/matches/1829860/live/\\u00e9cosse-premiership-2024-2025-dundee-fc-rangers\", 1829860, \"NaN\", \"NaN\", \"NaN\", \"NaN\"], [\"/matches/1829861/live/\\u00e9cosse-premiership-2024-2025-dundee-united-ross-county\", 1829861, \"NaN\", \"NaN\", \"NaN\", \"NaN\"], [\"/matches/1829862/live/\\u00e9cosse-premiership-2024-2025-ross-county-st-mirren\", 1829862, \"NaN\", \"NaN\", \"NaN\", \"NaN\"], [\"/matches/1829863/live/\\u00e9cosse-premiership-2024-2025-hibernian-aberdeen\", 1829863, \"NaN\", \"NaN\", \"NaN\", \"NaN\"], [\"/matches/1829864/live/\\u00e9cosse-premiership-2024-2025-hibernian-st-mirren\", 1829864, \"NaN\", \"NaN\", \"NaN\", \"NaN\"], [\"/matches/1829865/live/\\u00e9cosse-premiership-2024-2025-hearts-hibernian\", 1829865, \"NaN\", \"NaN\", \"NaN\", \"NaN\"], [\"/matches/1829866/live/\\u00e9cosse-premiership-2024-2025-kilmarnock-motherwell\", 1829866, \"NaN\", \"NaN\", \"NaN\", \"NaN\"], [\"/matches/1829867/live/\\u00e9cosse-premiership-2024-2025-kilmarnock-celtic\", 1829867, \"NaN\", \"NaN\", \"NaN\", \"NaN\"], [\"/matches/1829868/live/\\u00e9cosse-premiership-2024-2025-st-johnstone-hearts\", 1829868, \"NaN\", \"NaN\", \"NaN\", \"NaN\"], [\"/matches/1829869/live/\\u00e9cosse-premiership-2024-2025-celtic-motherwell\", 1829869, \"NaN\", \"NaN\", \"NaN\", \"NaN\"], [\"/matches/1829870/live/\\u00e9cosse-premiership-2024-2025-rangers-hearts\", 1829870, \"NaN\", \"NaN\", \"NaN\", \"NaN\"], [\"/matches/1829871/live/\\u00e9cosse-premiership-2024-2025-dundee-fc-ross-county\", 1829871, \"NaN\", \"NaN\", \"NaN\", \"NaN\"], [\"/matches/1829872/live/\\u00e9cosse-premiership-2024-2025-st-mirren-ross-county\", 1829872, \"NaN\", \"NaN\", \"NaN\", \"NaN\"], [\"/matches/1829873/live/\\u00e9cosse-premiership-2024-2025-dundee-fc-hibernian\", 1829873, \"NaN\", \"NaN\", \"NaN\", \"NaN\"], [\"/matches/1829874/live/\\u00e9cosse-premiership-2024-2025-kilmarnock-aberdeen\", 1829874, \"NaN\", \"NaN\", \"NaN\", \"NaN\"], [\"/matches/1829875/live/\\u00e9cosse-premiership-2024-2025-aberdeen-dundee-fc\", 1829875, \"NaN\", \"NaN\", \"NaN\", \"NaN\"], [\"/matches/1829876/live/\\u00e9cosse-premiership-2024-2025-hearts-celtic\", 1829876, \"NaN\", \"NaN\", \"NaN\", \"NaN\"], [\"/matches/1829877/live/\\u00e9cosse-premiership-2024-2025-kilmarnock-hearts\", 1829877, \"NaN\", \"NaN\", \"NaN\", \"NaN\"], [\"/matches/1829878/live/\\u00e9cosse-premiership-2024-2025-celtic-dundee-united\", 1829878, \"NaN\", \"NaN\", \"NaN\", \"NaN\"], [\"/matches/1829879/live/\\u00e9cosse-premiership-2024-2025-rangers-dundee-united\", 1829879, \"NaN\", \"NaN\", \"NaN\", \"NaN\"], [\"/matches/1829880/live/\\u00e9cosse-premiership-2024-2025-hibernian-ross-county\", 1829880, \"NaN\", \"NaN\", \"NaN\", \"NaN\"], [\"/matches/1829881/live/\\u00e9cosse-premiership-2024-2025-st-mirren-aberdeen\", 1829881, \"NaN\", \"NaN\", \"NaN\", \"NaN\"], [\"/matches/1829882/live/\\u00e9cosse-premiership-2024-2025-ross-county-motherwell\", 1829882, \"NaN\", \"NaN\", \"NaN\", \"NaN\"], [\"/matches/1829883/live/\\u00e9cosse-premiership-2024-2025-dundee-fc-celtic\", 1829883, \"NaN\", \"NaN\", \"NaN\", \"NaN\"], [\"/matches/1829884/live/\\u00e9cosse-premiership-2024-2025-hearts-st-mirren\", 1829884, \"NaN\", \"NaN\", \"NaN\", \"NaN\"], [\"/matches/1829885/live/\\u00e9cosse-premiership-2024-2025-st-johnstone-kilmarnock\", 1829885, \"NaN\", \"NaN\", \"NaN\", \"NaN\"], [\"/matches/1829886/live/\\u00e9cosse-premiership-2024-2025-st-mirren-motherwell\", 1829886, \"NaN\", \"NaN\", \"NaN\", \"NaN\"], [\"/matches/1829887/live/\\u00e9cosse-premiership-2024-2025-kilmarnock-rangers\", 1829887, \"NaN\", \"NaN\", \"NaN\", \"NaN\"], [\"/matches/1829888/live/\\u00e9cosse-premiership-2024-2025-ross-county-rangers\", 1829888, \"NaN\", \"NaN\", \"NaN\", \"NaN\"], [\"/matches/1829889/live/\\u00e9cosse-premiership-2024-2025-motherwell-dundee-fc\", 1829889, \"NaN\", \"NaN\", \"NaN\", \"NaN\"], [\"/matches/1829890/live/\\u00e9cosse-premiership-2024-2025-celtic-ross-county\", 1829890, \"NaN\", \"NaN\", \"NaN\", \"NaN\"], [\"/matches/1829891/live/\\u00e9cosse-premiership-2024-2025-hearts-dundee-fc\", 1829891, \"NaN\", \"NaN\", \"NaN\", \"NaN\"], [\"/matches/1829892/live/\\u00e9cosse-premiership-2024-2025-st-johnstone-ross-county\", 1829892, \"NaN\", \"NaN\", \"NaN\", \"NaN\"], [\"/matches/1829893/live/\\u00e9cosse-premiership-2024-2025-dundee-united-st-mirren\", 1829893, \"NaN\", \"NaN\", \"NaN\", \"NaN\"], [\"/matches/1829894/live/\\u00e9cosse-premiership-2024-2025-dundee-united-kilmarnock\", 1829894, \"NaN\", \"NaN\", \"NaN\", \"NaN\"], [\"/matches/1829895/live/\\u00e9cosse-premiership-2024-2025-hearts-kilmarnock\", 1829895, \"NaN\", \"NaN\", \"NaN\", \"NaN\"], [\"/matches/1829896/live/\\u00e9cosse-premiership-2024-2025-hibernian-hearts\", 1829896, \"NaN\", \"NaN\", \"NaN\", \"NaN\"], [\"/matches/1829897/live/\\u00e9cosse-premiership-2024-2025-ross-county-hibernian\", 1829897, \"NaN\", \"NaN\", \"NaN\", \"NaN\"], [\"/matches/1829898/live/\\u00e9cosse-premiership-2024-2025-st-mirren-dundee-united\", 1829898, \"NaN\", \"NaN\", \"NaN\", \"NaN\"], [\"/matches/1829899/live/\\u00e9cosse-premiership-2024-2025-st-mirren-st-johnstone\", 1829899, \"NaN\", \"NaN\", \"NaN\", \"NaN\"], [\"/matches/1829900/live/\\u00e9cosse-premiership-2024-2025-celtic-aberdeen\", 1829900, \"NaN\", \"NaN\", \"NaN\", \"NaN\"], [\"/matches/1829901/live/\\u00e9cosse-premiership-2024-2025-hearts-st-johnstone\", 1829901, \"NaN\", \"NaN\", \"NaN\", \"NaN\"], [\"/matches/1829902/live/\\u00e9cosse-premiership-2024-2025-dundee-united-hibernian\", 1829902, \"NaN\", \"NaN\", \"NaN\", \"NaN\"], [\"/matches/1829903/live/\\u00e9cosse-premiership-2024-2025-motherwell-kilmarnock\", 1829903, \"NaN\", \"NaN\", \"NaN\", \"NaN\"], [\"/matches/1829904/live/\\u00e9cosse-premiership-2024-2025-dundee-united-celtic\", 1829904, \"NaN\", \"NaN\", \"NaN\", \"NaN\"], [\"/matches/1829905/live/\\u00e9cosse-premiership-2024-2025-aberdeen-dundee-united\", 1829905, \"NaN\", \"NaN\", \"NaN\", \"NaN\"], [\"/matches/1829906/live/\\u00e9cosse-premiership-2024-2025-st-mirren-rangers\", 1829906, \"NaN\", \"NaN\", \"NaN\", \"NaN\"], [\"/matches/1829907/live/\\u00e9cosse-premiership-2024-2025-dundee-fc-st-johnstone\", 1829907, \"NaN\", \"NaN\", \"NaN\", \"NaN\"], [\"/matches/1829908/live/\\u00e9cosse-premiership-2024-2025-celtic-st-johnstone\", 1829908, \"NaN\", \"NaN\", \"NaN\", \"NaN\"], [\"/matches/1829909/live/\\u00e9cosse-premiership-2024-2025-ross-county-celtic\", 1829909, \"NaN\", \"NaN\", \"NaN\", \"NaN\"], [\"/matches/1829910/live/\\u00e9cosse-premiership-2024-2025-dundee-united-aberdeen\", 1829910, \"NaN\", \"NaN\", \"NaN\", \"NaN\"], [\"/matches/1829911/live/\\u00e9cosse-premiership-2024-2025-motherwell-celtic\", 1829911, \"NaN\", \"NaN\", \"NaN\", \"NaN\"], [\"/matches/1829912/live/\\u00e9cosse-premiership-2024-2025-hibernian-kilmarnock\", 1829912, \"NaN\", \"NaN\", \"NaN\", \"NaN\"], [\"/matches/1829913/live/\\u00e9cosse-premiership-2024-2025-rangers-st-mirren\", 1829913, \"NaN\", \"NaN\", \"NaN\", \"NaN\"], [\"/matches/1829914/live/\\u00e9cosse-premiership-2024-2025-motherwell-rangers\", 1829914, \"NaN\", \"NaN\", \"NaN\", \"NaN\"], [\"/matches/1829915/live/\\u00e9cosse-premiership-2024-2025-ross-county-kilmarnock\", 1829915, \"NaN\", \"NaN\", \"NaN\", \"NaN\"], [\"/matches/1829916/live/\\u00e9cosse-premiership-2024-2025-ross-county-hearts\", 1829916, \"NaN\", \"NaN\", \"NaN\", \"NaN\"], [\"/matches/1829917/live/\\u00e9cosse-premiership-2024-2025-aberdeen-rangers\", 1829917, \"NaN\", \"NaN\", \"NaN\", \"NaN\"], [\"/matches/1829918/live/\\u00e9cosse-premiership-2024-2025-st-mirren-dundee-fc\", 1829918, \"NaN\", \"NaN\", \"NaN\", \"NaN\"], [\"/matches/1829919/live/\\u00e9cosse-premiership-2024-2025-celtic-dundee-fc\", 1829919, \"NaN\", \"NaN\", \"NaN\", \"NaN\"], [\"/matches/1829920/live/\\u00e9cosse-premiership-2024-2025-aberdeen-hibernian\", 1829920, \"NaN\", \"NaN\", \"NaN\", \"NaN\"], [\"/matches/1829921/live/\\u00e9cosse-premiership-2024-2025-dundee-united-motherwell\", 1829921, \"NaN\", \"NaN\", \"NaN\", \"NaN\"], [\"/matches/1829922/live/\\u00e9cosse-premiership-2024-2025-st-johnstone-st-mirren\", 1829922, \"NaN\", \"NaN\", \"NaN\", \"NaN\"], [\"/matches/1829923/live/\\u00e9cosse-premiership-2024-2025-hearts-aberdeen\", 1829923, \"NaN\", \"NaN\", \"NaN\", \"NaN\"], [\"/matches/1829924/live/\\u00e9cosse-premiership-2024-2025-rangers-aberdeen\", 1829924, \"NaN\", \"NaN\", \"NaN\", \"NaN\"], [\"/matches/1829925/live/\\u00e9cosse-premiership-2024-2025-kilmarnock-dundee-fc\", 1829925, \"NaN\", \"NaN\", \"NaN\", \"NaN\"], [\"/matches/1829926/live/\\u00e9cosse-premiership-2024-2025-motherwell-dundee-united\", 1829926, \"NaN\", \"NaN\", \"NaN\", \"NaN\"], [\"/matches/1829927/live/\\u00e9cosse-premiership-2024-2025-motherwell-hibernian\", 1829927, \"NaN\", \"NaN\", \"NaN\", \"NaN\"], [\"/matches/1829928/live/\\u00e9cosse-premiership-2024-2025-celtic-hibernian\", 1829928, \"NaN\", \"NaN\", \"NaN\", \"NaN\"], [\"/matches/1829929/live/\\u00e9cosse-premiership-2024-2025-st-johnstone-rangers\", 1829929, \"NaN\", \"NaN\", \"NaN\", \"NaN\"], [\"/matches/1829930/live/\\u00e9cosse-premiership-2024-2025-aberdeen-st-johnstone\", 1829930, \"NaN\", \"NaN\", \"NaN\", \"NaN\"], [\"/matches/1829931/live/\\u00e9cosse-premiership-2024-2025-aberdeen-celtic\", 1829931, \"NaN\", \"NaN\", \"NaN\", \"NaN\"], [\"/matches/1829932/live/\\u00e9cosse-premiership-2024-2025-dundee-fc-motherwell\", 1829932, \"NaN\", \"NaN\", \"NaN\", \"NaN\"], [\"/matches/1829933/live/\\u00e9cosse-premiership-2024-2025-hibernian-dundee-united\", 1829933, \"NaN\", \"NaN\", \"NaN\", \"NaN\"], [\"/matches/1829934/live/\\u00e9cosse-premiership-2024-2025-rangers-kilmarnock\", 1829934, \"NaN\", \"NaN\", \"NaN\", \"NaN\"], [\"/matches/1829935/live/\\u00e9cosse-premiership-2024-2025-st-mirren-hearts\", 1829935, \"NaN\", \"NaN\", \"NaN\", \"NaN\"], [\"/matches/1829936/live/\\u00e9cosse-premiership-2024-2025-ross-county-st-johnstone\", 1829936, \"NaN\", \"NaN\", \"NaN\", \"NaN\"], [\"/matches/1829937/live/\\u00e9cosse-premiership-2024-2025-hibernian-motherwell\", 1829937, \"NaN\", \"NaN\", \"NaN\", \"NaN\"], [\"/matches/1829938/live/\\u00e9cosse-premiership-2024-2025-motherwell-celtic\", 1829938, \"NaN\", \"NaN\", \"NaN\", \"NaN\"], [\"/matches/1829939/live/\\u00e9cosse-premiership-2024-2025-celtic-hearts\", 1829939, \"NaN\", \"NaN\", \"NaN\", \"NaN\"], [\"/matches/1829940/live/\\u00e9cosse-premiership-2024-2025-kilmarnock-dundee-united\", 1829940, \"NaN\", \"NaN\", \"NaN\", \"NaN\"], [\"/matches/1829941/live/\\u00e9cosse-premiership-2024-2025-aberdeen-motherwell\", 1829941, \"NaN\", \"NaN\", \"NaN\", \"NaN\"], [\"/matches/1829942/live/\\u00e9cosse-premiership-2024-2025-hibernian-aberdeen\", 1829942, \"NaN\", \"NaN\", \"NaN\", \"NaN\"], [\"/matches/1829944/live/\\u00e9cosse-premiership-2024-2025-dundee-fc-hearts\", 1829944, \"NaN\", \"NaN\", \"NaN\", \"NaN\"], [\"/matches/1829946/live/\\u00e9cosse-premiership-2024-2025-st-johnstone-motherwell\", 1829946, \"NaN\", \"NaN\", \"NaN\", \"NaN\"], [\"/matches/1829948/live/\\u00e9cosse-premiership-2024-2025-ross-county-hibernian\", 1829948, \"NaN\", \"NaN\", \"NaN\", \"NaN\"], [\"/matches/1829950/live/\\u00e9cosse-premiership-2024-2025-hearts-kilmarnock\", 1829950, \"NaN\", \"NaN\", \"NaN\", \"NaN\"], [\"/matches/1829952/live/\\u00e9cosse-premiership-2024-2025-dundee-united-rangers\", 1829952, \"NaN\", \"NaN\", \"NaN\", \"NaN\"], [\"/matches/1829954/live/\\u00e9cosse-premiership-2024-2025-celtic-dundee-fc\", 1829954, \"NaN\", \"NaN\", \"NaN\", \"NaN\"], [\"/matches/1829955/live/\\u00e9cosse-premiership-2024-2025-hibernian-hearts\", 1829955, \"NaN\", \"NaN\", \"NaN\", \"NaN\"], [\"/matches/1829956/live/\\u00e9cosse-premiership-2024-2025-aberdeen-st-mirren\", 1829956, \"NaN\", \"NaN\", \"NaN\", \"NaN\"], [\"/matches/1829957/live/\\u00e9cosse-premiership-2024-2025-st-johnstone-hearts\", 1829957, \"NaN\", \"NaN\", \"NaN\", \"NaN\"], [\"/matches/1829958/live/\\u00e9cosse-premiership-2024-2025-st-mirren-dundee-united\", 1829958, \"NaN\", \"NaN\", \"NaN\", \"NaN\"], [\"/matches/1829959/live/\\u00e9cosse-premiership-2024-2025-celtic-aberdeen\", 1829959, \"NaN\", \"NaN\", \"NaN\", \"NaN\"], [\"/matches/1829960/live/\\u00e9cosse-premiership-2024-2025-ross-county-celtic\", 1829960, \"NaN\", \"NaN\", \"NaN\", \"NaN\"], [\"/matches/1829961/live/\\u00e9cosse-premiership-2024-2025-dundee-united-hibernian\", 1829961, \"NaN\", \"NaN\", \"NaN\", \"NaN\"], [\"/matches/1829962/live/\\u00e9cosse-premiership-2024-2025-rangers-st-johnstone\", 1829962, \"NaN\", \"NaN\", \"NaN\", \"NaN\"], [\"/matches/1829963/live/\\u00e9cosse-premiership-2024-2025-aberdeen-ross-county\", 1829963, \"NaN\", \"NaN\", \"NaN\", \"NaN\"], [\"/matches/1829964/live/\\u00e9cosse-premiership-2024-2025-hearts-st-mirren\", 1829964, \"NaN\", \"NaN\", \"NaN\", \"NaN\"], [\"/matches/1829965/live/\\u00e9cosse-premiership-2024-2025-aberdeen-hearts\", 1829965, \"NaN\", \"NaN\", \"NaN\", \"NaN\"], [\"/matches/1829966/live/\\u00e9cosse-premiership-2024-2025-kilmarnock-rangers\", 1829966, \"NaN\", \"NaN\", \"NaN\", \"NaN\"], [\"/matches/1829967/live/\\u00e9cosse-premiership-2024-2025-st-johnstone-dundee-fc\", 1829967, \"NaN\", \"NaN\", \"NaN\", \"NaN\"], [\"/matches/1829968/live/\\u00e9cosse-premiership-2024-2025-motherwell-dundee-fc\", 1829968, \"NaN\", \"NaN\", \"NaN\", \"NaN\"], [\"/matches/1829969/live/\\u00e9cosse-premiership-2024-2025-motherwell-aberdeen\", 1829969, \"NaN\", \"NaN\", \"NaN\", \"NaN\"], [\"/matches/1829970/live/\\u00e9cosse-premiership-2024-2025-st-johnstone-ross-county\", 1829970, \"NaN\", \"NaN\", \"NaN\", \"NaN\"], [\"/matches/1829971/live/\\u00e9cosse-premiership-2024-2025-kilmarnock-ross-county\", 1829971, \"NaN\", \"NaN\", \"NaN\", \"NaN\"], [\"/matches/1829972/live/\\u00e9cosse-premiership-2024-2025-aberdeen-dundee-united\", 1829972, \"NaN\", \"NaN\", \"NaN\", \"NaN\"], [\"/matches/1829973/live/\\u00e9cosse-premiership-2024-2025-hibernian-rangers\", 1829973, \"NaN\", \"NaN\", \"NaN\", \"NaN\"], [\"/matches/1829974/live/\\u00e9cosse-premiership-2024-2025-dundee-fc-st-johnstone\", 1829974, \"NaN\", \"NaN\", \"NaN\", \"NaN\"], [\"/matches/1829975/live/\\u00e9cosse-premiership-2024-2025-dundee-united-hearts\", 1829975, \"NaN\", \"NaN\", \"NaN\", \"NaN\"], [\"/matches/1829976/live/\\u00e9cosse-premiership-2024-2025-ross-county-dundee-fc\", 1829976, \"NaN\", \"NaN\", \"NaN\", \"NaN\"], [\"/matches/1829977/live/\\u00e9cosse-premiership-2024-2025-celtic-st-mirren\", 1829977, \"NaN\", \"NaN\", \"NaN\", \"NaN\"], [\"/matches/1829978/live/\\u00e9cosse-premiership-2024-2025-rangers-motherwell\", 1829978, \"NaN\", \"NaN\", \"NaN\", \"NaN\"], [\"/matches/1829979/live/\\u00e9cosse-premiership-2024-2025-dundee-fc-dundee-united\", 1829979, \"NaN\", \"NaN\", \"NaN\", \"NaN\"], [\"/matches/1829980/live/\\u00e9cosse-premiership-2024-2025-ross-county-kilmarnock\", 1829980, \"NaN\", \"NaN\", \"NaN\", \"NaN\"], [\"/matches/1829981/live/\\u00e9cosse-premiership-2024-2025-st-johnstone-hibernian\", 1829981, \"NaN\", \"NaN\", \"NaN\", \"NaN\"], [\"/matches/1829982/live/\\u00e9cosse-premiership-2024-2025-st-mirren-celtic\", 1829982, \"NaN\", \"NaN\", \"NaN\", \"NaN\"], [\"/matches/1829983/live/\\u00e9cosse-premiership-2024-2025-rangers-celtic\", 1829983, \"NaN\", \"NaN\", \"NaN\", \"NaN\"], [\"/matches/1829984/live/\\u00e9cosse-premiership-2024-2025-celtic-rangers\", 1829984, \"NaN\", \"NaN\", \"NaN\", \"NaN\"], [\"/matches/1829985/live/\\u00e9cosse-premiership-2024-2025-kilmarnock-st-mirren\", 1829985, \"NaN\", \"NaN\", \"NaN\", \"NaN\"], [\"/matches/1829986/live/\\u00e9cosse-premiership-2024-2025-dundee-united-dundee-fc\", 1829986, \"NaN\", \"NaN\", \"NaN\", \"NaN\"], [\"/matches/1829987/live/\\u00e9cosse-premiership-2024-2025-hearts-motherwell\", 1829987, \"NaN\", \"NaN\", \"NaN\", \"NaN\"], [\"/matches/1829988/live/\\u00e9cosse-premiership-2024-2025-hearts-ross-county\", 1829988, \"NaN\", \"NaN\", \"NaN\", \"NaN\"], [\"/matches/1829989/live/\\u00e9cosse-premiership-2024-2025-rangers-ross-county\", 1829989, \"NaN\", \"NaN\", \"NaN\", \"NaN\"], [\"/matches/1829990/live/\\u00e9cosse-premiership-2024-2025-kilmarnock-hibernian\", 1829990, \"NaN\", \"NaN\", \"NaN\", \"NaN\"], [\"/matches/1829991/live/\\u00e9cosse-premiership-2024-2025-st-mirren-st-johnstone\", 1829991, \"NaN\", \"NaN\", \"NaN\", \"NaN\"], [\"/matches/1829992/live/\\u00e9cosse-premiership-2024-2025-motherwell-st-mirren\", 1829992, \"NaN\", \"NaN\", \"NaN\", \"NaN\"], [\"/matches/1829993/live/\\u00e9cosse-premiership-2024-2025-celtic-dundee-united\", 1829993, \"NaN\", \"NaN\", \"NaN\", \"NaN\"], [\"/matches/1829994/live/\\u00e9cosse-premiership-2024-2025-st-johnstone-aberdeen\", 1829994, \"NaN\", \"NaN\", \"NaN\", \"NaN\"], [\"/matches/1829995/live/\\u00e9cosse-premiership-2024-2025-dundee-fc-aberdeen\", 1829995, \"NaN\", \"NaN\", \"NaN\", \"NaN\"], [\"/matches/1829996/live/\\u00e9cosse-premiership-2024-2025-hearts-rangers\", 1829996, \"NaN\", \"NaN\", \"NaN\", \"NaN\"], [\"/matches/1829997/live/\\u00e9cosse-league-two-2024-2025-bonnyrigg-rose-peterhead\", 1829997, \"\\u00e9cosse\", \"league-two\", \"2024-2025\", \"bonnyrigg-rose-peterhead\"], [\"/matches/1829998/live/\\u00e9cosse-premiership-2024-2025-kilmarnock-st-johnstone\", 1829998, \"NaN\", \"NaN\", \"NaN\", \"NaN\"], [\"/matches/1829999/live/\\u00e9cosse-league-two-2024-2025-edinburgh-city-stirling-albion\", 1829999, \"\\u00e9cosse\", \"league-two\", \"2024-2025\", \"edinburgh-city-stirling-albion\"], [\"/matches/1830000/live/\\u00e9cosse-premiership-2024-2025-motherwell-ross-county\", 1830000, \"NaN\", \"NaN\", \"NaN\", \"NaN\"]];\n",
       "\n",
       "        // Define the dt_args\n",
       "        let dt_args = {\"layout\": {\"topStart\": \"pageLength\", \"topEnd\": \"search\", \"bottomStart\": \"info\", \"bottomEnd\": \"paging\"}, \"order\": [], \"warn_on_selected_rows_not_rendered\": true, \"filtered_row_count\": 6947, \"fnInfoCallback\": function (oSettings, iStart, iEnd, iMax, iTotal, sPre) { return sPre + ' (<a href=\"https://mwouts.github.io/itables/downsampling.html\">downsampled</a> from 8,312x6 to 1,365x6 as maxBytes=64KB)'; }};\n",
       "        dt_args[\"data\"] = data;\n",
       "\n",
       "        \n",
       "        new DataTable(table, dt_args);\n",
       "    });\n",
       "</script>\n"
      ],
      "text/plain": [
       "<IPython.core.display.HTML object>"
      ]
     },
     "metadata": {},
     "output_type": "display_data"
    },
    {
     "name": "stdout",
     "output_type": "stream",
     "text": [
      "Not availables :\n"
     ]
    },
    {
     "data": {
      "text/html": [
       "<table id=\"itables_d52622fa_3be6_4e93_b9c4_9ca2d6b74e8f\" class=\"display nowrap\" data-quarto-disable-processing=\"true\" style=\"table-layout:auto;width:auto;margin:auto;caption-side:bottom\">\n",
       "<thead>\n",
       "    <tr style=\"text-align: right;\">\n",
       "      \n",
       "      <th>link</th>\n",
       "      <th>num_lien</th>\n",
       "    </tr>\n",
       "  </thead><tbody><tr>\n",
       "<td style=\"vertical-align:middle; text-align:left\">\n",
       "<a href=https://mwouts.github.io/itables/><svg class=\"main-svg\" xmlns=\"http://www.w3.org/2000/svg\" xmlns:xlink=\"http://www.w3.org/1999/xlink\"\n",
       "width=\"64\" viewBox=\"0 0 500 400\" style=\"font-family: 'Droid Sans', sans-serif;\">\n",
       "    <g style=\"fill:#d9d7fc\">\n",
       "        <path d=\"M100,400H500V357H100Z\" />\n",
       "        <path d=\"M100,300H400V257H100Z\" />\n",
       "        <path d=\"M0,200H400V157H0Z\" />\n",
       "        <path d=\"M100,100H500V57H100Z\" />\n",
       "        <path d=\"M100,350H500V307H100Z\" />\n",
       "        <path d=\"M100,250H400V207H100Z\" />\n",
       "        <path d=\"M0,150H400V107H0Z\" />\n",
       "        <path d=\"M100,50H500V7H100Z\" />\n",
       "    </g>\n",
       "    <g style=\"fill:#1a1366;stroke:#1a1366;\">\n",
       "   <rect x=\"100\" y=\"7\" width=\"400\" height=\"43\">\n",
       "    <animate\n",
       "      attributeName=\"width\"\n",
       "      values=\"0;400;0\"\n",
       "      dur=\"5s\"\n",
       "      repeatCount=\"indefinite\" />\n",
       "      <animate\n",
       "      attributeName=\"x\"\n",
       "      values=\"100;100;500\"\n",
       "      dur=\"5s\"\n",
       "      repeatCount=\"indefinite\" />\n",
       "  </rect>\n",
       "        <rect x=\"0\" y=\"107\" width=\"400\" height=\"43\">\n",
       "    <animate\n",
       "      attributeName=\"width\"\n",
       "      values=\"0;400;0\"\n",
       "      dur=\"3.5s\"\n",
       "      repeatCount=\"indefinite\" />\n",
       "    <animate\n",
       "      attributeName=\"x\"\n",
       "      values=\"0;0;400\"\n",
       "      dur=\"3.5s\"\n",
       "      repeatCount=\"indefinite\" />\n",
       "  </rect>\n",
       "        <rect x=\"100\" y=\"207\" width=\"300\" height=\"43\">\n",
       "    <animate\n",
       "      attributeName=\"width\"\n",
       "      values=\"0;300;0\"\n",
       "      dur=\"3s\"\n",
       "      repeatCount=\"indefinite\" />\n",
       "    <animate\n",
       "      attributeName=\"x\"\n",
       "      values=\"100;100;400\"\n",
       "      dur=\"3s\"\n",
       "      repeatCount=\"indefinite\" />\n",
       "  </rect>\n",
       "        <rect x=\"100\" y=\"307\" width=\"400\" height=\"43\">\n",
       "    <animate\n",
       "      attributeName=\"width\"\n",
       "      values=\"0;400;0\"\n",
       "      dur=\"4s\"\n",
       "      repeatCount=\"indefinite\" />\n",
       "      <animate\n",
       "      attributeName=\"x\"\n",
       "      values=\"100;100;500\"\n",
       "      dur=\"4s\"\n",
       "      repeatCount=\"indefinite\" />\n",
       "  </rect>\n",
       "        <g style=\"fill:transparent;stroke-width:8; stroke-linejoin:round\" rx=\"5\">\n",
       "            <g transform=\"translate(45 50) rotate(-45)\">\n",
       "                <circle r=\"33\" cx=\"0\" cy=\"0\" />\n",
       "                <rect x=\"-8\" y=\"32\" width=\"16\" height=\"30\" />\n",
       "            </g>\n",
       "\n",
       "            <g transform=\"translate(450 152)\">\n",
       "                <polyline points=\"-15,-20 -35,-20 -35,40 25,40 25,20\" />\n",
       "                <rect x=\"-15\" y=\"-40\" width=\"60\" height=\"60\" />\n",
       "            </g>\n",
       "\n",
       "            <g transform=\"translate(50 352)\">\n",
       "                <polygon points=\"-35,-5 0,-40 35,-5\" />\n",
       "                <polygon points=\"-35,10 0,45 35,10\" />\n",
       "            </g>\n",
       "\n",
       "            <g transform=\"translate(75 250)\">\n",
       "                <polyline points=\"-30,30 -60,0 -30,-30\" />\n",
       "                <polyline points=\"0,30 -30,0 0,-30\" />\n",
       "            </g>\n",
       "\n",
       "            <g transform=\"translate(425 250) rotate(180)\">\n",
       "                <polyline points=\"-30,30 -60,0 -30,-30\" />\n",
       "                <polyline points=\"0,30 -30,0 0,-30\" />\n",
       "            </g>\n",
       "        </g>\n",
       "    </g>\n",
       "</svg>\n",
       "</a>\n",
       "Loading ITables v2.2.5 from the internet...\n",
       "(need <a href=https://mwouts.github.io/itables/troubleshooting.html>help</a>?)</td>\n",
       "</tr></tbody>\n",
       "</table>\n",
       "<link href=\"https://www.unpkg.com/dt_for_itables@2.0.13/dt_bundle.css\" rel=\"stylesheet\">\n",
       "<script type=\"module\">\n",
       "    import {DataTable, jQuery as $} from 'https://www.unpkg.com/dt_for_itables@2.0.13/dt_bundle.js';\n",
       "\n",
       "    document.querySelectorAll(\"#itables_d52622fa_3be6_4e93_b9c4_9ca2d6b74e8f:not(.dataTable)\").forEach(table => {\n",
       "        if (!(table instanceof HTMLTableElement))\n",
       "            return;\n",
       "\n",
       "        // Define the table data\n",
       "        const data = [[\"https://fr.whoscored.com/matches/1820004\", 1820004], [\"https://fr.whoscored.com/matches/1820006\", 1820006], [\"https://fr.whoscored.com/matches/1820008\", 1820008], [\"https://fr.whoscored.com/matches/1820010\", 1820010], [\"https://fr.whoscored.com/matches/1820012\", 1820012], [\"https://fr.whoscored.com/matches/1820014\", 1820014], [\"https://fr.whoscored.com/matches/1820016\", 1820016], [\"https://fr.whoscored.com/matches/1820018\", 1820018], [\"https://fr.whoscored.com/matches/1820020\", 1820020], [\"https://fr.whoscored.com/matches/1820022\", 1820022], [\"https://fr.whoscored.com/matches/1820024\", 1820024], [\"https://fr.whoscored.com/matches/1820026\", 1820026], [\"https://fr.whoscored.com/matches/1820028\", 1820028], [\"https://fr.whoscored.com/matches/1820029\", 1820029], [\"https://fr.whoscored.com/matches/1820030\", 1820030], [\"https://fr.whoscored.com/matches/1820031\", 1820031], [\"https://fr.whoscored.com/matches/1820032\", 1820032], [\"https://fr.whoscored.com/matches/1820033\", 1820033], [\"https://fr.whoscored.com/matches/1820034\", 1820034], [\"https://fr.whoscored.com/matches/1820035\", 1820035], [\"https://fr.whoscored.com/matches/1820036\", 1820036], [\"https://fr.whoscored.com/matches/1820037\", 1820037], [\"https://fr.whoscored.com/matches/1820038\", 1820038], [\"https://fr.whoscored.com/matches/1820039\", 1820039], [\"https://fr.whoscored.com/matches/1820040\", 1820040], [\"https://fr.whoscored.com/matches/1820041\", 1820041], [\"https://fr.whoscored.com/matches/1820042\", 1820042], [\"https://fr.whoscored.com/matches/1820043\", 1820043], [\"https://fr.whoscored.com/matches/1820067\", 1820067], [\"https://fr.whoscored.com/matches/1820072\", 1820072], [\"https://fr.whoscored.com/matches/1820073\", 1820073], [\"https://fr.whoscored.com/matches/1820087\", 1820087], [\"https://fr.whoscored.com/matches/1820088\", 1820088], [\"https://fr.whoscored.com/matches/1820089\", 1820089], [\"https://fr.whoscored.com/matches/1820090\", 1820090], [\"https://fr.whoscored.com/matches/1820091\", 1820091], [\"https://fr.whoscored.com/matches/1820092\", 1820092], [\"https://fr.whoscored.com/matches/1820093\", 1820093], [\"https://fr.whoscored.com/matches/1820094\", 1820094], [\"https://fr.whoscored.com/matches/1820095\", 1820095], [\"https://fr.whoscored.com/matches/1820096\", 1820096], [\"https://fr.whoscored.com/matches/1820097\", 1820097], [\"https://fr.whoscored.com/matches/1820098\", 1820098], [\"https://fr.whoscored.com/matches/1820099\", 1820099], [\"https://fr.whoscored.com/matches/1820100\", 1820100], [\"https://fr.whoscored.com/matches/1820101\", 1820101], [\"https://fr.whoscored.com/matches/1820102\", 1820102], [\"https://fr.whoscored.com/matches/1820103\", 1820103], [\"https://fr.whoscored.com/matches/1820104\", 1820104], [\"https://fr.whoscored.com/matches/1820105\", 1820105], [\"https://fr.whoscored.com/matches/1820106\", 1820106], [\"https://fr.whoscored.com/matches/1820107\", 1820107], [\"https://fr.whoscored.com/matches/1820108\", 1820108], [\"https://fr.whoscored.com/matches/1820109\", 1820109], [\"https://fr.whoscored.com/matches/1820110\", 1820110], [\"https://fr.whoscored.com/matches/1820111\", 1820111], [\"https://fr.whoscored.com/matches/1820112\", 1820112], [\"https://fr.whoscored.com/matches/1820113\", 1820113], [\"https://fr.whoscored.com/matches/1820114\", 1820114], [\"https://fr.whoscored.com/matches/1820115\", 1820115], [\"https://fr.whoscored.com/matches/1820116\", 1820116], [\"https://fr.whoscored.com/matches/1820117\", 1820117], [\"https://fr.whoscored.com/matches/1820118\", 1820118], [\"https://fr.whoscored.com/matches/1820119\", 1820119], [\"https://fr.whoscored.com/matches/1820120\", 1820120], [\"https://fr.whoscored.com/matches/1820121\", 1820121], [\"https://fr.whoscored.com/matches/1820122\", 1820122], [\"https://fr.whoscored.com/matches/1820123\", 1820123], [\"https://fr.whoscored.com/matches/1820124\", 1820124], [\"https://fr.whoscored.com/matches/1820125\", 1820125], [\"https://fr.whoscored.com/matches/1820126\", 1820126], [\"https://fr.whoscored.com/matches/1820127\", 1820127], [\"https://fr.whoscored.com/matches/1820128\", 1820128], [\"https://fr.whoscored.com/matches/1820129\", 1820129], [\"https://fr.whoscored.com/matches/1820130\", 1820130], [\"https://fr.whoscored.com/matches/1820131\", 1820131], [\"https://fr.whoscored.com/matches/1820132\", 1820132], [\"https://fr.whoscored.com/matches/1820133\", 1820133], [\"https://fr.whoscored.com/matches/1820134\", 1820134], [\"https://fr.whoscored.com/matches/1820135\", 1820135], [\"https://fr.whoscored.com/matches/1820136\", 1820136], [\"https://fr.whoscored.com/matches/1820273\", 1820273], [\"https://fr.whoscored.com/matches/1820274\", 1820274], [\"https://fr.whoscored.com/matches/1820275\", 1820275], [\"https://fr.whoscored.com/matches/1820276\", 1820276], [\"https://fr.whoscored.com/matches/1820277\", 1820277], [\"https://fr.whoscored.com/matches/1820278\", 1820278], [\"https://fr.whoscored.com/matches/1820279\", 1820279], [\"https://fr.whoscored.com/matches/1820280\", 1820280], [\"https://fr.whoscored.com/matches/1820285\", 1820285], [\"https://fr.whoscored.com/matches/1820286\", 1820286], [\"https://fr.whoscored.com/matches/1820287\", 1820287], [\"https://fr.whoscored.com/matches/1820288\", 1820288], [\"https://fr.whoscored.com/matches/1820289\", 1820289], [\"https://fr.whoscored.com/matches/1820290\", 1820290], [\"https://fr.whoscored.com/matches/1820291\", 1820291], [\"https://fr.whoscored.com/matches/1820292\", 1820292], [\"https://fr.whoscored.com/matches/1820293\", 1820293], [\"https://fr.whoscored.com/matches/1820294\", 1820294], [\"https://fr.whoscored.com/matches/1820295\", 1820295], [\"https://fr.whoscored.com/matches/1820296\", 1820296], [\"https://fr.whoscored.com/matches/1820297\", 1820297], [\"https://fr.whoscored.com/matches/1820298\", 1820298], [\"https://fr.whoscored.com/matches/1820299\", 1820299], [\"https://fr.whoscored.com/matches/1820300\", 1820300], [\"https://fr.whoscored.com/matches/1820309\", 1820309], [\"https://fr.whoscored.com/matches/1820310\", 1820310], [\"https://fr.whoscored.com/matches/1820311\", 1820311], [\"https://fr.whoscored.com/matches/1820313\", 1820313], [\"https://fr.whoscored.com/matches/1820315\", 1820315], [\"https://fr.whoscored.com/matches/1820316\", 1820316], [\"https://fr.whoscored.com/matches/1820645\", 1820645], [\"https://fr.whoscored.com/matches/1820646\", 1820646], [\"https://fr.whoscored.com/matches/1820647\", 1820647], [\"https://fr.whoscored.com/matches/1820649\", 1820649], [\"https://fr.whoscored.com/matches/1820650\", 1820650], [\"https://fr.whoscored.com/matches/1820651\", 1820651], [\"https://fr.whoscored.com/matches/1820652\", 1820652], [\"https://fr.whoscored.com/matches/1820653\", 1820653], [\"https://fr.whoscored.com/matches/1820655\", 1820655], [\"https://fr.whoscored.com/matches/1820660\", 1820660], [\"https://fr.whoscored.com/matches/1820661\", 1820661], [\"https://fr.whoscored.com/matches/1820662\", 1820662], [\"https://fr.whoscored.com/matches/1820663\", 1820663], [\"https://fr.whoscored.com/matches/1820664\", 1820664], [\"https://fr.whoscored.com/matches/1820665\", 1820665], [\"https://fr.whoscored.com/matches/1820666\", 1820666], [\"https://fr.whoscored.com/matches/1820667\", 1820667], [\"https://fr.whoscored.com/matches/1820668\", 1820668], [\"https://fr.whoscored.com/matches/1820669\", 1820669], [\"https://fr.whoscored.com/matches/1820670\", 1820670], [\"https://fr.whoscored.com/matches/1820677\", 1820677], [\"https://fr.whoscored.com/matches/1820678\", 1820678], [\"https://fr.whoscored.com/matches/1820679\", 1820679], [\"https://fr.whoscored.com/matches/1820680\", 1820680], [\"https://fr.whoscored.com/matches/1820681\", 1820681], [\"https://fr.whoscored.com/matches/1820682\", 1820682], [\"https://fr.whoscored.com/matches/1820683\", 1820683], [\"https://fr.whoscored.com/matches/1820684\", 1820684], [\"https://fr.whoscored.com/matches/1820685\", 1820685], [\"https://fr.whoscored.com/matches/1820686\", 1820686], [\"https://fr.whoscored.com/matches/1820687\", 1820687], [\"https://fr.whoscored.com/matches/1820688\", 1820688], [\"https://fr.whoscored.com/matches/1820689\", 1820689], [\"https://fr.whoscored.com/matches/1820690\", 1820690], [\"https://fr.whoscored.com/matches/1820691\", 1820691], [\"https://fr.whoscored.com/matches/1820692\", 1820692], [\"https://fr.whoscored.com/matches/1820693\", 1820693], [\"https://fr.whoscored.com/matches/1820694\", 1820694], [\"https://fr.whoscored.com/matches/1820695\", 1820695], [\"https://fr.whoscored.com/matches/1820696\", 1820696], [\"https://fr.whoscored.com/matches/1820697\", 1820697], [\"https://fr.whoscored.com/matches/1820698\", 1820698], [\"https://fr.whoscored.com/matches/1820699\", 1820699], [\"https://fr.whoscored.com/matches/1820700\", 1820700], [\"https://fr.whoscored.com/matches/1820701\", 1820701], [\"https://fr.whoscored.com/matches/1820702\", 1820702], [\"https://fr.whoscored.com/matches/1820703\", 1820703], [\"https://fr.whoscored.com/matches/1820704\", 1820704], [\"https://fr.whoscored.com/matches/1820705\", 1820705], [\"https://fr.whoscored.com/matches/1820706\", 1820706], [\"https://fr.whoscored.com/matches/1820707\", 1820707], [\"https://fr.whoscored.com/matches/1820708\", 1820708], [\"https://fr.whoscored.com/matches/1820709\", 1820709], [\"https://fr.whoscored.com/matches/1820710\", 1820710], [\"https://fr.whoscored.com/matches/1820711\", 1820711], [\"https://fr.whoscored.com/matches/1820712\", 1820712], [\"https://fr.whoscored.com/matches/1820713\", 1820713], [\"https://fr.whoscored.com/matches/1820714\", 1820714], [\"https://fr.whoscored.com/matches/1820715\", 1820715], [\"https://fr.whoscored.com/matches/1820716\", 1820716], [\"https://fr.whoscored.com/matches/1820717\", 1820717], [\"https://fr.whoscored.com/matches/1820718\", 1820718], [\"https://fr.whoscored.com/matches/1820719\", 1820719], [\"https://fr.whoscored.com/matches/1820720\", 1820720], [\"https://fr.whoscored.com/matches/1820721\", 1820721], [\"https://fr.whoscored.com/matches/1820722\", 1820722], [\"https://fr.whoscored.com/matches/1820723\", 1820723], [\"https://fr.whoscored.com/matches/1820724\", 1820724], [\"https://fr.whoscored.com/matches/1820725\", 1820725], [\"https://fr.whoscored.com/matches/1820726\", 1820726], [\"https://fr.whoscored.com/matches/1820727\", 1820727], [\"https://fr.whoscored.com/matches/1820728\", 1820728], [\"https://fr.whoscored.com/matches/1820729\", 1820729], [\"https://fr.whoscored.com/matches/1820730\", 1820730], [\"https://fr.whoscored.com/matches/1820731\", 1820731], [\"https://fr.whoscored.com/matches/1820732\", 1820732], [\"https://fr.whoscored.com/matches/1820733\", 1820733], [\"https://fr.whoscored.com/matches/1820734\", 1820734], [\"https://fr.whoscored.com/matches/1820735\", 1820735], [\"https://fr.whoscored.com/matches/1820736\", 1820736], [\"https://fr.whoscored.com/matches/1820737\", 1820737], [\"https://fr.whoscored.com/matches/1820738\", 1820738], [\"https://fr.whoscored.com/matches/1820739\", 1820739], [\"https://fr.whoscored.com/matches/1820740\", 1820740], [\"https://fr.whoscored.com/matches/1820741\", 1820741], [\"https://fr.whoscored.com/matches/1820742\", 1820742], [\"https://fr.whoscored.com/matches/1820743\", 1820743], [\"https://fr.whoscored.com/matches/1820744\", 1820744], [\"https://fr.whoscored.com/matches/1820745\", 1820745], [\"https://fr.whoscored.com/matches/1820746\", 1820746], [\"https://fr.whoscored.com/matches/1820747\", 1820747], [\"https://fr.whoscored.com/matches/1820748\", 1820748], [\"https://fr.whoscored.com/matches/1820749\", 1820749], [\"https://fr.whoscored.com/matches/1820750\", 1820750], [\"https://fr.whoscored.com/matches/1820751\", 1820751], [\"https://fr.whoscored.com/matches/1820752\", 1820752], [\"https://fr.whoscored.com/matches/1820753\", 1820753], [\"https://fr.whoscored.com/matches/1820754\", 1820754], [\"https://fr.whoscored.com/matches/1820755\", 1820755], [\"https://fr.whoscored.com/matches/1820756\", 1820756], [\"https://fr.whoscored.com/matches/1820811\", 1820811], [\"https://fr.whoscored.com/matches/1820817\", 1820817], [\"https://fr.whoscored.com/matches/1821005\", 1821005], [\"https://fr.whoscored.com/matches/1821007\", 1821007], [\"https://fr.whoscored.com/matches/1821119\", 1821119], [\"https://fr.whoscored.com/matches/1821120\", 1821120], [\"https://fr.whoscored.com/matches/1821123\", 1821123], [\"https://fr.whoscored.com/matches/1821124\", 1821124], [\"https://fr.whoscored.com/matches/1821126\", 1821126], [\"https://fr.whoscored.com/matches/1821135\", 1821135], [\"https://fr.whoscored.com/matches/1821144\", 1821144], [\"https://fr.whoscored.com/matches/1821148\", 1821148], [\"https://fr.whoscored.com/matches/1821154\", 1821154], [\"https://fr.whoscored.com/matches/1821156\", 1821156], [\"https://fr.whoscored.com/matches/1821158\", 1821158], [\"https://fr.whoscored.com/matches/1821160\", 1821160], [\"https://fr.whoscored.com/matches/1821162\", 1821162], [\"https://fr.whoscored.com/matches/1821164\", 1821164], [\"https://fr.whoscored.com/matches/1821166\", 1821166], [\"https://fr.whoscored.com/matches/1821168\", 1821168], [\"https://fr.whoscored.com/matches/1821170\", 1821170], [\"https://fr.whoscored.com/matches/1821172\", 1821172], [\"https://fr.whoscored.com/matches/1821174\", 1821174], [\"https://fr.whoscored.com/matches/1821176\", 1821176], [\"https://fr.whoscored.com/matches/1821178\", 1821178], [\"https://fr.whoscored.com/matches/1821180\", 1821180], [\"https://fr.whoscored.com/matches/1821182\", 1821182], [\"https://fr.whoscored.com/matches/1821184\", 1821184], [\"https://fr.whoscored.com/matches/1821185\", 1821185], [\"https://fr.whoscored.com/matches/1821186\", 1821186], [\"https://fr.whoscored.com/matches/1821187\", 1821187], [\"https://fr.whoscored.com/matches/1821188\", 1821188], [\"https://fr.whoscored.com/matches/1821329\", 1821329], [\"https://fr.whoscored.com/matches/1821330\", 1821330], [\"https://fr.whoscored.com/matches/1821331\", 1821331], [\"https://fr.whoscored.com/matches/1821332\", 1821332], [\"https://fr.whoscored.com/matches/1821333\", 1821333], [\"https://fr.whoscored.com/matches/1821334\", 1821334], [\"https://fr.whoscored.com/matches/1821335\", 1821335], [\"https://fr.whoscored.com/matches/1821336\", 1821336], [\"https://fr.whoscored.com/matches/1821337\", 1821337], [\"https://fr.whoscored.com/matches/1821338\", 1821338], [\"https://fr.whoscored.com/matches/1821339\", 1821339], [\"https://fr.whoscored.com/matches/1821340\", 1821340], [\"https://fr.whoscored.com/matches/1821341\", 1821341], [\"https://fr.whoscored.com/matches/1821342\", 1821342], [\"https://fr.whoscored.com/matches/1821343\", 1821343], [\"https://fr.whoscored.com/matches/1821344\", 1821344], [\"https://fr.whoscored.com/matches/1821345\", 1821345], [\"https://fr.whoscored.com/matches/1821346\", 1821346], [\"https://fr.whoscored.com/matches/1821347\", 1821347], [\"https://fr.whoscored.com/matches/1821348\", 1821348], [\"https://fr.whoscored.com/matches/1821349\", 1821349], [\"https://fr.whoscored.com/matches/1821350\", 1821350], [\"https://fr.whoscored.com/matches/1821351\", 1821351], [\"https://fr.whoscored.com/matches/1821352\", 1821352], [\"https://fr.whoscored.com/matches/1821353\", 1821353], [\"https://fr.whoscored.com/matches/1821354\", 1821354], [\"https://fr.whoscored.com/matches/1821355\", 1821355], [\"https://fr.whoscored.com/matches/1821356\", 1821356], [\"https://fr.whoscored.com/matches/1821357\", 1821357], [\"https://fr.whoscored.com/matches/1821358\", 1821358], [\"https://fr.whoscored.com/matches/1821359\", 1821359], [\"https://fr.whoscored.com/matches/1821360\", 1821360], [\"https://fr.whoscored.com/matches/1821361\", 1821361], [\"https://fr.whoscored.com/matches/1821362\", 1821362], [\"https://fr.whoscored.com/matches/1821363\", 1821363], [\"https://fr.whoscored.com/matches/1821364\", 1821364], [\"https://fr.whoscored.com/matches/1821365\", 1821365], [\"https://fr.whoscored.com/matches/1821366\", 1821366], [\"https://fr.whoscored.com/matches/1821367\", 1821367], [\"https://fr.whoscored.com/matches/1821368\", 1821368], [\"https://fr.whoscored.com/matches/1821369\", 1821369], [\"https://fr.whoscored.com/matches/1821370\", 1821370], [\"https://fr.whoscored.com/matches/1821371\", 1821371], [\"https://fr.whoscored.com/matches/1821372\", 1821372], [\"https://fr.whoscored.com/matches/1821373\", 1821373], [\"https://fr.whoscored.com/matches/1821374\", 1821374], [\"https://fr.whoscored.com/matches/1821375\", 1821375], [\"https://fr.whoscored.com/matches/1821376\", 1821376], [\"https://fr.whoscored.com/matches/1821377\", 1821377], [\"https://fr.whoscored.com/matches/1821378\", 1821378], [\"https://fr.whoscored.com/matches/1821379\", 1821379], [\"https://fr.whoscored.com/matches/1821380\", 1821380], [\"https://fr.whoscored.com/matches/1821381\", 1821381], [\"https://fr.whoscored.com/matches/1821382\", 1821382], [\"https://fr.whoscored.com/matches/1821383\", 1821383], [\"https://fr.whoscored.com/matches/1821384\", 1821384], [\"https://fr.whoscored.com/matches/1821385\", 1821385], [\"https://fr.whoscored.com/matches/1821386\", 1821386], [\"https://fr.whoscored.com/matches/1821387\", 1821387], [\"https://fr.whoscored.com/matches/1821388\", 1821388], [\"https://fr.whoscored.com/matches/1821676\", 1821676], [\"https://fr.whoscored.com/matches/1821677\", 1821677], [\"https://fr.whoscored.com/matches/1821678\", 1821678], [\"https://fr.whoscored.com/matches/1821679\", 1821679], [\"https://fr.whoscored.com/matches/1821680\", 1821680], [\"https://fr.whoscored.com/matches/1821681\", 1821681], [\"https://fr.whoscored.com/matches/1821682\", 1821682], [\"https://fr.whoscored.com/matches/1821683\", 1821683], [\"https://fr.whoscored.com/matches/1821684\", 1821684], [\"https://fr.whoscored.com/matches/1821685\", 1821685], [\"https://fr.whoscored.com/matches/1821686\", 1821686], [\"https://fr.whoscored.com/matches/1821687\", 1821687], [\"https://fr.whoscored.com/matches/1821688\", 1821688], [\"https://fr.whoscored.com/matches/1821689\", 1821689], [\"https://fr.whoscored.com/matches/1821690\", 1821690], [\"https://fr.whoscored.com/matches/1821691\", 1821691], [\"https://fr.whoscored.com/matches/1821692\", 1821692], [\"https://fr.whoscored.com/matches/1821693\", 1821693], [\"https://fr.whoscored.com/matches/1821715\", 1821715], [\"https://fr.whoscored.com/matches/1821716\", 1821716], [\"https://fr.whoscored.com/matches/1821717\", 1821717], [\"https://fr.whoscored.com/matches/1821718\", 1821718], [\"https://fr.whoscored.com/matches/1821719\", 1821719], [\"https://fr.whoscored.com/matches/1821720\", 1821720], [\"https://fr.whoscored.com/matches/1821721\", 1821721], [\"https://fr.whoscored.com/matches/1821722\", 1821722], [\"https://fr.whoscored.com/matches/1821723\", 1821723], [\"https://fr.whoscored.com/matches/1821724\", 1821724], [\"https://fr.whoscored.com/matches/1821725\", 1821725], [\"https://fr.whoscored.com/matches/1821726\", 1821726], [\"https://fr.whoscored.com/matches/1821727\", 1821727], [\"https://fr.whoscored.com/matches/1821728\", 1821728], [\"https://fr.whoscored.com/matches/1821729\", 1821729], [\"https://fr.whoscored.com/matches/1821730\", 1821730], [\"https://fr.whoscored.com/matches/1821731\", 1821731], [\"https://fr.whoscored.com/matches/1821732\", 1821732], [\"https://fr.whoscored.com/matches/1821733\", 1821733], [\"https://fr.whoscored.com/matches/1821734\", 1821734], [\"https://fr.whoscored.com/matches/1821735\", 1821735], [\"https://fr.whoscored.com/matches/1821736\", 1821736], [\"https://fr.whoscored.com/matches/1821737\", 1821737], [\"https://fr.whoscored.com/matches/1821738\", 1821738], [\"https://fr.whoscored.com/matches/1821739\", 1821739], [\"https://fr.whoscored.com/matches/1821740\", 1821740], [\"https://fr.whoscored.com/matches/1821741\", 1821741], [\"https://fr.whoscored.com/matches/1821742\", 1821742], [\"https://fr.whoscored.com/matches/1821743\", 1821743], [\"https://fr.whoscored.com/matches/1821744\", 1821744], [\"https://fr.whoscored.com/matches/1821745\", 1821745], [\"https://fr.whoscored.com/matches/1821746\", 1821746], [\"https://fr.whoscored.com/matches/1821747\", 1821747], [\"https://fr.whoscored.com/matches/1821748\", 1821748], [\"https://fr.whoscored.com/matches/1821749\", 1821749], [\"https://fr.whoscored.com/matches/1821750\", 1821750], [\"https://fr.whoscored.com/matches/1821751\", 1821751], [\"https://fr.whoscored.com/matches/1821752\", 1821752], [\"https://fr.whoscored.com/matches/1821753\", 1821753], [\"https://fr.whoscored.com/matches/1821754\", 1821754], [\"https://fr.whoscored.com/matches/1821755\", 1821755], [\"https://fr.whoscored.com/matches/1821756\", 1821756], [\"https://fr.whoscored.com/matches/1821757\", 1821757], [\"https://fr.whoscored.com/matches/1821758\", 1821758], [\"https://fr.whoscored.com/matches/1821759\", 1821759], [\"https://fr.whoscored.com/matches/1821760\", 1821760], [\"https://fr.whoscored.com/matches/1821761\", 1821761], [\"https://fr.whoscored.com/matches/1821762\", 1821762], [\"https://fr.whoscored.com/matches/1821763\", 1821763], [\"https://fr.whoscored.com/matches/1821764\", 1821764], [\"https://fr.whoscored.com/matches/1821765\", 1821765], [\"https://fr.whoscored.com/matches/1821766\", 1821766], [\"https://fr.whoscored.com/matches/1821767\", 1821767], [\"https://fr.whoscored.com/matches/1821768\", 1821768], [\"https://fr.whoscored.com/matches/1821769\", 1821769], [\"https://fr.whoscored.com/matches/1821770\", 1821770], [\"https://fr.whoscored.com/matches/1821771\", 1821771], [\"https://fr.whoscored.com/matches/1821772\", 1821772], [\"https://fr.whoscored.com/matches/1821773\", 1821773], [\"https://fr.whoscored.com/matches/1821774\", 1821774], [\"https://fr.whoscored.com/matches/1821775\", 1821775], [\"https://fr.whoscored.com/matches/1821776\", 1821776], [\"https://fr.whoscored.com/matches/1821777\", 1821777], [\"https://fr.whoscored.com/matches/1821874\", 1821874], [\"https://fr.whoscored.com/matches/1821894\", 1821894], [\"https://fr.whoscored.com/matches/1821895\", 1821895], [\"https://fr.whoscored.com/matches/1821905\", 1821905], [\"https://fr.whoscored.com/matches/1821907\", 1821907], [\"https://fr.whoscored.com/matches/1821910\", 1821910], [\"https://fr.whoscored.com/matches/1821916\", 1821916], [\"https://fr.whoscored.com/matches/1821920\", 1821920], [\"https://fr.whoscored.com/matches/1821928\", 1821928], [\"https://fr.whoscored.com/matches/1821939\", 1821939], [\"https://fr.whoscored.com/matches/1821951\", 1821951], [\"https://fr.whoscored.com/matches/1821959\", 1821959], [\"https://fr.whoscored.com/matches/1821975\", 1821975], [\"https://fr.whoscored.com/matches/1821989\", 1821989], [\"https://fr.whoscored.com/matches/1821991\", 1821991], [\"https://fr.whoscored.com/matches/1822014\", 1822014], [\"https://fr.whoscored.com/matches/1822016\", 1822016], [\"https://fr.whoscored.com/matches/1822023\", 1822023], [\"https://fr.whoscored.com/matches/1822038\", 1822038], [\"https://fr.whoscored.com/matches/1822043\", 1822043], [\"https://fr.whoscored.com/matches/1822050\", 1822050], [\"https://fr.whoscored.com/matches/1822058\", 1822058], [\"https://fr.whoscored.com/matches/1822059\", 1822059], [\"https://fr.whoscored.com/matches/1822060\", 1822060], [\"https://fr.whoscored.com/matches/1822061\", 1822061], [\"https://fr.whoscored.com/matches/1822063\", 1822063], [\"https://fr.whoscored.com/matches/1822064\", 1822064], [\"https://fr.whoscored.com/matches/1822065\", 1822065], [\"https://fr.whoscored.com/matches/1822067\", 1822067], [\"https://fr.whoscored.com/matches/1822069\", 1822069], [\"https://fr.whoscored.com/matches/1822071\", 1822071], [\"https://fr.whoscored.com/matches/1822073\", 1822073], [\"https://fr.whoscored.com/matches/1822075\", 1822075], [\"https://fr.whoscored.com/matches/1822077\", 1822077], [\"https://fr.whoscored.com/matches/1822078\", 1822078], [\"https://fr.whoscored.com/matches/1822083\", 1822083], [\"https://fr.whoscored.com/matches/1822089\", 1822089], [\"https://fr.whoscored.com/matches/1822090\", 1822090], [\"https://fr.whoscored.com/matches/1822094\", 1822094], [\"https://fr.whoscored.com/matches/1822095\", 1822095], [\"https://fr.whoscored.com/matches/1822096\", 1822096], [\"https://fr.whoscored.com/matches/1822097\", 1822097], [\"https://fr.whoscored.com/matches/1822098\", 1822098], [\"https://fr.whoscored.com/matches/1822099\", 1822099], [\"https://fr.whoscored.com/matches/1822100\", 1822100], [\"https://fr.whoscored.com/matches/1822102\", 1822102], [\"https://fr.whoscored.com/matches/1822103\", 1822103], [\"https://fr.whoscored.com/matches/1822104\", 1822104], [\"https://fr.whoscored.com/matches/1822105\", 1822105], [\"https://fr.whoscored.com/matches/1822106\", 1822106], [\"https://fr.whoscored.com/matches/1822107\", 1822107], [\"https://fr.whoscored.com/matches/1822108\", 1822108], [\"https://fr.whoscored.com/matches/1822109\", 1822109], [\"https://fr.whoscored.com/matches/1822110\", 1822110], [\"https://fr.whoscored.com/matches/1822111\", 1822111], [\"https://fr.whoscored.com/matches/1822112\", 1822112], [\"https://fr.whoscored.com/matches/1822113\", 1822113], [\"https://fr.whoscored.com/matches/1822114\", 1822114], [\"https://fr.whoscored.com/matches/1822115\", 1822115], [\"https://fr.whoscored.com/matches/1822116\", 1822116], [\"https://fr.whoscored.com/matches/1822117\", 1822117], [\"https://fr.whoscored.com/matches/1822118\", 1822118], [\"https://fr.whoscored.com/matches/1822119\", 1822119], [\"https://fr.whoscored.com/matches/1822120\", 1822120], [\"https://fr.whoscored.com/matches/1822121\", 1822121], [\"https://fr.whoscored.com/matches/1822122\", 1822122], [\"https://fr.whoscored.com/matches/1822123\", 1822123], [\"https://fr.whoscored.com/matches/1822124\", 1822124], [\"https://fr.whoscored.com/matches/1822125\", 1822125], [\"https://fr.whoscored.com/matches/1822126\", 1822126], [\"https://fr.whoscored.com/matches/1822127\", 1822127], [\"https://fr.whoscored.com/matches/1822128\", 1822128], [\"https://fr.whoscored.com/matches/1822129\", 1822129], [\"https://fr.whoscored.com/matches/1822130\", 1822130], [\"https://fr.whoscored.com/matches/1822131\", 1822131], [\"https://fr.whoscored.com/matches/1822132\", 1822132], [\"https://fr.whoscored.com/matches/1822133\", 1822133], [\"https://fr.whoscored.com/matches/1822134\", 1822134], [\"https://fr.whoscored.com/matches/1822135\", 1822135], [\"https://fr.whoscored.com/matches/1822136\", 1822136], [\"https://fr.whoscored.com/matches/1822137\", 1822137], [\"https://fr.whoscored.com/matches/1822138\", 1822138], [\"https://fr.whoscored.com/matches/1822139\", 1822139], [\"https://fr.whoscored.com/matches/1822140\", 1822140], [\"https://fr.whoscored.com/matches/1822141\", 1822141], [\"https://fr.whoscored.com/matches/1822142\", 1822142], [\"https://fr.whoscored.com/matches/1822143\", 1822143], [\"https://fr.whoscored.com/matches/1822144\", 1822144], [\"https://fr.whoscored.com/matches/1822145\", 1822145], [\"https://fr.whoscored.com/matches/1822146\", 1822146], [\"https://fr.whoscored.com/matches/1822147\", 1822147], [\"https://fr.whoscored.com/matches/1822148\", 1822148], [\"https://fr.whoscored.com/matches/1822149\", 1822149], [\"https://fr.whoscored.com/matches/1822150\", 1822150], [\"https://fr.whoscored.com/matches/1822151\", 1822151], [\"https://fr.whoscored.com/matches/1822152\", 1822152], [\"https://fr.whoscored.com/matches/1822153\", 1822153], [\"https://fr.whoscored.com/matches/1822154\", 1822154], [\"https://fr.whoscored.com/matches/1822155\", 1822155], [\"https://fr.whoscored.com/matches/1822156\", 1822156], [\"https://fr.whoscored.com/matches/1822157\", 1822157], [\"https://fr.whoscored.com/matches/1822158\", 1822158], [\"https://fr.whoscored.com/matches/1822159\", 1822159], [\"https://fr.whoscored.com/matches/1822160\", 1822160], [\"https://fr.whoscored.com/matches/1822161\", 1822161], [\"https://fr.whoscored.com/matches/1822162\", 1822162], [\"https://fr.whoscored.com/matches/1822163\", 1822163], [\"https://fr.whoscored.com/matches/1822164\", 1822164], [\"https://fr.whoscored.com/matches/1822165\", 1822165], [\"https://fr.whoscored.com/matches/1822166\", 1822166], [\"https://fr.whoscored.com/matches/1822167\", 1822167], [\"https://fr.whoscored.com/matches/1822168\", 1822168], [\"https://fr.whoscored.com/matches/1822169\", 1822169], [\"https://fr.whoscored.com/matches/1822170\", 1822170], [\"https://fr.whoscored.com/matches/1822171\", 1822171], [\"https://fr.whoscored.com/matches/1822172\", 1822172], [\"https://fr.whoscored.com/matches/1822173\", 1822173], [\"https://fr.whoscored.com/matches/1822621\", 1822621], [\"https://fr.whoscored.com/matches/1822646\", 1822646], [\"https://fr.whoscored.com/matches/1822647\", 1822647], [\"https://fr.whoscored.com/matches/1822648\", 1822648], [\"https://fr.whoscored.com/matches/1822649\", 1822649], [\"https://fr.whoscored.com/matches/1822650\", 1822650], [\"https://fr.whoscored.com/matches/1822651\", 1822651], [\"https://fr.whoscored.com/matches/1822652\", 1822652], [\"https://fr.whoscored.com/matches/1822653\", 1822653], [\"https://fr.whoscored.com/matches/1822654\", 1822654], [\"https://fr.whoscored.com/matches/1822655\", 1822655], [\"https://fr.whoscored.com/matches/1822656\", 1822656], [\"https://fr.whoscored.com/matches/1822657\", 1822657], [\"https://fr.whoscored.com/matches/1822658\", 1822658], [\"https://fr.whoscored.com/matches/1822659\", 1822659], [\"https://fr.whoscored.com/matches/1822660\", 1822660], [\"https://fr.whoscored.com/matches/1822661\", 1822661], [\"https://fr.whoscored.com/matches/1822662\", 1822662], [\"https://fr.whoscored.com/matches/1822663\", 1822663], [\"https://fr.whoscored.com/matches/1822664\", 1822664], [\"https://fr.whoscored.com/matches/1822665\", 1822665], [\"https://fr.whoscored.com/matches/1822666\", 1822666], [\"https://fr.whoscored.com/matches/1822667\", 1822667], [\"https://fr.whoscored.com/matches/1822668\", 1822668], [\"https://fr.whoscored.com/matches/1822669\", 1822669], [\"https://fr.whoscored.com/matches/1822670\", 1822670], [\"https://fr.whoscored.com/matches/1822671\", 1822671], [\"https://fr.whoscored.com/matches/1822672\", 1822672], [\"https://fr.whoscored.com/matches/1822673\", 1822673], [\"https://fr.whoscored.com/matches/1822674\", 1822674], [\"https://fr.whoscored.com/matches/1822675\", 1822675], [\"https://fr.whoscored.com/matches/1822676\", 1822676], [\"https://fr.whoscored.com/matches/1822677\", 1822677], [\"https://fr.whoscored.com/matches/1822678\", 1822678], [\"https://fr.whoscored.com/matches/1822679\", 1822679], [\"https://fr.whoscored.com/matches/1822680\", 1822680], [\"https://fr.whoscored.com/matches/1822681\", 1822681], [\"https://fr.whoscored.com/matches/1822682\", 1822682], [\"https://fr.whoscored.com/matches/1822683\", 1822683], [\"https://fr.whoscored.com/matches/1822684\", 1822684], [\"https://fr.whoscored.com/matches/1822685\", 1822685], [\"https://fr.whoscored.com/matches/1822686\", 1822686], [\"https://fr.whoscored.com/matches/1822687\", 1822687], [\"https://fr.whoscored.com/matches/1822688\", 1822688], [\"https://fr.whoscored.com/matches/1822689\", 1822689], [\"https://fr.whoscored.com/matches/1822690\", 1822690], [\"https://fr.whoscored.com/matches/1822691\", 1822691], [\"https://fr.whoscored.com/matches/1822692\", 1822692], [\"https://fr.whoscored.com/matches/1822693\", 1822693], [\"https://fr.whoscored.com/matches/1822694\", 1822694], [\"https://fr.whoscored.com/matches/1822695\", 1822695], [\"https://fr.whoscored.com/matches/1822696\", 1822696], [\"https://fr.whoscored.com/matches/1822697\", 1822697], [\"https://fr.whoscored.com/matches/1822698\", 1822698], [\"https://fr.whoscored.com/matches/1822699\", 1822699], [\"https://fr.whoscored.com/matches/1822700\", 1822700], [\"https://fr.whoscored.com/matches/1822701\", 1822701], [\"https://fr.whoscored.com/matches/1822702\", 1822702], [\"https://fr.whoscored.com/matches/1822703\", 1822703], [\"https://fr.whoscored.com/matches/1822704\", 1822704], [\"https://fr.whoscored.com/matches/1822705\", 1822705], [\"https://fr.whoscored.com/matches/1822706\", 1822706], [\"https://fr.whoscored.com/matches/1822707\", 1822707], [\"https://fr.whoscored.com/matches/1822708\", 1822708], [\"https://fr.whoscored.com/matches/1822972\", 1822972], [\"https://fr.whoscored.com/matches/1823015\", 1823015], [\"https://fr.whoscored.com/matches/1823016\", 1823016], [\"https://fr.whoscored.com/matches/1823017\", 1823017], [\"https://fr.whoscored.com/matches/1823018\", 1823018], [\"https://fr.whoscored.com/matches/1823019\", 1823019], [\"https://fr.whoscored.com/matches/1823020\", 1823020], [\"https://fr.whoscored.com/matches/1823021\", 1823021], [\"https://fr.whoscored.com/matches/1823022\", 1823022], [\"https://fr.whoscored.com/matches/1823023\", 1823023], [\"https://fr.whoscored.com/matches/1823024\", 1823024], [\"https://fr.whoscored.com/matches/1823025\", 1823025], [\"https://fr.whoscored.com/matches/1823026\", 1823026], [\"https://fr.whoscored.com/matches/1823027\", 1823027], [\"https://fr.whoscored.com/matches/1823028\", 1823028], [\"https://fr.whoscored.com/matches/1823029\", 1823029], [\"https://fr.whoscored.com/matches/1823030\", 1823030], [\"https://fr.whoscored.com/matches/1823031\", 1823031], [\"https://fr.whoscored.com/matches/1823032\", 1823032], [\"https://fr.whoscored.com/matches/1823033\", 1823033], [\"https://fr.whoscored.com/matches/1823034\", 1823034], [\"https://fr.whoscored.com/matches/1823035\", 1823035], [\"https://fr.whoscored.com/matches/1823036\", 1823036], [\"https://fr.whoscored.com/matches/1823037\", 1823037], [\"https://fr.whoscored.com/matches/1823038\", 1823038], [\"https://fr.whoscored.com/matches/1823039\", 1823039], [\"https://fr.whoscored.com/matches/1823040\", 1823040], [\"https://fr.whoscored.com/matches/1823041\", 1823041], [\"https://fr.whoscored.com/matches/1823042\", 1823042], [\"https://fr.whoscored.com/matches/1823043\", 1823043], [\"https://fr.whoscored.com/matches/1823044\", 1823044], [\"https://fr.whoscored.com/matches/1823045\", 1823045], [\"https://fr.whoscored.com/matches/1823046\", 1823046], [\"https://fr.whoscored.com/matches/1823047\", 1823047], [\"https://fr.whoscored.com/matches/1823048\", 1823048], [\"https://fr.whoscored.com/matches/1823049\", 1823049], [\"https://fr.whoscored.com/matches/1823050\", 1823050], [\"https://fr.whoscored.com/matches/1823051\", 1823051], [\"https://fr.whoscored.com/matches/1823052\", 1823052], [\"https://fr.whoscored.com/matches/1823053\", 1823053], [\"https://fr.whoscored.com/matches/1823054\", 1823054], [\"https://fr.whoscored.com/matches/1823055\", 1823055], [\"https://fr.whoscored.com/matches/1823056\", 1823056], [\"https://fr.whoscored.com/matches/1823057\", 1823057], [\"https://fr.whoscored.com/matches/1823058\", 1823058], [\"https://fr.whoscored.com/matches/1823059\", 1823059], [\"https://fr.whoscored.com/matches/1823060\", 1823060], [\"https://fr.whoscored.com/matches/1823061\", 1823061], [\"https://fr.whoscored.com/matches/1823062\", 1823062], [\"https://fr.whoscored.com/matches/1823063\", 1823063], [\"https://fr.whoscored.com/matches/1823064\", 1823064], [\"https://fr.whoscored.com/matches/1823065\", 1823065], [\"https://fr.whoscored.com/matches/1823066\", 1823066], [\"https://fr.whoscored.com/matches/1823067\", 1823067], [\"https://fr.whoscored.com/matches/1823084\", 1823084], [\"https://fr.whoscored.com/matches/1823085\", 1823085], [\"https://fr.whoscored.com/matches/1823086\", 1823086], [\"https://fr.whoscored.com/matches/1823087\", 1823087], [\"https://fr.whoscored.com/matches/1823088\", 1823088], [\"https://fr.whoscored.com/matches/1823089\", 1823089], [\"https://fr.whoscored.com/matches/1823090\", 1823090], [\"https://fr.whoscored.com/matches/1823156\", 1823156], [\"https://fr.whoscored.com/matches/1823157\", 1823157], [\"https://fr.whoscored.com/matches/1823173\", 1823173], [\"https://fr.whoscored.com/matches/1823174\", 1823174], [\"https://fr.whoscored.com/matches/1823195\", 1823195], [\"https://fr.whoscored.com/matches/1823196\", 1823196], [\"https://fr.whoscored.com/matches/1823401\", 1823401], [\"https://fr.whoscored.com/matches/1823426\", 1823426], [\"https://fr.whoscored.com/matches/1823427\", 1823427], [\"https://fr.whoscored.com/matches/1823428\", 1823428], [\"https://fr.whoscored.com/matches/1823429\", 1823429], [\"https://fr.whoscored.com/matches/1823430\", 1823430], [\"https://fr.whoscored.com/matches/1823431\", 1823431], [\"https://fr.whoscored.com/matches/1823432\", 1823432], [\"https://fr.whoscored.com/matches/1823433\", 1823433], [\"https://fr.whoscored.com/matches/1823441\", 1823441], [\"https://fr.whoscored.com/matches/1823443\", 1823443], [\"https://fr.whoscored.com/matches/1823444\", 1823444], [\"https://fr.whoscored.com/matches/1823446\", 1823446], [\"https://fr.whoscored.com/matches/1823447\", 1823447], [\"https://fr.whoscored.com/matches/1823449\", 1823449], [\"https://fr.whoscored.com/matches/1823451\", 1823451], [\"https://fr.whoscored.com/matches/1823452\", 1823452], [\"https://fr.whoscored.com/matches/1823454\", 1823454], [\"https://fr.whoscored.com/matches/1823457\", 1823457], [\"https://fr.whoscored.com/matches/1823459\", 1823459], [\"https://fr.whoscored.com/matches/1823477\", 1823477], [\"https://fr.whoscored.com/matches/1823478\", 1823478], [\"https://fr.whoscored.com/matches/1823479\", 1823479], [\"https://fr.whoscored.com/matches/1823480\", 1823480], [\"https://fr.whoscored.com/matches/1823481\", 1823481], [\"https://fr.whoscored.com/matches/1823482\", 1823482], [\"https://fr.whoscored.com/matches/1823483\", 1823483], [\"https://fr.whoscored.com/matches/1823484\", 1823484], [\"https://fr.whoscored.com/matches/1823485\", 1823485], [\"https://fr.whoscored.com/matches/1823486\", 1823486], [\"https://fr.whoscored.com/matches/1823487\", 1823487], [\"https://fr.whoscored.com/matches/1823488\", 1823488], [\"https://fr.whoscored.com/matches/1823489\", 1823489], [\"https://fr.whoscored.com/matches/1823490\", 1823490], [\"https://fr.whoscored.com/matches/1823491\", 1823491], [\"https://fr.whoscored.com/matches/1823492\", 1823492], [\"https://fr.whoscored.com/matches/1823493\", 1823493], [\"https://fr.whoscored.com/matches/1823494\", 1823494], [\"https://fr.whoscored.com/matches/1823495\", 1823495], [\"https://fr.whoscored.com/matches/1823496\", 1823496], [\"https://fr.whoscored.com/matches/1823497\", 1823497], [\"https://fr.whoscored.com/matches/1823498\", 1823498], [\"https://fr.whoscored.com/matches/1823499\", 1823499], [\"https://fr.whoscored.com/matches/1823500\", 1823500], [\"https://fr.whoscored.com/matches/1823501\", 1823501], [\"https://fr.whoscored.com/matches/1823502\", 1823502], [\"https://fr.whoscored.com/matches/1823503\", 1823503], [\"https://fr.whoscored.com/matches/1823504\", 1823504], [\"https://fr.whoscored.com/matches/1823505\", 1823505], [\"https://fr.whoscored.com/matches/1823506\", 1823506], [\"https://fr.whoscored.com/matches/1823507\", 1823507], [\"https://fr.whoscored.com/matches/1823508\", 1823508], [\"https://fr.whoscored.com/matches/1823509\", 1823509], [\"https://fr.whoscored.com/matches/1823510\", 1823510], [\"https://fr.whoscored.com/matches/1823511\", 1823511], [\"https://fr.whoscored.com/matches/1823512\", 1823512], [\"https://fr.whoscored.com/matches/1823513\", 1823513], [\"https://fr.whoscored.com/matches/1823514\", 1823514], [\"https://fr.whoscored.com/matches/1823515\", 1823515], [\"https://fr.whoscored.com/matches/1823516\", 1823516], [\"https://fr.whoscored.com/matches/1823517\", 1823517], [\"https://fr.whoscored.com/matches/1823518\", 1823518], [\"https://fr.whoscored.com/matches/1823519\", 1823519], [\"https://fr.whoscored.com/matches/1823520\", 1823520], [\"https://fr.whoscored.com/matches/1823565\", 1823565], [\"https://fr.whoscored.com/matches/1823619\", 1823619], [\"https://fr.whoscored.com/matches/1823650\", 1823650], [\"https://fr.whoscored.com/matches/1823658\", 1823658], [\"https://fr.whoscored.com/matches/1823660\", 1823660], [\"https://fr.whoscored.com/matches/1823661\", 1823661], [\"https://fr.whoscored.com/matches/1823662\", 1823662], [\"https://fr.whoscored.com/matches/1823663\", 1823663], [\"https://fr.whoscored.com/matches/1823664\", 1823664], [\"https://fr.whoscored.com/matches/1823666\", 1823666], [\"https://fr.whoscored.com/matches/1823668\", 1823668], [\"https://fr.whoscored.com/matches/1823669\", 1823669], [\"https://fr.whoscored.com/matches/1823670\", 1823670], [\"https://fr.whoscored.com/matches/1823747\", 1823747], [\"https://fr.whoscored.com/matches/1823748\", 1823748], [\"https://fr.whoscored.com/matches/1823749\", 1823749], [\"https://fr.whoscored.com/matches/1823750\", 1823750], [\"https://fr.whoscored.com/matches/1823751\", 1823751], [\"https://fr.whoscored.com/matches/1823752\", 1823752], [\"https://fr.whoscored.com/matches/1823753\", 1823753], [\"https://fr.whoscored.com/matches/1823754\", 1823754], [\"https://fr.whoscored.com/matches/1823755\", 1823755], [\"https://fr.whoscored.com/matches/1823756\", 1823756], [\"https://fr.whoscored.com/matches/1823757\", 1823757], [\"https://fr.whoscored.com/matches/1823758\", 1823758], [\"https://fr.whoscored.com/matches/1823759\", 1823759], [\"https://fr.whoscored.com/matches/1823760\", 1823760], [\"https://fr.whoscored.com/matches/1823761\", 1823761], [\"https://fr.whoscored.com/matches/1823762\", 1823762], [\"https://fr.whoscored.com/matches/1823763\", 1823763], [\"https://fr.whoscored.com/matches/1823764\", 1823764], [\"https://fr.whoscored.com/matches/1823765\", 1823765], [\"https://fr.whoscored.com/matches/1823766\", 1823766], [\"https://fr.whoscored.com/matches/1823767\", 1823767], [\"https://fr.whoscored.com/matches/1823768\", 1823768], [\"https://fr.whoscored.com/matches/1823769\", 1823769], [\"https://fr.whoscored.com/matches/1823770\", 1823770], [\"https://fr.whoscored.com/matches/1823771\", 1823771], [\"https://fr.whoscored.com/matches/1823772\", 1823772], [\"https://fr.whoscored.com/matches/1823773\", 1823773], [\"https://fr.whoscored.com/matches/1823774\", 1823774], [\"https://fr.whoscored.com/matches/1823775\", 1823775], [\"https://fr.whoscored.com/matches/1823776\", 1823776], [\"https://fr.whoscored.com/matches/1823777\", 1823777], [\"https://fr.whoscored.com/matches/1823778\", 1823778], [\"https://fr.whoscored.com/matches/1823779\", 1823779], [\"https://fr.whoscored.com/matches/1823780\", 1823780], [\"https://fr.whoscored.com/matches/1823781\", 1823781], [\"https://fr.whoscored.com/matches/1823782\", 1823782], [\"https://fr.whoscored.com/matches/1823783\", 1823783], [\"https://fr.whoscored.com/matches/1823784\", 1823784], [\"https://fr.whoscored.com/matches/1823785\", 1823785], [\"https://fr.whoscored.com/matches/1823786\", 1823786], [\"https://fr.whoscored.com/matches/1823787\", 1823787], [\"https://fr.whoscored.com/matches/1823788\", 1823788], [\"https://fr.whoscored.com/matches/1823789\", 1823789], [\"https://fr.whoscored.com/matches/1823790\", 1823790], [\"https://fr.whoscored.com/matches/1823791\", 1823791], [\"https://fr.whoscored.com/matches/1823792\", 1823792], [\"https://fr.whoscored.com/matches/1823914\", 1823914], [\"https://fr.whoscored.com/matches/1823915\", 1823915], [\"https://fr.whoscored.com/matches/1823916\", 1823916], [\"https://fr.whoscored.com/matches/1823917\", 1823917], [\"https://fr.whoscored.com/matches/1823918\", 1823918], [\"https://fr.whoscored.com/matches/1823919\", 1823919], [\"https://fr.whoscored.com/matches/1823952\", 1823952], [\"https://fr.whoscored.com/matches/1823953\", 1823953], [\"https://fr.whoscored.com/matches/1823954\", 1823954], [\"https://fr.whoscored.com/matches/1823957\", 1823957], [\"https://fr.whoscored.com/matches/1823958\", 1823958], [\"https://fr.whoscored.com/matches/1823960\", 1823960], [\"https://fr.whoscored.com/matches/1823961\", 1823961], [\"https://fr.whoscored.com/matches/1823962\", 1823962], [\"https://fr.whoscored.com/matches/1823963\", 1823963], [\"https://fr.whoscored.com/matches/1823964\", 1823964], [\"https://fr.whoscored.com/matches/1823965\", 1823965], [\"https://fr.whoscored.com/matches/1823966\", 1823966], [\"https://fr.whoscored.com/matches/1823967\", 1823967], [\"https://fr.whoscored.com/matches/1823968\", 1823968], [\"https://fr.whoscored.com/matches/1823969\", 1823969], [\"https://fr.whoscored.com/matches/1823970\", 1823970], [\"https://fr.whoscored.com/matches/1823971\", 1823971], [\"https://fr.whoscored.com/matches/1823972\", 1823972], [\"https://fr.whoscored.com/matches/1823973\", 1823973], [\"https://fr.whoscored.com/matches/1823974\", 1823974], [\"https://fr.whoscored.com/matches/1823975\", 1823975], [\"https://fr.whoscored.com/matches/1823976\", 1823976], [\"https://fr.whoscored.com/matches/1823977\", 1823977], [\"https://fr.whoscored.com/matches/1823978\", 1823978], [\"https://fr.whoscored.com/matches/1823979\", 1823979], [\"https://fr.whoscored.com/matches/1823980\", 1823980], [\"https://fr.whoscored.com/matches/1823981\", 1823981], [\"https://fr.whoscored.com/matches/1823982\", 1823982], [\"https://fr.whoscored.com/matches/1823983\", 1823983], [\"https://fr.whoscored.com/matches/1823984\", 1823984], [\"https://fr.whoscored.com/matches/1823985\", 1823985], [\"https://fr.whoscored.com/matches/1823986\", 1823986], [\"https://fr.whoscored.com/matches/1823987\", 1823987], [\"https://fr.whoscored.com/matches/1823988\", 1823988], [\"https://fr.whoscored.com/matches/1823989\", 1823989], [\"https://fr.whoscored.com/matches/1823990\", 1823990], [\"https://fr.whoscored.com/matches/1823991\", 1823991], [\"https://fr.whoscored.com/matches/1823992\", 1823992], [\"https://fr.whoscored.com/matches/1823993\", 1823993], [\"https://fr.whoscored.com/matches/1823994\", 1823994], [\"https://fr.whoscored.com/matches/1823995\", 1823995], [\"https://fr.whoscored.com/matches/1823996\", 1823996], [\"https://fr.whoscored.com/matches/1824006\", 1824006], [\"https://fr.whoscored.com/matches/1824007\", 1824007], [\"https://fr.whoscored.com/matches/1824008\", 1824008], [\"https://fr.whoscored.com/matches/1824009\", 1824009], [\"https://fr.whoscored.com/matches/1824010\", 1824010], [\"https://fr.whoscored.com/matches/1824011\", 1824011], [\"https://fr.whoscored.com/matches/1824012\", 1824012], [\"https://fr.whoscored.com/matches/1824013\", 1824013], [\"https://fr.whoscored.com/matches/1824014\", 1824014], [\"https://fr.whoscored.com/matches/1824022\", 1824022], [\"https://fr.whoscored.com/matches/1824025\", 1824025], [\"https://fr.whoscored.com/matches/1824026\", 1824026], [\"https://fr.whoscored.com/matches/1824027\", 1824027], [\"https://fr.whoscored.com/matches/1824028\", 1824028], [\"https://fr.whoscored.com/matches/1824029\", 1824029], [\"https://fr.whoscored.com/matches/1824030\", 1824030], [\"https://fr.whoscored.com/matches/1824031\", 1824031], [\"https://fr.whoscored.com/matches/1824032\", 1824032], [\"https://fr.whoscored.com/matches/1824033\", 1824033], [\"https://fr.whoscored.com/matches/1824180\", 1824180], [\"https://fr.whoscored.com/matches/1824306\", 1824306], [\"https://fr.whoscored.com/matches/1824316\", 1824316], [\"https://fr.whoscored.com/matches/1824317\", 1824317], [\"https://fr.whoscored.com/matches/1824318\", 1824318], [\"https://fr.whoscored.com/matches/1824319\", 1824319], [\"https://fr.whoscored.com/matches/1824320\", 1824320], [\"https://fr.whoscored.com/matches/1824322\", 1824322], [\"https://fr.whoscored.com/matches/1824323\", 1824323], [\"https://fr.whoscored.com/matches/1824324\", 1824324], [\"https://fr.whoscored.com/matches/1824325\", 1824325], [\"https://fr.whoscored.com/matches/1824326\", 1824326], [\"https://fr.whoscored.com/matches/1824327\", 1824327], [\"https://fr.whoscored.com/matches/1824328\", 1824328], [\"https://fr.whoscored.com/matches/1824329\", 1824329], [\"https://fr.whoscored.com/matches/1824356\", 1824356], [\"https://fr.whoscored.com/matches/1824357\", 1824357], [\"https://fr.whoscored.com/matches/1824358\", 1824358], [\"https://fr.whoscored.com/matches/1824359\", 1824359], [\"https://fr.whoscored.com/matches/1824360\", 1824360], [\"https://fr.whoscored.com/matches/1824361\", 1824361], [\"https://fr.whoscored.com/matches/1824362\", 1824362], [\"https://fr.whoscored.com/matches/1824363\", 1824363], [\"https://fr.whoscored.com/matches/1824364\", 1824364], [\"https://fr.whoscored.com/matches/1824365\", 1824365], [\"https://fr.whoscored.com/matches/1824366\", 1824366], [\"https://fr.whoscored.com/matches/1824367\", 1824367], [\"https://fr.whoscored.com/matches/1824368\", 1824368], [\"https://fr.whoscored.com/matches/1824369\", 1824369], [\"https://fr.whoscored.com/matches/1824370\", 1824370], [\"https://fr.whoscored.com/matches/1824371\", 1824371], [\"https://fr.whoscored.com/matches/1824372\", 1824372], [\"https://fr.whoscored.com/matches/1824373\", 1824373], [\"https://fr.whoscored.com/matches/1824374\", 1824374], [\"https://fr.whoscored.com/matches/1824375\", 1824375], [\"https://fr.whoscored.com/matches/1824376\", 1824376], [\"https://fr.whoscored.com/matches/1824377\", 1824377], [\"https://fr.whoscored.com/matches/1824378\", 1824378], [\"https://fr.whoscored.com/matches/1824379\", 1824379], [\"https://fr.whoscored.com/matches/1824380\", 1824380], [\"https://fr.whoscored.com/matches/1824381\", 1824381], [\"https://fr.whoscored.com/matches/1824382\", 1824382], [\"https://fr.whoscored.com/matches/1824383\", 1824383], [\"https://fr.whoscored.com/matches/1824384\", 1824384], [\"https://fr.whoscored.com/matches/1824386\", 1824386], [\"https://fr.whoscored.com/matches/1824387\", 1824387], [\"https://fr.whoscored.com/matches/1824388\", 1824388], [\"https://fr.whoscored.com/matches/1824389\", 1824389], [\"https://fr.whoscored.com/matches/1824390\", 1824390], [\"https://fr.whoscored.com/matches/1824391\", 1824391], [\"https://fr.whoscored.com/matches/1824392\", 1824392], [\"https://fr.whoscored.com/matches/1824393\", 1824393], [\"https://fr.whoscored.com/matches/1824394\", 1824394], [\"https://fr.whoscored.com/matches/1824395\", 1824395], [\"https://fr.whoscored.com/matches/1824396\", 1824396], [\"https://fr.whoscored.com/matches/1824397\", 1824397], [\"https://fr.whoscored.com/matches/1824403\", 1824403], [\"https://fr.whoscored.com/matches/1824414\", 1824414], [\"https://fr.whoscored.com/matches/1824421\", 1824421], [\"https://fr.whoscored.com/matches/1824428\", 1824428], [\"https://fr.whoscored.com/matches/1824433\", 1824433], [\"https://fr.whoscored.com/matches/1824441\", 1824441], [\"https://fr.whoscored.com/matches/1824455\", 1824455], [\"https://fr.whoscored.com/matches/1824456\", 1824456], [\"https://fr.whoscored.com/matches/1824457\", 1824457], [\"https://fr.whoscored.com/matches/1824458\", 1824458], [\"https://fr.whoscored.com/matches/1824459\", 1824459], [\"https://fr.whoscored.com/matches/1824460\", 1824460], [\"https://fr.whoscored.com/matches/1824461\", 1824461], [\"https://fr.whoscored.com/matches/1824462\", 1824462], [\"https://fr.whoscored.com/matches/1824463\", 1824463], [\"https://fr.whoscored.com/matches/1824488\", 1824488], [\"https://fr.whoscored.com/matches/1824490\", 1824490], [\"https://fr.whoscored.com/matches/1824499\", 1824499], [\"https://fr.whoscored.com/matches/1824503\", 1824503], [\"https://fr.whoscored.com/matches/1824511\", 1824511], [\"https://fr.whoscored.com/matches/1824512\", 1824512], [\"https://fr.whoscored.com/matches/1824515\", 1824515], [\"https://fr.whoscored.com/matches/1824517\", 1824517], [\"https://fr.whoscored.com/matches/1824533\", 1824533], [\"https://fr.whoscored.com/matches/1824539\", 1824539], [\"https://fr.whoscored.com/matches/1824554\", 1824554], [\"https://fr.whoscored.com/matches/1824557\", 1824557], [\"https://fr.whoscored.com/matches/1824572\", 1824572], [\"https://fr.whoscored.com/matches/1824578\", 1824578], [\"https://fr.whoscored.com/matches/1824583\", 1824583], [\"https://fr.whoscored.com/matches/1824588\", 1824588], [\"https://fr.whoscored.com/matches/1824589\", 1824589], [\"https://fr.whoscored.com/matches/1824590\", 1824590], [\"https://fr.whoscored.com/matches/1824591\", 1824591], [\"https://fr.whoscored.com/matches/1824592\", 1824592], [\"https://fr.whoscored.com/matches/1824594\", 1824594], [\"https://fr.whoscored.com/matches/1824595\", 1824595], [\"https://fr.whoscored.com/matches/1824607\", 1824607], [\"https://fr.whoscored.com/matches/1824613\", 1824613], [\"https://fr.whoscored.com/matches/1824622\", 1824622], [\"https://fr.whoscored.com/matches/1824626\", 1824626], [\"https://fr.whoscored.com/matches/1824631\", 1824631], [\"https://fr.whoscored.com/matches/1824645\", 1824645], [\"https://fr.whoscored.com/matches/1824657\", 1824657], [\"https://fr.whoscored.com/matches/1824658\", 1824658], [\"https://fr.whoscored.com/matches/1824659\", 1824659], [\"https://fr.whoscored.com/matches/1824660\", 1824660], [\"https://fr.whoscored.com/matches/1824661\", 1824661], [\"https://fr.whoscored.com/matches/1824662\", 1824662], [\"https://fr.whoscored.com/matches/1824663\", 1824663], [\"https://fr.whoscored.com/matches/1824664\", 1824664], [\"https://fr.whoscored.com/matches/1824665\", 1824665], [\"https://fr.whoscored.com/matches/1824666\", 1824666], [\"https://fr.whoscored.com/matches/1824667\", 1824667], [\"https://fr.whoscored.com/matches/1824668\", 1824668], [\"https://fr.whoscored.com/matches/1824669\", 1824669], [\"https://fr.whoscored.com/matches/1824670\", 1824670], [\"https://fr.whoscored.com/matches/1824671\", 1824671], [\"https://fr.whoscored.com/matches/1824672\", 1824672], [\"https://fr.whoscored.com/matches/1824673\", 1824673], [\"https://fr.whoscored.com/matches/1824674\", 1824674], [\"https://fr.whoscored.com/matches/1824675\", 1824675], [\"https://fr.whoscored.com/matches/1824676\", 1824676], [\"https://fr.whoscored.com/matches/1824677\", 1824677], [\"https://fr.whoscored.com/matches/1824678\", 1824678], [\"https://fr.whoscored.com/matches/1824679\", 1824679], [\"https://fr.whoscored.com/matches/1824680\", 1824680], [\"https://fr.whoscored.com/matches/1824681\", 1824681], [\"https://fr.whoscored.com/matches/1824682\", 1824682], [\"https://fr.whoscored.com/matches/1824683\", 1824683], [\"https://fr.whoscored.com/matches/1824684\", 1824684], [\"https://fr.whoscored.com/matches/1824685\", 1824685], [\"https://fr.whoscored.com/matches/1824686\", 1824686], [\"https://fr.whoscored.com/matches/1824687\", 1824687], [\"https://fr.whoscored.com/matches/1824688\", 1824688], [\"https://fr.whoscored.com/matches/1824689\", 1824689], [\"https://fr.whoscored.com/matches/1824690\", 1824690], [\"https://fr.whoscored.com/matches/1824691\", 1824691], [\"https://fr.whoscored.com/matches/1824692\", 1824692], [\"https://fr.whoscored.com/matches/1824693\", 1824693], [\"https://fr.whoscored.com/matches/1824922\", 1824922], [\"https://fr.whoscored.com/matches/1824923\", 1824923], [\"https://fr.whoscored.com/matches/1824924\", 1824924], [\"https://fr.whoscored.com/matches/1824925\", 1824925], [\"https://fr.whoscored.com/matches/1824926\", 1824926], [\"https://fr.whoscored.com/matches/1824927\", 1824927], [\"https://fr.whoscored.com/matches/1824928\", 1824928], [\"https://fr.whoscored.com/matches/1824929\", 1824929], [\"https://fr.whoscored.com/matches/1824930\", 1824930], [\"https://fr.whoscored.com/matches/1824931\", 1824931], [\"https://fr.whoscored.com/matches/1824932\", 1824932], [\"https://fr.whoscored.com/matches/1824933\", 1824933], [\"https://fr.whoscored.com/matches/1824934\", 1824934], [\"https://fr.whoscored.com/matches/1824935\", 1824935], [\"https://fr.whoscored.com/matches/1824936\", 1824936], [\"https://fr.whoscored.com/matches/1824937\", 1824937], [\"https://fr.whoscored.com/matches/1824938\", 1824938], [\"https://fr.whoscored.com/matches/1824939\", 1824939], [\"https://fr.whoscored.com/matches/1824940\", 1824940], [\"https://fr.whoscored.com/matches/1824941\", 1824941], [\"https://fr.whoscored.com/matches/1824943\", 1824943], [\"https://fr.whoscored.com/matches/1824945\", 1824945], [\"https://fr.whoscored.com/matches/1824947\", 1824947], [\"https://fr.whoscored.com/matches/1824949\", 1824949], [\"https://fr.whoscored.com/matches/1824951\", 1824951], [\"https://fr.whoscored.com/matches/1824953\", 1824953], [\"https://fr.whoscored.com/matches/1824954\", 1824954], [\"https://fr.whoscored.com/matches/1824956\", 1824956], [\"https://fr.whoscored.com/matches/1824958\", 1824958], [\"https://fr.whoscored.com/matches/1824960\", 1824960], [\"https://fr.whoscored.com/matches/1825006\", 1825006], [\"https://fr.whoscored.com/matches/1825007\", 1825007], [\"https://fr.whoscored.com/matches/1825008\", 1825008], [\"https://fr.whoscored.com/matches/1825009\", 1825009], [\"https://fr.whoscored.com/matches/1825010\", 1825010], [\"https://fr.whoscored.com/matches/1825011\", 1825011], [\"https://fr.whoscored.com/matches/1825012\", 1825012], [\"https://fr.whoscored.com/matches/1825013\", 1825013], [\"https://fr.whoscored.com/matches/1825014\", 1825014], [\"https://fr.whoscored.com/matches/1825015\", 1825015], [\"https://fr.whoscored.com/matches/1825016\", 1825016], [\"https://fr.whoscored.com/matches/1825017\", 1825017], [\"https://fr.whoscored.com/matches/1825018\", 1825018], [\"https://fr.whoscored.com/matches/1825019\", 1825019], [\"https://fr.whoscored.com/matches/1825020\", 1825020], [\"https://fr.whoscored.com/matches/1825021\", 1825021], [\"https://fr.whoscored.com/matches/1825022\", 1825022], [\"https://fr.whoscored.com/matches/1825023\", 1825023], [\"https://fr.whoscored.com/matches/1825024\", 1825024], [\"https://fr.whoscored.com/matches/1825025\", 1825025], [\"https://fr.whoscored.com/matches/1825026\", 1825026], [\"https://fr.whoscored.com/matches/1825027\", 1825027], [\"https://fr.whoscored.com/matches/1825028\", 1825028], [\"https://fr.whoscored.com/matches/1825029\", 1825029], [\"https://fr.whoscored.com/matches/1825151\", 1825151], [\"https://fr.whoscored.com/matches/1825177\", 1825177], [\"https://fr.whoscored.com/matches/1825235\", 1825235], [\"https://fr.whoscored.com/matches/1825236\", 1825236], [\"https://fr.whoscored.com/matches/1825237\", 1825237], [\"https://fr.whoscored.com/matches/1825238\", 1825238], [\"https://fr.whoscored.com/matches/1825239\", 1825239], [\"https://fr.whoscored.com/matches/1825240\", 1825240], [\"https://fr.whoscored.com/matches/1825241\", 1825241], [\"https://fr.whoscored.com/matches/1825242\", 1825242], [\"https://fr.whoscored.com/matches/1825243\", 1825243], [\"https://fr.whoscored.com/matches/1825244\", 1825244], [\"https://fr.whoscored.com/matches/1825245\", 1825245], [\"https://fr.whoscored.com/matches/1825246\", 1825246], [\"https://fr.whoscored.com/matches/1825247\", 1825247], [\"https://fr.whoscored.com/matches/1825248\", 1825248], [\"https://fr.whoscored.com/matches/1825249\", 1825249], [\"https://fr.whoscored.com/matches/1825250\", 1825250], [\"https://fr.whoscored.com/matches/1825251\", 1825251], [\"https://fr.whoscored.com/matches/1825252\", 1825252], [\"https://fr.whoscored.com/matches/1825253\", 1825253], [\"https://fr.whoscored.com/matches/1825255\", 1825255], [\"https://fr.whoscored.com/matches/1825257\", 1825257], [\"https://fr.whoscored.com/matches/1825258\", 1825258], [\"https://fr.whoscored.com/matches/1825259\", 1825259], [\"https://fr.whoscored.com/matches/1825422\", 1825422], [\"https://fr.whoscored.com/matches/1825423\", 1825423], [\"https://fr.whoscored.com/matches/1825425\", 1825425], [\"https://fr.whoscored.com/matches/1825427\", 1825427], [\"https://fr.whoscored.com/matches/1825429\", 1825429], [\"https://fr.whoscored.com/matches/1825430\", 1825430], [\"https://fr.whoscored.com/matches/1825431\", 1825431], [\"https://fr.whoscored.com/matches/1825432\", 1825432], [\"https://fr.whoscored.com/matches/1825433\", 1825433], [\"https://fr.whoscored.com/matches/1825434\", 1825434], [\"https://fr.whoscored.com/matches/1825435\", 1825435], [\"https://fr.whoscored.com/matches/1825436\", 1825436], [\"https://fr.whoscored.com/matches/1825437\", 1825437], [\"https://fr.whoscored.com/matches/1825438\", 1825438], [\"https://fr.whoscored.com/matches/1825439\", 1825439], [\"https://fr.whoscored.com/matches/1825440\", 1825440], [\"https://fr.whoscored.com/matches/1825441\", 1825441], [\"https://fr.whoscored.com/matches/1825442\", 1825442], [\"https://fr.whoscored.com/matches/1825443\", 1825443], [\"https://fr.whoscored.com/matches/1825444\", 1825444], [\"https://fr.whoscored.com/matches/1825445\", 1825445], [\"https://fr.whoscored.com/matches/1825446\", 1825446], [\"https://fr.whoscored.com/matches/1825447\", 1825447], [\"https://fr.whoscored.com/matches/1825448\", 1825448], [\"https://fr.whoscored.com/matches/1825449\", 1825449], [\"https://fr.whoscored.com/matches/1825450\", 1825450], [\"https://fr.whoscored.com/matches/1825451\", 1825451], [\"https://fr.whoscored.com/matches/1825452\", 1825452], [\"https://fr.whoscored.com/matches/1825453\", 1825453], [\"https://fr.whoscored.com/matches/1825454\", 1825454], [\"https://fr.whoscored.com/matches/1825455\", 1825455], [\"https://fr.whoscored.com/matches/1825456\", 1825456], [\"https://fr.whoscored.com/matches/1825457\", 1825457], [\"https://fr.whoscored.com/matches/1825458\", 1825458], [\"https://fr.whoscored.com/matches/1825459\", 1825459], [\"https://fr.whoscored.com/matches/1825465\", 1825465], [\"https://fr.whoscored.com/matches/1825466\", 1825466], [\"https://fr.whoscored.com/matches/1825467\", 1825467], [\"https://fr.whoscored.com/matches/1825468\", 1825468], [\"https://fr.whoscored.com/matches/1825469\", 1825469], [\"https://fr.whoscored.com/matches/1825470\", 1825470], [\"https://fr.whoscored.com/matches/1825471\", 1825471], [\"https://fr.whoscored.com/matches/1825472\", 1825472], [\"https://fr.whoscored.com/matches/1825473\", 1825473], [\"https://fr.whoscored.com/matches/1825474\", 1825474], [\"https://fr.whoscored.com/matches/1825475\", 1825475], [\"https://fr.whoscored.com/matches/1825476\", 1825476], [\"https://fr.whoscored.com/matches/1825477\", 1825477], [\"https://fr.whoscored.com/matches/1825478\", 1825478], [\"https://fr.whoscored.com/matches/1825479\", 1825479], [\"https://fr.whoscored.com/matches/1825480\", 1825480], [\"https://fr.whoscored.com/matches/1825481\", 1825481], [\"https://fr.whoscored.com/matches/1825482\", 1825482], [\"https://fr.whoscored.com/matches/1825483\", 1825483], [\"https://fr.whoscored.com/matches/1825484\", 1825484], [\"https://fr.whoscored.com/matches/1825485\", 1825485], [\"https://fr.whoscored.com/matches/1825486\", 1825486], [\"https://fr.whoscored.com/matches/1825487\", 1825487], [\"https://fr.whoscored.com/matches/1825488\", 1825488], [\"https://fr.whoscored.com/matches/1825489\", 1825489], [\"https://fr.whoscored.com/matches/1825490\", 1825490], [\"https://fr.whoscored.com/matches/1825491\", 1825491], [\"https://fr.whoscored.com/matches/1825492\", 1825492], [\"https://fr.whoscored.com/matches/1825493\", 1825493], [\"https://fr.whoscored.com/matches/1825494\", 1825494], [\"https://fr.whoscored.com/matches/1825495\", 1825495], [\"https://fr.whoscored.com/matches/1825496\", 1825496], [\"https://fr.whoscored.com/matches/1825497\", 1825497], [\"https://fr.whoscored.com/matches/1825498\", 1825498], [\"https://fr.whoscored.com/matches/1825499\", 1825499], [\"https://fr.whoscored.com/matches/1825500\", 1825500], [\"https://fr.whoscored.com/matches/1825501\", 1825501], [\"https://fr.whoscored.com/matches/1825502\", 1825502], [\"https://fr.whoscored.com/matches/1825503\", 1825503], [\"https://fr.whoscored.com/matches/1825504\", 1825504], [\"https://fr.whoscored.com/matches/1825505\", 1825505], [\"https://fr.whoscored.com/matches/1825506\", 1825506], [\"https://fr.whoscored.com/matches/1825507\", 1825507], [\"https://fr.whoscored.com/matches/1825508\", 1825508], [\"https://fr.whoscored.com/matches/1825509\", 1825509], [\"https://fr.whoscored.com/matches/1825712\", 1825712], [\"https://fr.whoscored.com/matches/1825720\", 1825720], [\"https://fr.whoscored.com/matches/1825721\", 1825721], [\"https://fr.whoscored.com/matches/1825722\", 1825722], [\"https://fr.whoscored.com/matches/1825723\", 1825723], [\"https://fr.whoscored.com/matches/1825724\", 1825724], [\"https://fr.whoscored.com/matches/1825725\", 1825725], [\"https://fr.whoscored.com/matches/1825726\", 1825726], [\"https://fr.whoscored.com/matches/1825727\", 1825727], [\"https://fr.whoscored.com/matches/1825728\", 1825728], [\"https://fr.whoscored.com/matches/1826154\", 1826154], [\"https://fr.whoscored.com/matches/1826305\", 1826305], [\"https://fr.whoscored.com/matches/1826306\", 1826306], [\"https://fr.whoscored.com/matches/1826307\", 1826307], [\"https://fr.whoscored.com/matches/1826308\", 1826308], [\"https://fr.whoscored.com/matches/1826309\", 1826309], [\"https://fr.whoscored.com/matches/1826310\", 1826310], [\"https://fr.whoscored.com/matches/1826311\", 1826311], [\"https://fr.whoscored.com/matches/1826312\", 1826312], [\"https://fr.whoscored.com/matches/1826313\", 1826313], [\"https://fr.whoscored.com/matches/1826314\", 1826314], [\"https://fr.whoscored.com/matches/1826315\", 1826315], [\"https://fr.whoscored.com/matches/1826316\", 1826316], [\"https://fr.whoscored.com/matches/1826407\", 1826407], [\"https://fr.whoscored.com/matches/1826408\", 1826408], [\"https://fr.whoscored.com/matches/1826409\", 1826409], [\"https://fr.whoscored.com/matches/1826410\", 1826410], [\"https://fr.whoscored.com/matches/1826411\", 1826411], [\"https://fr.whoscored.com/matches/1826412\", 1826412], [\"https://fr.whoscored.com/matches/1826413\", 1826413], [\"https://fr.whoscored.com/matches/1826414\", 1826414], [\"https://fr.whoscored.com/matches/1826415\", 1826415], [\"https://fr.whoscored.com/matches/1826416\", 1826416], [\"https://fr.whoscored.com/matches/1826417\", 1826417], [\"https://fr.whoscored.com/matches/1826418\", 1826418], [\"https://fr.whoscored.com/matches/1826529\", 1826529], [\"https://fr.whoscored.com/matches/1826620\", 1826620], [\"https://fr.whoscored.com/matches/1826634\", 1826634], [\"https://fr.whoscored.com/matches/1826638\", 1826638], [\"https://fr.whoscored.com/matches/1826639\", 1826639], [\"https://fr.whoscored.com/matches/1826640\", 1826640], [\"https://fr.whoscored.com/matches/1826641\", 1826641], [\"https://fr.whoscored.com/matches/1826643\", 1826643], [\"https://fr.whoscored.com/matches/1826646\", 1826646], [\"https://fr.whoscored.com/matches/1826649\", 1826649], [\"https://fr.whoscored.com/matches/1826652\", 1826652], [\"https://fr.whoscored.com/matches/1826655\", 1826655], [\"https://fr.whoscored.com/matches/1826664\", 1826664], [\"https://fr.whoscored.com/matches/1826665\", 1826665], [\"https://fr.whoscored.com/matches/1826666\", 1826666], [\"https://fr.whoscored.com/matches/1826667\", 1826667], [\"https://fr.whoscored.com/matches/1826668\", 1826668], [\"https://fr.whoscored.com/matches/1826669\", 1826669], [\"https://fr.whoscored.com/matches/1826670\", 1826670], [\"https://fr.whoscored.com/matches/1826671\", 1826671], [\"https://fr.whoscored.com/matches/1826672\", 1826672], [\"https://fr.whoscored.com/matches/1826673\", 1826673], [\"https://fr.whoscored.com/matches/1826674\", 1826674], [\"https://fr.whoscored.com/matches/1826675\", 1826675], [\"https://fr.whoscored.com/matches/1826676\", 1826676], [\"https://fr.whoscored.com/matches/1826677\", 1826677], [\"https://fr.whoscored.com/matches/1826678\", 1826678], [\"https://fr.whoscored.com/matches/1826679\", 1826679], [\"https://fr.whoscored.com/matches/1826680\", 1826680], [\"https://fr.whoscored.com/matches/1826681\", 1826681], [\"https://fr.whoscored.com/matches/1826682\", 1826682], [\"https://fr.whoscored.com/matches/1826683\", 1826683], [\"https://fr.whoscored.com/matches/1826684\", 1826684], [\"https://fr.whoscored.com/matches/1826689\", 1826689], [\"https://fr.whoscored.com/matches/1826690\", 1826690], [\"https://fr.whoscored.com/matches/1826691\", 1826691], [\"https://fr.whoscored.com/matches/1826692\", 1826692], [\"https://fr.whoscored.com/matches/1826693\", 1826693], [\"https://fr.whoscored.com/matches/1826694\", 1826694], [\"https://fr.whoscored.com/matches/1826695\", 1826695], [\"https://fr.whoscored.com/matches/1826696\", 1826696], [\"https://fr.whoscored.com/matches/1826697\", 1826697], [\"https://fr.whoscored.com/matches/1826698\", 1826698], [\"https://fr.whoscored.com/matches/1826699\", 1826699], [\"https://fr.whoscored.com/matches/1826700\", 1826700], [\"https://fr.whoscored.com/matches/1826701\", 1826701], [\"https://fr.whoscored.com/matches/1826702\", 1826702], [\"https://fr.whoscored.com/matches/1826703\", 1826703], [\"https://fr.whoscored.com/matches/1826704\", 1826704], [\"https://fr.whoscored.com/matches/1826705\", 1826705], [\"https://fr.whoscored.com/matches/1826706\", 1826706], [\"https://fr.whoscored.com/matches/1826707\", 1826707], [\"https://fr.whoscored.com/matches/1826708\", 1826708], [\"https://fr.whoscored.com/matches/1826709\", 1826709], [\"https://fr.whoscored.com/matches/1826710\", 1826710], [\"https://fr.whoscored.com/matches/1826711\", 1826711], [\"https://fr.whoscored.com/matches/1826712\", 1826712], [\"https://fr.whoscored.com/matches/1826713\", 1826713], [\"https://fr.whoscored.com/matches/1826714\", 1826714], [\"https://fr.whoscored.com/matches/1826715\", 1826715], [\"https://fr.whoscored.com/matches/1826716\", 1826716], [\"https://fr.whoscored.com/matches/1826717\", 1826717], [\"https://fr.whoscored.com/matches/1826718\", 1826718], [\"https://fr.whoscored.com/matches/1826719\", 1826719], [\"https://fr.whoscored.com/matches/1826720\", 1826720], [\"https://fr.whoscored.com/matches/1826721\", 1826721], [\"https://fr.whoscored.com/matches/1826722\", 1826722], [\"https://fr.whoscored.com/matches/1826723\", 1826723], [\"https://fr.whoscored.com/matches/1826724\", 1826724], [\"https://fr.whoscored.com/matches/1826725\", 1826725], [\"https://fr.whoscored.com/matches/1827493\", 1827493], [\"https://fr.whoscored.com/matches/1827501\", 1827501], [\"https://fr.whoscored.com/matches/1827572\", 1827572], [\"https://fr.whoscored.com/matches/1827575\", 1827575], [\"https://fr.whoscored.com/matches/1827576\", 1827576], [\"https://fr.whoscored.com/matches/1827579\", 1827579], [\"https://fr.whoscored.com/matches/1827582\", 1827582], [\"https://fr.whoscored.com/matches/1827583\", 1827583], [\"https://fr.whoscored.com/matches/1827601\", 1827601], [\"https://fr.whoscored.com/matches/1827603\", 1827603], [\"https://fr.whoscored.com/matches/1827604\", 1827604], [\"https://fr.whoscored.com/matches/1827605\", 1827605], [\"https://fr.whoscored.com/matches/1827607\", 1827607], [\"https://fr.whoscored.com/matches/1827608\", 1827608], [\"https://fr.whoscored.com/matches/1827609\", 1827609], [\"https://fr.whoscored.com/matches/1827610\", 1827610], [\"https://fr.whoscored.com/matches/1827612\", 1827612], [\"https://fr.whoscored.com/matches/1827613\", 1827613], [\"https://fr.whoscored.com/matches/1827615\", 1827615], [\"https://fr.whoscored.com/matches/1827617\", 1827617], [\"https://fr.whoscored.com/matches/1827619\", 1827619], [\"https://fr.whoscored.com/matches/1827621\", 1827621], [\"https://fr.whoscored.com/matches/1827623\", 1827623], [\"https://fr.whoscored.com/matches/1827624\", 1827624], [\"https://fr.whoscored.com/matches/1827626\", 1827626], [\"https://fr.whoscored.com/matches/1827627\", 1827627], [\"https://fr.whoscored.com/matches/1827629\", 1827629], [\"https://fr.whoscored.com/matches/1827630\", 1827630], [\"https://fr.whoscored.com/matches/1827632\", 1827632], [\"https://fr.whoscored.com/matches/1827634\", 1827634], [\"https://fr.whoscored.com/matches/1827636\", 1827636], [\"https://fr.whoscored.com/matches/1827638\", 1827638], [\"https://fr.whoscored.com/matches/1827640\", 1827640], [\"https://fr.whoscored.com/matches/1827642\", 1827642], [\"https://fr.whoscored.com/matches/1827643\", 1827643], [\"https://fr.whoscored.com/matches/1827644\", 1827644], [\"https://fr.whoscored.com/matches/1827645\", 1827645], [\"https://fr.whoscored.com/matches/1827646\", 1827646], [\"https://fr.whoscored.com/matches/1827647\", 1827647], [\"https://fr.whoscored.com/matches/1827648\", 1827648], [\"https://fr.whoscored.com/matches/1827649\", 1827649], [\"https://fr.whoscored.com/matches/1827650\", 1827650], [\"https://fr.whoscored.com/matches/1827651\", 1827651], [\"https://fr.whoscored.com/matches/1827652\", 1827652], [\"https://fr.whoscored.com/matches/1827653\", 1827653], [\"https://fr.whoscored.com/matches/1827654\", 1827654], [\"https://fr.whoscored.com/matches/1827655\", 1827655], [\"https://fr.whoscored.com/matches/1827656\", 1827656], [\"https://fr.whoscored.com/matches/1827657\", 1827657], [\"https://fr.whoscored.com/matches/1827658\", 1827658], [\"https://fr.whoscored.com/matches/1827659\", 1827659], [\"https://fr.whoscored.com/matches/1827660\", 1827660], [\"https://fr.whoscored.com/matches/1827661\", 1827661], [\"https://fr.whoscored.com/matches/1827662\", 1827662], [\"https://fr.whoscored.com/matches/1827663\", 1827663], [\"https://fr.whoscored.com/matches/1827664\", 1827664], [\"https://fr.whoscored.com/matches/1827665\", 1827665], [\"https://fr.whoscored.com/matches/1827666\", 1827666], [\"https://fr.whoscored.com/matches/1827667\", 1827667], [\"https://fr.whoscored.com/matches/1827668\", 1827668], [\"https://fr.whoscored.com/matches/1827669\", 1827669], [\"https://fr.whoscored.com/matches/1827670\", 1827670], [\"https://fr.whoscored.com/matches/1827671\", 1827671], [\"https://fr.whoscored.com/matches/1827672\", 1827672], [\"https://fr.whoscored.com/matches/1827673\", 1827673], [\"https://fr.whoscored.com/matches/1827674\", 1827674], [\"https://fr.whoscored.com/matches/1827675\", 1827675], [\"https://fr.whoscored.com/matches/1827676\", 1827676], [\"https://fr.whoscored.com/matches/1827677\", 1827677], [\"https://fr.whoscored.com/matches/1827678\", 1827678], [\"https://fr.whoscored.com/matches/1827679\", 1827679], [\"https://fr.whoscored.com/matches/1827680\", 1827680], [\"https://fr.whoscored.com/matches/1827681\", 1827681], [\"https://fr.whoscored.com/matches/1827682\", 1827682], [\"https://fr.whoscored.com/matches/1827683\", 1827683], [\"https://fr.whoscored.com/matches/1827684\", 1827684], [\"https://fr.whoscored.com/matches/1827685\", 1827685], [\"https://fr.whoscored.com/matches/1827686\", 1827686], [\"https://fr.whoscored.com/matches/1827687\", 1827687], [\"https://fr.whoscored.com/matches/1827688\", 1827688], [\"https://fr.whoscored.com/matches/1827842\", 1827842], [\"https://fr.whoscored.com/matches/1827851\", 1827851], [\"https://fr.whoscored.com/matches/1827852\", 1827852], [\"https://fr.whoscored.com/matches/1827854\", 1827854], [\"https://fr.whoscored.com/matches/1827855\", 1827855], [\"https://fr.whoscored.com/matches/1827856\", 1827856], [\"https://fr.whoscored.com/matches/1827857\", 1827857], [\"https://fr.whoscored.com/matches/1827858\", 1827858], [\"https://fr.whoscored.com/matches/1827859\", 1827859], [\"https://fr.whoscored.com/matches/1827860\", 1827860], [\"https://fr.whoscored.com/matches/1827861\", 1827861], [\"https://fr.whoscored.com/matches/1827862\", 1827862], [\"https://fr.whoscored.com/matches/1827863\", 1827863], [\"https://fr.whoscored.com/matches/1827864\", 1827864], [\"https://fr.whoscored.com/matches/1827865\", 1827865], [\"https://fr.whoscored.com/matches/1827866\", 1827866], [\"https://fr.whoscored.com/matches/1827867\", 1827867], [\"https://fr.whoscored.com/matches/1827868\", 1827868], [\"https://fr.whoscored.com/matches/1827869\", 1827869], [\"https://fr.whoscored.com/matches/1827870\", 1827870], [\"https://fr.whoscored.com/matches/1827871\", 1827871], [\"https://fr.whoscored.com/matches/1827872\", 1827872], [\"https://fr.whoscored.com/matches/1827873\", 1827873], [\"https://fr.whoscored.com/matches/1827874\", 1827874], [\"https://fr.whoscored.com/matches/1827875\", 1827875], [\"https://fr.whoscored.com/matches/1827876\", 1827876], [\"https://fr.whoscored.com/matches/1827877\", 1827877], [\"https://fr.whoscored.com/matches/1827878\", 1827878], [\"https://fr.whoscored.com/matches/1827879\", 1827879], [\"https://fr.whoscored.com/matches/1827880\", 1827880], [\"https://fr.whoscored.com/matches/1827881\", 1827881], [\"https://fr.whoscored.com/matches/1827882\", 1827882], [\"https://fr.whoscored.com/matches/1827883\", 1827883], [\"https://fr.whoscored.com/matches/1827884\", 1827884], [\"https://fr.whoscored.com/matches/1827885\", 1827885], [\"https://fr.whoscored.com/matches/1827887\", 1827887], [\"https://fr.whoscored.com/matches/1827888\", 1827888], [\"https://fr.whoscored.com/matches/1827889\", 1827889], [\"https://fr.whoscored.com/matches/1827890\", 1827890], [\"https://fr.whoscored.com/matches/1827891\", 1827891], [\"https://fr.whoscored.com/matches/1827892\", 1827892], [\"https://fr.whoscored.com/matches/1827894\", 1827894], [\"https://fr.whoscored.com/matches/1827896\", 1827896], [\"https://fr.whoscored.com/matches/1827898\", 1827898], [\"https://fr.whoscored.com/matches/1827900\", 1827900], [\"https://fr.whoscored.com/matches/1827902\", 1827902], [\"https://fr.whoscored.com/matches/1827904\", 1827904], [\"https://fr.whoscored.com/matches/1827906\", 1827906], [\"https://fr.whoscored.com/matches/1827908\", 1827908], [\"https://fr.whoscored.com/matches/1827910\", 1827910], [\"https://fr.whoscored.com/matches/1827912\", 1827912], [\"https://fr.whoscored.com/matches/1827914\", 1827914], [\"https://fr.whoscored.com/matches/1827915\", 1827915], [\"https://fr.whoscored.com/matches/1827917\", 1827917], [\"https://fr.whoscored.com/matches/1827920\", 1827920], [\"https://fr.whoscored.com/matches/1827926\", 1827926], [\"https://fr.whoscored.com/matches/1827927\", 1827927], [\"https://fr.whoscored.com/matches/1827928\", 1827928], [\"https://fr.whoscored.com/matches/1827929\", 1827929], [\"https://fr.whoscored.com/matches/1827930\", 1827930], [\"https://fr.whoscored.com/matches/1827931\", 1827931], [\"https://fr.whoscored.com/matches/1827932\", 1827932], [\"https://fr.whoscored.com/matches/1827933\", 1827933], [\"https://fr.whoscored.com/matches/1827934\", 1827934], [\"https://fr.whoscored.com/matches/1827935\", 1827935], [\"https://fr.whoscored.com/matches/1827936\", 1827936], [\"https://fr.whoscored.com/matches/1827937\", 1827937], [\"https://fr.whoscored.com/matches/1827938\", 1827938], [\"https://fr.whoscored.com/matches/1827939\", 1827939], [\"https://fr.whoscored.com/matches/1827940\", 1827940], [\"https://fr.whoscored.com/matches/1827941\", 1827941], [\"https://fr.whoscored.com/matches/1827942\", 1827942], [\"https://fr.whoscored.com/matches/1827943\", 1827943], [\"https://fr.whoscored.com/matches/1827944\", 1827944], [\"https://fr.whoscored.com/matches/1827945\", 1827945], [\"https://fr.whoscored.com/matches/1827946\", 1827946], [\"https://fr.whoscored.com/matches/1828241\", 1828241], [\"https://fr.whoscored.com/matches/1828242\", 1828242], [\"https://fr.whoscored.com/matches/1828243\", 1828243], [\"https://fr.whoscored.com/matches/1828244\", 1828244], [\"https://fr.whoscored.com/matches/1828245\", 1828245], [\"https://fr.whoscored.com/matches/1828246\", 1828246], [\"https://fr.whoscored.com/matches/1828247\", 1828247], [\"https://fr.whoscored.com/matches/1828248\", 1828248], [\"https://fr.whoscored.com/matches/1828249\", 1828249], [\"https://fr.whoscored.com/matches/1828250\", 1828250], [\"https://fr.whoscored.com/matches/1828251\", 1828251], [\"https://fr.whoscored.com/matches/1828252\", 1828252], [\"https://fr.whoscored.com/matches/1828253\", 1828253], [\"https://fr.whoscored.com/matches/1828254\", 1828254], [\"https://fr.whoscored.com/matches/1828255\", 1828255], [\"https://fr.whoscored.com/matches/1828256\", 1828256], [\"https://fr.whoscored.com/matches/1828273\", 1828273], [\"https://fr.whoscored.com/matches/1828274\", 1828274], [\"https://fr.whoscored.com/matches/1828275\", 1828275], [\"https://fr.whoscored.com/matches/1828276\", 1828276], [\"https://fr.whoscored.com/matches/1828277\", 1828277], [\"https://fr.whoscored.com/matches/1828278\", 1828278], [\"https://fr.whoscored.com/matches/1828279\", 1828279], [\"https://fr.whoscored.com/matches/1828280\", 1828280], [\"https://fr.whoscored.com/matches/1828281\", 1828281], [\"https://fr.whoscored.com/matches/1828282\", 1828282], [\"https://fr.whoscored.com/matches/1828283\", 1828283], [\"https://fr.whoscored.com/matches/1828284\", 1828284], [\"https://fr.whoscored.com/matches/1828285\", 1828285], [\"https://fr.whoscored.com/matches/1828286\", 1828286], [\"https://fr.whoscored.com/matches/1828287\", 1828287], [\"https://fr.whoscored.com/matches/1828288\", 1828288], [\"https://fr.whoscored.com/matches/1828289\", 1828289], [\"https://fr.whoscored.com/matches/1828290\", 1828290], [\"https://fr.whoscored.com/matches/1828291\", 1828291], [\"https://fr.whoscored.com/matches/1828292\", 1828292], [\"https://fr.whoscored.com/matches/1828293\", 1828293], [\"https://fr.whoscored.com/matches/1828294\", 1828294], [\"https://fr.whoscored.com/matches/1828295\", 1828295], [\"https://fr.whoscored.com/matches/1828296\", 1828296], [\"https://fr.whoscored.com/matches/1828297\", 1828297], [\"https://fr.whoscored.com/matches/1828298\", 1828298], [\"https://fr.whoscored.com/matches/1828299\", 1828299], [\"https://fr.whoscored.com/matches/1828300\", 1828300], [\"https://fr.whoscored.com/matches/1828301\", 1828301], [\"https://fr.whoscored.com/matches/1828302\", 1828302], [\"https://fr.whoscored.com/matches/1828303\", 1828303], [\"https://fr.whoscored.com/matches/1828304\", 1828304], [\"https://fr.whoscored.com/matches/1828305\", 1828305], [\"https://fr.whoscored.com/matches/1828306\", 1828306], [\"https://fr.whoscored.com/matches/1828307\", 1828307], [\"https://fr.whoscored.com/matches/1828308\", 1828308], [\"https://fr.whoscored.com/matches/1828309\", 1828309], [\"https://fr.whoscored.com/matches/1828310\", 1828310], [\"https://fr.whoscored.com/matches/1828311\", 1828311], [\"https://fr.whoscored.com/matches/1828312\", 1828312], [\"https://fr.whoscored.com/matches/1828313\", 1828313], [\"https://fr.whoscored.com/matches/1828314\", 1828314], [\"https://fr.whoscored.com/matches/1828315\", 1828315], [\"https://fr.whoscored.com/matches/1828316\", 1828316], [\"https://fr.whoscored.com/matches/1828317\", 1828317], [\"https://fr.whoscored.com/matches/1828318\", 1828318], [\"https://fr.whoscored.com/matches/1828319\", 1828319], [\"https://fr.whoscored.com/matches/1828320\", 1828320], [\"https://fr.whoscored.com/matches/1828522\", 1828522], [\"https://fr.whoscored.com/matches/1828630\", 1828630], [\"https://fr.whoscored.com/matches/1828652\", 1828652], [\"https://fr.whoscored.com/matches/1828653\", 1828653], [\"https://fr.whoscored.com/matches/1828654\", 1828654], [\"https://fr.whoscored.com/matches/1828655\", 1828655], [\"https://fr.whoscored.com/matches/1828672\", 1828672], [\"https://fr.whoscored.com/matches/1828673\", 1828673], [\"https://fr.whoscored.com/matches/1828674\", 1828674], [\"https://fr.whoscored.com/matches/1828675\", 1828675], [\"https://fr.whoscored.com/matches/1828676\", 1828676], [\"https://fr.whoscored.com/matches/1828677\", 1828677], [\"https://fr.whoscored.com/matches/1828678\", 1828678], [\"https://fr.whoscored.com/matches/1828679\", 1828679], [\"https://fr.whoscored.com/matches/1828680\", 1828680], [\"https://fr.whoscored.com/matches/1828681\", 1828681], [\"https://fr.whoscored.com/matches/1828682\", 1828682], [\"https://fr.whoscored.com/matches/1828683\", 1828683], [\"https://fr.whoscored.com/matches/1828684\", 1828684], [\"https://fr.whoscored.com/matches/1828685\", 1828685], [\"https://fr.whoscored.com/matches/1828686\", 1828686], [\"https://fr.whoscored.com/matches/1828687\", 1828687], [\"https://fr.whoscored.com/matches/1828688\", 1828688], [\"https://fr.whoscored.com/matches/1828689\", 1828689], [\"https://fr.whoscored.com/matches/1828690\", 1828690], [\"https://fr.whoscored.com/matches/1828691\", 1828691], [\"https://fr.whoscored.com/matches/1828692\", 1828692], [\"https://fr.whoscored.com/matches/1828693\", 1828693], [\"https://fr.whoscored.com/matches/1828694\", 1828694], [\"https://fr.whoscored.com/matches/1828695\", 1828695], [\"https://fr.whoscored.com/matches/1828701\", 1828701], [\"https://fr.whoscored.com/matches/1828702\", 1828702], [\"https://fr.whoscored.com/matches/1828703\", 1828703], [\"https://fr.whoscored.com/matches/1828704\", 1828704], [\"https://fr.whoscored.com/matches/1828705\", 1828705], [\"https://fr.whoscored.com/matches/1828706\", 1828706], [\"https://fr.whoscored.com/matches/1828707\", 1828707], [\"https://fr.whoscored.com/matches/1828708\", 1828708], [\"https://fr.whoscored.com/matches/1828709\", 1828709], [\"https://fr.whoscored.com/matches/1828710\", 1828710], [\"https://fr.whoscored.com/matches/1828711\", 1828711], [\"https://fr.whoscored.com/matches/1828712\", 1828712], [\"https://fr.whoscored.com/matches/1828713\", 1828713], [\"https://fr.whoscored.com/matches/1828714\", 1828714], [\"https://fr.whoscored.com/matches/1828715\", 1828715], [\"https://fr.whoscored.com/matches/1828716\", 1828716], [\"https://fr.whoscored.com/matches/1828717\", 1828717], [\"https://fr.whoscored.com/matches/1828718\", 1828718], [\"https://fr.whoscored.com/matches/1828728\", 1828728], [\"https://fr.whoscored.com/matches/1828729\", 1828729], [\"https://fr.whoscored.com/matches/1828730\", 1828730], [\"https://fr.whoscored.com/matches/1828731\", 1828731], [\"https://fr.whoscored.com/matches/1828732\", 1828732], [\"https://fr.whoscored.com/matches/1828733\", 1828733], [\"https://fr.whoscored.com/matches/1828734\", 1828734], [\"https://fr.whoscored.com/matches/1828735\", 1828735], [\"https://fr.whoscored.com/matches/1828736\", 1828736], [\"https://fr.whoscored.com/matches/1828737\", 1828737], [\"https://fr.whoscored.com/matches/1828738\", 1828738], [\"https://fr.whoscored.com/matches/1828739\", 1828739], [\"https://fr.whoscored.com/matches/1828740\", 1828740], [\"https://fr.whoscored.com/matches/1828743\", 1828743], [\"https://fr.whoscored.com/matches/1828744\", 1828744], [\"https://fr.whoscored.com/matches/1828745\", 1828745], [\"https://fr.whoscored.com/matches/1828746\", 1828746], [\"https://fr.whoscored.com/matches/1828747\", 1828747], [\"https://fr.whoscored.com/matches/1828748\", 1828748], [\"https://fr.whoscored.com/matches/1828749\", 1828749], [\"https://fr.whoscored.com/matches/1828750\", 1828750], [\"https://fr.whoscored.com/matches/1828751\", 1828751], [\"https://fr.whoscored.com/matches/1828752\", 1828752], [\"https://fr.whoscored.com/matches/1828753\", 1828753], [\"https://fr.whoscored.com/matches/1828754\", 1828754], [\"https://fr.whoscored.com/matches/1828755\", 1828755], [\"https://fr.whoscored.com/matches/1828958\", 1828958], [\"https://fr.whoscored.com/matches/1828965\", 1828965], [\"https://fr.whoscored.com/matches/1828966\", 1828966], [\"https://fr.whoscored.com/matches/1829313\", 1829313], [\"https://fr.whoscored.com/matches/1829314\", 1829314], [\"https://fr.whoscored.com/matches/1829315\", 1829315], [\"https://fr.whoscored.com/matches/1829316\", 1829316], [\"https://fr.whoscored.com/matches/1829317\", 1829317], [\"https://fr.whoscored.com/matches/1829318\", 1829318], [\"https://fr.whoscored.com/matches/1829319\", 1829319], [\"https://fr.whoscored.com/matches/1829320\", 1829320], [\"https://fr.whoscored.com/matches/1829321\", 1829321], [\"https://fr.whoscored.com/matches/1829335\", 1829335], [\"https://fr.whoscored.com/matches/1829336\", 1829336], [\"https://fr.whoscored.com/matches/1829337\", 1829337], [\"https://fr.whoscored.com/matches/1829338\", 1829338], [\"https://fr.whoscored.com/matches/1829339\", 1829339], [\"https://fr.whoscored.com/matches/1829340\", 1829340], [\"https://fr.whoscored.com/matches/1829341\", 1829341], [\"https://fr.whoscored.com/matches/1829342\", 1829342], [\"https://fr.whoscored.com/matches/1829343\", 1829343], [\"https://fr.whoscored.com/matches/1829344\", 1829344], [\"https://fr.whoscored.com/matches/1829345\", 1829345], [\"https://fr.whoscored.com/matches/1829346\", 1829346], [\"https://fr.whoscored.com/matches/1829347\", 1829347], [\"https://fr.whoscored.com/matches/1829348\", 1829348], [\"https://fr.whoscored.com/matches/1829349\", 1829349], [\"https://fr.whoscored.com/matches/1829350\", 1829350], [\"https://fr.whoscored.com/matches/1829351\", 1829351], [\"https://fr.whoscored.com/matches/1829352\", 1829352], [\"https://fr.whoscored.com/matches/1829353\", 1829353], [\"https://fr.whoscored.com/matches/1829354\", 1829354], [\"https://fr.whoscored.com/matches/1829355\", 1829355], [\"https://fr.whoscored.com/matches/1829356\", 1829356], [\"https://fr.whoscored.com/matches/1829357\", 1829357], [\"https://fr.whoscored.com/matches/1829358\", 1829358], [\"https://fr.whoscored.com/matches/1829359\", 1829359], [\"https://fr.whoscored.com/matches/1829360\", 1829360], [\"https://fr.whoscored.com/matches/1829361\", 1829361], [\"https://fr.whoscored.com/matches/1829362\", 1829362], [\"https://fr.whoscored.com/matches/1829363\", 1829363], [\"https://fr.whoscored.com/matches/1829364\", 1829364], [\"https://fr.whoscored.com/matches/1829365\", 1829365], [\"https://fr.whoscored.com/matches/1829366\", 1829366], [\"https://fr.whoscored.com/matches/1829372\", 1829372], [\"https://fr.whoscored.com/matches/1829373\", 1829373], [\"https://fr.whoscored.com/matches/1829374\", 1829374], [\"https://fr.whoscored.com/matches/1829375\", 1829375], [\"https://fr.whoscored.com/matches/1829376\", 1829376], [\"https://fr.whoscored.com/matches/1829377\", 1829377], [\"https://fr.whoscored.com/matches/1829378\", 1829378], [\"https://fr.whoscored.com/matches/1829379\", 1829379], [\"https://fr.whoscored.com/matches/1829380\", 1829380], [\"https://fr.whoscored.com/matches/1829381\", 1829381], [\"https://fr.whoscored.com/matches/1829382\", 1829382], [\"https://fr.whoscored.com/matches/1829383\", 1829383], [\"https://fr.whoscored.com/matches/1829386\", 1829386], [\"https://fr.whoscored.com/matches/1829387\", 1829387], [\"https://fr.whoscored.com/matches/1829388\", 1829388], [\"https://fr.whoscored.com/matches/1829389\", 1829389], [\"https://fr.whoscored.com/matches/1829390\", 1829390], [\"https://fr.whoscored.com/matches/1829391\", 1829391], [\"https://fr.whoscored.com/matches/1829392\", 1829392], [\"https://fr.whoscored.com/matches/1829394\", 1829394], [\"https://fr.whoscored.com/matches/1829395\", 1829395], [\"https://fr.whoscored.com/matches/1829396\", 1829396], [\"https://fr.whoscored.com/matches/1829397\", 1829397], [\"https://fr.whoscored.com/matches/1829398\", 1829398], [\"https://fr.whoscored.com/matches/1829399\", 1829399], [\"https://fr.whoscored.com/matches/1829400\", 1829400], [\"https://fr.whoscored.com/matches/1829401\", 1829401], [\"https://fr.whoscored.com/matches/1829402\", 1829402], [\"https://fr.whoscored.com/matches/1829403\", 1829403], [\"https://fr.whoscored.com/matches/1829404\", 1829404], [\"https://fr.whoscored.com/matches/1829405\", 1829405], [\"https://fr.whoscored.com/matches/1829406\", 1829406], [\"https://fr.whoscored.com/matches/1829407\", 1829407], [\"https://fr.whoscored.com/matches/1829408\", 1829408], [\"https://fr.whoscored.com/matches/1829409\", 1829409], [\"https://fr.whoscored.com/matches/1829410\", 1829410], [\"https://fr.whoscored.com/matches/1829411\", 1829411], [\"https://fr.whoscored.com/matches/1829412\", 1829412], [\"https://fr.whoscored.com/matches/1829413\", 1829413], [\"https://fr.whoscored.com/matches/1829414\", 1829414], [\"https://fr.whoscored.com/matches/1829415\", 1829415], [\"https://fr.whoscored.com/matches/1829416\", 1829416], [\"https://fr.whoscored.com/matches/1829417\", 1829417], [\"https://fr.whoscored.com/matches/1829418\", 1829418], [\"https://fr.whoscored.com/matches/1829419\", 1829419], [\"https://fr.whoscored.com/matches/1829420\", 1829420], [\"https://fr.whoscored.com/matches/1829421\", 1829421], [\"https://fr.whoscored.com/matches/1829422\", 1829422], [\"https://fr.whoscored.com/matches/1829423\", 1829423], [\"https://fr.whoscored.com/matches/1829424\", 1829424], [\"https://fr.whoscored.com/matches/1829425\", 1829425], [\"https://fr.whoscored.com/matches/1829426\", 1829426], [\"https://fr.whoscored.com/matches/1829427\", 1829427], [\"https://fr.whoscored.com/matches/1829428\", 1829428], [\"https://fr.whoscored.com/matches/1829429\", 1829429], [\"https://fr.whoscored.com/matches/1829430\", 1829430], [\"https://fr.whoscored.com/matches/1829431\", 1829431], [\"https://fr.whoscored.com/matches/1829432\", 1829432], [\"https://fr.whoscored.com/matches/1829594\", 1829594], [\"https://fr.whoscored.com/matches/1829595\", 1829595], [\"https://fr.whoscored.com/matches/1829596\", 1829596], [\"https://fr.whoscored.com/matches/1829597\", 1829597], [\"https://fr.whoscored.com/matches/1829598\", 1829598], [\"https://fr.whoscored.com/matches/1829599\", 1829599], [\"https://fr.whoscored.com/matches/1829600\", 1829600], [\"https://fr.whoscored.com/matches/1829601\", 1829601], [\"https://fr.whoscored.com/matches/1829602\", 1829602], [\"https://fr.whoscored.com/matches/1829603\", 1829603], [\"https://fr.whoscored.com/matches/1829604\", 1829604], [\"https://fr.whoscored.com/matches/1829605\", 1829605], [\"https://fr.whoscored.com/matches/1829606\", 1829606], [\"https://fr.whoscored.com/matches/1829607\", 1829607], [\"https://fr.whoscored.com/matches/1829608\", 1829608], [\"https://fr.whoscored.com/matches/1829609\", 1829609], [\"https://fr.whoscored.com/matches/1829610\", 1829610], [\"https://fr.whoscored.com/matches/1829611\", 1829611], [\"https://fr.whoscored.com/matches/1829612\", 1829612], [\"https://fr.whoscored.com/matches/1829613\", 1829613], [\"https://fr.whoscored.com/matches/1829625\", 1829625], [\"https://fr.whoscored.com/matches/1829626\", 1829626], [\"https://fr.whoscored.com/matches/1829627\", 1829627], [\"https://fr.whoscored.com/matches/1829628\", 1829628], [\"https://fr.whoscored.com/matches/1829629\", 1829629], [\"https://fr.whoscored.com/matches/1829777\", 1829777], [\"https://fr.whoscored.com/matches/1829778\", 1829778], [\"https://fr.whoscored.com/matches/1829779\", 1829779], [\"https://fr.whoscored.com/matches/1829780\", 1829780], [\"https://fr.whoscored.com/matches/1829781\", 1829781], [\"https://fr.whoscored.com/matches/1829782\", 1829782], [\"https://fr.whoscored.com/matches/1829783\", 1829783], [\"https://fr.whoscored.com/matches/1829784\", 1829784], [\"https://fr.whoscored.com/matches/1829785\", 1829785], [\"https://fr.whoscored.com/matches/1829786\", 1829786], [\"https://fr.whoscored.com/matches/1829787\", 1829787], [\"https://fr.whoscored.com/matches/1829792\", 1829792], [\"https://fr.whoscored.com/matches/1829793\", 1829793], [\"https://fr.whoscored.com/matches/1829794\", 1829794], [\"https://fr.whoscored.com/matches/1829795\", 1829795], [\"https://fr.whoscored.com/matches/1829796\", 1829796], [\"https://fr.whoscored.com/matches/1829797\", 1829797], [\"https://fr.whoscored.com/matches/1829798\", 1829798], [\"https://fr.whoscored.com/matches/1829810\", 1829810], [\"https://fr.whoscored.com/matches/1829811\", 1829811], [\"https://fr.whoscored.com/matches/1829812\", 1829812], [\"https://fr.whoscored.com/matches/1829813\", 1829813], [\"https://fr.whoscored.com/matches/1829814\", 1829814], [\"https://fr.whoscored.com/matches/1829815\", 1829815], [\"https://fr.whoscored.com/matches/1829816\", 1829816], [\"https://fr.whoscored.com/matches/1829943\", 1829943], [\"https://fr.whoscored.com/matches/1829945\", 1829945], [\"https://fr.whoscored.com/matches/1829947\", 1829947], [\"https://fr.whoscored.com/matches/1829949\", 1829949], [\"https://fr.whoscored.com/matches/1829951\", 1829951], [\"https://fr.whoscored.com/matches/1829953\", 1829953]];\n",
       "\n",
       "        // Define the dt_args\n",
       "        let dt_args = {\"layout\": {\"topStart\": \"pageLength\", \"topEnd\": \"search\", \"bottomStart\": \"info\", \"bottomEnd\": \"paging\"}, \"order\": [], \"warn_on_selected_rows_not_rendered\": true};\n",
       "        dt_args[\"data\"] = data;\n",
       "\n",
       "        \n",
       "        new DataTable(table, dt_args);\n",
       "    });\n",
       "</script>\n"
      ],
      "text/plain": [
       "<IPython.core.display.HTML object>"
      ]
     },
     "metadata": {},
     "output_type": "display_data"
    },
    {
     "name": "stdout",
     "output_type": "stream",
     "text": [
      "Errors :\n"
     ]
    },
    {
     "data": {
      "text/html": [
       "<table id=\"itables_93d6412f_f37c_4a65_b88e_638b650d0264\" class=\"display nowrap\" data-quarto-disable-processing=\"true\" style=\"table-layout:auto;width:auto;margin:auto;caption-side:bottom\">\n",
       "<thead>\n",
       "    <tr style=\"text-align: right;\">\n",
       "      \n",
       "      <th>link</th>\n",
       "      <th>num_lien</th>\n",
       "    </tr>\n",
       "  </thead><tbody><tr>\n",
       "<td style=\"vertical-align:middle; text-align:left\">\n",
       "<a href=https://mwouts.github.io/itables/><svg class=\"main-svg\" xmlns=\"http://www.w3.org/2000/svg\" xmlns:xlink=\"http://www.w3.org/1999/xlink\"\n",
       "width=\"64\" viewBox=\"0 0 500 400\" style=\"font-family: 'Droid Sans', sans-serif;\">\n",
       "    <g style=\"fill:#d9d7fc\">\n",
       "        <path d=\"M100,400H500V357H100Z\" />\n",
       "        <path d=\"M100,300H400V257H100Z\" />\n",
       "        <path d=\"M0,200H400V157H0Z\" />\n",
       "        <path d=\"M100,100H500V57H100Z\" />\n",
       "        <path d=\"M100,350H500V307H100Z\" />\n",
       "        <path d=\"M100,250H400V207H100Z\" />\n",
       "        <path d=\"M0,150H400V107H0Z\" />\n",
       "        <path d=\"M100,50H500V7H100Z\" />\n",
       "    </g>\n",
       "    <g style=\"fill:#1a1366;stroke:#1a1366;\">\n",
       "   <rect x=\"100\" y=\"7\" width=\"400\" height=\"43\">\n",
       "    <animate\n",
       "      attributeName=\"width\"\n",
       "      values=\"0;400;0\"\n",
       "      dur=\"5s\"\n",
       "      repeatCount=\"indefinite\" />\n",
       "      <animate\n",
       "      attributeName=\"x\"\n",
       "      values=\"100;100;500\"\n",
       "      dur=\"5s\"\n",
       "      repeatCount=\"indefinite\" />\n",
       "  </rect>\n",
       "        <rect x=\"0\" y=\"107\" width=\"400\" height=\"43\">\n",
       "    <animate\n",
       "      attributeName=\"width\"\n",
       "      values=\"0;400;0\"\n",
       "      dur=\"3.5s\"\n",
       "      repeatCount=\"indefinite\" />\n",
       "    <animate\n",
       "      attributeName=\"x\"\n",
       "      values=\"0;0;400\"\n",
       "      dur=\"3.5s\"\n",
       "      repeatCount=\"indefinite\" />\n",
       "  </rect>\n",
       "        <rect x=\"100\" y=\"207\" width=\"300\" height=\"43\">\n",
       "    <animate\n",
       "      attributeName=\"width\"\n",
       "      values=\"0;300;0\"\n",
       "      dur=\"3s\"\n",
       "      repeatCount=\"indefinite\" />\n",
       "    <animate\n",
       "      attributeName=\"x\"\n",
       "      values=\"100;100;400\"\n",
       "      dur=\"3s\"\n",
       "      repeatCount=\"indefinite\" />\n",
       "  </rect>\n",
       "        <rect x=\"100\" y=\"307\" width=\"400\" height=\"43\">\n",
       "    <animate\n",
       "      attributeName=\"width\"\n",
       "      values=\"0;400;0\"\n",
       "      dur=\"4s\"\n",
       "      repeatCount=\"indefinite\" />\n",
       "      <animate\n",
       "      attributeName=\"x\"\n",
       "      values=\"100;100;500\"\n",
       "      dur=\"4s\"\n",
       "      repeatCount=\"indefinite\" />\n",
       "  </rect>\n",
       "        <g style=\"fill:transparent;stroke-width:8; stroke-linejoin:round\" rx=\"5\">\n",
       "            <g transform=\"translate(45 50) rotate(-45)\">\n",
       "                <circle r=\"33\" cx=\"0\" cy=\"0\" />\n",
       "                <rect x=\"-8\" y=\"32\" width=\"16\" height=\"30\" />\n",
       "            </g>\n",
       "\n",
       "            <g transform=\"translate(450 152)\">\n",
       "                <polyline points=\"-15,-20 -35,-20 -35,40 25,40 25,20\" />\n",
       "                <rect x=\"-15\" y=\"-40\" width=\"60\" height=\"60\" />\n",
       "            </g>\n",
       "\n",
       "            <g transform=\"translate(50 352)\">\n",
       "                <polygon points=\"-35,-5 0,-40 35,-5\" />\n",
       "                <polygon points=\"-35,10 0,45 35,10\" />\n",
       "            </g>\n",
       "\n",
       "            <g transform=\"translate(75 250)\">\n",
       "                <polyline points=\"-30,30 -60,0 -30,-30\" />\n",
       "                <polyline points=\"0,30 -30,0 0,-30\" />\n",
       "            </g>\n",
       "\n",
       "            <g transform=\"translate(425 250) rotate(180)\">\n",
       "                <polyline points=\"-30,30 -60,0 -30,-30\" />\n",
       "                <polyline points=\"0,30 -30,0 0,-30\" />\n",
       "            </g>\n",
       "        </g>\n",
       "    </g>\n",
       "</svg>\n",
       "</a>\n",
       "Loading ITables v2.2.5 from the internet...\n",
       "(need <a href=https://mwouts.github.io/itables/troubleshooting.html>help</a>?)</td>\n",
       "</tr></tbody>\n",
       "</table>\n",
       "<link href=\"https://www.unpkg.com/dt_for_itables@2.0.13/dt_bundle.css\" rel=\"stylesheet\">\n",
       "<script type=\"module\">\n",
       "    import {DataTable, jQuery as $} from 'https://www.unpkg.com/dt_for_itables@2.0.13/dt_bundle.js';\n",
       "\n",
       "    document.querySelectorAll(\"#itables_93d6412f_f37c_4a65_b88e_638b650d0264:not(.dataTable)\").forEach(table => {\n",
       "        if (!(table instanceof HTMLTableElement))\n",
       "            return;\n",
       "\n",
       "        // Define the table data\n",
       "        const data = [];\n",
       "\n",
       "        // Define the dt_args\n",
       "        let dt_args = {\"layout\": {\"topStart\": null, \"topEnd\": null, \"bottomStart\": null, \"bottomEnd\": null}, \"order\": [], \"warn_on_selected_rows_not_rendered\": true};\n",
       "        dt_args[\"data\"] = data;\n",
       "\n",
       "        \n",
       "        new DataTable(table, dt_args);\n",
       "    });\n",
       "</script>\n"
      ],
      "text/plain": [
       "<IPython.core.display.HTML object>"
      ]
     },
     "metadata": {},
     "output_type": "display_data"
    },
    {
     "name": "stdout",
     "output_type": "stream",
     "text": [
      "NA's :\n"
     ]
    },
    {
     "data": {
      "text/html": [
       "<table id=\"itables_daef441e_4fb2_4d13_bedc_0e6a3df1b55f\" class=\"display nowrap\" data-quarto-disable-processing=\"true\" style=\"table-layout:auto;width:auto;margin:auto;caption-side:bottom\">\n",
       "<thead>\n",
       "    <tr style=\"text-align: right;\">\n",
       "      <th></th>\n",
       "      <th>link</th>\n",
       "      <th>num_lien</th>\n",
       "      <th>pays</th>\n",
       "      <th>ligue</th>\n",
       "      <th>annee</th>\n",
       "      <th>equipes</th>\n",
       "    </tr>\n",
       "  </thead><tbody><tr>\n",
       "<td style=\"vertical-align:middle; text-align:left\">\n",
       "<a href=https://mwouts.github.io/itables/><svg class=\"main-svg\" xmlns=\"http://www.w3.org/2000/svg\" xmlns:xlink=\"http://www.w3.org/1999/xlink\"\n",
       "width=\"64\" viewBox=\"0 0 500 400\" style=\"font-family: 'Droid Sans', sans-serif;\">\n",
       "    <g style=\"fill:#d9d7fc\">\n",
       "        <path d=\"M100,400H500V357H100Z\" />\n",
       "        <path d=\"M100,300H400V257H100Z\" />\n",
       "        <path d=\"M0,200H400V157H0Z\" />\n",
       "        <path d=\"M100,100H500V57H100Z\" />\n",
       "        <path d=\"M100,350H500V307H100Z\" />\n",
       "        <path d=\"M100,250H400V207H100Z\" />\n",
       "        <path d=\"M0,150H400V107H0Z\" />\n",
       "        <path d=\"M100,50H500V7H100Z\" />\n",
       "    </g>\n",
       "    <g style=\"fill:#1a1366;stroke:#1a1366;\">\n",
       "   <rect x=\"100\" y=\"7\" width=\"400\" height=\"43\">\n",
       "    <animate\n",
       "      attributeName=\"width\"\n",
       "      values=\"0;400;0\"\n",
       "      dur=\"5s\"\n",
       "      repeatCount=\"indefinite\" />\n",
       "      <animate\n",
       "      attributeName=\"x\"\n",
       "      values=\"100;100;500\"\n",
       "      dur=\"5s\"\n",
       "      repeatCount=\"indefinite\" />\n",
       "  </rect>\n",
       "        <rect x=\"0\" y=\"107\" width=\"400\" height=\"43\">\n",
       "    <animate\n",
       "      attributeName=\"width\"\n",
       "      values=\"0;400;0\"\n",
       "      dur=\"3.5s\"\n",
       "      repeatCount=\"indefinite\" />\n",
       "    <animate\n",
       "      attributeName=\"x\"\n",
       "      values=\"0;0;400\"\n",
       "      dur=\"3.5s\"\n",
       "      repeatCount=\"indefinite\" />\n",
       "  </rect>\n",
       "        <rect x=\"100\" y=\"207\" width=\"300\" height=\"43\">\n",
       "    <animate\n",
       "      attributeName=\"width\"\n",
       "      values=\"0;300;0\"\n",
       "      dur=\"3s\"\n",
       "      repeatCount=\"indefinite\" />\n",
       "    <animate\n",
       "      attributeName=\"x\"\n",
       "      values=\"100;100;400\"\n",
       "      dur=\"3s\"\n",
       "      repeatCount=\"indefinite\" />\n",
       "  </rect>\n",
       "        <rect x=\"100\" y=\"307\" width=\"400\" height=\"43\">\n",
       "    <animate\n",
       "      attributeName=\"width\"\n",
       "      values=\"0;400;0\"\n",
       "      dur=\"4s\"\n",
       "      repeatCount=\"indefinite\" />\n",
       "      <animate\n",
       "      attributeName=\"x\"\n",
       "      values=\"100;100;500\"\n",
       "      dur=\"4s\"\n",
       "      repeatCount=\"indefinite\" />\n",
       "  </rect>\n",
       "        <g style=\"fill:transparent;stroke-width:8; stroke-linejoin:round\" rx=\"5\">\n",
       "            <g transform=\"translate(45 50) rotate(-45)\">\n",
       "                <circle r=\"33\" cx=\"0\" cy=\"0\" />\n",
       "                <rect x=\"-8\" y=\"32\" width=\"16\" height=\"30\" />\n",
       "            </g>\n",
       "\n",
       "            <g transform=\"translate(450 152)\">\n",
       "                <polyline points=\"-15,-20 -35,-20 -35,40 25,40 25,20\" />\n",
       "                <rect x=\"-15\" y=\"-40\" width=\"60\" height=\"60\" />\n",
       "            </g>\n",
       "\n",
       "            <g transform=\"translate(50 352)\">\n",
       "                <polygon points=\"-35,-5 0,-40 35,-5\" />\n",
       "                <polygon points=\"-35,10 0,45 35,10\" />\n",
       "            </g>\n",
       "\n",
       "            <g transform=\"translate(75 250)\">\n",
       "                <polyline points=\"-30,30 -60,0 -30,-30\" />\n",
       "                <polyline points=\"0,30 -30,0 0,-30\" />\n",
       "            </g>\n",
       "\n",
       "            <g transform=\"translate(425 250) rotate(180)\">\n",
       "                <polyline points=\"-30,30 -60,0 -30,-30\" />\n",
       "                <polyline points=\"0,30 -30,0 0,-30\" />\n",
       "            </g>\n",
       "        </g>\n",
       "    </g>\n",
       "</svg>\n",
       "</a>\n",
       "Loading ITables v2.2.5 from the internet...\n",
       "(need <a href=https://mwouts.github.io/itables/troubleshooting.html>help</a>?)</td>\n",
       "</tr></tbody>\n",
       "</table>\n",
       "<link href=\"https://www.unpkg.com/dt_for_itables@2.0.13/dt_bundle.css\" rel=\"stylesheet\">\n",
       "<script type=\"module\">\n",
       "    import {DataTable, jQuery as $} from 'https://www.unpkg.com/dt_for_itables@2.0.13/dt_bundle.js';\n",
       "\n",
       "    document.querySelectorAll(\"#itables_daef441e_4fb2_4d13_bedc_0e6a3df1b55f:not(.dataTable)\").forEach(table => {\n",
       "        if (!(table instanceof HTMLTableElement))\n",
       "            return;\n",
       "\n",
       "        // Define the table data\n",
       "        const data = [];\n",
       "\n",
       "        // Define the dt_args\n",
       "        let dt_args = {\"layout\": {\"topStart\": null, \"topEnd\": null, \"bottomStart\": null, \"bottomEnd\": null}, \"order\": [], \"warn_on_selected_rows_not_rendered\": true};\n",
       "        dt_args[\"data\"] = data;\n",
       "\n",
       "        \n",
       "        new DataTable(table, dt_args);\n",
       "    });\n",
       "</script>\n"
      ],
      "text/plain": [
       "<IPython.core.display.HTML object>"
      ]
     },
     "metadata": {},
     "output_type": "display_data"
    }
   ],
   "source": [
    "import ace_tools_open as tools\n",
    "import pandas as pd\n",
    "\n",
    "links = pd.read_csv(\"Whoscored/clean/links.csv\")\n",
    "not_available = pd.read_csv(\"Whoscored/clean/not_availables.csv\")\n",
    "try:\n",
    "    error = pd.read_csv(\"Whoscored/clean/errors.csv\")\n",
    "except:\n",
    "    error = pd.DataFrame()\n",
    "\n",
    "print(\"Intervalle des données :\", int(links[\"num_lien\"].min()), max([int(links[\"num_lien\"].max()), int(not_available[\"num_lien\"].max())]))\n",
    "print(\"Maximum :\", max([int(links[\"num_lien\"].max()), int(not_available[\"num_lien\"].max())]))\n",
    "print(\"Nombre d'observation :\", len(links) + len(not_available))\n",
    "print(\"\\n\")\n",
    "tools.display_dataframe_to_user(\"Links :\", links)\n",
    "tools.display_dataframe_to_user(\"Not availables :\", not_available)\n",
    "tools.display_dataframe_to_user(\"Errors :\", error)\n",
    "tools.display_dataframe_to_user(\"NA's :\", links[links[\"num_lien\"].isna()])"
   ]
  },
  {
   "cell_type": "code",
   "execution_count": null,
   "metadata": {},
   "outputs": [
    {
     "name": "stdout",
     "output_type": "stream",
     "text": [
      "\n"
     ]
    },
    {
     "data": {
      "text/html": [
       "<table id=\"itables_c502832f_1901_4730_b6c0_2d25d04b2453\" class=\"display nowrap\" data-quarto-disable-processing=\"true\" style=\"table-layout:auto;width:auto;margin:auto;caption-side:bottom\">\n",
       "<thead>\n",
       "    <tr style=\"text-align: right;\">\n",
       "      <th></th>\n",
       "      <th>link</th>\n",
       "      <th>num_lien</th>\n",
       "      <th>pays</th>\n",
       "      <th>ligue</th>\n",
       "      <th>annee</th>\n",
       "      <th>equipes</th>\n",
       "    </tr>\n",
       "  </thead><tbody><tr>\n",
       "<td style=\"vertical-align:middle; text-align:left\">\n",
       "<a href=https://mwouts.github.io/itables/><svg class=\"main-svg\" xmlns=\"http://www.w3.org/2000/svg\" xmlns:xlink=\"http://www.w3.org/1999/xlink\"\n",
       "width=\"64\" viewBox=\"0 0 500 400\" style=\"font-family: 'Droid Sans', sans-serif;\">\n",
       "    <g style=\"fill:#d9d7fc\">\n",
       "        <path d=\"M100,400H500V357H100Z\" />\n",
       "        <path d=\"M100,300H400V257H100Z\" />\n",
       "        <path d=\"M0,200H400V157H0Z\" />\n",
       "        <path d=\"M100,100H500V57H100Z\" />\n",
       "        <path d=\"M100,350H500V307H100Z\" />\n",
       "        <path d=\"M100,250H400V207H100Z\" />\n",
       "        <path d=\"M0,150H400V107H0Z\" />\n",
       "        <path d=\"M100,50H500V7H100Z\" />\n",
       "    </g>\n",
       "    <g style=\"fill:#1a1366;stroke:#1a1366;\">\n",
       "   <rect x=\"100\" y=\"7\" width=\"400\" height=\"43\">\n",
       "    <animate\n",
       "      attributeName=\"width\"\n",
       "      values=\"0;400;0\"\n",
       "      dur=\"5s\"\n",
       "      repeatCount=\"indefinite\" />\n",
       "      <animate\n",
       "      attributeName=\"x\"\n",
       "      values=\"100;100;500\"\n",
       "      dur=\"5s\"\n",
       "      repeatCount=\"indefinite\" />\n",
       "  </rect>\n",
       "        <rect x=\"0\" y=\"107\" width=\"400\" height=\"43\">\n",
       "    <animate\n",
       "      attributeName=\"width\"\n",
       "      values=\"0;400;0\"\n",
       "      dur=\"3.5s\"\n",
       "      repeatCount=\"indefinite\" />\n",
       "    <animate\n",
       "      attributeName=\"x\"\n",
       "      values=\"0;0;400\"\n",
       "      dur=\"3.5s\"\n",
       "      repeatCount=\"indefinite\" />\n",
       "  </rect>\n",
       "        <rect x=\"100\" y=\"207\" width=\"300\" height=\"43\">\n",
       "    <animate\n",
       "      attributeName=\"width\"\n",
       "      values=\"0;300;0\"\n",
       "      dur=\"3s\"\n",
       "      repeatCount=\"indefinite\" />\n",
       "    <animate\n",
       "      attributeName=\"x\"\n",
       "      values=\"100;100;400\"\n",
       "      dur=\"3s\"\n",
       "      repeatCount=\"indefinite\" />\n",
       "  </rect>\n",
       "        <rect x=\"100\" y=\"307\" width=\"400\" height=\"43\">\n",
       "    <animate\n",
       "      attributeName=\"width\"\n",
       "      values=\"0;400;0\"\n",
       "      dur=\"4s\"\n",
       "      repeatCount=\"indefinite\" />\n",
       "      <animate\n",
       "      attributeName=\"x\"\n",
       "      values=\"100;100;500\"\n",
       "      dur=\"4s\"\n",
       "      repeatCount=\"indefinite\" />\n",
       "  </rect>\n",
       "        <g style=\"fill:transparent;stroke-width:8; stroke-linejoin:round\" rx=\"5\">\n",
       "            <g transform=\"translate(45 50) rotate(-45)\">\n",
       "                <circle r=\"33\" cx=\"0\" cy=\"0\" />\n",
       "                <rect x=\"-8\" y=\"32\" width=\"16\" height=\"30\" />\n",
       "            </g>\n",
       "\n",
       "            <g transform=\"translate(450 152)\">\n",
       "                <polyline points=\"-15,-20 -35,-20 -35,40 25,40 25,20\" />\n",
       "                <rect x=\"-15\" y=\"-40\" width=\"60\" height=\"60\" />\n",
       "            </g>\n",
       "\n",
       "            <g transform=\"translate(50 352)\">\n",
       "                <polygon points=\"-35,-5 0,-40 35,-5\" />\n",
       "                <polygon points=\"-35,10 0,45 35,10\" />\n",
       "            </g>\n",
       "\n",
       "            <g transform=\"translate(75 250)\">\n",
       "                <polyline points=\"-30,30 -60,0 -30,-30\" />\n",
       "                <polyline points=\"0,30 -30,0 0,-30\" />\n",
       "            </g>\n",
       "\n",
       "            <g transform=\"translate(425 250) rotate(180)\">\n",
       "                <polyline points=\"-30,30 -60,0 -30,-30\" />\n",
       "                <polyline points=\"0,30 -30,0 0,-30\" />\n",
       "            </g>\n",
       "        </g>\n",
       "    </g>\n",
       "</svg>\n",
       "</a>\n",
       "Loading ITables v2.2.5 from the internet...\n",
       "(need <a href=https://mwouts.github.io/itables/troubleshooting.html>help</a>?)</td>\n",
       "</tr></tbody>\n",
       "</table>\n",
       "<link href=\"https://www.unpkg.com/dt_for_itables@2.0.13/dt_bundle.css\" rel=\"stylesheet\">\n",
       "<script type=\"module\">\n",
       "    import {DataTable, jQuery as $} from 'https://www.unpkg.com/dt_for_itables@2.0.13/dt_bundle.js';\n",
       "\n",
       "    document.querySelectorAll(\"#itables_c502832f_1901_4730_b6c0_2d25d04b2453:not(.dataTable)\").forEach(table => {\n",
       "        if (!(table instanceof HTMLTableElement))\n",
       "            return;\n",
       "\n",
       "        // Define the table data\n",
       "        const data = [[3197, \"/matches/1824000/live/france-ligue-1-2024-2025-montpellier-strasbourg\", 1824000, \"france\", \"ligue-1\", \"2024-2025\", \"montpellier-strasbourg\"], [3789, \"/matches/1824747/live/france-ligue-1-2024-2025-montpellier-monaco\", 1824747, \"france\", \"ligue-1\", \"2024-2025\", \"montpellier-monaco\"], [3795, \"/matches/1824753/live/france-ligue-1-2024-2025-toulouse-montpellier\", 1824753, \"france\", \"ligue-1\", \"2024-2025\", \"toulouse-montpellier\"], [3804, \"/matches/1824762/live/france-ligue-1-2024-2025-montpellier-lens\", 1824762, \"france\", \"ligue-1\", \"2024-2025\", \"montpellier-lens\"], [3813, \"/matches/1824771/live/france-ligue-1-2024-2025-strasbourg-montpellier\", 1824771, \"france\", \"ligue-1\", \"2024-2025\", \"strasbourg-montpellier\"], [3820, \"/matches/1824778/live/france-ligue-1-2024-2025-paris-saint-germain-montpellier\", 1824778, \"france\", \"ligue-1\", \"2024-2025\", \"paris-saint-germain-montpellier\"], [3825, \"/matches/1824783/live/france-ligue-1-2024-2025-montpellier-nantes\", 1824783, \"france\", \"ligue-1\", \"2024-2025\", \"montpellier-nantes\"], [3826, \"/matches/1824784/live/france-ligue-1-2024-2025-rennes-montpellier\", 1824784, \"france\", \"ligue-1\", \"2024-2025\", \"rennes-montpellier\"], [3835, \"/matches/1824795/live/france-ligue-1-2024-2025-montpellier-auxerre\", 1824795, \"france\", \"ligue-1\", \"2024-2025\", \"montpellier-auxerre\"], [3850, \"/matches/1824810/live/france-ligue-1-2024-2025-monaco-montpellier\", 1824810, \"france\", \"ligue-1\", \"2024-2025\", \"monaco-montpellier\"], [3877, \"/matches/1824839/live/france-ligue-1-2024-2025-nice-montpellier\", 1824839, \"france\", \"ligue-1\", \"2024-2025\", \"nice-montpellier\"], [3882, \"/matches/1824844/live/france-ligue-1-2024-2025-montpellier-rennes\", 1824844, \"france\", \"ligue-1\", \"2024-2025\", \"montpellier-rennes\"], [3894, \"/matches/1824856/live/france-ligue-1-2024-2025-lille-montpellier\", 1824856, \"france\", \"ligue-1\", \"2024-2025\", \"lille-montpellier\"], [3900, \"/matches/1824862/live/france-ligue-1-2024-2025-reims-montpellier\", 1824862, \"france\", \"ligue-1\", \"2024-2025\", \"reims-montpellier\"], [3902, \"/matches/1824864/live/france-ligue-1-2024-2025-montpellier-marseille\", 1824864, \"france\", \"ligue-1\", \"2024-2025\", \"montpellier-marseille\"], [3917, \"/matches/1824879/live/france-ligue-1-2024-2025-montpellier-toulouse\", 1824879, \"france\", \"ligue-1\", \"2024-2025\", \"montpellier-toulouse\"], [3929, \"/matches/1824891/live/france-ligue-1-2024-2025-montpellier-brest\", 1824891, \"france\", \"ligue-1\", \"2024-2025\", \"montpellier-brest\"], [3930, \"/matches/1824892/live/france-ligue-1-2024-2025-le-havre-montpellier\", 1824892, \"france\", \"ligue-1\", \"2024-2025\", \"le-havre-montpellier\"], [3944, \"/matches/1824906/live/france-ligue-1-2024-2025-montpellier-saint-etienne\", 1824906, \"france\", \"ligue-1\", \"2024-2025\", \"montpellier-saint-etienne\"], [3952, \"/matches/1824914/live/france-ligue-1-2024-2025-auxerre-montpellier\", 1824914, \"france\", \"ligue-1\", \"2024-2025\", \"auxerre-montpellier\"], [3963, \"/matches/1824948/live/france-ligue-1-2024-2025-saint-etienne-montpellier\", 1824948, \"france\", \"ligue-1\", \"2024-2025\", \"saint-etienne-montpellier\"], [3973, \"/matches/1824965/live/france-ligue-1-2024-2025-montpellier-lille\", 1824965, \"france\", \"ligue-1\", \"2024-2025\", \"montpellier-lille\"], [3983, \"/matches/1824975/live/france-ligue-1-2024-2025-lens-montpellier\", 1824975, \"france\", \"ligue-1\", \"2024-2025\", \"lens-montpellier\"], [3992, \"/matches/1824984/live/france-ligue-1-2024-2025-montpellier-nice\", 1824984, \"france\", \"ligue-1\", \"2024-2025\", \"montpellier-nice\"], [3997, \"/matches/1824989/live/france-ligue-1-2024-2025-lyon-montpellier\", 1824989, \"france\", \"ligue-1\", \"2024-2025\", \"lyon-montpellier\"], [4010, \"/matches/1825002/live/france-ligue-1-2024-2025-montpellier-angers\", 1825002, \"france\", \"ligue-1\", \"2024-2025\", \"montpellier-angers\"]];\n",
       "\n",
       "        // Define the dt_args\n",
       "        let dt_args = {\"layout\": {\"topStart\": \"pageLength\", \"topEnd\": \"search\", \"bottomStart\": \"info\", \"bottomEnd\": \"paging\"}, \"order\": [], \"warn_on_selected_rows_not_rendered\": true};\n",
       "        dt_args[\"data\"] = data;\n",
       "\n",
       "        \n",
       "        new DataTable(table, dt_args);\n",
       "    });\n",
       "</script>\n"
      ],
      "text/plain": [
       "<IPython.core.display.HTML object>"
      ]
     },
     "metadata": {},
     "output_type": "display_data"
    }
   ],
   "source": [
    "df_france = links[links[\"pays\"] == \"france\"]\n",
    "df_ligue1 = df_france[df_france[\"ligue\"] == \"ligue-1\"]\n",
    "club = df_ligue1[df_ligue1[\"equipes\"].str.contains(\"montpellier\", case=False, na=False)]\n",
    "import ace_tools_open as tools\n",
    "tools.display_dataframe_to_user(\"\", club)"
   ]
  },
  {
   "cell_type": "markdown",
   "metadata": {},
   "source": [
    "# Current month link Whoscored"
   ]
  },
  {
   "cell_type": "code",
   "execution_count": 164,
   "metadata": {},
   "outputs": [],
   "source": [
    "from selenium import webdriver\n",
    "from selenium.webdriver.firefox.service import Service\n",
    "from selenium.webdriver.firefox.options import Options\n",
    "from selenium.webdriver.common.by import By\n",
    "from selenium.webdriver.support.ui import WebDriverWait\n",
    "from selenium.webdriver.support import expected_conditions as EC\n",
    "from webdriver_manager.firefox import GeckoDriverManager\n",
    "from bs4 import BeautifulSoup\n",
    "import time\n",
    "\n",
    "def get_link_current_month(url):\n",
    "\n",
    "    options = Options()\n",
    "    options.add_argument(\"--headless\")  # Mode headless activé\n",
    "    options.add_argument(\"--disable-gpu\")\n",
    "    options.add_argument(\"--no-sandbox\")\n",
    "\n",
    "    service = Service(GeckoDriverManager().install())\n",
    "    driver = webdriver.Firefox(service=service, options=options)\n",
    "\n",
    "    all_links = []\n",
    "\n",
    "    try:\n",
    "        driver.get(url)\n",
    "        \n",
    "        # Accepter les cookies si la bannière apparaît\n",
    "        try:\n",
    "            accept_cookies = WebDriverWait(driver, 5).until(\n",
    "                EC.element_to_be_clickable((By.CLASS_NAME, \"qc-cmp-cleanslate\"))\n",
    "            )\n",
    "            driver.execute_script(\"arguments[0].click();\", accept_cookies)\n",
    "            time.sleep(2)\n",
    "        except Exception:\n",
    "            print(\"Bannière de cookies non détectée.\")\n",
    "        \n",
    "        time.sleep(2)  # Attendre le chargement de la page\n",
    "        \n",
    "        # Récupération du HTML\n",
    "        html = driver.page_source\n",
    "        soup = BeautifulSoup(html, \"html.parser\")\n",
    "        \n",
    "        # Extraction des liens\n",
    "        code = soup.find_all(\"div\", class_=\"Match-module_right_oddsOn__o-ux-\")\n",
    "        for c in code:\n",
    "            if c.find(\"a\") is not None:\n",
    "                all_links.append(\"https://fr.whoscored.com\" + c.find(\"a\").get(\"href\"))\n",
    "            \n",
    "    finally:\n",
    "        driver.quit()\n",
    "\n",
    "    return all_links\n"
   ]
  },
  {
   "cell_type": "code",
   "execution_count": null,
   "metadata": {},
   "outputs": [],
   "source": [
    "urls = [\"https://fr.whoscored.com/regions/206/tournaments/4/seasons/10317/stages/23401/show/espagne-laliga-2024-2025\",\n",
    "        \"https://fr.whoscored.com/regions/108/tournaments/5/seasons/10375/stages/23490/show/italie-serie-a-2024-2025\",\n",
    "        \"https://fr.whoscored.com/regions/81/tournaments/3/seasons/10365/stages/23471/show/allemagne-bundesliga-2024-2025\",\n",
    "        \"https://fr.whoscored.com/regions/74/tournaments/22/seasons/10329/stages/23414/show/france-ligue-1-2024-2025\",\n",
    "        \"https://fr.whoscored.com/regions/252/tournaments/2/seasons/10316/stages/23400/show/angleterre-premier-league-2024-2025\"]"
   ]
  },
  {
   "cell_type": "code",
   "execution_count": 165,
   "metadata": {},
   "outputs": [
    {
     "data": {
      "text/plain": [
       "['https://fr.whoscored.com/matches/1824923/preview/france-ligue-1-2024-2025-nice-nantes']"
      ]
     },
     "execution_count": 165,
     "metadata": {},
     "output_type": "execute_result"
    }
   ],
   "source": [
    "url = \"https://fr.whoscored.com/regions/74/tournaments/22/seasons/10329/stages/23414/fixtures/france-ligue-1-2024-2025\"\n",
    "links = get_link_current_month(url)\n",
    "links"
   ]
  },
  {
   "cell_type": "markdown",
   "metadata": {},
   "source": [
    "# Rate from Whoscored"
   ]
  },
  {
   "cell_type": "code",
   "execution_count": 88,
   "metadata": {},
   "outputs": [],
   "source": [
    "import re\n",
    "import pandas as pd\n",
    "from tqdm import tqdm\n",
    "import ace_tools_open as tools\n",
    "from selenium import webdriver\n",
    "from selenium.webdriver.firefox.service import Service\n",
    "from webdriver_manager.firefox import GeckoDriverManager\n",
    "from selenium.webdriver.firefox.options import Options\n",
    "from selenium.webdriver.common.by import By\n",
    "from selenium.webdriver.support.ui import WebDriverWait\n",
    "from selenium.webdriver.support import expected_conditions as EC\n",
    "from bs4 import BeautifulSoup\n",
    "from datetime import datetime\n",
    "\n",
    "def get_whoscored_links(league):\n",
    "    df = pd.read_csv(\"Whoscored/urls/clean/links.csv\")\n",
    "    links = []\n",
    "    for link in df[df[\"ligue\"] == league].iloc[:, 0].tolist():\n",
    "        links.append(\"https://fr.whoscored.com/\" + link)\n",
    "    return links\n",
    "\n",
    "\n",
    "def get_event(soup):\n",
    "    code = soup.find_all(\"a\", class_=\"team-link\")\n",
    "    team_dom = code[0].text\n",
    "    team_ext = code[1].text\n",
    "\n",
    "    c = soup.find_all(\"div\", class_=\"info-block cleared\")[2].text.replace(\"Coup d'envoi:\", \"\").split(\", \")\n",
    "    date_str = c[1]\n",
    "    date_obj = datetime.strptime(date_str, '%d-%b-%y')  # Convertir en objet datetime\n",
    "    formatted_date = date_obj.strftime('%d/%m/%Y')  # Reformater en \"01/03/2025\"\n",
    "    date = formatted_date\n",
    "    heure = c[0].split(\"Date\")[0]\n",
    "    stade = soup.find_all(\"span\", class_=\"value\")[0].text\n",
    "    #arbitre = soup.find_all(\"span\", class_=\"value\")[2].text.split(\". \")[1]\n",
    "    affluence = int(soup.find_all(\"span\", class_=\"value\")[1].text.replace(\",\", \"\"))\n",
    "\n",
    "    return date, heure, team_dom, team_ext, affluence, stade\n",
    "\n",
    "\n",
    "def get_rate(soup, link):\n",
    "\n",
    "    # Extraction des notes\n",
    "    rate = [c.text.strip() if c.text.strip() else \"NaN\" for c in soup.find_all(\"span\", class_=\"player-stat-value\")]\n",
    "\n",
    "    # Extraction des noms des joueurs\n",
    "    player = [c.text.strip() for c in soup.find_all(\"span\", class_=\"player-name\")][:len(rate)]\n",
    "    n = len(player)\n",
    "\n",
    "    # Event\n",
    "    match = re.search(r'/live/[^/-]+-([^/]+)-(\\d{4}-\\d{4})', link)\n",
    "    championnat = [match.group(1).replace('-', ' ').title()] * n\n",
    "    saison = [match.group(2)] * n\n",
    "\n",
    "    date, heure, team_dom, team_ext, affluence, stade = get_event(soup)\n",
    "\n",
    "    date = [date] * n\n",
    "    heure = [heure] * n\n",
    "    team_dom = [team_dom] * n\n",
    "    team_ext = [team_ext] * n\n",
    "    affluence = [affluence] * n\n",
    "    stade = [stade] * n\n",
    "\n",
    "    # Création du DataFrame\n",
    "    df_rate = pd.DataFrame({'championnat':championnat, 'saison': saison, 'date': date, 'heure': heure, 'stade':stade, 'Equipe1': team_dom, 'Equipe2': team_ext, 'affluence':affluence, 'joueur': player, 'rate': rate})\n",
    "\n",
    "    return df_rate\n",
    "\n",
    "\n",
    "def get_page_rate(links):\n",
    "    options = Options()\n",
    "    options.add_argument(\"--headless\")  # Mode headless activé\n",
    "    options.add_argument(\"--disable-gpu\")\n",
    "    options.add_argument(\"--no-sandbox\")\n",
    "\n",
    "    service = Service(GeckoDriverManager().install())\n",
    "    driver = webdriver.Firefox(service=service, options=options)\n",
    "    driver.set_page_load_timeout(30)\n",
    "    \n",
    "    rates = pd.DataFrame()\n",
    "    errors = []\n",
    "\n",
    "    try:\n",
    "        for link in tqdm(links):\n",
    "            try:\n",
    "                driver.get(link)\n",
    "                WebDriverWait(driver, 15).until(\n",
    "                    lambda d: any(e.text.strip() for e in d.find_elements(By.CLASS_NAME, \"player-stat-value\"))\n",
    "                )\n",
    "                html = driver.page_source\n",
    "                soup = BeautifulSoup(html, \"html.parser\")\n",
    "\n",
    "                rates = pd.concat([rates, get_rate(soup, link)])\n",
    "            except Exception as e:\n",
    "                print(f\"❌ Erreur : {e}\")\n",
    "                errors.append(link)\n",
    "        \n",
    "    finally:\n",
    "        driver.quit()\n",
    "\n",
    "    return rates, pd.DataFrame(errors)\n"
   ]
  },
  {
   "cell_type": "code",
   "execution_count": 89,
   "metadata": {},
   "outputs": [
    {
     "name": "stderr",
     "output_type": "stream",
     "text": [
      " 92%|█████████▏| 220/239 [05:47<00:40,  2.13s/it]"
     ]
    },
    {
     "name": "stdout",
     "output_type": "stream",
     "text": [
      "❌ Erreur : Message: out of memory\n",
      "Stacktrace:\n",
      "RemoteError@chrome://remote/content/shared/RemoteError.sys.mjs:8:8\n",
      "WebDriverError@chrome://remote/content/shared/webdriver/Errors.sys.mjs:199:5\n",
      "UnknownError@chrome://remote/content/shared/webdriver/Errors.sys.mjs:910:5\n",
      "wrap@chrome://remote/content/shared/webdriver/Errors.sys.mjs:145:12\n",
      "sendError@chrome://remote/content/marionette/message.sys.mjs:284:29\n",
      "\n"
     ]
    },
    {
     "name": "stderr",
     "output_type": "stream",
     "text": [
      " 92%|█████████▏| 221/239 [06:17<03:09, 10.53s/it]"
     ]
    },
    {
     "name": "stdout",
     "output_type": "stream",
     "text": [
      "❌ Erreur : Message: Navigation timed out after 30000 ms\n",
      "Stacktrace:\n",
      "RemoteError@chrome://remote/content/shared/RemoteError.sys.mjs:8:8\n",
      "WebDriverError@chrome://remote/content/shared/webdriver/Errors.sys.mjs:199:5\n",
      "TimeoutError@chrome://remote/content/shared/webdriver/Errors.sys.mjs:812:5\n",
      "bail@chrome://remote/content/marionette/sync.sys.mjs:197:19\n",
      "\n"
     ]
    },
    {
     "name": "stderr",
     "output_type": "stream",
     "text": [
      "100%|██████████| 239/239 [06:47<00:00,  1.71s/it]\n"
     ]
    },
    {
     "name": "stdout",
     "output_type": "stream",
     "text": [
      "Rates :\n"
     ]
    },
    {
     "data": {
      "text/html": [
       "<table id=\"itables_075e134f_1344_4b5a_90d2_3cd4a03da8d5\" class=\"display nowrap\" data-quarto-disable-processing=\"true\" style=\"table-layout:auto;width:auto;margin:auto;caption-side:bottom\">\n",
       "<thead>\n",
       "    <tr style=\"text-align: right;\">\n",
       "      <th></th>\n",
       "      <th>championnat</th>\n",
       "      <th>saison</th>\n",
       "      <th>date</th>\n",
       "      <th>heure</th>\n",
       "      <th>stade</th>\n",
       "      <th>Equipe1</th>\n",
       "      <th>Equipe2</th>\n",
       "      <th>affluence</th>\n",
       "      <th>joueur</th>\n",
       "      <th>rate</th>\n",
       "    </tr>\n",
       "  </thead><tbody><tr>\n",
       "<td style=\"vertical-align:middle; text-align:left\">\n",
       "<a href=https://mwouts.github.io/itables/><svg class=\"main-svg\" xmlns=\"http://www.w3.org/2000/svg\" xmlns:xlink=\"http://www.w3.org/1999/xlink\"\n",
       "width=\"64\" viewBox=\"0 0 500 400\" style=\"font-family: 'Droid Sans', sans-serif;\">\n",
       "    <g style=\"fill:#d9d7fc\">\n",
       "        <path d=\"M100,400H500V357H100Z\" />\n",
       "        <path d=\"M100,300H400V257H100Z\" />\n",
       "        <path d=\"M0,200H400V157H0Z\" />\n",
       "        <path d=\"M100,100H500V57H100Z\" />\n",
       "        <path d=\"M100,350H500V307H100Z\" />\n",
       "        <path d=\"M100,250H400V207H100Z\" />\n",
       "        <path d=\"M0,150H400V107H0Z\" />\n",
       "        <path d=\"M100,50H500V7H100Z\" />\n",
       "    </g>\n",
       "    <g style=\"fill:#1a1366;stroke:#1a1366;\">\n",
       "   <rect x=\"100\" y=\"7\" width=\"400\" height=\"43\">\n",
       "    <animate\n",
       "      attributeName=\"width\"\n",
       "      values=\"0;400;0\"\n",
       "      dur=\"5s\"\n",
       "      repeatCount=\"indefinite\" />\n",
       "      <animate\n",
       "      attributeName=\"x\"\n",
       "      values=\"100;100;500\"\n",
       "      dur=\"5s\"\n",
       "      repeatCount=\"indefinite\" />\n",
       "  </rect>\n",
       "        <rect x=\"0\" y=\"107\" width=\"400\" height=\"43\">\n",
       "    <animate\n",
       "      attributeName=\"width\"\n",
       "      values=\"0;400;0\"\n",
       "      dur=\"3.5s\"\n",
       "      repeatCount=\"indefinite\" />\n",
       "    <animate\n",
       "      attributeName=\"x\"\n",
       "      values=\"0;0;400\"\n",
       "      dur=\"3.5s\"\n",
       "      repeatCount=\"indefinite\" />\n",
       "  </rect>\n",
       "        <rect x=\"100\" y=\"207\" width=\"300\" height=\"43\">\n",
       "    <animate\n",
       "      attributeName=\"width\"\n",
       "      values=\"0;300;0\"\n",
       "      dur=\"3s\"\n",
       "      repeatCount=\"indefinite\" />\n",
       "    <animate\n",
       "      attributeName=\"x\"\n",
       "      values=\"100;100;400\"\n",
       "      dur=\"3s\"\n",
       "      repeatCount=\"indefinite\" />\n",
       "  </rect>\n",
       "        <rect x=\"100\" y=\"307\" width=\"400\" height=\"43\">\n",
       "    <animate\n",
       "      attributeName=\"width\"\n",
       "      values=\"0;400;0\"\n",
       "      dur=\"4s\"\n",
       "      repeatCount=\"indefinite\" />\n",
       "      <animate\n",
       "      attributeName=\"x\"\n",
       "      values=\"100;100;500\"\n",
       "      dur=\"4s\"\n",
       "      repeatCount=\"indefinite\" />\n",
       "  </rect>\n",
       "        <g style=\"fill:transparent;stroke-width:8; stroke-linejoin:round\" rx=\"5\">\n",
       "            <g transform=\"translate(45 50) rotate(-45)\">\n",
       "                <circle r=\"33\" cx=\"0\" cy=\"0\" />\n",
       "                <rect x=\"-8\" y=\"32\" width=\"16\" height=\"30\" />\n",
       "            </g>\n",
       "\n",
       "            <g transform=\"translate(450 152)\">\n",
       "                <polyline points=\"-15,-20 -35,-20 -35,40 25,40 25,20\" />\n",
       "                <rect x=\"-15\" y=\"-40\" width=\"60\" height=\"60\" />\n",
       "            </g>\n",
       "\n",
       "            <g transform=\"translate(50 352)\">\n",
       "                <polygon points=\"-35,-5 0,-40 35,-5\" />\n",
       "                <polygon points=\"-35,10 0,45 35,10\" />\n",
       "            </g>\n",
       "\n",
       "            <g transform=\"translate(75 250)\">\n",
       "                <polyline points=\"-30,30 -60,0 -30,-30\" />\n",
       "                <polyline points=\"0,30 -30,0 0,-30\" />\n",
       "            </g>\n",
       "\n",
       "            <g transform=\"translate(425 250) rotate(180)\">\n",
       "                <polyline points=\"-30,30 -60,0 -30,-30\" />\n",
       "                <polyline points=\"0,30 -30,0 0,-30\" />\n",
       "            </g>\n",
       "        </g>\n",
       "    </g>\n",
       "</svg>\n",
       "</a>\n",
       "Loading ITables v2.2.5 from the internet...\n",
       "(need <a href=https://mwouts.github.io/itables/troubleshooting.html>help</a>?)</td>\n",
       "</tr></tbody>\n",
       "</table>\n",
       "<link href=\"https://www.unpkg.com/dt_for_itables@2.0.13/dt_bundle.css\" rel=\"stylesheet\">\n",
       "<script type=\"module\">\n",
       "    import {DataTable, jQuery as $} from 'https://www.unpkg.com/dt_for_itables@2.0.13/dt_bundle.js';\n",
       "\n",
       "    document.querySelectorAll(\"#itables_075e134f_1344_4b5a_90d2_3cd4a03da8d5:not(.dataTable)\").forEach(table => {\n",
       "        if (!(table instanceof HTMLTableElement))\n",
       "            return;\n",
       "\n",
       "        // Define the table data\n",
       "        const data = [[0, \"Ligue 1\", \"2024-2025\", \"17/08/2024\", \"19:00\", \"Stade Auguste-Delaune II\", \"Reims\", \"Lille\", 14755, \"Fofana\", \"5.7\"], [1, \"Ligue 1\", \"2024-2025\", \"17/08/2024\", \"19:00\", \"Stade Auguste-Delaune II\", \"Reims\", \"Lille\", 14755, \"Khadra\", \"6.4\"], [2, \"Ligue 1\", \"2024-2025\", \"17/08/2024\", \"19:00\", \"Stade Auguste-Delaune II\", \"Reims\", \"Lille\", 14755, \"Sangui\", \"5.9\"], [3, \"Ligue 1\", \"2024-2025\", \"17/08/2024\", \"19:00\", \"Stade Auguste-Delaune II\", \"Reims\", \"Lille\", 14755, \"Diakhon\", \"6.5\"], [4, \"Ligue 1\", \"2024-2025\", \"17/08/2024\", \"19:00\", \"Stade Auguste-Delaune II\", \"Reims\", \"Lille\", 14755, \"Smet\", \"NaN\"], [5, \"Ligue 1\", \"2024-2025\", \"17/08/2024\", \"19:00\", \"Stade Auguste-Delaune II\", \"Reims\", \"Lille\", 14755, \"Kipr\\u00e9\", \"NaN\"], [6, \"Ligue 1\", \"2024-2025\", \"17/08/2024\", \"19:00\", \"Stade Auguste-Delaune II\", \"Reims\", \"Lille\", 14755, \"Olliero\", \"NaN\"], [7, \"Ligue 1\", \"2024-2025\", \"17/08/2024\", \"19:00\", \"Stade Auguste-Delaune II\", \"Reims\", \"Lille\", 14755, \"Adeline\", \"NaN\"], [8, \"Ligue 1\", \"2024-2025\", \"17/08/2024\", \"19:00\", \"Stade Auguste-Delaune II\", \"Reims\", \"Lille\", 14755, \"Bojang\", \"NaN\"], [9, \"Ligue 1\", \"2024-2025\", \"17/08/2024\", \"19:00\", \"Stade Auguste-Delaune II\", \"Reims\", \"Lille\", 14755, \"Diouf\", \"6.4\"], [10, \"Ligue 1\", \"2024-2025\", \"17/08/2024\", \"19:00\", \"Stade Auguste-Delaune II\", \"Reims\", \"Lille\", 14755, \"Kon\\u00e9\", \"6.4\"], [11, \"Ligue 1\", \"2024-2025\", \"17/08/2024\", \"19:00\", \"Stade Auguste-Delaune II\", \"Reims\", \"Lille\", 14755, \"Okumu\", \"7.1\"], [12, \"Ligue 1\", \"2024-2025\", \"17/08/2024\", \"19:00\", \"Stade Auguste-Delaune II\", \"Reims\", \"Lille\", 14755, \"Agbadou\", \"6.4\"], [13, \"Ligue 1\", \"2024-2025\", \"17/08/2024\", \"19:00\", \"Stade Auguste-Delaune II\", \"Reims\", \"Lille\", 14755, \"Akieme\", \"6.3\"], [14, \"Ligue 1\", \"2024-2025\", \"17/08/2024\", \"19:00\", \"Stade Auguste-Delaune II\", \"Reims\", \"Lille\", 14755, \"Edoa\", \"6.6\"], [15, \"Ligue 1\", \"2024-2025\", \"17/08/2024\", \"19:00\", \"Stade Auguste-Delaune II\", \"Reims\", \"Lille\", 14755, \"Munetsi\", \"6.8\"], [16, \"Ligue 1\", \"2024-2025\", \"17/08/2024\", \"19:00\", \"Stade Auguste-Delaune II\", \"Reims\", \"Lille\", 14755, \"Kon\\u00e9\", \"5.1\"], [17, \"Ligue 1\", \"2024-2025\", \"17/08/2024\", \"19:00\", \"Stade Auguste-Delaune II\", \"Reims\", \"Lille\", 14755, \"Ito\", \"6.0\"], [18, \"Ligue 1\", \"2024-2025\", \"17/08/2024\", \"19:00\", \"Stade Auguste-Delaune II\", \"Reims\", \"Lille\", 14755, \"Diakit\\u00e9\", \"6.2\"], [19, \"Ligue 1\", \"2024-2025\", \"17/08/2024\", \"19:00\", \"Stade Auguste-Delaune II\", \"Reims\", \"Lille\", 14755, \"Nakamura\", \"6.2\"], [20, \"Ligue 1\", \"2024-2025\", \"17/08/2024\", \"19:00\", \"Stade Auguste-Delaune II\", \"Reims\", \"Lille\", 14755, \"Chevalier\", \"6.7\"], [21, \"Ligue 1\", \"2024-2025\", \"17/08/2024\", \"19:00\", \"Stade Auguste-Delaune II\", \"Reims\", \"Lille\", 14755, \"Santos\", \"7.5\"], [22, \"Ligue 1\", \"2024-2025\", \"17/08/2024\", \"19:00\", \"Stade Auguste-Delaune II\", \"Reims\", \"Lille\", 14755, \"Mandi\", \"7.0\"], [23, \"Ligue 1\", \"2024-2025\", \"17/08/2024\", \"19:00\", \"Stade Auguste-Delaune II\", \"Reims\", \"Lille\", 14755, \"Ribeiro\", \"7.5\"], [24, \"Ligue 1\", \"2024-2025\", \"17/08/2024\", \"19:00\", \"Stade Auguste-Delaune II\", \"Reims\", \"Lille\", 14755, \"Diakit\\u00e9\", \"8.3\"], [25, \"Ligue 1\", \"2024-2025\", \"17/08/2024\", \"19:00\", \"Stade Auguste-Delaune II\", \"Reims\", \"Lille\", 14755, \"Ismaily\", \"6.9\"], [26, \"Ligue 1\", \"2024-2025\", \"17/08/2024\", \"19:00\", \"Stade Auguste-Delaune II\", \"Reims\", \"Lille\", 14755, \"Cabella\", \"6.7\"], [27, \"Ligue 1\", \"2024-2025\", \"17/08/2024\", \"19:00\", \"Stade Auguste-Delaune II\", \"Reims\", \"Lille\", 14755, \"Gomes\", \"6.3\"], [28, \"Ligue 1\", \"2024-2025\", \"17/08/2024\", \"19:00\", \"Stade Auguste-Delaune II\", \"Reims\", \"Lille\", 14755, \"Mukau\", \"7.0\"], [29, \"Ligue 1\", \"2024-2025\", \"17/08/2024\", \"19:00\", \"Stade Auguste-Delaune II\", \"Reims\", \"Lille\", 14755, \"Sahraoui\", \"7.2\"], [30, \"Ligue 1\", \"2024-2025\", \"17/08/2024\", \"19:00\", \"Stade Auguste-Delaune II\", \"Reims\", \"Lille\", 14755, \"Bayo\", \"6.2\"], [31, \"Ligue 1\", \"2024-2025\", \"17/08/2024\", \"19:00\", \"Stade Auguste-Delaune II\", \"Reims\", \"Lille\", 14755, \"Haraldsson\", \"6.7\"], [32, \"Ligue 1\", \"2024-2025\", \"17/08/2024\", \"19:00\", \"Stade Auguste-Delaune II\", \"Reims\", \"Lille\", 14755, \"Gudmundsson\", \"6.3\"], [33, \"Ligue 1\", \"2024-2025\", \"17/08/2024\", \"19:00\", \"Stade Auguste-Delaune II\", \"Reims\", \"Lille\", 14755, \"Bouaddi\", \"6.1\"], [34, \"Ligue 1\", \"2024-2025\", \"17/08/2024\", \"19:00\", \"Stade Auguste-Delaune II\", \"Reims\", \"Lille\", 14755, \"Mbapp\\u00e9\", \"6.0\"], [35, \"Ligue 1\", \"2024-2025\", \"17/08/2024\", \"19:00\", \"Stade Auguste-Delaune II\", \"Reims\", \"Lille\", 14755, \"David\", \"7.3\"], [36, \"Ligue 1\", \"2024-2025\", \"17/08/2024\", \"19:00\", \"Stade Auguste-Delaune II\", \"Reims\", \"Lille\", 14755, \"Meunier\", \"6.4\"], [37, \"Ligue 1\", \"2024-2025\", \"17/08/2024\", \"19:00\", \"Stade Auguste-Delaune II\", \"Reims\", \"Lille\", 14755, \"Tour\\u00e9\", \"NaN\"], [38, \"Ligue 1\", \"2024-2025\", \"17/08/2024\", \"19:00\", \"Stade Auguste-Delaune II\", \"Reims\", \"Lille\", 14755, \"Mannone\", \"NaN\"], [39, \"Ligue 1\", \"2024-2025\", \"17/08/2024\", \"19:00\", \"Stade Auguste-Delaune II\", \"Reims\", \"Lille\", 14755, \"Ilic\", \"NaN\"], [0, \"Ligue 1\", \"2024-2025\", \"17/08/2024\", \"17:00\", \"Stade Francis-Le Bl\\u00e9\", \"Brest\", \"Marseille\", 14962, \"Zogb\\u00e9\", \"6.2\"], [1, \"Ligue 1\", \"2024-2025\", \"17/08/2024\", \"17:00\", \"Stade Francis-Le Bl\\u00e9\", \"Brest\", \"Marseille\", 14962, \"Camblan\", \"6.1\"], [2, \"Ligue 1\", \"2024-2025\", \"17/08/2024\", \"17:00\", \"Stade Francis-Le Bl\\u00e9\", \"Brest\", \"Marseille\", 14962, \"Mbock\", \"6.3\"], [3, \"Ligue 1\", \"2024-2025\", \"17/08/2024\", \"17:00\", \"Stade Francis-Le Bl\\u00e9\", \"Brest\", \"Marseille\", 14962, \"Faivre\", \"6.2\"], [4, \"Ligue 1\", \"2024-2025\", \"17/08/2024\", \"17:00\", \"Stade Francis-Le Bl\\u00e9\", \"Brest\", \"Marseille\", 14962, \"Coudert\", \"NaN\"], [5, \"Ligue 1\", \"2024-2025\", \"17/08/2024\", \"17:00\", \"Stade Francis-Le Bl\\u00e9\", \"Brest\", \"Marseille\", 14962, \"Dari\", \"NaN\"], [6, \"Ligue 1\", \"2024-2025\", \"17/08/2024\", \"17:00\", \"Stade Francis-Le Bl\\u00e9\", \"Brest\", \"Marseille\", 14962, \"Kant\\u00e9\", \"NaN\"], [7, \"Ligue 1\", \"2024-2025\", \"17/08/2024\", \"17:00\", \"Stade Francis-Le Bl\\u00e9\", \"Brest\", \"Marseille\", 14962, \"Botz\", \"NaN\"], [8, \"Ligue 1\", \"2024-2025\", \"17/08/2024\", \"17:00\", \"Stade Francis-Le Bl\\u00e9\", \"Brest\", \"Marseille\", 14962, \"Bizot\", \"4.8\"], [9, \"Ligue 1\", \"2024-2025\", \"17/08/2024\", \"17:00\", \"Stade Francis-Le Bl\\u00e9\", \"Brest\", \"Marseille\", 14962, \"Lala\", \"6.1\"], [10, \"Ligue 1\", \"2024-2025\", \"17/08/2024\", \"17:00\", \"Stade Francis-Le Bl\\u00e9\", \"Brest\", \"Marseille\", 14962, \"Cardinal\", \"5.5\"], [11, \"Ligue 1\", \"2024-2025\", \"17/08/2024\", \"17:00\", \"Stade Francis-Le Bl\\u00e9\", \"Brest\", \"Marseille\", 14962, \"Chardonnet\", \"5.7\"], [12, \"Ligue 1\", \"2024-2025\", \"17/08/2024\", \"17:00\", \"Stade Francis-Le Bl\\u00e9\", \"Brest\", \"Marseille\", 14962, \"Amavi\", \"5.3\"], [13, \"Ligue 1\", \"2024-2025\", \"17/08/2024\", \"17:00\", \"Stade Francis-Le Bl\\u00e9\", \"Brest\", \"Marseille\", 14962, \"Martin\", \"5.1\"], [14, \"Ligue 1\", \"2024-2025\", \"17/08/2024\", \"17:00\", \"Stade Francis-Le Bl\\u00e9\", \"Brest\", \"Marseille\", 14962, \"Lage\", \"5.6\"], [15, \"Ligue 1\", \"2024-2025\", \"17/08/2024\", \"17:00\", \"Stade Francis-Le Bl\\u00e9\", \"Brest\", \"Marseille\", 14962, \"Camara\", \"7.8\"], [16, \"Ligue 1\", \"2024-2025\", \"17/08/2024\", \"17:00\", \"Stade Francis-Le Bl\\u00e9\", \"Brest\", \"Marseille\", 14962, \"Castillo\", \"6.4\"], [17, \"Ligue 1\", \"2024-2025\", \"17/08/2024\", \"17:00\", \"Stade Francis-Le Bl\\u00e9\", \"Brest\", \"Marseille\", 14962, \"Ajorque\", \"6.6\"], [18, \"Ligue 1\", \"2024-2025\", \"17/08/2024\", \"17:00\", \"Stade Francis-Le Bl\\u00e9\", \"Brest\", \"Marseille\", 14962, \"Douaron\", \"5.8\"], [19, \"Ligue 1\", \"2024-2025\", \"17/08/2024\", \"17:00\", \"Stade Francis-Le Bl\\u00e9\", \"Brest\", \"Marseille\", 14962, \"Rulli\", \"8.6\"], [20, \"Ligue 1\", \"2024-2025\", \"17/08/2024\", \"17:00\", \"Stade Francis-Le Bl\\u00e9\", \"Brest\", \"Marseille\", 14962, \"Murillo\", \"6.9\"], [21, \"Ligue 1\", \"2024-2025\", \"17/08/2024\", \"17:00\", \"Stade Francis-Le Bl\\u00e9\", \"Brest\", \"Marseille\", 14962, \"Balerdi\", \"7.4\"], [22, \"Ligue 1\", \"2024-2025\", \"17/08/2024\", \"17:00\", \"Stade Francis-Le Bl\\u00e9\", \"Brest\", \"Marseille\", 14962, \"Cornelius\", \"6.5\"], [23, \"Ligue 1\", \"2024-2025\", \"17/08/2024\", \"17:00\", \"Stade Francis-Le Bl\\u00e9\", \"Brest\", \"Marseille\", 14962, \"Lirola\", \"6.2\"], [24, \"Ligue 1\", \"2024-2025\", \"17/08/2024\", \"17:00\", \"Stade Francis-Le Bl\\u00e9\", \"Brest\", \"Marseille\", 14962, \"H\\u00f8jbjerg\", \"7.7\"], [25, \"Ligue 1\", \"2024-2025\", \"17/08/2024\", \"17:00\", \"Stade Francis-Le Bl\\u00e9\", \"Brest\", \"Marseille\", 14962, \"Merlin\", \"6.6\"], [26, \"Ligue 1\", \"2024-2025\", \"17/08/2024\", \"17:00\", \"Stade Francis-Le Bl\\u00e9\", \"Brest\", \"Marseille\", 14962, \"Greenwood\", \"8.5\"], [27, \"Ligue 1\", \"2024-2025\", \"17/08/2024\", \"17:00\", \"Stade Francis-Le Bl\\u00e9\", \"Brest\", \"Marseille\", 14962, \"Harit\", \"8.1\"], [28, \"Ligue 1\", \"2024-2025\", \"17/08/2024\", \"17:00\", \"Stade Francis-Le Bl\\u00e9\", \"Brest\", \"Marseille\", 14962, \"Henrique\", \"8.9\"], [29, \"Ligue 1\", \"2024-2025\", \"17/08/2024\", \"17:00\", \"Stade Francis-Le Bl\\u00e9\", \"Brest\", \"Marseille\", 14962, \"Wahi\", \"7.4\"], [30, \"Ligue 1\", \"2024-2025\", \"17/08/2024\", \"17:00\", \"Stade Francis-Le Bl\\u00e9\", \"Brest\", \"Marseille\", 14962, \"Me\\u00eft\\u00e9\", \"6.1\"], [31, \"Ligue 1\", \"2024-2025\", \"17/08/2024\", \"17:00\", \"Stade Francis-Le Bl\\u00e9\", \"Brest\", \"Marseille\", 14962, \"Sternal\", \"5.9\"], [32, \"Ligue 1\", \"2024-2025\", \"17/08/2024\", \"17:00\", \"Stade Francis-Le Bl\\u00e9\", \"Brest\", \"Marseille\", 14962, \"Abdallah\", \"6.1\"], [33, \"Ligue 1\", \"2024-2025\", \"17/08/2024\", \"17:00\", \"Stade Francis-Le Bl\\u00e9\", \"Brest\", \"Marseille\", 14962, \"Rongier\", \"6.0\"], [34, \"Ligue 1\", \"2024-2025\", \"17/08/2024\", \"17:00\", \"Stade Francis-Le Bl\\u00e9\", \"Brest\", \"Marseille\", 14962, \"Moumbagna\", \"6.0\"], [35, \"Ligue 1\", \"2024-2025\", \"17/08/2024\", \"17:00\", \"Stade Francis-Le Bl\\u00e9\", \"Brest\", \"Marseille\", 14962, \"Lafont\", \"NaN\"], [36, \"Ligue 1\", \"2024-2025\", \"17/08/2024\", \"17:00\", \"Stade Francis-Le Bl\\u00e9\", \"Brest\", \"Marseille\", 14962, \"Lange\", \"NaN\"], [37, \"Ligue 1\", \"2024-2025\", \"17/08/2024\", \"17:00\", \"Stade Francis-Le Bl\\u00e9\", \"Brest\", \"Marseille\", 14962, \"Nyakossi\", \"NaN\"], [38, \"Ligue 1\", \"2024-2025\", \"17/08/2024\", \"17:00\", \"Stade Francis-Le Bl\\u00e9\", \"Brest\", \"Marseille\", 14962, \"Koum\", \"NaN\"], [0, \"Ligue 1\", \"2024-2025\", \"16/08/2024\", \"20:45\", \"Stade Oc\\u00e9ane\", \"Le Havre\", \"PSG\", 23167, \"Ngoura\", \"5.7\"], [1, \"Ligue 1\", \"2024-2025\", \"16/08/2024\", \"20:45\", \"Stade Oc\\u00e9ane\", \"Le Havre\", \"PSG\", 23167, \"Diawara\", \"5.9\"], [2, \"Ligue 1\", \"2024-2025\", \"16/08/2024\", \"20:45\", \"Stade Oc\\u00e9ane\", \"Le Havre\", \"PSG\", 23167, \"Grandsir\", \"5.8\"], [3, \"Ligue 1\", \"2024-2025\", \"16/08/2024\", \"20:45\", \"Stade Oc\\u00e9ane\", \"Le Havre\", \"PSG\", 23167, \"Gorgelin\", \"NaN\"], [4, \"Ligue 1\", \"2024-2025\", \"16/08/2024\", \"20:45\", \"Stade Oc\\u00e9ane\", \"Le Havre\", \"PSG\", 23167, \"Salmier\", \"NaN\"], [5, \"Ligue 1\", \"2024-2025\", \"16/08/2024\", \"20:45\", \"Stade Oc\\u00e9ane\", \"Le Havre\", \"PSG\", 23167, \"Bodmer\", \"NaN\"], [6, \"Ligue 1\", \"2024-2025\", \"16/08/2024\", \"20:45\", \"Stade Oc\\u00e9ane\", \"Le Havre\", \"PSG\", 23167, \"Bouneb\", \"NaN\"], [7, \"Ligue 1\", \"2024-2025\", \"16/08/2024\", \"20:45\", \"Stade Oc\\u00e9ane\", \"Le Havre\", \"PSG\", 23167, \"Mosengo\", \"NaN\"], [8, \"Ligue 1\", \"2024-2025\", \"16/08/2024\", \"20:45\", \"Stade Oc\\u00e9ane\", \"Le Havre\", \"PSG\", 23167, \"Zouaoui\", \"NaN\"], [9, \"Ligue 1\", \"2024-2025\", \"16/08/2024\", \"20:45\", \"Stade Oc\\u00e9ane\", \"Le Havre\", \"PSG\", 23167, \"Desmas\", \"6.5\"], [10, \"Ligue 1\", \"2024-2025\", \"16/08/2024\", \"20:45\", \"Stade Oc\\u00e9ane\", \"Le Havre\", \"PSG\", 23167, \"Nego\", \"6.5\"], [11, \"Ligue 1\", \"2024-2025\", \"16/08/2024\", \"20:45\", \"Stade Oc\\u00e9ane\", \"Le Havre\", \"PSG\", 23167, \"Lloris\", \"5.8\"], [12, \"Ligue 1\", \"2024-2025\", \"16/08/2024\", \"20:45\", \"Stade Oc\\u00e9ane\", \"Le Havre\", \"PSG\", 23167, \"Yout\\u00e9\", \"5.5\"], [13, \"Ligue 1\", \"2024-2025\", \"16/08/2024\", \"20:45\", \"Stade Oc\\u00e9ane\", \"Le Havre\", \"PSG\", 23167, \"Op\\u00e9ri\", \"6.9\"], [14, \"Ligue 1\", \"2024-2025\", \"16/08/2024\", \"20:45\", \"Stade Oc\\u00e9ane\", \"Le Havre\", \"PSG\", 23167, \"Tour\\u00e9\", \"6.3\"], [15, \"Ligue 1\", \"2024-2025\", \"16/08/2024\", \"20:45\", \"Stade Oc\\u00e9ane\", \"Le Havre\", \"PSG\", 23167, \"Ndiaye\", \"6.6\"], [16, \"Ligue 1\", \"2024-2025\", \"16/08/2024\", \"20:45\", \"Stade Oc\\u00e9ane\", \"Le Havre\", \"PSG\", 23167, \"Kuzyaev\", \"6.1\"], [17, \"Ligue 1\", \"2024-2025\", \"16/08/2024\", \"20:45\", \"Stade Oc\\u00e9ane\", \"Le Havre\", \"PSG\", 23167, \"Kechta\", \"7.1\"], [18, \"Ligue 1\", \"2024-2025\", \"16/08/2024\", \"20:45\", \"Stade Oc\\u00e9ane\", \"Le Havre\", \"PSG\", 23167, \"Casimir\", \"6.3\"], [19, \"Ligue 1\", \"2024-2025\", \"16/08/2024\", \"20:45\", \"Stade Oc\\u00e9ane\", \"Le Havre\", \"PSG\", 23167, \"Joujou\", \"6.0\"], [20, \"Ligue 1\", \"2024-2025\", \"16/08/2024\", \"20:45\", \"Stade Oc\\u00e9ane\", \"Le Havre\", \"PSG\", 23167, \"Donnarumma\", \"6.3\"], [21, \"Ligue 1\", \"2024-2025\", \"16/08/2024\", \"20:45\", \"Stade Oc\\u00e9ane\", \"Le Havre\", \"PSG\", 23167, \"Hakimi\", \"7.4\"], [22, \"Ligue 1\", \"2024-2025\", \"16/08/2024\", \"20:45\", \"Stade Oc\\u00e9ane\", \"Le Havre\", \"PSG\", 23167, \"Pacho\", \"6.9\"], [23, \"Ligue 1\", \"2024-2025\", \"16/08/2024\", \"20:45\", \"Stade Oc\\u00e9ane\", \"Le Havre\", \"PSG\", 23167, \"Beraldo\", \"6.6\"], [24, \"Ligue 1\", \"2024-2025\", \"16/08/2024\", \"20:45\", \"Stade Oc\\u00e9ane\", \"Le Havre\", \"PSG\", 23167, \"Zague\", \"6.4\"], [25, \"Ligue 1\", \"2024-2025\", \"16/08/2024\", \"20:45\", \"Stade Oc\\u00e9ane\", \"Le Havre\", \"PSG\", 23167, \"Za\\u00efre-Emery\", \"6.8\"], [26, \"Ligue 1\", \"2024-2025\", \"16/08/2024\", \"20:45\", \"Stade Oc\\u00e9ane\", \"Le Havre\", \"PSG\", 23167, \"Vitinha\", \"7.5\"], [27, \"Ligue 1\", \"2024-2025\", \"16/08/2024\", \"20:45\", \"Stade Oc\\u00e9ane\", \"Le Havre\", \"PSG\", 23167, \"Asensio\", \"6.9\"], [28, \"Ligue 1\", \"2024-2025\", \"16/08/2024\", \"20:45\", \"Stade Oc\\u00e9ane\", \"Le Havre\", \"PSG\", 23167, \"Kang-In\", \"7.6\"], [29, \"Ligue 1\", \"2024-2025\", \"16/08/2024\", \"20:45\", \"Stade Oc\\u00e9ane\", \"Le Havre\", \"PSG\", 23167, \"Ramos\", \"6.9\"], [30, \"Ligue 1\", \"2024-2025\", \"16/08/2024\", \"20:45\", \"Stade Oc\\u00e9ane\", \"Le Havre\", \"PSG\", 23167, \"Mbaye\", \"6.0\"], [31, \"Ligue 1\", \"2024-2025\", \"16/08/2024\", \"20:45\", \"Stade Oc\\u00e9ane\", \"Le Havre\", \"PSG\", 23167, \"Neves\", \"7.7\"], [32, \"Ligue 1\", \"2024-2025\", \"16/08/2024\", \"20:45\", \"Stade Oc\\u00e9ane\", \"Le Havre\", \"PSG\", 23167, \"Muani\", \"7.4\"], [33, \"Ligue 1\", \"2024-2025\", \"16/08/2024\", \"20:45\", \"Stade Oc\\u00e9ane\", \"Le Havre\", \"PSG\", 23167, \"Demb\\u00e9l\\u00e9\", \"7.3\"], [34, \"Ligue 1\", \"2024-2025\", \"16/08/2024\", \"20:45\", \"Stade Oc\\u00e9ane\", \"Le Havre\", \"PSG\", 23167, \"Barcola\", \"7.3\"], [35, \"Ligue 1\", \"2024-2025\", \"16/08/2024\", \"20:45\", \"Stade Oc\\u00e9ane\", \"Le Havre\", \"PSG\", 23167, \"Marquinhos\", \"6.5\"], [36, \"Ligue 1\", \"2024-2025\", \"16/08/2024\", \"20:45\", \"Stade Oc\\u00e9ane\", \"Le Havre\", \"PSG\", 23167, \"Mayulu\", \"NaN\"], [37, \"Ligue 1\", \"2024-2025\", \"16/08/2024\", \"20:45\", \"Stade Oc\\u00e9ane\", \"Le Havre\", \"PSG\", 23167, \"Safonov\", \"NaN\"], [38, \"Ligue 1\", \"2024-2025\", \"16/08/2024\", \"20:45\", \"Stade Oc\\u00e9ane\", \"Le Havre\", \"PSG\", 23167, \"Skriniar\", \"NaN\"], [39, \"Ligue 1\", \"2024-2025\", \"16/08/2024\", \"20:45\", \"Stade Oc\\u00e9ane\", \"Le Havre\", \"PSG\", 23167, \"Soler\", \"NaN\"], [0, \"Ligue 1\", \"2024-2025\", \"18/08/2024\", \"17:00\", \"Stade de la Mosson-Mondial 98\", \"Montpellier\", \"Strasbourg\", 15706, \"Maamma\", \"6.0\"], [1, \"Ligue 1\", \"2024-2025\", \"18/08/2024\", \"17:00\", \"Stade de la Mosson-Mondial 98\", \"Montpellier\", \"Strasbourg\", 15706, \"Coulibaly\", \"6.1\"], [2, \"Ligue 1\", \"2024-2025\", \"18/08/2024\", \"17:00\", \"Stade de la Mosson-Mondial 98\", \"Montpellier\", \"Strasbourg\", 15706, \"Chennahi\", \"NaN\"], [3, \"Ligue 1\", \"2024-2025\", \"18/08/2024\", \"17:00\", \"Stade de la Mosson-Mondial 98\", \"Montpellier\", \"Strasbourg\", 15706, \"Bertaud\", \"NaN\"], [4, \"Ligue 1\", \"2024-2025\", \"18/08/2024\", \"17:00\", \"Stade de la Mosson-Mondial 98\", \"Montpellier\", \"Strasbourg\", 15706, \"Kouyat\\u00e9\", \"NaN\"], [5, \"Ligue 1\", \"2024-2025\", \"18/08/2024\", \"17:00\", \"Stade de la Mosson-Mondial 98\", \"Montpellier\", \"Strasbourg\", 15706, \"Dzodic\", \"NaN\"], [6, \"Ligue 1\", \"2024-2025\", \"18/08/2024\", \"17:00\", \"Stade de la Mosson-Mondial 98\", \"Montpellier\", \"Strasbourg\", 15706, \"Bar\\u00e8s\", \"NaN\"], [7, \"Ligue 1\", \"2024-2025\", \"18/08/2024\", \"17:00\", \"Stade de la Mosson-Mondial 98\", \"Montpellier\", \"Strasbourg\", 15706, \"Issoufou\", \"NaN\"], [8, \"Ligue 1\", \"2024-2025\", \"18/08/2024\", \"17:00\", \"Stade de la Mosson-Mondial 98\", \"Montpellier\", \"Strasbourg\", 15706, \"Ngosso\", \"NaN\"], [9, \"Ligue 1\", \"2024-2025\", \"18/08/2024\", \"17:00\", \"Stade de la Mosson-Mondial 98\", \"Montpellier\", \"Strasbourg\", 15706, \"Lecomte\", \"6.3\"], [10, \"Ligue 1\", \"2024-2025\", \"18/08/2024\", \"17:00\", \"Stade de la Mosson-Mondial 98\", \"Montpellier\", \"Strasbourg\", 15706, \"Tchato\", \"6.2\"], [11, \"Ligue 1\", \"2024-2025\", \"18/08/2024\", \"17:00\", \"Stade de la Mosson-Mondial 98\", \"Montpellier\", \"Strasbourg\", 15706, \"Sagnan\", \"6.3\"], [12, \"Ligue 1\", \"2024-2025\", \"18/08/2024\", \"17:00\", \"Stade de la Mosson-Mondial 98\", \"Montpellier\", \"Strasbourg\", 15706, \"Omeragic\", \"6.5\"], [13, \"Ligue 1\", \"2024-2025\", \"18/08/2024\", \"17:00\", \"Stade de la Mosson-Mondial 98\", \"Montpellier\", \"Strasbourg\", 15706, \"Sacko\", \"6.1\"], [14, \"Ligue 1\", \"2024-2025\", \"18/08/2024\", \"17:00\", \"Stade de la Mosson-Mondial 98\", \"Montpellier\", \"Strasbourg\", 15706, \"Ferri\", \"6.9\"], [15, \"Ligue 1\", \"2024-2025\", \"18/08/2024\", \"17:00\", \"Stade de la Mosson-Mondial 98\", \"Montpellier\", \"Strasbourg\", 15706, \"Chotard\", \"6.5\"], [16, \"Ligue 1\", \"2024-2025\", \"18/08/2024\", \"17:00\", \"Stade de la Mosson-Mondial 98\", \"Montpellier\", \"Strasbourg\", 15706, \"Nordin\", \"6.2\"], [17, \"Ligue 1\", \"2024-2025\", \"18/08/2024\", \"17:00\", \"Stade de la Mosson-Mondial 98\", \"Montpellier\", \"Strasbourg\", 15706, \"Savanier\", \"7.1\"], [18, \"Ligue 1\", \"2024-2025\", \"18/08/2024\", \"17:00\", \"Stade de la Mosson-Mondial 98\", \"Montpellier\", \"Strasbourg\", 15706, \"Ta'mari\", \"5.8\"], [19, \"Ligue 1\", \"2024-2025\", \"18/08/2024\", \"17:00\", \"Stade de la Mosson-Mondial 98\", \"Montpellier\", \"Strasbourg\", 15706, \"Adams\", \"7.2\"], [20, \"Ligue 1\", \"2024-2025\", \"18/08/2024\", \"17:00\", \"Stade de la Mosson-Mondial 98\", \"Montpellier\", \"Strasbourg\", 15706, \"Johnsson\", \"6.4\"], [21, \"Ligue 1\", \"2024-2025\", \"18/08/2024\", \"17:00\", \"Stade de la Mosson-Mondial 98\", \"Montpellier\", \"Strasbourg\", 15706, \"Dou\\u00e9\", \"6.4\"], [22, \"Ligue 1\", \"2024-2025\", \"18/08/2024\", \"17:00\", \"Stade de la Mosson-Mondial 98\", \"Montpellier\", \"Strasbourg\", 15706, \"Sow\", \"6.6\"], [23, \"Ligue 1\", \"2024-2025\", \"18/08/2024\", \"17:00\", \"Stade de la Mosson-Mondial 98\", \"Montpellier\", \"Strasbourg\", 15706, \"Sylla\", \"6.9\"], [24, \"Ligue 1\", \"2024-2025\", \"18/08/2024\", \"17:00\", \"Stade de la Mosson-Mondial 98\", \"Montpellier\", \"Strasbourg\", 15706, \"Bakwa\", \"7.5\"], [25, \"Ligue 1\", \"2024-2025\", \"18/08/2024\", \"17:00\", \"Stade de la Mosson-Mondial 98\", \"Montpellier\", \"Strasbourg\", 15706, \"Wiley\", \"6.2\"], [26, \"Ligue 1\", \"2024-2025\", \"18/08/2024\", \"17:00\", \"Stade de la Mosson-Mondial 98\", \"Montpellier\", \"Strasbourg\", 15706, \"Mwanga\", \"6.9\"], [27, \"Ligue 1\", \"2024-2025\", \"18/08/2024\", \"17:00\", \"Stade de la Mosson-Mondial 98\", \"Montpellier\", \"Strasbourg\", 15706, \"Doukour\\u00e9\", \"6.9\"], [28, \"Ligue 1\", \"2024-2025\", \"18/08/2024\", \"17:00\", \"Stade de la Mosson-Mondial 98\", \"Montpellier\", \"Strasbourg\", 15706, \"Diarra\", \"7.1\"], [29, \"Ligue 1\", \"2024-2025\", \"18/08/2024\", \"17:00\", \"Stade de la Mosson-Mondial 98\", \"Montpellier\", \"Strasbourg\", 15706, \"Diong\", \"6.5\"], [30, \"Ligue 1\", \"2024-2025\", \"18/08/2024\", \"17:00\", \"Stade de la Mosson-Mondial 98\", \"Montpellier\", \"Strasbourg\", 15706, \"Emegha\", \"6.5\"], [31, \"Ligue 1\", \"2024-2025\", \"18/08/2024\", \"17:00\", \"Stade de la Mosson-Mondial 98\", \"Montpellier\", \"Strasbourg\", 15706, \"Moreira\", \"6.2\"], [32, \"Ligue 1\", \"2024-2025\", \"18/08/2024\", \"17:00\", \"Stade de la Mosson-Mondial 98\", \"Montpellier\", \"Strasbourg\", 15706, \"Fila\", \"5.9\"], [33, \"Ligue 1\", \"2024-2025\", \"18/08/2024\", \"17:00\", \"Stade de la Mosson-Mondial 98\", \"Montpellier\", \"Strasbourg\", 15706, \"Kandil\", \"6.2\"], [34, \"Ligue 1\", \"2024-2025\", \"18/08/2024\", \"17:00\", \"Stade de la Mosson-Mondial 98\", \"Montpellier\", \"Strasbourg\", 15706, \"Senaya\", \"6.8\"], [35, \"Ligue 1\", \"2024-2025\", \"18/08/2024\", \"17:00\", \"Stade de la Mosson-Mondial 98\", \"Montpellier\", \"Strasbourg\", 15706, \"Sebas\", \"6.4\"], [36, \"Ligue 1\", \"2024-2025\", \"18/08/2024\", \"17:00\", \"Stade de la Mosson-Mondial 98\", \"Montpellier\", \"Strasbourg\", 15706, \"Perea\", \"NaN\"], [37, \"Ligue 1\", \"2024-2025\", \"18/08/2024\", \"17:00\", \"Stade de la Mosson-Mondial 98\", \"Montpellier\", \"Strasbourg\", 15706, \"Risser\", \"NaN\"], [38, \"Ligue 1\", \"2024-2025\", \"18/08/2024\", \"17:00\", \"Stade de la Mosson-Mondial 98\", \"Montpellier\", \"Strasbourg\", 15706, \"Sobol\", \"NaN\"], [39, \"Ligue 1\", \"2024-2025\", \"18/08/2024\", \"17:00\", \"Stade de la Mosson-Mondial 98\", \"Montpellier\", \"Strasbourg\", 15706, \"Nzingoula\", \"NaN\"], [0, \"Ligue 1\", \"2024-2025\", \"18/08/2024\", \"17:00\", \"Stadium Municipal, Toulouse\", \"Toulouse\", \"Nantes\", 25491, \"Sierro\", \"6.4\"], [1, \"Ligue 1\", \"2024-2025\", \"18/08/2024\", \"17:00\", \"Stadium Municipal, Toulouse\", \"Toulouse\", \"Nantes\", 25491, \"Sidib\\u00e9\", \"6.1\"], [2, \"Ligue 1\", \"2024-2025\", \"18/08/2024\", \"17:00\", \"Stadium Municipal, Toulouse\", \"Toulouse\", \"Nantes\", 25491, \"Skytt\\u00e4\", \"6.1\"], [3, \"Ligue 1\", \"2024-2025\", \"18/08/2024\", \"17:00\", \"Stadium Municipal, Toulouse\", \"Toulouse\", \"Nantes\", 25491, \"Suazo\", \"6.3\"], [4, \"Ligue 1\", \"2024-2025\", \"18/08/2024\", \"17:00\", \"Stadium Municipal, Toulouse\", \"Toulouse\", \"Nantes\", 25491, \"Genreau\", \"NaN\"], [5, \"Ligue 1\", \"2024-2025\", \"18/08/2024\", \"17:00\", \"Stadium Municipal, Toulouse\", \"Toulouse\", \"Nantes\", 25491, \"Bangr\\u00e9\", \"NaN\"], [6, \"Ligue 1\", \"2024-2025\", \"18/08/2024\", \"17:00\", \"Stadium Municipal, Toulouse\", \"Toulouse\", \"Nantes\", 25491, \"Methalie\", \"NaN\"], [7, \"Ligue 1\", \"2024-2025\", \"18/08/2024\", \"17:00\", \"Stadium Municipal, Toulouse\", \"Toulouse\", \"Nantes\", 25491, \"Dom\\u00ednguez\", \"NaN\"], [8, \"Ligue 1\", \"2024-2025\", \"18/08/2024\", \"17:00\", \"Stadium Municipal, Toulouse\", \"Toulouse\", \"Nantes\", 25491, \"McKenzie\", \"NaN\"], [9, \"Ligue 1\", \"2024-2025\", \"18/08/2024\", \"17:00\", \"Stadium Municipal, Toulouse\", \"Toulouse\", \"Nantes\", 25491, \"Restes\", \"7.1\"], [10, \"Ligue 1\", \"2024-2025\", \"18/08/2024\", \"17:00\", \"Stadium Municipal, Toulouse\", \"Toulouse\", \"Nantes\", 25491, \"Nicolaisen\", \"7.0\"], [11, \"Ligue 1\", \"2024-2025\", \"18/08/2024\", \"17:00\", \"Stadium Municipal, Toulouse\", \"Toulouse\", \"Nantes\", 25491, \"Costa\", \"7.7\"], [12, \"Ligue 1\", \"2024-2025\", \"18/08/2024\", \"17:00\", \"Stadium Municipal, Toulouse\", \"Toulouse\", \"Nantes\", 25491, \"Cresswell\", \"7.8\"], [13, \"Ligue 1\", \"2024-2025\", \"18/08/2024\", \"17:00\", \"Stadium Municipal, Toulouse\", \"Toulouse\", \"Nantes\", 25491, \"Kamanzi\", \"6.7\"], [14, \"Ligue 1\", \"2024-2025\", \"18/08/2024\", \"17:00\", \"Stadium Municipal, Toulouse\", \"Toulouse\", \"Nantes\", 25491, \"D\\u00f8nnum\", \"6.9\"], [15, \"Ligue 1\", \"2024-2025\", \"18/08/2024\", \"17:00\", \"Stadium Municipal, Toulouse\", \"Toulouse\", \"Nantes\", 25491, \"Schmidt\", \"6.9\"], [16, \"Ligue 1\", \"2024-2025\", \"18/08/2024\", \"17:00\", \"Stadium Municipal, Toulouse\", \"Toulouse\", \"Nantes\", 25491, \"C\\u00e1sseres\", \"6.8\"], [17, \"Ligue 1\", \"2024-2025\", \"18/08/2024\", \"17:00\", \"Stadium Municipal, Toulouse\", \"Toulouse\", \"Nantes\", 25491, \"Aboukhlal\", \"6.4\"], [18, \"Ligue 1\", \"2024-2025\", \"18/08/2024\", \"17:00\", \"Stadium Municipal, Toulouse\", \"Toulouse\", \"Nantes\", 25491, \"Magri\", \"6.2\"], [19, \"Ligue 1\", \"2024-2025\", \"18/08/2024\", \"17:00\", \"Stadium Municipal, Toulouse\", \"Toulouse\", \"Nantes\", 25491, \"Gboho\", \"6.8\"], [20, \"Ligue 1\", \"2024-2025\", \"18/08/2024\", \"17:00\", \"Stadium Municipal, Toulouse\", \"Toulouse\", \"Nantes\", 25491, \"Lafont\", \"8.6\"], [21, \"Ligue 1\", \"2024-2025\", \"18/08/2024\", \"17:00\", \"Stadium Municipal, Toulouse\", \"Toulouse\", \"Nantes\", 25491, \"Coco\", \"6.7\"], [22, \"Ligue 1\", \"2024-2025\", \"18/08/2024\", \"17:00\", \"Stadium Municipal, Toulouse\", \"Toulouse\", \"Nantes\", 25491, \"Castelletto\", \"6.9\"], [23, \"Ligue 1\", \"2024-2025\", \"18/08/2024\", \"17:00\", \"Stadium Municipal, Toulouse\", \"Toulouse\", \"Nantes\", 25491, \"Z\\u00e9z\\u00e9\", \"7.7\"], [24, \"Ligue 1\", \"2024-2025\", \"18/08/2024\", \"17:00\", \"Stadium Municipal, Toulouse\", \"Toulouse\", \"Nantes\", 25491, \"Amian\", \"7.3\"], [25, \"Ligue 1\", \"2024-2025\", \"18/08/2024\", \"17:00\", \"Stadium Municipal, Toulouse\", \"Toulouse\", \"Nantes\", 25491, \"Augusto\", \"7.0\"], [26, \"Ligue 1\", \"2024-2025\", \"18/08/2024\", \"17:00\", \"Stadium Municipal, Toulouse\", \"Toulouse\", \"Nantes\", 25491, \"Chirivella\", \"6.5\"], [27, \"Ligue 1\", \"2024-2025\", \"18/08/2024\", \"17:00\", \"Stadium Municipal, Toulouse\", \"Toulouse\", \"Nantes\", 25491, \"Thomas\", \"6.9\"], [28, \"Ligue 1\", \"2024-2025\", \"18/08/2024\", \"17:00\", \"Stadium Municipal, Toulouse\", \"Toulouse\", \"Nantes\", 25491, \"Kadewere\", \"6.9\"], [29, \"Ligue 1\", \"2024-2025\", \"18/08/2024\", \"17:00\", \"Stadium Municipal, Toulouse\", \"Toulouse\", \"Nantes\", 25491, \"Simon\", \"6.4\"], [30, \"Ligue 1\", \"2024-2025\", \"18/08/2024\", \"17:00\", \"Stadium Municipal, Toulouse\", \"Toulouse\", \"Nantes\", 25491, \"Abline\", \"6.2\"], [31, \"Ligue 1\", \"2024-2025\", \"18/08/2024\", \"17:00\", \"Stadium Municipal, Toulouse\", \"Toulouse\", \"Nantes\", 25491, \"Guirassy\", \"6.0\"], [32, \"Ligue 1\", \"2024-2025\", \"18/08/2024\", \"17:00\", \"Stadium Municipal, Toulouse\", \"Toulouse\", \"Nantes\", 25491, \"Pallois\", \"6.1\"], [33, \"Ligue 1\", \"2024-2025\", \"18/08/2024\", \"17:00\", \"Stadium Municipal, Toulouse\", \"Toulouse\", \"Nantes\", 25491, \"Mohamed\", \"6.1\"], [34, \"Ligue 1\", \"2024-2025\", \"18/08/2024\", \"17:00\", \"Stadium Municipal, Toulouse\", \"Toulouse\", \"Nantes\", 25491, \"Lepenant\", \"6.2\"], [35, \"Ligue 1\", \"2024-2025\", \"18/08/2024\", \"17:00\", \"Stadium Municipal, Toulouse\", \"Toulouse\", \"Nantes\", 25491, \"Duverne\", \"6.1\"], [36, \"Ligue 1\", \"2024-2025\", \"18/08/2024\", \"17:00\", \"Stadium Municipal, Toulouse\", \"Toulouse\", \"Nantes\", 25491, \"Tabibou\", \"NaN\"], [37, \"Ligue 1\", \"2024-2025\", \"18/08/2024\", \"17:00\", \"Stadium Municipal, Toulouse\", \"Toulouse\", \"Nantes\", 25491, \"Barbet\", \"NaN\"], [38, \"Ligue 1\", \"2024-2025\", \"18/08/2024\", \"17:00\", \"Stadium Municipal, Toulouse\", \"Toulouse\", \"Nantes\", 25491, \"Acapandi\\u00e9\", \"NaN\"], [39, \"Ligue 1\", \"2024-2025\", \"18/08/2024\", \"17:00\", \"Stadium Municipal, Toulouse\", \"Toulouse\", \"Nantes\", 25491, \"Leroux\", \"NaN\"], [0, \"Ligue 1\", \"2024-2025\", \"18/08/2024\", \"17:00\", \"Stade Raymond Kopa\", \"Angers\", \"Lens\", 14811, \"Niane\", \"6.4\"], [1, \"Ligue 1\", \"2024-2025\", \"18/08/2024\", \"17:00\", \"Stade Raymond Kopa\", \"Angers\", \"Lens\", 14811, \"Raolisoa\", \"6.1\"], [2, \"Ligue 1\", \"2024-2025\", \"18/08/2024\", \"17:00\", \"Stade Raymond Kopa\", \"Angers\", \"Lens\", 14811, \"Khaled\", \"5.9\"], [3, \"Ligue 1\", \"2024-2025\", \"18/08/2024\", \"17:00\", \"Stade Raymond Kopa\", \"Angers\", \"Lens\", 14811, \"Hanin\", \"6.2\"], [4, \"Ligue 1\", \"2024-2025\", \"18/08/2024\", \"17:00\", \"Stade Raymond Kopa\", \"Angers\", \"Lens\", 14811, \"Diony\", \"6.0\"], [5, \"Ligue 1\", \"2024-2025\", \"18/08/2024\", \"17:00\", \"Stade Raymond Kopa\", \"Angers\", \"Lens\", 14811, \"Ferhat\", \"NaN\"], [6, \"Ligue 1\", \"2024-2025\", \"18/08/2024\", \"17:00\", \"Stade Raymond Kopa\", \"Angers\", \"Lens\", 14811, \"Zinga\", \"NaN\"], [7, \"Ligue 1\", \"2024-2025\", \"18/08/2024\", \"17:00\", \"Stade Raymond Kopa\", \"Angers\", \"Lens\", 14811, \"Lepaul\", \"NaN\"], [8, \"Ligue 1\", \"2024-2025\", \"18/08/2024\", \"17:00\", \"Stade Raymond Kopa\", \"Angers\", \"Lens\", 14811, \"Biumla\", \"NaN\"], [9, \"Ligue 1\", \"2024-2025\", \"18/08/2024\", \"17:00\", \"Stade Raymond Kopa\", \"Angers\", \"Lens\", 14811, \"Fofana\", \"6.8\"], [10, \"Ligue 1\", \"2024-2025\", \"18/08/2024\", \"17:00\", \"Stade Raymond Kopa\", \"Angers\", \"Lens\", 14811, \"Arcus\", \"6.1\"], [11, \"Ligue 1\", \"2024-2025\", \"18/08/2024\", \"17:00\", \"Stade Raymond Kopa\", \"Angers\", \"Lens\", 14811, \"Hountondji\", \"6.5\"], [12, \"Ligue 1\", \"2024-2025\", \"18/08/2024\", \"17:00\", \"Stade Raymond Kopa\", \"Angers\", \"Lens\", 14811, \"Lefort\", \"6.1\"], [13, \"Ligue 1\", \"2024-2025\", \"18/08/2024\", \"17:00\", \"Stade Raymond Kopa\", \"Angers\", \"Lens\", 14811, \"Bamba\", \"6.6\"], [14, \"Ligue 1\", \"2024-2025\", \"18/08/2024\", \"17:00\", \"Stade Raymond Kopa\", \"Angers\", \"Lens\", 14811, \"Ekomi\\u00e9\", \"6.2\"], [15, \"Ligue 1\", \"2024-2025\", \"18/08/2024\", \"17:00\", \"Stade Raymond Kopa\", \"Angers\", \"Lens\", 14811, \"Capelle\", \"6.4\"], [16, \"Ligue 1\", \"2024-2025\", \"18/08/2024\", \"17:00\", \"Stade Raymond Kopa\", \"Angers\", \"Lens\", 14811, \"Belkhdim\", \"6.4\"], [17, \"Ligue 1\", \"2024-2025\", \"18/08/2024\", \"17:00\", \"Stade Raymond Kopa\", \"Angers\", \"Lens\", 14811, \"Aholou\", \"6.5\"], [18, \"Ligue 1\", \"2024-2025\", \"18/08/2024\", \"17:00\", \"Stade Raymond Kopa\", \"Angers\", \"Lens\", 14811, \"Abdelli\", \"6.8\"], [19, \"Ligue 1\", \"2024-2025\", \"18/08/2024\", \"17:00\", \"Stade Raymond Kopa\", \"Angers\", \"Lens\", 14811, \"Cherif\", \"6.2\"], [20, \"Ligue 1\", \"2024-2025\", \"18/08/2024\", \"17:00\", \"Stade Raymond Kopa\", \"Angers\", \"Lens\", 14811, \"Samba\", \"7.4\"], [21, \"Ligue 1\", \"2024-2025\", \"18/08/2024\", \"17:00\", \"Stade Raymond Kopa\", \"Angers\", \"Lens\", 14811, \"Medina\", \"7.1\"], [22, \"Ligue 1\", \"2024-2025\", \"18/08/2024\", \"17:00\", \"Stade Raymond Kopa\", \"Angers\", \"Lens\", 14811, \"Danso\", \"7.3\"], [23, \"Ligue 1\", \"2024-2025\", \"18/08/2024\", \"17:00\", \"Stade Raymond Kopa\", \"Angers\", \"Lens\", 14811, \"Gradit\", \"7.7\"], [24, \"Ligue 1\", \"2024-2025\", \"18/08/2024\", \"17:00\", \"Stade Raymond Kopa\", \"Angers\", \"Lens\", 14811, \"Aguilar\", \"7.9\"], [25, \"Ligue 1\", \"2024-2025\", \"18/08/2024\", \"17:00\", \"Stade Raymond Kopa\", \"Angers\", \"Lens\", 14811, \"Thomasson\", \"7.5\"], [26, \"Ligue 1\", \"2024-2025\", \"18/08/2024\", \"17:00\", \"Stade Raymond Kopa\", \"Angers\", \"Lens\", 14811, \"Mendy\", \"6.5\"], [27, \"Ligue 1\", \"2024-2025\", \"18/08/2024\", \"17:00\", \"Stade Raymond Kopa\", \"Angers\", \"Lens\", 14811, \"Ch\\u00e1vez\", \"6.7\"], [28, \"Ligue 1\", \"2024-2025\", \"18/08/2024\", \"17:00\", \"Stade Raymond Kopa\", \"Angers\", \"Lens\", 14811, \"Fulgini\", \"6.3\"], [29, \"Ligue 1\", \"2024-2025\", \"18/08/2024\", \"17:00\", \"Stade Raymond Kopa\", \"Angers\", \"Lens\", 14811, \"Sa\\u00efd\", \"8.1\"], [30, \"Ligue 1\", \"2024-2025\", \"18/08/2024\", \"17:00\", \"Stade Raymond Kopa\", \"Angers\", \"Lens\", 14811, \"Sotoca\", \"7.0\"], [31, \"Ligue 1\", \"2024-2025\", \"18/08/2024\", \"17:00\", \"Stade Raymond Kopa\", \"Angers\", \"Lens\", 14811, \"Lascary\", \"6.0\"], [32, \"Ligue 1\", \"2024-2025\", \"18/08/2024\", \"17:00\", \"Stade Raymond Kopa\", \"Angers\", \"Lens\", 14811, \"Khusanov\", \"6.2\"], [33, \"Ligue 1\", \"2024-2025\", \"18/08/2024\", \"17:00\", \"Stade Raymond Kopa\", \"Angers\", \"Lens\", 14811, \"Costa\", \"6.4\"], [34, \"Ligue 1\", \"2024-2025\", \"18/08/2024\", \"17:00\", \"Stade Raymond Kopa\", \"Angers\", \"Lens\", 14811, \"Diouf\", \"6.4\"], [35, \"Ligue 1\", \"2024-2025\", \"18/08/2024\", \"17:00\", \"Stade Raymond Kopa\", \"Angers\", \"Lens\", 14811, \"Machado\", \"6.1\"], [36, \"Ligue 1\", \"2024-2025\", \"18/08/2024\", \"17:00\", \"Stade Raymond Kopa\", \"Angers\", \"Lens\", 14811, \"Koffi\", \"NaN\"], [37, \"Ligue 1\", \"2024-2025\", \"18/08/2024\", \"17:00\", \"Stade Raymond Kopa\", \"Angers\", \"Lens\", 14811, \"Sarr\", \"NaN\"], [38, \"Ligue 1\", \"2024-2025\", \"18/08/2024\", \"17:00\", \"Stade Raymond Kopa\", \"Angers\", \"Lens\", 14811, \"Ha\\u00efdara\", \"NaN\"], [39, \"Ligue 1\", \"2024-2025\", \"18/08/2024\", \"17:00\", \"Stade Raymond Kopa\", \"Angers\", \"Lens\", 14811, \"Frankowski\", \"NaN\"], [0, \"Ligue 1\", \"2024-2025\", \"17/08/2024\", \"21:00\", \"Stade Louis-II\", \"Monaco\", \"Saint-Etienne\", 14250, \"Ilenikhena\", \"6.1\"], [1, \"Ligue 1\", \"2024-2025\", \"17/08/2024\", \"21:00\", \"Stade Louis-II\", \"Monaco\", \"Saint-Etienne\", 14250, \"Magassa\", \"6.7\"], [2, \"Ligue 1\", \"2024-2025\", \"17/08/2024\", \"21:00\", \"Stade Louis-II\", \"Monaco\", \"Saint-Etienne\", 14250, \"Akliouche\", \"6.3\"], [3, \"Ligue 1\", \"2024-2025\", \"17/08/2024\", \"21:00\", \"Stade Louis-II\", \"Monaco\", \"Saint-Etienne\", 14250, \"Henrique\", \"NaN\"], [4, \"Ligue 1\", \"2024-2025\", \"17/08/2024\", \"21:00\", \"Stade Louis-II\", \"Monaco\", \"Saint-Etienne\", 14250, \"Marip\\u00e1n\", \"NaN\"], [5, \"Ligue 1\", \"2024-2025\", \"17/08/2024\", \"21:00\", \"Stade Louis-II\", \"Monaco\", \"Saint-Etienne\", 14250, \"Lienard\", \"NaN\"], [6, \"Ligue 1\", \"2024-2025\", \"17/08/2024\", \"21:00\", \"Stade Louis-II\", \"Monaco\", \"Saint-Etienne\", 14250, \"Diop\", \"NaN\"], [7, \"Ligue 1\", \"2024-2025\", \"17/08/2024\", \"21:00\", \"Stade Louis-II\", \"Monaco\", \"Saint-Etienne\", 14250, \"Mawissa\", \"NaN\"], [8, \"Ligue 1\", \"2024-2025\", \"17/08/2024\", \"21:00\", \"Stade Louis-II\", \"Monaco\", \"Saint-Etienne\", 14250, \"Ouattara\", \"NaN\"], [9, \"Ligue 1\", \"2024-2025\", \"17/08/2024\", \"21:00\", \"Stade Louis-II\", \"Monaco\", \"Saint-Etienne\", 14250, \"K\\u00f6hn\", \"7.7\"], [10, \"Ligue 1\", \"2024-2025\", \"17/08/2024\", \"21:00\", \"Stade Louis-II\", \"Monaco\", \"Saint-Etienne\", 14250, \"Vanderson\", \"8.4\"], [11, \"Ligue 1\", \"2024-2025\", \"17/08/2024\", \"21:00\", \"Stade Louis-II\", \"Monaco\", \"Saint-Etienne\", 14250, \"Kehrer\", \"7.0\"], [12, \"Ligue 1\", \"2024-2025\", \"17/08/2024\", \"21:00\", \"Stade Louis-II\", \"Monaco\", \"Saint-Etienne\", 14250, \"Salisu\", \"7.0\"], [13, \"Ligue 1\", \"2024-2025\", \"17/08/2024\", \"21:00\", \"Stade Louis-II\", \"Monaco\", \"Saint-Etienne\", 14250, \"Jakobs\", \"7.0\"], [14, \"Ligue 1\", \"2024-2025\", \"17/08/2024\", \"21:00\", \"Stade Louis-II\", \"Monaco\", \"Saint-Etienne\", 14250, \"Minamino\", \"7.6\"], [15, \"Ligue 1\", \"2024-2025\", \"17/08/2024\", \"21:00\", \"Stade Louis-II\", \"Monaco\", \"Saint-Etienne\", 14250, \"Camara\", \"7.7\"], [16, \"Ligue 1\", \"2024-2025\", \"17/08/2024\", \"21:00\", \"Stade Louis-II\", \"Monaco\", \"Saint-Etienne\", 14250, \"Zakaria\", \"6.6\"], [17, \"Ligue 1\", \"2024-2025\", \"17/08/2024\", \"21:00\", \"Stade Louis-II\", \"Monaco\", \"Saint-Etienne\", 14250, \"Seghir\", \"6.6\"], [18, \"Ligue 1\", \"2024-2025\", \"17/08/2024\", \"21:00\", \"Stade Louis-II\", \"Monaco\", \"Saint-Etienne\", 14250, \"Embolo\", \"6.5\"], [19, \"Ligue 1\", \"2024-2025\", \"17/08/2024\", \"21:00\", \"Stade Louis-II\", \"Monaco\", \"Saint-Etienne\", 14250, \"Balogun\", \"6.1\"], [20, \"Ligue 1\", \"2024-2025\", \"17/08/2024\", \"21:00\", \"Stade Louis-II\", \"Monaco\", \"Saint-Etienne\", 14250, \"Larsonneur\", \"7.1\"], [21, \"Ligue 1\", \"2024-2025\", \"17/08/2024\", \"21:00\", \"Stade Louis-II\", \"Monaco\", \"Saint-Etienne\", 14250, \"Owusu\", \"6.7\"], [22, \"Ligue 1\", \"2024-2025\", \"17/08/2024\", \"21:00\", \"Stade Louis-II\", \"Monaco\", \"Saint-Etienne\", 14250, \"Batubinsika\", \"6.9\"], [23, \"Ligue 1\", \"2024-2025\", \"17/08/2024\", \"21:00\", \"Stade Louis-II\", \"Monaco\", \"Saint-Etienne\", 14250, \"Abdelhamid\", \"6.8\"], [24, \"Ligue 1\", \"2024-2025\", \"17/08/2024\", \"21:00\", \"Stade Louis-II\", \"Monaco\", \"Saint-Etienne\", 14250, \"N'Zuzi\", \"6.4\"], [25, \"Ligue 1\", \"2024-2025\", \"17/08/2024\", \"21:00\", \"Stade Louis-II\", \"Monaco\", \"Saint-Etienne\", 14250, \"Tardieu\", \"6.0\"], [26, \"Ligue 1\", \"2024-2025\", \"17/08/2024\", \"21:00\", \"Stade Louis-II\", \"Monaco\", \"Saint-Etienne\", 14250, \"Davitashvili\", \"6.3\"], [27, \"Ligue 1\", \"2024-2025\", \"17/08/2024\", \"21:00\", \"Stade Louis-II\", \"Monaco\", \"Saint-Etienne\", 14250, \"Amougou\", \"6.6\"], [28, \"Ligue 1\", \"2024-2025\", \"17/08/2024\", \"21:00\", \"Stade Louis-II\", \"Monaco\", \"Saint-Etienne\", 14250, \"Old\", \"6.5\"], [29, \"Ligue 1\", \"2024-2025\", \"17/08/2024\", \"21:00\", \"Stade Louis-II\", \"Monaco\", \"Saint-Etienne\", 14250, \"Cafaro\", \"7.0\"], [30, \"Ligue 1\", \"2024-2025\", \"17/08/2024\", \"21:00\", \"Stade Louis-II\", \"Monaco\", \"Saint-Etienne\", 14250, \"Sissoko\", \"6.5\"], [31, \"Ligue 1\", \"2024-2025\", \"17/08/2024\", \"21:00\", \"Stade Louis-II\", \"Monaco\", \"Saint-Etienne\", 14250, \"Othman\", \"6.0\"], [32, \"Ligue 1\", \"2024-2025\", \"17/08/2024\", \"21:00\", \"Stade Louis-II\", \"Monaco\", \"Saint-Etienne\", 14250, \"Boakye\", \"6.1\"], [33, \"Ligue 1\", \"2024-2025\", \"17/08/2024\", \"21:00\", \"Stade Louis-II\", \"Monaco\", \"Saint-Etienne\", 14250, \"Pedro\", \"6.6\"], [34, \"Ligue 1\", \"2024-2025\", \"17/08/2024\", \"21:00\", \"Stade Louis-II\", \"Monaco\", \"Saint-Etienne\", 14250, \"Aiki\", \"6.0\"], [35, \"Ligue 1\", \"2024-2025\", \"17/08/2024\", \"21:00\", \"Stade Louis-II\", \"Monaco\", \"Saint-Etienne\", 14250, \"Fomba\", \"6.2\"], [36, \"Ligue 1\", \"2024-2025\", \"17/08/2024\", \"21:00\", \"Stade Louis-II\", \"Monaco\", \"Saint-Etienne\", 14250, \"Nad\\u00e9\", \"NaN\"], [37, \"Ligue 1\", \"2024-2025\", \"17/08/2024\", \"21:00\", \"Stade Louis-II\", \"Monaco\", \"Saint-Etienne\", 14250, \"Mouton\", \"NaN\"], [38, \"Ligue 1\", \"2024-2025\", \"17/08/2024\", \"21:00\", \"Stade Louis-II\", \"Monaco\", \"Saint-Etienne\", 14250, \"Gauthier\", \"NaN\"], [39, \"Ligue 1\", \"2024-2025\", \"17/08/2024\", \"21:00\", \"Stade Louis-II\", \"Monaco\", \"Saint-Etienne\", 14250, \"Tour\\u00e9\", \"NaN\"], [0, \"Ligue 1\", \"2024-2025\", \"18/08/2024\", \"15:00\", \"Stade de l'Abb\\u00e9-Deschamps\", \"Auxerre\", \"Nice\", 16354, \"Coulibaly\", \"6.9\"], [1, \"Ligue 1\", \"2024-2025\", \"18/08/2024\", \"15:00\", \"Stade de l'Abb\\u00e9-Deschamps\", \"Auxerre\", \"Nice\", 16354, \"Ay\\u00e9\", \"6.2\"], [2, \"Ligue 1\", \"2024-2025\", \"18/08/2024\", \"15:00\", \"Stade de l'Abb\\u00e9-Deschamps\", \"Auxerre\", \"Nice\", 16354, \"Pellenard\", \"6.5\"], [3, \"Ligue 1\", \"2024-2025\", \"18/08/2024\", \"15:00\", \"Stade de l'Abb\\u00e9-Deschamps\", \"Auxerre\", \"Nice\", 16354, \"Percin\", \"NaN\"], [4, \"Ligue 1\", \"2024-2025\", \"18/08/2024\", \"15:00\", \"Stade de l'Abb\\u00e9-Deschamps\", \"Auxerre\", \"Nice\", 16354, \"Danois\", \"NaN\"], [5, \"Ligue 1\", \"2024-2025\", \"18/08/2024\", \"15:00\", \"Stade de l'Abb\\u00e9-Deschamps\", \"Auxerre\", \"Nice\", 16354, \"Viad\\u00e8re\", \"NaN\"], [6, \"Ligue 1\", \"2024-2025\", \"18/08/2024\", \"15:00\", \"Stade de l'Abb\\u00e9-Deschamps\", \"Auxerre\", \"Nice\", 16354, \"Mayela\", \"NaN\"], [7, \"Ligue 1\", \"2024-2025\", \"18/08/2024\", \"15:00\", \"Stade de l'Abb\\u00e9-Deschamps\", \"Auxerre\", \"Nice\", 16354, \"Maddy\", \"NaN\"], [8, \"Ligue 1\", \"2024-2025\", \"18/08/2024\", \"15:00\", \"Stade de l'Abb\\u00e9-Deschamps\", \"Auxerre\", \"Nice\", 16354, \"Diouss\\u00e9\", \"NaN\"], [9, \"Ligue 1\", \"2024-2025\", \"18/08/2024\", \"15:00\", \"Stade de l'Abb\\u00e9-Deschamps\", \"Auxerre\", \"Nice\", 16354, \"L\\u00e9on\", \"7.0\"], [10, \"Ligue 1\", \"2024-2025\", \"18/08/2024\", \"15:00\", \"Stade de l'Abb\\u00e9-Deschamps\", \"Auxerre\", \"Nice\", 16354, \"Joly\", \"8.1\"], [11, \"Ligue 1\", \"2024-2025\", \"18/08/2024\", \"15:00\", \"Stade de l'Abb\\u00e9-Deschamps\", \"Auxerre\", \"Nice\", 16354, \"Jubal\", \"6.6\"], [12, \"Ligue 1\", \"2024-2025\", \"18/08/2024\", \"15:00\", \"Stade de l'Abb\\u00e9-Deschamps\", \"Auxerre\", \"Nice\", 16354, \"Osho\", \"6.4\"], [13, \"Ligue 1\", \"2024-2025\", \"18/08/2024\", \"15:00\", \"Stade de l'Abb\\u00e9-Deschamps\", \"Auxerre\", \"Nice\", 16354, \"Akpa\", \"6.2\"], [14, \"Ligue 1\", \"2024-2025\", \"18/08/2024\", \"15:00\", \"Stade de l'Abb\\u00e9-Deschamps\", \"Auxerre\", \"Nice\", 16354, \"Perrin\", \"7.4\"], [15, \"Ligue 1\", \"2024-2025\", \"18/08/2024\", \"15:00\", \"Stade de l'Abb\\u00e9-Deschamps\", \"Auxerre\", \"Nice\", 16354, \"Owusu\", \"6.5\"], [16, \"Ligue 1\", \"2024-2025\", \"18/08/2024\", \"15:00\", \"Stade de l'Abb\\u00e9-Deschamps\", \"Auxerre\", \"Nice\", 16354, \"Raveloson\", \"8.0\"], [17, \"Ligue 1\", \"2024-2025\", \"18/08/2024\", \"15:00\", \"Stade de l'Abb\\u00e9-Deschamps\", \"Auxerre\", \"Nice\", 16354, \"Sinayoko\", \"7.0\"], [18, \"Ligue 1\", \"2024-2025\", \"18/08/2024\", \"15:00\", \"Stade de l'Abb\\u00e9-Deschamps\", \"Auxerre\", \"Nice\", 16354, \"Onaiwu\", \"7.3\"], [19, \"Ligue 1\", \"2024-2025\", \"18/08/2024\", \"15:00\", \"Stade de l'Abb\\u00e9-Deschamps\", \"Auxerre\", \"Nice\", 16354, \"Bair\", \"6.4\"], [20, \"Ligue 1\", \"2024-2025\", \"18/08/2024\", \"15:00\", \"Stade de l'Abb\\u00e9-Deschamps\", \"Auxerre\", \"Nice\", 16354, \"Bulka\", \"5.9\"], [21, \"Ligue 1\", \"2024-2025\", \"18/08/2024\", \"15:00\", \"Stade de l'Abb\\u00e9-Deschamps\", \"Auxerre\", \"Nice\", 16354, \"Dante\", \"6.2\"], [22, \"Ligue 1\", \"2024-2025\", \"18/08/2024\", \"15:00\", \"Stade de l'Abb\\u00e9-Deschamps\", \"Auxerre\", \"Nice\", 16354, \"Mendy\", \"6.5\"], [23, \"Ligue 1\", \"2024-2025\", \"18/08/2024\", \"15:00\", \"Stade de l'Abb\\u00e9-Deschamps\", \"Auxerre\", \"Nice\", 16354, \"Rosario\", \"6.1\"], [24, \"Ligue 1\", \"2024-2025\", \"18/08/2024\", \"15:00\", \"Stade de l'Abb\\u00e9-Deschamps\", \"Auxerre\", \"Nice\", 16354, \"Clauss\", \"6.4\"], [25, \"Ligue 1\", \"2024-2025\", \"18/08/2024\", \"15:00\", \"Stade de l'Abb\\u00e9-Deschamps\", \"Auxerre\", \"Nice\", 16354, \"Brahimi\", \"6.3\"], [26, \"Ligue 1\", \"2024-2025\", \"18/08/2024\", \"15:00\", \"Stade de l'Abb\\u00e9-Deschamps\", \"Auxerre\", \"Nice\", 16354, \"Boudaoui\", \"6.9\"], [27, \"Ligue 1\", \"2024-2025\", \"18/08/2024\", \"15:00\", \"Stade de l'Abb\\u00e9-Deschamps\", \"Auxerre\", \"Nice\", 16354, \"Ndomb\\u00e9l\\u00e9\", \"6.8\"], [28, \"Ligue 1\", \"2024-2025\", \"18/08/2024\", \"15:00\", \"Stade de l'Abb\\u00e9-Deschamps\", \"Auxerre\", \"Nice\", 16354, \"Cho\", \"7.2\"], [29, \"Ligue 1\", \"2024-2025\", \"18/08/2024\", \"15:00\", \"Stade de l'Abb\\u00e9-Deschamps\", \"Auxerre\", \"Nice\", 16354, \"Guessand\", \"6.4\"], [30, \"Ligue 1\", \"2024-2025\", \"18/08/2024\", \"15:00\", \"Stade de l'Abb\\u00e9-Deschamps\", \"Auxerre\", \"Nice\", 16354, \"Laborde\", \"6.9\"], [31, \"Ligue 1\", \"2024-2025\", \"18/08/2024\", \"15:00\", \"Stade de l'Abb\\u00e9-Deschamps\", \"Auxerre\", \"Nice\", 16354, \"Camara\", \"6.0\"], [32, \"Ligue 1\", \"2024-2025\", \"18/08/2024\", \"15:00\", \"Stade de l'Abb\\u00e9-Deschamps\", \"Auxerre\", \"Nice\", 16354, \"Lotomba\", \"6.0\"], [33, \"Ligue 1\", \"2024-2025\", \"18/08/2024\", \"15:00\", \"Stade de l'Abb\\u00e9-Deschamps\", \"Auxerre\", \"Nice\", 16354, \"Orakpo\", \"5.9\"], [34, \"Ligue 1\", \"2024-2025\", \"18/08/2024\", \"15:00\", \"Stade de l'Abb\\u00e9-Deschamps\", \"Auxerre\", \"Nice\", 16354, \"Bouanani\", \"6.3\"], [35, \"Ligue 1\", \"2024-2025\", \"18/08/2024\", \"15:00\", \"Stade de l'Abb\\u00e9-Deschamps\", \"Auxerre\", \"Nice\", 16354, \"Dup\\u00e9\", \"NaN\"], [36, \"Ligue 1\", \"2024-2025\", \"18/08/2024\", \"15:00\", \"Stade de l'Abb\\u00e9-Deschamps\", \"Auxerre\", \"Nice\", 16354, \"Traor\\u00e9\", \"NaN\"], [37, \"Ligue 1\", \"2024-2025\", \"18/08/2024\", \"15:00\", \"Stade de l'Abb\\u00e9-Deschamps\", \"Auxerre\", \"Nice\", 16354, \"Salhi\", \"NaN\"], [38, \"Ligue 1\", \"2024-2025\", \"18/08/2024\", \"15:00\", \"Stade de l'Abb\\u00e9-Deschamps\", \"Auxerre\", \"Nice\", 16354, \"Nandjou\", \"NaN\"], [39, \"Ligue 1\", \"2024-2025\", \"18/08/2024\", \"15:00\", \"Stade de l'Abb\\u00e9-Deschamps\", \"Auxerre\", \"Nice\", 16354, \"Doumbouya\", \"NaN\"], [0, \"Ligue 1\", \"2024-2025\", \"18/08/2024\", \"20:45\", \"Roazhon Park\", \"Rennes\", \"Lyon\", 26026, \"Hateboer\", \"6.6\"], [1, \"Ligue 1\", \"2024-2025\", \"18/08/2024\", \"20:45\", \"Roazhon Park\", \"Rennes\", \"Lyon\", 26026, \"Truffert\", \"6.4\"], [2, \"Ligue 1\", \"2024-2025\", \"18/08/2024\", \"20:45\", \"Roazhon Park\", \"Rennes\", \"Lyon\", 26026, \"Santamar\\u00eda\", \"6.3\"], [3, \"Ligue 1\", \"2024-2025\", \"18/08/2024\", \"20:45\", \"Roazhon Park\", \"Rennes\", \"Lyon\", 26026, \"Meister\", \"7.1\"], [4, \"Ligue 1\", \"2024-2025\", \"18/08/2024\", \"20:45\", \"Roazhon Park\", \"Rennes\", \"Lyon\", 26026, \"Gallon\", \"NaN\"], [5, \"Ligue 1\", \"2024-2025\", \"18/08/2024\", \"20:45\", \"Roazhon Park\", \"Rennes\", \"Lyon\", 26026, \"Ciss\\u00e9\", \"NaN\"], [6, \"Ligue 1\", \"2024-2025\", \"18/08/2024\", \"20:45\", \"Roazhon Park\", \"Rennes\", \"Lyon\", 26026, \"Omari\", \"NaN\"], [7, \"Ligue 1\", \"2024-2025\", \"18/08/2024\", \"20:45\", \"Roazhon Park\", \"Rennes\", \"Lyon\", 26026, \"Marcolino\", \"NaN\"], [8, \"Ligue 1\", \"2024-2025\", \"18/08/2024\", \"20:45\", \"Roazhon Park\", \"Rennes\", \"Lyon\", 26026, \"James\", \"NaN\"], [9, \"Ligue 1\", \"2024-2025\", \"18/08/2024\", \"20:45\", \"Roazhon Park\", \"Rennes\", \"Lyon\", 26026, \"Mandanda\", \"7.9\"], [10, \"Ligue 1\", \"2024-2025\", \"18/08/2024\", \"20:45\", \"Roazhon Park\", \"Rennes\", \"Lyon\", 26026, \"Assignon\", \"6.4\"], [11, \"Ligue 1\", \"2024-2025\", \"18/08/2024\", \"20:45\", \"Roazhon Park\", \"Rennes\", \"Lyon\", 26026, \"Wooh\", \"7.4\"], [12, \"Ligue 1\", \"2024-2025\", \"18/08/2024\", \"20:45\", \"Roazhon Park\", \"Rennes\", \"Lyon\", 26026, \"\\u00d8stig\\u00e5rd\", \"7.3\"], [13, \"Ligue 1\", \"2024-2025\", \"18/08/2024\", \"20:45\", \"Roazhon Park\", \"Rennes\", \"Lyon\", 26026, \"Seidu\", \"7.8\"], [14, \"Ligue 1\", \"2024-2025\", \"18/08/2024\", \"20:45\", \"Roazhon Park\", \"Rennes\", \"Lyon\", 26026, \"Matusiwa\", \"7.6\"], [15, \"Ligue 1\", \"2024-2025\", \"18/08/2024\", \"20:45\", \"Roazhon Park\", \"Rennes\", \"Lyon\", 26026, \"Kamara\", \"7.2\"], [16, \"Ligue 1\", \"2024-2025\", \"18/08/2024\", \"20:45\", \"Roazhon Park\", \"Rennes\", \"Lyon\", 26026, \"Bourigeaud\", \"8.0\"], [17, \"Ligue 1\", \"2024-2025\", \"18/08/2024\", \"20:45\", \"Roazhon Park\", \"Rennes\", \"Lyon\", 26026, \"Gr\\u00f8nb\\u00e6k\", \"6.9\"], [18, \"Ligue 1\", \"2024-2025\", \"18/08/2024\", \"20:45\", \"Roazhon Park\", \"Rennes\", \"Lyon\", 26026, \"Blas\", \"7.9\"], [19, \"Ligue 1\", \"2024-2025\", \"18/08/2024\", \"20:45\", \"Roazhon Park\", \"Rennes\", \"Lyon\", 26026, \"Gouiri\", \"8.8\"], [20, \"Ligue 1\", \"2024-2025\", \"18/08/2024\", \"20:45\", \"Roazhon Park\", \"Rennes\", \"Lyon\", 26026, \"Perri\", \"6.2\"], [21, \"Ligue 1\", \"2024-2025\", \"18/08/2024\", \"20:45\", \"Roazhon Park\", \"Rennes\", \"Lyon\", 26026, \"Mata\", \"6.9\"], [22, \"Ligue 1\", \"2024-2025\", \"18/08/2024\", \"20:45\", \"Roazhon Park\", \"Rennes\", \"Lyon\", 26026, \"Caleta-Car\", \"6.5\"], [23, \"Ligue 1\", \"2024-2025\", \"18/08/2024\", \"20:45\", \"Roazhon Park\", \"Rennes\", \"Lyon\", 26026, \"Niakhat\\u00e9\", \"5.4\"], [24, \"Ligue 1\", \"2024-2025\", \"18/08/2024\", \"20:45\", \"Roazhon Park\", \"Rennes\", \"Lyon\", 26026, \"Vin\\u00edcius\", \"6.2\"], [25, \"Ligue 1\", \"2024-2025\", \"18/08/2024\", \"20:45\", \"Roazhon Park\", \"Rennes\", \"Lyon\", 26026, \"Mangala\", \"6.1\"], [26, \"Ligue 1\", \"2024-2025\", \"18/08/2024\", \"20:45\", \"Roazhon Park\", \"Rennes\", \"Lyon\", 26026, \"Caqueret\", \"6.5\"], [27, \"Ligue 1\", \"2024-2025\", \"18/08/2024\", \"20:45\", \"Roazhon Park\", \"Rennes\", \"Lyon\", 26026, \"Matic\", \"6.3\"], [28, \"Ligue 1\", \"2024-2025\", \"18/08/2024\", \"20:45\", \"Roazhon Park\", \"Rennes\", \"Lyon\", 26026, \"Nuamah\", \"6.3\"], [29, \"Ligue 1\", \"2024-2025\", \"18/08/2024\", \"20:45\", \"Roazhon Park\", \"Rennes\", \"Lyon\", 26026, \"Mikautadze\", \"5.1\"], [30, \"Ligue 1\", \"2024-2025\", \"18/08/2024\", \"20:45\", \"Roazhon Park\", \"Rennes\", \"Lyon\", 26026, \"Benrahma\", \"6.6\"], [31, \"Ligue 1\", \"2024-2025\", \"18/08/2024\", \"20:45\", \"Roazhon Park\", \"Rennes\", \"Lyon\", 26026, \"Maitland-Niles\", \"6.1\"], [32, \"Ligue 1\", \"2024-2025\", \"18/08/2024\", \"20:45\", \"Roazhon Park\", \"Rennes\", \"Lyon\", 26026, \"Bald\\u00e9\", \"6.1\"], [33, \"Ligue 1\", \"2024-2025\", \"18/08/2024\", \"20:45\", \"Roazhon Park\", \"Rennes\", \"Lyon\", 26026, \"Diawara\", \"5.9\"], [34, \"Ligue 1\", \"2024-2025\", \"18/08/2024\", \"20:45\", \"Roazhon Park\", \"Rennes\", \"Lyon\", 26026, \"Tolisso\", \"6.0\"], [35, \"Ligue 1\", \"2024-2025\", \"18/08/2024\", \"20:45\", \"Roazhon Park\", \"Rennes\", \"Lyon\", 26026, \"Fofana\", \"6.6\"], [36, \"Ligue 1\", \"2024-2025\", \"18/08/2024\", \"20:45\", \"Roazhon Park\", \"Rennes\", \"Lyon\", 26026, \"Adryelson\", \"NaN\"], [37, \"Ligue 1\", \"2024-2025\", \"18/08/2024\", \"20:45\", \"Roazhon Park\", \"Rennes\", \"Lyon\", 26026, \"Kumbedi\", \"NaN\"], [38, \"Ligue 1\", \"2024-2025\", \"18/08/2024\", \"20:45\", \"Roazhon Park\", \"Rennes\", \"Lyon\", 26026, \"Orban\", \"NaN\"], [39, \"Ligue 1\", \"2024-2025\", \"18/08/2024\", \"20:45\", \"Roazhon Park\", \"Rennes\", \"Lyon\", 26026, \"Lopes\", \"NaN\"], [0, \"Ligue 1\", \"2024-2025\", \"19/01/2025\", \"20:45\", \"Orange V\\u00e9lodrome\", \"Marseille\", \"Strasbourg\", 63992, \"Vaz\", \"6.6\"], [1, \"Ligue 1\", \"2024-2025\", \"19/01/2025\", \"20:45\", \"Orange V\\u00e9lodrome\", \"Marseille\", \"Strasbourg\", 63992, \"Rowe\", \"6.1\"], [2, \"Ligue 1\", \"2024-2025\", \"19/01/2025\", \"20:45\", \"Orange V\\u00e9lodrome\", \"Marseille\", \"Strasbourg\", 63992, \"Lirola\", \"6.5\"], [3, \"Ligue 1\", \"2024-2025\", \"19/01/2025\", \"20:45\", \"Orange V\\u00e9lodrome\", \"Marseille\", \"Strasbourg\", 63992, \"Merlin\", \"7.2\"], [4, \"Ligue 1\", \"2024-2025\", \"19/01/2025\", \"20:45\", \"Orange V\\u00e9lodrome\", \"Marseille\", \"Strasbourg\", 63992, \"Kon\\u00e9\", \"NaN\"], [5, \"Ligue 1\", \"2024-2025\", \"19/01/2025\", \"20:45\", \"Orange V\\u00e9lodrome\", \"Marseille\", \"Strasbourg\", 63992, \"Bakola\", \"NaN\"], [6, \"Ligue 1\", \"2024-2025\", \"19/01/2025\", \"20:45\", \"Orange V\\u00e9lodrome\", \"Marseille\", \"Strasbourg\", 63992, \"Felipe\", \"NaN\"], [7, \"Ligue 1\", \"2024-2025\", \"19/01/2025\", \"20:45\", \"Orange V\\u00e9lodrome\", \"Marseille\", \"Strasbourg\", 63992, \"Lange\", \"NaN\"], [8, \"Ligue 1\", \"2024-2025\", \"19/01/2025\", \"20:45\", \"Orange V\\u00e9lodrome\", \"Marseille\", \"Strasbourg\", 63992, \"Me\\u00eft\\u00e9\", \"NaN\"], [9, \"Ligue 1\", \"2024-2025\", \"19/01/2025\", \"20:45\", \"Orange V\\u00e9lodrome\", \"Marseille\", \"Strasbourg\", 63992, \"Rulli\", \"6.6\"], [10, \"Ligue 1\", \"2024-2025\", \"19/01/2025\", \"20:45\", \"Orange V\\u00e9lodrome\", \"Marseille\", \"Strasbourg\", 63992, \"Balerdi\", \"6.7\"], [11, \"Ligue 1\", \"2024-2025\", \"19/01/2025\", \"20:45\", \"Orange V\\u00e9lodrome\", \"Marseille\", \"Strasbourg\", 63992, \"Cornelius\", \"5.9\"], [12, \"Ligue 1\", \"2024-2025\", \"19/01/2025\", \"20:45\", \"Orange V\\u00e9lodrome\", \"Marseille\", \"Strasbourg\", 63992, \"Brassier\", \"6.7\"], [13, \"Ligue 1\", \"2024-2025\", \"19/01/2025\", \"20:45\", \"Orange V\\u00e9lodrome\", \"Marseille\", \"Strasbourg\", 63992, \"Henrique\", \"7.2\"], [14, \"Ligue 1\", \"2024-2025\", \"19/01/2025\", \"20:45\", \"Orange V\\u00e9lodrome\", \"Marseille\", \"Strasbourg\", 63992, \"Garcia\", \"6.2\"], [15, \"Ligue 1\", \"2024-2025\", \"19/01/2025\", \"20:45\", \"Orange V\\u00e9lodrome\", \"Marseille\", \"Strasbourg\", 63992, \"H\\u00f8jbjerg\", \"7.2\"], [16, \"Ligue 1\", \"2024-2025\", \"19/01/2025\", \"20:45\", \"Orange V\\u00e9lodrome\", \"Marseille\", \"Strasbourg\", 63992, \"Nadir\", \"6.4\"], [17, \"Ligue 1\", \"2024-2025\", \"19/01/2025\", \"20:45\", \"Orange V\\u00e9lodrome\", \"Marseille\", \"Strasbourg\", 63992, \"Rabiot\", \"7.0\"], [18, \"Ligue 1\", \"2024-2025\", \"19/01/2025\", \"20:45\", \"Orange V\\u00e9lodrome\", \"Marseille\", \"Strasbourg\", 63992, \"Greenwood\", \"6.7\"], [19, \"Ligue 1\", \"2024-2025\", \"19/01/2025\", \"20:45\", \"Orange V\\u00e9lodrome\", \"Marseille\", \"Strasbourg\", 63992, \"Maupay\", \"6.0\"], [20, \"Ligue 1\", \"2024-2025\", \"19/01/2025\", \"20:45\", \"Orange V\\u00e9lodrome\", \"Marseille\", \"Strasbourg\", 63992, \"Petrovic\", \"6.7\"], [21, \"Ligue 1\", \"2024-2025\", \"19/01/2025\", \"20:45\", \"Orange V\\u00e9lodrome\", \"Marseille\", \"Strasbourg\", 63992, \"Dou\\u00e9\", \"7.0\"], [22, \"Ligue 1\", \"2024-2025\", \"19/01/2025\", \"20:45\", \"Orange V\\u00e9lodrome\", \"Marseille\", \"Strasbourg\", 63992, \"Sarr\", \"6.8\"], [23, \"Ligue 1\", \"2024-2025\", \"19/01/2025\", \"20:45\", \"Orange V\\u00e9lodrome\", \"Marseille\", \"Strasbourg\", 63992, \"Doukour\\u00e9\", \"6.4\"], [24, \"Ligue 1\", \"2024-2025\", \"19/01/2025\", \"20:45\", \"Orange V\\u00e9lodrome\", \"Marseille\", \"Strasbourg\", 63992, \"Ouattara\", \"6.4\"], [25, \"Ligue 1\", \"2024-2025\", \"19/01/2025\", \"20:45\", \"Orange V\\u00e9lodrome\", \"Marseille\", \"Strasbourg\", 63992, \"Santos\", \"6.8\"], [26, \"Ligue 1\", \"2024-2025\", \"19/01/2025\", \"20:45\", \"Orange V\\u00e9lodrome\", \"Marseille\", \"Strasbourg\", 63992, \"Bakwa\", \"6.2\"], [27, \"Ligue 1\", \"2024-2025\", \"19/01/2025\", \"20:45\", \"Orange V\\u00e9lodrome\", \"Marseille\", \"Strasbourg\", 63992, \"Lemar\\u00e9chal\", \"6.9\"], [28, \"Ligue 1\", \"2024-2025\", \"19/01/2025\", \"20:45\", \"Orange V\\u00e9lodrome\", \"Marseille\", \"Strasbourg\", 63992, \"Diarra\", \"6.3\"], [29, \"Ligue 1\", \"2024-2025\", \"19/01/2025\", \"20:45\", \"Orange V\\u00e9lodrome\", \"Marseille\", \"Strasbourg\", 63992, \"Nanasi\", \"6.3\"], [30, \"Ligue 1\", \"2024-2025\", \"19/01/2025\", \"20:45\", \"Orange V\\u00e9lodrome\", \"Marseille\", \"Strasbourg\", 63992, \"Emegha\", \"7.0\"], [31, \"Ligue 1\", \"2024-2025\", \"19/01/2025\", \"20:45\", \"Orange V\\u00e9lodrome\", \"Marseille\", \"Strasbourg\", 63992, \"Senaya\", \"6.0\"], [32, \"Ligue 1\", \"2024-2025\", \"19/01/2025\", \"20:45\", \"Orange V\\u00e9lodrome\", \"Marseille\", \"Strasbourg\", 63992, \"Sebas\", \"6.3\"], [33, \"Ligue 1\", \"2024-2025\", \"19/01/2025\", \"20:45\", \"Orange V\\u00e9lodrome\", \"Marseille\", \"Strasbourg\", 63992, \"Mara\", \"NaN\"], [34, \"Ligue 1\", \"2024-2025\", \"19/01/2025\", \"20:45\", \"Orange V\\u00e9lodrome\", \"Marseille\", \"Strasbourg\", 63992, \"Mourabet\", \"NaN\"], [35, \"Ligue 1\", \"2024-2025\", \"19/01/2025\", \"20:45\", \"Orange V\\u00e9lodrome\", \"Marseille\", \"Strasbourg\", 63992, \"Diong\", \"NaN\"], [36, \"Ligue 1\", \"2024-2025\", \"19/01/2025\", \"20:45\", \"Orange V\\u00e9lodrome\", \"Marseille\", \"Strasbourg\", 63992, \"Johnsson\", \"NaN\"], [37, \"Ligue 1\", \"2024-2025\", \"19/01/2025\", \"20:45\", \"Orange V\\u00e9lodrome\", \"Marseille\", \"Strasbourg\", 63992, \"Sobol\", \"NaN\"], [38, \"Ligue 1\", \"2024-2025\", \"19/01/2025\", \"20:45\", \"Orange V\\u00e9lodrome\", \"Marseille\", \"Strasbourg\", 63992, \"Sylla\", \"NaN\"], [39, \"Ligue 1\", \"2024-2025\", \"19/01/2025\", \"20:45\", \"Orange V\\u00e9lodrome\", \"Marseille\", \"Strasbourg\", 63992, \"Messi\", \"NaN\"], [0, \"Ligue 1\", \"2024-2025\", \"18/01/2025\", \"17:00\", \"Stade F\\u00e9lix Bollaert-Del\\u00e9lis\", \"Lens\", \"PSG\", 38120, \"Costa\", \"5.9\"], [1, \"Ligue 1\", \"2024-2025\", \"18/01/2025\", \"17:00\", \"Stade F\\u00e9lix Bollaert-Del\\u00e9lis\", \"Lens\", \"PSG\", 38120, \"Ojediran\", \"6.2\"], [2, \"Ligue 1\", \"2024-2025\", \"18/01/2025\", \"17:00\", \"Stade F\\u00e9lix Bollaert-Del\\u00e9lis\", \"Lens\", \"PSG\", 38120, \"Fulgini\", \"6.0\"], [3, \"Ligue 1\", \"2024-2025\", \"18/01/2025\", \"17:00\", \"Stade F\\u00e9lix Bollaert-Del\\u00e9lis\", \"Lens\", \"PSG\", 38120, \"Sa\\u00efd\", \"6.1\"], [4, \"Ligue 1\", \"2024-2025\", \"18/01/2025\", \"17:00\", \"Stade F\\u00e9lix Bollaert-Del\\u00e9lis\", \"Lens\", \"PSG\", 38120, \"Aynaoui\", \"5.9\"], [5, \"Ligue 1\", \"2024-2025\", \"18/01/2025\", \"17:00\", \"Stade F\\u00e9lix Bollaert-Del\\u00e9lis\", \"Lens\", \"PSG\", 38120, \"Delplace\", \"NaN\"], [6, \"Ligue 1\", \"2024-2025\", \"18/01/2025\", \"17:00\", \"Stade F\\u00e9lix Bollaert-Del\\u00e9lis\", \"Lens\", \"PSG\", 38120, \"Aguilar\", \"NaN\"], [7, \"Ligue 1\", \"2024-2025\", \"18/01/2025\", \"17:00\", \"Stade F\\u00e9lix Bollaert-Del\\u00e9lis\", \"Lens\", \"PSG\", 38120, \"Zaroury\", \"NaN\"], [8, \"Ligue 1\", \"2024-2025\", \"18/01/2025\", \"17:00\", \"Stade F\\u00e9lix Bollaert-Del\\u00e9lis\", \"Lens\", \"PSG\", 38120, \"Mendy\", \"NaN\"], [9, \"Ligue 1\", \"2024-2025\", \"18/01/2025\", \"17:00\", \"Stade F\\u00e9lix Bollaert-Del\\u00e9lis\", \"Lens\", \"PSG\", 38120, \"Koffi\", \"6.9\"], [10, \"Ligue 1\", \"2024-2025\", \"18/01/2025\", \"17:00\", \"Stade F\\u00e9lix Bollaert-Del\\u00e9lis\", \"Lens\", \"PSG\", 38120, \"Frankowski\", \"7.2\"], [31, \"Ligue 1\", \"2024-2025\", \"05/01/2025\", \"15:00\", \"Stade de la Meinau\", \"Strasbourg\", \"Auxerre\", 19500, \"Bair\", \"5.9\"], [32, \"Ligue 1\", \"2024-2025\", \"05/01/2025\", \"15:00\", \"Stade de la Meinau\", \"Strasbourg\", \"Auxerre\", 19500, \"Zossou\", \"5.9\"], [33, \"Ligue 1\", \"2024-2025\", \"05/01/2025\", \"15:00\", \"Stade de la Meinau\", \"Strasbourg\", \"Auxerre\", 19500, \"Onaiwu\", \"6.0\"], [34, \"Ligue 1\", \"2024-2025\", \"05/01/2025\", \"15:00\", \"Stade de la Meinau\", \"Strasbourg\", \"Auxerre\", 19500, \"Cisse\", \"6.0\"], [35, \"Ligue 1\", \"2024-2025\", \"05/01/2025\", \"15:00\", \"Stade de la Meinau\", \"Strasbourg\", \"Auxerre\", 19500, \"Joly\", \"6.2\"], [36, \"Ligue 1\", \"2024-2025\", \"05/01/2025\", \"15:00\", \"Stade de la Meinau\", \"Strasbourg\", \"Auxerre\", 19500, \"Ay\\u00e9\", \"NaN\"], [37, \"Ligue 1\", \"2024-2025\", \"05/01/2025\", \"15:00\", \"Stade de la Meinau\", \"Strasbourg\", \"Auxerre\", 19500, \"Negrel\", \"NaN\"], [38, \"Ligue 1\", \"2024-2025\", \"05/01/2025\", \"15:00\", \"Stade de la Meinau\", \"Strasbourg\", \"Auxerre\", 19500, \"Agouzoul\", \"NaN\"], [39, \"Ligue 1\", \"2024-2025\", \"05/01/2025\", \"15:00\", \"Stade de la Meinau\", \"Strasbourg\", \"Auxerre\", 19500, \"Ke\\u00efta\", \"NaN\"], [0, \"Ligue 1\", \"2024-2025\", \"03/01/2025\", \"21:00\", \"Allianz Riviera\", \"Nice\", \"Rennes\", 21332, \"Rosario\", \"5.1\"], [1, \"Ligue 1\", \"2024-2025\", \"03/01/2025\", \"21:00\", \"Allianz Riviera\", \"Nice\", \"Rennes\", 21332, \"Moukoko\", \"6.0\"], [2, \"Ligue 1\", \"2024-2025\", \"03/01/2025\", \"21:00\", \"Allianz Riviera\", \"Nice\", \"Rennes\", 21332, \"Cho\", \"6.0\"], [3, \"Ligue 1\", \"2024-2025\", \"03/01/2025\", \"21:00\", \"Allianz Riviera\", \"Nice\", \"Rennes\", 21332, \"Dante\", \"6.0\"], [4, \"Ligue 1\", \"2024-2025\", \"03/01/2025\", \"21:00\", \"Allianz Riviera\", \"Nice\", \"Rennes\", 21332, \"Nguene\", \"NaN\"], [5, \"Ligue 1\", \"2024-2025\", \"03/01/2025\", \"21:00\", \"Allianz Riviera\", \"Nice\", \"Rennes\", 21332, \"Dup\\u00e9\", \"NaN\"], [6, \"Ligue 1\", \"2024-2025\", \"03/01/2025\", \"21:00\", \"Allianz Riviera\", \"Nice\", \"Rennes\", 21332, \"Ilie\", \"NaN\"], [7, \"Ligue 1\", \"2024-2025\", \"03/01/2025\", \"21:00\", \"Allianz Riviera\", \"Nice\", \"Rennes\", 21332, \"Doumbouya\", \"NaN\"], [8, \"Ligue 1\", \"2024-2025\", \"03/01/2025\", \"21:00\", \"Allianz Riviera\", \"Nice\", \"Rennes\", 21332, \"Camara\", \"NaN\"], [9, \"Ligue 1\", \"2024-2025\", \"03/01/2025\", \"21:00\", \"Allianz Riviera\", \"Nice\", \"Rennes\", 21332, \"Bulka\", \"5.5\"], [10, \"Ligue 1\", \"2024-2025\", \"03/01/2025\", \"21:00\", \"Allianz Riviera\", \"Nice\", \"Rennes\", 21332, \"Mendy\", \"7.0\"], [11, \"Ligue 1\", \"2024-2025\", \"03/01/2025\", \"21:00\", \"Allianz Riviera\", \"Nice\", \"Rennes\", 21332, \"Ndayishimiye\", \"6.3\"], [12, \"Ligue 1\", \"2024-2025\", \"03/01/2025\", \"21:00\", \"Allianz Riviera\", \"Nice\", \"Rennes\", 21332, \"Abdelmonem\", \"6.9\"], [13, \"Ligue 1\", \"2024-2025\", \"03/01/2025\", \"21:00\", \"Allianz Riviera\", \"Nice\", \"Rennes\", 21332, \"Bard\", \"6.2\"], [14, \"Ligue 1\", \"2024-2025\", \"03/01/2025\", \"21:00\", \"Allianz Riviera\", \"Nice\", \"Rennes\", 21332, \"Boudaoui\", \"6.6\"], [15, \"Ligue 1\", \"2024-2025\", \"03/01/2025\", \"21:00\", \"Allianz Riviera\", \"Nice\", \"Rennes\", 21332, \"Ndomb\\u00e9l\\u00e9\", \"7.6\"], [16, \"Ligue 1\", \"2024-2025\", \"03/01/2025\", \"21:00\", \"Allianz Riviera\", \"Nice\", \"Rennes\", 21332, \"Guessand\", \"7.8\"], [17, \"Ligue 1\", \"2024-2025\", \"03/01/2025\", \"21:00\", \"Allianz Riviera\", \"Nice\", \"Rennes\", 21332, \"Bouanani\", \"6.6\"], [18, \"Ligue 1\", \"2024-2025\", \"03/01/2025\", \"21:00\", \"Allianz Riviera\", \"Nice\", \"Rennes\", 21332, \"Diop\", \"8.0\"], [19, \"Ligue 1\", \"2024-2025\", \"03/01/2025\", \"21:00\", \"Allianz Riviera\", \"Nice\", \"Rennes\", 21332, \"Laborde\", \"7.7\"], [20, \"Ligue 1\", \"2024-2025\", \"03/01/2025\", \"21:00\", \"Allianz Riviera\", \"Nice\", \"Rennes\", 21332, \"Mandanda\", \"5.2\"], [21, \"Ligue 1\", \"2024-2025\", \"03/01/2025\", \"21:00\", \"Allianz Riviera\", \"Nice\", \"Rennes\", 21332, \"Hateboer\", \"6.6\"], [22, \"Ligue 1\", \"2024-2025\", \"03/01/2025\", \"21:00\", \"Allianz Riviera\", \"Nice\", \"Rennes\", 21332, \"\\u00d8stig\\u00e5rd\", \"6.3\"], [23, \"Ligue 1\", \"2024-2025\", \"03/01/2025\", \"21:00\", \"Allianz Riviera\", \"Nice\", \"Rennes\", 21332, \"Faye\", \"6.1\"], [24, \"Ligue 1\", \"2024-2025\", \"03/01/2025\", \"21:00\", \"Allianz Riviera\", \"Nice\", \"Rennes\", 21332, \"Assignon\", \"6.2\"], [25, \"Ligue 1\", \"2024-2025\", \"03/01/2025\", \"21:00\", \"Allianz Riviera\", \"Nice\", \"Rennes\", 21332, \"Truffert\", \"7.9\"], [26, \"Ligue 1\", \"2024-2025\", \"03/01/2025\", \"21:00\", \"Allianz Riviera\", \"Nice\", \"Rennes\", 21332, \"Matusiwa\", \"6.8\"], [27, \"Ligue 1\", \"2024-2025\", \"03/01/2025\", \"21:00\", \"Allianz Riviera\", \"Nice\", \"Rennes\", 21332, \"James\", \"6.8\"], [28, \"Ligue 1\", \"2024-2025\", \"03/01/2025\", \"21:00\", \"Allianz Riviera\", \"Nice\", \"Rennes\", 21332, \"Gr\\u00f8nb\\u00e6k\", \"5.8\"], [29, \"Ligue 1\", \"2024-2025\", \"03/01/2025\", \"21:00\", \"Allianz Riviera\", \"Nice\", \"Rennes\", 21332, \"Blas\", \"6.9\"], [30, \"Ligue 1\", \"2024-2025\", \"03/01/2025\", \"21:00\", \"Allianz Riviera\", \"Nice\", \"Rennes\", 21332, \"Kalimuendo\", \"7.4\"], [31, \"Ligue 1\", \"2024-2025\", \"03/01/2025\", \"21:00\", \"Allianz Riviera\", \"Nice\", \"Rennes\", 21332, \"Fofana\", \"6.2\"], [32, \"Ligue 1\", \"2024-2025\", \"03/01/2025\", \"21:00\", \"Allianz Riviera\", \"Nice\", \"Rennes\", 21332, \"Gouiri\", \"6.2\"], [33, \"Ligue 1\", \"2024-2025\", \"03/01/2025\", \"21:00\", \"Allianz Riviera\", \"Nice\", \"Rennes\", 21332, \"G\\u00f3mez\", \"6.0\"], [34, \"Ligue 1\", \"2024-2025\", \"03/01/2025\", \"21:00\", \"Allianz Riviera\", \"Nice\", \"Rennes\", 21332, \"Wooh\", \"NaN\"], [35, \"Ligue 1\", \"2024-2025\", \"03/01/2025\", \"21:00\", \"Allianz Riviera\", \"Nice\", \"Rennes\", 21332, \"Nagida\", \"NaN\"], [36, \"Ligue 1\", \"2024-2025\", \"03/01/2025\", \"21:00\", \"Allianz Riviera\", \"Nice\", \"Rennes\", 21332, \"Kamara\", \"NaN\"], [37, \"Ligue 1\", \"2024-2025\", \"03/01/2025\", \"21:00\", \"Allianz Riviera\", \"Nice\", \"Rennes\", 21332, \"Gallon\", \"NaN\"], [38, \"Ligue 1\", \"2024-2025\", \"03/01/2025\", \"21:00\", \"Allianz Riviera\", \"Nice\", \"Rennes\", 21332, \"Santamar\\u00eda\", \"NaN\"], [39, \"Ligue 1\", \"2024-2025\", \"03/01/2025\", \"21:00\", \"Allianz Riviera\", \"Nice\", \"Rennes\", 21332, \"Jota\", \"NaN\"], [0, \"Ligue 1\", \"2024-2025\", \"12/01/2025\", \"17:15\", \"Stadium de Toulouse\", \"Toulouse\", \"Strasbourg\", 22042, \"Zajc\", \"6.2\"], [1, \"Ligue 1\", \"2024-2025\", \"12/01/2025\", \"17:15\", \"Stadium de Toulouse\", \"Toulouse\", \"Strasbourg\", 22042, \"Babicka\", \"6.4\"], [2, \"Ligue 1\", \"2024-2025\", \"12/01/2025\", \"17:15\", \"Stadium de Toulouse\", \"Toulouse\", \"Strasbourg\", 22042, \"Magri\", \"6.2\"], [3, \"Ligue 1\", \"2024-2025\", \"12/01/2025\", \"17:15\", \"Stadium de Toulouse\", \"Toulouse\", \"Strasbourg\", 22042, \"Genreau\", \"6.2\"], [4, \"Ligue 1\", \"2024-2025\", \"12/01/2025\", \"17:15\", \"Stadium de Toulouse\", \"Toulouse\", \"Strasbourg\", 22042, \"Edjouma\", \"NaN\"], [5, \"Ligue 1\", \"2024-2025\", \"12/01/2025\", \"17:15\", \"Stadium de Toulouse\", \"Toulouse\", \"Strasbourg\", 22042, \"Methalie\", \"NaN\"], [6, \"Ligue 1\", \"2024-2025\", \"12/01/2025\", \"17:15\", \"Stadium de Toulouse\", \"Toulouse\", \"Strasbourg\", 22042, \"Dom\\u00ednguez\", \"NaN\"], [7, \"Ligue 1\", \"2024-2025\", \"12/01/2025\", \"17:15\", \"Stadium de Toulouse\", \"Toulouse\", \"Strasbourg\", 22042, \"Zuliani\", \"NaN\"], [8, \"Ligue 1\", \"2024-2025\", \"12/01/2025\", \"17:15\", \"Stadium de Toulouse\", \"Toulouse\", \"Strasbourg\", 22042, \"Messali\", \"NaN\"], [9, \"Ligue 1\", \"2024-2025\", \"12/01/2025\", \"17:15\", \"Stadium de Toulouse\", \"Toulouse\", \"Strasbourg\", 22042, \"Restes\", \"4.9\"], [10, \"Ligue 1\", \"2024-2025\", \"12/01/2025\", \"17:15\", \"Stadium de Toulouse\", \"Toulouse\", \"Strasbourg\", 22042, \"Akdag\", \"5.7\"], [11, \"Ligue 1\", \"2024-2025\", \"12/01/2025\", \"17:15\", \"Stadium de Toulouse\", \"Toulouse\", \"Strasbourg\", 22042, \"McKenzie\", \"6.3\"], [12, \"Ligue 1\", \"2024-2025\", \"12/01/2025\", \"17:15\", \"Stadium de Toulouse\", \"Toulouse\", \"Strasbourg\", 22042, \"Cresswell\", \"6.4\"], [13, \"Ligue 1\", \"2024-2025\", \"12/01/2025\", \"17:15\", \"Stadium de Toulouse\", \"Toulouse\", \"Strasbourg\", 22042, \"D\\u00f8nnum\", \"7.7\"], [14, \"Ligue 1\", \"2024-2025\", \"12/01/2025\", \"17:15\", \"Stadium de Toulouse\", \"Toulouse\", \"Strasbourg\", 22042, \"Suazo\", \"6.9\"], [15, \"Ligue 1\", \"2024-2025\", \"12/01/2025\", \"17:15\", \"Stadium de Toulouse\", \"Toulouse\", \"Strasbourg\", 22042, \"C\\u00e1sseres\", \"7.3\"], [16, \"Ligue 1\", \"2024-2025\", \"12/01/2025\", \"17:15\", \"Stadium de Toulouse\", \"Toulouse\", \"Strasbourg\", 22042, \"Canvot\", \"6.5\"], [17, \"Ligue 1\", \"2024-2025\", \"12/01/2025\", \"17:15\", \"Stadium de Toulouse\", \"Toulouse\", \"Strasbourg\", 22042, \"Aboukhlal\", \"5.9\"], [18, \"Ligue 1\", \"2024-2025\", \"12/01/2025\", \"17:15\", \"Stadium de Toulouse\", \"Toulouse\", \"Strasbourg\", 22042, \"Gboho\", \"6.6\"], [19, \"Ligue 1\", \"2024-2025\", \"12/01/2025\", \"17:15\", \"Stadium de Toulouse\", \"Toulouse\", \"Strasbourg\", 22042, \"King\", \"6.2\"], [20, \"Ligue 1\", \"2024-2025\", \"12/01/2025\", \"17:15\", \"Stadium de Toulouse\", \"Toulouse\", \"Strasbourg\", 22042, \"Petrovic\", \"7.1\"], [21, \"Ligue 1\", \"2024-2025\", \"12/01/2025\", \"17:15\", \"Stadium de Toulouse\", \"Toulouse\", \"Strasbourg\", 22042, \"Dou\\u00e9\", \"7.5\"], [22, \"Ligue 1\", \"2024-2025\", \"12/01/2025\", \"17:15\", \"Stadium de Toulouse\", \"Toulouse\", \"Strasbourg\", 22042, \"Sarr\", \"7.3\"], [23, \"Ligue 1\", \"2024-2025\", \"12/01/2025\", \"17:15\", \"Stadium de Toulouse\", \"Toulouse\", \"Strasbourg\", 22042, \"Doukour\\u00e9\", \"6.5\"], [24, \"Ligue 1\", \"2024-2025\", \"12/01/2025\", \"17:15\", \"Stadium de Toulouse\", \"Toulouse\", \"Strasbourg\", 22042, \"Moreira\", \"6.2\"], [25, \"Ligue 1\", \"2024-2025\", \"12/01/2025\", \"17:15\", \"Stadium de Toulouse\", \"Toulouse\", \"Strasbourg\", 22042, \"Bakwa\", \"6.8\"], [26, \"Ligue 1\", \"2024-2025\", \"12/01/2025\", \"17:15\", \"Stadium de Toulouse\", \"Toulouse\", \"Strasbourg\", 22042, \"Santos\", \"7.4\"], [27, \"Ligue 1\", \"2024-2025\", \"12/01/2025\", \"17:15\", \"Stadium de Toulouse\", \"Toulouse\", \"Strasbourg\", 22042, \"Diarra\", \"7.0\"], [28, \"Ligue 1\", \"2024-2025\", \"12/01/2025\", \"17:15\", \"Stadium de Toulouse\", \"Toulouse\", \"Strasbourg\", 22042, \"Nanasi\", \"6.8\"], [29, \"Ligue 1\", \"2024-2025\", \"12/01/2025\", \"17:15\", \"Stadium de Toulouse\", \"Toulouse\", \"Strasbourg\", 22042, \"Lemar\\u00e9chal\", \"7.0\"], [30, \"Ligue 1\", \"2024-2025\", \"12/01/2025\", \"17:15\", \"Stadium de Toulouse\", \"Toulouse\", \"Strasbourg\", 22042, \"Emegha\", \"8.0\"], [31, \"Ligue 1\", \"2024-2025\", \"12/01/2025\", \"17:15\", \"Stadium de Toulouse\", \"Toulouse\", \"Strasbourg\", 22042, \"Sobol\", \"6.3\"], [32, \"Ligue 1\", \"2024-2025\", \"12/01/2025\", \"17:15\", \"Stadium de Toulouse\", \"Toulouse\", \"Strasbourg\", 22042, \"Diong\", \"6.0\"], [33, \"Ligue 1\", \"2024-2025\", \"12/01/2025\", \"17:15\", \"Stadium de Toulouse\", \"Toulouse\", \"Strasbourg\", 22042, \"Senaya\", \"6.0\"], [34, \"Ligue 1\", \"2024-2025\", \"12/01/2025\", \"17:15\", \"Stadium de Toulouse\", \"Toulouse\", \"Strasbourg\", 22042, \"Sebas\", \"NaN\"], [35, \"Ligue 1\", \"2024-2025\", \"12/01/2025\", \"17:15\", \"Stadium de Toulouse\", \"Toulouse\", \"Strasbourg\", 22042, \"Mwanga\", \"NaN\"], [36, \"Ligue 1\", \"2024-2025\", \"12/01/2025\", \"17:15\", \"Stadium de Toulouse\", \"Toulouse\", \"Strasbourg\", 22042, \"Mourabet\", \"NaN\"], [37, \"Ligue 1\", \"2024-2025\", \"12/01/2025\", \"17:15\", \"Stadium de Toulouse\", \"Toulouse\", \"Strasbourg\", 22042, \"Sow\", \"NaN\"], [38, \"Ligue 1\", \"2024-2025\", \"12/01/2025\", \"17:15\", \"Stadium de Toulouse\", \"Toulouse\", \"Strasbourg\", 22042, \"Johnsson\", \"NaN\"], [39, \"Ligue 1\", \"2024-2025\", \"12/01/2025\", \"17:15\", \"Stadium de Toulouse\", \"Toulouse\", \"Strasbourg\", 22042, \"Sylla\", \"NaN\"], [0, \"Ligue 1\", \"2024-2025\", \"10/01/2025\", \"19:00\", \"La Beaujoire-Louis-Fonteneau\", \"Nantes\", \"Monaco\", 25380, \"Mohamed\", \"6.0\"], [1, \"Ligue 1\", \"2024-2025\", \"10/01/2025\", \"19:00\", \"La Beaujoire-Louis-Fonteneau\", \"Nantes\", \"Monaco\", 25380, \"Gbamin\", \"5.9\"], [2, \"Ligue 1\", \"2024-2025\", \"10/01/2025\", \"19:00\", \"La Beaujoire-Louis-Fonteneau\", \"Nantes\", \"Monaco\", 25380, \"Coco\", \"NaN\"], [3, \"Ligue 1\", \"2024-2025\", \"10/01/2025\", \"19:00\", \"La Beaujoire-Louis-Fonteneau\", \"Nantes\", \"Monaco\", 25380, \"Duverne\", \"NaN\"], [4, \"Ligue 1\", \"2024-2025\", \"10/01/2025\", \"19:00\", \"La Beaujoire-Louis-Fonteneau\", \"Nantes\", \"Monaco\", 25380, \"Tabibou\", \"NaN\"], [5, \"Ligue 1\", \"2024-2025\", \"10/01/2025\", \"19:00\", \"La Beaujoire-Louis-Fonteneau\", \"Nantes\", \"Monaco\", 25380, \"Mollet\", \"NaN\"], [6, \"Ligue 1\", \"2024-2025\", \"10/01/2025\", \"19:00\", \"La Beaujoire-Louis-Fonteneau\", \"Nantes\", \"Monaco\", 25380, \"Carlgren\", \"NaN\"], [7, \"Ligue 1\", \"2024-2025\", \"10/01/2025\", \"19:00\", \"La Beaujoire-Louis-Fonteneau\", \"Nantes\", \"Monaco\", 25380, \"Leroux\", \"NaN\"], [8, \"Ligue 1\", \"2024-2025\", \"10/01/2025\", \"19:00\", \"La Beaujoire-Louis-Fonteneau\", \"Nantes\", \"Monaco\", 25380, \"Guirassy\", \"NaN\"], [9, \"Ligue 1\", \"2024-2025\", \"10/01/2025\", \"19:00\", \"La Beaujoire-Louis-Fonteneau\", \"Nantes\", \"Monaco\", 25380, \"Lopes\", \"6.0\"], [10, \"Ligue 1\", \"2024-2025\", \"10/01/2025\", \"19:00\", \"La Beaujoire-Louis-Fonteneau\", \"Nantes\", \"Monaco\", 25380, \"Amian\", \"7.3\"], [11, \"Ligue 1\", \"2024-2025\", \"10/01/2025\", \"19:00\", \"La Beaujoire-Louis-Fonteneau\", \"Nantes\", \"Monaco\", 25380, \"Pallois\", \"7.3\"], [12, \"Ligue 1\", \"2024-2025\", \"10/01/2025\", \"19:00\", \"La Beaujoire-Louis-Fonteneau\", \"Nantes\", \"Monaco\", 25380, \"Z\\u00e9z\\u00e9\", \"6.2\"], [13, \"Ligue 1\", \"2024-2025\", \"10/01/2025\", \"19:00\", \"La Beaujoire-Louis-Fonteneau\", \"Nantes\", \"Monaco\", 25380, \"Cozza\", \"6.3\"], [14, \"Ligue 1\", \"2024-2025\", \"10/01/2025\", \"19:00\", \"La Beaujoire-Louis-Fonteneau\", \"Nantes\", \"Monaco\", 25380, \"Castelletto\", \"6.1\"], [15, \"Ligue 1\", \"2024-2025\", \"10/01/2025\", \"19:00\", \"La Beaujoire-Louis-Fonteneau\", \"Nantes\", \"Monaco\", 25380, \"Thomas\", \"7.8\"], [16, \"Ligue 1\", \"2024-2025\", \"10/01/2025\", \"19:00\", \"La Beaujoire-Louis-Fonteneau\", \"Nantes\", \"Monaco\", 25380, \"Augusto\", \"7.3\"], [17, \"Ligue 1\", \"2024-2025\", \"10/01/2025\", \"19:00\", \"La Beaujoire-Louis-Fonteneau\", \"Nantes\", \"Monaco\", 25380, \"Lepenant\", \"7.0\"], [18, \"Ligue 1\", \"2024-2025\", \"10/01/2025\", \"19:00\", \"La Beaujoire-Louis-Fonteneau\", \"Nantes\", \"Monaco\", 25380, \"Simon\", \"6.8\"], [19, \"Ligue 1\", \"2024-2025\", \"10/01/2025\", \"19:00\", \"La Beaujoire-Louis-Fonteneau\", \"Nantes\", \"Monaco\", 25380, \"Abline\", \"7.6\"], [20, \"Ligue 1\", \"2024-2025\", \"10/01/2025\", \"19:00\", \"La Beaujoire-Louis-Fonteneau\", \"Nantes\", \"Monaco\", 25380, \"K\\u00f6hn\", \"6.1\"], [21, \"Ligue 1\", \"2024-2025\", \"10/01/2025\", \"19:00\", \"La Beaujoire-Louis-Fonteneau\", \"Nantes\", \"Monaco\", 25380, \"Kehrer\", \"6.3\"], [22, \"Ligue 1\", \"2024-2025\", \"10/01/2025\", \"19:00\", \"La Beaujoire-Louis-Fonteneau\", \"Nantes\", \"Monaco\", 25380, \"Salisu\", \"7.6\"], [23, \"Ligue 1\", \"2024-2025\", \"10/01/2025\", \"19:00\", \"La Beaujoire-Louis-Fonteneau\", \"Nantes\", \"Monaco\", 25380, \"Singo\", \"7.2\"], [24, \"Ligue 1\", \"2024-2025\", \"10/01/2025\", \"19:00\", \"La Beaujoire-Louis-Fonteneau\", \"Nantes\", \"Monaco\", 25380, \"Vanderson\", \"6.4\"], [25, \"Ligue 1\", \"2024-2025\", \"10/01/2025\", \"19:00\", \"La Beaujoire-Louis-Fonteneau\", \"Nantes\", \"Monaco\", 25380, \"Ouattara\", \"6.8\"], [26, \"Ligue 1\", \"2024-2025\", \"10/01/2025\", \"19:00\", \"La Beaujoire-Louis-Fonteneau\", \"Nantes\", \"Monaco\", 25380, \"Camara\", \"8.0\"], [27, \"Ligue 1\", \"2024-2025\", \"10/01/2025\", \"19:00\", \"La Beaujoire-Louis-Fonteneau\", \"Nantes\", \"Monaco\", 25380, \"Zakaria\", \"6.3\"], [28, \"Ligue 1\", \"2024-2025\", \"10/01/2025\", \"19:00\", \"La Beaujoire-Louis-Fonteneau\", \"Nantes\", \"Monaco\", 25380, \"Seghir\", \"7.1\"], [29, \"Ligue 1\", \"2024-2025\", \"10/01/2025\", \"19:00\", \"La Beaujoire-Louis-Fonteneau\", \"Nantes\", \"Monaco\", 25380, \"Bouabr\\u00e9\", \"5.9\"], [30, \"Ligue 1\", \"2024-2025\", \"10/01/2025\", \"19:00\", \"La Beaujoire-Louis-Fonteneau\", \"Nantes\", \"Monaco\", 25380, \"Embolo\", \"7.1\"], [31, \"Ligue 1\", \"2024-2025\", \"10/01/2025\", \"19:00\", \"La Beaujoire-Louis-Fonteneau\", \"Nantes\", \"Monaco\", 25380, \"Michal\", \"6.3\"], [32, \"Ligue 1\", \"2024-2025\", \"10/01/2025\", \"19:00\", \"La Beaujoire-Louis-Fonteneau\", \"Nantes\", \"Monaco\", 25380, \"Henrique\", \"6.2\"], [33, \"Ligue 1\", \"2024-2025\", \"10/01/2025\", \"19:00\", \"La Beaujoire-Louis-Fonteneau\", \"Nantes\", \"Monaco\", 25380, \"Matazo\", \"NaN\"], [34, \"Ligue 1\", \"2024-2025\", \"10/01/2025\", \"19:00\", \"La Beaujoire-Louis-Fonteneau\", \"Nantes\", \"Monaco\", 25380, \"Magassa\", \"NaN\"], [35, \"Ligue 1\", \"2024-2025\", \"10/01/2025\", \"19:00\", \"La Beaujoire-Louis-Fonteneau\", \"Nantes\", \"Monaco\", 25380, \"Diop\", \"NaN\"], [36, \"Ligue 1\", \"2024-2025\", \"10/01/2025\", \"19:00\", \"La Beaujoire-Louis-Fonteneau\", \"Nantes\", \"Monaco\", 25380, \"Coulibaly\", \"NaN\"], [37, \"Ligue 1\", \"2024-2025\", \"10/01/2025\", \"19:00\", \"La Beaujoire-Louis-Fonteneau\", \"Nantes\", \"Monaco\", 25380, \"Kiwa\", \"NaN\"], [38, \"Ligue 1\", \"2024-2025\", \"10/01/2025\", \"19:00\", \"La Beaujoire-Louis-Fonteneau\", \"Nantes\", \"Monaco\", 25380, \"Teze\", \"NaN\"], [39, \"Ligue 1\", \"2024-2025\", \"10/01/2025\", \"19:00\", \"La Beaujoire-Louis-Fonteneau\", \"Nantes\", \"Monaco\", 25380, \"Majecki\", \"NaN\"], [0, \"Ligue 1\", \"2024-2025\", \"10/01/2025\", \"21:05\", \"Stade de l'Abb\\u00e9-Deschamps\", \"Auxerre\", \"Lille\", 15599, \"Bair\", \"5.9\"], [1, \"Ligue 1\", \"2024-2025\", \"10/01/2025\", \"21:05\", \"Stade de l'Abb\\u00e9-Deschamps\", \"Auxerre\", \"Lille\", 15599, \"Onaiwu\", \"6.1\"], [2, \"Ligue 1\", \"2024-2025\", \"10/01/2025\", \"21:05\", \"Stade de l'Abb\\u00e9-Deschamps\", \"Auxerre\", \"Lille\", 15599, \"Massengo\", \"6.1\"], [3, \"Ligue 1\", \"2024-2025\", \"10/01/2025\", \"21:05\", \"Stade de l'Abb\\u00e9-Deschamps\", \"Auxerre\", \"Lille\", 15599, \"Ay\\u00e9\", \"6.1\"], [4, \"Ligue 1\", \"2024-2025\", \"10/01/2025\", \"21:05\", \"Stade de l'Abb\\u00e9-Deschamps\", \"Auxerre\", \"Lille\", 15599, \"Negrel\", \"NaN\"], [5, \"Ligue 1\", \"2024-2025\", \"10/01/2025\", \"21:05\", \"Stade de l'Abb\\u00e9-Deschamps\", \"Auxerre\", \"Lille\", 15599, \"Raveloson\", \"NaN\"], [6, \"Ligue 1\", \"2024-2025\", \"10/01/2025\", \"21:05\", \"Stade de l'Abb\\u00e9-Deschamps\", \"Auxerre\", \"Lille\", 15599, \"Agouzoul\", \"NaN\"], [7, \"Ligue 1\", \"2024-2025\", \"10/01/2025\", \"21:05\", \"Stade de l'Abb\\u00e9-Deschamps\", \"Auxerre\", \"Lille\", 15599, \"Hoever\", \"NaN\"], [8, \"Ligue 1\", \"2024-2025\", \"10/01/2025\", \"21:05\", \"Stade de l'Abb\\u00e9-Deschamps\", \"Auxerre\", \"Lille\", 15599, \"Ke\\u00efta\", \"NaN\"], [9, \"Ligue 1\", \"2024-2025\", \"10/01/2025\", \"21:05\", \"Stade de l'Abb\\u00e9-Deschamps\", \"Auxerre\", \"Lille\", 15599, \"Percin\", \"8.5\"], [10, \"Ligue 1\", \"2024-2025\", \"10/01/2025\", \"21:05\", \"Stade de l'Abb\\u00e9-Deschamps\", \"Auxerre\", \"Lille\", 15599, \"Joly\", \"5.7\"], [11, \"Ligue 1\", \"2024-2025\", \"10/01/2025\", \"21:05\", \"Stade de l'Abb\\u00e9-Deschamps\", \"Auxerre\", \"Lille\", 15599, \"Jubal\", \"7.5\"], [12, \"Ligue 1\", \"2024-2025\", \"10/01/2025\", \"21:05\", \"Stade de l'Abb\\u00e9-Deschamps\", \"Auxerre\", \"Lille\", 15599, \"Diomand\\u00e9\", \"7.1\"], [13, \"Ligue 1\", \"2024-2025\", \"10/01/2025\", \"21:05\", \"Stade de l'Abb\\u00e9-Deschamps\", \"Auxerre\", \"Lille\", 15599, \"Akpa\", \"7.3\"], [14, \"Ligue 1\", \"2024-2025\", \"10/01/2025\", \"21:05\", \"Stade de l'Abb\\u00e9-Deschamps\", \"Auxerre\", \"Lille\", 15599, \"Mensah\", \"7.1\"], [15, \"Ligue 1\", \"2024-2025\", \"10/01/2025\", \"21:05\", \"Stade de l'Abb\\u00e9-Deschamps\", \"Auxerre\", \"Lille\", 15599, \"Perrin\", \"8.2\"], [16, \"Ligue 1\", \"2024-2025\", \"10/01/2025\", \"21:05\", \"Stade de l'Abb\\u00e9-Deschamps\", \"Auxerre\", \"Lille\", 15599, \"Owusu\", \"7.3\"], [17, \"Ligue 1\", \"2024-2025\", \"10/01/2025\", \"21:05\", \"Stade de l'Abb\\u00e9-Deschamps\", \"Auxerre\", \"Lille\", 15599, \"Diouss\\u00e9\", \"6.5\"], [18, \"Ligue 1\", \"2024-2025\", \"10/01/2025\", \"21:05\", \"Stade de l'Abb\\u00e9-Deschamps\", \"Auxerre\", \"Lille\", 15599, \"Traor\\u00e9\", \"6.5\"], [19, \"Ligue 1\", \"2024-2025\", \"10/01/2025\", \"21:05\", \"Stade de l'Abb\\u00e9-Deschamps\", \"Auxerre\", \"Lille\", 15599, \"Sinayoko\", \"6.4\"], [20, \"Ligue 1\", \"2024-2025\", \"10/01/2025\", \"21:05\", \"Stade de l'Abb\\u00e9-Deschamps\", \"Auxerre\", \"Lille\", 15599, \"Chevalier\", \"7.4\"], [21, \"Ligue 1\", \"2024-2025\", \"10/01/2025\", \"21:05\", \"Stade de l'Abb\\u00e9-Deschamps\", \"Auxerre\", \"Lille\", 15599, \"Mandi\", \"6.7\"], [22, \"Ligue 1\", \"2024-2025\", \"10/01/2025\", \"21:05\", \"Stade de l'Abb\\u00e9-Deschamps\", \"Auxerre\", \"Lille\", 15599, \"Ribeiro\", \"7.1\"], [23, \"Ligue 1\", \"2024-2025\", \"10/01/2025\", \"21:05\", \"Stade de l'Abb\\u00e9-Deschamps\", \"Auxerre\", \"Lille\", 15599, \"Diakit\\u00e9\", \"6.9\"], [24, \"Ligue 1\", \"2024-2025\", \"10/01/2025\", \"21:05\", \"Stade de l'Abb\\u00e9-Deschamps\", \"Auxerre\", \"Lille\", 15599, \"Ismaily\", \"7.2\"], [25, \"Ligue 1\", \"2024-2025\", \"10/01/2025\", \"21:05\", \"Stade de l'Abb\\u00e9-Deschamps\", \"Auxerre\", \"Lille\", 15599, \"Andr\\u00e9\", \"7.9\"], [26, \"Ligue 1\", \"2024-2025\", \"10/01/2025\", \"21:05\", \"Stade de l'Abb\\u00e9-Deschamps\", \"Auxerre\", \"Lille\", 15599, \"Gomes\", \"6.4\"], [27, \"Ligue 1\", \"2024-2025\", \"10/01/2025\", \"21:05\", \"Stade de l'Abb\\u00e9-Deschamps\", \"Auxerre\", \"Lille\", 15599, \"Cabella\", \"7.3\"], [28, \"Ligue 1\", \"2024-2025\", \"10/01/2025\", \"21:05\", \"Stade de l'Abb\\u00e9-Deschamps\", \"Auxerre\", \"Lille\", 15599, \"Bouaddi\", \"6.6\"], [29, \"Ligue 1\", \"2024-2025\", \"10/01/2025\", \"21:05\", \"Stade de l'Abb\\u00e9-Deschamps\", \"Auxerre\", \"Lille\", 15599, \"Haraldsson\", \"7.0\"], [30, \"Ligue 1\", \"2024-2025\", \"10/01/2025\", \"21:05\", \"Stade de l'Abb\\u00e9-Deschamps\", \"Auxerre\", \"Lille\", 15599, \"David\", \"5.6\"], [31, \"Ligue 1\", \"2024-2025\", \"10/01/2025\", \"21:05\", \"Stade de l'Abb\\u00e9-Deschamps\", \"Auxerre\", \"Lille\", 15599, \"Gomes\", \"6.3\"], [32, \"Ligue 1\", \"2024-2025\", \"10/01/2025\", \"21:05\", \"Stade de l'Abb\\u00e9-Deschamps\", \"Auxerre\", \"Lille\", 15599, \"Gudmundsson\", \"6.3\"], [33, \"Ligue 1\", \"2024-2025\", \"10/01/2025\", \"21:05\", \"Stade de l'Abb\\u00e9-Deschamps\", \"Auxerre\", \"Lille\", 15599, \"Sahraoui\", \"6.1\"], [34, \"Ligue 1\", \"2024-2025\", \"10/01/2025\", \"21:05\", \"Stade de l'Abb\\u00e9-Deschamps\", \"Auxerre\", \"Lille\", 15599, \"Bayo\", \"6.0\"], [35, \"Ligue 1\", \"2024-2025\", \"10/01/2025\", \"21:05\", \"Stade de l'Abb\\u00e9-Deschamps\", \"Auxerre\", \"Lille\", 15599, \"Meunier\", \"6.6\"], [36, \"Ligue 1\", \"2024-2025\", \"10/01/2025\", \"21:05\", \"Stade de l'Abb\\u00e9-Deschamps\", \"Auxerre\", \"Lille\", 15599, \"Malouda\", \"NaN\"], [37, \"Ligue 1\", \"2024-2025\", \"10/01/2025\", \"21:05\", \"Stade de l'Abb\\u00e9-Deschamps\", \"Auxerre\", \"Lille\", 15599, \"Mannone\", \"NaN\"], [38, \"Ligue 1\", \"2024-2025\", \"10/01/2025\", \"21:05\", \"Stade de l'Abb\\u00e9-Deschamps\", \"Auxerre\", \"Lille\", 15599, \"Bakker\", \"NaN\"], [39, \"Ligue 1\", \"2024-2025\", \"10/01/2025\", \"21:05\", \"Stade de l'Abb\\u00e9-Deschamps\", \"Auxerre\", \"Lille\", 15599, \"Mukau\", \"NaN\"], [0, \"Ligue 1\", \"2024-2025\", \"11/01/2025\", \"19:00\", \"Stade Auguste-Delaune II\", \"Reims\", \"Nice\", 12270, \"Bamba\", \"6.0\"], [1, \"Ligue 1\", \"2024-2025\", \"11/01/2025\", \"19:00\", \"Stade Auguste-Delaune II\", \"Reims\", \"Nice\", 12270, \"Kon\\u00e9\", \"5.9\"], [2, \"Ligue 1\", \"2024-2025\", \"11/01/2025\", \"19:00\", \"Stade Auguste-Delaune II\", \"Reims\", \"Nice\", 12270, \"Sangui\", \"6.0\"], [3, \"Ligue 1\", \"2024-2025\", \"11/01/2025\", \"19:00\", \"Stade Auguste-Delaune II\", \"Reims\", \"Nice\", 12270, \"Diakhon\", \"7.1\"], [4, \"Ligue 1\", \"2024-2025\", \"11/01/2025\", \"19:00\", \"Stade Auguste-Delaune II\", \"Reims\", \"Nice\", 12270, \"Smet\", \"6.0\"], [5, \"Ligue 1\", \"2024-2025\", \"11/01/2025\", \"19:00\", \"Stade Auguste-Delaune II\", \"Reims\", \"Nice\", 12270, \"Salama\", \"NaN\"], [6, \"Ligue 1\", \"2024-2025\", \"11/01/2025\", \"19:00\", \"Stade Auguste-Delaune II\", \"Reims\", \"Nice\", 12270, \"Olliero\", \"NaN\"], [7, \"Ligue 1\", \"2024-2025\", \"11/01/2025\", \"19:00\", \"Stade Auguste-Delaune II\", \"Reims\", \"Nice\", 12270, \"Sissoko\", \"NaN\"], [8, \"Ligue 1\", \"2024-2025\", \"11/01/2025\", \"19:00\", \"Stade Auguste-Delaune II\", \"Reims\", \"Nice\", 12270, \"Orazi\", \"NaN\"], [9, \"Ligue 1\", \"2024-2025\", \"11/01/2025\", \"19:00\", \"Stade Auguste-Delaune II\", \"Reims\", \"Nice\", 12270, \"Diouf\", \"6.4\"], [10, \"Ligue 1\", \"2024-2025\", \"11/01/2025\", \"19:00\", \"Stade Auguste-Delaune II\", \"Reims\", \"Nice\", 12270, \"Buta\", \"6.6\"], [11, \"Ligue 1\", \"2024-2025\", \"11/01/2025\", \"19:00\", \"Stade Auguste-Delaune II\", \"Reims\", \"Nice\", 12270, \"Kipr\\u00e9\", \"5.7\"], [12, \"Ligue 1\", \"2024-2025\", \"11/01/2025\", \"19:00\", \"Stade Auguste-Delaune II\", \"Reims\", \"Nice\", 12270, \"Okumu\", \"6.4\"], [13, \"Ligue 1\", \"2024-2025\", \"11/01/2025\", \"19:00\", \"Stade Auguste-Delaune II\", \"Reims\", \"Nice\", 12270, \"Akieme\", \"6.0\"], [14, \"Ligue 1\", \"2024-2025\", \"11/01/2025\", \"19:00\", \"Stade Auguste-Delaune II\", \"Reims\", \"Nice\", 12270, \"Edoa\", \"6.2\"], [15, \"Ligue 1\", \"2024-2025\", \"11/01/2025\", \"19:00\", \"Stade Auguste-Delaune II\", \"Reims\", \"Nice\", 12270, \"Munetsi\", \"6.4\"], [16, \"Ligue 1\", \"2024-2025\", \"11/01/2025\", \"19:00\", \"Stade Auguste-Delaune II\", \"Reims\", \"Nice\", 12270, \"Ito\", \"7.3\"], [17, \"Ligue 1\", \"2024-2025\", \"11/01/2025\", \"19:00\", \"Stade Auguste-Delaune II\", \"Reims\", \"Nice\", 12270, \"Teuma\", \"6.2\"], [18, \"Ligue 1\", \"2024-2025\", \"11/01/2025\", \"19:00\", \"Stade Auguste-Delaune II\", \"Reims\", \"Nice\", 12270, \"Nakamura\", \"6.1\"], [19, \"Ligue 1\", \"2024-2025\", \"11/01/2025\", \"19:00\", \"Stade Auguste-Delaune II\", \"Reims\", \"Nice\", 12270, \"Diakit\\u00e9\", \"6.0\"], [20, \"Ligue 1\", \"2024-2025\", \"11/01/2025\", \"19:00\", \"Stade Auguste-Delaune II\", \"Reims\", \"Nice\", 12270, \"Bulka\", \"6.0\"], [21, \"Ligue 1\", \"2024-2025\", \"11/01/2025\", \"19:00\", \"Stade Auguste-Delaune II\", \"Reims\", \"Nice\", 12270, \"Clauss\", \"7.0\"], [22, \"Ligue 1\", \"2024-2025\", \"11/01/2025\", \"19:00\", \"Stade Auguste-Delaune II\", \"Reims\", \"Nice\", 12270, \"Dante\", \"6.1\"], [23, \"Ligue 1\", \"2024-2025\", \"11/01/2025\", \"19:00\", \"Stade Auguste-Delaune II\", \"Reims\", \"Nice\", 12270, \"Ndayishimiye\", \"6.5\"], [24, \"Ligue 1\", \"2024-2025\", \"11/01/2025\", \"19:00\", \"Stade Auguste-Delaune II\", \"Reims\", \"Nice\", 12270, \"Bard\", \"6.9\"], [25, \"Ligue 1\", \"2024-2025\", \"11/01/2025\", \"19:00\", \"Stade Auguste-Delaune II\", \"Reims\", \"Nice\", 12270, \"Boudaoui\", \"7.0\"], [26, \"Ligue 1\", \"2024-2025\", \"11/01/2025\", \"19:00\", \"Stade Auguste-Delaune II\", \"Reims\", \"Nice\", 12270, \"Ndomb\\u00e9l\\u00e9\", \"6.6\"], [27, \"Ligue 1\", \"2024-2025\", \"11/01/2025\", \"19:00\", \"Stade Auguste-Delaune II\", \"Reims\", \"Nice\", 12270, \"Guessand\", \"7.8\"], [28, \"Ligue 1\", \"2024-2025\", \"11/01/2025\", \"19:00\", \"Stade Auguste-Delaune II\", \"Reims\", \"Nice\", 12270, \"Bouanani\", \"6.9\"], [29, \"Ligue 1\", \"2024-2025\", \"11/01/2025\", \"19:00\", \"Stade Auguste-Delaune II\", \"Reims\", \"Nice\", 12270, \"Diop\", \"7.7\"], [30, \"Ligue 1\", \"2024-2025\", \"11/01/2025\", \"19:00\", \"Stade Auguste-Delaune II\", \"Reims\", \"Nice\", 12270, \"Laborde\", \"8.9\"], [31, \"Ligue 1\", \"2024-2025\", \"11/01/2025\", \"19:00\", \"Stade Auguste-Delaune II\", \"Reims\", \"Nice\", 12270, \"Abdi\", \"7.4\"], [32, \"Ligue 1\", \"2024-2025\", \"11/01/2025\", \"19:00\", \"Stade Auguste-Delaune II\", \"Reims\", \"Nice\", 12270, \"Moukoko\", \"6.1\"], [33, \"Ligue 1\", \"2024-2025\", \"11/01/2025\", \"19:00\", \"Stade Auguste-Delaune II\", \"Reims\", \"Nice\", 12270, \"Cho\", \"6.8\"], [34, \"Ligue 1\", \"2024-2025\", \"11/01/2025\", \"19:00\", \"Stade Auguste-Delaune II\", \"Reims\", \"Nice\", 12270, \"Mendy\", \"6.6\"], [35, \"Ligue 1\", \"2024-2025\", \"11/01/2025\", \"19:00\", \"Stade Auguste-Delaune II\", \"Reims\", \"Nice\", 12270, \"Louchet\", \"6.5\"], [36, \"Ligue 1\", \"2024-2025\", \"11/01/2025\", \"19:00\", \"Stade Auguste-Delaune II\", \"Reims\", \"Nice\", 12270, \"Nguene\", \"NaN\"], [37, \"Ligue 1\", \"2024-2025\", \"11/01/2025\", \"19:00\", \"Stade Auguste-Delaune II\", \"Reims\", \"Nice\", 12270, \"Abdelmonem\", \"NaN\"], [38, \"Ligue 1\", \"2024-2025\", \"11/01/2025\", \"19:00\", \"Stade Auguste-Delaune II\", \"Reims\", \"Nice\", 12270, \"Dup\\u00e9\", \"NaN\"], [39, \"Ligue 1\", \"2024-2025\", \"11/01/2025\", \"19:00\", \"Stade Auguste-Delaune II\", \"Reims\", \"Nice\", 12270, \"Camara\", \"NaN\"], [0, \"Ligue 1\", \"2024-2025\", \"12/01/2025\", \"15:00\", \"Stade Oc\\u00e9ane\", \"Le Havre\", \"Lens\", 19617, \"Soumar\\u00e9\", \"6.1\"], [1, \"Ligue 1\", \"2024-2025\", \"12/01/2025\", \"15:00\", \"Stade Oc\\u00e9ane\", \"Le Havre\", \"Lens\", 19617, \"Casimir\", \"6.1\"], [2, \"Ligue 1\", \"2024-2025\", \"12/01/2025\", \"15:00\", \"Stade Oc\\u00e9ane\", \"Le Havre\", \"Lens\", 19617, \"Targhalline\", \"5.9\"], [3, \"Ligue 1\", \"2024-2025\", \"12/01/2025\", \"15:00\", \"Stade Oc\\u00e9ane\", \"Le Havre\", \"Lens\", 19617, \"Gorgelin\", \"NaN\"], [4, \"Ligue 1\", \"2024-2025\", \"12/01/2025\", \"15:00\", \"Stade Oc\\u00e9ane\", \"Le Havre\", \"Lens\", 19617, \"Confais\", \"NaN\"], [5, \"Ligue 1\", \"2024-2025\", \"12/01/2025\", \"15:00\", \"Stade Oc\\u00e9ane\", \"Le Havre\", \"Lens\", 19617, \"Pemb\\u00e9l\\u00e9\", \"NaN\"], [6, \"Ligue 1\", \"2024-2025\", \"12/01/2025\", \"15:00\", \"Stade Oc\\u00e9ane\", \"Le Havre\", \"Lens\", 19617, \"Kechta\", \"NaN\"], [7, \"Ligue 1\", \"2024-2025\", \"12/01/2025\", \"15:00\", \"Stade Oc\\u00e9ane\", \"Le Havre\", \"Lens\", 19617, \"Sangante\", \"NaN\"], [8, \"Ligue 1\", \"2024-2025\", \"12/01/2025\", \"15:00\", \"Stade Oc\\u00e9ane\", \"Le Havre\", \"Lens\", 19617, \"Housni\", \"NaN\"], [9, \"Ligue 1\", \"2024-2025\", \"12/01/2025\", \"15:00\", \"Stade Oc\\u00e9ane\", \"Le Havre\", \"Lens\", 19617, \"Desmas\", \"6.7\"], [10, \"Ligue 1\", \"2024-2025\", \"12/01/2025\", \"15:00\", \"Stade Oc\\u00e9ane\", \"Le Havre\", \"Lens\", 19617, \"Salmier\", \"6.7\"], [11, \"Ligue 1\", \"2024-2025\", \"12/01/2025\", \"15:00\", \"Stade Oc\\u00e9ane\", \"Le Havre\", \"Lens\", 19617, \"Lloris\", \"7.8\"], [12, \"Ligue 1\", \"2024-2025\", \"12/01/2025\", \"15:00\", \"Stade Oc\\u00e9ane\", \"Le Havre\", \"Lens\", 19617, \"Yout\\u00e9\", \"6.7\"], [13, \"Ligue 1\", \"2024-2025\", \"12/01/2025\", \"15:00\", \"Stade Oc\\u00e9ane\", \"Le Havre\", \"Lens\", 19617, \"Zouaoui\", \"6.8\"], [14, \"Ligue 1\", \"2024-2025\", \"12/01/2025\", \"15:00\", \"Stade Oc\\u00e9ane\", \"Le Havre\", \"Lens\", 19617, \"Nego\", \"6.4\"], [15, \"Ligue 1\", \"2024-2025\", \"12/01/2025\", \"15:00\", \"Stade Oc\\u00e9ane\", \"Le Havre\", \"Lens\", 19617, \"Tour\\u00e9\", \"6.8\"], [16, \"Ligue 1\", \"2024-2025\", \"12/01/2025\", \"15:00\", \"Stade Oc\\u00e9ane\", \"Le Havre\", \"Lens\", 19617, \"Ndiaye\", \"6.6\"], [17, \"Ligue 1\", \"2024-2025\", \"12/01/2025\", \"15:00\", \"Stade Oc\\u00e9ane\", \"Le Havre\", \"Lens\", 19617, \"Joujou\", \"6.8\"], [18, \"Ligue 1\", \"2024-2025\", \"12/01/2025\", \"15:00\", \"Stade Oc\\u00e9ane\", \"Le Havre\", \"Lens\", 19617, \"Sabbi\", \"6.4\"], [19, \"Ligue 1\", \"2024-2025\", \"12/01/2025\", \"15:00\", \"Stade Oc\\u00e9ane\", \"Le Havre\", \"Lens\", 19617, \"Ayew\", \"6.6\"], [20, \"Ligue 1\", \"2024-2025\", \"12/01/2025\", \"15:00\", \"Stade Oc\\u00e9ane\", \"Le Havre\", \"Lens\", 19617, \"Koffi\", \"7.1\"], [21, \"Ligue 1\", \"2024-2025\", \"12/01/2025\", \"15:00\", \"Stade Oc\\u00e9ane\", \"Le Havre\", \"Lens\", 19617, \"Frankowski\", \"7.3\"], [22, \"Ligue 1\", \"2024-2025\", \"12/01/2025\", \"15:00\", \"Stade Oc\\u00e9ane\", \"Le Havre\", \"Lens\", 19617, \"Medina\", \"6.7\"], [23, \"Ligue 1\", \"2024-2025\", \"12/01/2025\", \"15:00\", \"Stade Oc\\u00e9ane\", \"Le Havre\", \"Lens\", 19617, \"Danso\", \"6.9\"], [24, \"Ligue 1\", \"2024-2025\", \"12/01/2025\", \"15:00\", \"Stade Oc\\u00e9ane\", \"Le Havre\", \"Lens\", 19617, \"Machado\", \"8.3\"], [25, \"Ligue 1\", \"2024-2025\", \"12/01/2025\", \"15:00\", \"Stade Oc\\u00e9ane\", \"Le Havre\", \"Lens\", 19617, \"Diouf\", \"7.0\"], [26, \"Ligue 1\", \"2024-2025\", \"12/01/2025\", \"15:00\", \"Stade Oc\\u00e9ane\", \"Le Havre\", \"Lens\", 19617, \"Thomasson\", \"6.4\"], [27, \"Ligue 1\", \"2024-2025\", \"12/01/2025\", \"15:00\", \"Stade Oc\\u00e9ane\", \"Le Havre\", \"Lens\", 19617, \"Sotoca\", \"8.0\"], [28, \"Ligue 1\", \"2024-2025\", \"12/01/2025\", \"15:00\", \"Stade Oc\\u00e9ane\", \"Le Havre\", \"Lens\", 19617, \"Fulgini\", \"7.2\"], [29, \"Ligue 1\", \"2024-2025\", \"12/01/2025\", \"15:00\", \"Stade Oc\\u00e9ane\", \"Le Havre\", \"Lens\", 19617, \"Zaroury\", \"6.8\"], [30, \"Ligue 1\", \"2024-2025\", \"12/01/2025\", \"15:00\", \"Stade Oc\\u00e9ane\", \"Le Havre\", \"Lens\", 19617, \"Koyalipou\", \"7.0\"], [31, \"Ligue 1\", \"2024-2025\", \"12/01/2025\", \"15:00\", \"Stade Oc\\u00e9ane\", \"Le Havre\", \"Lens\", 19617, \"Ojediran\", \"6.5\"], [32, \"Ligue 1\", \"2024-2025\", \"12/01/2025\", \"15:00\", \"Stade Oc\\u00e9ane\", \"Le Havre\", \"Lens\", 19617, \"Gradit\", \"6.4\"], [33, \"Ligue 1\", \"2024-2025\", \"12/01/2025\", \"15:00\", \"Stade Oc\\u00e9ane\", \"Le Havre\", \"Lens\", 19617, \"Nzola\", \"6.0\"], [34, \"Ligue 1\", \"2024-2025\", \"12/01/2025\", \"15:00\", \"Stade Oc\\u00e9ane\", \"Le Havre\", \"Lens\", 19617, \"Pouilly\", \"NaN\"], [35, \"Ligue 1\", \"2024-2025\", \"12/01/2025\", \"15:00\", \"Stade Oc\\u00e9ane\", \"Le Havre\", \"Lens\", 19617, \"Sarr\", \"NaN\"], [36, \"Ligue 1\", \"2024-2025\", \"12/01/2025\", \"15:00\", \"Stade Oc\\u00e9ane\", \"Le Havre\", \"Lens\", 19617, \"Di\\u00e9\", \"NaN\"], [37, \"Ligue 1\", \"2024-2025\", \"12/01/2025\", \"15:00\", \"Stade Oc\\u00e9ane\", \"Le Havre\", \"Lens\", 19617, \"Lenne\", \"NaN\"], [38, \"Ligue 1\", \"2024-2025\", \"12/01/2025\", \"15:00\", \"Stade Oc\\u00e9ane\", \"Le Havre\", \"Lens\", 19617, \"Mendy\", \"NaN\"], [39, \"Ligue 1\", \"2024-2025\", \"12/01/2025\", \"15:00\", \"Stade Oc\\u00e9ane\", \"Le Havre\", \"Lens\", 19617, \"Petric\", \"NaN\"], [0, \"Ligue 1\", \"2024-2025\", \"12/01/2025\", \"17:15\", \"Stade de la Mosson-Mondial 98\", \"Montpellier\", \"Angers\", 11719, \"Khazri\", \"5.8\"], [1, \"Ligue 1\", \"2024-2025\", \"12/01/2025\", \"17:15\", \"Stade de la Mosson-Mondial 98\", \"Montpellier\", \"Angers\", 11719, \"Kouyat\\u00e9\", \"4.7\"], [2, \"Ligue 1\", \"2024-2025\", \"12/01/2025\", \"17:15\", \"Stade de la Mosson-Mondial 98\", \"Montpellier\", \"Angers\", 11719, \"Sainte-Luce\", \"6.0\"], [3, \"Ligue 1\", \"2024-2025\", \"12/01/2025\", \"17:15\", \"Stade de la Mosson-Mondial 98\", \"Montpellier\", \"Angers\", 11719, \"Nordin\", \"6.5\"], [4, \"Ligue 1\", \"2024-2025\", \"12/01/2025\", \"17:15\", \"Stade de la Mosson-Mondial 98\", \"Montpellier\", \"Angers\", 11719, \"Fayad\", \"5.7\"], [5, \"Ligue 1\", \"2024-2025\", \"12/01/2025\", \"17:15\", \"Stade de la Mosson-Mondial 98\", \"Montpellier\", \"Angers\", 11719, \"Bertaud\", \"NaN\"], [6, \"Ligue 1\", \"2024-2025\", \"12/01/2025\", \"17:15\", \"Stade de la Mosson-Mondial 98\", \"Montpellier\", \"Angers\", 11719, \"Chennahi\", \"NaN\"], [7, \"Ligue 1\", \"2024-2025\", \"12/01/2025\", \"17:15\", \"Stade de la Mosson-Mondial 98\", \"Montpellier\", \"Angers\", 11719, \"Mouanga\", \"NaN\"], [8, \"Ligue 1\", \"2024-2025\", \"12/01/2025\", \"17:15\", \"Stade de la Mosson-Mondial 98\", \"Montpellier\", \"Angers\", 11719, \"Issoufou\", \"NaN\"], [9, \"Ligue 1\", \"2024-2025\", \"12/01/2025\", \"17:15\", \"Stade de la Mosson-Mondial 98\", \"Montpellier\", \"Angers\", 11719, \"Lecomte\", \"6.3\"], [10, \"Ligue 1\", \"2024-2025\", \"12/01/2025\", \"17:15\", \"Stade de la Mosson-Mondial 98\", \"Montpellier\", \"Angers\", 11719, \"Tchato\", \"6.3\"], [11, \"Ligue 1\", \"2024-2025\", \"12/01/2025\", \"17:15\", \"Stade de la Mosson-Mondial 98\", \"Montpellier\", \"Angers\", 11719, \"Sagnan\", \"7.1\"], [12, \"Ligue 1\", \"2024-2025\", \"12/01/2025\", \"17:15\", \"Stade de la Mosson-Mondial 98\", \"Montpellier\", \"Angers\", 11719, \"Omeragic\", \"6.4\"], [13, \"Ligue 1\", \"2024-2025\", \"12/01/2025\", \"17:15\", \"Stade de la Mosson-Mondial 98\", \"Montpellier\", \"Angers\", 11719, \"Sylla\", \"5.7\"], [14, \"Ligue 1\", \"2024-2025\", \"12/01/2025\", \"17:15\", \"Stade de la Mosson-Mondial 98\", \"Montpellier\", \"Angers\", 11719, \"Chotard\", \"6.2\"], [15, \"Ligue 1\", \"2024-2025\", \"12/01/2025\", \"17:15\", \"Stade de la Mosson-Mondial 98\", \"Montpellier\", \"Angers\", 11719, \"Ta'mari\", \"5.5\"], [16, \"Ligue 1\", \"2024-2025\", \"12/01/2025\", \"17:15\", \"Stade de la Mosson-Mondial 98\", \"Montpellier\", \"Angers\", 11719, \"Ferri\", \"5.2\"], [17, \"Ligue 1\", \"2024-2025\", \"12/01/2025\", \"17:15\", \"Stade de la Mosson-Mondial 98\", \"Montpellier\", \"Angers\", 11719, \"Nzingoula\", \"5.8\"], [18, \"Ligue 1\", \"2024-2025\", \"12/01/2025\", \"17:15\", \"Stade de la Mosson-Mondial 98\", \"Montpellier\", \"Angers\", 11719, \"Savanier\", \"6.8\"], [19, \"Ligue 1\", \"2024-2025\", \"12/01/2025\", \"17:15\", \"Stade de la Mosson-Mondial 98\", \"Montpellier\", \"Angers\", 11719, \"Adams\", \"6.6\"], [20, \"Ligue 1\", \"2024-2025\", \"12/01/2025\", \"17:15\", \"Stade de la Mosson-Mondial 98\", \"Montpellier\", \"Angers\", 11719, \"Fofana\", \"6.7\"], [21, \"Ligue 1\", \"2024-2025\", \"12/01/2025\", \"17:15\", \"Stade de la Mosson-Mondial 98\", \"Montpellier\", \"Angers\", 11719, \"Arcus\", \"7.0\"], [22, \"Ligue 1\", \"2024-2025\", \"12/01/2025\", \"17:15\", \"Stade de la Mosson-Mondial 98\", \"Montpellier\", \"Angers\", 11719, \"Lefort\", \"7.1\"], [23, \"Ligue 1\", \"2024-2025\", \"12/01/2025\", \"17:15\", \"Stade de la Mosson-Mondial 98\", \"Montpellier\", \"Angers\", 11719, \"Biumla\", \"6.4\"], [24, \"Ligue 1\", \"2024-2025\", \"12/01/2025\", \"17:15\", \"Stade de la Mosson-Mondial 98\", \"Montpellier\", \"Angers\", 11719, \"Hanin\", \"7.0\"], [25, \"Ligue 1\", \"2024-2025\", \"12/01/2025\", \"17:15\", \"Stade de la Mosson-Mondial 98\", \"Montpellier\", \"Angers\", 11719, \"Belkebla\", \"7.3\"], [26, \"Ligue 1\", \"2024-2025\", \"12/01/2025\", \"17:15\", \"Stade de la Mosson-Mondial 98\", \"Montpellier\", \"Angers\", 11719, \"Aholou\", \"7.3\"], [27, \"Ligue 1\", \"2024-2025\", \"12/01/2025\", \"17:15\", \"Stade de la Mosson-Mondial 98\", \"Montpellier\", \"Angers\", 11719, \"Allevinah\", \"6.9\"], [28, \"Ligue 1\", \"2024-2025\", \"12/01/2025\", \"17:15\", \"Stade de la Mosson-Mondial 98\", \"Montpellier\", \"Angers\", 11719, \"Abdelli\", \"7.0\"], [29, \"Ligue 1\", \"2024-2025\", \"12/01/2025\", \"17:15\", \"Stade de la Mosson-Mondial 98\", \"Montpellier\", \"Angers\", 11719, \"Melali\", \"6.8\"], [30, \"Ligue 1\", \"2024-2025\", \"12/01/2025\", \"17:15\", \"Stade de la Mosson-Mondial 98\", \"Montpellier\", \"Angers\", 11719, \"Lepaul\", \"8.2\"], [31, \"Ligue 1\", \"2024-2025\", \"12/01/2025\", \"17:15\", \"Stade de la Mosson-Mondial 98\", \"Montpellier\", \"Angers\", 11719, \"Niane\", \"6.2\"], [32, \"Ligue 1\", \"2024-2025\", \"12/01/2025\", \"17:15\", \"Stade de la Mosson-Mondial 98\", \"Montpellier\", \"Angers\", 11719, \"Raolisoa\", \"6.6\"], [33, \"Ligue 1\", \"2024-2025\", \"12/01/2025\", \"17:15\", \"Stade de la Mosson-Mondial 98\", \"Montpellier\", \"Angers\", 11719, \"Capelle\", \"6.1\"], [34, \"Ligue 1\", \"2024-2025\", \"12/01/2025\", \"17:15\", \"Stade de la Mosson-Mondial 98\", \"Montpellier\", \"Angers\", 11719, \"Belkhdim\", \"6.3\"], [35, \"Ligue 1\", \"2024-2025\", \"12/01/2025\", \"17:15\", \"Stade de la Mosson-Mondial 98\", \"Montpellier\", \"Angers\", 11719, \"Ferhat\", \"7.6\"], [36, \"Ligue 1\", \"2024-2025\", \"12/01/2025\", \"17:15\", \"Stade de la Mosson-Mondial 98\", \"Montpellier\", \"Angers\", 11719, \"Ekomi\\u00e9\", \"NaN\"], [37, \"Ligue 1\", \"2024-2025\", \"12/01/2025\", \"17:15\", \"Stade de la Mosson-Mondial 98\", \"Montpellier\", \"Angers\", 11719, \"Zinga\", \"NaN\"], [38, \"Ligue 1\", \"2024-2025\", \"12/01/2025\", \"17:15\", \"Stade de la Mosson-Mondial 98\", \"Montpellier\", \"Angers\", 11719, \"Dieng\", \"NaN\"], [39, \"Ligue 1\", \"2024-2025\", \"12/01/2025\", \"17:15\", \"Stade de la Mosson-Mondial 98\", \"Montpellier\", \"Angers\", 11719, \"Bamba\", \"NaN\"], [0, \"Ligue 1\", \"2024-2025\", \"11/01/2025\", \"17:00\", \"Stade Francis-Le Bl\\u00e9\", \"Brest\", \"Lyon\", 14735, \"Zogb\\u00e9\", \"6.1\"], [1, \"Ligue 1\", \"2024-2025\", \"11/01/2025\", \"17:00\", \"Stade Francis-Le Bl\\u00e9\", \"Brest\", \"Lyon\", 14735, \"Sima\", \"6.0\"], [2, \"Ligue 1\", \"2024-2025\", \"11/01/2025\", \"17:00\", \"Stade Francis-Le Bl\\u00e9\", \"Brest\", \"Lyon\", 14735, \"Lage\", \"6.1\"], [3, \"Ligue 1\", \"2024-2025\", \"11/01/2025\", \"17:00\", \"Stade Francis-Le Bl\\u00e9\", \"Brest\", \"Lyon\", 14735, \"Castillo\", \"6.4\"], [4, \"Ligue 1\", \"2024-2025\", \"11/01/2025\", \"17:00\", \"Stade Francis-Le Bl\\u00e9\", \"Brest\", \"Lyon\", 14735, \"Amavi\", \"6.2\"], [5, \"Ligue 1\", \"2024-2025\", \"11/01/2025\", \"17:00\", \"Stade Francis-Le Bl\\u00e9\", \"Brest\", \"Lyon\", 14735, \"Faivre\", \"NaN\"], [6, \"Ligue 1\", \"2024-2025\", \"11/01/2025\", \"17:00\", \"Stade Francis-Le Bl\\u00e9\", \"Brest\", \"Lyon\", 14735, \"Coudert\", \"NaN\"], [7, \"Ligue 1\", \"2024-2025\", \"11/01/2025\", \"17:00\", \"Stade Francis-Le Bl\\u00e9\", \"Brest\", \"Lyon\", 14735, \"Guen\", \"NaN\"], [8, \"Ligue 1\", \"2024-2025\", \"11/01/2025\", \"17:00\", \"Stade Francis-Le Bl\\u00e9\", \"Brest\", \"Lyon\", 14735, \"Salah\", \"NaN\"], [9, \"Ligue 1\", \"2024-2025\", \"11/01/2025\", \"17:00\", \"Stade Francis-Le Bl\\u00e9\", \"Brest\", \"Lyon\", 14735, \"Bizot\", \"7.0\"], [10, \"Ligue 1\", \"2024-2025\", \"11/01/2025\", \"17:00\", \"Stade Francis-Le Bl\\u00e9\", \"Brest\", \"Lyon\", 14735, \"Lala\", \"6.4\"], [11, \"Ligue 1\", \"2024-2025\", \"11/01/2025\", \"17:00\", \"Stade Francis-Le Bl\\u00e9\", \"Brest\", \"Lyon\", 14735, \"Chardonnet\", \"6.7\"], [12, \"Ligue 1\", \"2024-2025\", \"11/01/2025\", \"17:00\", \"Stade Francis-Le Bl\\u00e9\", \"Brest\", \"Lyon\", 14735, \"Ndiaye\", \"6.9\"], [13, \"Ligue 1\", \"2024-2025\", \"11/01/2025\", \"17:00\", \"Stade Francis-Le Bl\\u00e9\", \"Brest\", \"Lyon\", 14735, \"Ha\\u00efdara\", \"6.5\"], [14, \"Ligue 1\", \"2024-2025\", \"11/01/2025\", \"17:00\", \"Stade Francis-Le Bl\\u00e9\", \"Brest\", \"Lyon\", 14735, \"Magnetti\", \"7.0\"], [15, \"Ligue 1\", \"2024-2025\", \"11/01/2025\", \"17:00\", \"Stade Francis-Le Bl\\u00e9\", \"Brest\", \"Lyon\", 14735, \"Camara\", \"8.3\"], [16, \"Ligue 1\", \"2024-2025\", \"11/01/2025\", \"17:00\", \"Stade Francis-Le Bl\\u00e9\", \"Brest\", \"Lyon\", 14735, \"Fernandes\", \"6.7\"], [17, \"Ligue 1\", \"2024-2025\", \"11/01/2025\", \"17:00\", \"Stade Francis-Le Bl\\u00e9\", \"Brest\", \"Lyon\", 14735, \"Doumbia\", \"7.3\"], [18, \"Ligue 1\", \"2024-2025\", \"11/01/2025\", \"17:00\", \"Stade Francis-Le Bl\\u00e9\", \"Brest\", \"Lyon\", 14735, \"Ajorque\", \"7.8\"], [19, \"Ligue 1\", \"2024-2025\", \"11/01/2025\", \"17:00\", \"Stade Francis-Le Bl\\u00e9\", \"Brest\", \"Lyon\", 14735, \"Bald\\u00e9\", \"7.3\"], [20, \"Ligue 1\", \"2024-2025\", \"11/01/2025\", \"17:00\", \"Stade Francis-Le Bl\\u00e9\", \"Brest\", \"Lyon\", 14735, \"Perri\", \"6.9\"], [21, \"Ligue 1\", \"2024-2025\", \"11/01/2025\", \"17:00\", \"Stade Francis-Le Bl\\u00e9\", \"Brest\", \"Lyon\", 14735, \"Mata\", \"6.3\"], [22, \"Ligue 1\", \"2024-2025\", \"11/01/2025\", \"17:00\", \"Stade Francis-Le Bl\\u00e9\", \"Brest\", \"Lyon\", 14735, \"Caleta-Car\", \"6.6\"], [23, \"Ligue 1\", \"2024-2025\", \"11/01/2025\", \"17:00\", \"Stade Francis-Le Bl\\u00e9\", \"Brest\", \"Lyon\", 14735, \"Niakhat\\u00e9\", \"6.8\"], [24, \"Ligue 1\", \"2024-2025\", \"11/01/2025\", \"17:00\", \"Stade Francis-Le Bl\\u00e9\", \"Brest\", \"Lyon\", 14735, \"Tagliafico\", \"6.2\"], [25, \"Ligue 1\", \"2024-2025\", \"11/01/2025\", \"17:00\", \"Stade Francis-Le Bl\\u00e9\", \"Brest\", \"Lyon\", 14735, \"Tessmann\", \"6.0\"], [26, \"Ligue 1\", \"2024-2025\", \"11/01/2025\", \"17:00\", \"Stade Francis-Le Bl\\u00e9\", \"Brest\", \"Lyon\", 14735, \"Cherki\", \"8.0\"], [27, \"Ligue 1\", \"2024-2025\", \"11/01/2025\", \"17:00\", \"Stade Francis-Le Bl\\u00e9\", \"Brest\", \"Lyon\", 14735, \"Veretout\", \"6.8\"], [28, \"Ligue 1\", \"2024-2025\", \"11/01/2025\", \"17:00\", \"Stade Francis-Le Bl\\u00e9\", \"Brest\", \"Lyon\", 14735, \"Tolisso\", \"6.3\"], [29, \"Ligue 1\", \"2024-2025\", \"11/01/2025\", \"17:00\", \"Stade Francis-Le Bl\\u00e9\", \"Brest\", \"Lyon\", 14735, \"Fofana\", \"6.4\"], [30, \"Ligue 1\", \"2024-2025\", \"11/01/2025\", \"17:00\", \"Stade Francis-Le Bl\\u00e9\", \"Brest\", \"Lyon\", 14735, \"Lacazette\", \"6.6\"], [31, \"Ligue 1\", \"2024-2025\", \"11/01/2025\", \"17:00\", \"Stade Francis-Le Bl\\u00e9\", \"Brest\", \"Lyon\", 14735, \"Nuamah\", \"6.2\"], [32, \"Ligue 1\", \"2024-2025\", \"11/01/2025\", \"17:00\", \"Stade Francis-Le Bl\\u00e9\", \"Brest\", \"Lyon\", 14735, \"Vin\\u00edcius\", \"6.3\"], [33, \"Ligue 1\", \"2024-2025\", \"11/01/2025\", \"17:00\", \"Stade Francis-Le Bl\\u00e9\", \"Brest\", \"Lyon\", 14735, \"Maitland-Niles\", \"6.0\"], [34, \"Ligue 1\", \"2024-2025\", \"11/01/2025\", \"17:00\", \"Stade Francis-Le Bl\\u00e9\", \"Brest\", \"Lyon\", 14735, \"Mikautadze\", \"6.1\"], [35, \"Ligue 1\", \"2024-2025\", \"11/01/2025\", \"17:00\", \"Stade Francis-Le Bl\\u00e9\", \"Brest\", \"Lyon\", 14735, \"Benrahma\", \"6.0\"], [36, \"Ligue 1\", \"2024-2025\", \"11/01/2025\", \"17:00\", \"Stade Francis-Le Bl\\u00e9\", \"Brest\", \"Lyon\", 14735, \"Descamps\", \"NaN\"], [37, \"Ligue 1\", \"2024-2025\", \"11/01/2025\", \"17:00\", \"Stade Francis-Le Bl\\u00e9\", \"Brest\", \"Lyon\", 14735, \"Kumbedi\", \"NaN\"], [38, \"Ligue 1\", \"2024-2025\", \"11/01/2025\", \"17:00\", \"Stade Francis-Le Bl\\u00e9\", \"Brest\", \"Lyon\", 14735, \"Omari\", \"NaN\"], [39, \"Ligue 1\", \"2024-2025\", \"11/01/2025\", \"17:00\", \"Stade Francis-Le Bl\\u00e9\", \"Brest\", \"Lyon\", 14735, \"Diawara\", \"NaN\"], [0, \"Ligue 1\", \"2024-2025\", \"12/01/2025\", \"20:45\", \"Parc des Princes\", \"PSG\", \"Saint-Etienne\", 47580, \"Vitinha\", \"6.1\"], [1, \"Ligue 1\", \"2024-2025\", \"12/01/2025\", \"20:45\", \"Parc des Princes\", \"PSG\", \"Saint-Etienne\", 47580, \"Za\\u00efre-Emery\", \"6.6\"], [2, \"Ligue 1\", \"2024-2025\", \"12/01/2025\", \"20:45\", \"Parc des Princes\", \"PSG\", \"Saint-Etienne\", 47580, \"Dou\\u00e9\", \"6.6\"], [3, \"Ligue 1\", \"2024-2025\", \"12/01/2025\", \"20:45\", \"Parc des Princes\", \"PSG\", \"Saint-Etienne\", 47580, \"Pacho\", \"6.1\"], [4, \"Ligue 1\", \"2024-2025\", \"12/01/2025\", \"20:45\", \"Parc des Princes\", \"PSG\", \"Saint-Etienne\", 47580, \"Neves\", \"NaN\"], [5, \"Ligue 1\", \"2024-2025\", \"12/01/2025\", \"20:45\", \"Parc des Princes\", \"PSG\", \"Saint-Etienne\", 47580, \"Safonov\", \"NaN\"], [6, \"Ligue 1\", \"2024-2025\", \"12/01/2025\", \"20:45\", \"Parc des Princes\", \"PSG\", \"Saint-Etienne\", 47580, \"Asensio\", \"NaN\"], [7, \"Ligue 1\", \"2024-2025\", \"12/01/2025\", \"20:45\", \"Parc des Princes\", \"PSG\", \"Saint-Etienne\", 47580, \"Zague\", \"NaN\"], [8, \"Ligue 1\", \"2024-2025\", \"12/01/2025\", \"20:45\", \"Parc des Princes\", \"PSG\", \"Saint-Etienne\", 47580, \"Tape\", \"NaN\"], [9, \"Ligue 1\", \"2024-2025\", \"12/01/2025\", \"20:45\", \"Parc des Princes\", \"PSG\", \"Saint-Etienne\", 47580, \"Donnarumma\", \"6.2\"], [10, \"Ligue 1\", \"2024-2025\", \"12/01/2025\", \"20:45\", \"Parc des Princes\", \"PSG\", \"Saint-Etienne\", 47580, \"Hakimi\", \"7.6\"], [11, \"Ligue 1\", \"2024-2025\", \"12/01/2025\", \"20:45\", \"Parc des Princes\", \"PSG\", \"Saint-Etienne\", 47580, \"Hern\\u00e1ndez\", \"6.9\"], [12, \"Ligue 1\", \"2024-2025\", \"12/01/2025\", \"20:45\", \"Parc des Princes\", \"PSG\", \"Saint-Etienne\", 47580, \"Beraldo\", \"7.4\"], [13, \"Ligue 1\", \"2024-2025\", \"12/01/2025\", \"20:45\", \"Parc des Princes\", \"PSG\", \"Saint-Etienne\", 47580, \"Mendes\", \"7.5\"], [14, \"Ligue 1\", \"2024-2025\", \"12/01/2025\", \"20:45\", \"Parc des Princes\", \"PSG\", \"Saint-Etienne\", 47580, \"Mayulu\", \"7.1\"], [15, \"Ligue 1\", \"2024-2025\", \"12/01/2025\", \"20:45\", \"Parc des Princes\", \"PSG\", \"Saint-Etienne\", 47580, \"Ruiz\", \"7.1\"], [16, \"Ligue 1\", \"2024-2025\", \"12/01/2025\", \"20:45\", \"Parc des Princes\", \"PSG\", \"Saint-Etienne\", 47580, \"Kang-In\", \"8.1\"], [17, \"Ligue 1\", \"2024-2025\", \"12/01/2025\", \"20:45\", \"Parc des Princes\", \"PSG\", \"Saint-Etienne\", 47580, \"Demb\\u00e9l\\u00e9\", \"8.0\"], [18, \"Ligue 1\", \"2024-2025\", \"12/01/2025\", \"20:45\", \"Parc des Princes\", \"PSG\", \"Saint-Etienne\", 47580, \"Ramos\", \"7.0\"], [19, \"Ligue 1\", \"2024-2025\", \"12/01/2025\", \"20:45\", \"Parc des Princes\", \"PSG\", \"Saint-Etienne\", 47580, \"Barcola\", \"6.6\"], [20, \"Ligue 1\", \"2024-2025\", \"12/01/2025\", \"20:45\", \"Parc des Princes\", \"PSG\", \"Saint-Etienne\", 47580, \"Larsonneur\", \"7.5\"], [21, \"Ligue 1\", \"2024-2025\", \"12/01/2025\", \"20:45\", \"Parc des Princes\", \"PSG\", \"Saint-Etienne\", 47580, \"Appiah\", \"6.4\"], [22, \"Ligue 1\", \"2024-2025\", \"12/01/2025\", \"20:45\", \"Parc des Princes\", \"PSG\", \"Saint-Etienne\", 47580, \"Nad\\u00e9\", \"6.8\"], [23, \"Ligue 1\", \"2024-2025\", \"12/01/2025\", \"20:45\", \"Parc des Princes\", \"PSG\", \"Saint-Etienne\", 47580, \"Batubinsika\", \"6.9\"], [24, \"Ligue 1\", \"2024-2025\", \"12/01/2025\", \"20:45\", \"Parc des Princes\", \"PSG\", \"Saint-Etienne\", 47580, \"P\\u00e9trot\", \"5.9\"], [25, \"Ligue 1\", \"2024-2025\", \"12/01/2025\", \"20:45\", \"Parc des Princes\", \"PSG\", \"Saint-Etienne\", 47580, \"Ekwah\", \"6.3\"], [26, \"Ligue 1\", \"2024-2025\", \"12/01/2025\", \"20:45\", \"Parc des Princes\", \"PSG\", \"Saint-Etienne\", 47580, \"Mouton\", \"5.8\"], [27, \"Ligue 1\", \"2024-2025\", \"12/01/2025\", \"20:45\", \"Parc des Princes\", \"PSG\", \"Saint-Etienne\", 47580, \"Bouchouari\", \"5.9\"], [28, \"Ligue 1\", \"2024-2025\", \"12/01/2025\", \"20:45\", \"Parc des Princes\", \"PSG\", \"Saint-Etienne\", 47580, \"Cafaro\", \"6.6\"], [29, \"Ligue 1\", \"2024-2025\", \"12/01/2025\", \"20:45\", \"Parc des Princes\", \"PSG\", \"Saint-Etienne\", 47580, \"Stassin\", \"6.4\"], [30, \"Ligue 1\", \"2024-2025\", \"12/01/2025\", \"20:45\", \"Parc des Princes\", \"PSG\", \"Saint-Etienne\", 47580, \"Davitashvili\", \"7.4\"], [31, \"Ligue 1\", \"2024-2025\", \"12/01/2025\", \"20:45\", \"Parc des Princes\", \"PSG\", \"Saint-Etienne\", 47580, \"N'Guessan\", \"6.1\"], [32, \"Ligue 1\", \"2024-2025\", \"12/01/2025\", \"20:45\", \"Parc des Princes\", \"PSG\", \"Saint-Etienne\", 47580, \"Boakye\", \"6.2\"], [33, \"Ligue 1\", \"2024-2025\", \"12/01/2025\", \"20:45\", \"Parc des Princes\", \"PSG\", \"Saint-Etienne\", 47580, \"Amougou\", \"6.5\"], [34, \"Ligue 1\", \"2024-2025\", \"12/01/2025\", \"20:45\", \"Parc des Princes\", \"PSG\", \"Saint-Etienne\", 47580, \"Maubleu\", \"NaN\"], [35, \"Ligue 1\", \"2024-2025\", \"12/01/2025\", \"20:45\", \"Parc des Princes\", \"PSG\", \"Saint-Etienne\", 47580, \"Brian\\u00e7on\", \"NaN\"], [36, \"Ligue 1\", \"2024-2025\", \"12/01/2025\", \"20:45\", \"Parc des Princes\", \"PSG\", \"Saint-Etienne\", 47580, \"Fomba\", \"NaN\"], [37, \"Ligue 1\", \"2024-2025\", \"12/01/2025\", \"20:45\", \"Parc des Princes\", \"PSG\", \"Saint-Etienne\", 47580, \"Cornud\", \"NaN\"], [38, \"Ligue 1\", \"2024-2025\", \"12/01/2025\", \"20:45\", \"Parc des Princes\", \"PSG\", \"Saint-Etienne\", 47580, \"Abdelhamid\", \"NaN\"], [39, \"Ligue 1\", \"2024-2025\", \"12/01/2025\", \"20:45\", \"Parc des Princes\", \"PSG\", \"Saint-Etienne\", 47580, \"Miladinovic\", \"NaN\"], [0, \"Ligue 1\", \"2024-2025\", \"11/01/2025\", \"21:05\", \"Roazhon Park\", \"Rennes\", \"Marseille\", 26837, \"Fofana\", \"6.0\"], [1, \"Ligue 1\", \"2024-2025\", \"11/01/2025\", \"21:05\", \"Roazhon Park\", \"Rennes\", \"Marseille\", 26837, \"Ahamada\", \"6.0\"], [2, \"Ligue 1\", \"2024-2025\", \"11/01/2025\", \"21:05\", \"Roazhon Park\", \"Rennes\", \"Marseille\", 26837, \"Gr\\u00f8nb\\u00e6k\", \"6.0\"], [3, \"Ligue 1\", \"2024-2025\", \"11/01/2025\", \"21:05\", \"Roazhon Park\", \"Rennes\", \"Marseille\", 26837, \"Nagida\", \"6.1\"], [4, \"Ligue 1\", \"2024-2025\", \"11/01/2025\", \"21:05\", \"Roazhon Park\", \"Rennes\", \"Marseille\", 26837, \"Kamara\", \"NaN\"], [5, \"Ligue 1\", \"2024-2025\", \"11/01/2025\", \"21:05\", \"Roazhon Park\", \"Rennes\", \"Marseille\", 26837, \"Mandanda\", \"NaN\"], [6, \"Ligue 1\", \"2024-2025\", \"11/01/2025\", \"21:05\", \"Roazhon Park\", \"Rennes\", \"Marseille\", 26837, \"Santamar\\u00eda\", \"NaN\"], [7, \"Ligue 1\", \"2024-2025\", \"11/01/2025\", \"21:05\", \"Roazhon Park\", \"Rennes\", \"Marseille\", 26837, \"Boudlal\", \"NaN\"], [8, \"Ligue 1\", \"2024-2025\", \"11/01/2025\", \"21:05\", \"Roazhon Park\", \"Rennes\", \"Marseille\", 26837, \"Faye\", \"NaN\"], [9, \"Ligue 1\", \"2024-2025\", \"11/01/2025\", \"21:05\", \"Roazhon Park\", \"Rennes\", \"Marseille\", 26837, \"Samba\", \"6.9\"], [10, \"Ligue 1\", \"2024-2025\", \"11/01/2025\", \"21:05\", \"Roazhon Park\", \"Rennes\", \"Marseille\", 26837, \"Wooh\", \"6.6\"], [11, \"Ligue 1\", \"2024-2025\", \"11/01/2025\", \"21:05\", \"Roazhon Park\", \"Rennes\", \"Marseille\", 26837, \"Hateboer\", \"6.6\"], [12, \"Ligue 1\", \"2024-2025\", \"11/01/2025\", \"21:05\", \"Roazhon Park\", \"Rennes\", \"Marseille\", 26837, \"\\u00d8stig\\u00e5rd\", \"6.3\"], [13, \"Ligue 1\", \"2024-2025\", \"11/01/2025\", \"21:05\", \"Roazhon Park\", \"Rennes\", \"Marseille\", 26837, \"Assignon\", \"7.0\"], [14, \"Ligue 1\", \"2024-2025\", \"11/01/2025\", \"21:05\", \"Roazhon Park\", \"Rennes\", \"Marseille\", 26837, \"Truffert\", \"6.0\"], [15, \"Ligue 1\", \"2024-2025\", \"11/01/2025\", \"21:05\", \"Roazhon Park\", \"Rennes\", \"Marseille\", 26837, \"Matusiwa\", \"7.0\"], [16, \"Ligue 1\", \"2024-2025\", \"11/01/2025\", \"21:05\", \"Roazhon Park\", \"Rennes\", \"Marseille\", 26837, \"James\", \"6.5\"], [17, \"Ligue 1\", \"2024-2025\", \"11/01/2025\", \"21:05\", \"Roazhon Park\", \"Rennes\", \"Marseille\", 26837, \"Blas\", \"6.6\"], [18, \"Ligue 1\", \"2024-2025\", \"11/01/2025\", \"21:05\", \"Roazhon Park\", \"Rennes\", \"Marseille\", 26837, \"Gouiri\", \"6.2\"], [19, \"Ligue 1\", \"2024-2025\", \"11/01/2025\", \"21:05\", \"Roazhon Park\", \"Rennes\", \"Marseille\", 26837, \"Kalimuendo\", \"6.6\"], [20, \"Ligue 1\", \"2024-2025\", \"11/01/2025\", \"21:05\", \"Roazhon Park\", \"Rennes\", \"Marseille\", 26837, \"Rulli\", \"7.6\"], [21, \"Ligue 1\", \"2024-2025\", \"11/01/2025\", \"21:05\", \"Roazhon Park\", \"Rennes\", \"Marseille\", 26837, \"Balerdi\", \"6.6\"], [22, \"Ligue 1\", \"2024-2025\", \"11/01/2025\", \"21:05\", \"Roazhon Park\", \"Rennes\", \"Marseille\", 26837, \"Cornelius\", \"6.4\"], [23, \"Ligue 1\", \"2024-2025\", \"11/01/2025\", \"21:05\", \"Roazhon Park\", \"Rennes\", \"Marseille\", 26837, \"Murillo\", \"6.6\"], [24, \"Ligue 1\", \"2024-2025\", \"11/01/2025\", \"21:05\", \"Roazhon Park\", \"Rennes\", \"Marseille\", 26837, \"Henrique\", \"6.8\"], [25, \"Ligue 1\", \"2024-2025\", \"11/01/2025\", \"21:05\", \"Roazhon Park\", \"Rennes\", \"Marseille\", 26837, \"Merlin\", \"6.3\"], [26, \"Ligue 1\", \"2024-2025\", \"11/01/2025\", \"21:05\", \"Roazhon Park\", \"Rennes\", \"Marseille\", 26837, \"H\\u00f8jbjerg\", \"7.1\"], [27, \"Ligue 1\", \"2024-2025\", \"11/01/2025\", \"21:05\", \"Roazhon Park\", \"Rennes\", \"Marseille\", 26837, \"Rongier\", \"7.0\"], [28, \"Ligue 1\", \"2024-2025\", \"11/01/2025\", \"21:05\", \"Roazhon Park\", \"Rennes\", \"Marseille\", 26837, \"Rabiot\", \"7.5\"], [29, \"Ligue 1\", \"2024-2025\", \"11/01/2025\", \"21:05\", \"Roazhon Park\", \"Rennes\", \"Marseille\", 26837, \"Greenwood\", \"8.7\"], [30, \"Ligue 1\", \"2024-2025\", \"11/01/2025\", \"21:05\", \"Roazhon Park\", \"Rennes\", \"Marseille\", 26837, \"Maupay\", \"6.6\"], [31, \"Ligue 1\", \"2024-2025\", \"11/01/2025\", \"21:05\", \"Roazhon Park\", \"Rennes\", \"Marseille\", 26837, \"Rowe\", \"6.1\"], [32, \"Ligue 1\", \"2024-2025\", \"11/01/2025\", \"21:05\", \"Roazhon Park\", \"Rennes\", \"Marseille\", 26837, \"Garcia\", \"6.3\"], [33, \"Ligue 1\", \"2024-2025\", \"11/01/2025\", \"21:05\", \"Roazhon Park\", \"Rennes\", \"Marseille\", 26837, \"Nadir\", \"6.2\"], [34, \"Ligue 1\", \"2024-2025\", \"11/01/2025\", \"21:05\", \"Roazhon Park\", \"Rennes\", \"Marseille\", 26837, \"Kon\\u00e9\", \"NaN\"], [35, \"Ligue 1\", \"2024-2025\", \"11/01/2025\", \"21:05\", \"Roazhon Park\", \"Rennes\", \"Marseille\", 26837, \"Brassier\", \"NaN\"], [36, \"Ligue 1\", \"2024-2025\", \"11/01/2025\", \"21:05\", \"Roazhon Park\", \"Rennes\", \"Marseille\", 26837, \"Bakola\", \"NaN\"], [37, \"Ligue 1\", \"2024-2025\", \"11/01/2025\", \"21:05\", \"Roazhon Park\", \"Rennes\", \"Marseille\", 26837, \"Lange\", \"NaN\"], [38, \"Ligue 1\", \"2024-2025\", \"11/01/2025\", \"21:05\", \"Roazhon Park\", \"Rennes\", \"Marseille\", 26837, \"Me\\u00eft\\u00e9\", \"NaN\"], [39, \"Ligue 1\", \"2024-2025\", \"11/01/2025\", \"21:05\", \"Roazhon Park\", \"Rennes\", \"Marseille\", 26837, \"Vaz\", \"NaN\"]];\n",
       "\n",
       "        // Define the dt_args\n",
       "        let dt_args = {\"layout\": {\"topStart\": \"pageLength\", \"topEnd\": \"search\", \"bottomStart\": \"info\", \"bottomEnd\": \"paging\"}, \"order\": [], \"warn_on_selected_rows_not_rendered\": true, \"filtered_row_count\": 8648, \"fnInfoCallback\": function (oSettings, iStart, iEnd, iMax, iTotal, sPre) { return sPre + ' (<a href=\"https://mwouts.github.io/itables/downsampling.html\">downsampled</a> from 9,467x10 to 819x10 as maxBytes=64KB)'; }};\n",
       "        dt_args[\"data\"] = data;\n",
       "\n",
       "        \n",
       "        new DataTable(table, dt_args);\n",
       "    });\n",
       "</script>\n"
      ],
      "text/plain": [
       "<IPython.core.display.HTML object>"
      ]
     },
     "metadata": {},
     "output_type": "display_data"
    },
    {
     "name": "stdout",
     "output_type": "stream",
     "text": [
      "Errors :\n"
     ]
    },
    {
     "data": {
      "text/html": [
       "<table id=\"itables_9ffd0a92_a20b_414c_a5de_79131ad845a0\" class=\"display nowrap\" data-quarto-disable-processing=\"true\" style=\"table-layout:auto;width:auto;margin:auto;caption-side:bottom\">\n",
       "<thead>\n",
       "    <tr style=\"text-align: right;\">\n",
       "      \n",
       "      <th>0</th>\n",
       "    </tr>\n",
       "  </thead><tbody><tr>\n",
       "<td style=\"vertical-align:middle; text-align:left\">\n",
       "<a href=https://mwouts.github.io/itables/><svg class=\"main-svg\" xmlns=\"http://www.w3.org/2000/svg\" xmlns:xlink=\"http://www.w3.org/1999/xlink\"\n",
       "width=\"64\" viewBox=\"0 0 500 400\" style=\"font-family: 'Droid Sans', sans-serif;\">\n",
       "    <g style=\"fill:#d9d7fc\">\n",
       "        <path d=\"M100,400H500V357H100Z\" />\n",
       "        <path d=\"M100,300H400V257H100Z\" />\n",
       "        <path d=\"M0,200H400V157H0Z\" />\n",
       "        <path d=\"M100,100H500V57H100Z\" />\n",
       "        <path d=\"M100,350H500V307H100Z\" />\n",
       "        <path d=\"M100,250H400V207H100Z\" />\n",
       "        <path d=\"M0,150H400V107H0Z\" />\n",
       "        <path d=\"M100,50H500V7H100Z\" />\n",
       "    </g>\n",
       "    <g style=\"fill:#1a1366;stroke:#1a1366;\">\n",
       "   <rect x=\"100\" y=\"7\" width=\"400\" height=\"43\">\n",
       "    <animate\n",
       "      attributeName=\"width\"\n",
       "      values=\"0;400;0\"\n",
       "      dur=\"5s\"\n",
       "      repeatCount=\"indefinite\" />\n",
       "      <animate\n",
       "      attributeName=\"x\"\n",
       "      values=\"100;100;500\"\n",
       "      dur=\"5s\"\n",
       "      repeatCount=\"indefinite\" />\n",
       "  </rect>\n",
       "        <rect x=\"0\" y=\"107\" width=\"400\" height=\"43\">\n",
       "    <animate\n",
       "      attributeName=\"width\"\n",
       "      values=\"0;400;0\"\n",
       "      dur=\"3.5s\"\n",
       "      repeatCount=\"indefinite\" />\n",
       "    <animate\n",
       "      attributeName=\"x\"\n",
       "      values=\"0;0;400\"\n",
       "      dur=\"3.5s\"\n",
       "      repeatCount=\"indefinite\" />\n",
       "  </rect>\n",
       "        <rect x=\"100\" y=\"207\" width=\"300\" height=\"43\">\n",
       "    <animate\n",
       "      attributeName=\"width\"\n",
       "      values=\"0;300;0\"\n",
       "      dur=\"3s\"\n",
       "      repeatCount=\"indefinite\" />\n",
       "    <animate\n",
       "      attributeName=\"x\"\n",
       "      values=\"100;100;400\"\n",
       "      dur=\"3s\"\n",
       "      repeatCount=\"indefinite\" />\n",
       "  </rect>\n",
       "        <rect x=\"100\" y=\"307\" width=\"400\" height=\"43\">\n",
       "    <animate\n",
       "      attributeName=\"width\"\n",
       "      values=\"0;400;0\"\n",
       "      dur=\"4s\"\n",
       "      repeatCount=\"indefinite\" />\n",
       "      <animate\n",
       "      attributeName=\"x\"\n",
       "      values=\"100;100;500\"\n",
       "      dur=\"4s\"\n",
       "      repeatCount=\"indefinite\" />\n",
       "  </rect>\n",
       "        <g style=\"fill:transparent;stroke-width:8; stroke-linejoin:round\" rx=\"5\">\n",
       "            <g transform=\"translate(45 50) rotate(-45)\">\n",
       "                <circle r=\"33\" cx=\"0\" cy=\"0\" />\n",
       "                <rect x=\"-8\" y=\"32\" width=\"16\" height=\"30\" />\n",
       "            </g>\n",
       "\n",
       "            <g transform=\"translate(450 152)\">\n",
       "                <polyline points=\"-15,-20 -35,-20 -35,40 25,40 25,20\" />\n",
       "                <rect x=\"-15\" y=\"-40\" width=\"60\" height=\"60\" />\n",
       "            </g>\n",
       "\n",
       "            <g transform=\"translate(50 352)\">\n",
       "                <polygon points=\"-35,-5 0,-40 35,-5\" />\n",
       "                <polygon points=\"-35,10 0,45 35,10\" />\n",
       "            </g>\n",
       "\n",
       "            <g transform=\"translate(75 250)\">\n",
       "                <polyline points=\"-30,30 -60,0 -30,-30\" />\n",
       "                <polyline points=\"0,30 -30,0 0,-30\" />\n",
       "            </g>\n",
       "\n",
       "            <g transform=\"translate(425 250) rotate(180)\">\n",
       "                <polyline points=\"-30,30 -60,0 -30,-30\" />\n",
       "                <polyline points=\"0,30 -30,0 0,-30\" />\n",
       "            </g>\n",
       "        </g>\n",
       "    </g>\n",
       "</svg>\n",
       "</a>\n",
       "Loading ITables v2.2.5 from the internet...\n",
       "(need <a href=https://mwouts.github.io/itables/troubleshooting.html>help</a>?)</td>\n",
       "</tr></tbody>\n",
       "</table>\n",
       "<link href=\"https://www.unpkg.com/dt_for_itables@2.0.13/dt_bundle.css\" rel=\"stylesheet\">\n",
       "<script type=\"module\">\n",
       "    import {DataTable, jQuery as $} from 'https://www.unpkg.com/dt_for_itables@2.0.13/dt_bundle.js';\n",
       "\n",
       "    document.querySelectorAll(\"#itables_9ffd0a92_a20b_414c_a5de_79131ad845a0:not(.dataTable)\").forEach(table => {\n",
       "        if (!(table instanceof HTMLTableElement))\n",
       "            return;\n",
       "\n",
       "        // Define the table data\n",
       "        const data = [[\"https://fr.whoscored.com//matches/1824986/live/france-ligue-1-2024-2025-marseille-lille\"], [\"https://fr.whoscored.com//matches/1824987/live/france-ligue-1-2024-2025-paris-saint-germain-lyon\"]];\n",
       "\n",
       "        // Define the dt_args\n",
       "        let dt_args = {\"layout\": {\"topStart\": null, \"topEnd\": null, \"bottomStart\": null, \"bottomEnd\": null}, \"order\": [], \"warn_on_selected_rows_not_rendered\": true};\n",
       "        dt_args[\"data\"] = data;\n",
       "\n",
       "        \n",
       "        new DataTable(table, dt_args);\n",
       "    });\n",
       "</script>\n"
      ],
      "text/plain": [
       "<IPython.core.display.HTML object>"
      ]
     },
     "metadata": {},
     "output_type": "display_data"
    }
   ],
   "source": [
    "links = get_whoscored_links(\"ligue-1\")\n",
    "rates, errors = get_page_rate(links)\n",
    "tools.display_dataframe_to_user(\"Rates :\", rates)\n",
    "try:\n",
    "    tools.display_dataframe_to_user(\"Errors :\", errors)\n",
    "except:\n",
    "    tools.display_dataframe_to_user(\"Errors :\", pd.DataFrame())"
   ]
  }
 ],
 "metadata": {
  "kernelspec": {
   "display_name": ".venv",
   "language": "python",
   "name": "python3"
  },
  "language_info": {
   "codemirror_mode": {
    "name": "ipython",
    "version": 3
   },
   "file_extension": ".py",
   "mimetype": "text/x-python",
   "name": "python",
   "nbconvert_exporter": "python",
   "pygments_lexer": "ipython3",
   "version": "3.12.9"
  }
 },
 "nbformat": 4,
 "nbformat_minor": 2
}
